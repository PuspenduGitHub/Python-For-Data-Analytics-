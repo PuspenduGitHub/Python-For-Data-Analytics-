{
  "nbformat": 4,
  "nbformat_minor": 0,
  "metadata": {
    "colab": {
      "provenance": [],
      "authorship_tag": "ABX9TyMXHNA29lc+ThSOufwisHNN",
      "include_colab_link": true
    },
    "kernelspec": {
      "name": "python3",
      "display_name": "Python 3"
    },
    "language_info": {
      "name": "python"
    }
  },
  "cells": [
    {
      "cell_type": "markdown",
      "metadata": {
        "id": "view-in-github",
        "colab_type": "text"
      },
      "source": [
        "<a href=\"https://colab.research.google.com/github/PuspenduGitHub/Python-For-Data-Analytics-/blob/main/Data_Structure_Advance.ipynb\" target=\"_parent\"><img src=\"https://colab.research.google.com/assets/colab-badge.svg\" alt=\"Open In Colab\"/></a>"
      ]
    },
    {
      "cell_type": "markdown",
      "source": [
        "# **Assignment - Data Structure Advance**\n",
        "\n",
        "# **Q1. Write a code to reverse a string.**\n",
        "\n",
        "**Ans:** Here’s a simple Python code to reverse a string:\n",
        "\n",
        "\n",
        "\n",
        "\n"
      ],
      "metadata": {
        "id": "yttF7IZb0cHj"
      }
    },
    {
      "cell_type": "code",
      "source": [
        "strings = \"Computer\",\"Science\",\"Enginering\"\n",
        "reversed_strings = tuple(s[::-1] for s in strings)\n",
        "print(reversed_strings)"
      ],
      "metadata": {
        "colab": {
          "base_uri": "https://localhost:8080/"
        },
        "id": "p2llqHmc2b2z",
        "outputId": "bd93ac1a-f367-4dc8-a06a-84f527c26bda"
      },
      "execution_count": 1,
      "outputs": [
        {
          "output_type": "stream",
          "name": "stdout",
          "text": [
            "('retupmoC', 'ecneicS', 'gnirenignE')\n"
          ]
        }
      ]
    },
    {
      "cell_type": "markdown",
      "source": [
        "# **Q2. Write a code to count the number of vowels in a string.**\n",
        "\n",
        "**Ans:**\n",
        "\n"
      ],
      "metadata": {
        "id": "Emly1Isg3gsR"
      }
    },
    {
      "cell_type": "code",
      "source": [
        "def count_vowels(s):\n",
        "    # Define a set of vowels (both lowercase and uppercase)\n",
        "    vowels = \"aeiouAEIOU\"\n",
        "    # Initialize a counter\n",
        "    count = 0\n",
        "    # Iterate through the string and check each character\n",
        "    for char in s:\n",
        "        if char in vowels:\n",
        "            count += 1\n",
        "    return count\n",
        "\n",
        "# Example usage\n",
        "input_string = \"Artificial Intelligence\"\n",
        "vowel_count = count_vowels(input_string)\n",
        "print(\"Input String:\", input_string)\n",
        "print(\"Number of Vowels:\", vowel_count)\n"
      ],
      "metadata": {
        "colab": {
          "base_uri": "https://localhost:8080/"
        },
        "id": "V8DtEL305jWA",
        "outputId": "41625f2c-4061-41dd-9c8b-63db85b85706"
      },
      "execution_count": 3,
      "outputs": [
        {
          "output_type": "stream",
          "name": "stdout",
          "text": [
            "Input String: Artificial Intelligence\n",
            "Number of Vowels: 10\n"
          ]
        }
      ]
    },
    {
      "cell_type": "markdown",
      "source": [
        "# **Q3. Write a code to check if a given string is a palindrome or not.**\n",
        "\n",
        "**Ans:**"
      ],
      "metadata": {
        "id": "RwtqYYnw52eI"
      }
    },
    {
      "cell_type": "code",
      "source": [
        "def is_palindrome(s):\n",
        "    # Remove non-alphanumeric characters and convert to lowercase\n",
        "    cleaned = ''.join(char.lower() for char in s if char.isalnum())\n",
        "    # Check if the cleaned string is equal to its reverse\n",
        "    return cleaned == cleaned[::-1]\n",
        "\n",
        "# Example usage\n",
        "input_string = \"A man, a plan, a canal, Panama\"\n",
        "result = is_palindrome(input_string)\n",
        "if result:\n",
        "    print(f'\"{input_string}\" is a palindrome.')\n",
        "else:\n",
        "    print(f'\"{input_string}\" is not a palindrome.')\n"
      ],
      "metadata": {
        "colab": {
          "base_uri": "https://localhost:8080/"
        },
        "id": "dhcJDmjf5994",
        "outputId": "255a4416-c1c5-4831-b777-3831d269ff6a"
      },
      "execution_count": 4,
      "outputs": [
        {
          "output_type": "stream",
          "name": "stdout",
          "text": [
            "\"A man, a plan, a canal, Panama\" is a palindrome.\n"
          ]
        }
      ]
    },
    {
      "cell_type": "markdown",
      "source": [
        "# **Q4. Write a code to check if two given strings are anagrams of each other.**\n",
        "\n",
        "**Ans:**"
      ],
      "metadata": {
        "id": "_3Bvtc8s6kN3"
      }
    },
    {
      "cell_type": "code",
      "source": [
        "def are_anagrams(str1, str2):\n",
        "    # Remove non-alphanumeric characters and convert to lowercase\n",
        "    cleaned_str1 = ''.join(sorted(char.lower() for char in str1 if char.isalnum()))\n",
        "    cleaned_str2 = ''.join(sorted(char.lower() for char in str2 if char.isalnum()))\n",
        "    # Compare the sorted versions of the cleaned strings\n",
        "    return cleaned_str1 == cleaned_str2\n",
        "\n",
        "# Example usage\n",
        "string1 = \"Listen\"\n",
        "string2 = \"Silent\"\n",
        "if are_anagrams(string1, string2):\n",
        "    print(f'\"{string1}\" and \"{string2}\" are anagrams.')\n",
        "else:\n",
        "    print(f'\"{string1}\" and \"{string2}\" are not anagrams.')\n"
      ],
      "metadata": {
        "colab": {
          "base_uri": "https://localhost:8080/"
        },
        "id": "l4sFatVL6rnQ",
        "outputId": "952a7d58-a0c7-40c4-e281-e6490de0de10"
      },
      "execution_count": 6,
      "outputs": [
        {
          "output_type": "stream",
          "name": "stdout",
          "text": [
            "\"Listen\" and \"Silent\" are anagrams.\n"
          ]
        }
      ]
    },
    {
      "cell_type": "markdown",
      "source": [
        "# **Q5. Write a code to find all occurrences of a given substring within another string.**\n",
        "\n",
        "**Ans:**\n",
        "\n"
      ],
      "metadata": {
        "id": "RABFX4mU7SUv"
      }
    },
    {
      "cell_type": "code",
      "source": [
        "def find_all_occurrences(main_string, substring):\n",
        "    # Initialize an empty list to store indices of occurrences\n",
        "    indices = []\n",
        "    # Start searching from the beginning of the string\n",
        "    start = 0\n",
        "    while start < len(main_string):\n",
        "        # Find the next occurrence of the substring\n",
        "        start = main_string.find(substring, start)\n",
        "        if start == -1:  # No more occurrences found\n",
        "            break\n",
        "        indices.append(start)\n",
        "        start += 1  # Move to the next character to find overlapping occurrences\n",
        "    return indices\n",
        "\n",
        "# Example usage\n",
        "main_string = \"This is a test string for testing purposes. Testing is fun.\"\n",
        "substring = \"test\"\n",
        "occurrences = find_all_occurrences(main_string, substring)\n",
        "print(f'Substring \"{substring}\" found at indices: {occurrences}')\n"
      ],
      "metadata": {
        "colab": {
          "base_uri": "https://localhost:8080/"
        },
        "id": "h3D3JPgS7dzf",
        "outputId": "1346dd1f-982f-4d34-caad-ec21b2542bd2"
      },
      "execution_count": 8,
      "outputs": [
        {
          "output_type": "stream",
          "name": "stdout",
          "text": [
            "Substring \"test\" found at indices: [10, 26]\n"
          ]
        }
      ]
    },
    {
      "cell_type": "markdown",
      "source": [
        "# **Q6. Write a code to perform basic string compression using the counts of repeated characters.**\n",
        "\n",
        "**Ans:**"
      ],
      "metadata": {
        "id": "E452qtAt8FFn"
      }
    },
    {
      "cell_type": "code",
      "source": [
        "def compress_string(s):\n",
        "    # Initialize variables\n",
        "    compressed = []\n",
        "    count = 1\n",
        "\n",
        "    # Iterate through the string\n",
        "    for i in range(1, len(s)):\n",
        "        if s[i] == s[i - 1]:  # Check if current character is the same as the previous one\n",
        "            count += 1\n",
        "        else:\n",
        "            # Append the character and its count to the result\n",
        "            compressed.append(s[i - 1] + str(count))\n",
        "            count = 1  # Reset the count\n",
        "\n",
        "    # Add the last character and its count\n",
        "    if s:\n",
        "        compressed.append(s[-1] + str(count))\n",
        "\n",
        "    # Join the compressed parts and return the shorter of the original or compressed string\n",
        "    compressed_string = ''.join(compressed)\n",
        "    return compressed_string if len(compressed_string) < len(s) else s\n",
        "\n",
        "# Example usage\n",
        "input_string = \"aabcccccaaa\"\n",
        "compressed = compress_string(input_string)\n",
        "print(\"Original String:\", input_string)\n",
        "print(\"Compressed String:\", compressed)\n",
        "\n",
        "\n"
      ],
      "metadata": {
        "colab": {
          "base_uri": "https://localhost:8080/"
        },
        "id": "vsEQcNGU8_HO",
        "outputId": "c0bdf645-9957-4d4d-f286-8dce8818b81b"
      },
      "execution_count": 9,
      "outputs": [
        {
          "output_type": "stream",
          "name": "stdout",
          "text": [
            "Original String: aabcccccaaa\n",
            "Compressed String: a2b1c5a3\n"
          ]
        }
      ]
    },
    {
      "cell_type": "markdown",
      "source": [
        "# **Q7. Write a code to determine if a string has all unique characters.**\n",
        "\n",
        "**Ans:**\n",
        "\n"
      ],
      "metadata": {
        "id": "fmdeKDjE9WW0"
      }
    },
    {
      "cell_type": "code",
      "source": [
        "def has_all_unique_characters(s):\n",
        "    # Use a set to track characters\n",
        "    seen = set()\n",
        "    for char in s:\n",
        "        if char in seen:  # If the character is already in the set, it's not unique\n",
        "            return False\n",
        "        seen.add(char)\n",
        "    return True\n",
        "\n",
        "# Example usage\n",
        "input_string = \"abcdefg\"\n",
        "result = has_all_unique_characters(input_string)\n",
        "if result:\n",
        "    print(f'The string \"{input_string}\" has all unique characters.')\n",
        "else:\n",
        "    print(f'The string \"{input_string}\" does not have all unique characters.')\n"
      ],
      "metadata": {
        "colab": {
          "base_uri": "https://localhost:8080/"
        },
        "id": "0qhhLyCI9h5e",
        "outputId": "04929090-44f7-4bd3-f833-093e5e4be336"
      },
      "execution_count": 10,
      "outputs": [
        {
          "output_type": "stream",
          "name": "stdout",
          "text": [
            "The string \"abcdefg\" has all unique characters.\n"
          ]
        }
      ]
    },
    {
      "cell_type": "markdown",
      "source": [
        "# **Q8. Write a code to convert a given string to uppercase or lowercase.**\n",
        "\n",
        "**Ans:**"
      ],
      "metadata": {
        "id": "0VulSLBL-TnH"
      }
    },
    {
      "cell_type": "code",
      "source": [
        "def convert_case(s, to_upper=True):\n",
        "    if to_upper:\n",
        "        return s.upper()  # Convert string to uppercase\n",
        "    else:\n",
        "        return s.lower()  # Convert string to lowercase\n",
        "\n",
        "# Example usage\n",
        "input_string = \"Hello, World!\"\n",
        "uppercase_string = convert_case(input_string, to_upper=True)\n",
        "lowercase_string = convert_case(input_string, to_upper=False)\n",
        "\n",
        "print(\"Original String:\", input_string)\n",
        "print(\"Uppercase:\", uppercase_string)\n",
        "print(\"Lowercase:\", lowercase_string)\n"
      ],
      "metadata": {
        "colab": {
          "base_uri": "https://localhost:8080/"
        },
        "id": "To5VRhQ1-btO",
        "outputId": "b2339cc6-7073-4441-a44c-67e55112132f"
      },
      "execution_count": 11,
      "outputs": [
        {
          "output_type": "stream",
          "name": "stdout",
          "text": [
            "Original String: Hello, World!\n",
            "Uppercase: HELLO, WORLD!\n",
            "Lowercase: hello, world!\n"
          ]
        }
      ]
    },
    {
      "cell_type": "markdown",
      "source": [
        "# **Q9. Write a code to count the number of words in a string.**\n",
        "\n",
        "**Ans:**"
      ],
      "metadata": {
        "id": "Yg7I4lQc-poO"
      }
    },
    {
      "cell_type": "code",
      "source": [
        "def count_words(s):\n",
        "    # Split the string into words using whitespace as a delimiter\n",
        "    words = s.split()\n",
        "    return len(words)\n",
        "\n",
        "# Example usage\n",
        "input_string = \"Hello, world! Welcome to Python programming.\"\n",
        "word_count = count_words(input_string)\n",
        "\n",
        "print(\"Input String:\", input_string)\n",
        "print(\"Number of Words:\", word_count)\n"
      ],
      "metadata": {
        "colab": {
          "base_uri": "https://localhost:8080/"
        },
        "id": "x2uInnNH-y02",
        "outputId": "036bccdc-1143-477e-a36d-15baaf5b2134"
      },
      "execution_count": 12,
      "outputs": [
        {
          "output_type": "stream",
          "name": "stdout",
          "text": [
            "Input String: Hello, world! Welcome to Python programming.\n",
            "Number of Words: 6\n"
          ]
        }
      ]
    },
    {
      "cell_type": "markdown",
      "source": [
        "# **Q10. Write a code to concatenate two strings without using the + operator.**\n",
        "\n",
        "**Ans:**"
      ],
      "metadata": {
        "id": "TCF1e_4q_Pw-"
      }
    },
    {
      "cell_type": "code",
      "source": [
        "def concatenate_strings(str1, str2):\n",
        "    # Using the join() method to concatenate strings\n",
        "    return ''.join([str1, str2])\n",
        "\n",
        "# Example usage\n",
        "string1 = \"Hello,\"\n",
        "string2 = \"World!\"\n",
        "result = concatenate_strings(string1, string2)\n",
        "\n",
        "print(\"Concatenated String:\", result)\n"
      ],
      "metadata": {
        "colab": {
          "base_uri": "https://localhost:8080/"
        },
        "id": "AQCr9xcz_hJG",
        "outputId": "82397e4d-a1b3-4bce-9399-95b35ef6830c"
      },
      "execution_count": 14,
      "outputs": [
        {
          "output_type": "stream",
          "name": "stdout",
          "text": [
            "Concatenated String: Hello,World!\n"
          ]
        }
      ]
    },
    {
      "cell_type": "markdown",
      "source": [
        "# **Q11. Write a code to remove all occurrences of a specific element from a list.**\n",
        "\n",
        "**Ans:**\n",
        "\n"
      ],
      "metadata": {
        "id": "3rLK8DBC_54l"
      }
    },
    {
      "cell_type": "code",
      "source": [
        "def remove_element(lst, element):\n",
        "    # Use list comprehension to create a new list without the specified element\n",
        "    return [item for item in lst if item != element]\n",
        "\n",
        "# Example usage\n",
        "my_list = [1, 2, 3, 4, 2, 5, 2, 6]\n",
        "element_to_remove = 2\n",
        "updated_list = remove_element(my_list, element_to_remove)\n",
        "\n",
        "print(\"Original List:\", my_list)\n",
        "print(\"Updated List:\", updated_list)\n"
      ],
      "metadata": {
        "colab": {
          "base_uri": "https://localhost:8080/"
        },
        "id": "jFHEdg1dAEue",
        "outputId": "e0e8c0c6-920d-4918-d197-464b9a5c11f8"
      },
      "execution_count": 15,
      "outputs": [
        {
          "output_type": "stream",
          "name": "stdout",
          "text": [
            "Original List: [1, 2, 3, 4, 2, 5, 2, 6]\n",
            "Updated List: [1, 3, 4, 5, 6]\n"
          ]
        }
      ]
    },
    {
      "cell_type": "markdown",
      "source": [
        "# **Q12. Implement a code to find the second largest number in a given list of integers.**\n",
        "\n",
        "**Ans:**\n",
        "\n"
      ],
      "metadata": {
        "id": "DvI0EdzeAeVm"
      }
    },
    {
      "cell_type": "code",
      "source": [
        "def second_largest(numbers):\n",
        "    # Ensure the list has at least two unique elements\n",
        "    if len(numbers) < 2:\n",
        "        return None  # Not enough elements to find second largest\n",
        "\n",
        "    # Initialize the largest and second largest numbers\n",
        "    first, second = float('-inf'), float('-inf')\n",
        "\n",
        "    for num in numbers:\n",
        "        if num > first:\n",
        "            second = first  # Update second largest before largest\n",
        "            first = num  # Update largest\n",
        "        elif num > second and num != first:\n",
        "            second = num  # Update second largest\n",
        "\n",
        "    return second if second != float('-inf') else None  # Return None if no second largest\n",
        "\n",
        "# Example usage\n",
        "my_list = [12, 35, 1, 10, 34, 1]\n",
        "result = second_largest(my_list)\n",
        "\n",
        "print(\"Second Largest Number:\", result)\n"
      ],
      "metadata": {
        "colab": {
          "base_uri": "https://localhost:8080/"
        },
        "id": "zkbR-guwAo6e",
        "outputId": "462d4f09-4654-42eb-8199-ea510fc94a08"
      },
      "execution_count": 16,
      "outputs": [
        {
          "output_type": "stream",
          "name": "stdout",
          "text": [
            "Second Largest Number: 34\n"
          ]
        }
      ]
    },
    {
      "cell_type": "markdown",
      "source": [
        "# **Q13. Create a code to count the occurrences of each element in a list and return a dictionary with elements as keys and their counts as values.**\n",
        "\n",
        "**Ans:**\n",
        "\n"
      ],
      "metadata": {
        "id": "NvF5HYzbBIGF"
      }
    },
    {
      "cell_type": "code",
      "source": [
        "def count_occurrences(lst):\n",
        "    # Initialize an empty dictionary to store element counts\n",
        "    count_dict = {}\n",
        "\n",
        "    for item in lst:\n",
        "        # If item is already in dictionary, increment its count, otherwise add it\n",
        "        if item in count_dict:\n",
        "            count_dict[item] += 1\n",
        "        else:\n",
        "            count_dict[item] = 1\n",
        "\n",
        "    return count_dict\n",
        "\n",
        "# Example usage\n",
        "my_list = ['apple', 'banana', 'apple', 'orange', 'banana', 'banana']\n",
        "occurrences = count_occurrences(my_list)\n",
        "\n",
        "print(\"Occurrences:\", occurrences)\n"
      ],
      "metadata": {
        "colab": {
          "base_uri": "https://localhost:8080/"
        },
        "id": "LwTVJpLeBkHi",
        "outputId": "c1a8a2c6-9736-42aa-952c-d2092b4cd952"
      },
      "execution_count": 18,
      "outputs": [
        {
          "output_type": "stream",
          "name": "stdout",
          "text": [
            "Occurrences: {'apple': 2, 'banana': 3, 'orange': 1}\n"
          ]
        }
      ]
    },
    {
      "cell_type": "markdown",
      "source": [
        "# **Q14. Write a code to reverse a list in-place without using any built-in reverse functions.**\n",
        "\n",
        "**Ans:**\n",
        "\n"
      ],
      "metadata": {
        "id": "Vj_ITlc8CKTS"
      }
    },
    {
      "cell_type": "code",
      "source": [
        "def reverse_list_in_place(lst):\n",
        "    # Initialize two pointers: one at the start and one at the end\n",
        "    start, end = 0, len(lst) - 1\n",
        "\n",
        "    # Swap the elements while start is less than end\n",
        "    while start < end:\n",
        "        # Swap the elements at start and end\n",
        "        lst[start], lst[end] = lst[end], lst[start]\n",
        "\n",
        "        # Move the pointers towards each other\n",
        "        start += 1\n",
        "        end -= 1\n",
        "\n",
        "    return lst\n",
        "\n",
        "# Example usage\n",
        "my_list = [1, 2, 3, 4, 5]\n",
        "reversed_list = reverse_list_in_place(my_list)\n",
        "\n",
        "print(\"Reversed List:\", reversed_list)\n"
      ],
      "metadata": {
        "colab": {
          "base_uri": "https://localhost:8080/"
        },
        "id": "RIyY8kkRCWj9",
        "outputId": "551cc1bb-e48e-4e66-b77f-b98ed22b10e7"
      },
      "execution_count": 19,
      "outputs": [
        {
          "output_type": "stream",
          "name": "stdout",
          "text": [
            "Reversed List: [5, 4, 3, 2, 1]\n"
          ]
        }
      ]
    },
    {
      "cell_type": "markdown",
      "source": [
        "# **Q15. Implement a code to find and remove duplicates from a list while preserving the original order of elements.**\n",
        "\n",
        "**Ans:**"
      ],
      "metadata": {
        "id": "l90iuCE5Cl3d"
      }
    },
    {
      "cell_type": "code",
      "source": [
        "def remove_duplicates(lst):\n",
        "    # Initialize an empty set to track seen elements\n",
        "    seen = set()\n",
        "    result = []\n",
        "\n",
        "    # Iterate through the list and add elements that are not in the seen set\n",
        "    for item in lst:\n",
        "        if item not in seen:\n",
        "            result.append(item)\n",
        "            seen.add(item)\n",
        "\n",
        "    return result\n",
        "\n",
        "# Example usage\n",
        "my_list = [1, 2, 3, 2, 4, 5, 3, 6, 1]\n",
        "unique_list = remove_duplicates(my_list)\n",
        "\n",
        "print(\"Original List:\", my_list)\n",
        "print(\"List after removing duplicates:\", unique_list)\n"
      ],
      "metadata": {
        "colab": {
          "base_uri": "https://localhost:8080/"
        },
        "id": "gr66eutyCspl",
        "outputId": "3a569f2e-ceb1-4b2d-ac0d-2aa145143a5b"
      },
      "execution_count": 20,
      "outputs": [
        {
          "output_type": "stream",
          "name": "stdout",
          "text": [
            "Original List: [1, 2, 3, 2, 4, 5, 3, 6, 1]\n",
            "List after removing duplicates: [1, 2, 3, 4, 5, 6]\n"
          ]
        }
      ]
    },
    {
      "cell_type": "markdown",
      "source": [
        "# **Q16. Create a code to check if a given list is sorted (either in ascending or descending order) or not.**\n",
        "\n",
        "**Ans:**"
      ],
      "metadata": {
        "id": "elZq6ngNDjU9"
      }
    },
    {
      "cell_type": "code",
      "source": [
        "def is_sorted(lst):\n",
        "    # Check for ascending order\n",
        "    if all(lst[i] <= lst[i + 1] for i in range(len(lst) - 1)):\n",
        "        return \"The list is sorted in ascending order.\"\n",
        "\n",
        "    # Check for descending order\n",
        "    elif all(lst[i] >= lst[i + 1] for i in range(len(lst) - 1)):\n",
        "        return \"The list is sorted in descending order.\"\n",
        "\n",
        "    # If neither, it's not sorted\n",
        "    else:\n",
        "        return \"The list is not sorted.\"\n",
        "\n",
        "# Example usage\n",
        "my_list = [1, 2, 3, 4, 5]\n",
        "result = is_sorted(my_list)\n",
        "\n",
        "print(result)\n"
      ],
      "metadata": {
        "colab": {
          "base_uri": "https://localhost:8080/"
        },
        "id": "rWYo-lKFDu81",
        "outputId": "0f5e0dd5-e2ce-4859-b6ac-60755459c809"
      },
      "execution_count": 21,
      "outputs": [
        {
          "output_type": "stream",
          "name": "stdout",
          "text": [
            "The list is sorted in ascending order.\n"
          ]
        }
      ]
    },
    {
      "cell_type": "markdown",
      "source": [
        "# **Q17. Write a code to merge two sorted lists into a single sorted list.**\n",
        "\n",
        "**Ans:**"
      ],
      "metadata": {
        "id": "VaUXG_DeEVVs"
      }
    },
    {
      "cell_type": "code",
      "source": [
        "def merge_sorted_lists(list1, list2):\n",
        "    # Initialize pointers for both lists\n",
        "    i, j = 0, 0\n",
        "    merged_list = []\n",
        "\n",
        "    # Merge the two lists while there are elements in both lists\n",
        "    while i < len(list1) and j < len(list2):\n",
        "        if list1[i] < list2[j]:\n",
        "            merged_list.append(list1[i])\n",
        "            i += 1\n",
        "        else:\n",
        "            merged_list.append(list2[j])\n",
        "            j += 1\n",
        "\n",
        "    # If there are remaining elements in list1\n",
        "    while i < len(list1):\n",
        "        merged_list.append(list1[i])\n",
        "        i += 1\n",
        "\n",
        "    # If there are remaining elements in list2\n",
        "    while j < len(list2):\n",
        "        merged_list.append(list2[j])\n",
        "        j += 1\n",
        "\n",
        "    return merged_list\n",
        "\n",
        "# Example usage\n",
        "list1 = [1, 3, 5, 7]\n",
        "list2 = [2, 4, 6, 8]\n",
        "merged = merge_sorted_lists(list1, list2)\n",
        "\n",
        "print(\"Merged Sorted List:\", merged)\n"
      ],
      "metadata": {
        "colab": {
          "base_uri": "https://localhost:8080/"
        },
        "id": "bTzKr6PFEf4V",
        "outputId": "2fa66291-4f6a-47f5-f853-92e79f100325"
      },
      "execution_count": 22,
      "outputs": [
        {
          "output_type": "stream",
          "name": "stdout",
          "text": [
            "Merged Sorted List: [1, 2, 3, 4, 5, 6, 7, 8]\n"
          ]
        }
      ]
    },
    {
      "cell_type": "markdown",
      "source": [
        "# **Q18. Implement a code to find the intersection of two given lists.**\n",
        "\n",
        "**Ans:**"
      ],
      "metadata": {
        "id": "cWW_Bm4BE9G8"
      }
    },
    {
      "cell_type": "code",
      "source": [
        "def intersection_of_lists(list1, list2):\n",
        "    # Convert both lists to sets to remove duplicates and perform intersection\n",
        "    set1 = set(list1)\n",
        "    set2 = set(list2)\n",
        "\n",
        "    # Find the intersection of both sets\n",
        "    intersection = list(set1 & set2)\n",
        "\n",
        "    return intersection\n",
        "\n",
        "# Example usage\n",
        "list1 = [1, 2, 3, 4, 5]\n",
        "list2 = [4, 5, 6, 7, 8]\n",
        "intersection = intersection_of_lists(list1, list2)\n",
        "\n",
        "print(\"Intersection of the two lists:\", intersection)\n"
      ],
      "metadata": {
        "colab": {
          "base_uri": "https://localhost:8080/"
        },
        "id": "TPyTJR5eFf8s",
        "outputId": "f09c5a1d-0778-4e05-d91e-8f9925e6eec4"
      },
      "execution_count": 23,
      "outputs": [
        {
          "output_type": "stream",
          "name": "stdout",
          "text": [
            "Intersection of the two lists: [4, 5]\n"
          ]
        }
      ]
    },
    {
      "cell_type": "markdown",
      "source": [
        "# **Q19. Create a code to find the union of two lists without duplicates.**\n",
        "\n",
        "**Ans:**"
      ],
      "metadata": {
        "id": "U2l24a7fF-Q0"
      }
    },
    {
      "cell_type": "code",
      "source": [
        "def union_of_lists(list1, list2):\n",
        "    # Convert both lists to sets to remove duplicates and perform union\n",
        "    set1 = set(list1)\n",
        "    set2 = set(list2)\n",
        "\n",
        "    # Find the union of both sets\n",
        "    union = list(set1 | set2)\n",
        "\n",
        "    return union\n",
        "\n",
        "# Example usage\n",
        "list1 = [1, 2, 3, 4, 5]\n",
        "list2 = [4, 5, 6, 7, 8]\n",
        "union = union_of_lists(list1, list2)\n",
        "\n",
        "print(\"Union of the two lists:\", union)\n"
      ],
      "metadata": {
        "colab": {
          "base_uri": "https://localhost:8080/"
        },
        "id": "BqZoFewMGQyM",
        "outputId": "aebed4ac-270f-47f8-8032-cfeb6982b0a2"
      },
      "execution_count": 24,
      "outputs": [
        {
          "output_type": "stream",
          "name": "stdout",
          "text": [
            "Union of the two lists: [1, 2, 3, 4, 5, 6, 7, 8]\n"
          ]
        }
      ]
    },
    {
      "cell_type": "markdown",
      "source": [
        "# **Q20. Write a code to shuffle a given list randomly without using any built-in shuffle functions.**\n",
        "\n",
        "**Ans:**"
      ],
      "metadata": {
        "id": "Ifuox2GzISq6"
      }
    },
    {
      "cell_type": "code",
      "source": [
        "import random\n",
        "\n",
        "def custom_shuffle(lst):\n",
        "    n = len(lst)\n",
        "    for i in range(n):\n",
        "        # Generate a random index between i and n-1\n",
        "        random_index = random.randint(i, n-1)\n",
        "\n",
        "        # Swap elements at i and random_index\n",
        "        lst[i], lst[random_index] = lst[random_index], lst[i]\n",
        "\n",
        "# Example usage\n",
        "my_list = [1, 2, 3, 4, 5]\n",
        "print(\"Original List: \",my_list)\n",
        "custom_shuffle(my_list)\n",
        "print(\"Shuffled List:\", my_list)"
      ],
      "metadata": {
        "colab": {
          "base_uri": "https://localhost:8080/"
        },
        "id": "qCzRKmkcId0T",
        "outputId": "3eac7c56-1e05-4b9e-f7f8-2c6a3ee80343"
      },
      "execution_count": 33,
      "outputs": [
        {
          "output_type": "stream",
          "name": "stdout",
          "text": [
            "Original List:  [1, 2, 3, 4, 5]\n",
            "Shuffled List: [5, 1, 2, 3, 4]\n"
          ]
        }
      ]
    },
    {
      "cell_type": "markdown",
      "source": [
        "# **Q21. Write a code that takes two tuples as input and returns a new tuple containing elements that are common to both input tuples.**\n",
        "\n",
        "**Ans:**"
      ],
      "metadata": {
        "id": "M7HXlodZJMmr"
      }
    },
    {
      "cell_type": "code",
      "source": [
        "def common_elements(tuple1, tuple2):\n",
        "    # Convert tuples to sets and find the intersection\n",
        "    common = tuple(set(tuple1) & set(tuple2))\n",
        "\n",
        "    return common\n",
        "\n",
        "# Example usage\n",
        "tuple1 = (1, 2, 3, 4, 5)\n",
        "tuple2 = (4, 5, 6, 7, 8)\n",
        "result = common_elements(tuple1, tuple2)\n",
        "\n",
        "print(\"Common elements:\", result)\n"
      ],
      "metadata": {
        "colab": {
          "base_uri": "https://localhost:8080/"
        },
        "id": "QoSadk5MJ_Qy",
        "outputId": "d06850cb-5d9a-4e5e-f026-9ec64f8709d6"
      },
      "execution_count": 27,
      "outputs": [
        {
          "output_type": "stream",
          "name": "stdout",
          "text": [
            "Common elements: (4, 5)\n"
          ]
        }
      ]
    },
    {
      "cell_type": "markdown",
      "source": [
        "# **Q22. Create a code that prompts the user to enter two sets of integers separated by commas. Then, print the intersection of these two sets.**\n",
        "\n",
        "**Ans:**"
      ],
      "metadata": {
        "id": "Tbeuw4LCM9rB"
      }
    },
    {
      "cell_type": "code",
      "source": [
        "def get_set_from_input(prompt):\n",
        "    # Prompt the user for input and convert the input to a set of integers\n",
        "    user_input = input(prompt)\n",
        "    return set(int(num.strip()) for num in user_input.split(','))\n",
        "\n",
        "def main():\n",
        "    # Get two sets from the user\n",
        "    set1 = get_set_from_input(\"Enter the first set of integers (separated by commas): \")\n",
        "    set2 = get_set_from_input(\"Enter the second set of integers (separated by commas): \")\n",
        "\n",
        "    # Calculate the intersection\n",
        "    intersection = set1 & set2\n",
        "\n",
        "    # Print the result\n",
        "    print(\"The intersection of the two sets is:\", intersection)\n",
        "\n",
        "if __name__ == \"__main__\":\n",
        "    main()"
      ],
      "metadata": {
        "colab": {
          "base_uri": "https://localhost:8080/"
        },
        "id": "Eu1j9GRCONLh",
        "outputId": "7bcead55-0ba8-4c8e-f1b6-9fdc31c6bfe7"
      },
      "execution_count": 35,
      "outputs": [
        {
          "output_type": "stream",
          "name": "stdout",
          "text": [
            "Enter the first set of integers (separated by commas): 1,2,3,4,5,6\n",
            "Enter the second set of integers (separated by commas): 5,6,7,8,9\n",
            "The intersection of the two sets is: {5, 6}\n"
          ]
        }
      ]
    },
    {
      "cell_type": "markdown",
      "source": [
        "# **Q23. Write a code to concatenate two tuples. The function should take two tuples as input and return a new tuple containing elements from both input tuples.**\n",
        "\n",
        "**Ans:**"
      ],
      "metadata": {
        "id": "rMYxiYdrOfYZ"
      }
    },
    {
      "cell_type": "code",
      "source": [
        "def concatenate_tuples(tuple1, tuple2):\n",
        "    # Concatenate the two tuples using the + operator\n",
        "    result_tuple = tuple1 + tuple2\n",
        "    return result_tuple\n",
        "\n",
        "# Example usage\n",
        "tuple1 = (1, 2, 3)\n",
        "tuple2 = (4, 5, 6)\n",
        "result = concatenate_tuples(tuple1, tuple2)\n",
        "\n",
        "print(\"Concatenated Tuple:\", result)\n"
      ],
      "metadata": {
        "colab": {
          "base_uri": "https://localhost:8080/"
        },
        "id": "FUT7EYDpOwAx",
        "outputId": "f90c1618-abbb-4bc3-c945-47f45a46f8cc"
      },
      "execution_count": 36,
      "outputs": [
        {
          "output_type": "stream",
          "name": "stdout",
          "text": [
            "Concatenated Tuple: (1, 2, 3, 4, 5, 6)\n"
          ]
        }
      ]
    },
    {
      "cell_type": "markdown",
      "source": [
        "# **Q24. Develop a code that prompts the user to input two sets of strings. Then, print the elements that are present in the first set but not in the second set.**\n",
        "\n",
        "**Ans:**"
      ],
      "metadata": {
        "id": "yRPJ_3B0PKt4"
      }
    },
    {
      "cell_type": "code",
      "source": [
        "def get_set_from_input(prompt):\n",
        "    # Prompt the user for input and convert the input to a set of strings\n",
        "    user_input = input(prompt)\n",
        "    return set(s.strip() for s in user_input.split(','))\n",
        "\n",
        "def main():\n",
        "    # Get two sets from the user\n",
        "    set1 = get_set_from_input(\"Enter the first set of strings (separated by commas): \")\n",
        "    set2 = get_set_from_input(\"Enter the second set of strings (separated by commas): \")\n",
        "\n",
        "    # Find elements in set1 that are not in set2\n",
        "    difference = set1 - set2\n",
        "\n",
        "    # Print the result\n",
        "    print(\"Elements in the first set but not in the second set:\", difference)\n",
        "\n",
        "if __name__ == \"__main__\":\n",
        "    main()"
      ],
      "metadata": {
        "colab": {
          "base_uri": "https://localhost:8080/"
        },
        "id": "zzd3t_zFP_uJ",
        "outputId": "847b6fb7-bffc-4a47-d805-635fcbbe5cdf"
      },
      "execution_count": 37,
      "outputs": [
        {
          "output_type": "stream",
          "name": "stdout",
          "text": [
            "Enter the first set of strings (separated by commas): apple, banana, cherry\n",
            "Enter the second set of strings (separated by commas): banana, date\n",
            "Elements in the first set but not in the second set: {'cherry', 'apple'}\n"
          ]
        }
      ]
    },
    {
      "cell_type": "markdown",
      "source": [
        "# **Q25. Create a code that takes a tuple and two integers as input. The function should return a new tuple containing elements from the original tuple within the specified range of indices.**\n",
        "\n",
        "**Ans:**"
      ],
      "metadata": {
        "id": "57H3nZSlVX2u"
      }
    },
    {
      "cell_type": "code",
      "source": [
        "def get_elements_in_range(input_tuple, start, end):\n",
        "    # Ensure the indices are within the bounds of the tuple\n",
        "    if start < 0 or end >= len(input_tuple) or start > end:\n",
        "        return \"Invalid indices\"\n",
        "\n",
        "    # Return the new tuple containing elements from the specified range of indices\n",
        "    return input_tuple[start:end+1]\n",
        "\n",
        "# Example usage\n",
        "input_tuple = (10, 20, 30, 40, 50, 60, 70)\n",
        "start_index = 2\n",
        "end_index = 5\n",
        "result = get_elements_in_range(input_tuple, start_index, end_index)\n",
        "\n",
        "print(\"New Tuple:\", result)\n"
      ],
      "metadata": {
        "colab": {
          "base_uri": "https://localhost:8080/"
        },
        "id": "9-jcxy5jV0Cg",
        "outputId": "0c3c1f9c-9b0f-47b5-e381-eee50cfa2b3e"
      },
      "execution_count": 38,
      "outputs": [
        {
          "output_type": "stream",
          "name": "stdout",
          "text": [
            "New Tuple: (30, 40, 50, 60)\n"
          ]
        }
      ]
    },
    {
      "cell_type": "markdown",
      "source": [
        "# **Q26. Write a code that prompts the user to input two sets of characters. Then, print the union of these two sets.**\n",
        "\n",
        "**Ans:**"
      ],
      "metadata": {
        "id": "L46BCuCNWYcm"
      }
    },
    {
      "cell_type": "code",
      "source": [
        "def get_set_from_input(prompt):\n",
        "    # Prompt the user for input and convert the input to a set of characters\n",
        "    user_input = input(prompt)\n",
        "    return set(char.strip() for char in user_input)\n",
        "\n",
        "def main():\n",
        "    # Get two sets from the user\n",
        "    set1 = get_set_from_input(\"Enter the first set of characters (separated by commas): \")\n",
        "    set2 = get_set_from_input(\"Enter the second set of characters (separated by commas): \")\n",
        "\n",
        "    # Calculate the union of the two sets\n",
        "    union_set = set1 | set2\n",
        "\n",
        "    # Print the result\n",
        "    print(\"The union of the two sets is:\", union_set)\n",
        "\n",
        "if __name__ == \"__main__\":\n",
        "    main()"
      ],
      "metadata": {
        "colab": {
          "base_uri": "https://localhost:8080/"
        },
        "id": "TLGQp3eXWfOv",
        "outputId": "0f1ab1c0-651e-4a2d-f099-2b46585540ce"
      },
      "execution_count": 42,
      "outputs": [
        {
          "output_type": "stream",
          "name": "stdout",
          "text": [
            "Enter the first set of characters (separated by commas): abcde\n",
            "Enter the second set of characters (separated by commas): defgh\n",
            "The union of the two sets is: {'h', 'c', 'a', 'f', 'g', 'd', 'e', 'b'}\n"
          ]
        }
      ]
    },
    {
      "cell_type": "markdown",
      "source": [
        "# **Q27. Develop a code that takes a tuple of integers as input. The function should return the maximum and minimum values from the tuple using tuple unpacking.**\n",
        "\n",
        "**Ans:**\n"
      ],
      "metadata": {
        "id": "dsGpYWtwYBAl"
      }
    },
    {
      "cell_type": "code",
      "source": [
        "def find_max_min(input_tuple):\n",
        "    # Use tuple unpacking to assign the maximum and minimum values\n",
        "    max_value, min_value = max(input_tuple), min(input_tuple)\n",
        "    return max_value, min_value\n",
        "\n",
        "# Example usage\n",
        "input_tuple = (10, 20, 5, 40, 15, 60, 30)\n",
        "max_val, min_val = find_max_min(input_tuple)\n",
        "\n",
        "print(\"Maximum value:\", max_val)\n",
        "print(\"Minimum value:\", min_val)\n"
      ],
      "metadata": {
        "colab": {
          "base_uri": "https://localhost:8080/"
        },
        "id": "lq3gE-p3YLSX",
        "outputId": "6f9f76cb-3361-4ca8-f88c-060d11f98c16"
      },
      "execution_count": 43,
      "outputs": [
        {
          "output_type": "stream",
          "name": "stdout",
          "text": [
            "Maximum value: 60\n",
            "Minimum value: 5\n"
          ]
        }
      ]
    },
    {
      "cell_type": "markdown",
      "source": [
        "# **Q28. Create a code that defines two sets of integers. Then, print the union, intersection, and difference of these two sets.**\n",
        "\n",
        "**Ans:**"
      ],
      "metadata": {
        "id": "a9x0lpQ1YbW9"
      }
    },
    {
      "cell_type": "code",
      "source": [
        "def set_operations(set1, set2):\n",
        "    # Union of the two sets\n",
        "    union = set1 | set2\n",
        "    # Intersection of the two sets\n",
        "    intersection = set1 & set2\n",
        "    # Difference of the two sets (elements in set1 but not in set2)\n",
        "    difference = set1 - set2\n",
        "\n",
        "    # Print the results\n",
        "    print(\"Set 1:\", set1)\n",
        "    print(\"Set 2:\", set2)\n",
        "    print(\"Union of the two sets:\", union)\n",
        "    print(\"Intersection of the two sets:\", intersection)\n",
        "    print(\"Difference (set1 - set2):\", difference)\n",
        "\n",
        "# Example usage\n",
        "set1 = {1, 2, 3, 4, 5}\n",
        "set2 = {4, 5, 6, 7, 8}\n",
        "set_operations(set1, set2)\n"
      ],
      "metadata": {
        "colab": {
          "base_uri": "https://localhost:8080/"
        },
        "id": "a77xG3LzYmQ-",
        "outputId": "06884ce0-fad5-42f8-b90f-66c8cd6126d9"
      },
      "execution_count": 44,
      "outputs": [
        {
          "output_type": "stream",
          "name": "stdout",
          "text": [
            "Set 1: {1, 2, 3, 4, 5}\n",
            "Set 2: {4, 5, 6, 7, 8}\n",
            "Union of the two sets: {1, 2, 3, 4, 5, 6, 7, 8}\n",
            "Intersection of the two sets: {4, 5}\n",
            "Difference (set1 - set2): {1, 2, 3}\n"
          ]
        }
      ]
    },
    {
      "cell_type": "markdown",
      "source": [
        "# **Q29. Write a code that takes a tuple and an element as input. The function should return the count of occurrences of the given element in the tuple.**\n",
        "\n",
        "**Ans:**"
      ],
      "metadata": {
        "id": "3lim8TFGZTlW"
      }
    },
    {
      "cell_type": "code",
      "source": [
        "def count_element_in_tuple(input_tuple, element):\n",
        "    # Use the count() method to find the number of occurrences of the element\n",
        "    count = input_tuple.count(element)\n",
        "    return count\n",
        "\n",
        "# Example usage\n",
        "input_tuple = (1, 2, 3, 4, 5, 3, 3, 6)\n",
        "element = 3\n",
        "count = count_element_in_tuple(input_tuple, element)\n",
        "\n",
        "print(f\"The element {element} occurs {count} times in the tuple.\")\n"
      ],
      "metadata": {
        "colab": {
          "base_uri": "https://localhost:8080/"
        },
        "id": "-Pdgnf0Taj51",
        "outputId": "70f6497c-491b-4d42-b2ee-2c3d27b487b7"
      },
      "execution_count": 45,
      "outputs": [
        {
          "output_type": "stream",
          "name": "stdout",
          "text": [
            "The element 3 occurs 3 times in the tuple.\n"
          ]
        }
      ]
    },
    {
      "cell_type": "markdown",
      "source": [
        "# **Q30. Develop a code that prompts the user to input two sets of strings. Then, print the symmetric difference of these two sets.**\n",
        "\n",
        "**Ans:**"
      ],
      "metadata": {
        "id": "178uE75latS9"
      }
    },
    {
      "cell_type": "code",
      "source": [
        "def get_set_from_input(prompt):\n",
        "    # Prompt the user for input and convert the input to a set of strings\n",
        "    user_input = input(prompt)\n",
        "    return set(s.strip() for s in user_input.split(','))\n",
        "\n",
        "def main():\n",
        "    # Get two sets from the user\n",
        "    set1 = get_set_from_input(\"Enter the first set of strings (separated by commas): \")\n",
        "    set2 = get_set_from_input(\"Enter the second set of strings (separated by commas): \")\n",
        "\n",
        "    # Calculate the symmetric difference of the two sets\n",
        "    symmetric_difference = set1 ^ set2\n",
        "\n",
        "    # Print the result\n",
        "    print(\"The symmetric difference of the two sets is:\", symmetric_difference)\n",
        "\n",
        "if __name__ == \"__main__\":\n",
        "    main()"
      ],
      "metadata": {
        "colab": {
          "base_uri": "https://localhost:8080/"
        },
        "id": "y2RSkrh0a22d",
        "outputId": "3d50ffb8-f56c-4b34-a740-e718a6122845"
      },
      "execution_count": 46,
      "outputs": [
        {
          "output_type": "stream",
          "name": "stdout",
          "text": [
            "Enter the first set of strings (separated by commas): apple, banana, cherry\n",
            "Enter the second set of strings (separated by commas): banana, date\n",
            "The symmetric difference of the two sets is: {'cherry', 'apple', 'date'}\n"
          ]
        }
      ]
    },
    {
      "cell_type": "markdown",
      "source": [
        "# **Q31. Write a code that takes a list of words as input and returns a dictionary where the keys are unique words and the values are the frequencies of those words in the input list.**\n",
        "\n",
        "**Ans:**"
      ],
      "metadata": {
        "id": "K1Y3CbQIbWiN"
      }
    },
    {
      "cell_type": "code",
      "source": [
        "def word_frequency(words):\n",
        "    # Create an empty dictionary to store word frequencies\n",
        "    freq_dict = {}\n",
        "\n",
        "    # Iterate over the words in the list\n",
        "    for word in words:\n",
        "        if word in freq_dict:\n",
        "            # If the word is already in the dictionary, increment its count\n",
        "            freq_dict[word] += 1\n",
        "        else:\n",
        "            # If the word is not in the dictionary, add it with a count of 1\n",
        "            freq_dict[word] = 1\n",
        "\n",
        "    return freq_dict\n",
        "\n",
        "# Example usage\n",
        "words_input = input(\"Enter a list of words, separated by spaces: \").split()\n",
        "frequency = word_frequency(words_input)\n",
        "\n",
        "print(\"Word frequencies:\", frequency)\n"
      ],
      "metadata": {
        "colab": {
          "base_uri": "https://localhost:8080/"
        },
        "id": "Qk5nWH2Lcm_8",
        "outputId": "f2b189c0-da2d-4fae-f647-e72babf9e349"
      },
      "execution_count": 47,
      "outputs": [
        {
          "output_type": "stream",
          "name": "stdout",
          "text": [
            "Enter a list of words, separated by spaces: apple banana apple orange apple banana\n",
            "Word frequencies: {'apple': 3, 'banana': 2, 'orange': 1}\n"
          ]
        }
      ]
    },
    {
      "cell_type": "markdown",
      "source": [
        "# **Q32. Write a code that takes two dictionaries as input and merges them into a single dictionary. If there are common keys, the values should be added together.**\n",
        "\n",
        "**Ans:**"
      ],
      "metadata": {
        "id": "Qe3VZJ_5c3z8"
      }
    },
    {
      "cell_type": "code",
      "source": [
        "def merge_dicts(dict1, dict2):\n",
        "    # Create a new dictionary to store the merged result\n",
        "    merged_dict = dict1.copy()  # Start with the contents of dict1\n",
        "\n",
        "    # Iterate through dict2 and update merged_dict\n",
        "    for key, value in dict2.items():\n",
        "        if key in merged_dict:\n",
        "            # If the key exists in both dictionaries, add the values together\n",
        "            merged_dict[key] += value\n",
        "        else:\n",
        "            # If the key does not exist in dict1, just add it to merged_dict\n",
        "            merged_dict[key] = value\n",
        "\n",
        "    return merged_dict\n",
        "\n",
        "# Example usage\n",
        "dict1 = {'apple': 2, 'banana': 3, 'orange': 1}\n",
        "dict2 = {'banana': 4, 'orange': 2, 'grape': 5}\n",
        "\n",
        "merged_result = merge_dicts(dict1, dict2)\n",
        "\n",
        "print(\"Merged dictionary:\", merged_result)\n"
      ],
      "metadata": {
        "colab": {
          "base_uri": "https://localhost:8080/"
        },
        "id": "GHjVczwdc-68",
        "outputId": "15b2ef29-8957-41c5-fe16-6a3203d74ef5"
      },
      "execution_count": 48,
      "outputs": [
        {
          "output_type": "stream",
          "name": "stdout",
          "text": [
            "Merged dictionary: {'apple': 2, 'banana': 7, 'orange': 3, 'grape': 5}\n"
          ]
        }
      ]
    },
    {
      "cell_type": "markdown",
      "source": [
        "# **Q33. Write a code to access a value in a nested dictionary. The function should take the dictionary and a list of keys as input, and return the corresponding value. If any of the keys do not exist in the dictionary, the function should return None.**\n",
        "\n",
        "**Ans:**"
      ],
      "metadata": {
        "id": "-4J-5LaVdT2d"
      }
    },
    {
      "cell_type": "code",
      "source": [
        "def access_nested_dict(nested_dict, keys):\n",
        "    # Start with the nested dictionary\n",
        "    for key in keys:\n",
        "        # Check if the key exists in the current level of the dictionary\n",
        "        if key in nested_dict:\n",
        "            nested_dict = nested_dict[key]  # Move to the next level\n",
        "        else:\n",
        "            return None  # Return None if the key is not found\n",
        "\n",
        "    return nested_dict  # Return the value if all keys are found\n",
        "\n",
        "# Example usage\n",
        "nested_dict = {\n",
        "    'person': {\n",
        "        'name': 'Alice',\n",
        "        'address': {\n",
        "            'city': 'Wonderland',\n",
        "            'postal_code': '12345'\n",
        "        }\n",
        "    }\n",
        "}\n",
        "\n",
        "keys = ['person', 'address', 'city']\n",
        "result = access_nested_dict(nested_dict, keys)\n",
        "\n",
        "print(f\"The value is: {result}\")\n"
      ],
      "metadata": {
        "colab": {
          "base_uri": "https://localhost:8080/"
        },
        "id": "7ZNcczBfdc_E",
        "outputId": "fb701005-fed3-4bc6-a9a0-f8fd2b40e3a5"
      },
      "execution_count": 49,
      "outputs": [
        {
          "output_type": "stream",
          "name": "stdout",
          "text": [
            "The value is: Wonderland\n"
          ]
        }
      ]
    },
    {
      "cell_type": "markdown",
      "source": [
        "# **Q34. Write a code that takes a dictionary as input and returns a sorted version of it based on the values. You can choose whether to sort in ascending or descending order.**\n",
        "\n",
        "**Ans:**"
      ],
      "metadata": {
        "id": "xFmuYjb8eCB6"
      }
    },
    {
      "cell_type": "code",
      "source": [
        "def sort_dict_by_value(input_dict, reverse=False):\n",
        "    # Sort the dictionary based on its values, using the reverse flag for ascending/descending order\n",
        "    sorted_dict = dict(sorted(input_dict.items(), key=lambda item: item[1], reverse=reverse))\n",
        "    return sorted_dict\n",
        "\n",
        "# Example usage\n",
        "input_dict = {\n",
        "    'apple': 2,\n",
        "    'banana': 3,\n",
        "    'orange': 1,\n",
        "    'grape': 4\n",
        "}\n",
        "\n",
        "# Sort in ascending order\n",
        "sorted_asc = sort_dict_by_value(input_dict, reverse=False)\n",
        "print(\"Sorted in ascending order:\", sorted_asc)\n",
        "\n",
        "# Sort in descending order\n",
        "sorted_desc = sort_dict_by_value(input_dict, reverse=True)\n",
        "print(\"Sorted in descending order:\", sorted_desc)\n"
      ],
      "metadata": {
        "colab": {
          "base_uri": "https://localhost:8080/"
        },
        "id": "d-DvvY1OeOtU",
        "outputId": "3b0d6d78-54b0-4b5f-c80b-3995620537ff"
      },
      "execution_count": 50,
      "outputs": [
        {
          "output_type": "stream",
          "name": "stdout",
          "text": [
            "Sorted in ascending order: {'orange': 1, 'apple': 2, 'banana': 3, 'grape': 4}\n",
            "Sorted in descending order: {'grape': 4, 'banana': 3, 'apple': 2, 'orange': 1}\n"
          ]
        }
      ]
    },
    {
      "cell_type": "markdown",
      "source": [
        "# **Q35. Write a code that inverts a dictionary, swapping keys and values. Ensure that the inverted dictionary correctly handles cases where multiple keys have the same value by storing the keys as a list in the inverted dictionary.**\n",
        "\n",
        "**Ans:**\n"
      ],
      "metadata": {
        "id": "eK7TO5teealU"
      }
    },
    {
      "cell_type": "code",
      "source": [
        "def invert_dict(input_dict):\n",
        "    inverted_dict = {}\n",
        "\n",
        "    for key, value in input_dict.items():\n",
        "        if value in inverted_dict:\n",
        "            # If the value already exists as a key in the inverted dictionary, append the current key to the list\n",
        "            inverted_dict[value].append(key)\n",
        "        else:\n",
        "            # If the value is not in the inverted dictionary, create a new list with the current key\n",
        "            inverted_dict[value] = [key]\n",
        "\n",
        "    return inverted_dict\n",
        "\n",
        "# Example usage\n",
        "input_dict = {\n",
        "    'a': 1,\n",
        "    'b': 2,\n",
        "    'c': 1,\n",
        "    'd': 3,\n",
        "    'e': 2\n",
        "}\n",
        "\n",
        "inverted = invert_dict(input_dict)\n",
        "print(\"Inverted dictionary:\", inverted)\n"
      ],
      "metadata": {
        "colab": {
          "base_uri": "https://localhost:8080/"
        },
        "id": "sAdj3q9jemUO",
        "outputId": "742eb12e-6f40-41ca-9342-58b2e21b6b13"
      },
      "execution_count": 51,
      "outputs": [
        {
          "output_type": "stream",
          "name": "stdout",
          "text": [
            "Inverted dictionary: {1: ['a', 'c'], 2: ['b', 'e'], 3: ['d']}\n"
          ]
        }
      ]
    }
  ]
}