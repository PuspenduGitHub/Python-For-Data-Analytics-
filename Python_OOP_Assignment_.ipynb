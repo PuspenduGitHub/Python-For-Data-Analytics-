{
  "nbformat": 4,
  "nbformat_minor": 0,
  "metadata": {
    "colab": {
      "provenance": [],
      "authorship_tag": "ABX9TyNV4vLldh4IIsk4zTTpUBg/"
    },
    "kernelspec": {
      "name": "python3",
      "display_name": "Python 3"
    },
    "language_info": {
      "name": "python"
    }
  },
  "cells": [
    {
      "cell_type": "markdown",
      "source": [
        "# **Assignment - Oops**\n",
        "\n",
        "# **Q1. What are the five key concepts of Object-Oriented Programming (OOP)?**\n",
        "\n",
        "**Ans:** The five key concepts of Object-Oriented Programming (OOP) are:\n",
        "\n",
        "\n",
        "  \n",
        "\n",
        "1.   **Encapsulation:** Encapsulation refers to bundling the data (variables) and the methods (functions) that operate on the data into a single unit or class. It also involves restricting direct access to some of the object's components, which is known as data hiding. This helps protect the integrity of the data by controlling how it can be modified or accessed.\n",
        "\n",
        "2. **Abstraction:** Abstraction is the process of hiding the complex implementation details of an object and exposing only the essential features to the user. It simplifies the use of objects by focusing on what they do rather than how they do it. This allows users to interact with objects through a simplified interface.\n",
        "\n",
        "3. **Inheritance:** Inheritance allows one class (subclass or derived class) to inherit the properties and behaviors (methods) of another class (superclass or base class). It promotes code reusability and establishes a relationship between classes. Inheritance allows subclasses to override or extend the functionality of the base class.\n",
        "\n",
        "4. **Polymorphism:** Polymorphism allows objects of different classes to be treated as objects of a common superclass. It supports the ability of different objects to respond to the same message (or method call) in different ways. Polymorphism is typically achieved through method overriding (runtime) or method overloading (compile-time).\n",
        "\n",
        "5. **Composition:** Composition is a design principle where a class is composed of one or more objects from other classes, allowing for a “has-a” relationship. This promotes flexibility and reusability by enabling complex types to be built from simpler ones.\n",
        "\n",
        "These concepts work together to create a robust framework for organizing and managing code in a modular and efficient way.\n"
      ],
      "metadata": {
        "id": "ufceToObGQ1Z"
      }
    },
    {
      "cell_type": "markdown",
      "source": [
        "# **Q2. Write a Python class for a 'Car' with attributes for 'make', 'model', and 'year'. Include a method to display the car's information.**\n",
        "\n",
        "**Ans:**\n"
      ],
      "metadata": {
        "id": "QNeU2jyyI70a"
      }
    },
    {
      "cell_type": "code",
      "source": [
        "class Car:\n",
        "    def __init__(self, make, model, year):\n",
        "        self.make = make\n",
        "        self.model = model\n",
        "        self.year = year\n",
        "\n",
        "    def display_info(self):\n",
        "        print(f\"Car Information:\\nMake: {self.make}\\nModel: {self.model}\\nYear: {self.year}\")\n",
        "\n",
        "# Example usage:\n",
        "my_car = Car(\"Toyota\", \"Camry\", 2020)\n",
        "my_car.display_info()"
      ],
      "metadata": {
        "colab": {
          "base_uri": "https://localhost:8080/"
        },
        "id": "PcNgT7OHKt-y",
        "outputId": "30775ab1-d006-47f0-b6bb-56bda1067bc8"
      },
      "execution_count": 2,
      "outputs": [
        {
          "output_type": "stream",
          "name": "stdout",
          "text": [
            "Car Information:\n",
            "Make: Toyota\n",
            "Model: Camry\n",
            "Year: 2020\n"
          ]
        }
      ]
    },
    {
      "cell_type": "markdown",
      "source": [
        "## **Explanation:**\n",
        "\n",
        "```\n",
        "*   The __init__ method initializes the attributes make, model, and year.\n",
        "*   The display_info method prints the car's information in a formatted string.\n",
        "*   An example usage shows how to create a Car object and call the display_info method.\n",
        "\n",
        "```\n"
      ],
      "metadata": {
        "id": "pXQBn1GiK-4S"
      }
    },
    {
      "cell_type": "markdown",
      "source": [
        "# **Q3. Explain the difference between instance methods and class methods. Provide an example of each.**\n",
        "\n",
        "**Ans:** In Python, instance methods and class methods are two different types of methods that serve different purposes in a class. Here's an explanation of each along with examples:\n",
        "\n",
        "### **Instance Methods**\n",
        "\n",
        "*   **Definition:** Instance methods are functions defined within a class that operate on instances of that class. They take self as the first parameter, which refers to the specific instance of the class.\n",
        "\n",
        "*   **Purpose:** These methods can access and modify instance attributes.\n",
        "\n",
        "*   **Example:**"
      ],
      "metadata": {
        "id": "Zb4HSkB_L4m7"
      }
    },
    {
      "cell_type": "code",
      "source": [
        "class Car:\n",
        "    # Class attribute (shared by all instances)\n",
        "    total_cars = 0\n",
        "\n",
        "    def __init__(self, make, model, year):\n",
        "        self.make = make\n",
        "        self.model = model\n",
        "        self.year = year\n",
        "        Car.total_cars += 1  # Increment total cars when a new car is created\n",
        "\n",
        "    # Instance method\n",
        "    def display_info(self):\n",
        "        return f\"Car Information: {self.year} {self.make} {self.model}\"\n",
        "\n",
        "# Example usage\n",
        "car1 = Car(\"Toyota\", \"Camry\", 2020)\n",
        "car2 = Car(\"Honda\", \"Civic\", 2021)\n",
        "\n",
        "# Calling the instance method\n",
        "print(car1.display_info())  # Output: Car Information: 2020 Toyota Camry\n",
        "\n"
      ],
      "metadata": {
        "colab": {
          "base_uri": "https://localhost:8080/"
        },
        "id": "_7-f1wzlMt4b",
        "outputId": "8c54ed27-032d-40e1-a099-d6865713e606"
      },
      "execution_count": 3,
      "outputs": [
        {
          "output_type": "stream",
          "name": "stdout",
          "text": [
            "Car Information: 2020 Toyota Camry\n"
          ]
        }
      ]
    },
    {
      "cell_type": "markdown",
      "source": [
        "### **Class Methods**\n",
        "\n",
        "*   **Definition:** Class methods are functions defined within a class that are bound to the class rather than its instances. They take cls as the first parameter, which refers to the class itself.\n",
        "\n",
        "*   **Purpose:** Class methods can be used to access class-level attributes and modify class state. They are decorated with @classmethod.\n",
        "\n",
        "*   **Example:**\n",
        "\n",
        "\n",
        "\n",
        "\n"
      ],
      "metadata": {
        "id": "oLmtQytpOpc8"
      }
    },
    {
      "cell_type": "code",
      "source": [
        "class Car:\n",
        "    # Class attribute (shared by all instances)\n",
        "    total_cars = 0\n",
        "\n",
        "    def __init__(self, make, model, year):\n",
        "        self.make = make\n",
        "        self.model = model\n",
        "        self.year = year\n",
        "        Car.total_cars += 1  # Increment total cars when a new car is created\n",
        "\n",
        "\n",
        "\n",
        "    # Class method\n",
        "    @classmethod\n",
        "    def total_cars_created(cls):\n",
        "        return f\"Total cars created: {cls.total_cars}\"\n",
        "\n",
        "# Example usage\n",
        "car1 = Car(\"Toyota\", \"Camry\", 2020)\n",
        "car2 = Car(\"Honda\", \"Civic\", 2021)\n",
        "\n",
        "\n",
        "# Calling the class method\n",
        "print(Car.total_cars_created())  # Output: Total cars created: 2\n"
      ],
      "metadata": {
        "colab": {
          "base_uri": "https://localhost:8080/"
        },
        "id": "mRjyQDYRPHZs",
        "outputId": "ae9c0361-5cd4-44e0-f633-47cecc4e4bd6"
      },
      "execution_count": 4,
      "outputs": [
        {
          "output_type": "stream",
          "name": "stdout",
          "text": [
            "Total cars created: 2\n"
          ]
        }
      ]
    },
    {
      "cell_type": "markdown",
      "source": [
        "# **Q4. How does Python implement method overloading? Give an example.**\n",
        "\n",
        "**Ans:** Python does not support method overloading in the traditional sense, like some other languages (e.g., Java or C++). Instead, Python allows you to define a method with the same name, but it does not automatically differentiate between them based on the number or type of arguments. The most recent definition of the method will overwrite the previous ones.\n",
        "\n",
        "However, you can achieve similar behavior using default arguments or by using variable-length arguments (*args and **kwargs). Here’s an example of how you can simulate method overloading in Python:\n",
        "\n",
        "**Example Using Default Arguments**\n",
        "\n",
        "\n"
      ],
      "metadata": {
        "id": "xj9j82AqPduc"
      }
    },
    {
      "cell_type": "code",
      "source": [
        "class Calculator:\n",
        "    def add(self, a, b=0, c=0):\n",
        "        return a + b + c\n",
        "\n",
        "# Example usage\n",
        "calc = Calculator()\n",
        "print(calc.add(5))\n",
        "print(calc.add(5, 10))\n",
        "print(calc.add(5, 10, 15))"
      ],
      "metadata": {
        "colab": {
          "base_uri": "https://localhost:8080/"
        },
        "id": "i7xKu205RYQN",
        "outputId": "a908c9f9-b0f5-4c3c-d29c-385e28992eef"
      },
      "execution_count": 5,
      "outputs": [
        {
          "output_type": "stream",
          "name": "stdout",
          "text": [
            "5\n",
            "15\n",
            "30\n"
          ]
        }
      ]
    },
    {
      "cell_type": "markdown",
      "source": [
        "# **Example Using Variable-Length Arguments**\n",
        "\n"
      ],
      "metadata": {
        "id": "c1olQze-RdbV"
      }
    },
    {
      "cell_type": "code",
      "source": [
        "class Calculator:\n",
        "    def add(self, *args):\n",
        "        return sum(args)\n",
        "\n",
        "# Example usage\n",
        "calc = Calculator()\n",
        "print(calc.add(5))\n",
        "print(calc.add(5, 10))\n",
        "print(calc.add(5, 10, 15))\n",
        "print(calc.add(1, 2, 3, 4, 5))\n",
        ""
      ],
      "metadata": {
        "colab": {
          "base_uri": "https://localhost:8080/"
        },
        "id": "SiDe8UY-Rh0l",
        "outputId": "46312f11-1360-4259-ee6b-2440027078b0"
      },
      "execution_count": 6,
      "outputs": [
        {
          "output_type": "stream",
          "name": "stdout",
          "text": [
            "5\n",
            "15\n",
            "30\n",
            "15\n"
          ]
        }
      ]
    },
    {
      "cell_type": "markdown",
      "source": [
        "# **Q5. What are the three types of access modifiers in Python? How are they denoted?**\n",
        "\n",
        "**Ans:** In Python, there are three types of access modifiers that control the visibility and accessibility of class members (attributes and methods). They are:\n",
        "\n",
        "### **1. Public Access Modifier:**\n",
        "\n",
        "*   **Description:** Attributes and methods declared without any leading underscores are considered public. These can be accessed freely from outside the class.\n",
        "\n",
        "*   **Denoted by:** No underscores (default)\n",
        "\n",
        "### **Example:**\n",
        "\n",
        "\n"
      ],
      "metadata": {
        "id": "KvrpQ9SvRpys"
      }
    },
    {
      "cell_type": "code",
      "source": [
        "class MyClass:\n",
        "    def __init__(self):\n",
        "        self.public_var = \"I am public\"\n",
        "\n",
        "    def public_method(self):\n",
        "        return \"Public method called\"\n",
        "\n",
        "obj = MyClass()\n",
        "print(obj.public_var)         # Accessible outside the class\n",
        "print(obj.public_method())    # Accessible outside the class\n"
      ],
      "metadata": {
        "colab": {
          "base_uri": "https://localhost:8080/"
        },
        "id": "cKodBCxsUSLO",
        "outputId": "098262d4-43bc-4017-e7e8-b545738d779d"
      },
      "execution_count": 7,
      "outputs": [
        {
          "output_type": "stream",
          "name": "stdout",
          "text": [
            "I am public\n",
            "Public method called\n"
          ]
        }
      ]
    },
    {
      "cell_type": "markdown",
      "source": [
        "*   **Access:** Public members can be accessed anywhere, both within and outside the class.\n"
      ],
      "metadata": {
        "id": "j-T0nc2ZUvWX"
      }
    },
    {
      "cell_type": "markdown",
      "source": [
        "### **2. Protected Access Modifier:**\n",
        "\n",
        "*  **Description:** Attributes and methods with a single underscore are considered protected. This indicates that they should not be accessed directly from outside the class but can be accessed in subclasses (derived classes). However, Python does not enforce this restriction; it's just a convention.\n",
        "\n",
        "*   **Denoted by:** A single leading underscore (_)\n",
        "\n",
        "### **Example:**\n",
        "\n"
      ],
      "metadata": {
        "id": "SnlnwpkvUcku"
      }
    },
    {
      "cell_type": "code",
      "source": [
        "class MyClass:\n",
        "    def __init__(self):\n",
        "        self._protected_var = \"I am protected\"\n",
        "\n",
        "    def _protected_method(self):\n",
        "        return \"Protected method called\"\n",
        "\n",
        "obj = MyClass()\n",
        "print(obj._protected_var)         # Can be accessed, but not recommended\n",
        "print(obj._protected_method())    # Can be accessed, but not recommended\n"
      ],
      "metadata": {
        "colab": {
          "base_uri": "https://localhost:8080/"
        },
        "id": "Nva2kD2gVFId",
        "outputId": "2d312810-d81e-4411-d287-ccd8c23b4a2d"
      },
      "execution_count": 8,
      "outputs": [
        {
          "output_type": "stream",
          "name": "stdout",
          "text": [
            "I am protected\n",
            "Protected method called\n"
          ]
        }
      ]
    },
    {
      "cell_type": "markdown",
      "source": [
        "*   **Access:** While the single underscore signals that this is a protected member (meant for internal use), it is still accessible outside the class, though this is discouraged by convention. It's meant to be used by subclasses.\n"
      ],
      "metadata": {
        "id": "vlJmHn04VWYu"
      }
    },
    {
      "cell_type": "markdown",
      "source": [
        "### **3. Private Access Modifier:**\n",
        "\n",
        "*   **Description:** Attributes and methods with a double underscore are considered private. This makes them inaccessible from outside the class, as Python uses name mangling to prevent direct access.\n",
        "\n",
        "*   **Denoted by:** A double leading underscore (__)\n",
        "\n"
      ],
      "metadata": {
        "id": "WlsZQZ7IVdZH"
      }
    },
    {
      "cell_type": "code",
      "source": [
        "class MyClass:\n",
        "    def __init__(self):\n",
        "        self.__private_var = \"I am private\"\n",
        "\n",
        "    def __private_method(self):\n",
        "        return \"Private method called\"\n",
        "\n",
        "obj = MyClass()\n",
        "# print(obj.__private_var)        # This would raise an AttributeError\n",
        "# print(obj.__private_method())   # This would raise an AttributeError\n",
        "\n",
        "# Accessing through name mangling\n",
        "print(obj._MyClass__private_var)  # Accessing through name mangling\n",
        "print(obj._MyClass__private_method())  # Accessing through name mangling\n"
      ],
      "metadata": {
        "colab": {
          "base_uri": "https://localhost:8080/"
        },
        "id": "5mlnOjKsV2A-",
        "outputId": "adbc5f5a-e528-4a64-bd80-b678a2fd4e91"
      },
      "execution_count": 9,
      "outputs": [
        {
          "output_type": "stream",
          "name": "stdout",
          "text": [
            "I am private\n",
            "Private method called\n"
          ]
        }
      ]
    },
    {
      "cell_type": "markdown",
      "source": [
        "*   **Access:** Private members are not directly accessible outside the class. However, Python uses name mangling, which allows access using a modified name (_ClassName__attribute), though this is strongly discouraged and should be avoided in practice."
      ],
      "metadata": {
        "id": "sfFGw-D-V4ue"
      }
    },
    {
      "cell_type": "markdown",
      "source": [
        "# **Q6. Describe the five types of inheritance in Python. Provide a simple example of multiple inheritance.**\n",
        "\n",
        "**Ans:** Five Types of Inheritance in Python\n",
        "\n",
        "1. **Single Inheritance:**\n",
        "*   A subclass inherits from a single base class.\n",
        "\n",
        "**Example:**\n",
        "\n",
        "\n"
      ],
      "metadata": {
        "id": "NdKfKcNTWBqv"
      }
    },
    {
      "cell_type": "code",
      "source": [
        "class Animal:\n",
        "    def speak(self):\n",
        "        return \"Animal speaks\"\n",
        "\n",
        "class Dog(Animal):\n",
        "    def bark(self):\n",
        "        return \"Woof!\"\n",
        "\n",
        "dog = Dog()\n",
        "print(dog.speak())\n",
        "print(dog.bark())"
      ],
      "metadata": {
        "colab": {
          "base_uri": "https://localhost:8080/"
        },
        "id": "HyWpoEvQYIbx",
        "outputId": "919b56ff-30f8-40ef-a61b-df1f45542805"
      },
      "execution_count": 10,
      "outputs": [
        {
          "output_type": "stream",
          "name": "stdout",
          "text": [
            "Animal speaks\n",
            "Woof!\n"
          ]
        }
      ]
    },
    {
      "cell_type": "markdown",
      "source": [
        "2. **Multiple Inheritance:**\n",
        "\n",
        "*   A subclass inherits from more than one base class.\n",
        "\n",
        "**Example:**\n",
        "\n"
      ],
      "metadata": {
        "id": "5JgIFsTXiuQc"
      }
    },
    {
      "cell_type": "code",
      "source": [
        "class Flyer:\n",
        "    def fly(self):\n",
        "        return \"I can fly!\"\n",
        "\n",
        "class Swimmer:\n",
        "    def swim(self):\n",
        "        return \"I can swim!\"\n",
        "\n",
        "class Duck(Flyer, Swimmer):\n",
        "    def quack(self):\n",
        "        return \"Quack!\"\n",
        "\n",
        "duck = Duck()\n",
        "print(duck.fly())\n",
        "print(duck.swim())\n",
        "print(duck.quack())"
      ],
      "metadata": {
        "colab": {
          "base_uri": "https://localhost:8080/"
        },
        "id": "9lyk9RiyjR52",
        "outputId": "25d63344-cc95-441b-bc68-7f98b2af9794"
      },
      "execution_count": 11,
      "outputs": [
        {
          "output_type": "stream",
          "name": "stdout",
          "text": [
            "I can fly!\n",
            "I can swim!\n",
            "Quack!\n"
          ]
        }
      ]
    },
    {
      "cell_type": "markdown",
      "source": [
        "3. **Multilevel Inheritance:**\n",
        "\n",
        "*   A subclass inherits from a class, which in turn inherits from another class, forming a multi-level chain.\n",
        "\n",
        "**Example:**\n",
        "\n"
      ],
      "metadata": {
        "id": "MMNQ74jJjo8V"
      }
    },
    {
      "cell_type": "code",
      "source": [
        "class Animal:\n",
        "    def speak(self):\n",
        "        return \"Animal speaks\"\n",
        "\n",
        "class Dog(Animal):\n",
        "    def bark(self):\n",
        "        return \"Woof!\"\n",
        "\n",
        "class Puppy(Dog):\n",
        "    def whimper(self):\n",
        "        return \"Whimper!\"\n",
        "\n",
        "puppy = Puppy()\n",
        "print(puppy.speak())\n",
        "print(puppy.bark())\n",
        "print(puppy.whimper())"
      ],
      "metadata": {
        "colab": {
          "base_uri": "https://localhost:8080/"
        },
        "id": "6VICxTSKj2vl",
        "outputId": "1b5892c1-8a0f-412b-d28e-508e0b4b89a2"
      },
      "execution_count": 12,
      "outputs": [
        {
          "output_type": "stream",
          "name": "stdout",
          "text": [
            "Animal speaks\n",
            "Woof!\n",
            "Whimper!\n"
          ]
        }
      ]
    },
    {
      "cell_type": "markdown",
      "source": [
        "4. **Hierarchical Inheritance:**\n",
        "\n",
        "*   Multiple subclasses inherit from the same base class.\n",
        "\n",
        "**Example:**\n"
      ],
      "metadata": {
        "id": "--ylz1U8kEWu"
      }
    },
    {
      "cell_type": "code",
      "source": [
        "class Animal:\n",
        "    def speak(self):\n",
        "        return \"Animal speaks\"\n",
        "\n",
        "class Dog(Animal):\n",
        "    def bark(self):\n",
        "        return \"Woof!\"\n",
        "\n",
        "class Cat(Animal):\n",
        "    def meow(self):\n",
        "        return \"Meow!\"\n",
        "\n",
        "dog = Dog()\n",
        "cat = Cat()\n",
        "print(dog.speak())\n",
        "print(cat.speak())\n",
        "print(dog.bark())\n",
        "print(cat.meow())"
      ],
      "metadata": {
        "colab": {
          "base_uri": "https://localhost:8080/"
        },
        "id": "mWHSfhqwkYLV",
        "outputId": "be8e4b51-8a23-4e66-957c-466f45c4f5ee"
      },
      "execution_count": 13,
      "outputs": [
        {
          "output_type": "stream",
          "name": "stdout",
          "text": [
            "Animal speaks\n",
            "Animal speaks\n",
            "Woof!\n",
            "Meow!\n"
          ]
        }
      ]
    },
    {
      "cell_type": "markdown",
      "source": [
        "5. **Hybrid Inheritance:**\n",
        "\n",
        "*   A combination of two or more types of inheritance (like multiple and multilevel) in a complex hierarchy.\n",
        "\n",
        "**Example:**\n",
        "\n"
      ],
      "metadata": {
        "id": "QMyg9uHzkpX2"
      }
    },
    {
      "cell_type": "code",
      "source": [
        "# Base class\n",
        "class Vehicle:\n",
        "    def start(self):\n",
        "        return \"Vehicle started\"\n",
        "\n",
        "# Subclasses for hierarchical inheritance\n",
        "class Car(Vehicle):\n",
        "    def drive(self):\n",
        "        return \"Driving on the road\"\n",
        "\n",
        "class Bike(Vehicle):\n",
        "    def ride(self):\n",
        "        return \"Riding the bike\"\n",
        "\n",
        "# Additional class for multiple inheritance\n",
        "class Plane:\n",
        "    def fly(self):\n",
        "        return \"Flying in the sky\"\n",
        "\n",
        "# Hybrid inheritance: FlyingCar inherits from both Car and Plane\n",
        "class FlyingCar(Car, Plane):\n",
        "    def fly_and_drive(self):\n",
        "        return f\"{self.drive()} and {self.fly()}\"\n",
        "\n",
        "# Creating instances\n",
        "car = Car()\n",
        "bike = Bike()\n",
        "flying_car = FlyingCar()\n",
        "\n",
        "# Using methods from different inheritance levels\n",
        "print(car.start())              # Inherited from Vehicle\n",
        "print(car.drive())              # Defined in Car\n",
        "print(bike.start())             # Inherited from Vehicle\n",
        "print(bike.ride())              # Defined in Bike\n",
        "print(flying_car.start())       # Inherited from Vehicle (through Car)\n",
        "print(flying_car.fly_and_drive())  # Inherited from both Car and Plane\n"
      ],
      "metadata": {
        "colab": {
          "base_uri": "https://localhost:8080/"
        },
        "id": "bVacMz4zk8QN",
        "outputId": "e4631523-7f48-4bdc-8b6b-6dbcc52544af"
      },
      "execution_count": 16,
      "outputs": [
        {
          "output_type": "stream",
          "name": "stdout",
          "text": [
            "Vehicle started\n",
            "Driving on the road\n",
            "Vehicle started\n",
            "Riding the bike\n",
            "Vehicle started\n",
            "Driving on the road and Flying in the sky\n"
          ]
        }
      ]
    },
    {
      "cell_type": "markdown",
      "source": [
        "# **Q7. What is the Method Resolution Order (MRO) in Python? How can you retrieve it programmatically?**\n",
        "\n",
        "**Ans:** **Method Resolution Order (MRO)** in Python is the order in which classes are looked up when searching for a method or an attribute. This is particularly important in multiple inheritance scenarios, where the same method might exist in more than one parent class.\n",
        "\n",
        "**Python uses the C3 linearization algorithm to determine the MRO, ensuring that:**\n",
        "\n",
        "1. A class is always considered before its parent classes.\n",
        "\n",
        "2. The order of parent classes is preserved.\n",
        "\n",
        "3. A class cannot appear before its parents in the MRO.\n",
        "\n",
        "\n",
        "### **How to Retrieve MRO Programmatically**\n",
        "\n",
        "*   You can retrieve the MRO of a class using the mro attribute or the mro() method.\n",
        "\n",
        "**Example:**\n",
        "\n"
      ],
      "metadata": {
        "id": "9rsVksUAmzQW"
      }
    },
    {
      "cell_type": "code",
      "source": [
        "class A:\n",
        "    pass\n",
        "\n",
        "class B(A):\n",
        "    pass\n",
        "\n",
        "class C(A):\n",
        "    pass\n",
        "\n",
        "class D(B, C):  # D inherits from B and C\n",
        "    pass\n",
        "\n",
        "# Retrieve MRO using __mro__ attribute\n",
        "print(D.__mro__)\n",
        "\n",
        "# Retrieve MRO using mro() method\n",
        "print(D.mro())"
      ],
      "metadata": {
        "colab": {
          "base_uri": "https://localhost:8080/"
        },
        "id": "EbfloyM9n4U_",
        "outputId": "53288ce5-0730-4d21-f9a3-5dff251514db"
      },
      "execution_count": 17,
      "outputs": [
        {
          "output_type": "stream",
          "name": "stdout",
          "text": [
            "(<class '__main__.D'>, <class '__main__.B'>, <class '__main__.C'>, <class '__main__.A'>, <class 'object'>)\n",
            "[<class '__main__.D'>, <class '__main__.B'>, <class '__main__.C'>, <class '__main__.A'>, <class 'object'>]\n"
          ]
        }
      ]
    },
    {
      "cell_type": "markdown",
      "source": [
        "# **Q8. Create an abstract base class Shape with an abstract method area(). Then create two subclasses Circle and Rectangle that implement the area() method**\n",
        "\n",
        "**Ans:** Here's how you can create an abstract base class Shape with an abstract method area(), and then create two subclasses, Circle and Rectangle, that implement the area() method.\n",
        "\n",
        "### **Step 1: Create the Abstract Base Class**\n",
        "You will use the abc module to define the abstract base class.\n",
        "\n",
        "\n",
        "\n",
        "\n",
        "\n",
        "\n",
        "\n",
        "\n"
      ],
      "metadata": {
        "id": "cWcTqlSaoU9G"
      }
    },
    {
      "cell_type": "code",
      "source": [
        "from abc import ABC, abstractmethod\n",
        "import math\n",
        "\n",
        "class Shape(ABC):\n",
        "    @abstractmethod\n",
        "    def area(self):\n",
        "        pass"
      ],
      "metadata": {
        "id": "DaISLbM6p1pA"
      },
      "execution_count": 18,
      "outputs": []
    },
    {
      "cell_type": "markdown",
      "source": [
        "### **Step 2: Create Subclasses**\n",
        "Now, implement the Circle and Rectangle classes that inherit from Shape and define the area() method.\n",
        "\n",
        "\n"
      ],
      "metadata": {
        "id": "IMgUBuOap3O4"
      }
    },
    {
      "cell_type": "code",
      "source": [
        "class Circle(Shape):\n",
        "    def __init__(self, radius):\n",
        "        self.radius = radius\n",
        "\n",
        "    def area(self):\n",
        "        return math.pi * (self.radius ** 2)\n",
        "\n",
        "class Rectangle(Shape):\n",
        "    def __init__(self, width, height):\n",
        "        self.width = width\n",
        "        self.height = height\n",
        "\n",
        "    def area(self):\n",
        "        return self.width * self.height"
      ],
      "metadata": {
        "id": "SzXoGmqCp-LI"
      },
      "execution_count": 19,
      "outputs": []
    },
    {
      "cell_type": "markdown",
      "source": [
        "### **Step 3: Example Usage**\n",
        "You can now create instances of Circle and Rectangle and call their area() methods\n",
        "\n",
        "\n"
      ],
      "metadata": {
        "id": "4fJZOq1xqBLv"
      }
    },
    {
      "cell_type": "code",
      "source": [
        "# Example usage\n",
        "circle = Circle(5)\n",
        "print(f\"Area of the circle: {circle.area():.2f}\")\n",
        "\n",
        "rectangle = Rectangle(4, 6)\n",
        "print(f\"Area of the rectangle: {rectangle.area()}\")"
      ],
      "metadata": {
        "colab": {
          "base_uri": "https://localhost:8080/"
        },
        "id": "jmNaZ9HxqHaf",
        "outputId": "f295f105-0845-4a87-9816-f2c82d311f00"
      },
      "execution_count": 20,
      "outputs": [
        {
          "output_type": "stream",
          "name": "stdout",
          "text": [
            "Area of the circle: 78.54\n",
            "Area of the rectangle: 24\n"
          ]
        }
      ]
    },
    {
      "cell_type": "markdown",
      "source": [
        "# **Q9. Demonstrate polymorphism by creating a function that can work with different shape objects to calculate and print their areas.**\n",
        "\n",
        "**Ans:** Polymorphism allows us to use a common interface for different data types. In this case, we can create a function that accepts various shape objects and calculates their areas. Here’s how you can implement this using the previously defined Shape, Circle, and Rectangle classes.\n",
        "\n",
        "### **Step 1: Define the Shape Classes**\n",
        "\n",
        "Make sure you have the Shape, Circle, and Rectangle classes defined as shown before.\n",
        "\n",
        "### **Step 2: Create the Polymorphic Function**\n",
        "\n",
        "You can create a function called print_area that takes a Shape object and prints its area.\n",
        "\n",
        "\n",
        "\n",
        "\n",
        "\n",
        "\n"
      ],
      "metadata": {
        "id": "KwE_eWmKqK7f"
      }
    },
    {
      "cell_type": "code",
      "source": [
        "def print_area(shape):\n",
        "    print(f\"The area of the shape is: {shape.area():.2f}\")"
      ],
      "metadata": {
        "id": "37K75oMPqyNw"
      },
      "execution_count": 21,
      "outputs": []
    },
    {
      "cell_type": "markdown",
      "source": [
        "### **Step 3: Example Usage**\n",
        "\n",
        "Now you can create instances of Circle and Rectangle, and pass them to the print_area function.\n",
        "\n",
        "\n"
      ],
      "metadata": {
        "id": "3AiSAaqQqzog"
      }
    },
    {
      "cell_type": "code",
      "source": [
        "# Example usage\n",
        "circle = Circle(5)\n",
        "rectangle = Rectangle(4, 6)\n",
        "\n",
        "print_area(circle)\n",
        "print_area(rectangle)"
      ],
      "metadata": {
        "colab": {
          "base_uri": "https://localhost:8080/"
        },
        "id": "gB88J8Zjq5dg",
        "outputId": "3eeeae12-b5c6-4494-a278-19d0195ada86"
      },
      "execution_count": 22,
      "outputs": [
        {
          "output_type": "stream",
          "name": "stdout",
          "text": [
            "The area of the shape is: 78.54\n",
            "The area of the shape is: 24.00\n"
          ]
        }
      ]
    },
    {
      "cell_type": "markdown",
      "source": [
        "### **Full Code Example:**\n",
        "\n",
        "Here’s the complete code combining all the components:\n",
        "\n"
      ],
      "metadata": {
        "id": "-bA-hQt5q8WR"
      }
    },
    {
      "cell_type": "code",
      "source": [
        "from abc import ABC, abstractmethod\n",
        "import math\n",
        "\n",
        "# Abstract Base Class\n",
        "class Shape(ABC):\n",
        "    @abstractmethod\n",
        "    def area(self):\n",
        "        pass\n",
        "\n",
        "# Subclass for Circle\n",
        "class Circle(Shape):\n",
        "    def __init__(self, radius):\n",
        "        self.radius = radius\n",
        "\n",
        "    def area(self):\n",
        "        return math.pi * (self.radius ** 2)\n",
        "\n",
        "# Subclass for Rectangle\n",
        "class Rectangle(Shape):\n",
        "    def __init__(self, width, height):\n",
        "        self.width = width\n",
        "        self.height = height\n",
        "\n",
        "    def area(self):\n",
        "        return self.width * self.height\n",
        "\n",
        "# Polymorphic function\n",
        "def print_area(shape):\n",
        "    print(f\"The area of the shape is: {shape.area():.2f}\")\n",
        "\n",
        "# Example usage\n",
        "circle = Circle(5)\n",
        "rectangle = Rectangle(4, 6)\n",
        "\n",
        "print_area(circle)\n",
        "print_area(rectangle)"
      ],
      "metadata": {
        "colab": {
          "base_uri": "https://localhost:8080/"
        },
        "id": "1uuO72SCrDKo",
        "outputId": "9ef6c308-f4c5-4bcc-c7b6-66623a15abe2"
      },
      "execution_count": 23,
      "outputs": [
        {
          "output_type": "stream",
          "name": "stdout",
          "text": [
            "The area of the shape is: 78.54\n",
            "The area of the shape is: 24.00\n"
          ]
        }
      ]
    },
    {
      "cell_type": "markdown",
      "source": [
        "# **Q10. Implement encapsulation in a `BankAccount` class with private attributes for `balance` and `account_number`. Include methods for deposit, withdrawal, and balance inquiry.**\n",
        "\n",
        "**Ans:** Here's how you can implement encapsulation in a BankAccount class with private attributes for balance and account_number. This class will include methods for depositing, withdrawing, and inquiring about the balance.\n",
        "\n",
        "### **Implementation of the BankAccount Class**\n"
      ],
      "metadata": {
        "id": "MqA4oEySrPdQ"
      }
    },
    {
      "cell_type": "code",
      "source": [
        "class BankAccount:\n",
        "    def __init__(self, account_number, initial_balance=0):\n",
        "        self.__account_number = account_number  # Private attribute\n",
        "        self.__balance = initial_balance         # Private attribute\n",
        "\n",
        "    def deposit(self, amount):\n",
        "        if amount > 0:\n",
        "            self.__balance += amount\n",
        "            print(f\"Deposited: ${amount:.2f}\")\n",
        "        else:\n",
        "            print(\"Deposit amount must be positive.\")\n",
        "\n",
        "    def withdraw(self, amount):\n",
        "        if 0 < amount <= self.__balance:\n",
        "            self.__balance -= amount\n",
        "            print(f\"Withdrew: ${amount:.2f}\")\n",
        "        else:\n",
        "            print(\"Invalid withdrawal amount.\")\n",
        "\n",
        "    def get_balance(self):\n",
        "        return self.__balance\n",
        "\n",
        "    def get_account_number(self):\n",
        "        return self.__account_number\n",
        "\n",
        "# Example usage\n",
        "if __name__ == \"__main__\":\n",
        "    account = BankAccount(\"123456789\", 1000)\n",
        "\n",
        "    print(f\"Account Number: {account.get_account_number()}\")\n",
        "    print(f\"Initial Balance: ${account.get_balance():.2f}\")\n",
        "\n",
        "    account.deposit(500)\n",
        "    print(f\"New Balance: ${account.get_balance():.2f}\")\n",
        "\n",
        "    account.withdraw(200)\n",
        "    print(f\"New Balance: ${account.get_balance():.2f}\")\n",
        "\n",
        "    account.withdraw(2000)  # Invalid withdrawal"
      ],
      "metadata": {
        "colab": {
          "base_uri": "https://localhost:8080/"
        },
        "id": "v9J7NBeTsVGY",
        "outputId": "75c81757-e246-4eba-9d3d-a83e4e7ee7f3"
      },
      "execution_count": 24,
      "outputs": [
        {
          "output_type": "stream",
          "name": "stdout",
          "text": [
            "Account Number: 123456789\n",
            "Initial Balance: $1000.00\n",
            "Deposited: $500.00\n",
            "New Balance: $1500.00\n",
            "Withdrew: $200.00\n",
            "New Balance: $1300.00\n",
            "Invalid withdrawal amount.\n"
          ]
        }
      ]
    },
    {
      "cell_type": "markdown",
      "source": [
        "# **Q11. Write a class that overrides the __str__ and __add__ magic methods. What will these methods allow you to do?**\n",
        "\n",
        "**Ans:** In Python, the **str** and **add** magic methods allow you to define custom behavior for string representation and addition operations, respectively. Here's a class that demonstrates both:\n",
        "\n",
        "### **Implementation of a Custom Class**\n",
        "\n",
        "Let's create a class called Vector that represents a mathematical vector and overrides the str and add methods.\n",
        "\n",
        "\n",
        "\n",
        "\n"
      ],
      "metadata": {
        "id": "rHEr3k-TsdPg"
      }
    },
    {
      "cell_type": "code",
      "source": [
        "class Vector:\n",
        "    def __init__(self, x, y):\n",
        "        self.x = x\n",
        "        self.y = y\n",
        "\n",
        "    def __str__(self):\n",
        "        return f\"Vector({self.x}, {self.y})\"\n",
        "\n",
        "    def __add__(self, other):\n",
        "        if isinstance(other, Vector):\n",
        "            return Vector(self.x + other.x, self.y + other.y)\n",
        "        return NotImplemented\n",
        "\n",
        "# Example usage\n",
        "if __name__ == \"__main__\":\n",
        "    v1 = Vector(2, 3)\n",
        "    v2 = Vector(5, 7)\n",
        "\n",
        "    print(v1)           # Output: Vector(2, 3)\n",
        "    print(v2)           # Output: Vector(5, 7)\n",
        "\n",
        "    v3 = v1 + v2       # Using the __add__ method\n",
        "    print(v3)          # Output: Vector(7, 10)"
      ],
      "metadata": {
        "colab": {
          "base_uri": "https://localhost:8080/"
        },
        "id": "t3VJ2TyktEp2",
        "outputId": "498e6d18-eb66-48c3-af8f-461dcd0c9afe"
      },
      "execution_count": 25,
      "outputs": [
        {
          "output_type": "stream",
          "name": "stdout",
          "text": [
            "Vector(2, 3)\n",
            "Vector(5, 7)\n",
            "Vector(7, 10)\n"
          ]
        }
      ]
    },
    {
      "cell_type": "markdown",
      "source": [
        "# **Q12. Create a decorator that measures and prints the execution time of a function.**\n",
        "\n",
        "**Ans:** We can create a decorator in Python that measures and prints the execution time of a function using the time module. Here’s how you can implement such a decorator:\n",
        "\n",
        "### **Implementation of the Execution Time Decorator**\n",
        "\n",
        "\n",
        "\n"
      ],
      "metadata": {
        "id": "4kv4ZUgntPwh"
      }
    },
    {
      "cell_type": "code",
      "source": [
        "import time\n",
        "\n",
        "def measure_execution_time(func):\n",
        "    def wrapper(*args, **kwargs):\n",
        "        start_time = time.time()  # Record the start time\n",
        "        result = func(*args, **kwargs)  # Call the original function\n",
        "        end_time = time.time()  # Record the end time\n",
        "        execution_time = end_time - start_time  # Calculate the execution time\n",
        "        print(f\"Execution time of {func.__name__}: {execution_time:.4f} seconds\")\n",
        "        return result  # Return the result of the original function\n",
        "    return wrapper\n",
        "\n",
        "# Example usage of the decorator\n",
        "@measure_execution_time\n",
        "def example_function(n):\n",
        "    total = 0\n",
        "    for i in range(n):\n",
        "        total += i\n",
        "    return total\n",
        "\n",
        "# Calling the decorated function\n",
        "result = example_function(1000000)\n",
        "print(f\"Result: {result}\")\n"
      ],
      "metadata": {
        "colab": {
          "base_uri": "https://localhost:8080/"
        },
        "id": "fx2gIhCytswm",
        "outputId": "6784dc8f-155d-4866-dc05-65848b89d294"
      },
      "execution_count": 26,
      "outputs": [
        {
          "output_type": "stream",
          "name": "stdout",
          "text": [
            "Execution time of example_function: 0.0725 seconds\n",
            "Result: 499999500000\n"
          ]
        }
      ]
    },
    {
      "cell_type": "markdown",
      "source": [
        "# **Q13. Explain the concept of the Diamond Problem in multiple inheritance. How does Python resolve it?**\n",
        "\n",
        "### **Ans:** **The Diamond Problem in Multiple Inheritance**\n",
        "\n",
        "The Diamond Problem occurs in object-oriented programming when a class inherits from two classes that have a common ancestor. This situation creates an ambiguity regarding which path to follow when accessing methods or attributes from the shared ancestor. The diagram below illustrates the Diamond Problem:\n",
        "\n",
        "\n"
      ],
      "metadata": {
        "id": "ldkwEmdKuIuQ"
      }
    },
    {
      "cell_type": "code",
      "source": [
        "       A\n",
        "      / \\\n",
        "     B   C\n",
        "      \\ /\n",
        "       D\n"
      ],
      "metadata": {
        "id": "FQ-HZWJuu0qR"
      },
      "execution_count": null,
      "outputs": []
    },
    {
      "cell_type": "markdown",
      "source": [
        "**In this example:**\n",
        "\n",
        "*   A is the base class.\n",
        "*   B and C are subclasses of A.\n",
        "*   D is a subclass of both B and C.\n",
        "\n",
        "When you create an instance of D and try to access a method or attribute from A, it’s unclear whether to use the one defined in B or the one defined in C, leading to potential conflicts or ambiguity.\n",
        "\n",
        "### **Python's Resolution of the Diamond Problem**\n",
        "\n",
        "Python resolves the Diamond Problem using the C3 Linearization algorithm (also known as the C3 superclass linearization). This algorithm provides a consistent method resolution order (MRO) that respects the order of inheritance and ensures that each class is called in a predictable way.\n",
        "\n",
        "### **MRO in Python**\n",
        "\n",
        "The MRO defines the order in which classes are checked when calling a method or accessing an attribute. You can view the MRO of a class using the mro attribute or the mro() method.\n",
        "\n",
        "### **Example Implementation**\n",
        "\n",
        "Here's a concrete example to illustrate the Diamond Problem and how Python resolves it:\n",
        "\n",
        "\n",
        "\n",
        "\n",
        "\n",
        "\n",
        "\n",
        "\n"
      ],
      "metadata": {
        "id": "FN01qSThu1pB"
      }
    },
    {
      "cell_type": "code",
      "source": [
        "class A:\n",
        "    def method(self):\n",
        "        return \"Method from A\"\n",
        "\n",
        "class B(A):\n",
        "    def method(self):\n",
        "        return \"Method from B\"\n",
        "\n",
        "class C(A):\n",
        "    def method(self):\n",
        "        return \"Method from C\"\n",
        "\n",
        "class D(B, C):\n",
        "    pass\n",
        "\n",
        "# Create an instance of D\n",
        "d = D()\n",
        "\n",
        "# Call the method\n",
        "print(d.method())\n",
        "\n",
        "# Check the MRO\n",
        "print(D.__mro__)"
      ],
      "metadata": {
        "colab": {
          "base_uri": "https://localhost:8080/"
        },
        "id": "rBK76Y5JvrwC",
        "outputId": "92dc4a2a-833e-49ab-e2e5-5f59ac5b28ff"
      },
      "execution_count": 28,
      "outputs": [
        {
          "output_type": "stream",
          "name": "stdout",
          "text": [
            "Method from B\n",
            "(<class '__main__.D'>, <class '__main__.B'>, <class '__main__.C'>, <class '__main__.A'>, <class 'object'>)\n"
          ]
        }
      ]
    },
    {
      "cell_type": "markdown",
      "source": [
        "# **Q14. Write a class method that keeps track of the number of instances created from a class.**\n",
        "\n",
        "**Ans:** We can implement a class method that keeps track of the number of instances created from a class by maintaining a class-level attribute. Here’s how you can do that:\n",
        "\n",
        "### **Implementation of the Class with Instance Tracking**\n",
        "\n",
        "\n"
      ],
      "metadata": {
        "id": "Mow9_pvOvztL"
      }
    },
    {
      "cell_type": "code",
      "source": [
        "class InstanceCounter:\n",
        "    # Class variable to keep track of the number of instances\n",
        "    instance_count = 0\n",
        "\n",
        "    def __init__(self):\n",
        "        # Increment the instance count every time a new object is created\n",
        "        InstanceCounter.instance_count += 1\n",
        "\n",
        "    @classmethod\n",
        "    def get_instance_count(cls):\n",
        "        # Class method to return the number of instances\n",
        "        return cls.instance_count\n",
        "\n",
        "# Example usage\n",
        "obj1 = InstanceCounter()\n",
        "obj2 = InstanceCounter()\n",
        "obj3 = InstanceCounter()\n",
        "\n",
        "print(f\"Number of instances created: {InstanceCounter.get_instance_count()}\")  # Output: Number of instances created: 3\n"
      ],
      "metadata": {
        "colab": {
          "base_uri": "https://localhost:8080/"
        },
        "id": "WqGM2BfNwkKq",
        "outputId": "2566baed-5052-44fc-ecef-7532da05862c"
      },
      "execution_count": 29,
      "outputs": [
        {
          "output_type": "stream",
          "name": "stdout",
          "text": [
            "Number of instances created: 3\n"
          ]
        }
      ]
    },
    {
      "cell_type": "markdown",
      "source": [
        "### **Explanation:**\n",
        "\n",
        "**A. Class Variable (instance_count):**\n",
        "*   This is a class variable that keeps track of the number of instances created. It is shared among all instances of the class.\n",
        "\n",
        "**B. __init__ Method:**\n",
        "*   The constructor method increments the instance_count class variable each time a new instance of InstanceCounter is created.\n",
        "\n",
        "**C. Class Method (get_instance_count):**\n",
        "*   This method is defined using the @classmethod decorator. It allows you to access the class variable instance_count through the class itself rather than through an instance.\n",
        "\n",
        "*   This method returns the total number of instances created."
      ],
      "metadata": {
        "id": "ywExrVkvwoD6"
      }
    },
    {
      "cell_type": "markdown",
      "source": [
        "# **Q15. Implement a static method in a class that checks if a given year is a leap year.**\n",
        "\n",
        "**Ans:** We can implement a static method in a class to check if a given year is a leap year. Here's how you can do that:\n",
        "\n",
        "### **Implementation of the Leap Year Checker**\n",
        "\n",
        "\n"
      ],
      "metadata": {
        "id": "UW46oEYTxe9y"
      }
    },
    {
      "cell_type": "code",
      "source": [
        "class YearUtils:\n",
        "    @staticmethod\n",
        "    def is_leap_year(year):\n",
        "        \"\"\"Check if the given year is a leap year.\"\"\"\n",
        "        if (year % 4 == 0 and year % 100 != 0) or (year % 400 == 0):\n",
        "            return True\n",
        "        return False\n",
        "\n",
        "# Example usage\n",
        "year = 2024\n",
        "if YearUtils.is_leap_year(year):\n",
        "    print(f\"{year} is a leap year.\")  # Output: 2024 is a leap year.\n",
        "else:\n",
        "    print(f\"{year} is not a leap year.\")\n",
        "\n",
        "year = 1900\n",
        "if YearUtils.is_leap_year(year):\n",
        "    print(f\"{year} is a leap year.\")\n",
        "else:\n",
        "    print(f\"{year} is not a leap year.\")  # Output: 1900 is not a leap year.\n"
      ],
      "metadata": {
        "colab": {
          "base_uri": "https://localhost:8080/"
        },
        "id": "znlF13qByYly",
        "outputId": "93fbd691-522a-4709-d226-8593a9f01bb9"
      },
      "execution_count": 30,
      "outputs": [
        {
          "output_type": "stream",
          "name": "stdout",
          "text": [
            "2024 is a leap year.\n",
            "1900 is not a leap year.\n"
          ]
        }
      ]
    },
    {
      "cell_type": "markdown",
      "source": [
        "### **Explanation:**\n",
        "\n",
        "**Static Method (is_leap_year):**\n",
        "\n",
        "*   The **@staticmethod** decorator indicates that this method does not depend on class or instance data.\n",
        "\n",
        "*   It takes a single parameter, year, and checks whether the year is a leap year using the rules for leap years:\n",
        "      *   A year is a leap year if it is divisible by 4.\n",
        "      *   However, if it is divisible by 100, it is not a leap year unless it is also divisible by 400.\n",
        "\n"
      ],
      "metadata": {
        "id": "-J6mw0AQya1C"
      }
    }
  ]
}