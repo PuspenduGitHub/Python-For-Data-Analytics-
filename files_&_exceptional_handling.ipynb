{
  "nbformat": 4,
  "nbformat_minor": 0,
  "metadata": {
    "colab": {
      "provenance": [],
      "authorship_tag": "ABX9TyPX/zCFP7gRFkqJP4rCpqTc",
      "include_colab_link": true
    },
    "kernelspec": {
      "name": "python3",
      "display_name": "Python 3"
    },
    "language_info": {
      "name": "python"
    }
  },
  "cells": [
    {
      "cell_type": "markdown",
      "metadata": {
        "id": "view-in-github",
        "colab_type": "text"
      },
      "source": [
        "<a href=\"https://colab.research.google.com/github/PuspenduGitHub/Python-For-Data-Analytics-/blob/main/files_%26_exceptional_handling.ipynb\" target=\"_parent\"><img src=\"https://colab.research.google.com/assets/colab-badge.svg\" alt=\"Open In Colab\"/></a>"
      ]
    },
    {
      "cell_type": "markdown",
      "source": [
        "# **Assignment - Files and Exceptional Handling**\n",
        "\n",
        "# **Q1. Discuss the scenarios where multithreading is preferable to multiprocessing and scenarios where multiprocessing is a better choice**\n",
        "\n",
        "**Ans:**\n",
        "### **Multithreading :**\n",
        "\n",
        "Multithreading is typically preferred when tasks are **I/O-bound** or when lightweight, shared memory is beneficial.\n",
        "\n",
        "**Preferable Scenarios**\n",
        "\n",
        "### **1. I/O-bound tasks:**\n",
        "\n",
        "* **Examples:** Reading/writing files, making network requests, or database queries.\n",
        "\n",
        "* **Reason:** Threads can effectively handle tasks that spend time waiting for external resources since they can share memory and context-switch efficiently.\n",
        "\n",
        "### **2. Shared memory and lightweight context switching:**\n",
        "\n",
        "* **Examples:** Real-time applications like GUI frameworks or web servers (e.g., handling multiple HTTP requests in a server like Python’s Flask or Django).\n",
        "\n",
        "* **Reason:** Threads within the same process share memory, making communication between them faster and less resource-intensive than interprocess communication (IPC).\n",
        "\n",
        "### **3. Limited CPU cores:**\n",
        "\n",
        "* **Example:** Running an application on a single CPU core.\n",
        "\n",
        "* **Reason:** Threads benefit from cooperative multitasking without the overhead of creating and managing multiple processes.\n",
        "\n",
        "### **4. Fine-grained tasks:**\n",
        "\n",
        "* **Examples:** Background tasks like updating a progress bar while performing other calculations.\n",
        "\n",
        "* **Reason:** Threads can efficiently handle small tasks without the overhead of process creation.\n",
        "\n",
        "### **Drawbacks of Multithreading:**\n",
        "\n",
        "* The **Global Interpreter Lock (GIL)** in CPython can limit performance in CPU-bound tasks by allowing only one thread to execute Python bytecode at a time.\n",
        "\n",
        "* Threads are not isolated, which can lead to synchronization issues like race conditions or deadlocks.\n",
        "\n",
        "* Multithreaded programs can be difficult to debug.\n",
        "\n",
        "---\n",
        "\n",
        "### **Multiprocessing :**\n",
        "\n",
        "Multiprocessing executes multiple processes, each with its own memory space.\n",
        "\n",
        "**Preferable Scenarios**\n",
        "\n",
        "### **1. CPU-bound tasks:**\n",
        "\n",
        "* **Examples:** Computationally intensive tasks like image processing, machine learning training, or mathematical simulations.\n",
        "\n",
        "* **Reason:** Each process can fully utilize a CPU core, bypassing Python’s GIL, which is a bottleneck in multithreaded CPU-bound tasks.\n",
        "\n",
        "\n",
        "### **2. Task isolation:**\n",
        "\n",
        "* **Examples:** Running independent tasks that should not interfere with one another, like parallel simulations with independent datasets.\n",
        "\n",
        "* **Reason:** Processes have separate memory spaces, providing isolation and stability (a crash in one process won’t affect others).\n",
        "\n",
        "### **3. High scalability requirements:**\n",
        "\n",
        "* **Examples:** Distributed systems where tasks can be spread across multiple machines or containers.\n",
        "\n",
        "* **Reason:** Processes can be easily scaled horizontally across CPUs or machines, unlike threads, which are confined to the same process.\n",
        "\n",
        "\n",
        "### **4. High memory requirements:**\n",
        "\n",
        "* **Example:** Handling tasks that involve processing large datasets where inter-thread memory sharing would lead to contention.\n",
        "\n",
        "* **Reason:** Separate memory spaces prevent issues related to shared memory contention.\n",
        "\n",
        "### **Drawbacks of Multiprocessing:**\n",
        "\n",
        "\n",
        "* Higher overhead due to process creation and context switching.\n",
        "\n",
        "* **Interprocess communication (IPC)** is slower compared to thread communication.\n",
        "\n",
        "* Processes consume more memory since they don’t share memory space.\n",
        "\n",
        "---\n",
        "\n",
        "### **Choosing Between Multithreading and Multiprocessing**\n",
        "\n",
        "▶ **Use multithreading when:**\n",
        "\n",
        "* Tasks are primarily waiting for I/O operations.\n",
        "\n",
        "* Lightweight task management and shared memory are beneficial.\n",
        "\n",
        "* GIL isn’t a significant constraint (e.g., in non-CPython implementations or when using thread-safe libraries).\n",
        "\n",
        "\n",
        "▶ **Use multiprocessing when:**\n",
        "\n",
        "* Tasks are computationally intensive.\n",
        "\n",
        "* Task isolation and fault tolerance are critical.\n",
        "\n",
        "* Scalability across multiple CPUs or machines is required.\n",
        "\n",
        "---"
      ],
      "metadata": {
        "id": "FNb2gIuyImGs"
      }
    },
    {
      "cell_type": "markdown",
      "source": [
        "# **Q2. Describe what a process pool is and how it helps in managing multiple processes efficiently**\n",
        "\n",
        "**Ans:** A **process pool** is a programming construct that manages a group of worker processes that are pre-initialized and ready to execute tasks. This mechanism allows efficient use of system resources while simplifying the management of multiple processes.\n",
        "\n",
        "### **Key Features of a Process Pool**\n",
        "\n",
        "**1. Pre-initialized Processes:** The pool initializes a fixed number of processes (workers) at the start, which can handle tasks as they are submitted. This avoids the overhead of creating and destroying processes repeatedly.\n",
        "\n",
        "**2. Task Queuing:** Tasks are submitted to the pool, which queues them if the workers are busy, ensuring no additional processes are spawned beyond the pool's capacity.\n",
        "\n",
        "**3. Resource Limitation:** The pool size limits the number of processes, helping manage system resource usage such as CPU and memory.\n",
        "\n",
        "**4. Simplified Parallelism:** A process pool abstracts the complexities of process creation, management, and interprocess communication (IPC).\n",
        "\n",
        "\n",
        "\n",
        "---\n",
        "\n",
        "\n",
        "\n",
        "### **How Process Pools Work**\n",
        "\n",
        "**1. Initialization:**\n",
        "* A fixed number of processes are created when the pool is instantiated.\n",
        "\n",
        "**2. Task Submission:**\n",
        "* Tasks are submitted to the pool using methods like `apply()`, `apply_async()`, or `map()`. These tasks are queued internally.\n",
        "\n",
        "**3. Task Assignment:**\n",
        "* The pool assigns tasks to the available processes. If all processes are busy, tasks wait in the queue.\n",
        "\n",
        "**4. Task Execution:**\n",
        "* Workers execute the assigned tasks and return the results to the main program once completed.\n",
        "\n",
        "**5. Shutdown and Cleanup:**\n",
        "* The pool can be closed or terminated when all tasks are completed, releasing resources.\n",
        "\n",
        "\n",
        "\n",
        "---\n",
        "\n",
        "### **Advantages of Using a Process Pool**\n",
        "\n",
        "**1. Efficiency:**\n",
        "* By reusing the same processes, the pool minimizes the overhead of process creation and termination.\n",
        "\n",
        "**2. Resource Management:**\n",
        "* Limits the number of concurrent processes, preventing excessive resource consumption and system overload.\n",
        "\n",
        "**3. Simplified Code:**\n",
        "* Abstracts process management, allowing developers to focus on task logic rather than low-level multiprocessing details.\n",
        "\n",
        "**4. Improved Scalability:**\n",
        "* Makes it easier to scale parallel tasks by simply increasing the pool size.\n",
        "\n",
        "\n",
        "---\n",
        "\n",
        "### **Example in Python**\n",
        "\n",
        "The Python **multiprocessing** module provides a built-in **Pool** class to create and manage process pools:\n",
        "\n"
      ],
      "metadata": {
        "id": "fnz6JNiiTTEk"
      }
    },
    {
      "cell_type": "code",
      "source": [
        "from multiprocessing import Pool\n",
        "\n",
        "def square(x):\n",
        "    return x * x\n",
        "\n",
        "if __name__ == \"__main__\":\n",
        "    with Pool(4) as pool:  # Create a pool with 4 processes\n",
        "        numbers = [1, 2, 3, 4, 5]\n",
        "\n",
        "        # Use `map` to apply the `square` function to each number\n",
        "        results = pool.map(square, numbers)\n",
        "\n",
        "        print(results)  # Output: [1, 4, 9, 16, 25]\n"
      ],
      "metadata": {
        "colab": {
          "base_uri": "https://localhost:8080/"
        },
        "id": "AhLVsgWsaqZd",
        "outputId": "db0ce4e5-e839-4d2d-e91c-718216dd5f83"
      },
      "execution_count": null,
      "outputs": [
        {
          "output_type": "stream",
          "name": "stdout",
          "text": [
            "[1, 4, 9, 16, 25]\n"
          ]
        }
      ]
    },
    {
      "cell_type": "markdown",
      "source": [
        "### **How This Helps:**\n",
        "\n",
        "**1. Efficient Execution:** The pool pre-spawns 4 processes and assigns tasks to them.\n",
        "\n",
        "**2. Concurrency Control:** Tasks are distributed among the 4 processes, ensuring controlled parallelism.\n",
        "\n",
        "**3. Simplified Interface:** The `map` function hides the complexities of assigning tasks and collecting results.\n",
        "\n",
        "---\n",
        "\n",
        "### **Use Cases for Process Pools**\n",
        "\n",
        "* **Data Processing:** Parallel execution of CPU-intensive tasks, like transforming large datasets.\n",
        "\n",
        "* **Web Scraping:** Distributing HTTP requests among processes to speed up data collection.\n",
        "\n",
        "* **Simulations:** Running multiple independent simulations or computations concurrently.\n",
        "\n",
        "* **Machine Learning:** Preprocessing or feature extraction in parallel before training models.\n",
        "\n",
        "---"
      ],
      "metadata": {
        "id": "rKG-YhmxaxpN"
      }
    },
    {
      "cell_type": "markdown",
      "source": [
        "# **Q3. Explain what multiprocessing is and why it is used in Python programs**\n",
        "\n",
        "**Ans:** Multiprocessing is a programming technique where multiple processes are executed concurrently, improving responsiveness, efficiency and system utilization.\n",
        "\n",
        "### **What is Multiprocessing?**\n",
        "\n",
        "* **Multiprocessing** is a programming technique that allows a program to execute multiple tasks simultaneously by using multiple processes, each running independently on a separate CPU core (or logical core). Unlike threads, processes have their own memory space, which ensures greater isolation and avoids some of the pitfalls of shared memory (like race conditions).\n",
        "\n",
        "\n",
        "\n",
        "---\n",
        "\n",
        "\n",
        "### **Why Multiprocessing is Used in Python**\n",
        "\n",
        "**1. Overcoming the Global Interpreter Lock (GIL):**\n",
        "\n",
        "* Python's **Global Interpreter Lock (GIL)** restricts the execution of Python bytecode to one thread at a time within a single process. This limitation makes multithreading less effective for CPU-bound tasks in Python.\n",
        "\n",
        "* **Multiprocessing bypasses the GIL** by creating separate processes, each with its own Python interpreter and memory space, allowing full utilization of multiple CPU cores.\n",
        "\n",
        "**2. Improved Performance for CPU-bound Tasks:**\n",
        "\n",
        "* Tasks that require significant computational power, such as numerical simulations, image processing, or cryptographic computations, can benefit from multiprocessing because it allows these tasks to run in parallel on multiple CPU cores.\n",
        "\n",
        "\n",
        "**3. Task Isolation:**\n",
        "\n",
        "* Each process in multiprocessing has its own memory space. This isolation ensures that errors or crashes in one process do not affect others, improving robustness in applications.\n",
        "\n",
        "**4. Scalability:**\n",
        "\n",
        "* Multiprocessing enables parallel execution, making programs scalable across multi-core and multi-processor systems.\n",
        "\n",
        "**5. Simplified Parallelism:**\n",
        "\n",
        "* The `multiprocessing` module abstracts much of the complexity of creating and managing processes, providing a user-friendly interface for parallel programming.\n",
        "\n",
        "---\n",
        "\n",
        "### **Key Features of Multiprocessing in Python**\n",
        "\n",
        "**1. Process Creation:**\n",
        "\n",
        "* Python allows developers to create new processes using the `Process` class.\n",
        "\n",
        "**2. Task Distribution:**\n",
        "\n",
        "* The `Pool` class enables the efficient distribution of tasks among multiple processes.\n",
        "\n",
        "**3. Interprocess Communication (IPC):**\n",
        "\n",
        "* Mechanisms like pipes and queues facilitate data exchange between processes.\n",
        "\n",
        "**4. Shared Data Structures:**\n",
        "\n",
        "* The module provides synchronized shared objects (like `Value` and `Array`) for data sharing among processes when needed.\n",
        "\n",
        "---\n",
        "\n",
        "### **Example of Multiprocessing in Python**\n",
        "\n",
        "\n",
        "\n"
      ],
      "metadata": {
        "id": "dhuc1NeNboTl"
      }
    },
    {
      "cell_type": "code",
      "source": [
        "\n",
        "import multiprocessing\n",
        "import time\n",
        "\n",
        "def worker(num):\n",
        "    print(f\"Worker {num} started\")\n",
        "    time.sleep(2)\n",
        "    print(f\"Worker {num} finished\")\n",
        "\n",
        "if __name__ == \"__main__\":\n",
        "    processes = []\n",
        "    for i in range(5):\n",
        "        p = multiprocessing.Process(target=worker, args=(i,))\n",
        "        processes.append(p)\n",
        "        p.start()\n",
        "\n",
        "    for p in processes:\n",
        "        p.join()"
      ],
      "metadata": {
        "colab": {
          "base_uri": "https://localhost:8080/"
        },
        "id": "WqbELMJtgTBF",
        "outputId": "34d42e22-f7d8-4a0c-e262-9ba553be4d89"
      },
      "execution_count": 2,
      "outputs": [
        {
          "output_type": "stream",
          "name": "stdout",
          "text": [
            "Worker 0 startedWorker 1 started\n",
            "Worker 2 started\n",
            "\n",
            "Worker 3 started\n",
            "Worker 4 started\n",
            "Worker 0 finished\n",
            "Worker 2 finishedWorker 1 finished\n",
            "\n",
            "Worker 3 finished\n",
            "Worker 4 finished\n"
          ]
        }
      ]
    },
    {
      "cell_type": "markdown",
      "source": [
        "### **Use Cases for Multiprocessing**\n",
        "\n",
        "**1. Data Processing:**\n",
        "* Transforming or analyzing large datasets in parallel.\n",
        "\n",
        "**2. Scientific Computing:**\n",
        "* Performing complex simulations, such as Monte Carlo methods or molecular dynamics.\n",
        "\n",
        "**3. Machine Learning:**\n",
        "* Parallelizing data preprocessing, training, or inference tasks.\n",
        "\n",
        "**4. Image and Video Processing:**\n",
        "* Applying filters or transformations to large media files in parallel.\n",
        "\n",
        "**5. Web Scraping:**\n",
        "* Distributing web requests among multiple processes to speed up data collection.\n",
        "\n",
        "---\n",
        "\n",
        "### **Advantages of Multiprocessing**\n",
        "\n",
        "**1. Better CPU Utilization:**\n",
        "* Fully leverages multiple CPU cores for parallel computation.\n",
        "\n",
        "**2. Task Isolation:**\n",
        "* Processes are independent, preventing errors in one from affecting others.\n",
        "\n",
        "**3. No GIL Limitation:**\n",
        "* Multiple processes run concurrently without interference from Python's GIL.\n",
        "\n",
        "\n",
        "\n",
        "---\n",
        "### **Challenges of Multiprocessing**\n",
        "\n",
        "**1. Higher Memory Usage:**\n",
        "* Each process has its own memory space, which can increase memory consumption.\n",
        "\n",
        "**2. Interprocess Communication Overhead:**\n",
        "* Communication between processes is slower compared to threads.\n",
        "\n",
        "**3. Complex Debugging:**\n",
        "* Debugging multiprocessing programs can be challenging due to separate memory spaces and asynchronous execution.\n",
        "\n",
        "---\n",
        "\n",
        "\n",
        "\n"
      ],
      "metadata": {
        "id": "7icaFmtXgVmt"
      }
    },
    {
      "cell_type": "markdown",
      "source": [
        "# **Q4. Write a Python program using multithreading where one thread adds numbers to a list, and another thread removes numbers from the list. Implement a mechanism to avoid race conditions using threading.Lock.**\n",
        "\n",
        "**Ans:**\n",
        "\n"
      ],
      "metadata": {
        "id": "Vz7H5b6miv61"
      }
    },
    {
      "cell_type": "code",
      "source": [
        "import threading\n",
        "import time\n",
        "\n",
        "# Shared resource\n",
        "shared_list = []\n",
        "lock = threading.Lock()\n",
        "\n",
        "# Thread function to add numbers to the list\n",
        "def add_numbers():\n",
        "    for i in range(1, 11):  # Add numbers from 1 to 10\n",
        "        with lock:  # Acquire the lock to safely modify the list\n",
        "            shared_list.append(i)\n",
        "            print(f\"Added: {i}, List: {shared_list}\")\n",
        "        time.sleep(0.1)  # Simulate some processing time\n",
        "\n",
        "# Thread function to remove numbers from the list\n",
        "def remove_numbers():\n",
        "    while True:\n",
        "        with lock:  # Acquire the lock to safely modify the list\n",
        "            if shared_list:\n",
        "                removed = shared_list.pop(0)  # Remove the first number in the list\n",
        "                print(f\"Removed: {removed}, List: {shared_list}\")\n",
        "            else:\n",
        "                break  # Exit loop if the list is empty\n",
        "        time.sleep(0.2)  # Simulate some processing time\n",
        "\n",
        "# Create threads\n",
        "adder_thread = threading.Thread(target=add_numbers)\n",
        "remover_thread = threading.Thread(target=remove_numbers)\n",
        "\n",
        "# Start threads\n",
        "adder_thread.start()\n",
        "remover_thread.start()\n",
        "\n",
        "# Wait for threads to finish\n",
        "adder_thread.join()\n",
        "remover_thread.join()\n",
        "\n",
        "print(\"Final List:\", shared_list)\n"
      ],
      "metadata": {
        "colab": {
          "base_uri": "https://localhost:8080/"
        },
        "id": "JSQtjob6jxtL",
        "outputId": "a9e7a5cd-81cd-48f8-a5dc-b4afec2dc35a"
      },
      "execution_count": 3,
      "outputs": [
        {
          "output_type": "stream",
          "name": "stdout",
          "text": [
            "Added: 1, List: [1]\n",
            "Removed: 1, List: []\n",
            "Added: 2, List: [2]\n",
            "Removed: 2, List: []\n",
            "Added: 3, List: [3]\n",
            "Added: 4, List: [3, 4]\n",
            "Removed: 3, List: [4]\n",
            "Added: 5, List: [4, 5]\n",
            "Added: 6, List: [4, 5, 6]\n",
            "Removed: 4, List: [5, 6]\n",
            "Added: 7, List: [5, 6, 7]\n",
            "Added: 8, List: [5, 6, 7, 8]\n",
            "Removed: 5, List: [6, 7, 8]\n",
            "Added: 9, List: [6, 7, 8, 9]\n",
            "Added: 10, List: [6, 7, 8, 9, 10]\n",
            "Removed: 6, List: [7, 8, 9, 10]\n",
            "Removed: 7, List: [8, 9, 10]\n",
            "Removed: 8, List: [9, 10]\n",
            "Removed: 9, List: [10]\n",
            "Removed: 10, List: []\n",
            "Final List: []\n"
          ]
        }
      ]
    },
    {
      "cell_type": "markdown",
      "source": [
        "### **Explanation:**\n",
        "\n",
        "\n",
        "**1. Shared Resource:**\n",
        "\n",
        "* shared_list is the shared data structure accessed by both threads.\n",
        "\n",
        "* A threading.Lock object is used to synchronize access.\n",
        "\n",
        "**2. Adding Numbers (`add_numbers`):**\n",
        "\n",
        "* This thread adds numbers (1 to 10) to the shared list.\n",
        "\n",
        "* The with lock block ensures the list is safely modified without interference from other threads.\n",
        "\n",
        "**3. Removing Numbers (`remove_numbers`):**\n",
        "\n",
        "* This thread continuously removes the first number from the list until it is empty.\n",
        "* It also uses with lock to ensure thread-safe modifications.\n",
        "\n",
        "**4. Thread Creation and Execution:**\n",
        "\n",
        "* Two threads (adder_thread and remover_thread) are created and started.\n",
        "\n",
        "* adder_thread performs additions, while remover_thread performs removals.\n",
        "\n",
        "**5. Race Condition Prevention:**\n",
        "\n",
        "* The lock ensures that only one thread accesses shared_list at a time, preventing race conditions.\n",
        "\n",
        "**6. Final Output:**\n",
        "\n",
        "The program prints the actions of each thread and the final state of the shared list.\n",
        "\n",
        "\n",
        "---\n"
      ],
      "metadata": {
        "id": "Gocu0kFQksHd"
      }
    },
    {
      "cell_type": "markdown",
      "source": [
        "# **Q5. Describe the methods and tools available in Python for safely sharing data between threads and processes.**\n",
        "\n",
        "**Ans:**\n",
        "\n",
        "### **Methods and Tools for Safely Sharing Data Between Threads and Processes in Python**\n",
        "\n",
        "In Python, safely sharing data between threads and processes involves mechanisms that ensure synchronization and prevent race conditions, deadlocks, or data corruption. Here's an overview of the tools and methods available for both threads and processes.\n",
        "\n",
        "---\n",
        "\n",
        "### **1. Tools for Threads**\n",
        "\n",
        "Threads share the same memory space, making data sharing relatively easy. However, synchronization is required to prevent race conditions.\n",
        "\n",
        "**a. `threading.Lock`**\n",
        "\n",
        "* A `Lock` is a simple synchronization primitive that ensures only one thread can access a shared resource at a time.\n",
        "\n",
        "* **Example:**\n",
        "\n",
        "\n",
        "\n",
        "\n"
      ],
      "metadata": {
        "id": "H6oMzw1SmT8m"
      }
    },
    {
      "cell_type": "code",
      "source": [
        "import threading\n",
        "\n",
        "lock = threading.Lock()\n",
        "\n",
        "def safe_increment(shared_counter):\n",
        "    with lock:  # Acquires the lock\n",
        "        shared_counter[0] += 1  # Safely modify the shared resource\n"
      ],
      "metadata": {
        "id": "Iwbw9r3iLDrc"
      },
      "execution_count": 1,
      "outputs": []
    },
    {
      "cell_type": "markdown",
      "source": [
        "**b. `threading.RLock`**\n",
        "\n",
        "* A reentrant lock (`RLock`) allows the same thread to acquire the lock multiple times without blocking itself. This is useful when a thread needs to acquire a lock recursively.\n",
        "\n",
        "* **Example:**"
      ],
      "metadata": {
        "id": "AG7jXqJMLQ14"
      }
    },
    {
      "cell_type": "code",
      "source": [
        "lock = threading.RLock()\n"
      ],
      "metadata": {
        "id": "_gJOnU3PLatS"
      },
      "execution_count": 2,
      "outputs": []
    },
    {
      "cell_type": "markdown",
      "source": [
        "**c. `threading.Condition`**\n",
        "\n",
        "* A `Condition` allows threads to wait for a specific condition to be met before proceeding.\n",
        "\n",
        "* It combines a lock with methods like `wait()`, `notify()`, and `notify_all()` to coordinate threads.\n",
        "\n",
        "* **Example:**\n",
        "\n"
      ],
      "metadata": {
        "id": "dK0ZmJ9CLoLR"
      }
    },
    {
      "cell_type": "code",
      "source": [
        "condition = threading.Condition()\n",
        "\n",
        "with condition:\n",
        "    condition.wait()  # Wait for a condition to be notified\n",
        "    condition.notify()  # Notify a waiting thread\n"
      ],
      "metadata": {
        "id": "aQSaIwzZNd46"
      },
      "execution_count": null,
      "outputs": []
    },
    {
      "cell_type": "markdown",
      "source": [
        "**d. `threading.Semaphore`**\n",
        "\n",
        "* A `Semaphore` allows a fixed number of threads to access a resource concurrently.\n",
        "\n",
        "**Example:**\n",
        "\n",
        "\n"
      ],
      "metadata": {
        "id": "hUhJExj7M8fS"
      }
    },
    {
      "cell_type": "code",
      "source": [
        "semaphore = threading.Semaphore(2)  # Allow up to 2 threads simultaneously\n"
      ],
      "metadata": {
        "id": "_XaxMiikNQwq"
      },
      "execution_count": 9,
      "outputs": []
    },
    {
      "cell_type": "markdown",
      "source": [
        "**e. `threading.Queue`**\n",
        "\n",
        "* A thread-safe queue for sharing data between threads.\n",
        "\n",
        "**Example:**\n"
      ],
      "metadata": {
        "id": "j4TJi0GDNhky"
      }
    },
    {
      "cell_type": "code",
      "source": [
        "from queue import Queue\n",
        "\n",
        "q = Queue()\n",
        "q.put(1)  # Add an item\n",
        "item = q.get()  # Retrieve an item safely\n"
      ],
      "metadata": {
        "id": "iFR9JygoN09q"
      },
      "execution_count": 10,
      "outputs": []
    },
    {
      "cell_type": "markdown",
      "source": [
        "---"
      ],
      "metadata": {
        "id": "cjoDIEHEQSPr"
      }
    },
    {
      "cell_type": "markdown",
      "source": [
        "### **2. Tools for Processes**\n",
        "\n",
        "Processes in Python do not share memory by default. Data sharing between processes requires interprocess communication (IPC) mechanisms.\n",
        "\n",
        "**a. `Shared Memory` (`multiprocessing.Value` and `multiprocessing.Array`)**\n",
        "\n",
        "* **Value:** A single shared value among processes.\n",
        "\n",
        "* **Array:** A shared array.\n",
        "\n",
        "* **Both** are synchronized to avoid race conditions.\n",
        "\n",
        "* **Example:**\n",
        "\n"
      ],
      "metadata": {
        "id": "cuhoSmTTOAny"
      }
    },
    {
      "cell_type": "code",
      "source": [
        "from multiprocessing import Value, Array\n",
        "\n",
        "shared_value = Value('i', 0)  # An integer shared between processes\n",
        "shared_array = Array('i', [1, 2, 3])  # A shared array\n"
      ],
      "metadata": {
        "id": "veRgF0emO4cS"
      },
      "execution_count": 11,
      "outputs": []
    },
    {
      "cell_type": "markdown",
      "source": [
        "**b. `multiprocessing.Queue`**\n",
        "\n",
        "* A thread- and process-safe queue for exchanging data between processes.\n",
        "\n",
        "* **Example:**\n",
        "\n"
      ],
      "metadata": {
        "id": "yY5E5-stO6JK"
      }
    },
    {
      "cell_type": "code",
      "source": [
        "from multiprocessing import Queue\n",
        "\n",
        "q = Queue()\n",
        "q.put(\"data\")  # Send data\n",
        "print(q.get())  # Receive data\n"
      ],
      "metadata": {
        "colab": {
          "base_uri": "https://localhost:8080/"
        },
        "id": "JuRrkIDlPLOz",
        "outputId": "40b91777-e3e4-4550-b11c-9720b68a9c76"
      },
      "execution_count": 12,
      "outputs": [
        {
          "output_type": "stream",
          "name": "stdout",
          "text": [
            "data\n"
          ]
        }
      ]
    },
    {
      "cell_type": "markdown",
      "source": [
        "**c. `multiprocessing.Pipe`**\n",
        "\n",
        "* A two-way communication channel for exchanging data between two processes.\n",
        "\n",
        "* **Example:**\n",
        "\n",
        "\n"
      ],
      "metadata": {
        "id": "G-rOXQkVPNoi"
      }
    },
    {
      "cell_type": "code",
      "source": [
        "from multiprocessing import Pipe\n",
        "\n",
        "parent_conn, child_conn = Pipe()\n",
        "parent_conn.send(\"Hello\")\n",
        "print(child_conn.recv())  # Output: Hello\n"
      ],
      "metadata": {
        "colab": {
          "base_uri": "https://localhost:8080/"
        },
        "id": "6gMB071sPdUq",
        "outputId": "56dc1edf-6df7-4ca7-e505-707561d564d8"
      },
      "execution_count": 13,
      "outputs": [
        {
          "output_type": "stream",
          "name": "stdout",
          "text": [
            "Hello\n"
          ]
        }
      ]
    },
    {
      "cell_type": "markdown",
      "source": [
        "**d. `Manager Objects`**\n",
        "\n",
        "* The `multiprocessing.Manager` provides a high-level API for managing shared data structures like dictionaries, lists, and more.\n",
        "\n",
        "**Example:**\n",
        "\n",
        "\n",
        "\n"
      ],
      "metadata": {
        "id": "lBMIVr_UPfqS"
      }
    },
    {
      "cell_type": "code",
      "source": [
        "from multiprocessing import Manager\n",
        "\n",
        "with Manager() as manager:\n",
        "    shared_dict = manager.dict()\n",
        "    shared_dict[\"key\"] = \"value\"\n"
      ],
      "metadata": {
        "id": "2ztKzGR-P9RS"
      },
      "execution_count": 14,
      "outputs": []
    },
    {
      "cell_type": "markdown",
      "source": [
        "**e. Locks and Synchronization Primitives**\n",
        "\n",
        "* Similar to threads, processes also use `Lock`, `Semaphore`, and `Condition` for synchronization.\n",
        "\n",
        "---\n"
      ],
      "metadata": {
        "id": "UMOAX_k7QAFK"
      }
    },
    {
      "cell_type": "markdown",
      "source": [
        "### **3. Data Structures**\n",
        "\n",
        "* **threading.local:** Thread-local storage.\n",
        "\n",
        "* **multiprocessing.Manager().dict():** Shared dictionary.\n",
        "\n",
        "* **multiprocessing.Manager().list():** Shared list.\n",
        "\n",
        "---\n",
        "\n",
        "### **4. Common Strategies for Safely Sharing Data**\n",
        "\n",
        "**a. Immutable Data Sharing**\n",
        "\n",
        "* Immutable data types (e.g., tuples) reduce the risk of race conditions since their contents cannot be modified.\n",
        "\n",
        "**b. Copy-on-Write (CoW)**\n",
        "\n",
        "* When using fork() (on Unix-like systems), memory is copied when processes modify shared data. This approach avoids direct sharing but can lead to inefficiency for large datasets.\n",
        "\n",
        "**c. Avoiding Sharing**\n",
        "\n",
        "* Use a producer-consumer model with queues or pipes to avoid direct data sharing, improving safety and clarity.\n",
        "\n",
        "---\n",
        "\n",
        "### **Choosing the Right Tool**\n",
        "\n",
        "**1. Threads:**\n",
        "\n",
        "* Use tools like `Lock`, `RLock`, `Queue`, or `Condition` when tasks require shared memory and synchronization.\n",
        "\n",
        "* Suitable for I/O-bound tasks where GIL isn't a bottleneck.\n",
        "\n",
        "**2. Processes:**\n",
        "\n",
        "* Use `Queue`, `Pipe`, `Value`, `Array`, or `Manager` for parallel processing tasks.\n",
        "\n",
        "* Ideal for CPU-bound tasks where GIL must be bypassed.\n",
        "\n",
        "---\n",
        "\n"
      ],
      "metadata": {
        "id": "3gzdHGpZQUQj"
      }
    },
    {
      "cell_type": "markdown",
      "source": [
        "# **Q6. Discuss why it’s crucial to handle exceptions in concurrent programs and the techniques available for doing so.**\n",
        "\n",
        "**Ans:** Handling exceptions in concurrent programs is crucial for ensuring robust and reliable applications. Concurrency introduces unique challenges because multiple threads or processes execute simultaneously, potentially leading to situations where unhandled exceptions can cause unexpected behavior, resource leaks, or application crashes.\n",
        "\n",
        "---\n",
        "\n",
        "### **Why Exception Handling in Concurrent Programs is Crucial**\n",
        "\n",
        "**1. Prevent Program Crashes:**\n",
        "\n",
        "* An unhandled exception in one thread or process can terminate the entire program in some cases (e.g., in multiprocessing).\n",
        "\n",
        "**2. Maintain System Stability:**\n",
        "\n",
        "* Exception handling ensures that unexpected errors do not leave shared resources (e.g., files, sockets) in an inconsistent state.\n",
        "\n",
        "**3. Ensure Task Completion:**\n",
        "\n",
        "* Exceptions might prevent critical tasks from completing. Proper handling ensures graceful recovery or retries.\n",
        "\n",
        "**4. Debugging and Error Diagnosis:**\n",
        "\n",
        "* Without handling, exceptions might silently fail in threads or processes, making debugging difficult.\n",
        "\n",
        "**5. Resource Management:**\n",
        "\n",
        "* Proper exception handling ensures that resources like memory, file handles, and locks are released even when errors occur.\n",
        "\n",
        "**6. Concurrency Complexity:**\n",
        "\n",
        "* In concurrent programs, exceptions can occur due to synchronization issues, deadlocks, or race conditions. Handling these scenarios is essential for reliability.\n",
        "\n",
        "---\n",
        "\n",
        "### **Techniques for Exception Handling in Concurrent Programs**\n",
        "\n",
        "**1. Exception Handling in Threads**\n",
        "\n",
        "* Threads share memory with the main program, but exceptions in threads do not propagate to the main thread automatically. Techniques include:\n",
        "\n",
        "**a. Use `try-except` Blocks in Thread Functions:**\n",
        "\n",
        "* Catch exceptions within the thread’s target function to prevent them from terminating the thread unexpectedly.\n",
        "\n",
        "\n"
      ],
      "metadata": {
        "id": "RmxzTsrFSuiL"
      }
    },
    {
      "cell_type": "code",
      "source": [
        "import threading\n",
        "\n",
        "def thread_function():\n",
        "    try:\n",
        "        raise ValueError(\"An error occurred\")\n",
        "    except Exception as e:\n",
        "        print(f\"Exception caught in thread: {e}\")\n",
        "\n",
        "thread = threading.Thread(target=thread_function)\n",
        "thread.start()\n",
        "thread.join()\n"
      ],
      "metadata": {
        "colab": {
          "base_uri": "https://localhost:8080/"
        },
        "id": "A87PakHPVJHj",
        "outputId": "28394d38-ff8e-4a4e-e03e-9703f108cbd7"
      },
      "execution_count": 15,
      "outputs": [
        {
          "output_type": "stream",
          "name": "stdout",
          "text": [
            "Exception caught in thread: An error occurred\n"
          ]
        }
      ]
    },
    {
      "cell_type": "markdown",
      "source": [
        "**b. Use a Wrapper Function:**\n",
        "\n",
        "* Wrap the target function to log or handle exceptions.\n",
        "\n",
        "\n"
      ],
      "metadata": {
        "id": "lsVMu3lVVLpr"
      }
    },
    {
      "cell_type": "code",
      "source": [
        "def safe_wrapper(target, *args, **kwargs):\n",
        "    try:\n",
        "        target(*args, **kwargs)\n",
        "    except Exception as e:\n",
        "        print(f\"Handled exception: {e}\")\n"
      ],
      "metadata": {
        "id": "xIWZ9bO-VSYj"
      },
      "execution_count": 16,
      "outputs": []
    },
    {
      "cell_type": "markdown",
      "source": [
        "**c. Use Thread-safe Queues for Communication:**\n",
        "\n",
        "* Use a `queue.Queue` to pass exceptions or error messages back to the main thread.\n",
        "\n"
      ],
      "metadata": {
        "id": "L-8jCErRVYnL"
      }
    },
    {
      "cell_type": "code",
      "source": [
        "from queue import Queue\n",
        "import threading\n",
        "\n",
        "def worker(q):\n",
        "    try:\n",
        "        raise RuntimeError(\"Error in thread\")\n",
        "    except Exception as e:\n",
        "        q.put(e)  # Send exception to the main thread\n",
        "\n",
        "q = Queue()\n",
        "thread = threading.Thread(target=worker, args=(q,))\n",
        "thread.start()\n",
        "thread.join()\n",
        "\n",
        "if not q.empty():\n",
        "    exception = q.get()\n",
        "    print(f\"Exception caught from thread: {exception}\")\n"
      ],
      "metadata": {
        "colab": {
          "base_uri": "https://localhost:8080/"
        },
        "id": "2j9V4xgtVoTT",
        "outputId": "d89e86b8-e02d-47b7-f17c-acebe85de126"
      },
      "execution_count": 17,
      "outputs": [
        {
          "output_type": "stream",
          "name": "stdout",
          "text": [
            "Exception caught from thread: Error in thread\n"
          ]
        }
      ]
    },
    {
      "cell_type": "markdown",
      "source": [
        "---\n",
        "\n",
        "**2. Exception Handling in Processes**\n",
        "\n",
        "* Processes do not share memory, and exceptions raised in child processes do not propagate to the main process automatically.\n",
        "\n",
        "**a. Use `try-except` Blocks in Process Functions:**\n",
        "\n",
        "* Handle exceptions in the child process’s target function.\n",
        "\n",
        "\n",
        "\n",
        "\n"
      ],
      "metadata": {
        "id": "KF69mBN0Vqli"
      }
    },
    {
      "cell_type": "code",
      "source": [
        "from multiprocessing import Process\n",
        "\n",
        "def process_function():\n",
        "    try:\n",
        "        raise ValueError(\"Process exception\")\n",
        "    except Exception as e:\n",
        "        print(f\"Handled exception in process: {e}\")\n",
        "\n",
        "process = Process(target=process_function)\n",
        "process.start()\n",
        "process.join()\n"
      ],
      "metadata": {
        "colab": {
          "base_uri": "https://localhost:8080/"
        },
        "id": "iSlfydPGWM6D",
        "outputId": "e14f104c-075d-4cf1-f8b9-776f8fb098c2"
      },
      "execution_count": 18,
      "outputs": [
        {
          "output_type": "stream",
          "name": "stdout",
          "text": [
            "Handled exception in process: Process exception\n"
          ]
        }
      ]
    },
    {
      "cell_type": "markdown",
      "source": [
        "**b. Capture Exceptions with `multiprocessing.Queue`:**\n",
        "\n",
        "* Use a `multiprocessing.Queue` to pass exceptions back to the parent process.\n",
        "\n",
        "\n"
      ],
      "metadata": {
        "id": "FEDb3PiDWRuz"
      }
    },
    {
      "cell_type": "code",
      "source": [
        "from multiprocessing import Process, Queue\n",
        "\n",
        "def worker(q):\n",
        "    try:\n",
        "        raise RuntimeError(\"Error in process\")\n",
        "    except Exception as e:\n",
        "        q.put(e)  # Send exception to the parent process\n",
        "\n",
        "q = Queue()\n",
        "process = Process(target=worker, args=(q,))\n",
        "process.start()\n",
        "process.join()\n",
        "\n",
        "if not q.empty():\n",
        "    exception = q.get()\n",
        "    print(f\"Exception caught from process: {exception}\")\n"
      ],
      "metadata": {
        "colab": {
          "base_uri": "https://localhost:8080/"
        },
        "id": "Q2Epeg2gWdfT",
        "outputId": "5130ded1-91bf-43e4-cc61-17bc4492f550"
      },
      "execution_count": 19,
      "outputs": [
        {
          "output_type": "stream",
          "name": "stdout",
          "text": [
            "Exception caught from process: Error in process\n"
          ]
        }
      ]
    },
    {
      "cell_type": "markdown",
      "source": [
        "**c. Use `concurrent.futures.ProcessPoolExecutor`:**\n",
        "\n",
        "* The `ProcessPoolExecutor` propagates exceptions to the parent process, making handling easier.\n",
        "\n"
      ],
      "metadata": {
        "id": "6w_LoZW3WfCS"
      }
    },
    {
      "cell_type": "code",
      "source": [
        "from concurrent.futures import ProcessPoolExecutor\n",
        "\n",
        "def task():\n",
        "    raise ValueError(\"Error in task\")\n",
        "\n",
        "with ProcessPoolExecutor() as executor:\n",
        "    future = executor.submit(task)\n",
        "    try:\n",
        "        result = future.result()  # Raises the exception in the parent process\n",
        "    except Exception as e:\n",
        "        print(f\"Handled exception: {e}\")\n"
      ],
      "metadata": {
        "colab": {
          "base_uri": "https://localhost:8080/"
        },
        "id": "-JsczoC2WotT",
        "outputId": "e0463e8a-5e2c-4c43-b9e6-06ad8ce86901"
      },
      "execution_count": 20,
      "outputs": [
        {
          "output_type": "stream",
          "name": "stdout",
          "text": [
            "Handled exception: Error in task\n"
          ]
        }
      ]
    },
    {
      "cell_type": "markdown",
      "source": [
        "---\n"
      ],
      "metadata": {
        "id": "HOpMoWS8WrUT"
      }
    },
    {
      "cell_type": "markdown",
      "source": [
        "**3. Using Higher-Level Abstractions**\n",
        "\n",
        "**a. `concurrent.futures`:**\n",
        "\n",
        "* The `concurrent.futures` module provides thread and process pools where exceptions in tasks are automatically captured and can be handled using `future.result()` or `future.exception()`.\n",
        "\n"
      ],
      "metadata": {
        "id": "_HVNeP5eWwFc"
      }
    },
    {
      "cell_type": "code",
      "source": [
        "from concurrent.futures import ThreadPoolExecutor\n",
        "\n",
        "def faulty_task():\n",
        "    raise RuntimeError(\"Error in task\")\n",
        "\n",
        "with ThreadPoolExecutor() as executor:\n",
        "    future = executor.submit(faulty_task)\n",
        "    try:\n",
        "        result = future.result()\n",
        "    except Exception as e:\n",
        "        print(f\"Exception in task: {e}\")\n"
      ],
      "metadata": {
        "colab": {
          "base_uri": "https://localhost:8080/"
        },
        "id": "lVEOU4fKXIM7",
        "outputId": "72a3ef14-3fca-4541-a453-c48078824a06"
      },
      "execution_count": 21,
      "outputs": [
        {
          "output_type": "stream",
          "name": "stdout",
          "text": [
            "Exception in task: Error in task\n"
          ]
        }
      ]
    },
    {
      "cell_type": "markdown",
      "source": [
        "**b. Context Managers for Resources:**\n",
        "\n",
        "* Use context managers (with statements) to ensure that resources like files, locks, or database connections are properly released even when exceptions occur.\n",
        "\n"
      ],
      "metadata": {
        "id": "vY0ek47OXNYT"
      }
    },
    {
      "cell_type": "code",
      "source": [
        "lock = threading.Lock()\n",
        "\n",
        "with lock:\n",
        "    # Critical section\n",
        "    pass\n"
      ],
      "metadata": {
        "id": "bfd6XfHMXVB0"
      },
      "execution_count": 22,
      "outputs": []
    },
    {
      "cell_type": "markdown",
      "source": [
        "---"
      ],
      "metadata": {
        "id": "w2dLqV5NXXvi"
      }
    },
    {
      "cell_type": "markdown",
      "source": [
        "### **Best Practices for Exception Handling in Concurrent Programs**\n",
        "\n",
        "**1. Isolate Critical Sections:**\n",
        "\n",
        "* Only protect critical sections with locks to minimize contention and simplify debugging.\n",
        "\n",
        "**2. Use Centralized Logging:**\n",
        "\n",
        "* Log all exceptions in threads or processes for debugging and error tracking.\n",
        "\n",
        "**3. Test with Edge Cases:**\n",
        "\n",
        "* Test concurrency with high workloads and edge cases to identify potential race conditions or deadlocks.\n",
        "\n",
        "**4. Avoid Silent Failures:**\n",
        "\n",
        "* Always catch and log exceptions. Silent failures make debugging significantly harder.\n",
        "\n",
        "**5. Use Timeouts:**\n",
        "\n",
        "* When waiting for threads or processes, use timeouts to avoid indefinite blocking.\n",
        "\n",
        "**6. Fail Gracefully:**\n",
        "\n",
        "* Ensure the program can recover or shut down cleanly in case of exceptions.\n",
        "\n",
        "---"
      ],
      "metadata": {
        "id": "zD3FL3ZNXYuz"
      }
    },
    {
      "cell_type": "markdown",
      "source": [
        "# **Q7. Create a program that uses a thread pool to calculate the factorial of numbers from 1 to 10 concurrently. Use concurrent.futures.ThreadPoolExecutor to manage the threads.**\n",
        "\n",
        "**Ans:** Here's a Python program that uses concurrent.futures.ThreadPoolExecutor to calculate the factorial of numbers from 1 to 10 concurrently.\n",
        "\n",
        "\n",
        "\n"
      ],
      "metadata": {
        "id": "cJPQZ7iGZKYr"
      }
    },
    {
      "cell_type": "code",
      "source": [
        "from concurrent.futures import ThreadPoolExecutor\n",
        "import math\n",
        "\n",
        "# Function to calculate the factorial of a number\n",
        "def calculate_factorial(n):\n",
        "    print(f\"Calculating factorial of {n}\")\n",
        "    return math.factorial(n)\n",
        "\n",
        "def main():\n",
        "    numbers = list(range(1, 11))  # Numbers from 1 to 10\n",
        "    results = {}\n",
        "\n",
        "    # Use ThreadPoolExecutor to manage threads\n",
        "    with ThreadPoolExecutor(max_workers=5) as executor:\n",
        "        # Submit tasks to the thread pool\n",
        "        future_to_number = {executor.submit(calculate_factorial, num): num for num in numbers}\n",
        "\n",
        "        # Collect results as they are completed\n",
        "        for future in future_to_number:\n",
        "            number = future_to_number[future]\n",
        "            try:\n",
        "                results[number] = future.result()\n",
        "            except Exception as e:\n",
        "                print(f\"Error calculating factorial of {number}: {e}\")\n",
        "\n",
        "    # Print the results\n",
        "    for number, factorial in results.items():\n",
        "        print(f\"Factorial of {number} is {factorial}\")\n",
        "\n",
        "if __name__ == \"__main__\":\n",
        "    main()\n"
      ],
      "metadata": {
        "colab": {
          "base_uri": "https://localhost:8080/"
        },
        "id": "wbxSXoowan4T",
        "outputId": "e5c90512-d51a-4c14-d472-ee0513bb8581"
      },
      "execution_count": 24,
      "outputs": [
        {
          "output_type": "stream",
          "name": "stdout",
          "text": [
            "Calculating factorial of 1\n",
            "Calculating factorial of 2\n",
            "Calculating factorial of 3\n",
            "Calculating factorial of 4\n",
            "Calculating factorial of 5\n",
            "Calculating factorial of 6\n",
            "Calculating factorial of 7\n",
            "Calculating factorial of 8\n",
            "Calculating factorial of 9\n",
            "Calculating factorial of 10\n",
            "Factorial of 1 is 1\n",
            "Factorial of 2 is 2\n",
            "Factorial of 3 is 6\n",
            "Factorial of 4 is 24\n",
            "Factorial of 5 is 120\n",
            "Factorial of 6 is 720\n",
            "Factorial of 7 is 5040\n",
            "Factorial of 8 is 40320\n",
            "Factorial of 9 is 362880\n",
            "Factorial of 10 is 3628800\n"
          ]
        }
      ]
    },
    {
      "cell_type": "markdown",
      "source": [
        "### **Explanation:**\n",
        "\n",
        "**1. Task Function:**\n",
        "\n",
        "* calculate_factorial(n) computes the factorial of a given number n.\n",
        "\n",
        "**2. Thread Pool:**\n",
        "\n",
        "* A ThreadPoolExecutor with a maximum of 5 workers is used to manage threads.\n",
        "You can adjust max_workers to control the concurrency level.\n",
        "\n",
        "**3. Submitting Tasks:**\n",
        "\n",
        "* The submit method schedules tasks for execution, and a dictionary maps Future objects to their corresponding numbers.\n",
        "\n",
        "**4. Fetching Results:**\n",
        "\n",
        "* As tasks complete, their results are fetched using future.result(). Any exceptions raised during computation are caught and handled.\n",
        "\n",
        "**5. Output:**\n",
        "\n",
        "* The program prints the factorial of each number after computation.\n",
        "---"
      ],
      "metadata": {
        "id": "rKvQQrlMawfb"
      }
    },
    {
      "cell_type": "markdown",
      "source": [
        "# **Q8. Create a Python program that uses multiprocessing.Pool to compute the square of numbers from 1 to 10 in parallel. Measure the time taken to perform this computation using a pool of different sizes (e.g., 2, 4, 8 processes)**\n",
        "\n",
        "**Ans:** Here is a Python program that uses `multiprocessing.Pool` to compute the square of numbers from 1 to 10 in parallel. The program also measures the time taken for computation with different pool sizes (e.g., 2, 4, and 8 processes).\n",
        "\n",
        "\n",
        "\n"
      ],
      "metadata": {
        "id": "K6oR7gAQbj7U"
      }
    },
    {
      "cell_type": "code",
      "source": [
        "from multiprocessing import Pool\n",
        "import time\n",
        "\n",
        "# Function to compute the square of a number\n",
        "def compute_square(n):\n",
        "    return n * n\n",
        "\n",
        "def main():\n",
        "    numbers = list(range(1, 11))  # Numbers from 1 to 10\n",
        "    pool_sizes = [2, 4, 8]  # Different pool sizes to test\n",
        "\n",
        "    for pool_size in pool_sizes:\n",
        "        print(f\"\\nUsing a pool of size: {pool_size}\")\n",
        "\n",
        "        # Measure start time\n",
        "        start_time = time.time()\n",
        "\n",
        "        # Create a pool with the specified size\n",
        "        with Pool(processes=pool_size) as pool:\n",
        "            # Compute squares in parallel\n",
        "            results = pool.map(compute_square, numbers)\n",
        "\n",
        "        # Measure end time\n",
        "        end_time = time.time()\n",
        "\n",
        "        # Display results\n",
        "        print(f\"Results: {results}\")\n",
        "        print(f\"Time taken: {end_time - start_time:.4f} seconds\")\n",
        "\n",
        "if __name__ == \"__main__\":\n",
        "    main()\n"
      ],
      "metadata": {
        "colab": {
          "base_uri": "https://localhost:8080/"
        },
        "id": "_eoNFtfees7c",
        "outputId": "5231ae6e-3a90-4884-ef20-883148752df9"
      },
      "execution_count": 25,
      "outputs": [
        {
          "output_type": "stream",
          "name": "stdout",
          "text": [
            "\n",
            "Using a pool of size: 2\n",
            "Results: [1, 4, 9, 16, 25, 36, 49, 64, 81, 100]\n",
            "Time taken: 0.0331 seconds\n",
            "\n",
            "Using a pool of size: 4\n",
            "Results: [1, 4, 9, 16, 25, 36, 49, 64, 81, 100]\n",
            "Time taken: 0.0545 seconds\n",
            "\n",
            "Using a pool of size: 8\n",
            "Results: [1, 4, 9, 16, 25, 36, 49, 64, 81, 100]\n",
            "Time taken: 0.0930 seconds\n"
          ]
        }
      ]
    },
    {
      "cell_type": "markdown",
      "source": [
        "### **Explanation:**\n",
        "\n",
        "**1. Task Function:**\n",
        "\n",
        "* compute_square(n) computes the square of the given number n.\n",
        "\n",
        "**2. Number List:**\n",
        "\n",
        "* The numbers list contains integers from 1 to 10, which are the input for the computation.\n",
        "\n",
        "**3. Pool Sizes:**\n",
        "\n",
        "* The program tests three pool sizes: 2, 4, and 8 processes.\n",
        "\n",
        "**4. Parallel Computation:**\n",
        "\n",
        "* For each pool size, a Pool object is created, and the map method is used to distribute the computation across the processes in the pool.\n",
        "\n",
        "**5. Timing:**\n",
        "\n",
        "* The time.time() function is used to measure the time taken to compute the squares for each pool size.\n",
        "\n",
        "**6. Output:**\n",
        "\n",
        "* The results (squares of numbers) and the time taken for computation are printed for each pool size.\n",
        "\n",
        "---"
      ],
      "metadata": {
        "id": "F5GBFYA-fAQ8"
      }
    }
  ]
}