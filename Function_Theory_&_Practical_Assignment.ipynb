{
  "nbformat": 4,
  "nbformat_minor": 0,
  "metadata": {
    "colab": {
      "provenance": [],
      "authorship_tag": "ABX9TyPvk7MoCApayDSS47UR2T7c",
      "include_colab_link": true
    },
    "kernelspec": {
      "name": "python3",
      "display_name": "Python 3"
    },
    "language_info": {
      "name": "python"
    }
  },
  "cells": [
    {
      "cell_type": "markdown",
      "metadata": {
        "id": "view-in-github",
        "colab_type": "text"
      },
      "source": [
        "<a href=\"https://colab.research.google.com/github/PuspenduGitHub/Python-For-Data-Analytics-/blob/main/Function_Theory_%26_Practical_Assignment.ipynb\" target=\"_parent\"><img src=\"https://colab.research.google.com/assets/colab-badge.svg\" alt=\"Open In Colab\"/></a>"
      ]
    },
    {
      "cell_type": "markdown",
      "source": [
        "# **Assignment - FUNCTIONS**\n",
        "# **THEORY QUESTIONS**\n",
        "\n",
        "# **Q1. What is the difference between a function and a method in Python?**\n",
        "\n",
        "**Ans:**  In Python, the terms \"function\" and \"method\" refer to two types of callable objects that perform operations, but they are used in different contexts and have distinct characteristics. Here’s a breakdown of the differences:\n",
        "\n",
        "# **Function**\n",
        "\n",
        "**Definition:** A function is a block of reusable code that performs a specific task. Functions can be defined using the def keyword outside of any class.\n",
        "\n",
        "**Scope:** Functions are typically defined at the module level and can be called directly using their name. They are not bound to any object or class.\n"
      ],
      "metadata": {
        "id": "vwoofs7fY1Lu"
      }
    },
    {
      "cell_type": "code",
      "source": [
        "def add(a, b):\n",
        "    return a + b\n",
        "\n",
        "result = add(3, 5)  # Calls the function with 3 and 5 as arguments\n",
        "print(result)"
      ],
      "metadata": {
        "colab": {
          "base_uri": "https://localhost:8080/"
        },
        "id": "V_927dKncM31",
        "outputId": "64b3dafa-735e-49a0-9036-24a30ce0f95b"
      },
      "execution_count": 1,
      "outputs": [
        {
          "output_type": "stream",
          "name": "stdout",
          "text": [
            "8\n"
          ]
        }
      ]
    },
    {
      "cell_type": "markdown",
      "source": [
        "# **Method**\n",
        "\n",
        "**Definition:** A method is a function that is associated with an object or class. Methods are defined within a class and are meant to operate on the data contained within that class.\n",
        "\n",
        "**Scope:** Methods are bound to class instances (or the class itself for class methods) and typically operate on instance data or class data.\n",
        "\n"
      ],
      "metadata": {
        "id": "dDmxXdxRctXc"
      }
    },
    {
      "cell_type": "code",
      "source": [
        "class Calculator:\n",
        "    def add(self, a, b):\n",
        "        return a + b\n",
        "\n",
        "calc = Calculator()  # Create an instance of Calculator\n",
        "result = calc.add(3, 5)  # Calls the method on the instance\n",
        "print(result)"
      ],
      "metadata": {
        "colab": {
          "base_uri": "https://localhost:8080/"
        },
        "id": "Y5UxwvFWdQTk",
        "outputId": "db1dd8ba-6fe6-48ae-ffee-67cccaa955cf"
      },
      "execution_count": 2,
      "outputs": [
        {
          "output_type": "stream",
          "name": "stdout",
          "text": [
            "8\n"
          ]
        }
      ]
    },
    {
      "cell_type": "markdown",
      "source": [
        "# **Q2. Explain the concept of function arguments and parameters in Python.**\n",
        "\n",
        "**Ans:** In Python, the terms \"arguments\" and \"parameters\" are fundamental concepts related to functions. They are often used interchangeably, but they have distinct meanings. Here’s a detailed explanation of both:\n",
        "\n",
        "# **1. Parameters:**\n",
        "\n",
        "\n",
        "*   **Parameters** are the variables that are listed in the function definition. They act as placeholders for the values (arguments) that the function will receive when it's called.\n",
        "\n",
        "*   These variables are initialized when the function is invoked with actual values.\n",
        "\n",
        "**Example:**"
      ],
      "metadata": {
        "id": "hClIijwtdbHG"
      }
    },
    {
      "cell_type": "code",
      "source": [
        "def function_name(param1, param2):\n",
        "    # Function body\n",
        "    pass"
      ],
      "metadata": {
        "id": "OmNErB2aehhN"
      },
      "execution_count": null,
      "outputs": []
    },
    {
      "cell_type": "markdown",
      "source": [
        "# **2. Arguments:**\n",
        "\n",
        "\n",
        "*   **Arguments** are the actual values or data that are passed to the function when it is called. These values are assigned to the corresponding parameters.\n",
        "\n",
        "*   The function uses these values to perform its task.\n",
        "\n",
        "**Example:**\n",
        "\n"
      ],
      "metadata": {
        "id": "mSu-q3-YepO9"
      }
    },
    {
      "cell_type": "code",
      "source": [
        "function_name(arg1, arg2)\n"
      ],
      "metadata": {
        "id": "gGGoxayifD49"
      },
      "execution_count": null,
      "outputs": []
    },
    {
      "cell_type": "markdown",
      "source": [
        "# **Types of Function Arguments in Python:**\n",
        "\n",
        "**A. Positional Arguments:** These are the most common type of arguments and are passed to the function in the same order as the parameters in the function definition.\n"
      ],
      "metadata": {
        "id": "MtF8nBWOfKkF"
      }
    },
    {
      "cell_type": "code",
      "source": [
        "def greet(name, age):\n",
        "    print(f\"Hello {name}, you are {age} years old.\")\n",
        "\n",
        "greet(\"Alice\", 30)  # 'Alice' is assigned to 'name', and 30 is assigned to 'age'"
      ],
      "metadata": {
        "colab": {
          "base_uri": "https://localhost:8080/"
        },
        "id": "1i4V0lHHfjE2",
        "outputId": "7da8f6d7-44d7-4435-d8d0-9d76060b421f"
      },
      "execution_count": 3,
      "outputs": [
        {
          "output_type": "stream",
          "name": "stdout",
          "text": [
            "Hello Alice, you are 30 years old.\n"
          ]
        }
      ]
    },
    {
      "cell_type": "markdown",
      "source": [
        "**B. Keyword Arguments:** These arguments are passed by explicitly specifying the parameter names and their values. This allows you to pass arguments in any order.\n",
        "\n"
      ],
      "metadata": {
        "id": "C4WAGuVmfnKO"
      }
    },
    {
      "cell_type": "code",
      "source": [
        "def greet(name, age):\n",
        "    print(f\"Hello {name}, you are {age} years old.\")\n",
        "\n",
        "greet(age=30, name=\"Alice\")  # 'name' and 'age' are specified explicitly"
      ],
      "metadata": {
        "colab": {
          "base_uri": "https://localhost:8080/"
        },
        "id": "nZxgA6rrftVV",
        "outputId": "8ca042be-710e-4a81-88a9-0a2cd4ed89d1"
      },
      "execution_count": 4,
      "outputs": [
        {
          "output_type": "stream",
          "name": "stdout",
          "text": [
            "Hello Alice, you are 30 years old.\n"
          ]
        }
      ]
    },
    {
      "cell_type": "markdown",
      "source": [
        "**C. Default Arguments:** These arguments have default values specified in the function definition. If no value is passed for these arguments, the default value is used.\n",
        "\n"
      ],
      "metadata": {
        "id": "cVjzAe9KfzDF"
      }
    },
    {
      "cell_type": "code",
      "source": [
        "def greet(name, age=25):\n",
        "    print(f\"Hello {name}, you are {age} years old.\")\n",
        "\n",
        "greet(\"Alice\")  # 'age' will take the default value of 25"
      ],
      "metadata": {
        "colab": {
          "base_uri": "https://localhost:8080/"
        },
        "id": "Gbse2q31f4uV",
        "outputId": "6b7c6a55-fc5e-4d33-ac92-279ecb92b70a"
      },
      "execution_count": 5,
      "outputs": [
        {
          "output_type": "stream",
          "name": "stdout",
          "text": [
            "Hello Alice, you are 25 years old.\n"
          ]
        }
      ]
    },
    {
      "cell_type": "markdown",
      "source": [
        "**D. Variable-Length Arguments:** *args: Used to pass a variable number of positional arguments. *args collects extra positional arguments as a tuple.\n",
        "\n"
      ],
      "metadata": {
        "id": "OYEbSNQUf8oN"
      }
    },
    {
      "cell_type": "code",
      "source": [
        "def add_numbers(*args):\n",
        "    return sum(args)\n",
        "\n",
        "print(add_numbers(1, 2, 3, 4))"
      ],
      "metadata": {
        "colab": {
          "base_uri": "https://localhost:8080/"
        },
        "id": "XnlvKXj9gbPF",
        "outputId": "ac8320fa-bdaf-46b8-835f-c162941380e0"
      },
      "execution_count": 6,
      "outputs": [
        {
          "output_type": "stream",
          "name": "stdout",
          "text": [
            "10\n"
          ]
        }
      ]
    },
    {
      "cell_type": "markdown",
      "source": [
        "**kwargs: Used to pass a variable number of keyword arguments. italicized text **kwargs collects extra keyword arguments as a dictionary.\n",
        "\n"
      ],
      "metadata": {
        "id": "ZvXYEmB1gc6l"
      }
    },
    {
      "cell_type": "code",
      "source": [
        "def print_info(**kwargs):\n",
        "    for key, value in kwargs.items():\n",
        "        print(f\"{key}: {value}\")\n",
        "\n",
        "print_info(name=\"Alice\", age=30, city=\"Wonderland\")\n"
      ],
      "metadata": {
        "colab": {
          "base_uri": "https://localhost:8080/"
        },
        "id": "IvVNf579gmVV",
        "outputId": "9d4c83e4-af4e-4f66-a885-ade8ccf1ef96"
      },
      "execution_count": 7,
      "outputs": [
        {
          "output_type": "stream",
          "name": "stdout",
          "text": [
            "name: Alice\n",
            "age: 30\n",
            "city: Wonderland\n"
          ]
        }
      ]
    },
    {
      "cell_type": "markdown",
      "source": [
        "# **Q3. What are the different ways to define and call a function in Python?**\n",
        "\n",
        "**Ans:** In Python, functions can be defined and called in several ways to accommodate different programming needs. Here’s a comprehensive guide to the various methods for defining and calling functions:\n",
        "\n",
        "# **1. Basic Function Definition and Call**\n",
        "\n",
        "**Definition:**\n"
      ],
      "metadata": {
        "id": "39y4merTg5Mc"
      }
    },
    {
      "cell_type": "code",
      "source": [
        "def function_name(param1, param2):\n",
        "    # Function body\n",
        "    return param1 + param2"
      ],
      "metadata": {
        "id": "PeZyybzuiGcv"
      },
      "execution_count": 19,
      "outputs": []
    },
    {
      "cell_type": "markdown",
      "source": [
        "**Call:**\n",
        "\n"
      ],
      "metadata": {
        "id": "cU9h5JBJiI22"
      }
    },
    {
      "cell_type": "code",
      "source": [
        "result = function_name(10, 5)\n",
        "print(result)"
      ],
      "metadata": {
        "colab": {
          "base_uri": "https://localhost:8080/"
        },
        "id": "nINUXs-xiMu-",
        "outputId": "ea52e47e-09b5-4f73-e4a5-e6c6862fbc4a"
      },
      "execution_count": 20,
      "outputs": [
        {
          "output_type": "stream",
          "name": "stdout",
          "text": [
            "15\n"
          ]
        }
      ]
    },
    {
      "cell_type": "markdown",
      "source": [
        "# **2. Function with Default Arguments**\n",
        "\n",
        "**Definition:**\n",
        "\n",
        "\n"
      ],
      "metadata": {
        "id": "_THJxU9oj5uO"
      }
    },
    {
      "cell_type": "code",
      "source": [
        "def greet(name, greeting=\"Hello\"):\n",
        "    return f\"{greeting}, {name}!\""
      ],
      "metadata": {
        "id": "9FyVXK3JkM-2"
      },
      "execution_count": 23,
      "outputs": []
    },
    {
      "cell_type": "markdown",
      "source": [
        "**Call:**\n",
        "\n"
      ],
      "metadata": {
        "id": "gTyoGqvZkSkG"
      }
    },
    {
      "cell_type": "code",
      "source": [
        "print(greet(\"Alice\"))\n",
        "print(greet(\"Bob\", \"Hi\"))"
      ],
      "metadata": {
        "colab": {
          "base_uri": "https://localhost:8080/"
        },
        "id": "6Dp1iwQUkXsO",
        "outputId": "6ba3af6a-9363-4ae9-e23f-5ecd49ae7765"
      },
      "execution_count": 24,
      "outputs": [
        {
          "output_type": "stream",
          "name": "stdout",
          "text": [
            "Hello, Alice!\n",
            "Hi, Bob!\n"
          ]
        }
      ]
    },
    {
      "cell_type": "markdown",
      "source": [
        "# **3. Function with Variable-Length Positional Arguments (*args)**\n",
        "\n",
        "**Definition:**\n",
        "\n"
      ],
      "metadata": {
        "id": "2rIds_GytGIP"
      }
    },
    {
      "cell_type": "code",
      "source": [
        "def add_numbers(*args):\n",
        "    return sum(args)"
      ],
      "metadata": {
        "id": "1eJPueuntbLZ"
      },
      "execution_count": 25,
      "outputs": []
    },
    {
      "cell_type": "markdown",
      "source": [
        "**Call:**\n",
        "\n"
      ],
      "metadata": {
        "id": "9gasckrVtfpw"
      }
    },
    {
      "cell_type": "code",
      "source": [
        "print(add_numbers(1, 2, 3))\n",
        "print(add_numbers(1, 2, 3, 4, 5))"
      ],
      "metadata": {
        "colab": {
          "base_uri": "https://localhost:8080/"
        },
        "id": "yp5kR03Qtjah",
        "outputId": "a38c738d-7712-42fb-80f5-8ed3fb42dd0a"
      },
      "execution_count": 26,
      "outputs": [
        {
          "output_type": "stream",
          "name": "stdout",
          "text": [
            "6\n",
            "15\n"
          ]
        }
      ]
    },
    {
      "cell_type": "markdown",
      "source": [
        "# **4. Function with Variable-Length Keyword Arguments (**kwargs)**\n",
        "\n",
        "**Definition:**\n",
        "\n",
        "\n"
      ],
      "metadata": {
        "id": "mLeg9e4Uto75"
      }
    },
    {
      "cell_type": "code",
      "source": [
        "def print_info(**kwargs):\n",
        "    for key, value in kwargs.items():\n",
        "        print(f\"{key}: {value}\")"
      ],
      "metadata": {
        "id": "MO1oLSQSt22Q"
      },
      "execution_count": 27,
      "outputs": []
    },
    {
      "cell_type": "markdown",
      "source": [
        "**Call:**\n",
        "\n"
      ],
      "metadata": {
        "id": "wxEDnbQGt5UI"
      }
    },
    {
      "cell_type": "code",
      "source": [
        "print_info(name=\"Alice\", age=30, city=\"Wonderland\")\n"
      ],
      "metadata": {
        "colab": {
          "base_uri": "https://localhost:8080/"
        },
        "id": "N5J8gZ-Ot78I",
        "outputId": "87584be4-fb09-4bfe-cef5-7525c444e72c"
      },
      "execution_count": 28,
      "outputs": [
        {
          "output_type": "stream",
          "name": "stdout",
          "text": [
            "name: Alice\n",
            "age: 30\n",
            "city: Wonderland\n"
          ]
        }
      ]
    },
    {
      "cell_type": "markdown",
      "source": [
        "# **5. Lambda Functions**\n",
        "\n",
        "**Definition:**\n",
        "\n",
        "\n"
      ],
      "metadata": {
        "id": "rrBwTvk7t-vR"
      }
    },
    {
      "cell_type": "code",
      "source": [
        "add = lambda x, y: x + y\n"
      ],
      "metadata": {
        "id": "DJA0zQ0KuJog"
      },
      "execution_count": 29,
      "outputs": []
    },
    {
      "cell_type": "markdown",
      "source": [
        "**Call:**\n",
        "\n"
      ],
      "metadata": {
        "id": "NeNih_NPuQPg"
      }
    },
    {
      "cell_type": "code",
      "source": [
        "print(add(10, 5))\n"
      ],
      "metadata": {
        "colab": {
          "base_uri": "https://localhost:8080/"
        },
        "id": "nGOJmUc-uVFo",
        "outputId": "29f6eb39-d67e-4ac9-bcd6-6684a6f2db78"
      },
      "execution_count": 30,
      "outputs": [
        {
          "output_type": "stream",
          "name": "stdout",
          "text": [
            "15\n"
          ]
        }
      ]
    },
    {
      "cell_type": "markdown",
      "source": [
        "# **6. Functions as First-Class Objects**\n",
        "\n",
        "Functions in Python are first-class objects, meaning you can assign them to variables, pass them as arguments, and return them from other functions.\n",
        "\n"
      ],
      "metadata": {
        "id": "Lrp7WcEjuWqY"
      }
    },
    {
      "cell_type": "code",
      "source": [
        "def multiply(x, y):\n",
        "    return x * y\n",
        "\n",
        "def apply_function(func, a, b):\n",
        "    return func(a, b)\n",
        "\n",
        "result = apply_function(multiply, 4, 5)\n",
        "print(result)"
      ],
      "metadata": {
        "colab": {
          "base_uri": "https://localhost:8080/"
        },
        "id": "euFO3JSnugwA",
        "outputId": "f13816e6-a2e2-4cd8-a3c9-91487518723a"
      },
      "execution_count": 31,
      "outputs": [
        {
          "output_type": "stream",
          "name": "stdout",
          "text": [
            "20\n"
          ]
        }
      ]
    },
    {
      "cell_type": "markdown",
      "source": [
        "# **7. Nested Functions**\n",
        "\n",
        "**Definition:**\n",
        "\n"
      ],
      "metadata": {
        "id": "FHLvwV5suiS5"
      }
    },
    {
      "cell_type": "code",
      "source": [
        "def outer_function(x):\n",
        "    def inner_function(y):\n",
        "        return y * y\n",
        "    return inner_function(x) + 10"
      ],
      "metadata": {
        "id": "uvN57nvvuq8Y"
      },
      "execution_count": 32,
      "outputs": []
    },
    {
      "cell_type": "markdown",
      "source": [
        "**Call:**\n",
        "\n"
      ],
      "metadata": {
        "id": "LxE-c8MuuujY"
      }
    },
    {
      "cell_type": "code",
      "source": [
        "print(outer_function(5))  # Output: 35\n",
        "\n",
        "# Note: Nested functions (functions defined within another function) can access variables from their enclosing scope\n",
        ""
      ],
      "metadata": {
        "colab": {
          "base_uri": "https://localhost:8080/"
        },
        "id": "OYnhFaPiuxMY",
        "outputId": "5892d147-7a71-4cb9-bc4a-e140135ba392"
      },
      "execution_count": 33,
      "outputs": [
        {
          "output_type": "stream",
          "name": "stdout",
          "text": [
            "35\n"
          ]
        }
      ]
    },
    {
      "cell_type": "markdown",
      "source": [
        "# **8. Recursive Functions**\n",
        "\n",
        "**Definition:**\n",
        "\n"
      ],
      "metadata": {
        "id": "QK5J6y9_u3mg"
      }
    },
    {
      "cell_type": "code",
      "source": [
        "def factorial(n):\n",
        "    if n == 0:\n",
        "        return 1\n",
        "    else:\n",
        "        return n * factorial(n-1)"
      ],
      "metadata": {
        "id": "uTpG4tFiu-so"
      },
      "execution_count": 34,
      "outputs": []
    },
    {
      "cell_type": "markdown",
      "source": [
        "**Call:**\n",
        "\n"
      ],
      "metadata": {
        "id": "iQ2P7nY1vBMx"
      }
    },
    {
      "cell_type": "code",
      "source": [
        "print(factorial(5))  # Output: 120\n",
        "\n",
        "# Note: Recursive functions call themselves to solve a problem in smaller subproblems. Ensure there is a base case to prevent infinite recursion.\n",
        ""
      ],
      "metadata": {
        "colab": {
          "base_uri": "https://localhost:8080/"
        },
        "id": "LcAtKveTvDwo",
        "outputId": "6f9ecb8f-086a-4d9a-9b40-4486c8f5bf6d"
      },
      "execution_count": 35,
      "outputs": [
        {
          "output_type": "stream",
          "name": "stdout",
          "text": [
            "120\n"
          ]
        }
      ]
    },
    {
      "cell_type": "markdown",
      "source": [
        "# **9. Using functools.partial for Partial Function Application**\n",
        "\n",
        "**Definition:**\n",
        "\n",
        "\n"
      ],
      "metadata": {
        "id": "JAyqOGikvGwo"
      }
    },
    {
      "cell_type": "code",
      "source": [
        "\n",
        "from functools import partial\n",
        "\n",
        "def power(base, exponent):\n",
        "    return base ** exponent\n",
        "\n",
        "square = partial(power, exponent=2)"
      ],
      "metadata": {
        "id": "X3pRO9NqvPO5"
      },
      "execution_count": 36,
      "outputs": []
    },
    {
      "cell_type": "markdown",
      "source": [
        "**Call:**\n",
        "\n"
      ],
      "metadata": {
        "id": "NJS3kRYEvSNR"
      }
    },
    {
      "cell_type": "code",
      "source": [
        "print(square(5))  # Output: 25\n",
        "\n",
        "# Note: functools.partial allows you to \"freeze\" some portion of a function’s arguments, creating a new function with fewer arguments.\n",
        ""
      ],
      "metadata": {
        "colab": {
          "base_uri": "https://localhost:8080/"
        },
        "id": "eV5DcHhKvU_I",
        "outputId": "c34af72b-b233-4ea1-96be-549bb37987ab"
      },
      "execution_count": 37,
      "outputs": [
        {
          "output_type": "stream",
          "name": "stdout",
          "text": [
            "25\n"
          ]
        }
      ]
    },
    {
      "cell_type": "markdown",
      "source": [
        "# **Q4- What is the purpose of the 'return' statement in a Python function?**\n",
        "\n",
        "**Ans:** The return statement in a Python function is used to exit the function and optionally pass back a value to the caller. Here’s a detailed look at its purpose and functionality:\n",
        "\n",
        "**Purpose of the return Statement**\n",
        "\n",
        "**Exit a Function:** The primary purpose of the return statement is to exit a function. When return is executed, the function terminates immediately, and control is transferred back to the caller.\n",
        "\n",
        "**Return a Value:** The return statement allows you to pass a value from the function back to the caller. This is useful for functions that perform computations or operations and need to provide a result.\n",
        "\n",
        "**End Function Execution:** After a return statement is executed, no further code in the function is executed. This makes return useful for terminating a function early based on certain conditions.\n",
        "\n",
        "# **Examples:**\n",
        "\n",
        "**1. Returning a Value:**\n"
      ],
      "metadata": {
        "id": "pr9C4Fofvmrp"
      }
    },
    {
      "cell_type": "code",
      "source": [
        "def add(x, y):\n",
        "    return x + y\n",
        "\n",
        "result = add(5, 3)\n",
        "print(result)"
      ],
      "metadata": {
        "colab": {
          "base_uri": "https://localhost:8080/"
        },
        "id": "T4zmt1ffxJ0R",
        "outputId": "1564476f-13f9-4594-c766-db679fc915c4"
      },
      "execution_count": 38,
      "outputs": [
        {
          "output_type": "stream",
          "name": "stdout",
          "text": [
            "8\n"
          ]
        }
      ]
    },
    {
      "cell_type": "markdown",
      "source": [
        "**2. Returning Multiple Values:**\n",
        "\n"
      ],
      "metadata": {
        "id": "vCwSCCbqxUC6"
      }
    },
    {
      "cell_type": "code",
      "source": [
        "def get_person_info():\n",
        "    name = \"Alice\"\n",
        "    age = 30\n",
        "    return name, age\n",
        "\n",
        "person_name, person_age = get_person_info()\n",
        "print(person_name, person_age)\n",
        ""
      ],
      "metadata": {
        "colab": {
          "base_uri": "https://localhost:8080/"
        },
        "id": "wupLKU3dxaTp",
        "outputId": "6374e178-58f5-4e17-9953-372e7acbcba6"
      },
      "execution_count": 39,
      "outputs": [
        {
          "output_type": "stream",
          "name": "stdout",
          "text": [
            "Alice 30\n"
          ]
        }
      ]
    },
    {
      "cell_type": "markdown",
      "source": [
        "**3. Returning Early:**\n",
        "\n"
      ],
      "metadata": {
        "id": "857h9h0Vxdnx"
      }
    },
    {
      "cell_type": "code",
      "source": [
        "def divide(a, b):\n",
        "    if b == 0:\n",
        "        return \"Error: Division by zero!\"\n",
        "    return a / b\n",
        "\n",
        "print(divide(10, 2))\n",
        "print(divide(10, 0))"
      ],
      "metadata": {
        "colab": {
          "base_uri": "https://localhost:8080/"
        },
        "id": "ar_ocRubxkYC",
        "outputId": "6ba11ace-66bd-4577-96e8-9881f35a34e0"
      },
      "execution_count": 40,
      "outputs": [
        {
          "output_type": "stream",
          "name": "stdout",
          "text": [
            "5.0\n",
            "Error: Division by zero!\n"
          ]
        }
      ]
    },
    {
      "cell_type": "markdown",
      "source": [
        "**4. Implicit Return:**\n",
        "\n"
      ],
      "metadata": {
        "id": "4F0VqgHXxn35"
      }
    },
    {
      "cell_type": "code",
      "source": [
        "def no_return():\n",
        "    print(\"This function has no return statement.\")\n",
        "\n",
        "result = no_return()\n",
        "print(result)"
      ],
      "metadata": {
        "colab": {
          "base_uri": "https://localhost:8080/"
        },
        "id": "5pTQE6hnxtN5",
        "outputId": "8c69cb06-eab2-4b55-f8a2-c22cbf53e948"
      },
      "execution_count": 41,
      "outputs": [
        {
          "output_type": "stream",
          "name": "stdout",
          "text": [
            "This function has no return statement.\n",
            "None\n"
          ]
        }
      ]
    },
    {
      "cell_type": "markdown",
      "source": [
        "# **Q5. What are iterators in Python and how do they differ from iterables?**\n",
        "\n",
        "**Ans:**  In Python, iterators and iterables are core concepts related to iteration and looping. Understanding their differences and how they work is essential for effective Python programming. Here's a detailed explanation:\n",
        "\n",
        "# **Iterables**\n",
        "\n",
        "**Definition:** An iterable is any Python object that can be iterated over (looped through) using a for loop. Iterables implement the iter() method, which returns an iterator.\n",
        "\n",
        "**Examples of Iterables:**\n",
        "\n",
        "\n",
        "**a-** Lists\n",
        "\n",
        "**b-** Tuples\n",
        "\n",
        "**c-** Strings\n",
        "\n",
        "**d-** Dictionaries\n",
        "\n",
        "**e-** Sets\n",
        "\n",
        "**Key Points:** Iterables can be used in a for loop, comprehensions, or other contexts that require iteration. They have an iter() method that returns an iterator.\n",
        "\n",
        "**Example:**\n"
      ],
      "metadata": {
        "id": "sZONfANKyizh"
      }
    },
    {
      "cell_type": "code",
      "source": [
        "# A list is an iterable\n",
        "numbers = [1, 2, 3, 4, 5]\n",
        "\n",
        "# Iterating over the list\n",
        "for number in numbers:\n",
        "    print(number)"
      ],
      "metadata": {
        "colab": {
          "base_uri": "https://localhost:8080/"
        },
        "id": "jJ-H9vpqzcKh",
        "outputId": "a7ff9ba4-abc7-489c-e609-ede6d3e09ee5"
      },
      "execution_count": 42,
      "outputs": [
        {
          "output_type": "stream",
          "name": "stdout",
          "text": [
            "1\n",
            "2\n",
            "3\n",
            "4\n",
            "5\n"
          ]
        }
      ]
    },
    {
      "cell_type": "markdown",
      "source": [
        "# **Iterators**\n",
        "\n",
        "**Definition:**\n",
        "\n",
        "An iterator is an object that represents a stream of data and supports iteration. It implements two methods:\n",
        "\n",
        "**a. iter()** which returns the iterator object itself.\n",
        "\n",
        "**b. next()** (or next() in Python 2) which returns the next item in the sequence. When there are no more items, it raises a StopIteration exception.\n",
        "\n",
        "**Key Points:** Iterators are used to traverse through a sequence of values. They keep track of the current state during iteration. They are created from iterables by calling iter() on the iterable.\n",
        "\n",
        "**Example:**\n",
        "\n",
        "\n",
        "\n"
      ],
      "metadata": {
        "id": "yzTkKfS3zjXx"
      }
    },
    {
      "cell_type": "code",
      "source": [
        "# Creating an iterator from a list\n",
        "numbers = [1, 2, 3, 4, 5]\n",
        "iterator = iter(numbers)\n",
        "\n",
        "# Iterating using the iterator\n",
        "while True:\n",
        "    try:\n",
        "        number = next(iterator)\n",
        "        print(number)\n",
        "    except StopIteration:\n",
        "        break\n",
        ""
      ],
      "metadata": {
        "colab": {
          "base_uri": "https://localhost:8080/"
        },
        "id": "Elmo-z3mz_W6",
        "outputId": "f9f934fc-0686-4cf9-984a-6027b5f23f4e"
      },
      "execution_count": 43,
      "outputs": [
        {
          "output_type": "stream",
          "name": "stdout",
          "text": [
            "1\n",
            "2\n",
            "3\n",
            "4\n",
            "5\n"
          ]
        }
      ]
    },
    {
      "cell_type": "markdown",
      "source": [
        "# **Differences Between Iterables and Iterators**\n",
        "\n",
        "## **Definition and Purpose:**\n",
        "\n",
        "**Iterable:** An object that can return an iterator. It defines the iter() method.\n",
        "\n",
        "**Iterator:** An object that maintains its state while iterating. It defines both iter() and next() methods.\n",
        "\n",
        "## **State Management:**\n",
        "\n",
        "**Iterable:** Does not maintain state; it can be iterated over multiple times. Each call to iter() returns a new iterator.\n",
        "\n",
        "**Iterator:** Maintains its state; each call to next() returns the next item until it raises StopIteration.\n",
        "\n",
        "## **Usage:**\n",
        "\n",
        "**Iterable:** Can be used to get an iterator and can be iterated over multiple times.\n",
        "\n",
        "**Iterator:** Used to traverse through data; it is exhausted once it has iterated over all items.\n",
        "\n",
        "## **Creation:**\n",
        "\n",
        "**Iterable:** Any object that implements iter().\n",
        "\n",
        "**Iterator:** Created by calling iter() on an iterable, which returns an iterator object.\n",
        "\n",
        "\n"
      ],
      "metadata": {
        "id": "Au0uV1fG0CeZ"
      }
    },
    {
      "cell_type": "markdown",
      "source": [
        "# **Q6. Explain the concept of generators in Python and how they are defined.**\n",
        "\n",
        "**Ans:** In Python, generators are a type of iterable that allow you to lazily generate a sequence of values one at a time, without having to create and store the entire sequence in memory at once. They are especially useful when dealing with large datasets or streams of data where generating the entire sequence upfront would be inefficient or infeasible.\n",
        "\n",
        "Generators are a more memory-efficient alternative to lists and other iterables because they \"generate\" values on the fly and only when requested.\n",
        "\n",
        "## **Key Concepts of Generators:**\n",
        "1. **Lazy Evaluation:**\n",
        "\n",
        "  *   Generators don't compute values all at once. Instead, they yield values one at a time, only when requested, making them memory-efficient.\n",
        "\n",
        "2. **Yield Statement:**\n",
        "\n",
        "  *   Generators use the yield statement to produce a value and temporarily suspend their execution, saving their state so they can resume from where they left off the next time next() is called.\n",
        "\n",
        "  *   Unlike return, which terminates a function completely, yield pauses the function and remembers its place, allowing it to continue where it left off.\n",
        "\n",
        "## **Defining a Generator:**\n",
        "\n",
        "\n",
        "\n",
        "*   Generators are defined like regular functions, but instead of return, they use the yield keyword to produce values one at a time.\n",
        "\n",
        "**Example:**\n"
      ],
      "metadata": {
        "id": "9aMH_wl73JLq"
      }
    },
    {
      "cell_type": "code",
      "source": [
        "def simple_generator():\n",
        "    yield 1\n",
        "    yield 2\n",
        "    yield 3\n",
        "\n",
        "# Using the generator\n",
        "gen = simple_generator()\n",
        "\n",
        "# Calling next() on the generator object\n",
        "print(next(gen))  # Output: 1\n",
        "print(next(gen))  # Output: 2\n",
        "print(next(gen))  # Output: 3\n",
        "# print(next(gen))  # Raises StopIteration when no more items are yielded\n"
      ],
      "metadata": {
        "colab": {
          "base_uri": "https://localhost:8080/"
        },
        "id": "xDhkFhfG4_IT",
        "outputId": "74bd2301-ada4-449e-9336-ea2ad2cab413"
      },
      "execution_count": 45,
      "outputs": [
        {
          "output_type": "stream",
          "name": "stdout",
          "text": [
            "1\n",
            "2\n",
            "3\n"
          ]
        }
      ]
    },
    {
      "cell_type": "markdown",
      "source": [
        "In this example:\n",
        "\n",
        "\n",
        "\n",
        "*   Each time next(gen) is called, the generator function runs until it hits the next yield statement, produces a value, and pauses.\n",
        "\n",
        "*   When the generator has no more values to yield, it raises StopIteration, signaling the end of the sequence.\n",
        "\n",
        "## **Using Generators with Loops:**\n",
        "\n",
        "\n",
        "\n",
        "*   Instead of manually calling next() on a generator, you can use it in a for loop, which automatically handles the iteration and stops when StopIteration is raised.\n",
        "\n",
        "**Example:**\n",
        "\n",
        "\n",
        "\n",
        "\n",
        "\n",
        "\n"
      ],
      "metadata": {
        "id": "zpGwf74E5F4N"
      }
    },
    {
      "cell_type": "code",
      "source": [
        "def countdown(n):\n",
        "    while n > 0:\n",
        "        yield n\n",
        "        n -= 1\n",
        "\n",
        "# Using the generator in a for loop\n",
        "for num in countdown(5):\n",
        "    print(num)\n"
      ],
      "metadata": {
        "colab": {
          "base_uri": "https://localhost:8080/"
        },
        "id": "yDWKoinV7A08",
        "outputId": "a1d6c5aa-5eb1-4e80-e9da-ee89650b107e"
      },
      "execution_count": 46,
      "outputs": [
        {
          "output_type": "stream",
          "name": "stdout",
          "text": [
            "5\n",
            "4\n",
            "3\n",
            "2\n",
            "1\n"
          ]
        }
      ]
    },
    {
      "cell_type": "markdown",
      "source": [
        "In this example, the generator countdown(5) produces values from 5 down to 1, one at a time, when the loop requests the next value.\n",
        "\n",
        "## **Generator Expression:**\n",
        "\n",
        "\n",
        "\n",
        "*   Generators can also be created using a generator expression, which is similar to list comprehensions but uses parentheses () instead of square brackets []. This provides a concise way to define a generator.\n",
        "\n",
        "**Example:**\n",
        "\n",
        "\n",
        "\n"
      ],
      "metadata": {
        "id": "I3Ks5E3M7ELT"
      }
    },
    {
      "cell_type": "code",
      "source": [
        "# List comprehension (eager evaluation)\n",
        "squares_list = [x**2 for x in range(5)]  # Creates a full list in memory\n",
        "print(squares_list)  # Output: [0, 1, 4, 9, 16]\n",
        "\n",
        "# Generator expression (lazy evaluation)\n",
        "squares_gen = (x**2 for x in range(5))  # Creates a generator\n",
        "print(next(squares_gen))  # Output: 0\n",
        "print(next(squares_gen))  # Output: 1\n"
      ],
      "metadata": {
        "colab": {
          "base_uri": "https://localhost:8080/"
        },
        "id": "Eu3a-rd67Var",
        "outputId": "f6f8502d-381c-4131-e70c-2705b6196d29"
      },
      "execution_count": 47,
      "outputs": [
        {
          "output_type": "stream",
          "name": "stdout",
          "text": [
            "[0, 1, 4, 9, 16]\n",
            "0\n",
            "1\n"
          ]
        }
      ]
    },
    {
      "cell_type": "markdown",
      "source": [
        "## **Advantages of Generators:**\n",
        "\n",
        "1. **Memory Efficiency:** Since generators produce items lazily, they are memory efficient for handling large datasets or streams of data because they don't store the entire sequence in memory.\n",
        "\n",
        "2. **Infinite Sequences:** Generators can represent infinite sequences. For example, you can create a generator that produces an unbounded sequence of numbers, which is not feasible with a list.\n",
        "\n",
        "**Example of an Infinite Generator:**\n",
        "\n",
        "\n"
      ],
      "metadata": {
        "id": "kQuMqUQ77Zer"
      }
    },
    {
      "cell_type": "code",
      "source": [
        "def infinite_counter(start=0):\n",
        "    while True:\n",
        "        yield start\n",
        "        start += 1\n",
        "\n",
        "# Using the generator\n",
        "counter = infinite_counter()\n",
        "\n",
        "print(next(counter))  # Output: 0\n",
        "print(next(counter))  # Output: 1\n",
        "print(next(counter))  # Output: 2\n",
        "# This can go on indefinitely\n"
      ],
      "metadata": {
        "colab": {
          "base_uri": "https://localhost:8080/"
        },
        "id": "Yqzy_Er58N2H",
        "outputId": "2b538f0b-fbb2-4af4-b266-991a359e5f8a"
      },
      "execution_count": 48,
      "outputs": [
        {
          "output_type": "stream",
          "name": "stdout",
          "text": [
            "0\n",
            "1\n",
            "2\n"
          ]
        }
      ]
    },
    {
      "cell_type": "markdown",
      "source": [
        "## **Chaining Generators:**\n",
        "\n",
        "\n",
        "\n",
        "*   Generators can also be used to chain together other iterables or generators, enabling more complex and flexible data pipelines.\n",
        "\n",
        "**Example:**\n",
        "\n",
        "\n",
        "\n"
      ],
      "metadata": {
        "id": "KRFyt1UB8Qwb"
      }
    },
    {
      "cell_type": "code",
      "source": [
        "def chain_generators(gen1, gen2):\n",
        "    for item in gen1:\n",
        "        yield item\n",
        "    for item in gen2:\n",
        "        yield item\n",
        "\n",
        "gen1 = (x for x in range(3))  # Generator 1: yields 0, 1, 2\n",
        "gen2 = (x for x in range(3, 6))  # Generator 2: yields 3, 4, 5\n",
        "\n",
        "# Chain them together\n",
        "for value in chain_generators(gen1, gen2):\n",
        "    print(value)\n",
        "\n",
        "\n"
      ],
      "metadata": {
        "colab": {
          "base_uri": "https://localhost:8080/"
        },
        "id": "WtsFb6Yc8j5z",
        "outputId": "de8bd723-0c37-4d24-a01a-83c0bf3dc317"
      },
      "execution_count": 49,
      "outputs": [
        {
          "output_type": "stream",
          "name": "stdout",
          "text": [
            "0\n",
            "1\n",
            "2\n",
            "3\n",
            "4\n",
            "5\n"
          ]
        }
      ]
    },
    {
      "cell_type": "markdown",
      "source": [
        "## **Generator's State and send() Method:**\n",
        "\n",
        "\n",
        "\n",
        "*   Generators maintain their state between yield calls. You can also \"send\" values to a generator using the send() method to dynamically change its state during execution.\n",
        "\n",
        "\n",
        "\n",
        "\n"
      ],
      "metadata": {
        "id": "TmHx9b5Y8pcM"
      }
    },
    {
      "cell_type": "code",
      "source": [
        "def echo():\n",
        "    value = None\n",
        "    while True:\n",
        "        value = yield value\n",
        "\n",
        "# Create a generator\n",
        "gen = echo()\n",
        "\n",
        "# Start the generator\n",
        "print(next(gen))  # Output: None\n",
        "\n",
        "# Send a value to the generator\n",
        "print(gen.send(10))  # Output: 10\n",
        "print(gen.send(20))  # Output: 20\n"
      ],
      "metadata": {
        "colab": {
          "base_uri": "https://localhost:8080/"
        },
        "id": "xa2XHnWS81V8",
        "outputId": "15609c45-515d-4baa-ef78-a18d48688be5"
      },
      "execution_count": 50,
      "outputs": [
        {
          "output_type": "stream",
          "name": "stdout",
          "text": [
            "None\n",
            "10\n",
            "20\n"
          ]
        }
      ]
    },
    {
      "cell_type": "markdown",
      "source": [
        "# **Q7. What are the advantages of using generators over regular functions?**\n",
        "\n",
        "**Ans:** Generators offer several advantages over regular functions, particularly when dealing with large datasets or when you need efficient and clean iteration. Here are some key advantages of using generators:\n",
        "\n",
        "## **Advantages of Generators**\n",
        "\n",
        "**Memory Efficiency:** Generators produce values one at a time and do not store the entire sequence in memory. This is especially useful for handling large datasets or streams of data that would otherwise consume a lot of memory if stored all at once.\n",
        "\n",
        "**Lazy Evaluation:** Generators compute values only when needed, which can lead to better performance, especially when working with sequences where not all values are needed immediately.\n",
        "\n",
        "**Simplified Code:** Generators can simplify code by avoiding the need for explicit iterator classes. They provide a clean and readable way to implement iteration with less boilerplate code.\n",
        "\n",
        "**Infinite Sequences:** Generators can represent infinite sequences, such as streaming data or ongoing computations, since they generate values on-the-fly without needing to precompute or store all values.\n",
        "\n",
        "**State Preservation:** Generators automatically preserve their state between yields, making them well-suited for problems where you need to maintain context or intermediate results.\n",
        "\n",
        "**Example:** Comparing a Generator to a Regular Function\n",
        "\n",
        "**Scenario:** Generating a Fibonacci Sequence\n",
        "\n",
        "**1. Using a Regular Function:**\n",
        "\n"
      ],
      "metadata": {
        "id": "nrcUizgo86TE"
      }
    },
    {
      "cell_type": "code",
      "source": [
        "def fibonacci(n):\n",
        "    fibs = []\n",
        "    a, b = 0, 1\n",
        "    while len(fibs) < n:\n",
        "        fibs.append(a)\n",
        "        a, b = b, a + b\n",
        "    return fibs\n",
        "\n",
        "# Usage\n",
        "n = 10\n",
        "fib_sequence = fibonacci(n)\n",
        "print(fib_sequence)"
      ],
      "metadata": {
        "colab": {
          "base_uri": "https://localhost:8080/"
        },
        "id": "oBrKxvyTEk_2",
        "outputId": "799102c6-3506-451b-d063-f69af4523589"
      },
      "execution_count": 51,
      "outputs": [
        {
          "output_type": "stream",
          "name": "stdout",
          "text": [
            "[0, 1, 1, 2, 3, 5, 8, 13, 21, 34]\n"
          ]
        }
      ]
    },
    {
      "cell_type": "markdown",
      "source": [
        "**2. Using a Generator Function:**\n",
        "\n"
      ],
      "metadata": {
        "id": "ru99BxZDEvJm"
      }
    },
    {
      "cell_type": "code",
      "source": [
        "def fibonacci_generator():\n",
        "    a, b = 0, 1\n",
        "    while True:\n",
        "        yield a\n",
        "        a, b = b, a + b\n",
        "\n",
        "# Usage\n",
        "n = 10\n",
        "fib_gen = fibonacci_generator()\n",
        "\n",
        "for _ in range(n):\n",
        "    print(next(fib_gen))"
      ],
      "metadata": {
        "colab": {
          "base_uri": "https://localhost:8080/"
        },
        "id": "51SbH-r7EyRO",
        "outputId": "37db91da-e990-4f4b-e186-9aa895555dd1"
      },
      "execution_count": 52,
      "outputs": [
        {
          "output_type": "stream",
          "name": "stdout",
          "text": [
            "0\n",
            "1\n",
            "1\n",
            "2\n",
            "3\n",
            "5\n",
            "8\n",
            "13\n",
            "21\n",
            "34\n"
          ]
        }
      ]
    },
    {
      "cell_type": "markdown",
      "source": [
        "# **Q8. What is a lambda function in Python and when is it typically used?**\n",
        "\n",
        "**Ans:** A lambda function in Python is a small, anonymous function defined using the lambda keyword instead of the traditional def statement. These functions are typically used when a simple, throwaway function is needed for a short period of time.\n",
        "\n",
        "**Key Characteristics of Lambda Functions**\n",
        "\n",
        "**Anonymous:** Lambda functions are unnamed; they are often used in places where functions are required as arguments.\n",
        "\n",
        "**Single Expression:** They can only contain a single expression. This means that lambda functions can’t contain statements or multiple expressions.\n",
        "\n",
        "**Return Value:** The result of the single expression is automatically returned.\n",
        "\n",
        "\n",
        "\n",
        "\n",
        "## **Syntax of Lambda Functions:**\n",
        "\n",
        "The basic syntax of a lambda function is:\n",
        "\n",
        "\n"
      ],
      "metadata": {
        "id": "jQcrSTp1E7fA"
      }
    },
    {
      "cell_type": "code",
      "source": [
        "lambda arguments: expression\n"
      ],
      "metadata": {
        "id": "hLQoh8aRGddY"
      },
      "execution_count": null,
      "outputs": []
    },
    {
      "cell_type": "markdown",
      "source": [
        "\n",
        "\n",
        "*   **arguments:** The parameters the lambda function takes.\n",
        "\n",
        "*   **expression:** The computation or action performed, whose result will be returned.\n",
        "\n",
        "**Example of a Lambda Function:**\n",
        "\n",
        "\n",
        "A simple lambda function that adds two numbers:\n",
        "\n"
      ],
      "metadata": {
        "id": "jH4GMoWzGifP"
      }
    },
    {
      "cell_type": "code",
      "source": [
        "# Regular function\n",
        "def add(x, y):\n",
        "    return x + y\n",
        "\n",
        "# Equivalent lambda function\n",
        "add_lambda = lambda x, y: x + y\n",
        "\n",
        "# Calling the lambda function\n",
        "print(add_lambda(3, 5))  # Output: 8\n"
      ],
      "metadata": {
        "colab": {
          "base_uri": "https://localhost:8080/"
        },
        "id": "hLn21kozG6cO",
        "outputId": "7e571b09-ba87-4d05-b010-de197d071795"
      },
      "execution_count": 53,
      "outputs": [
        {
          "output_type": "stream",
          "name": "stdout",
          "text": [
            "8\n"
          ]
        }
      ]
    },
    {
      "cell_type": "markdown",
      "source": [
        "**Typical Uses of Lambda Functions :**\n",
        "\n",
        "**In-line Functions:** Useful for simple operations that can be defined in a single line.\n",
        "\n",
        "**Higher-Order Functions:** Often used with functions like map(), filter(), and sorted() to provide custom operations.\n",
        "\n",
        "**Short-Lived Functions:** Ideal for functions that are used only once or a few times in the code.\n",
        "\n",
        "## **1. Using Lambda with map():**\n",
        "\n",
        "\n",
        "\n",
        "*   The map() function applies a given function to all items in an iterable (e.g., list) and returns a new iterable with the results.\n",
        "\n",
        "**Example:**\n",
        "\n",
        "\n"
      ],
      "metadata": {
        "id": "mvOl5tNfHAyW"
      }
    },
    {
      "cell_type": "code",
      "source": [
        "numbers = [1, 2, 3, 4]\n",
        "squared = map(lambda x: x**2, numbers)\n",
        "\n",
        "print(list(squared))  # Output: [1, 4, 9, 16]\n"
      ],
      "metadata": {
        "colab": {
          "base_uri": "https://localhost:8080/"
        },
        "id": "0D3sViuBHlme",
        "outputId": "ce28c71b-d46e-4bae-c0ec-92e892d16202"
      },
      "execution_count": 54,
      "outputs": [
        {
          "output_type": "stream",
          "name": "stdout",
          "text": [
            "[1, 4, 9, 16]\n"
          ]
        }
      ]
    },
    {
      "cell_type": "markdown",
      "source": [
        "Here, the lambda function lambda x: x**2 is used to square each element in the list.\n",
        "\n"
      ],
      "metadata": {
        "id": "or_4QMczH-gI"
      }
    },
    {
      "cell_type": "markdown",
      "source": [
        "## **2. Using Lambda with filter():**\n",
        "\n",
        "\n",
        "*   The filter() function filters items from an iterable based on a condition provided by a function.\n",
        "\n",
        "**Example:**\n",
        "\n",
        "\n",
        "\n",
        "\n",
        "\n"
      ],
      "metadata": {
        "id": "p3fiJqIzHnCv"
      }
    },
    {
      "cell_type": "code",
      "source": [
        "numbers = [1, 2, 3, 4, 5, 6]\n",
        "even_numbers = filter(lambda x: x % 2 == 0, numbers)\n",
        "\n",
        "print(list(even_numbers))  # Output: [2, 4, 6]\n"
      ],
      "metadata": {
        "colab": {
          "base_uri": "https://localhost:8080/"
        },
        "id": "CoNLEWUpH8Bu",
        "outputId": "982fe654-c010-4caf-bc21-c6fbfb277e6c"
      },
      "execution_count": 55,
      "outputs": [
        {
          "output_type": "stream",
          "name": "stdout",
          "text": [
            "[2, 4, 6]\n"
          ]
        }
      ]
    },
    {
      "cell_type": "markdown",
      "source": [
        "The lambda function lambda x: x % 2 == 0 is used to filter out even numbers from the list.\n",
        "\n"
      ],
      "metadata": {
        "id": "VLGunbefIBkQ"
      }
    },
    {
      "cell_type": "markdown",
      "source": [
        "## **3. Using Lambda with sorted():**\n",
        "\n",
        "\n",
        "\n",
        "*   The sorted() function can take a key argument to specify a custom sorting logic. Lambda functions are commonly used here.\n",
        "\n",
        "**Example:**\n",
        "\n",
        "\n",
        "\n"
      ],
      "metadata": {
        "id": "2_GwEsXWIF03"
      }
    },
    {
      "cell_type": "code",
      "source": [
        "students = [\n",
        "    {'name': 'Alice', 'age': 25},\n",
        "    {'name': 'Bob', 'age': 20},\n",
        "    {'name': 'Charlie', 'age': 23}\n",
        "]\n",
        "\n",
        "# Sort by age\n",
        "sorted_students = sorted(students, key=lambda student: student['age'])\n",
        "\n",
        "print(sorted_students)\n",
        "\n"
      ],
      "metadata": {
        "colab": {
          "base_uri": "https://localhost:8080/"
        },
        "id": "9JyOv5kHIUEI",
        "outputId": "a8091216-e754-42af-fe76-24360e31054b"
      },
      "execution_count": 56,
      "outputs": [
        {
          "output_type": "stream",
          "name": "stdout",
          "text": [
            "[{'name': 'Bob', 'age': 20}, {'name': 'Charlie', 'age': 23}, {'name': 'Alice', 'age': 25}]\n"
          ]
        }
      ]
    },
    {
      "cell_type": "markdown",
      "source": [
        "Here, the lambda function lambda student: student['age'] provides the sorting key (age) for each student.\n",
        "\n"
      ],
      "metadata": {
        "id": "A_zo0ixyIa1W"
      }
    },
    {
      "cell_type": "markdown",
      "source": [
        "## **4. Using Lambda with reduce():**\n",
        "\n",
        "\n",
        "\n",
        "*   The reduce() function (from functools) applies a rolling computation to pairs of items in an iterable, and it's common to pass a lambda function as the computation logic.\n",
        "\n",
        "**Example:**\n",
        "\n",
        "\n",
        "\n"
      ],
      "metadata": {
        "id": "y7am2F4pIeDP"
      }
    },
    {
      "cell_type": "code",
      "source": [
        "from functools import reduce\n",
        "\n",
        "numbers = [1, 2, 3, 4]\n",
        "sum_of_numbers = reduce(lambda x, y: x + y, numbers)\n",
        "\n",
        "print(sum_of_numbers)  # Output: 10\n"
      ],
      "metadata": {
        "colab": {
          "base_uri": "https://localhost:8080/"
        },
        "id": "kiMx3BiWIsx_",
        "outputId": "aa7d9611-1b1a-4891-ae7b-63c4a746da3e"
      },
      "execution_count": 57,
      "outputs": [
        {
          "output_type": "stream",
          "name": "stdout",
          "text": [
            "10\n"
          ]
        }
      ]
    },
    {
      "cell_type": "markdown",
      "source": [
        "The lambda function lambda x, y: x + y is used to sum all elements in the list.\n",
        "\n"
      ],
      "metadata": {
        "id": "UiVEb5jvIv5f"
      }
    },
    {
      "cell_type": "markdown",
      "source": [
        "# **Q9. Explain the purpose and usage of the map() function in Python.**\n",
        "\n",
        "**Ans:** The map() function in Python is used to apply a given function to all items of an iterable (such as a list, tuple, or string) and return a new iterable (typically a map object, which is an iterator) containing the results. It is a convenient way to transform the data by applying the same operation to every element in a collection.\n",
        "\n",
        "## **Purpose of map()**\n",
        "\n",
        "**Apply a Function to All Elements:** The primary purpose of map() is to apply a function to each element of an iterable and return an iterator of the results. This allows you to perform a transformation or computation across a collection of items efficiently.\n",
        "\n",
        "**Avoid Explicit Loops:** Using map() can make code more concise and readable compared to writing explicit for loops for transformations.\n",
        "\n",
        "## **Syntax of map():**\n",
        "\n",
        "\n"
      ],
      "metadata": {
        "id": "nb1KEkMJI9Yx"
      }
    },
    {
      "cell_type": "code",
      "source": [
        "map(function, iterable, ...)\n"
      ],
      "metadata": {
        "id": "2so6r35HKn5H"
      },
      "execution_count": null,
      "outputs": []
    },
    {
      "cell_type": "markdown",
      "source": [
        "* **function:** A function that will be applied to each item of the iterable(s). This function should take as many arguments as there are iterables.\n",
        "\n",
        "* **iterable:** One or more iterables (like lists, tuples, or strings) whose items the function will be applied to.\n",
        "\n",
        "The map() function returns an iterator, which can be converted into a list, tuple, or another data type if needed.\n",
        "\n",
        "\n",
        "**Basic Example:**\n",
        "\n"
      ],
      "metadata": {
        "id": "U_jLM0koKopX"
      }
    },
    {
      "cell_type": "code",
      "source": [
        "# Function to double a number\n",
        "def double(x):\n",
        "    return x * 2\n",
        "\n",
        "numbers = [1, 2, 3, 4, 5]\n",
        "\n",
        "# Apply the function to each item in the list\n",
        "result = map(double, numbers)\n",
        "\n",
        "# Convert the map object to a list\n",
        "print(list(result))  # Output: [2, 4, 6, 8, 10]\n"
      ],
      "metadata": {
        "colab": {
          "base_uri": "https://localhost:8080/"
        },
        "id": "zO1SonljK_1n",
        "outputId": "b7eca5ca-274e-42b2-e8c5-79c9742ded4b"
      },
      "execution_count": 58,
      "outputs": [
        {
          "output_type": "stream",
          "name": "stdout",
          "text": [
            "[2, 4, 6, 8, 10]\n"
          ]
        }
      ]
    },
    {
      "cell_type": "markdown",
      "source": [
        "In this example, map() applies the double() function to each element of the numbers list and returns an iterator. Converting the iterator to a list gives the result [2, 4, 6, 8, 10].\n",
        "\n"
      ],
      "metadata": {
        "id": "WWX-aQY-LCyA"
      }
    },
    {
      "cell_type": "markdown",
      "source": [
        "## **A.Using map() with a Lambda Function:**\n",
        "Often, map() is used with lambda functions for concise, inline transformations.\n",
        "\n",
        "Example:\n",
        "\n"
      ],
      "metadata": {
        "id": "V06Tu9bYLEgf"
      }
    },
    {
      "cell_type": "code",
      "source": [
        "numbers = [1, 2, 3, 4, 5]\n",
        "\n",
        "# Use a lambda function to square each number\n",
        "result = map(lambda x: x ** 2, numbers)\n",
        "\n",
        "print(list(result))  # Output: [1, 4, 9, 16, 25]\n"
      ],
      "metadata": {
        "colab": {
          "base_uri": "https://localhost:8080/"
        },
        "id": "yKvRGhEpLMX3",
        "outputId": "f5ff14a9-445d-4525-82c2-b78269264ef6"
      },
      "execution_count": 59,
      "outputs": [
        {
          "output_type": "stream",
          "name": "stdout",
          "text": [
            "[1, 4, 9, 16, 25]\n"
          ]
        }
      ]
    },
    {
      "cell_type": "markdown",
      "source": [
        "Here, the map() function applies the lambda function lambda x: x ** 2 to square each element in the list.\n",
        "\n"
      ],
      "metadata": {
        "id": "G5tWkUgRLPP_"
      }
    },
    {
      "cell_type": "markdown",
      "source": [
        "## **B. Mapping with Multiple Iterables:**\n"
      ],
      "metadata": {
        "id": "zxqiU3TMLRgX"
      }
    },
    {
      "cell_type": "code",
      "source": [
        "# Function to add two numbers\n",
        "def add(x, y):\n",
        "    return x + y\n",
        "\n",
        "list1 = [1, 2, 3]\n",
        "list2 = [4, 5, 6]\n",
        "\n",
        "# Apply the function to corresponding elements of both lists\n",
        "result = map(add, list1, list2)\n",
        "\n",
        "print(list(result))  # Output: [5, 7, 9]\n"
      ],
      "metadata": {
        "colab": {
          "base_uri": "https://localhost:8080/"
        },
        "id": "qXaTvdWDL5cf",
        "outputId": "5b3f9d8a-8e2d-4b7b-e544-fc46cf6189c9"
      },
      "execution_count": 60,
      "outputs": [
        {
          "output_type": "stream",
          "name": "stdout",
          "text": [
            "[5, 7, 9]\n"
          ]
        }
      ]
    },
    {
      "cell_type": "markdown",
      "source": [
        "In this case, map() applies the add() function to corresponding elements of list1 and list2, producing a new list [5, 7, 9].\n",
        "\n"
      ],
      "metadata": {
        "id": "nORZXN-qL72n"
      }
    },
    {
      "cell_type": "markdown",
      "source": [
        "## **C. Using map() with Different Data Types:**\n",
        "\n"
      ],
      "metadata": {
        "id": "32ffwlgpL-I_"
      }
    },
    {
      "cell_type": "code",
      "source": [
        "# Convert a list of strings to uppercase\n",
        "words = ['apple', 'banana', 'cherry']\n",
        "\n",
        "result = map(str.upper, words)\n",
        "\n",
        "print(list(result))  # Output: ['APPLE', 'BANANA', 'CHERRY']\n"
      ],
      "metadata": {
        "colab": {
          "base_uri": "https://localhost:8080/"
        },
        "id": "dlIihIFDMH2o",
        "outputId": "90a3ef47-cd1e-4d7c-ead9-99c1ba257288"
      },
      "execution_count": 61,
      "outputs": [
        {
          "output_type": "stream",
          "name": "stdout",
          "text": [
            "['APPLE', 'BANANA', 'CHERRY']\n"
          ]
        }
      ]
    },
    {
      "cell_type": "markdown",
      "source": [
        "# **Practical Use Cases of map():**\n",
        "\n",
        "### **1. Transforming Data:**\n",
        "\n"
      ],
      "metadata": {
        "id": "Ktls3DV_MLmP"
      }
    },
    {
      "cell_type": "code",
      "source": [
        "# Convert a list of temperatures from Celsius to Fahrenheit\n",
        "celsius = [0, 10, 20, 30]\n",
        "\n",
        "fahrenheit = map(lambda x: (x * 9/5) + 32, celsius)\n",
        "\n",
        "print(list(fahrenheit))  # Output: [32.0, 50.0, 68.0, 86.0]\n"
      ],
      "metadata": {
        "colab": {
          "base_uri": "https://localhost:8080/"
        },
        "id": "ePJn4sDpMgz4",
        "outputId": "693ede7d-092f-44e3-c1b8-1ea01b5b3d24"
      },
      "execution_count": 62,
      "outputs": [
        {
          "output_type": "stream",
          "name": "stdout",
          "text": [
            "[32.0, 50.0, 68.0, 86.0]\n"
          ]
        }
      ]
    },
    {
      "cell_type": "markdown",
      "source": [
        "### **2. Applying Functions to Strings:**\n"
      ],
      "metadata": {
        "id": "4_sNS9YiMjiQ"
      }
    },
    {
      "cell_type": "code",
      "source": [
        "# List of words\n",
        "words = ['hello', 'world', 'python']\n",
        "\n",
        "# Capitalize each word\n",
        "capitalized_words = map(str.capitalize, words)\n",
        "\n",
        "print(list(capitalized_words))  # Output: ['Hello', 'World', 'Python']\n"
      ],
      "metadata": {
        "colab": {
          "base_uri": "https://localhost:8080/"
        },
        "id": "fGBWg29qMm33",
        "outputId": "c7102a58-731b-429d-a932-3b726f6ac57d"
      },
      "execution_count": 63,
      "outputs": [
        {
          "output_type": "stream",
          "name": "stdout",
          "text": [
            "['Hello', 'World', 'Python']\n"
          ]
        }
      ]
    },
    {
      "cell_type": "markdown",
      "source": [
        "### **3. Cleaning or Formatting Data:**\n"
      ],
      "metadata": {
        "id": "oRuUVM6OMpgf"
      }
    },
    {
      "cell_type": "code",
      "source": [
        "# List of strings with extra spaces\n",
        "names = ['  Alice  ', 'Bob   ', '  Charlie']\n",
        "\n",
        "# Strip leading and trailing spaces from each string\n",
        "clean_names = map(str.strip, names)\n",
        "\n",
        "print(list(clean_names))  # Output: ['Alice', 'Bob', 'Charlie']\n"
      ],
      "metadata": {
        "colab": {
          "base_uri": "https://localhost:8080/"
        },
        "id": "jDqzsAWRMtCR",
        "outputId": "d8e60ad0-9e1a-43e3-e2ed-195b5db3f4fb"
      },
      "execution_count": 64,
      "outputs": [
        {
          "output_type": "stream",
          "name": "stdout",
          "text": [
            "['Alice', 'Bob', 'Charlie']\n"
          ]
        }
      ]
    },
    {
      "cell_type": "markdown",
      "source": [
        "# **Q10. What is the difference between map(), reduce(), and filter() functions in Python?**\n",
        "\n",
        "**Ans:** In Python, map(), reduce(), and filter() are higher-order functions that allow functional programming paradigms to be applied to iterables. Each serves a different purpose, but they share the goal of applying functions to sequences of data. Here’s a breakdown of the differences between them:\n",
        "\n",
        "## **A. map():**\n",
        "1. **Purpose:** To apply a function to every item in an iterable and return an iterator containing the results.\n",
        "\n",
        "2. **Operation:** Transforms each element in the iterable by applying the specified function to it.\n",
        "3. **Number of Iterables:** Can take multiple iterables as input.\n",
        "4. **Returns:** An iterator (which can be converted to a list, tuple, etc.) containing the transformed elements.\n",
        "\n",
        "**Example:**"
      ],
      "metadata": {
        "id": "TKkE2blKMxwI"
      }
    },
    {
      "cell_type": "code",
      "source": [
        "# Using map() to square each element in the list\n",
        "numbers = [1, 2, 3, 4]\n",
        "result = map(lambda x: x ** 2, numbers)\n",
        "print(list(result))  # Output: [1, 4, 9, 16]\n"
      ],
      "metadata": {
        "colab": {
          "base_uri": "https://localhost:8080/"
        },
        "id": "XxP36C5qOvsJ",
        "outputId": "afa0ae66-0d40-422c-e83f-38e7354ed703"
      },
      "execution_count": 65,
      "outputs": [
        {
          "output_type": "stream",
          "name": "stdout",
          "text": [
            "[1, 4, 9, 16]\n"
          ]
        }
      ]
    },
    {
      "cell_type": "markdown",
      "source": [
        "**Key Point:** map() is used for element-wise transformations.\n"
      ],
      "metadata": {
        "id": "ToZ7nmnwPWCw"
      }
    },
    {
      "cell_type": "markdown",
      "source": [
        "# **B. filter():**\n",
        "1. **Purpose:** To filter elements from an iterable based on a condition provided by a function (predicate).\n",
        "2. **Operation:** The function passed to filter() should return True or False for each element; only elements that satisfy the condition (i.e., for which the function returns True) are included in the result.\n",
        "3. **Number of Iterables:** Works with a single iterable.\n",
        "4. **Returns:** An iterator containing only the elements that satisfy the condition.\n",
        "\n",
        "**Example:**"
      ],
      "metadata": {
        "id": "5Rl-L3DDOxbg"
      }
    },
    {
      "cell_type": "code",
      "source": [
        "# Using filter() to get only even numbers from a list\n",
        "numbers = [1, 2, 3, 4, 5, 6]\n",
        "result = filter(lambda x: x % 2 == 0, numbers)\n",
        "print(list(result))  # Output: [2, 4, 6]\n"
      ],
      "metadata": {
        "colab": {
          "base_uri": "https://localhost:8080/"
        },
        "id": "f8ZQnV0MPQo5",
        "outputId": "2102bf39-974a-4613-d1ef-7f2f223bff93"
      },
      "execution_count": 66,
      "outputs": [
        {
          "output_type": "stream",
          "name": "stdout",
          "text": [
            "[2, 4, 6]\n"
          ]
        }
      ]
    },
    {
      "cell_type": "markdown",
      "source": [
        "**Key Point:** filter() is used for filtering elements based on a condition.\n"
      ],
      "metadata": {
        "id": "5Anl7YKRPYRw"
      }
    },
    {
      "cell_type": "markdown",
      "source": [
        "# **3. reduce():**\n",
        "1. **Purpose:** To apply a function cumulatively to the items of an iterable, reducing the iterable to a single value.\n",
        "2. **Operation:** The function passed to reduce() should take two arguments. It applies the function cumulatively to the iterable, meaning it first applies the function to the first two items, then the result is combined with the third item, and so on, until a single result is produced.\n",
        "3. **Number of Iterables:** Works with a single iterable.\n",
        "4. **Returns:** A single value that results from the cumulative application of the function.\n",
        "\n",
        "**Example:**"
      ],
      "metadata": {
        "id": "yIQ62MyPPSGv"
      }
    },
    {
      "cell_type": "code",
      "source": [
        "from functools import reduce\n",
        "\n",
        "# Using reduce() to sum all the elements in a list\n",
        "numbers = [1, 2, 3, 4]\n",
        "result = reduce(lambda x, y: x + y, numbers)\n",
        "print(result)  # Output: 10\n"
      ],
      "metadata": {
        "colab": {
          "base_uri": "https://localhost:8080/"
        },
        "id": "pFYMesGxQAaS",
        "outputId": "25072bb6-e4b5-47a4-93bf-094cec6549f7"
      },
      "execution_count": 67,
      "outputs": [
        {
          "output_type": "stream",
          "name": "stdout",
          "text": [
            "10\n"
          ]
        }
      ]
    },
    {
      "cell_type": "markdown",
      "source": [
        "**Key Point:** reduce() is used for cumulative reduction to a single value.\n"
      ],
      "metadata": {
        "id": "ow5u0pJdQF14"
      }
    },
    {
      "cell_type": "markdown",
      "source": [
        "# **Q11. Using pen & Paper write the internal mechanism for sum operation using reduce function on this given list:[47,11,42,13];**\n",
        "\n",
        "**Ans:** To understand the internal mechanism of summing up a list of numbers using the reduce( ) function from the functools module, let's walk through how reduce( ) works step by step. We'll use the provided list [47, 11, 42, 13].\n",
        "\n"
      ],
      "metadata": {
        "id": "MVVedMtaQUyo"
      }
    },
    {
      "cell_type": "markdown",
      "source": [
        "![Functions Q.11.jpg](data:image/jpeg;base64,/9j/4AAQSkZJRgABAQEASABIAAD/4gIoSUNDX1BST0ZJTEUAAQEAAAIYYXBwbAQAAABtbnRyUkdCIFhZWiAH5gABAAEAAAAAAABhY3NwQVBQTAAAAABBUFBMAAAAAAAAAAAAAAAAAAAAAAAA9tYAAQAAAADTLWFwcGzs/aOOOIVHw220vU962hgvAAAAAAAAAAAAAAAAAAAAAAAAAAAAAAAAAAAAAAAAAApkZXNjAAAA/AAAADBjcHJ0AAABLAAAAFB3dHB0AAABfAAAABRyWFlaAAABkAAAABRnWFlaAAABpAAAABRiWFlaAAABuAAAABRyVFJDAAABzAAAACBjaGFkAAAB7AAAACxiVFJDAAABzAAAACBnVFJDAAABzAAAACBtbHVjAAAAAAAAAAEAAAAMZW5VUwAAABQAAAAcAEQAaQBzAHAAbABhAHkAIABQADNtbHVjAAAAAAAAAAEAAAAMZW5VUwAAADQAAAAcAEMAbwBwAHkAcgBpAGcAaAB0ACAAQQBwAHAAbABlACAASQBuAGMALgAsACAAMgAwADIAMlhZWiAAAAAAAAD21QABAAAAANMsWFlaIAAAAAAAAIPfAAA9v////7tYWVogAAAAAAAASr8AALE3AAAKuVhZWiAAAAAAAAAoOAAAEQsAAMi5cGFyYQAAAAAAAwAAAAJmZgAA8qcAAA1ZAAAT0AAACltzZjMyAAAAAAABDEIAAAXe///zJgAAB5MAAP2Q///7ov///aMAAAPcAADAbv/bAEMABAMDBAMDBAQDBAUEBAUGCgcGBgYGDQkKCAoPDRAQDw0PDhETGBQREhcSDg8VHBUXGRkbGxsQFB0fHRofGBobGv/bAEMBBAUFBgUGDAcHDBoRDxEaGhoaGhoaGhoaGhoaGhoaGhoaGhoaGhoaGhoaGhoaGhoaGhoaGhoaGhoaGhoaGhoaGv/CABEIBQADwAMBIgACEQEDEQH/xAAcAAACAgMBAQAAAAAAAAAAAAABAgAFAwQGBwj/xAAYAQEBAQEBAAAAAAAAAAAAAAAAAQIDBP/aAAwDAQACEAMQAAABpOw5HsODoVB1pYFIjY4GE4yKm2uxdaNtc5IBY0UD4nxjHGwYsGWAIWLIjAfExkmMjxSZmxgynHDNhKo4WGUYwZUACyMRTjUyKZIILCCPjIXUjKQQSBEhFYDBgBSoJAEyJDIEoVDAgKqMViM+JlKsg7Y2GUKMIoVijqxJqbIKvDaadulh2MC+NaW/XeXQIkCAhIi42hMRSJ3nccN3ffnbkLqxIhML44TGYS01LE29tXshQ2SJDJiUDhGDFhlWKpKgkMJJCMpC6wcqwWUBAA6xTKgAYrEIgQQEFByIRWUJWDlXFkAHUkkIBAMJBQYAGBikYQBIgGVgKwFMERkeiJCOkGQgKtDGJByrEgYXHkho193rL4DX21R5tqZIARTMyMFGQOru6R6F3vn/AKH3570i244UMeN8BopoVVelb1TTncth4uzuZECAgZicLamyGLrm4FrS1iMECDTXxm5JBmUmVDqmzkwkEXQLGRRoCSCGRIBwtCdBCpkWKMFIwFKXsfGZEZBpp7oAyBkIrTGc+diyMsxZQSQgkhzjNRlg6PjCpSC+NjJAKBECBBpx/XEXBmHKEcQBKwmLMh4JQdRy/n2cbpmhlNHJjMMpUfS2sB3fpHmvp/fnmQLaMbYxEykpMfTaeptYt5zNX7msXuJ9CNzU2lrld/Rz1sa99RRvZKnfra5vtucGzUnTm2rLGLm7etqz2vP+lLmxr7CHxPQHQaO/5weg83noa72l1jG7lbnC2106iteg5/pizqsO4X9Nca0YqzkOsqyx1FtFW+9r0r2GMpde42jQuKe5KMZbQ5Ttqq3jJjyocdc7+wnB6Xem3PHTLQ4jssVTHZ6xV6nUtVbda2zC830tCa+K40jLS9IpX22rvnM32pmqhuGshKG3rywTT549EgkAMBSCeO8P6V5hw2ylc0SZTDGAC6RGWHY+r+Xep+jGJYBEZQ5k3zY1txrJnxOQ44RamwMjVOkdOBoFkFFZgqjsimRBCMjDK7GmujfFZvuBsGZgau0DDi3FMOrzXWGXLATJjyAnO3JszERipGZWIFgxBI0giaFIdfjyVpYiu5o7lGUgXhjukNfG/FUYrBnR6hGEyivzm0tbujGivwVOO8Rpxl8tmGA0BDCoggCsI4UjBhCtgyHC+Pe5eG8tB8mLFIDUoy4oQgy5MJU7v07zj0PvgKUoSZjJvpmpoYgIJIAaVR0znC2HSPXP1XZ5F4PoLyrOYt7SprpgRFFluaRLKmuaI6Ots66qu+1M5p9BR3Ucb0OVzlO5rmNzU2sBy1zrYasKdrEtKnLtxRbVk9VCvtFFZYL1LAZMUvO0fXNZz+5ZbyuVEUvKei69nO79trrr1PVIlVdYssqcX2vOWbeCWkvNZLrRSx5XpNFR0unuCOqlBs2eU421s9ayg6rK0uHExKvWy2VlBY2Wyebel6u0po5vlbda2gbVL0/KFs9xzKdLSvijmLrTsLT4J9H/ADbxubCw5ad1AjRVKZIYnZT0TvPPfQPRgKYHd17MeSWNFhJEHKgcqDJFC5ZjYKBjnNjXOnSxTJHRh2xsZCjEUghEHeQVSBIyhbFB2xEdsWUiKR2xkyJjg4SGWIxCAOgJGUhAIQAQFQ8x1GsUt9qbZDJBisNFJIIRSpIFp4CQhgwEDSERmCZBK/fAQQEiCZVJz+5Zwr/nX6b+d+dqgV47zIVEeYjJiyYTJkwg9L7PkOu9GHKbJtbStZHQEiwJQjQEiSDoYO2J1mTG4wjWFXUDLDLMbkyIxAykIhkKECkBVlGWKSEDTBkGCwYCEUoNoZOLPRjhzEBAQVJK3MbhUDqykOLIEY+cOjNVZGSDRjeU0tXZ4Tf06yAYMmLPSq2kbh0tsdtJjdiUJ0DYMgxxsOtRbgGruiSr3jMdLcCDCAhJ4Z7p4/i8MhnDoFaCRsQcbgeYieodby/UejGWw17CjIUmNwaiGgNvo6TBXQKZAWU5cDzLrK6UySluG7whxtY0DCsjDMmQ0LLh+8ExyhL16q2MeXlt0uqqo2zf3/KfSDeXz+8OiPkve1guKfjY9WFD55Xr7+eehQnL3lQXPJbrV2mrtecx0l7TcyXXT81rDZtnQrfWvt0pui1ds867/UszBhtealvaHPYm5ob3Pp0IYLR0fR2O5xuz0IKzpKzLG3hzDN887bebTzPuLXHZz2l2OkaVR12aXhrHqImny3ZoU17T2a87fZVjlewq7AJUxIJI3mfpXBy+QNjfz9JDCYskMC5cI5kPWOn5vrvTjazKwYpQiQCvDkum2VAjII00Cj6rldyhtc/ZmKy2qik3Of7Q5vp6Xrjzm+sdQ1OQ7uzTlu+0NmU+S+sseQeh3yHlfoe7hrkuswhKfY3FKTe2MJlz6eRditxZU6Supc50WSlWLyowYq6NKOFhrJkXU0uh2E4+1uhLTPcOUzWylZhuVKXHeQoclwCquFYyticMBGMgTCHHGMYYAg1jfmDOKKS2M8iDotOXR1xGwMEMg0cpsHVYzjXJmGuDZ5HpuXPHHI83SIVEyxSYcmMy4oT2Tsec6P04cCDlSESAbHEyKIBShk0dpiny38qoW3zFVl3VMGjaqcpm6/Mcdm6oJzW7bhazWvMRUy0JWtYOaeTPB1VSQQCuBcuLIAiDSntxkNeWBAMiprm0rIMAxh53o+b1Nu8w5c1YhHqksKrs9F0VmyuvkzcjaWlV9FeCcfM2dYeYo9PRDwdEerTkuQPW55r0UdTrch2q1G95zh3Ly9o88dbX+edxLiqq3f06k89X4dvq7dHlVbdMes70aG9xskgGRxOb6XnTxopj823EZUdFCqMBGc98uaq09ODFYaKDJjgA6BDFYVGxnO2lb1e2QYxi7LYXTKdLaNXa5e92s2w5MjEcCqB8dHQad0cHnaemLQV62HQchZlpkpq1OsxVWodNGXNwc4jdJ1krrLneSstbZ6TX2zhittN2nKzFf2e1RXXVflrdjyvVZVfKd/QGnm28lc1Z9GDlbnbzRxU7LYrzjN2j6cPt9gkYN8rzq0l5Kw0HSwp7DZkYMG/jMKbAK994nOXG4EwuUlwbAC6DbmKzmMW03WdRjyY+Oten6A2EFYkZQNGEo7+mPCVyTzdFONiTXyJC8XBlxxPore18/pyBFGWEBEICCBggw52OC7PR6Pbk9K4sDjLzocic10ldYnH7vR5SgrOl060sNvcRpbuPLm8yemy2VvF+h8jWLftdCtkWxzaPZtcZULdIiq0lmfGRsebCRsZGgg0UhbG8DlOr57c1+l5zpRDDiuh0zbnnPo2irBBKkJBBOduTLV2NRVR2PP4dTp4TzqFq0scbRZCUEEMimvNrE/NV0b83bmxj1d+Xkdqy1OmegTNi56SGDQEIaAGRBdCw1z53bGfNuAwi5AAsIwJsrZ9JAp6csBCMriOoHQQMIQsgMzauwNl18xlbHlGUKZV0MJcIVIrIRgDK6sAHGJyPXcF0nR9FizZBSsoXBnJMGUyxWDpbmiVt7xXV6bZ5axLtajby2a/WptTtKbU1a69aHXjpjBmyv3qWzBfcPj2608+I6vQ5rJXXZ6u152tqel53Sv6XnOps4qzz9HXLX2vbYqcX23N2dHU6NVb2mTmOpzKrFucRp3eLd4zN2Nvkel6TJc+X95lyXUaPXqpE5pT2/Haddj0qA6/LzHSwTJBx5FFVwfNxyr59o4bNxzJjGUqBMmQ+jUK+rEKkaFQwEVlgTAjY31Dlu14Dtuk5vrvOuht0vQvM/SJHKZOdreGvc/SWlRt6Jmqs1nR5e72qvNjT2+VlNd1ScHb9TqdpZbpXjRpbmBfPeq1LzpPOOi6LMbBk50cV2uOuX6nJkTznvTlrz6y6fTrjM/abFlFTd08cVfWyy6G4ZlAHKjb3YaelcEw58cWY8GYJAMiNBhEhwGFx5GNXQt5WtswEVhEwZamqoYc3SdZAvK5kxgnP3eCtqrssxUYLyGttmQphAGUUqh8/6dpU+fbRpKMexjgTDmoI6H0aJPRzLK1pKwMAGikaCIXUjZcLGbY1chsqhI0ryyOMjsIY3SGREIVII/L9TplVVhses5lOIGYshCuoba6GMs4uiWjCExZaGrLW16Kzt2pNaOlHM3Ebyc21aXW+eXe2LqearYvehp7eDA2KiJUaU/WcFb9JvX/G9jkQy4s093irLy5869ArIJWZuj0XH2+pmsueoTvDzNCeg8jQr0XeC886j1pdZ+NzJU6enQZOaxm51HHdDW5KpsrPN576HYoDZqBoY0ZTwyov6LhvE+LNm48mNRyAKuxhPowrPRzYiWtBCMjAkAxMQlHEp9e23Ex8nYad+Rk5VeA7/m9y0octrpYZmTnami7Sm3F18OKt19zTjke0XcrlOw0tuOb6PDtRwfRZ12vVyYuV0dC+lnF1nWttp8z2Esu009nnrNVW0ikpuwfU4boLl05e92hLydheoUz3AEDnLTbcWoJJUJBq7iitfPFAVg1bYFMqAKdfOxT7e4qV77SStW7uA42wxY+8E6o81JdPM0cb2rHP4eqazmrO1K8e3WGzmOoi5tVaSCCGMauh43zPVcnw2GhzVRsJsY4gzPjj6KKN6cFkNMQwDAEQmRAUdkJo7G5krNqZsoSsC4JkCEiAjLFM6BRnQyGAgNPYVsQQaCKEmIynnd4tVIjIEUzBIPq6vLV3Ufj46w66G4OP69AZAiAYQDgKro2McLAxJQkESADCELKKdUEOqKMkxhxMpzeToJqAs2arAhdHC0I4gCQBoCBXUxGKBCh5Jx/b8Px26k4sRoQKB4DH0OcbenDsjUWBAwhCITC3IJ2uTz/vTK6sZXwPT1mlamxn5bCdhy2enO7wV3FJ6Q/O9GDFl4o3uj0VEufLu1NbX0sddHXYds6g6G/CcN3PGrvWuprWaNjSbpqmxsTi+r2cJ5X2lP2hqcb3uoXezX1st1tVNqNMYjKMZDEI6gGTEVI2OU6CBKLGYY4ZChMqYFMp14ZEwoZsUhDCRw5IQQhgsmUDBwrISCDRYQCCCKRIp5hwff8AA8tQROegzwGMua5z4a+jYH74eKKywQaAjKxKSXHM2dTzdlVlfj6nbTzv0LZ2F846qm9Arnub6zAllVbMW753NEl9QYovMVfuLrjeJpjcJhx7KGu+eJppYqug+6DUx7wNVNsxqjeJq5nQqb3GQhUM4xEzokDEUyNilZDjg0QGRVJIsgrMYyBSLCoLMmMsBWhEMhBMghaBMgDIR4QNIR0yiSQilRlkArYxliCIUPPfPvRfPOO8eQpisrg144M4GOPod1b04MVqYgDsjjFYgoug2ihy3UquNlDQSzBzFvZKiyKqhkGWAhCDyAcggIICoHCkaLAgSADjHOOGQoRnwsGKBlSGSJBxhJmVQMVFOcbBgISIFYYGN1EhgCCPA5jDwWPBI4BI4hjEkYCsQgQcyBIJFZRYIQMhEOIKpBcb4jg/OvSPOOWoyNz0MTgcqRo6x9CNJ6cRkeoY4QYhYwjrAvU8pqeiPq55XiMRlBAQIDyldWOevwoRDlQNOX6SniLGVV42u2bXeM0BE09utjeGPEbIxgzMkNfc4/r9Djeii5mg5uGu3yqtOR6bTaVNHKxnL9LT5OXuCykkGKYJEFEUEMJCxGDAVlGIYgYADqAwgkhHWBhgSoHmOEExmQLBgIY8b4BkBWI6HD+Z+reXcrheY8aJTKRlywqFT6LkPpwGkC6sErkSZEYKsxy3Uc3sdJe5OJvoscvnG7p3Wt55ZHdArzq8t1PFanYNX1B0k4PBp6HR0tuWtD0tPFXmqLTax1drDGhd1TnWyLxvJG8oOkqZ1VTuYsOezt16/safLVuNrPhOU64Rztf2etXNXGTYrzTo+g3NOK3ermSch0W3FVY4JVgGHOgyABUixQmAOVHJCRCCEyDKQFSlNEA7YQZhhkZxgcyBEMi44OMbDxQZYkBgyYxSGWQunJ+TeyeK89OIOelyK0OoyGLJjQ+jYG9OHEgxEGyJkSEOB0cx0PTZNTk+oyRea3rjHZpHYXNWEB0d3Ia9J0Qqg2rcpgr7gqmtuCMRaDxAbeHGIxRkCyEmtmw1UdFXb1ZTjeC2PQKLquduDOFEMJiphq0xf7dFYG02uTZGKhOkBSGEUKlQpFCVhnbGw0UkbGDMuNTMuJTJjQDhSEqQwEmbCSBHJAQGQKSBBYxDYxGNg4I8KLxL3nwTGnRJy08Uj4STHmGSPokg+nBKOFlYcwpHVwOCFsYrOae4DjmMI5PpDMNPbOJ6CnvqtRR28O+KrLplI2ntVxsZvP8ApC8mhrlwsMYtHHzNds3n3TFpx+fna9R5ec1HpeassScb2Gucjt6ujV3R7xTZTbK4+U9F0Co1u0pDW4L2eqOWHZ4SzXJjyEEBIoUZSZUYdZjHCgkJEhYVTBTGAGUJUgJhDGEmQCwkQyEjEDxxcOfAJlw5QuhNL55+j/nHGjHXlqZMTRCUHxlT6NJnpwWDBZcgSCjQkkJNPzP03zKrPrec6erCi6CujzzpLXdrzH1Wq2k4rpdq6XlOS9Dic3zfq1cb21ob8tPr9C55ZW+v57PJel7cxR72VZa/n+wy1zGzcgpVvylA1+i1W/lxwqtBQAZorDiEjhQqykABkiAVWAhIFUwUMoSjBDQgZSSQELChlBDAQgDQgkgwVgmEWEgDQDK4SpqYMiQhAGfGR/nX6H+f83WxvOG8WSZTEmfXI4c+jgR6cElgZEZGdHIyEyAMMjtWTEcRDMJkarshlXlau7Kjv0QqJckQkBpy6IkNKG9opg546YaG2O2HPCBsBmOnsGZF5aupAxRkhhjjwmRSRwSIykEUhVTKuMjKVBACQoRTCEOQwDrIASBMgpYCQwBkII4oICVckYBgIIwAQ1QyGKSQqEEgJPDfcvGc3nA6cNs2PORcbgXIp9GND6cQgoXTIGQkZSHJjyDAGghAMWLntQdRw2Lbuuf26+O0SkusAs5Zejz8B1dlpzmjobdzq6FNlm7bhu4OP7Ln9yK/lfTeX02L7Trc2808py42nudv0Zt9a5reFmbVlXKuMUTIBYwIQAEKQFQBlBIBgyBDAQZQYGdSGMKwIUMIGhJICFAyAkhFZSAgkZSOVYAcAhBJIEQUBFgKygggfIfXfLZeJLDhtmWQHTIY2Rz6NhnpxGgsZgYJECTBirAKNQhJradqa1deyhRZLpEyYyssqLfIamTaZGRpGLOoDifGDR3gtdZIKamtQRGEcfn6fB1mbV3n5siGRASqkEilQqyEiQkkACpDIRXhASAGARwAtBYQASBYQMEIrQUEADABIAVJHVyMsGfFlFDKCQAEhFIEkgASJ5r6Z57HnhDeforJjCxIuZMZ9JST04c42sYq0EEDlWIYAwSiQQFSESBIhJIQ4ufs6o8PXbnpB86TToul8j29vTqfyrJXsNVSc9i+gWVfYcaARkwVTKUg0WDnGDIUYYo4FcCIwFBUkKjCQkhJISRSCMoQyjCAAdRYSKZCMjEmNR1EGEUkkIYSFXA0YBhCkUMgICCKQIGUgMJxHbcmeVpibzdCMgFkyGvCp9JkP6sR0dAwaAZCEEYAghWmfHBhIEQByYiOFIdDdBw2p6E/ScXsdWkUTXvKHTEYc0463R1Oj2qbm47scx0ma2KtrK6LP5Z6jYx52uOsDcWdjYec+j0CBzrKFGUQEEJCoysAwkhEIDBYQICQGAIijqpARAiQBEArQAMJAQyCmdGgspC2NqClQqygKiCVhFZQSAbnOipDxgIfN0XYwQyqCTDkU+kpD6cRg6SAjLIBhBgANEaiVIyyEEUaLB4pDEhVU3W8zuXXEd9Q1DnzHPYuyzxyex0Bh6a3OVDYb8tSts80ctZXCU9fviMfLdby25l6riuypRDysBAJICEEKsSQhIgZCCNBAyCspBIABkAYSCQgIIYAAsJCAQkhkGKkhgCyPQxPiHBUgIDFMRHQikErbDVPCEI8/TIohIwgqCfSDJl9OGICPFYkgIRBlJFJQjI1QGAUQJUDxSGBAYMvGHRW/MdSY1yLAQ4wyAcgDFSR9DbMqrBihMmxrZUr95gohUIihBBJIQq5DAhZGGEUYJFZSABgKYRIQQwiRgBWBIGFDqQRgQEkgpoJBgJGSUqkBZYQEAIkFWUiFQ48kPn1QOG2UNKMmLJCOyn0eyt6cMylGKwZWgskCQBkPD1258375dkjiI7Wju9Gzd1qPpSi6Dyr0it7Dkoot+Qr7s6Hb53oSI6GPX4rOdnhpGLet5pzqbnzXqCisBs1ccj1yFdX9jQpp2ePXOuVlzQGUiyEBBIIOVg5QoywkkgJCKCBhACEqIQCQAkgA4AGAUYAhBDCLDKAaEggYVMYZSGEAhgSQiEAkIAYeA4trT4bmN1leY2DkRI+k8in04ZlZBJKhEhhJTKQa3k/sNAcl2OXbrbqLeRztF2+Y4DssYKLr82Ex0l2xzHQbYK6wZAAqUfQK5q6lrDW3FkPiZQugMhxsEgmUYoRYArAARQggYrAuhGKMkisGKxJIAiEiuCRVIKhkAJAE4yEiEWIOAxCASSAElBg4AyiQwjKQRliQQUQkBBEdDxOpvud47Ji5qlVM2Mw+lwG9GMhWIIIQQEzq1QKxHQmRYsAaW3TEYozjHjM+PFyunVvS7putRpZfJR70u+3O9IEDHGR8ZhlFUWh5a703n1M+WWUuxZaSCVgdcynDkIrAVG0jbggZhyjwQYamSs+lS9NqUfQ8z0NZgRzKYCRIrhAPFA4iDLISKxIISQgIhDAFWADAFgwIVACKIMAChJJAgJBIASHkPKdjyXLTKDjWOOoAVPpcg+jDyRBDAOrkglSAkZYEGHk/TXW71nO6PT445+v7t656i9F1ooa/sd45rT68RQV/XGKa01duExZUlob2nsdTa1tnXzajoOc6DU5LPu63RZ11pTx1wTQ5Wy43pcVc13NFe2YpV2eScd2WOuPu8N7t5n6Xy1tVpBp8nOXmOz24ntKjd017StsI3A2PnYqCCcbDhYNACSKOsUaAhKsCQgIIIQSSEMlR0YAkBAQqQFGQIkhZAMrAUiHlfF+gcJy1jxO+NBsZETMD6VZW9PNoGhTJTAgIZSSAYrBihVirSECVFVR3xkyBYMIsGLDLiWAkQyoIEGHJX9lNRmxDNfJhgaa1FZCojLFJT2z4qjKIZQpmGF6r5vZbCytD1yWxxvQ2eLREfDmotUsW5qbYJr7ECtjDKe5AUISIZICCEEkAZISQDSGgSAMsFhUkUkWQhEgSQkDCCQ4Hzf03zHnt1ac7CgHVckfSDGernCCGGEZYEKSMIQRCTlNI7w6W+KhpS3FHonVvVuWDcf1xkxmoLSc3nLoYObOsXHXQlzwd7ZfnW1pbZfNPQ6zt5x0R06nXjJxexT6eg8gdw6TPT3OS6uxypWdFpYK39fn7+zR6mksl47tuU6FGaoJo346U8s9JpLBbGqtMMnEa/c4a8n9PxIcp6TSbku7q7WCPPu/o7rTlEud04NPRAUXXUHRRjhWJBCSQhEolAOUgxUgxkBKwIMIIsEFQwqKQTjvLvV/KOekmTFz0cOQAyMp9Jwz08zFg8hDARBHFyJA8T22keeYt7pNMt3nXJeH7mmOFveu2bOG1+vtVo8+OzJpWGOOasLZTgNju8hS8n6DlTz+66VDkra4U5Lo9qHK2V0VwkiHr9+Br9+UVWQcWQlJaZgmPNAOoByXa1tjRZCGEBQYhcTLKYIZHwsOhQAVjKEJkVIZDhczDE4kgICCSShGAsgHAIZMYmRSEyCyAIDRFZSAEWEHOeN+2+L40oM5aK5EFCbR9GMG9PMyQyLIQpBpISI4MuNzMcbExOorIDKcIMwQhIIqZuZL6TkrOwfFkyhCjqFIAg5xMZJjZdPe5m93NsYnxXWgvdIebt63gceVJd8Z2W5DVbObuUl1w+53wy89hsXXEdvoQFwGHJyFdJOC7HTbejpTtD5kdvT+SvOWy6Kz5DPWbeG+UlnyXTGKyr7/AC5LrOZ6cAZedEkDJKEkAJCMCBSo6kBMUIIARIKsosICDCu8K+gPnzGoBOelYQyMZH0gYfTzhMCCo0ECJCAwZlhkiEACnNDQtektKmo0tPRae25bDqtLBRF/q852+g4++YyWuccgqrPSrXtam0KbmPQ6TTlrzrKmuQ6lq/Srt95IohbXxzp3bbLnrvSFWVPc62LXWPO9JZy9Td2nRUUPa5TX1ek3cPO+42deK7d5jqDDzPTGNTVuAcrt9CKobXMY1cjHJdhAaO3kUwzOap93cp9BcsmagdYUkBBAIJUkADCBTCSEghJIpIDEDAUMRHkD86/Rfz3m6xQctkTKBsZj6TMPp5kiDQEDY3JBAiAdkgSrAUg0t4EantCYNawatPLg2wSU5dZMWTKI+IyTnOh0dRMmKEMUI4x8tq9YOM69MsnGHaMJLkSQxo+OKrazTU22rLKHi4zMddjJMXHHU58mkuU4wZF1uVO4iV0WBrKg6PL5Z6TZungewXfQiGECMyAyBSsigYKRlACJCAGpCAQghUkBgVgiGQBgAQSMrE8G958SzedfE/LZBSHEh9KyH083EIVdCMpJJAEggKjMFGgBEfzXU9Eycy50b8TU7egnn+ePQeU2sRY3ufHzTlOq5bTpeY63Fly1xx+z2Z+orK2M1nROmTBSWe7bHd3+ba57o+dwu9nXz5oUrC6+xpnB7+nZbnPet+ed9D8L3PCGxaaOkWvN2PQLq+fesedGK96OvSw879CwljrTUlyUfQ1KLvbNwvEL02zZmR0lisshKlQASIVGmMGWJBorEIIQRUkgZISCADJBkAZICEkdGJ4r7X5FLxeNX5azKrZrZEY+kGU+nm4ECQAlSAMAwEghIARgrA5HruR6S91di5y5wdKDQXdWXUXakhUiXJzXRzSTnOjjFmhivybps1diSMzYSZJjYHK3W1ps4zM1JFBR3jGrjsnTT3IAam2RzjgVXGShumXKqBDFRcrYSZnwkcqo8xrYyiKVhgJFGgUaAEkYkhICRWjAUgkBqGAMBIjCIABpCSMoWjE8s9T87XzJlnDbDMIR8eU+jip9PNiIMIQKQEEBghCIGAhkgOe6LJWTGohoqkBUEBAQYJgDGUaBhY6kishgJGAHKQYY4rIVCQRnwsmQCEggyxQ4SimKBokDBCNjJkOIjxZTKIMAYAdCCAhECCCMCQxgSMAGADClMgYIBgQBkgQwJDAMYMMBw/c8ieOkzz9MeUEXJMi/RJVvTyjAhUwCtAMpJCoYGAZCGQBBIq+XnqeHP56d43PbhLTyL1qsjKcjIQGCmBENBAiRAwJAYYseVFWEDlCNFg5xOM2MhiQfEUIsUIAGigaLAlYNFI4U0wgHIAVIgCEBjADoEhwEEkijMkCJKhAGghIQFSsQqwWjEjKAgU/P9BWHgWRcfn6ZYqxlOEr9Iwz08iVcAYAhAUYEIJGRhgCCMpASL5p6XxVd5QbGSOb65MpwNv2WCsYkgzGw5VoIWBCAyzHB5hhlOJTIFYgkJJArFMkxkyBYNMRGSVJZhVHAA0AGK0lXkkIQo5RhxKgupo7wDBAIBCGDADIASQwEIA0NLCAQkkMACoVYRHVhosHWJThSNr5ofOeXCPPt2xtKsMX6SIPp5SQhBUMAAcbhkJISAhRwGAVgzY4F0YEgCIhFEDo7vJHUbnKdUKjYoIEIIoyyBgg5xQynHBm899BqK2rEy+RdpV1Y8N2ozeU+omTl+dvq3rbxT1WLDU5yirt8vN1R6nUadedZwF1aVceb9ikch0JzHSaO9z8W23X2BJFggMSQhgYkhJGUIkCVahCRZCCMBQwACsE4yOcUHbCDIEhkfE589YdnX47gMzVhyr9HkH08orIMYCIyEimHZMlGKAzn78cSACENRaefno2ns1haGQg0d4i5McTzevutO42dbZhKS75AHTctb1a8Nb4Tpec0aE6aysOYMd/zW6WNVqWVYu25foMsiFY86vrC704fe6HOeaeiLolRf5q4pt3dUpOp0MiJf05W3aoMlnmo3LWVMLLTm+V9jlwKcbCFhgDCAMBmBAQxIIEFaJACUg8xqbC6ym1iwkyIojJMYHKRXEUcoyOyG3wqstKzjpMmM5rFckfR7CennAYMhANPdU8+uea7rTZ26ngo9V0F8fPUNja84jorfz+60sdygskx4Vs5dS7tcZ5jcX3Qnk/r2noFzy/VNl5bbd5R6XeCPGOiuqKyg6TYWuS7bGkZMuoq7u7SacdLWVV3VW3RCOdx9JjKAXalS1tCqxXSlNlsQaW28iZ8Dmy2BjJMbBEVDAwTAGSUqsJVDKRSQQgYrDLMQHiQaKRlCGVca06BIYKQwEJkBIAiQhVlEhCVYLKTxSi6Xm+epmxjnWKZV+j5J6eUgYCkEBMee9J0o0rKvojHL8x6by9dUcNXFllp1L4UjF01ItWtY+3FabVTQr7taqc9kCtNi0VeK3xmhZBzamu5kOOI+OY1aARkmOVkQIMkxw4U0WWBSAkEGkENATI2NjIUg0ECVIWWBiimULBOMGU6ucMkIrAkIDMamUYwNiRDz/0Hz7uO+d2LOGmgITjxVtkGULAkkiySBkhGQpkZWPIeS7TlOe5jy4udmMtX0pAPRzMEIIBsOUHP57w1SNZwp5cJGnv4wZ0xkyMjhgguN0gAAMAoxNEsouMyxAOyEaIxkKSIcbU2OaRuHnb5MgQS5Fx8/p0sSRkCwMXGZF1+Y3L+14TuiNgxYu8eV6izJMddLbVdnzGp1ArNiXeNNbw2NtA3F1Frd4Dr8e5U463P1ndHhLfjelXBo4V+9xmx2ncryXSc7nfzz0WgRj53jOx4ja9Oevw4+O5XvqvkrXTpKSzpo7BTW86KXNVdZ2woVxeiHOVunbvxvY4GCZOymvMON7biOO1dsGLkVnX6OQz08pCpJFDBCAggXWNpdDbHRNM3sb8gvavzvRIVGgZcPC9iWY06wvlejLnzDtqQ6etrbCugPCYz0CcrzZ6jU2WSNfYNcZMtBVV3fnvoXJ6j9Lx+3tu7VHZ5Zeetqnc6XHircXPiybOk53qsUDX3a6m6bn7XDlOyqNXSquhj3NfBis607rd3Od55butjNcUt3gtDf4Y4ydE/Vh0eknNRPeZa5udAprrkmbQY+jbU5vX6yHJ9HspAMObR7tiNQ0N661Or0Ms1tC3Eo19hYTkutOnIdHvMnJZOqwVUXmlvSiE5EnYPNfP/AEvzTlpciZOWlVTb9HrB6eUkgVME4rtvNq9JlLcRr8L2e0ct0vJVNehU1dQHe8lta1XO7VpFd6D5Z0pTb+xvlPpeicmX3B91uHn9h2xOP3+gMc7W9pqVotjY2ud6PejG5U1tS1IlbYJWemtGKkXIqqucciZcJhlijnHS10GjvSMGeCMikEU8/qXm1zHTUEfFmnJhMZMcAJCQRAqVHKaFWAZQA44ciDStsKMq6rU6kEYo09vldzo9vk+sCs5qOkOvil3BS3QrK0Eg00DEAgWTOZWiHGeV+n+U8tbCYxz1lhxL9HgT0cjAKIkJzHT7ByVja4huK7EHC2XUJVNW3eAuVqMhdatcsWr0oW7WmKWGF9wqGuQVDXAKcXJKWw2nMgSEQgCspJEBi1qDc3L7UqDpxS6Z060dSdlj5yp09A16/kY7HjLy13MlNfaGb0IqrXlWRuWs6Pka7qu02Lfkut50Vc0TBkqMXWdpr87s4u5fUd5ktLcjLn7Tk+q2wYON9D0oOj4ruMsPMdW2LARlyFthqO+e657o/NZe82tDd5Uczd87ua3dcT3Bi8v9R57Szptvaii7DjOxhX093nYRAskoqQTa1shNTJI4rzX1bynGzFfnTjZ4+iZD6OchWjAAkACmCcn1qlBs28F2MRlKgUyFRYGgGQJgsJBCYozITJFIwUhUgVXUVXU8/wCp0tztNim6HDlxXV39XVPp9hsZc3WdxKqBazFV4I1q+3azU3QZZT25Sut8cqvsAqxkMUrXb6ldjtlir3cqSqrSKnV6FtzjLm9x1UWGXFi6tF0wqFXyOHLKKPAIQeedXd5Nyntnx5orLJoGVCPrOoGQwQSMZKCmQHD0kaHM+Pe0+J89CEc9TZ1sh9HETvzkEphFCIAGQUOBCsGCxciQDRCKZCAqjrIFlI8WGQCBYAYQhEAVgIjKEow0AGONyNjYcrCAKMVMGKwYRREQaKhkNHc0X1diHbFAcfa0fad2pXjWEhCsGAAcZUkUkkgZAGKSEEMAHUAYRTJMcHBUV1YMBHVscNI4GLCAiq3wb6A+fMaaKeesyMh9IgzvzBBJEgYArQQiNUJZzFhNqQKRCFTRF4wIIFDBTpdSAeCBdGGApy6ZYNMZGWKLznQ+T7nrasmK0EKDoeXvtzbOPSzbMhY1q205rc6PPw/Tlk2Hgo9FgmaEfWMg4nsNTmOk5/rdqTZ19M6eFeVoRsZOssjT6eHSryqV1go+dO9oL3kzpc6PiyYcwSIQMhq7nE9juZTT3ObzHT8lm3LLQv8AnzpI6c7zurtY+06fVzctzXlhzXShy+cekkUjFYQBIgA6mP57+iPn7N1C2LnvII0fRwg9HMgqQwC81v8AP13B5vo41+D9A85rv9HYqDo8FLRndaXCdWWHI9DzxfXG4IxUtxzRY0lVu6d35r1eAXQ6Ljja6nVKX/E9uM3LibmTf2eY3a6dMmOOc4+x7vvOGfodazVXY34r7S1yc7yidby+3UV9keN5mo76p6znaDur7Ur+P6XJm2Yw5+VHLdVUanO13c1XWcrfdFbS0XPde+WXX2BzvO6PX1/SUOr0O5XHWfSvlyvVaOAz8h1D6DT6LnsuTvtjN0nI9amxLc0HQDleC3Ley6zl+w53pMKnkvQ3MHAejZDV0rGny5Hq7DPsOY6g5c9e7eI5jqvPfQdAROVaCEKkMkB4J7z4lLTBH47zKqH0dJPRzWEBEhh4/pq2szWO8YaDoBE1N5VFRv69m3Tu4Lmmhc46sFrp68LbHWObZ1s5g57rtw42wuN81KW7EV9kGFYAVSTHmik5TrTqUO7ukyVtg0tAelwUsIyMViQQKrBRTaG51jo2LlyYCZFUGTHEArKAhhRFAwIwkIRCCArLrHBwsIDAwQhBFIg6wgyYyOqqECGRsZGWEIMiEAJkIJBfGvZfIZeVZJy24TJH0ZJPRzKGAjALpAggWptmOc2bomhsbACVAxEAIRTAMQAwQaRRgVACowgDFAwAGicpXXHBkh5y2xudEVx4uwtTYVlFFr2dMVqJbka2zFdYeMdr2m7oW3E2eqwHholYErCCAilQyEUFQSEhWBEgSsHmKGQ4oZQjBIAxAJAQlSMsAQANBAssHEBDBBIIZIBTA+T+r+WLw+aLw25ZI+iiJ6ecDAUmEhhFhFYAaCDCQKhgyQBEIwgIISADgEhUkWEWQiwgkhE5jqdDUoet4nu9JzW3TV2HOdPl5vOe/wBCy04+XG3ps8902Hm0d5xLxu50e1uVdJ1WEprzJizZFMQQBghBANBBQVJJAgEIECsARIEhiEEIYEhAYIGEBAARIEqQxYPBAwEMBiEQIkB516LwR5xlSefoi5hX0SYPRzEJFIgymChgskiSSEKwMUmRRBokHkBCpFghIMgIAEQBggYGFMAXRjX2Sw2TAAlQPEA8SBKghWDxIZIgGSKMABosCJCSAIACsASsGiwIMACpCGGMJIQGQigwhEICgYAOJCMoGEISpGKMGCBkEMJCcR23KL5ZjYefbICv0UGX08oCAQEMEWAQIECVCEiBKkIEDFIYsHAAQFMjIQSQkkAQBooGKQyzHDI2Nh4oGOOBmNh1VR2SDNjYZQArAMFgWWDCAMECAAIaGrw0Nqm2GEoI4jU7mQZsWQjq45hEPK9LqZSFzTFJBK6rAa+I3YJDFXIpBIIJl5Kx3L44s2LCAGCQ0gJzvRUp4zjXLw6E4MsfRII9PMSAVgSQFVkQZYAhlQwEkgCUcgEDJAqVJBBxAGAgIgU16LTppRXkFZzadI2LJLkbE4wEIs5eunnPX6EDVl3G0t0AwLWwKW0Mp5Pq7AedsCzXSrV0up849K6SutvO+9wz8r0/nVdXVWNnZSW/L9EttIOVx+Y+oed9Z6Mjryo5Sw5btOk1VFbuHDqam/uaTZWenp4jt4p4aXlum0tykGXnus7ba5m0xXueU6vKKVxZOD2Os2+k886TUw9l5v6Vm44ZysggQYStstaPBtTby8emkzpqfSCydcAEANHbmYQETWrVupXa6XMqtw2JRWFbo5bpErbjgOyN8Hk5es42w5/U9CpucxHabVRxkvpWnzvQGXZrNUusnmPdGl0OQHK3lInSWuzwfa1S6vOd1uNrVfW4tgpHG4+M6Xn+sW/zVRrY7XJZju620561qboJJyer1GxtU2mhDn2utzUy8V0+1LzPbVdnlzHSgROP7B45653MRzFjcisQZM3kqz0JtzGHXFV45j4ju6XcteL6rBVmIvNx2TJj9E6+QefTvjhW2+M1o61yUpLhlWYskjlsPZt0nL4OxaOO6zIuQBEpUwkBCrmPntwnHpkCbeXvpB9PMYcynnHUVY07ZKy0y47Js8vVhdU98U/R87fHm7dd11nAV/qNfHL3wtVnOdNrRyl5u7dnPYOqC89yXpnKHR0vS15k2WEUV+sFEhy1jdpqUG9YMRpz8dDU59wQlZWbHDKoBG529scAygTlbOrNTahEksEBkAQYADTnuhsIlEt4dXNGSJBlcAgAyiDSQOlucbqdsgOaoaFMt02oJzfRxGV5QUYaKRgUGA5uzpnSS5mxOMFhIISADwEjK0eF6FrV8egZWy+hYD6ecEhz+a9UANWWp5Gwq+SmYuVplL+UDlxo494pl6pTmp0YOfXoYc9OgBQveMc7s3AhFgCpxnDdzxna9IImti7ZpMllzxt/zG3Z4+Y6LLcHn95XSHhe6yKmszaLquF2u+eitOeuOd2NbZ5WMXY8j0Wm4pHO1XMWdd3z1PO2u9ls1OjCp9C4Hu1ThO5oIqeqo9fc3tHYrNPQseTH5tV/J91xnWXXN2FV0novnnc8Nh1vMX9fVleycdLr7HAWbPU0d10cp01HY2a9nT9PLx+wM2paaGpQV6fU7/D870Ux3Cc9s63aLXbmDPzokkAgBkgGBIQx4rT9LyvHeQJM36Mkno5q0gIYKwYkBDAQiQMgCRCAghEDACAgJikEBEhBhzIeeZLxPRMdD0O7JW7XR6OLZcL2O5lUC2xR5n2VwdKC4zTIwNLTZrRrOeviizFkkMyMRSCq3ttrK3fKStXb62aO0QrGPGLOIYGyETHkQOtsOBwSusJAyAiMBXVjLiMDFhnxADlGI6Mas2IYy4MqpBhIAGEBBGVgMCQiHlHJdlxXLcy4c2L9EGDvzgMqCKEghgA4WDlSGQkkhBAGQEkIpkFBApAGWQiNCPR3NOF5muoZZkZznR2KhWVRwl30nQ8v1FDG/Zcn1Rh2OO7KNBufwdJ2HPWnP5vTbfJ9bkkNZFo3PXK56q05CzqeNutXahtdTuOk1t3nuh4USHNAgArQBhDASAgMBIrQEMIJCEAJWBIg8WEKEMViSAaKSEQkhIRBoGAYTzXgvSvOeehInPX0ZFPfmRFqAqFkIYsHgA7KQyQkIIJCEEBMFDKAGCEQispICcpn26rtNoWFMX9jQXXNjz1TxYAGXz6338ffNzyPac7im/pegjzjvtlin5vu8BnqN+qgXdNv1tVtkc2tsSpOb6KJWU/XZtNCp6IQFi5rqIEABghICNFg0WBIgQCMJCSQUwBggYpDFJCoGKkMACQBwCMsITjcZ0YMjHEeZ+q+Uc9TGTy19EwH0cwslSAgigaGEOrsGSIwWUjQECsoxBJBCCEWCCwoMBCQKZMmGGeYYOhUgikII+TFAwAYKB4kMggCyEdCASAkCkkBkbER4oGUAMQjKIMsQL4WMwxsErBwIMNcmxEI8WBGMDnGRipDABwoGOluDHE4ySsq0aivBiohouhVodfYhijnN+N+3eKc9KMg56+hBB6OfMdPxU07eaGplV2OlzunomfybuYToeAdPQpwdwuj2/kXrZFyLCmtYWy4TvqUVljBnA91WRDzsdEjoQVtmJzl4upVWtL0VOUmLX2Xnnoe4oxZMWNSbepYkrm4Rq850nYzQ3sGmMy5FJFOjq2XEUSkjGOIg2PBTal/n43swrEzYOE7rUk5/T06w8V00b6PixeVuuM7ntLIJpcrvilrbOrHLytrYaj07Kctmy6eRMXU8+7ny70Z9j0eP3s24u6a4wVX5iOnHE9FXO9v57fdJrdhw3c4qcpccvV7f0O3FoePtouaHS3tLFOc6eLF8Ofna/wf6D+eMazhcvHX0EuSennWc13Kpp19ltri5Hs2OM0vQhXn/cPgJyfW47Kzoa5pbDWYR5702jYanB9XdZzifQubeOB7Oj9JotrcXm9vxnb6dnAbPX3JgVhLxF9WjtGw2tFZvYOir41cmazy5m8G3puc50s53lqfv6DpKLcW4rRwZNiugCN59clsXGTrOTsOk4rTc17XUsuKrXy5PU9BK5Tuaros1MeSt5Xzj0/nrztnjb6btVib+7G5p73K87z/AKZzF/pzpuMNcfd33K6lP0N/qm5qXXK87rZ+x5TbpUI408j1uTU16HqDLTWWXGY+O7TZs5B+qNcxn6ERzPSlZcXM9WU4t+1Tbl8/QmOM6/DsHmlt29ftR0vo2qieE+/eCcN4tnXycN/QhB9HMyQMBOYy9KK5vNfwp8lrgTU2NoRiwbgKTB0ClKL5VoheLZR4+gi+bddfgQxoGLJDLjiggpqvWxpGyMLoMeTyvpPRt2gspbASZQRCHz626OsAHKsvOXepngmaShGZCNMYMiADqAHG/AbnfwzFy4SoStFZ0CxZVzKQpFAIwuruOFqW3pqG+ZMHK2W/ttBpzsKsMohAiGd8WUMUjBYPFASIEjGZChMkxsZMuJxioH8B988IxdXEz8t/QIM9HOAwMBDABypDJCSAixRgISBSCEBgGKwMhJASKyA5JqnvO74vraPI9ZSXmS0t1y5s8/6BVam1sjS53cr+SfoqvUuF7hFU6PK8ts6V56c7e1x7ZuPveD7mHCzjqnoOy80759J5tLqMlDacZXp3mvfcTXe5MWbz6TUyebdJ1Itcepb81U3tbm5l4bNvs/K2Opj6LifSjiLupsTANnYzbSOnK83MXQdc811vI3q691XWOHOdDQ29cJmtNLvMHoPEdVyvNdjwPanNdFz/AEEcD6byk06iku6Lmt+V6rm9M9rTdDXP72LSs7FknHTEQnivtHjObRQvx39CQT0c4QAlQPASEQaQBBUikAkhFfGQyEgYEBIVYMkBJCUlzKemtyVtmJJCoUqqocZhkXExV3eMUQDGvleVi1rCRU7W3KIMiOjCaNmRMghq53gFdVWqt3spLTMA09ySi39xQMRC6m6DW2QSMohAwXQy7h1KPPbYq47rMpMMzTFqbZjQMgmSQVxCr2txaXIgg4shDq7Rqgr+1OphhGKYQDx72DyjN47Krcd/Qk4l+/Ps15F66qc1lOjaizlu1dlN0YnDDAI4FhghkJJAqQSSBgIZIAFQxYMUAwChQoFQEBBhciymZXFxbFXTaWI9Y25rbAxx5CRNQ2NI59zauqO5414ZihlgRIoJCQyEkhAVCRCQQEkIpBAVHAiwEAgIWDQRDUkgGACVg0ADIAFZDlTWSIYMDBgNDyr1Xy/N4/WJ47wZRlswuxXXyjZTUSy1zWO3irUy7QNbI+LTNlxk2G1im7lqEq7alcuG5/IXxoVOifnCdM/I4q7OchsR0w5YHVpz+I6duUznSHkcZ155bKdG3MyTqzyDnXZOFyV3WbgVPRcvmqHqWbyTBqeyt4wle1nxJj2qeMmPZh43it9pTxjLHsKeQZD1yeSNHrC+Va566fJVPW28nwnri+Voeqp5jiPVF8wh6UvmTHpqedjL0TFwIr0AcBjX0JPOBqejp5vkr0QecE9LHnr4voQ4FD0Eee5Y7tOFc7leLEvbYeQlnWzjssdTk43KdXk48HZ7nnR09M2vJlr13keMzRsDFk5a/8QAMhAAAQQCAQEIAgIBBAMBAQAABAECAwUAERAgBhITFBUhMDFAQRYiMiMkJVAzNUI0Jv/aAAgBAQABBQL2ypT26lXjfEbMibn1n6XN9P63xvE9+lM30oubxHe+83m1zed5c2ud7N8ri8bxOlPjTlfj3m82ud5c7y5tc7y53lzvLiKuu8ud5c2ubXN5tc+80mb9nIuLi8Ow1f8Ae+2fS6VU3rhcXF5/evaoX/S/fSq8xt92J7sTSffXvjfH7+DeJ0/XH6XNLz9dOs1iYvQnP66P0v4C9W/b5VbjmYqYuHInneN6xffNYnCpvExf65vNr3ar/wDP0b4XhExjfaJvG+neLm+nfw7zfH6To3zr2z64XjWKvC9S/kL8++nWPj3jo9ZYex/eRETlFxOE9+FbtM+8rP8A8mLyubzfDExvurfZOO9i87z75T4t8a6NZ+ufv4N/AmffC5+/g+uv99W/i/Xwa9nJvLNP+SVd8rx9YnumazXt7575Xp/s8XlcVMnKjGaFYDmvamMbx99P31/XwpwvP6+TfHti8/rE5/fWuWnmJFrSp1f8X64X4v0vR+uhUy4Tu2mb9sXNe/d3yubz9p7KF/8AjxcXHZvFXK6NpLCQJbOAKfzIYM8xVu5UY0Iog273irw5dNa5HNyGeMjF4mIiGjjVJG1xqWIi9E8rYYoJ2kj8ImLxPOweJqo9u+JzIRped8fXLsoiJTKhUz6zefa8uImbdYvJT5Yhs1i4n3+uCPY1YGeYbIx79YqdC4nvi8frjfH66qomb1DIVkdF0r0dof63Ouhc37b1w5cR3uqe6YK3uCcLzrKrfdZI8OOANsFfFAwe0NFabDE1G3ms2m8IiQiCrmYJWMsYpxqSLwaaa6HhJjOarzQ4zGTSJXA0cskLSZ5pCax8rx+JmeLGPE6bsvWPSSunnYLACYw4f94qd7E9skJgj4uNIrvZ0VqNMS6xDiIlMggkLsYQo22c74opWTxTXCNUQuE2Gk/pHlgegDGlQSTB20Rk5hTA4wS3kMfby+HbzRhFV9lNPK5SLImhsSTEYeeaRPbPjpjiPJijw2DTiLAh1hDY2ZkMMrZ4MXLKMtilQywQ0ojc8Hytyje4mSFwRSyjuLw2QhbFxBHrl8fOBGpdotgISQ0riyPkHdUlGyPWQ/1KI6SOQU48x9ravq5B/NK2QqyJdXmtsQ4yIo7Q8944T5fBHZdMdGVPKPgFkLZM6u1jO7Z4q8fr74+s99932T242i5EmoF6U+3BwkYXWs8BsI9qP6UEj5w1meNXSwmquMCgaZx6dJJd3wbyBhWq0O1Dkmddgyky2cT5HPT3r+806WGeGyjIERMezvsWshV9FDH5Goh8nV3k0TK6vi7oesVculclT9Mr6+KTtDXxoKVbAk+QNgmZXgN8y2cSKVvZiJ0Ff2ghcRUsTuxNKcHQumHYBUq2sDHZ5a4X2yaNJYRKvxezRMMkMZ0Es5TlikGHkkiEsw33ARwshGRjEDzjV0oDwQlFK9Ke6nIZO54EZopMQbYzwa7yNdFE2CHWLk0LCI198GFhEY8eKST74nBZPISGSWMQIwlqVQueUgRqDR+bcP3i+FinHsBh3tIe2RLdgEaLECo0ZFchY48XlhmgytyIBwrYwHx2hUCFDni+dCm80SLaiufVSAxC1CKrmJ09sWf2xM3iJnd9uE+sVus/SIvf+m9Mbcb7ZOP5hImNhZm8VeP3vj6RHbzfH3icKvs1dZ3W8J78RwRxxjCRBiDACiOWuExrEamTQMKg0jGxwRRzNgjZMRAhA40LRhnACudHG2Nq/aYufeMa1iYvR9dP7xcThz2sZ3kc3jfXvrTN8pwTBK8vfWvO8VEVPvq7XN3XfvWa9k0nCpnd1iJms9t41neV6+/C8ImMZymb9uLI7yAUTnSQBGsPYtq2I79Qsc2ZNrwnvxrqTN56h3bb95vPvPrlc3lx5uWcaXzA3CcGPnbYEJI6BiuWPlOv9GK9BJ7CaGrd9lTRwDBkRkQD28sRy8OcjELszvJbTQsKjt6G8zyeFDXk+dr2DsiledAwyVHdykmlIqssS5Q0X2VFsDbZ8ra6BUXERVxf64vt8S54keNc16dpmd6lTjeaxMV2s37Lpc981jdYO1/jv+/voY33amuswZDBGnFJHWvbUsBc1J62PwJgIiG0VXAt2NVkOnAmjjLJoJyJ6vgu1iEIdZD96KR0iOte9FBL448llE2cWaMy1IMbBPZWKgucnddJGUe6xMQEaNbEmT9rkk8MONsRfWgjoC8DsRz4/XElSOaOYcG0Qwi4mfEZ5+ZLOcgqSxGPljIkuCxV88WMR9YuWpBEeU0xyFXE5cMo0Mlab+1x3n5HN8x/H7qWUthasLDEex8dOxs1dVq5sWK1HtsRY465XSFVIUzvSIbOSwksiyIcFfJIITYmMtWSlhFcfeULPCDhmethaBxkmCSyxEjDL6qxnhtc9I2wTxlRQJ3Lq/Z3624tYnjuq4ZV8OtmuPvgR7vUAttscMe6EQaSStoj2kq8EiZ0y/QbpFsAxI5LGu7gi2EiHUCKmNdn3x+vvPbhEz/Ff0Guy3ffLU2rU9ulOE4VjHZIxsqRxRwsREbiIjUStCZk5kQEVI6RU4T7qq705C4HECh17hYWTSvWvFIroJAZ1nMEWeaWveUsfiaUNviEBsLG8A1GjRTxcLDG57h/+ahVQJ6iCUdKMFa+ugr+7VwPJYwodZ5JRklLmWYSzgikmNKrZCbY+BxUC/2dhgnmUFEQd84bSJ3xtkXP1nl4/BiiZAzyAjpHMa5romPbDBENHm8pP9UKodutjY2Jo4kAmFVcRhCjz56Z3rGcdCHfviOJkTt5JG2Zo4MI0vcb31ySNszIYWDxT+YgsopiHvLgaYOm88tEk+sripTXeWb5vy6IYaS+KeVjZWGUsajyOXdaMeNnmXutp4nCzm+WESok8Ul8kRwsf+Gaxv1yuIuLxWe5i8pkbfwYP9a+rf8A9f74Renftxvo+sXp3m+nfH3m8XjfQuJ99C8/sKRtZJVp3OtfvjfO838L2NkY1Ea36xciEjhm6I42RJkcpz3jDvGfXCqJA6NWSa1m8/Wazftn0iJip3cqI3edX74Ym1amuE+Hed7nfBUbxj6+eMiy5TjfQmfXKcL95+vhVc3m83n30pi5vN5vhemSJk0YwsIbPg+s38KdCfCubzXG8tWeHa7RUz75VPfP8V9sY3KdP93wmRt4T419+lMZHHF8P3ic7z7Tp/WbxFxcTq3jDh3FfXH18H6zfH7d7r8K9X66l+ftFH3Lr27vHui/eIu8X699IqYmUy7mThiY1Orefv4v18Ccrx+8/XTrhkjZEXp+uJ3+FBEJAvZuHveAnGuFw+SSIIObzQfOs3w93dbWElmZYmpXBxyNmjwUuExmGHPFVLo6SQOxMfY59ZFPFO794QVEIkJg870exVnKhGaKVEZFvLlr1rIn+NDtFxFRy7we1DKnxpY75sPOaBBC50kXmofNZ+s++e1kf/IaxdaTW/vPpHJne1ml03ek+6b/AMmJkbfboknjixhEMiy2KjWq9O06t5vrkMjhL+CxJcIAGShoSc95ExcpglrcaZC4tV0n3neb3lxfbJr8QeSd0XgUb4JA9+3iR+I65CY79TXwkL3e2Puw3L2efusBP86PTlynVzhvWbGNnlBW6tYq4Z4QJ7HShVL2SVMzElj7POVaVcECgCZn1jpPCtbh8w9oaKtPFbltaXWA9yXXCtR2dompJKHAyEcRknmx5QRorYqWESYWdo1HIk1RXkw101BAsRF9E+UGOYSdLzxJp4KrUy5bsdkZERTblPCe/wDy6e17P9NV7qqu8+sTF9sXelxPr313tpTJpuMbie3TMKORizUUmeTELDrznLNwuG+cRthY3NcxsduyZeO08s0QLlRy9Gs0vH7ukVtk/wBlXILgKeIk8YOVU1ktqviVR7z4CbpySSSpYUwNpJHViktMEjYRcj0BU59ZWjyXiUxbjaqhIlKqhzZEtL+JX1MXmRKexrUArmu77Du+gYIYdhSUwrLCo7NsYg652pEb4R4L3gWTJq6pYEs8FwUhNY6WrmE7PiKDE2qKYo1e4FHAyxFo0pyj1xAbB4Z4ke5GZ4UA8pROxhIWDCZVusFfwWG4mSYeKWYsSM6AoGExzq9r8HDhFRefvNbxGMTPvPJDK6OKOBq4q8fWSMbK2SqCejGtYz6xqNTHhNmL43z9Z2sbus7+Lx3tJvHJ7/XG9cVH/hYmNT26dJncja3wUsJYBoQocXEz6ztAneqIJEmGmvBGYFYMKn7SSwsq62zHMGlOJKe0w2SoZbGSmQRENwSUm8lopJHxFyTF2RwsVfd3xEDnSa7+C0aynQATS9n22DpErdwMicP5fs+YMFXskinZR0/pQlYHMBENTlRDQ1DQsrK1lYyvBZXwD18IoklKyTJo2zRRADxDkQREsXeaySpEe+JI4Wvngix1iImOtQHI+9Eaju0IjsY6vfiHSMYhhaYhVlInftMX1Jc8Axc8mQuLW7RtTCmeiA56UBnpQC43TE+Jejfwrn3irm83m872K7272d7Wd7O9naTT6lG93jeOb3kR+s2m/wD6z7TKj3Gib8O+krzHl54rYkWuU0YOMXu9rbNnh2h1bCcnZiVZqdakkeeMt719Gd62uBV8QLnUYbpnUgz3w1w0LFAHki7qM49+N4ro880NHjrIPFPYqebkXPMGZ49hizWeNmssWewx63Kv7lviCWzsYCdiV7s9LgXPSBs9EGxKQLPRK9M9LFxK4NuNHhTNImK7N/JvqRNcfrpJIaINDIk0OG2DhS5Hthz6zebxbGNLHebzed7WRExkRd7N875/V970+vbvaRNtxq/1+87us+8XExNZTN/2qeyde+ogscNG3dfiW4DsSzDxbMBcbZBrjThc82OuF2IwbP5IImfyCJV9XkdiFWT8RLh7vKkPz0+LFr0TPIZ6dGqpXi56cHjQhExIIW43TU728++tOtF6VxUywkldPXSSd3ftvk974wqwvz1e0hfOcpzvEXN74TNcftVTfBIzSh6OTxKlDRnkXxw6QEmgnqsyYyxHmdJajsLOTwLl07Gz+MzxMm/uzs2xfR5LgWGf64/W+PrPrL32p2rpO8iZvvZ+8XSZvWfa6XNZSt0Bi9O8++N8Lm83ixsfiPVMVd5pM3io12dxmdyNcSCHGtambxXLn63yvTvjeb5Tj6zfJZyCTcBJMg/G9YyZki599DP7doe6nfxVz9EWA4qyta+KhIi9JjfAU1CInP77e+wmJ8rLKB5/7xcn3YWQgD64xw01thdmQygMQ+tiqfFFLiilKAkCZHUdoV/46/JjYniteqkSwgWADK+wvZI5qWxa9x5XjCHSxNEFpoPOjdoV7gZiExWIXjPvsIrBjJ6YEZwQAMM/ZoFXqB0fpfq8/wDUKvtv+rfZF98RMXFzWb995Tpqs18G+hVy0V7kq/GjH4TogKinmdI2PjeLi/WbxV6rM2QJz+8mRuc6JF4ZIyXPriSRsbPW4mqmnNy60iepeI8q1bHWH2KBhKacwcs5IgZmkIdPRwDm0Sq+nryHVw3Z6dZVXCSvAkaW9t8AXMXYBmTS2yuKNua7xIT6oaEoaIVEDpAYEQFZBOzKVo8VZfROhmsYIqSRauNKkAhxQHDx5oDmSPkxBCxZJK2KWvePFIiRNaQgsDIHRRvjIhYTGODANEOGOKraWNWjCRi4jUair7rDG6bHgiriQxoyaec84SBonaDiCCMdqU0CcL9cJzcpupbvFb78fSce2L/bE0uVntWc7zvZvnfK4uErq3zeb5nJiFj2j2w/6faQsVhkDNozWJwq8HGvhfZKfUwbSaGosjYaqxskFBmnsxGXvdKpDrBRq21M8mAKL/urJSvArliCf98W3dUiwRbdtej2BZcgynhRNNhhSv8ADBUGSWjhH8ICOoX0uSrVZIR5FkHr3B4VI6wPqkbDZcSizOt/TnsKSujje2CNJWwMZNIEPK5kTIkjiZGq/wBkhEgHc6GOSSSKObCRoTGaa1vG/k30rir3U7Ps1W612j6k6bRN1ia0q5tMd7oiYjtrymAp3a/r30ayVsjozWWEMvcNa6umkJnr5fPXtsM6S6HaldbixMtD4YEGimiJZdMcTDf3xMw1YZ5mhbb2MtdjamZo4ZPmxsMhnisJw5rbIUmiGqHEvDtA2wdnU8ycGoLPT5K9slYRWRFgwQTRx+Qe2dAXKRwrWvRERrV4TlVzfG+af/zjf17QL0LiLzvrVcOIUUMCUwYv5F4cqNTlU72dnXK0Sb+t98Zre8Cz/DeKnu5XJif461ntnvi+6Iirg3sLynV+sTizAksIJF93VUD5/Jw9+QWGUhR4nTNr1gniicxXixyELFG+WxC9QEeOWdFYgJYxOXata1vO+Kls0VgVGsw1ax4ld+uf0vTvN9f3i8ThSxmAxEvseiaTwoqrxQy+jefrLk2UAJkiSM3lpH41aInmY7k6avZ9cuMiab1bwYuM2DL2Lxaqra+JCpVhGAI84Fk1eySaGtm858X3kze9Czfd9sTN+/umJmtYmfWJvvN9ouled9O+E5Tp31Jyq+2Cix2dhSd5Ac/WLxvpYRHJPIa6O4TlPreIuNNY8/K+wUufpLb3xgWMNp1drPPjKsZUL5pJGwsceMyCGZhEWFw+ONRS+NTmWjkdF3pR6U10Adqx5tYLcxkxwzulXLtPAlcmlnPGGdE9s0a4QeMM5bMNiQkQzIyGMZqXojpbN6NGqPDZUyM78dFcDjgQ3IJEvC4aYwGBUxV7uM05OheF90Z/j9rml27PbX+OfvP383is8TEXEXhOJFcjACVMBJsIxSF9sTN4vCLvE5XgKSSewhiZBFz4rfEx0sbGp7prlngeZu3oIXETHM5bZynl2MAcvqYueOzwRLIY1x6eVvFuh0wX/T7RWBj4X17JPO8kCSFEVA0rR2RzE3faCFra+2qxxq67ZNMdHXxRdp4hPLH8VArw21tW6tlbI6Ra1qx2LkR+VYj68bi7gWerFrmzB0wA7pAR2gWuINEksbWBdpPZHVkLpgLpxI1JTp44gwRljAPYsdlAL4EjWMRy5vFyyFIsZgzPNxoj7Wyp4fKy4vO8+sT77qbz6RU9vvN+yu/rjdd5rc/XyKvtaJ4Ng6RiOpF8CSKRk8ZNmT5lf8uByoiVvS0VynRLEDYETk2FtHXEy25ATa415McDCnKPMwqD9/o4l0OS08lfFG2ce/jYSi8Ey+BB5B0ldUluPr6kTxLEBFq7PlF8HtV2jhR9ckikQ9nYe9C56LH2RdoW9/unagVFztHLEVTOMEgrawCeGc0B7rZZ5UaKpLugYFYLDyUPnihmGww13cVzGufvFXj99O+ZGJJELD5UWatjlnhHjGTjut72RxMixGpY3NJ/WFPpfdP0q6x2CzyT2uKD3HhB+TRwM0ZYoyCs6k/yIZ3CPdM+s7q5r2dpmb3i4vtm138s4kZbL+rBErEAB0QGsl+xW0x9WsbSGuR6cBt8HtFfRf8AD2cMtlU10kUEVyFLYLcgvNJPBNceTEWNAEN5MP8AeGgqUqByzPbFI29xeHsSRsdM5sLAooZ4Qo4S3iwyzrysbHSKiPT2THQQufru5HDFAhYUZ0IosYmeDGmdxne2vG+Pr4fHiWfq3vj9fDYGqHD2fm8aCu/07JFzebxVxVyCGMaPPr4F4/Z6d076xrmovH/1IrlfreKiLipwnwb6Ex7GSt9kRqJ3kXWd9cXj6zee2s2us38HezfUufroTl70akM8ZDADY7EbnfC5VFSPsP1XzTJcyPbCyC5FIm5XN5M3we0kr0hZX2w1l0zkRjMFtBC5uFxLFZ7DAh3ixZv3xV9716wRjgFV6BqU637+d737+b5KKlgtF573wWX9bVzM8TSa3m11/wDT/bF987uf2+D9daZvE5TJTIoJ83vE43xvPrk0qUSw1pd8EERDMZIyWNX93IpWS9BEqxDgkecCGNYVLkxsAq828bJq6tDcIyqJHBkKsIoGD2b3BeswxLCQkyx2ExjqqyWwZYukjvJEmrDCk8rf37XTHwix97aOXiVniMjq1a28EYI27Ab6WTCA+tj7/h8LgMDbM2RscXaCOZk7MsJGMDCDmCCgL9QApiXlV9+x4zG0IngJbztpbKKKpHObLaVUUyTCzETWuMRWsw6KeUdtmx1a0mYURLWeGa9TuR2ZSAQ2RnpwpRiDV5NV/tlTXXdN/wCVVV43vPvEbm9Yv33kRN7TrXp3w52kGtGTvAL88JV2TLFu8TPrO0JESjyHjIjDDyIR5fMjYfPKMMNbkyPqzHHizmv8zWKRsk9IZb2SwQE6Z76qwnkJ7PDzsKHhY067hgaNDBJHaKOB/vuCi4hGKYssfZ6Wb0zxJYbykneTXioh+fWNe1zssoPMgU83mKgKNsF/YslhsBpBIY7asfYPNY4iAQc1wAVYyudLVwSktr9kOjY/HNR6KAI/IRRxumYeIqNERqMGgheq+++fTRllYjIWKu+JoGTxIFNG0QZgUIwzBGkDwktV2INA2GxhhYyqc0mmjpnxxV4hdbCjbCWXNYZUSvPtoXveUMRby3EEk9OaH6iBNX2B0E4VgQGHCTBLvIAHtOXpvfa3Ve9n1wq4rmpml0q43/L2Tq38GsuFc6I2SMMKuklCEOZBXRppyY5EcllVRS1hYZBnZ3vTHQoiRtxM8rI+2DgIrJ4qwuEqOKaNvp00RxAUxY4g/lRBawYRyCQsnmr45p2MczI6tIJJa4iZXe6rw5O+2pr5K6H05nqslRC6WOphgf5CJcgFgFzWLjGMhZ7Z9Ztc3z++PvjfO+jfXvhOtcDTxbPs6uq/E6U4TF9+tcXPrjtH/wC2Vcf/AIpj8Rff9fpFxPdPh/fQWCw1IgY2Ob7L5MXxf3w3N5vj659vh1yvKc753i5MTHAvzJn7xcTF43iricpyq5vN8Li4uExzCFU474BeU6Uxff4XcdpfazVnexP7JrSb7y6VcT2z7dtUxdd3oTq3z74mbxPnThVyzMUACGZpI69C45yMRLJZsCM81wvC5vjz4z5+1DVQNyouE9oAxpI5GzRzSeFFT3DrKX4UXjfO+tOF6N8fpcRdYvviJ0fXH64X4+1GvPe+JtcXETup9p/jxvbu/wBKdavRMaqObynNgWoIUMzSIN8TGSwdoMVyNxF73L3oxH3KIyGaMkdLQNZP1Z2AcMPZmXxaYs9B5POHxHa5uHtaZHeBPmLLHBxL2Oc0wuRpMFqXFaXFiTEcMbaGS1pfnxauiQgYuZbHsuQS/wDjtbI8wEWSGYddYMGOH176d9G/bp+k4XFXO9nf+FPfF4T5F47Vf/p0uLiO995pNaTEXF9s9udcJ0InCrkMXrpHZOZzg94n1vE91z1oBEniaWL2ck8SmdNOebSvmfB2hlUQrzk3dFV1m2oBUFnFlI1lotrXrHAaCxlYoLI6wOQKrqZIwx+z0flTD6kuQ4YIsTBWlI3iwjcllFOxuEDlTSMoSYHuGOkNdTzeJIAyc0aviCl2IOUMoklihLGQtIla3uR94aRd3bSX1tW2dtf8W+vvZtM3neTO9nezvZ3sXq17/Cufv4u1Sf6iNxU4TWb9nb39YqYjMX7T4bN7ogaNEjp2Rxx5bEytWpZPXXMrFtL+oBktsqy3GD1gAnqnZtHtq6cSYPGVDhLNJSHZcVs1jC9EekFRIEj62eVXYs8KZ6gGzFtQcSzjz1H39RVc84WqKSeuJIfnfsMXzzs8EnEGnxB50xR3qnllzyrFzyTMUNmvID55IXGxRMQIFwtiq743m83pd5vjfTvN876N9G/jTpT4U6lXhc7UZ95rETWJjvddce2l1v4lYjsgBMqs82RhIxhBAQUkc0VfHBYCAwBK2COOYYUWbtI5zY0ItwRcjuWEJ5g5+bsVzuHrnglrnlnuz00TEBEaqRxszxHZ3s2vTvp3i9O+EXN9G83m+N8b4XhPhTjWaxerWaxerXQnC8/vhc3xvhc7S/4bTaJ7om8T74/+vfNfG5e42O+DfnqSKqGrnm5MSYlcXzi54BS56Cz1BABm41rY8/XG/wAFerfTv4t9O+vWa51muUTNdGuNdG+leveKufpcXO0qqkefpPfPvN6z9/WJ7In18aSOzvLm/m3tfiXr30b63e+frN/AvwJwvUvWuJxrnXK874XhejtN7QufrO+ioi4q5v3aqb3tVz26E+JPrjfQvy74Re8nQuRTxkR9O8eVHGQnG+nzyeoN43xvq3x+vl/fWnTvhelVxcXp7TJ/tVb7+3PvndxW+/exV9uU6k5NIQUaMSxGEilbPFwnVckTsbUnSGD9N7POKD3u+mLx2Ydut3jHNe3hVwUaMKDePkbGiZvj7y5/0Z0TFwayHNc8qGJWTxSZGXC8l3shSdy5klZDirpSymBQPMOHY/8Ari246ODLjMh+Ren6+bebzfW7N9PaL2BTea2v05cRusd9+2tKmfr4l4vm7qW68JqIiZ3trm8gKgK6LRe4YkEccub3iuRqbRWzXQo09hGkgdVaDuri75IJriycNDVmSEpVt8E27KVEqBlDrcXL5XMBuD/LRefsfFvV89RhTEQFEOOksu++xB7PyzGM7Qw+JWQV4sTVywr4R62lFawC7m8rFUV3l8OkfCKTFJELextUueVk9rZoiEyMSVt731jZASxkQ7IG/l7zfG+FXN8b6Xe3C86ztCzvVa4nH1jU4Rc3r5recfygJni1B9qWC1o5bMrQVupJSzGUhYUcdH4EIdc7747QRE+X7hy5WPfNL2bbLOQMB415CqgTVAcT6IgeOceier6prkfB3ECtg2+LZwskbeQFizJWKnn+DBvNiWVXLKLEFIy6kh8jT1qPOyQArz8YscI1bVygSFjebFhjWODhV2sg8RDVCixsbY8krxZs8NixojWRojUTyMLV8JjmOBRuRiqyb8XebzvZvFdm83m8Rc3m+E63dV4m6rjeaXfuiOX+3/0r838qxNdnZ1yrVXVPJZsRO62IEsR81eyUCYSKcbwWMg5OHUsKBskY0dZPCRDWyVzhQEhKQeHx0rWw41umjiRBRNiiSRzWSYq53vZJPZ7u9ymfXBH/AIKR+6ZOmXtANCS726XyNiZDMwiJxMTSd5vjfH65XqTpTned7Fdm83xvq38KrnvrlOLf+1X7ZvSLn62uLra7XO8qKv8AbrTqTq3yuJ759fImfteFxON6xe7M0ETyQnO8PldBXigwS0Tf6tzfD3pG0hqECdmpO/SHgqTJPMyFsT2zRI9F4q7aKy+NPbjebzvZ3s72bzfxJjnb+JExUz641iJmt5ZMX01Fxc9t/Wf54rU19Z74mkT4E6P1wnG8VddErJrewqi3mA9CckzsFhimZNF0bxclIigRq7RVxffK5qwdod52gdI2qjd4kacWFrBJHU2LnVgFhIeTWFzGF3xRLDKZywSTMS1uOz67BpfNMnqHEequ7pvaTsx7Vg0M1jMtvujsAfTqnvJI3P3yvKJwvXv49Zrq1xrhcX2ROEzeFN74yIi5+1XhMcm89u6ibx3t1JynCcovuadHXw89omq+pik8WB80cS/WUfsXXBIBC4Sb1dXI3giyFCf9cLh0Xigxal7H158LxDi2hC1panhcWJXkw/JRRV1AQ6GSzOaAP6OSQ2tKJXtFMTMXYXlZMELXL363FyKJkC9n+9GLFGeHKCJNQLMK+ztUrZ/XHhEj2AzJmqHWOFsGiQsKKpnEGRxMHiArIwJUrQ/OHU8NlI726F+XXy6511/XKYmLjvdq8aTG8aVU9sT3aveXrTnXJJDBICbCQuzvoD5ayGAp0LUVG2lh5CG2hthgvNOH7OwBOtY4mJGzvmjX73WfgVss5tDSjLeNrSpogKavltmLNGk2WAk5cT6UJsVKGKTUVtM4mmIKM7RAwW448ApDyG4WK00YWpMIidWyCmH18dkO0eyjzyD5THVCealrp54xQvJs1y7bsRdZvE6E6E43rF/6dMd9dKfb07smaXE/qq871i6TlOU6ypXQD2gxMGXw5sFcBE5gmGV8FhG4Al0YgjBBvRRW5BXDjSyV3fs/2AC2uiAr4q/IhYoJHUoDnw1wYzuN5HFHDi+6qvt4rscveXjfsq4nxJiYidG/hXhf+kd1JhSaL3jvtffNZ7ac7G6XHNTfRr4ZYIiWb91XfP3yq6yGwFIm6d8a6l51zvN8b605T4F5/a9evw/11/rhereWbO7abze1/rjURcTW1Rrsbrbm7+VOV4e/uNrzGHirxaqpBRQDExed5viyNUANFRW4Gc4iwwghg8Qw0tqwQdwsTl7rY3I9nEkjYmDzsJhRUdm8bavbY/WMkbKnzb+LXw6zWL+JvF67zSWn737a72fWfapip3l0uupOlOheHKmqBrYR1XIZop1P/wBK77q9CPa5eLfU1YMqODIOGFyrJhJus7Q/3hd7Ka8qQq9G8iNTO/2a8EQoQPE6yqwaCYx8EMZSLaDIWBXkKYAIFACz8PXzLwv4X76Uxee0Te7aI1GYn3ie2e64q+/dz36k+MmZgsIwC2jaFqh2CSSWxYdf4JHaZi+UbSCxclSyGWFtVhpDVTeZrrV3+9sQ6nyFUR5mmqfLwxiMbBd5bAuOEAOZYMz0+We5nEhIluCZBQGq5zFwxvnbkBfDtssCGih18CgVVXYpZjr8a/AvC53eE/6JentI3VhrHLrO8mnaXNbz7zurjffo+/jXiaCMmKKrYOxBomyzVwhLlpxnOsQEsBP1wRWIQSKFCCvlofMNXWeHFiMaxEe7SuVcXgkKAtYh5Yl3w4LxiVX3whzoO0Kub/I3o57YgmNlxrUanyffRvE+NfxU+vgXp7Ut/wBVdbX3z9/tf8N/1zXv+P8Av4V6FzfQ+OOVsIYoq4nxL8Sca6F/B/fVvjefrn98fr99Hahu037KusXO7iomvrPf8tF4Vea6R3nt8FWYgbmPZJGTYwDvBOiPj+Tf/R/r8RertM3/AGn0rl0rWIuL7uX7VcT/AC0vf/Ik73cKIPAiCI2Ol751BbyQKH1W3kUS1mW2FtCFfVErDIC6aGWFbAYejS3ncKA0LnfHezfQub/H3xv4d/h76fvq7SM71b3lTP8AHGu3jcVd5/8AP9kVPvhPg38i5vg4ZTQ17LBeVG7NEQMf2fdOyOiSFrKQPxZKWuklSNjUmjYS2GCIfJgxZ3wijDrxvN4q4r0TN457WNa9r2kTIPANMhA7SonF/wDYryq6Tr3xfN71XpUxEThFVWpjtqq++fS/ir1bxVze+O0TJH1SP78cJEZEdZZts0ZfC6hLlmUo0g6wAmmgJywK8mKxlo9vnvVLJcNIY7Oz8r2ivYkrJHm0gQHnYrz40+BfjX8FPiXpuU3V/Wb9lVWKjkxPZO9iL7f5J+BrjfwSxHY61mkmiSRjUPabPXCuHlIrVIhowxJ6yuIiqYwoyAp7mvksRVVy40D/AJYsIqQ+FpKOyw8XyQdHGytijNiX6yEZB5MNaktzdu8JHezvyF+DX4Dvi3zY/wBq9Pr7TaY5vuru7nez7z2T5dfBvq3hYE81rg4ZdfH37DQ8UrXxRRwR99yJ0b5birwi83TJWLeSxE0Tl2v/AESfMuJ8hSbF/wDnPtUdpXJrPpe8uIqOzfxa386rxJIyJotiGZL1p076mLrCKqvIev8A2Lvlem2NzWJ7Z74js3vPvN6Z0J1+/WvRvleLX/cWM0bHXOsXhfg8zF4/CcJx9fh/fw65X8Rfm13VzXs3P2vti/fsq/Iubz753wLY+OfvJ5PChqD1sa9OF4uv9uY0ZsU/H1jsRzVfkUrJo4SIiFPtRq+VLEXy+Wb46+7HvFkceUgItY8kw2aSzc6s8a6iunyA11VWeQdn7+JPjX8pcX5ftZk7s29Ivvi7x3tnec7I97+/mtiiRbK9tVEPQoVy52lVzBO8js8GGeW1tvTnPYi52dacj4GktXLMxABQ5Tq6z7SN3UVpR5MPC5fGGVpUdJDJUMJlsOz3Z9YfRuyTM7SCKSTW0cctnSq6MW9qyLJxAxlm+yCbZijOOgiIi8wPR1c1UIXYAvh7Ol+MP8m/jX/o16Uw1O4eqb4/Tl90V+bXevlIi8eG6p4K+O5WnfWgzAzQ5aD+ZAqJfN0/ZdiDx3cDyDwzYbKEZhLe0S8Wtc6yFlgMtJS4fND1w8ggHNpWerDqzbBRYgh5akAiTysHit9sXP2nTvEcrcV2b/I1+Dv8Feq2Tw7JVzWmrrO6uKus9tb+DfVaU7LRhFVGTWhC+SE+uBhBwovDiY8mrDOUKrFrl37LxvN5vjfKcff5/wB/PvhPzr5urdffH/SbRHOXhVz9cJ0r7fMq5vF43icbzfCcLm+rfG/wP1voILjET1uv317zf5C+3z3/AP7XS7xFXHO1iZ7Iqovd60xE+CEqInnee+I5HJFLGQ0z/TvRbIMuUkiMWMY/xSpbcaFYbCYhpZUYcMEllIVym+bGaUcQX1A2CCKePGTMfw+0CY8U0cxeZJmRK+RkfT5iLzPCSNcvLSI3TyyshjZehPcrEXO0CLLURL34unfUv4i/AvX2j/8AZ/S+6cKmLifaqn4G8aNI65iZ6NYTbl7QXLO9Y9qWL5e3r/S18pFV23aNqTk3UQcQFhEWrgX18a9oonTVdPM4ips/DIeKZJJJw5FVsNJkcT4o8mTvRUK96lygj7mUU007PKDhj9m4mR1HN4z+3aiHcMn/AJOZHsH7RBWTjruwmcOE+sSrGVNO4HZ//TnhJYMvDxogxnRyDXKbqQ17wPG8Vfyk/B7Ts2bi4nDc1rP38ac+2axld3bQgOMp5lcwt8dXEilBQGsnGhKkc1HOmCGLyAIYVUXSquJ7cdxkkcNcGI/hU2nogK5ALAM3Jv8Aw0P/AKXJKUaeaoiQQyxgeQFU1QElX7JhhKjCDzeYHMEabDcDPNBkXbjzGgC8PiZMwYBR7RcMgMksWzGOz30OXCUsIcrLaZZGNSXwpK0NQBLn/wBUJ7BYv1zv/qe06am/+U90z9fvf9e6nzb+PfUq4vUqd5K+psxB4hpo3fWd7hXKuOXCwvOv6CAnGTuXfTvgh5WwgmAxcbwopBsNkPKDCRyA4uLm/wAJPnX4u0zf6q7Wf5Y1u0VPfW83nvpOlOj65TjfCdCrm+N9O+d9fe43yubxHI5N/BvPfneJyOdCTO13dzv6z7xcVcsZ3jgwl+JW1xfnwclLgHf9YvBVjAHIvtwml49/wd9C9a89qE/2uu8iLrN7z7XvbxMRc+vlXPvhF5XN/FvN8Lgp3jncpteFXPfheOzqLA972sY3tEyRsEzCIeJpWQRC3JbjrE5tcKBai2OWFs0Od3aGNEEKjOGguTGHgmRnww2LJrQCxadK+dtV2hfcwwsmuzbKUfxUgXDPMKPILazggQEz0UB801VWlefA8NLLtRxLIyNrGyQnSyI0eibJ6X2TiclbYPMJu2QlPsagmaMn499C9C/fQvT2kTdf74qa4VzURqJvu7zX9/mkPngv7q18o9pgbnYuCWLCyCbDwLC3OJGnANisRjDIgoK2wNnsOD7BgWOtEGUey82x72sidbvdDDIk8JVgKGopQ83aS5sHVgUkncgrSlPBdAVfNG77xibSQ4+rAlEmyZZEhGhup3xDzR9orwWSKpWUGupqkVwVZi52hRXVE9Ypr+0ULngmeUkOKrpZe0A1fIztEOIohbC2VvaCpFmgj8sXX2leIdUvLFlddPRHtGBsKyOP1BZ14kjbKwcSAMerqIaiN9JA6RaQJrImFs4fFHOxKaYaMUZoYraABueQbCR5CFTYK+KEyQCZbv8Aa/Mq76F+LtGn/GbVM+0Vyqmd3TlXSovSnR9dNqOfMSbVhA3N+6p8nHZhSNjkSVmUcaRHTHt/kEPdM7RASR+v9qGztir2DpAMZAWuECxEr2iZLPU17JIq7tJ42knEOT1IJcrJIgSW1ok9rcV77EOWCws4gBHAxiRzUjoCWEJBUk15D/VHIiO7uuJAIJDNJkFcCNL98ujSRsNZ5TI42xZEOOO7nvoztVidG8VePvlM307430b438qr7J1bz7z9r03zN1XcxPbP0qKqJvuu3pG97pROf10lBtNZZdn2xTXgBJNezvNh4Mp4DpYghoBGRxxxh1YlYieyuqa5zmtbGzhFz7xv9c72feI5cVVVON5vN7zebxfiVejfHkBlM6d4q4vRvlc3wi8b5VUajXI5vzL7/PbJ3qxURMTP64jfZF0irvE1r4frpR2Ji9O/mXo3m+CioxIv30b53jrSNtl0Tn+BY45e6lUd6kH0Odne6FzvcWquSxaeIs71RiRWqvmIKmSca3QzCSmiDBllSElCxlsp9wF/mnN7wKaRn6X+q97hEXPf5k6Prneb430XJsldXrrKQkieTq/eb98T34vWeJUwv8WDiW4EgKf7YywlJQMhhg2OcjUpw0njXCjhw0HIhJblo6BS3JpZ7cQeTs9Mx065vhctT5QinNsUBkJRAahJvTez880kxzyUslFLSxryXFC9qPYMuEAelt2ELQhi+O8lirD2c/0ZS44D8GMmgkVMB/tc9evwF6pm96BPZN5+vrEdrO/vET4l5ThOd4lqvrMtyPFNARGRCXbxCO7yLlkd5KCLvpFCfHOQ2yifY3cfi1IsnjBxoY698qemMRzWYYpXhxxmtXDa2OxVliU9barjBDtbL0waIRxrzzmAxnLaoHTy+NS0/v2fqZ3J2ephIFpr5XpUwVnmQ+6waNfbLJytr6z/ANY9yMbTjNIhpAmB3RLfP2naKsjGGtlmlra6wqxhxPDZ2jwwuMKDi9DlOBnHWQIcJ0dYGtgENXgShulrvHsmixIWyBIpljjlSMYeF2/dwAiuaiNRow8cko8JCejibKJjFhqh3xDfnO9s2rXKqLiOz9p/ZGu0ubz7+JOE4XjtF3oYKQdIKyuQwUeuglOr3aYnpxBRVeW8lldPECYK7/mJ2eMNStlbUxCzx3XJEMs2NAkbjWd1uenbt+8rcLBisI1HNZhNYQViOMXK0L00VKQHxPBiWZlc0fGN/qtQDiVILHLkjEkZRvVBntRzQxbIOCGrgFdNW+KU4GSVjI2Qt728V3suXTPNMd94mb43rFXjfCfAoCSkKv5yYSndI721xFz3z/LG718idRIkZ0EcbYYnf2VlZDDjR2MT0iBjRxYQmSxRzt/Wb3idadSuROEzebxOkoHxpo/M5vnftvN5viMeOOdV5VdIyRsreiSVkMbVRU69/hb+azYjLL2TPfSLie2Ii5r4k6N9a5vN5vByPMZviY5sB6cyPbEymOlshuhOd5dlTjt7UwvkrYveLJizQDepz0ajXI5IzIZCuFXEXN8dozJQxnf5Pcjc98c5GpM3xIey0viVCYGdCew4pAxOz5kx9d2umdoT/wDHeHybDdJKF1bzafnXbe7brm8RVz6xUTEXPr8Nd5vjeNRVyMZIJJZmQshnjIjvJWCztu69yxvSRmdoJHJXMhYMwwo55414hGNln1NYESiQPmUSktVOZMZ4ZpNo6G07SO8MftAQiVYJhrxMvGeJUwP8Ufoe9I22l+FMDVzHzV0EVkztF+8t7aeB1UYV5yvsm2E4ti+e47XSOSAd1p4Lxm2N28kltF2okSGsCi8Ov7OimTQxMfGg4I4anBMsYOzEXhMvCBkCqioJgRGV92sfdq7T4t5vN5vq3+F2j22333s37pvhNaz6+deiyKLCvPNmV8hZ84LgUsLSCvllMPqXOaQyOc2+bG0O+7SRotc+RVXfFx/VXf5d1vf7MzeMT2mlmQSMGIfCLNpk57Y4zDJWB300w/r9sbAXHeb9LDd3gcu39yqiZ4UHQTFFNDO6jGZSnTelNcb/ACONJEjyvaM8kRfUr0VzqQgOCwBLtAvUQI2uYOYHIV2hMroCxI6dizBCOCyqr3VsVh4qhVPmfTjBZDIhuzg4+ekALif1R9WBMsAg4mL/ANL2pYnqGvbu57Z3VxUTE+upOhPhMY1b23aySsjjeVRUMc0FVFTpCewSGIhosCFyDskJKGiMH3zetctckqTN3kUMMGd1rkZXAxunAGMfAIMG1URyIvca16pnsuLrFyT/AJOwd7r0HVcVk6SFGg1gsoIHkoXGrxMCKWuka1HKmLwuKFMt5wub4Venebxenf8A0Ha1n+v9I7juazatxNOxPl++U41l1E1061ccjl+8XpXnSOQWMit+LfBEEhGQwRjRdKZ+uN9O8XnfRvhOd8b6VX81MTntY3+m817bTFRd/rX9U6U+a5DmMGcvv/2e+pPrF/NRN9HatuwV1w32TfsjdoiqidPv8ye2b/BXrTO9niZ3t/Lv499X3i/np0dpm96p+87ufWd73brae/yb+RzmsRrke3I7AWUn8BfmVeN9W+d/9RrpvW7qE/smvZMX/FETSe/Rv5UxejtJYOcS/wDy7VleEDQe1NZNmcDOyACjjljnZ+Avx769/wDUr8Vk3v17do1fbG/WKrcb9dX1zvr10ay6p2CjKiuaZGHnZomJ1YuPsKYyXs+PIPX/AAb6N5vnfw76t5v/AKzXwJhKd4dqtRjV7ydz+usVO4n2uazX4S++L2ZkmkHrxRFnrxDcgFgDjzaY5d/DvN5vN5vN5vN/DvnfQcc0CP8AfVYIVG/nfCcWB8ddAGXGcN/0jv7N9kxjtY1UVf8APPvPr8VM3yvWUXEFGMREVDm/j3z3k3yyVkrd4EfBYRbz74+8v4fGq6qSSWtySVkMY54pTrWxSsGIOiGlwOwaWTPK2CKKY0VGq17ZrewQmW1PSWqLmdLhYMJ8QokYMHx6/B3zvN8b4RfeVNS63jm6xP65r+y+3wb6/wBfgTp4vaSviY234X5YfFF7UcTs8SHs4b5Ii7mkZBRRICU5dIY6Syg/8UaQHdoGVj5rGnGnNNbWG+oBSN9SuauWCPtB2ska0aQci6K9RLIwaAinMvGPLlOnWN1ONOLXemr6x5CX+RTCT+vZdGSAAgFKaF+bvjfO83ifZaKhOs3tU/s7Xuv9W8bzf4P6LsIgpPrGlwvK6kTa2RKT3Qw0YY/BlhEI4a78bI5GTMztN5hg0UnmIbO5jrsIu/BLZbByyT9oYkjrzWHwG2KCvrrYiezv/wDQxyaXFweGGS6hqZYjipWV/aCc8ayD7OeFI+VY+4H5ijjgnSfKerlEPkrZYCEo5Si5gBZhRqoYbE9k5R+k++FcjcdYCtyEsch6LpV9/gRPwN5vjfwpxYJqwdpMjTG+yNd3V+29O/ht7Nasfe8Tp7WtXyaO77YwWxWP6RM81ApXDvZIrZbg27eLWyDlxlt4pYV3Tp5e0LtRApRbsMsg6qcfZ9mBYfJgROsTrGFXC9lmOjrZK97+1D4SwLUZlo05OzrI4LIYs+pi7/gcemt9UyYIQpWMRiEBjFYwQAVzjIGItoEmJbA4tsCmJaxYlj3s83MueYJXPGNXP+RzVkueCa7PIyuz0yHG1gLcbDCzF7vxJ8W83x3s72d7N9O/ht0VLb/5T7X3zXv3kVeU6CY3zQ1jrYrIgDiHDiwhx8QFQlJdQpNVATJ6TD2mCkItrVlSldeNOJsznjPrLMj1HtaxVrvTjkqaOTxqckYi1ItjSFpJgFDpf8uO0T5I6g6KvPh7VpDCI53fXie3BHk8+I2+JjiJFp6uI2iB8wg4ILQcLBGNSAdgzFVXZ/ikliHFnrgGesC56xBnqsOeeldni2K4jbN2eVNdi1yqnpcOekg56cEmIEG3EaxMVrVxru7niPzvLxv5tfDvo3m83m/k31by9TVu7T8bmk07N4ifBFZOr7eAoh8lqa4AK6KsK2ICJIQO4SFZrosJHul7HXMcZbu0c0VnU2kKAi2KeTvmxHSWRoR1yKNCsIwYcQME1FBPMsML2FhRHjh1A9e/iONkWXNZ6sJHG9kXdXHvbHjFpw5PWg1z1Fz88ya/O/ZuzwrR6qES7PTnqpNZMUsFEI1IwxocR3dzvuzvuzxHYvzb/D3m+rfG+tPn7QN/5X2xExXe32idGulx0FV2hS4imzw1KgfSREWMFeYGkle2btF7JioxUhHHETaoqOVMRytxcRFx88UeOswWZ6yDnrA2epPdkthZpI2S2kxGWTs8ucq+UIXFA3i1Y64ytBZjIoY88R2d5c915XN/Eny7+Df4O8V2SWVk1jHpIz8TtE3/AJRc3vFb3l9tonv8CO7qOVV43xNVTPvJJI4sfahNz1QdcSwV2eLYPzwj1zycy56YMuNDFjxNNzxXZ4jlze+jfCr0bxFzebzeb43nezebzeb/AB98753nitSRPfpTFXO9nezed7F9+Fcv8cdJGGM1yObyqo1Bp2Ew/InHaP2smtTfd92quLnd9uN9Ms0Y8bL4WTPPmPzdm/PLFuxwKuz0oRUYEJFiOVuLIq53uleF6d5vN9O83m+FXjeb43xvN/D32eIEfEf0p0HGoCzWvhryZ/UrL/TLtFWE7N8bw6xlDNnMjgmzeb30AAtksJo2TMaxGNfNHGuRWI05U0sUTaB3+z4MkdGNQSTTVvRvq7SJ/vnYkndzWe++58GkcjdR4q/Cnw74eXDFPneTfWub5JJjFiGs2zzcquBTSep8JiqjcRdoqoiQEwkpDCpHaEcVau2x8jY2jExGRVpErjuG2Ayk5fM79YliL4ckyRxVhnnwuCyGiD+YZ4JMqwwCkoQGPKMY29mJ7tq8pwcLJrpasmWVN4SXEJHanePBbTSvbd2Lx2sXvRo+cm14kar44BHJbWMKCzlhNLylEgMchUwmE1TBqxiRWY1YPDDbYWZEInrAjkoThowybFIC4LWOSWGaSSysrMuNopxcBHT2n/8A0vz+r89tORdL/h8O+leY5o5uhXI1BiojIJDIoyentSxUlBJ82ETXuks+mzKcCCLN5gTCCYhIopYyI8to1W67Qf8A4nfZB8AmClRGwEFwiIwmGW2NJQQUQhSg6Y+SwhIjQ+3AB8g8mZS7MAJ476xP93cJjvsaSKxMihbCjj2R3JFsyGMkw8FLmnY2B3nIirKujKSnjidWXEBBYYBEcjeLlquqpmR2uMnfGJXJ/wAdTjzDi27O/WyR+ep6YZ4tYMLMy0XHMbJlvH4lYfDIfVhVyxjwRWQUcNcWNOxznt4LHl82cCw+Jcq6v03G10KHFBWEzx4GiwIHIy1XHxMlxyu12dduO9rpj0JBinDoYJoYzXeXti0bNb9CZ2qTu5+m93E1n+S/138ZBMQsQxwxqbz7wkmMOHKhPCs7JpjkVU3vDUVwfZCbcMzB5iyCIxIhLgUuTCbOAV9fYR2Le0+vTqQ7/YAmyzn9pZCMlZJRWHaCcgQeGOeuCa5HNVjXoiI1phSBxMsZSEpWqPa5f+1fK4uSW4OfDAFTFQsm8Kor68DwEPkjblpClhWwXQ6i10M9XhkE0ZTLGCXHAzRE9+xysV8R0ujbQl8rIknCLaA5IrC3d4UtjI2C4sfFt1lOdbRGgtLHb4johg4wYIAygMgFJU3h7Ue0GsHrGF1wthmkRFXeJiu2qr3lV3twnwb5TjfUjGNTmWGMiMUIcLoTETO1Lf6LjExu9J7434O0FxJWta/xGLk0rR4m+OcMN3j4VXE3ll5SSJ0sAEaHiQdoI7VJLSwsEBaztI9JHt3nZWHuNl/0e01+QyLDZCyyO4VlYfCEEBEZRqZO63g7PEeKAoL229qA42FYC7YuyA9SGmCV9aFA8YO+tZaxiO77cIfK2GvBQKLDREPGa3w4/TBnL6XHHj62OVGVYcaMd4aYioirm8++SQxzEhhjHjT7ekcydxkbfZcexkqRTQyZtejeKvya+MkmMSGCeMmL8BE3mtcdqW/7L94u1xPv99djUEG2FPL4tTvDhEOFVieF2d/qHbXhAxdXMRCX2oY1ZoqUc+AxYh7+6asJFgqC3xzXGXkpR1k2GkeDk1c6fN4lJMpcQjInJDG2TebxGtbxrJCoIsW3CxLDxMgcU56ta9vVv45j1hsuu6IeLXMDjBN4Vdcb6nLpOTDogYuWqjk4eZFGVkx0UCzXjImIqObxfewAugrji5s/TxYXK+AidBoao1bAL4mcK9EztHL3wNrr9e6Y5N4iqidZVzCi0UU49cUDGa5VxbY+Z9RAd5qxrJDDbCveSRPTEWCNRWtfBDKuSxRzsaxsLM0uL7Y4iBmLYhpnq4eeod7PMGOzVk7PLGOxa1HZ6SLkQQkOb1neXF9/gtDZAIGPR7Ol8rIWp7o17JEYZBK2ysPFj8yc/FKPJsOXuRjYZGTt7STwpXhsklXg2LzAlTK4mlpinmV0U8c+GkIGLUmvPG4tYnTV1LL41VFB4Ugx0BclsIpoFbajyAte17ZN9zs+JOGNx4fi9pLIp4bNade+9ULrynF6OpFZSeKfNxZs9QJBd3gLyAgoagTy6fEnsjn5++0XuD3tYnsut5/iml+Dvr3XcbxV3iIq4rmsx1oDHnqwq5597s8c12f8m7FHsFzyMq56azPShlxKkHbQhGKjI0zvazvL85BEQ7CLWWGKSNDAaCRZaksx7ZWeYEsrU91dFHfNaPXllSG3Gpy2jPdU24fkssRIqxbofxKxh8SBEV0rJgTPOR8XqufA+hiEsiKuFlfRNIkAwx86OQSxXOz0MvhilNqm9ndRp2h0oFG2FK1eQXyBYKSwsYIN04YZLTBaqvgZY6RvTKAV567iKYEv3cArEGILCLDk08cDXPmuM7OPWNvFoSMwSkIZNWFWYoLgiYSb7JR3T/C5eNZ2gj/4zu/13pd64VveXp+uV5IZbvnSoZIjaevZkcUUGd9c2vRv8aMJ184eqEHkMM8BezqK0KUgkC2BHhjy70VWm17iHWcUsZUwctuQyUtVKBQyaaNhMTURrFFGdH6QM3BQ4QmcWICnRiBzJPgIKVzOQgphjpKUUk4yuFOcLWjiSy1wsk3MYHdsQa6YEavHNBhrAXABqD/yK5M5WRUZ0h4fMsMRDckjimZ7cECFWd16eZgdX5GZeH1QU72sZE1qNxV0i4nOsToT7xeL5veq0/qq4m8anv8Ar/qmVpIT/BsZVGFiER9cGs/219cHJkUbYG74X498b+JejfC4vGmtT4ETWbzfyJm+W9Fy3dWi7xvtiYqbxn9vgVeV/wCl/XRv5N9G83j5UY2tuZ5zerfXv8BflsE7wP1n+S47G/f4K/kb/HOPQHPpZJWRM5tXdyusU8GFfvr3+E5yNSN7ZGcJ1a3msRMVETklO8MibTExfpv+Xxr+danvDRfZeYDZHW/SRKg8FSYtgBHNHN8V5G2VIY3wJax+NW10vjV/Fz/6uQfzBW+d5vjeNPclsRM0eHe+thMUk3NnaqEQv2RYCiObdCyEcXq92qHhbXWa5HKyZkZbJSeET4Xptrf6Ym8VPZG7zXv8ZdgOE6GaOeOQiOObpGsPHsOlx6Ns+uK1Cmm6ly0ncWa9UReTdQ2skzIpHL3UrzGnicSNSWOlRB56RHD2KGQuNcukYaY8j98SyNiY3tKP5lZ4m5cuTUmmqtgE/Ozy7qeLFPErhpI2ggmocwOy82eZdRhkBnFebOLUZqMJr7TDU8C1mVjGZ3v7dKjoDeve2NkFmFPJlpC1xl0TKO5YWpKS1XXKpri8/wDU1EUxKzbczs97VwzdXjl7ra7tK6YzF+BPtzNPVO7i/eJ9dcl6HFPwRJ4UPZR6TYyGON5YaFOySaOJGKkjCjIQ4gSXGCmyxV9+28AdkJEZLctCfKgVDP8Ai7xnlyX6Zh1os9jTgTCZdGy15sBV2Uleah8K4f2d8wq+65YFODFEIjNg4tjPKBvkFZ2cuplMppxlqQ+0jH+C+J9IX2hTuhWYSnwv9VIZQp4CYWhHhQNsJ2RDzxXx0ja65ZDJDDK+KQaga42Lk9nnLHtMGyUKorhzoLsRlats9JbLyQM8HZn+jMkZ4jJ6UFY6UMeSvoFRtXTvi9SsQ/HvrSKRxQTkmulamExyywXQs0UJYyyhVMvi1S1/qkAMxL4Byi7Zagl5AuJHaJlqpbHdpIl9OvBY2U6bVhwPnm2onkWkd5WT1rYLJG9xpJUQkZirbjUj/Ep1ynVGSuZ4V7PNGNGKTTRv+/iLTuF5++5793u9drK6GupK6L0Ps/M6eoxzUckTJa2/h83uY+SC3KKLeXXtW3skEjd2iMqIJg6oxxMXaFrISI1Xwlx6qjBSA7yJQIS7e3p4oqwKvCUV1ZMKas1guX0RjR3WJWqoOYZMVyMRPdDx7OWeygJFBq6OOvTi6GjeaYN5gYsJYqStgcYN2i36e0aU4mYaIuPSNRffAf6XXMoT5LO0qm2qK1qNbS17Hvr40mYkjU4LAkInZXvfIJWxBzz1QpAqNRWSVgUmRiDjLyACtfBJUAzyziDzsb/Ru8mAFLVa1iY0LDQEODyAN4gFKRG2mq4HplZWPCLDEeKZxZgPsBihmGjtrCZFXhEjXF91a/u8SVAZBHplfpg0A/CMY1ccxsiU9UaKb8Vp/Sx+8989/glWPw5+0YbRqOJkVVZGvBjXPSe9bY8SCaXWDVzRC0gibJOAU8gKtYAvti8zVwhTohmDsmYyRkSQDxKTAxFtAUy3sASq0K7HeHDZtnIy0CksAgBPIhYrWvxV58ONXY9vfZ2cVfTrhniVddL49bhAXmXIQZDleJPHJ1bxV6ExFzvc7xepfhbVBeNva/HvneL07+O9b/ySt1m2oi/493rPGU0Ovo/BRoY0cyL3ee6ufWOIhbjrENuLcBY09XZ37GXPLWK55MzPJlZ6fLnpm89HEz0ivz0oDErw2Z4EONRvdDgjrx1lcqL8ftj2NlZHFEPFiYkipjl+G0LcJBJMZWOTjfRvq38Sfhp1p136atNZ/XSYvt1pm+ieveS9tEJpKauTG1oLcSCBmbzf4i9e+N/EOVEWxG5dwyKLZnQ2YHd1/wBv2l9j/rGNz/HP3+X+vg30gukW+dKyN2Mt1c6G1bOZj39xlYb58KVysiqDXnV8Bcy3eS2okEkBERLMHZAK4EMExH1wkLK8WYCBjmyM+Rfj3m/zu1Sf7puJ/ZzV/sulT/qQnt9ZvG6d953lyFP+fVe6jbR06UU5TR1TKFO5GQ3wL9W7yMmsrUhLSd2KJENe1/8AurIyBSBKmwGdX0iKlV/23ahv9mptHP02RVRrfj3m+nf4G/hdVgyuuKsSAD/LPTXkuAAHjus3tA69wT8FrXimkARGOX3yCGEWNeFjjkxzt8SDjzOcu/8Ao9/idqPaJumIrNqrP7f1/wCrJDYcO2NImZ3/AOuIub43zvpT/ue0zdhJ9Indxyrmk1+Hvq3/ANHv8dPwt/N2iTdart5v3cq6bv8AH3+Bv4N/Gq5v5VXN59/EnKua38Jz2xtT4r1N1nsubTar7fafmb+TfXvN8b+XfwEFTebdJYw4POwqHj6wazKX4e0MSvr4ZPHg6TivJiwTIRCOTGWz4LlEkfVo6FiyMY74LdO9WbVc720T7b9/Lvq3+BvEXN/i743m83m8mtZYbuWTw464zzwW+G3kCGerBKpUqNmW3aVgInkhOHptoP8ArBr98HXSDIFYSyzm2LwbVty1HLNLaTNlnV1HL4tPTEOLAqDpTJubAwIkOoshfT63UNkIbEa2WRsMVbYMsYum7XuK0fuGXKOU1fgsU2B9sVq4yPv5PC+P5tfIvwkTxjRedMlSKwcreLk6QAdrkkbwi8rkTnxXtlYOAf8AS5PPGLEKRGXFk08Y8cU0ZDfVIHSK9O5Jc9x6piHPW4OJ8kKNI+YavsmWEl9H3bGRMpLKCESORsrMsHw11yEe6eQp/hjV1bJDXgH+c6KJ8MlvxbTvHrlZAU0OVjcuHNbMe5tsT2d7sODu9Rt+z/8AoxeklxrXwtCu+JI0ljiBiiH7Or/xhnjLdhRpXW9wxzqzs4OsVbwvtkskxw4dhKKDdPPQYdh1jFaKQKW776yG94Zu9KukX+qq56N/Csy3ghNXvs41naB74YXfZVkIGsBERUPvwWQ0MYYiMsfEcnfyxFUgoiNJ4uzyqlfPMweMM6A5hMDSR60xsNNWmG2BxhyxTIQYKfw5yNSwMHisbx8ZNYaY0WKolI8e2ekJdTA+ETHxMkU6viVnZ6Zr6+/keqQVkrppXtgZPBPNNakMJriJGQR9mIWMZeDOeUv3Qp4cHFoKkxg8cpZ0kSTRhodXRQCvQzix88W+ME8Sx+0xzGvbFDDAk0Uc6doAR4gGIxsYQ0MltprG97A/GtVY1I+0XQGJ5NyLrDAYTmsqYUc0F4knD2+JHDUEOEkDNfFYxEHg1laeINZAHWQzUVGdbk7zWt1jlRcTTmoxeku1ECcxzZGcEzNHhqpp5wDDIwYa2wU9ptkNXoPNGVATbhhyKWO1re0Ib5JZYx22tyCSDXruvy7tPT4aSTvV91Zil10l5qqCE3XVYPpwUrCiu0IBZCWJwnnha0P08Mi0igIuCI5Mq5pia/Fyu/pZFt8xdFRtY6tf4ldDXE2RY03psJUMkdwNXwQczV8BMt7DDCFYwKYDV180OEV0khTKzv40JIXcwBDiZJDFOz0kVMbVi79Lc1jQR2Cw1IkLiQRi3Mrxol3mmovCLrFdwi6xeUzfVbjuKrgEkQFld4VhxT/7aQlddoPyUx2/Ebruu/y/XMru5FUipFW0Te7T4uXsJJcAhJAZdpPG25q2rCDSQIc2AdgAo1d5sCaDXZY5jYey9WsduZ2jAZJX1bkWsyM6L1QV0cd/OHH5METv08AFiBGrLR+B1yTXUA0IkdjaeQlHmaTBrI6trplX34DrpxLg8N86x1753whMHljiihxffPburWid5rUa3hF0uLxvq38u83m/jiNikKV215NrkLwasdCT+EvWn2SiNLbrHZtWM6LCuMtjwIUq7gs+IOXLOzfWOJs1tDDqw60lWQ+dlcptVAkxE2Q9mxo17qcEVwZSpTV7VYxsaZMNAS2EaEVvQEMRHe6wkGE5qJ3U6d+3RWmSEuIKiEZi9TLBVtuUwA+aaynNSAvq3zBYLJccEHOgsPEY1+b+Nq+X7Se/VTESSs+K3OlAZ7cJxvN/DZf0sm+zlxvTNUvcQHXPHI9l4To3n3iNXNYrmpklgJFnrYGerxuz1CVc8/JiTWMmdy2XPCtVzy9nnlrPPTy3p6RkFZENIvR2iNmGX36hGOi7RSxMnjGjWAfN9JLfCv5HtiZBYCkSfXAxUZcF9pse0VeDDWBtktTQzDjIwIm2Jj4o5GTRFWUI0kJcJF7jlTVyTAsVvNC6QwpgkVYZLOPXmFuI4MkligaZYFEVxbyorSV89nljZPr7WtneUBcDyTWkdU6JNe2TSthjJtp/CCfLKJGnlu0RxflI5YpYIq100gQ9mWa/1Yhs4Jfm22Vt5FyL3mHGtCjEPe8i5h8asHvQvLJd165ARCS347lvdttJv/6f/VOs0p4jI7UyZ3ftnZ4doueWPzy1hnp5MmeiBuX0SuxKmubjBRos72k77s2ud5c30JwvVbRNlsfrHORuSERQvEtBTZTDkDwAzzsRpEkHaKxsTxRC5/LhxFnwR2xRISRWh0Uf6wqEmVbUQiDLYVWPuAmuDFlWcRcpdRP7RQ+JWjDQQR8Dt8xemeWlvr5m6qua303s/wCwtFrdvF5O0f8A5K1HIXVCoC9vm+zVN4thg8jBLKic2SdeNbylkUizWRlfdwEweszExQxNCnktEBIBUwc7xO+kjeLCllkJGmqxldZj4+I91nbBTHDC+SEVhUU+VzO5exQv/kLpWVlxPPG8+aFCBxRVg7QXjFbAZGhInZoaOKvXT0ZBDD8l/wD0tNq7FzXeT4N9KdO/nlcrGXUhfh26kky9pWr6X2nHXylrB4FUM9H9oV+zwp/WbUVTQUY4isjL8esuBpDAS4HtpYWLHDxZhPPFsgfPwOGPMYiNY3GRRxu01ycy1cc5CBDshiCHgaiI1MIAgLcwbuJwrUc2GBg8Ptko8JGSwQys4TIBYRcVrXppqsjrxIn8bxeUxXLrEXXHexc37YrUciaayOCKFfAhWaWJk0WtIrld83aVe7YZ3vffUv5t8nfqix3WtS9CblnpnjQPjZLGWBGUsTHsxF1m8XPbr38283n7xPnX505+s38vaj2MxftF3/0f3ntm+nfK4nFgcTAaGV5lmeMxJcaSxxE5EQzMNt2CTjzRkw8py41rT3uRjWdoxXYV2h1kU1ooYhDDR/8Ar+1af3au8Z9uRd/Fv8h5rmWW83rIrweR3FpZrXOXXC4pNn6kz1V3FuPHOF2fcswmWGobjWfXaTtMxHAh78mOx0faKlTw5+C554VSS0XIXSOjy0/07O6kWGtdXQR0p8j3dl5HtgHpIXQ1v/Rp8nahu4lTu4jdYn5+uiFPG7RXyO9MklmLrp4Iv4+A9ZAMlHinXk+aYS7JYcBDHIk0VqxbA2RvkLFU7yW1QOIJCNCM0qvYY65EJaCulw0xgMFQHIKJwSU+B0JBEj83lzBNPBajONAYVLYQThxTiQVM2lX/ALDtMn+y37fr9/iJ8z6iCQizq2eSqo2x196S50cfqKMb3u7ZMJeMEpKi8T+K02YcyyajUY0kcmCwkZLYSZprkX34mjbPDGzwoiaUc+b0UJMhGiHTEXN8tVU476qmb/6tcTp7SJus/t3Xe+b9/g3+W13dV71erXd3FXlV2vDV1m1+Relfm3ic7/J38d+n/Ff/AA1ytRv3xv4JZ4x2/jb/AAd/i7+WWZsETJGyMzfKrrEcjkzeb6nkRRy4io7kwtocFWa86DoMKaENDK2eLm4b3qxiIiL/AFz2bzeFTCCI5dbxyo1H9owWrNZRtrYZUnhy4F9QHia5IuLeSUc9fvlMU6P1D4F5+s9bEVyXQeQlQE8ymxQldcsjYWRvbIzq38Mb2yMfI2P4N87yxbIWZWEPLB6d5bxumCq171b0Ex+NACdKGCqYROwWIGwQ13OuLyHw5XN3lAnh8LhiePbVLZNdF2zvVQCJ5GB0vneLFN17EVUXFRV5vVRxFxdRRRBtc0S0hlnr4AoY6UAOGXs/HaykA0k6kVZnf/k15AXHJVBuPCfZwhZd2ksrd8mmMBGAneSFbt8C4d9kWAoi7TIe04/jI5HNy1IJGxeCDxxHppUJiWYYCDyQbj5Vvu4xvNzFJHau+3TMa/JbIeKQI2M1vBrPFEDKdD2cCnUoPhrkcnDSYpCHWQjJ+XKjeN4SiqPRr/xN3/bHJ78dobB46ZZWHp7WXbpI4LQ2VQy4jYuJbDwbeuGUMJ70Y2E4Yh8tlH5OK+ge2ysliFc+xAYQqTV8ULiezjLcZodIW84bWLhJbR1kdKg5Rs1mPITCYcD/ALmThFms5oYXC3xNkOI+5so5gY4rMmKiWSOywmwHFkksIvXArBTDAzULdDbzm5XFyzqZZEeJOQk9JXXA0VYYfBXsje2WNMJTvDppM+s92pwWBBYR21fCHSj/AOoDVwkjwO13aCPvVdBTyVrIPM0krK+wcVNCwmKMWIaECIymR8oVqmkamSzNhjnrC7qetOkkGsH2RAVhY2IoAtJKXB/WJtYEOQX2d77Qc3knf7j5b6Ga3kK8GhAtAnLxZt8G4ONURqxW7G0ljLYy9oGbrpu0MDnC074jLotwgAU7gIAR5mLhdn5UhTC3x0ykS1VaUsFNSK+LLkhw4tJE2BeLtFFyqChfW1Uqj2M5b556dV8ftD3kHLn8EOaaRKamkkIrq1xMdVZNPSKJpSLirnhrYwDv8YaSNS+0YbfKWVFkEXlb5cnnYNGFPK7tAuFI0q2JgjDNARiVlcZDBTzRd2pWYqxCgFSAVI4qYAGliIipmNgKVefJ+YtBBWAjE9ngicj84O1F2j/dlVYQjA+lzSYPASAQeN6uOP6iNEyvkW3xrGsedtlyyR1QbXsKELrA5BzYIHR3NQkaJLA2VvckXs2XHEfbVgrvDqvPkQBFefr0ThvunLmNkaMMwSPjXHe7ueLHnmx884MmLZhJnqoS558TGyRvyWFs8QsdnVsrA545rILzNZKKhgEEdsIxwExS01eNJYY9yMZT3zjy8NI8qLVgIMj3b5tq4guazd5WzltR9RAFVkhUaFCABRS1DFMAyWCE2HyRIrIXlq7hcpxZRR6+jcMcZW+ZmIpyTo4POBRscr24aP5sQSFRhEYxHO7P+HOyxjHa2wkniqmq+GCtOjgCgnBwAR4k93G6YJeDC4g4UPZOGCx0YU4hMZw403jy1j/MDBMF4kqCTCJqN00rGLG2cOErGgQNdLBHPlAKP5c1viB07+/VZev1Avtgv9b3lF6UxHKnRvo9lzvqmb5IGhKxjWxtYxjEKrBTUhHiGhABjrohRWCQSf8AkRqo7xFcnU6vs5FbVE930SN2JR16Z6PXYlZXYlVXpiBiNzyw2eTDySorn56GAmejQJnp5jM7lvHnftsWa1TPHs1wWK0gtWy2MCqmI1icPjZMzeKu+UzeNRjFXjxmI80yIGJOneb53m+veIuOcq9KPR3GkzfXvqGCiEdirvi2HdNFARGWyud49v8AAn4s/sR/lnd38kcfcfxvheN5vjfPeXF+CE5ZLHN4i74XHxtRl2MhNeA7xQeVXDVjJuqZkm+JrB0NpLKyBmKuJ8dS/wAG56fNvbbYvQufvXCZZGKCLn1iLhNQKRIMNCHDrp3iriu7uJ7prn760VF6U6bFuju6iKmk/wCijare0k0zYI57A+UxxBlcQv3jTZvWbpJ/T6MDx6+GHwG8FFQiRxJ57tAvNisUNrezjS1vnGQANlbJD54x0682UhMcI166cgiRB4qEsk2MgyEdyXDSTcV8Q122SOTPriaeMdi3UaSWyeCXIqMzzpJSVxSmhrIxJBrSEkoQ+E51xPKqwLM2ujuJjcAKllffa9MGvBXwtVHtXK6WVxtrPKzB4vIW2HWMQHFxK6AX9WtiXCdYV7JQIWPpkVMa2SHtFrAtw3hM3l4FSWGBU98W2FSSKZk7IIvKX753tuTSFFHiFsJ2VZTyoem1T/kHYi6b+e5F7og9nJDLAXFctHkTGaZ2js/9V6/eOEIZePYj211etbBvJyYhY5+0HiuEnro5rBrvVeChkLguQRh2XI8UdWHF6vHXzo6npWOOj5lXuxxDui7P2VhEYJUeH6WQsdULGFKDA2wDkYg8JV6weKHiZ/hRBV5ly6CphgfcweNXWRDia6OqdLGkcY0XaRrmp2gFSEQiH0cgooWe321Uqo+5dlsWCztq5Dx6V2qngdUjv5Bo3SNrrPxwjENgIrxjly5j79YM/wAQStRHWUY7pKOUuCxrjB5J4bGt8q+AXyuFr5a7NEjMhkp0OLp18ObWR2UI+RSpOwvTLsn+t+90PjWkdhItN3gpum6b/wAojtr9fj7+MwGQgtcMrGmvDBYJztc3m+FY1+KuO7sjY63ykzuSBYDGTRMJiggjFhkrg55XVsTXxRSs4Xhf7ZDDFBnp0DZ9IvHlR2ufGyReZKcKV7a1rMhiZCkndlx1MAuejBLkgsErV9+Fa1zYxYIFjHiik4c5V59OhU0lkssPdtHRhhMAhvUM7kff8KWJs8cA7BICaoUt7I2QsYyONckjZNH+liikXH1YsqwCQBx53l1iwQSSLHE5SBoymd80JBmynWvTeoqWWJv8xPn3m83m83m+rf8A0i4i6/EYqpjnK7qv/wD2Lk7uMzebzebzebxPzd8bzfwJyk0WyJyI3qcajILAopnes1z/AJTO5a5q1zdmmPNJhxO0IWerga+0/L+vxU6+0Xse7O9pf5MHidpAt/yMHP5CAuevV+Jd164luBiWYbs8+KuIVAuJNEud5vGs0ud1fxV+V1TXvxezoC42iHjxtJAxfS0z0lmelRY6mgdjuzwjsTs8KzEpY24wCaLI0e2P/st9PaVP91v3V2IzFamI1M7jc7jcWJNeE3FhbiQNVUH9/C90ifm5WY2YnPOGtxLKwTPVrNMS6s0X1+0TP5DZ4naaxz+TWOfyixz+UWGfyo/P5Sdn8rOTE7WGYna0nP5aRn8tIxe1s+fywhc/lhOfy0jP5YRn8qJz+Uk5/KiEz+UkZ/Kp9J2onXP5ROmfycjE7Tz4naiXF7U6z+VpidrIsTtYNn8sExO1QOJ2or1z+TVuJ2krc/kdZn8jrM/kdZn8irVz+R1mfySsz+R1mfyKtTP5JW5/Ja3P5NW5/Ja3P5LW5/Ja3F7TV2fyevz+TV2fyau3/Ja7P5PXZ/J67E7UALn8pAz+UAYvakHP5SHn8qFz+VD5/KIcXtRHi9qGpn8m9l7TomfylEz+VNXP5UmfyvWJ2tTP5Zn8sz+WLn8qdn8rz+Uuz+Uuz+VPVf5TNpe05CInakhV/kxOfyknP5QVn8mLz+Tl5/JTM/lRSZ/KiMb2tdje10WJ2sFxO1AK4naYDLo4c+VyYqf1TN59caxM9tu9nd7PE92pju9pn+Xvjf7I7PZM/wDlVTG+2MRMaje8q6xV0iaXO6neRER+lRz3IqN1ndTekbns5VTSOYjmo1Gp3/7N/s2TNK5EY3TU1jVVVX3T3Y3ekfiKue+m6di6xWtzuszw033GpndZtYkzw0zw2Z4KaSJmJGiYjEXFjixY0xGNTEZvNIrtJrw8aiI7X91RNI33cqJiJ/Z6abHrHNRV1mnZ9qidxqrrFXXDk3i+6b3numd7+yIip9Y37+8/bkxub0qYrfdFz971m9o1NJraqz+i60jmtxVR2K/Nbx3+HhNzwPdYtK1iIiOz9f/EACARAAMBAAICAgMAAAAAAAAAAAABEVAgQDCAEHASIWD/2gAIAQMBAT8B+6luLcW4txe8K3FuLcW4txbi3FuLcW4txbi+ip6NrcW4txbi3FuLcW4txbi9LVuLcWxeC3FuLPfB+Fbi3FuLXXFbi9JruT+mQ+T6S3F2XhrcW4sW9Bc1uLcXdXw/OuK8K3F3/wB91eGEIQhCEIQhCEPxIQhCEIQhCEIQhCEIQhCE+IQhCEIQhCE+P//EACkRAAICAQMDBAMBAQEBAAAAAAABAhESECExIDBAAyJBUBMyUWFCYHH/2gAIAQIBAT8B+2fPUvtnz2q+ylz9DXe27s+fvJ/eT+8nx9ZVmD6aFvrx1S471efYmvke+jlsOVidFmW9idMbvR6vjv15V/bxHq9npWiMRQMSiqMTahxoqnRjtYilfgvjorooSsooSsrbRLTajY2MqNmS5ItHtMkNjlZmZ63RZellt9H9WlvwW9i0ZbUMyFwXS0yE9i9iyy+xH+EtWq6KFyPd9aVsa30tc+bEfPU0YsoUTEx2vRDiUjFVp8Dr4LqQ6I8lIaoSTEYpbklTJY3olZQ1T6Hz3HVEkiaS0WzElQqNtEZatqhyvROi9huy/dZmZGWtlvsXqtx/K6LotnPQ+fFrsooxZTMWONlWxpfGtJ0SVaJElQhr+FW6Mb4Ixp2K5XelWYsrgoarolz3EjFaR5EloqKVjpsbQ2huy1oqLSZaNtMjLYsyMnpfVxresv1M2N2J0ZUWZsbsu9Zc9y39Llt258+LX08+fKv6KfP3k+2lfSlY1WtbaVt1tbFFFDXGjVFPyJ9v/kxMDFaR5KMKZilyL9TFH9H+taRraxNWqNsi1izL20J0Ze62SduzMyE6Y3fkT7d7F7UZPXgstl9aJc/Qz+jvyZ8dtdd63039FLjvpWOulqhLpSv6GXHdSMbYl7h0JWNbWRXBjuepyf8AJGVH7PY4P+Rcj+a+gfHdssyenHTxpxpmX9C+PBSs/G2fhkP0Wz8Cvk/ESq9vtuD8kkfkkJuT5NzGVii2xqhIlHEw9tkVlsTjj9jGvki0XvY52Zu7LMrE6HJvSHJL9V9k+1f0D5+8lz95LnuVqo2UzFlPgarVbjVaYvtVXI0qteRLnuOVikkKdClTszrgyp2Zb2Or20k7FyS/ZjaaZfs3OSLxY37UURdEmr2Je5aN77EqxP8AjyJ8+O5N68a30XtWre1eRPnwqK6KK719V+BPw70vW/pJ+CtytuuvbelNDi1pOlwUyEbYlZNYy0St0OFGGzf8Pxf6QXuowVjxTJRSnRLZnqc9+fdpY2KCIpfJjyOoyQnTY3YhkZf0Ut1kNqTHLYckXvY2mLZktpGVWKdUXtRJ5HwJ4uy2ORk9bLLvkbvvy4710Wx2VerVbdCVuhxpWJX0X268OXHdjHIxMDHciqkh0Q/YT3HH34jV7IxTYklJF+w9P90PoYvM+O76fJdGTLL0i6dj0t9CdfRfHdTr/wByvr34S7daVoyvKfP0O5v5UufvJc/Y+ou3LnyORqtEr6FH+k0k9ihrFlNkFcqGmVWlCeKZFXQ4VphwONKyccdJbyElVmCXJ/y0JWY+wwdCg26JRx1lz4ldEP2oxukOMeERS4EribZbCdPc3aY/hDVo2lQtqZnwy/dZLkTpmaMjLYy50UmjJjd6ZF7UZMvTLajJmW9jd6z56l0V0rsrYtmTLvVK+iKt0SVddX0qLekVbJKmJW60e3XPtb9G3aUHIr2iiKEmrI+n7qYopkaTQhqiKtixjJMn+wl8jjykKHvonWWwtmTVMksHaPUpPYvatFUmj0/2HyR/p6n7Hp7SN1LY9T9uufkN38mSqjO0Z0KbRemTWidDdjd6ZMt65McrOT4rpc2N32pfR1rBKvGl48I5PVrgrRK4ko0yMMtXGSH+qKeGivExZg6sUdiKvpa/g00Y3VCSeifsK2sapkouLp9MuOwuj57aajRaxE/YZbITuLQthTPybCkkq0i6ZklGjPZGXtrTL2jktzIbTIyxYt1Q3/SUovgToz4JPaiM3EjLEVfJKSaoT2ouz1FFPbplx5F7UX7aODLpUb8x8eOlemD0ooSvSXpqJGq8z48dOiX6oVUxOibtjksrFplsJ7UPfzfj/wBAlZWijfTW16pWV04+2/JUbGqErddCVlacFFNDi0YsxZNJKLJxpkEpbH6slxtpDZPSEVyxJZFJRtckv1Ki060jSKVtGKyJ0pbafj2GvatyfC6eBPs0fGnyV0UWNXIlHHdEqV0bJaQqz20ZK8iTt2J0ZLKxtMyRaSolK0kSduxOhscr0U61g6khOr0+Xq3ZbLvTNmTqhu+l89SPgZZfayd2OTZRuuiq0SsqulqhK+uKvXJ1Q1i66UrfYlz2dtbLLLL1l+qKsxd0QXKKZhvRKOOmKdDSq0JbD/RaRS4FSiYpWepTqj02kylX/wAKW+kOGJU7PTpbsjSlaG7I1e5LfhDpyVkuBuJGKcv8IpG1pksbH1S58NPZClhRkJ4ljmXpbG76Lel0c+TPnw6FFvSq0cK+SFZbk1UqHGqFBOSRFLeySpiVjVEVZFKtx1SpEtnt5E/DTjkhO5Ej40vgg6ZIcm0Rk0Rq9yTTEMToUqMmvJn9slY1TrRK9Z9TWlD6a6FVEq0kqS0xdXoo2hqtcX0VtY1ST0caVn45VY4OOkv1KZizBnMaHBpXp6cbR+MnV7CVjh/Bx2VnqfsQTJJ2ODQouLTHF3Wkuvc36LGPRF6KnR8biax3L91sk74FsZ+0lKL2LjhitMvZQnFu2b5ZCxQ5LclK4rSb2HK0OS3I18k2nwZItSTZn7bI7svJPRSoyaG7E9qM2ZDdidGZkxyt2fk3PycnqdNl9V6X0VesIqRXtvVwpXpi11xjknqlfVW1ieLsuKTrvy48KKW6sjRL4I1vYp1CjkwonvWir2jgj1dnWnp4tUysYEVGj0/bd6Qinuy45bCikrZGOUioNbE9opEq4Pbho9pE99x1Q/1RdUT3qydUmS5TJVJWJEflD+DmOsuPCToTou+lu+i31p0NtltFt9VjdjdqtL6L6MtZceUqE/THKHwZRE4fJfoksfjzHxpvpbLZbMmZMzZmzNn5DMzMzMzMz8hmzM/IfkZ+Q/IZ/wCGf+GaMkZRM0ZIyRkjNfwzRmjNfwz/AMMzP/DIzMzNll0WZGZkzNmbM2ZmbMzIyQ2q0//EAFAQAAIBAwICBgUHCAkDAwMEAwECAwAEERIhEzEFECJBUWEUICMycTAzQlKBkaE0QFBicpKxwRUkQ1NjgoOT0WBz8DWj4SVE8WR0lMKEorL/2gAIAQEABj8CGKkz+hyfU5/mWPzjY1z6ufq8659e1c63xXuj7qwPWuP+4fVyKwPW86kPn8lmh8lj9Ebfmm351deUh+U8xTH9b5PP6Ez8ht+lLr/uH5Hwo9Y+P/Vd5/3T6+aNfGtutPX1TPprhxP7T6rDFY/T1rbWcxt3mc5kA5KBUll0jvdwDOv+8Tx/Qd3+36g6t/WzUXmPXa9uFDtISIwfogVL0hb7SxvpgUDnioZ2GlnXteRqCZyUtnSQQoPpY7zRLYAHeahkUlLTgvoX6w+t9/qZ7hQZCGVtwR1PwHEgjbS2O49eq4kWNfEmkZDqVwCD4ivSFTR7Rkxnw9WSRtwiljjyqKeLPDlTWNW3Vt6jyzHSiDLHypSu6sMg+XXbxzNhrh9Ee3f8icVby3La5ssrk+R9bbqgtz+Ty27N/mB9V5IFDuu+k+Hf+Fbcu71+jX7uMU+9DXHx7XRw+fdTIrqXT3lB3FZ+R3+Uure4kMqSM7Rk9xB3X7sdSmdQkp95R3fJXH6wU/h1mh1bde3XzqFRy0+u1lL2ZYXOn9ZO41ddG/2u7Wv6wbu+yktJ5OUehmzjnXRkEPzaW8oWmhdmVTjOPDwpQBgCyIX7D1YHvDu6pImJAkUqSKeO4fSLKRoyT4d1XEsOtHhQsySLpYbbHFWQ72TW3xO9S27RytKjBFCrnWx7hXDuY2s5T7qzY7XwNLHKwR8+zbwbFagC4t4gABzbFXUFzbmP+sE5TdVY/R8qWysiqzMut5GGRGlSceTjaZmVHxjUB1bU8ZGzqVpY/pejMn2jNWZBBPo6ZGakmlOERdRriqrx4bSVfmK3oUQRkHYitqPEmjTB07tjfw6rCUj5u7T8aPxrgKW3OlX09kt4Zo28twiTbdltudcNn1S/3aDU1RSXYeJJH0bjl8a46dHSta89eoaiPELUcsLaopBlTUhtraS6ihPtZFOAv/NCe1YtHqxuMcqvbf8AubtvuO/UkjQvKhbtsv0B41JDHNG0kW7qDyoRCOSPiZMLsNpAPCtb5OTpVV3LHwFS+kQejtE2D2tQ++jcwWTSWS/2hOCw8QK6OvJDiKNnVvtWo0vrcW5nXXbkNkMPD41PBay+jQQHQ8oGWLeAp47zS3DGz9+xxvVza2nDjlglfVIVyNP0R8TSX6RAyHSGQnGDnBqefTr4aatNWkk1zxonjLzBdkXwAprCwgQyqoYvIeyFqS7t4YFhhyrRncyEe9g1FMnuyIGHWs/pK8KO4RkUJ7o5VNJ6XO5jQtjsjOPsq4EzcdpoElaXv7fvDNcG3Z4LNeFrRJCMls71p328TnqWGSZBM3uoTuab+nzNau74gKnMUfh9vxro6GElFd2MvmAOVW9tGQIDEXcePOrb0UAzyzBcEZ2odHa7USlOI0wT3B4Yo2fSOhnKF4ZkGA+OYx3HrS3s4+Ney+6vco+saurfpMR8WHGCoxkGrqG1MZB0N7X3Ylx4eZqeDpFEV4ouMrx8nTv2q2a3MYDkNJGIsqieb+PkKjf0fjW7jHvYIf8A4oG7eDtDIWJT/Grhuilh4MDFBxNzKw5/Co7lI2j17FW8amg4Uzyx3XGGhM9kx71NNDbS60XI4i4FGa5HC0prcZzio5pbO4htZMaZmxj7RWqO340YGWPEAoNaTK5xkp9IfZ68T/Xh/gflNudRD9QeuvHjDleR5EVxLJeHdRduJ85OR3VbXFxCHyutVPcaDrbqrjljIpWS6nt8DGIiMULqW8e4IjMYDp3dTXoDekMmjntjrMrL/UiBI3gZAMVLNa59KWNl2+mh5rVqrKUYRICPDarWW2XMkUwfarea2UyNCX0gHGCeTfeKsJVTU8V0jED8erpdDnBlRwf8tTy3UnDsp1CM8S7gDkD4UkcM0Onkihuplyy6hjK8xWeLdgnwuCKZxJI2JpF3kOOfhVv0rHlnDFZx9aLOPw503tMl9Jj076twaiIOsyZkYjvJ67zh5DcPYg4pfNR/Cuk+MqzIg1gOud2q7s4yeCgWWMfUDcx8Kmnub12MZ1iNAAuxq4kt7qeZ2gJXVjwq2ZEWOxtkHAHPU2PeqXXCkrOmCCOfhUgkQrLxe0xG7bD+FTqicR9iBjPfUa4xpjUY+ypYVhuIZdTY9kcIC3j8KW16Mj42pNEcQ+HM1HYXfspkJ7X0X8wauwdluY1dfMjn1SI+4ZSMUkturLfAPuPePcRXRXo1uZWgYZVe4ad6tbieGVYY9QdInyy576a1gilRChUYjxjNR211aSZRAnY7StiuDo9HOtWXieVW3ozrE0MquCRnYVcG1eLhztrIce63fin9HnWRZW1ScRN8+RFX8xYH0mUMMdwqWykkUO8jMG7h2s0TA6EEYaORey1CHgkWP6z50fsmp7zUSZI1TTjlintVlyXLnXjlmo4U92NQo62jmXUjcx1MlrEsSk5IFJJJGrOnuk93WkupoZ092ROeKNvLcpwnGHPC7RFJqLqYzlHU4ZaLSo1xIduJK2WpU4SkKwYZ33o3WPaldGc7VHcFvmkYKvme/rlubeBZ1njVG7ekrj41c3M+kPNpVVBzpVaThS8Hi25Hu5yVP/zUsk7NcyTJw2Mn1fADuoRWt1NFEOS7Np+GaaOeZ5DkEOwG32VDDq18JQurGKmijuOHbSOXIVe2M8wDQjsbl4YByjKhwvwzS3Yk1ho9D6uefKpYWOFkUrkd1TW4bTrTSDT2q2EdtxF0M/EBUDxAp7e3y3ZVPMqMZ/CprmWMWlxxDNFgdqL6q0hfZyoLfHHrWMnd216/P5EUo8B8hp4ssa94Q4zSxxrpRBgAdWfXOCOzz9bFbV7q/d6jJFGqISSQPE0lrCDwVB2bes21vHEfECsrDozz0MV/AUAuwHVJDL83Iuk/ClVfdVdIqSZExLKBrPjipJwPayKFbfuFSwtsJEK1DApLcJAuaLcFQfLs/wAK0oNI9TesRqEHkPXz8i0jnSijJJ7hQZTlW3B6j8ht8rYzQ4xFIeJ+yR8phgGB5g+vAw+hP/Eevzrfqz1Abc/lprjRrK8hUTsnDd1BK+FTNGrARSmPfvxU8E8ZEMYQ8Ybhc+PgPOs91XD6g0M2ll378YNbD5Lfq9DkTEbQhlf9bw9bb1OHaTNCsFuZ30828KhlOxkjDY9TaujFhcorzHiDxGKlFu/DlK9hvA0hb3tI1fHqPyVwYG0yBDpPPBqwuUAZ5TGJGxyzzNHHIVI0+8eMEc8+VexVouF2GjbmtXcd+B6Ks/DSUfQ8j1lmOANyaPSUPCt7NSCA4y8i5/Cgy+6RkVKM5DSs4ye4/ISyBdRVC2Ktrll0GVckCppE2M2C/mfGo7SR9E0i6kzyNSBff0nHxqA3GTPHmOTVz1DqtzDFxdc6o48BXwq4iSc2lrbge5gs3gd6aW9upJEyBlwP5dWwrLkKPPb5Q+1jGOeXFZjZWHkc1N+qyt+PXg+ptQ3yevakH6w+WlgJ08RcZ8KSFrKZrwDTsvsz+tqqWy6Rkjil1mZXOyyA88VcXc3slvGWGFX+kB/zV9ZKc26aWi/U1c1qS2tmeOWCdolbvxmpLrpGWTtMUiEblAuO/ak9Kcekxlo5N+ZHfV+OkTMXjOi2hjzyP0h4mlN9vNHI0ZJ57ePXwWinkITiOY0zpXxpFgLXMjrqVYRq28fKiXgaD9oinls7dpoU5ys3DT7CedRScMxl11FW7qMMaS3Ei+8Ikzp+JoSIfZT2hBVu5laraEgvJO2AB4Dmat0SLitNJp54ojzq+kjuZIRbvw4UQ47XiaaZ1LnZVUd7VEYrjGJAZNEeI1Hhk+9Xh1HiyJH+0cUT6RHwzaaSdXfqqZbb3bdgme7l3VI1sxxGe1kY+2nawtnu4IhmR1OMfDxpbhH9iy6g3lXDFvLGhQvHIw2cV0WYoWlfjHA5Z25Vb2strwhKrHJfPKhZ2gWMcHiNKw1fZipLTpFF4ypxEePlIvwqP0myVeOcRRiTt/bVunSVvEkU76A0b50t50eq3t7HC3F0+hWP0fE1DHdXDTq8UhdWHu4OAatFtJNInJixj6R76jhM0k8FwuPaHJWQf89b8OK34W4AdjqpNfDVInAxvnZ6mgse0qdqZlPd9UedJNZssuhllCg88d1XF0PdmkL/AGDapGvFx6dM7aG76mtpDqNrJww3iO7qKOMqRg16LeXHG0oeBEqbnHLNZtzomeDCHzxUMrBppBFuO9iKROj9MfshJK0ozp/VqCOAxxSOGZ5G3VQo3qB7gYlZAWr0CBYsy4MTt9Ed+agW9ljuYJ30a1TSVasdc1v/AHFy6DyFXkEh7IVXj+HfVobvAtIlcyMTjBOAKewu24kiLrhk+unn5ir+E3M0SbTIkbaefOsanb9tsmmdm0hRuTSy278SNu+p/wDEs1P3NTjSW7aHYZx2hvWq2a5jxKh1CFhtnzri3isZWAMg4h05x4VZCC3eWJEeRtKM2s7Y+NfGt66Sidmb5uRAe4YxtXSUTMTnRKoJ7iMdVxKmA6RMy5+FWk10JJ5H0k775c1BDaTej65Drk0atsVc2t2Vkmg0kSKuNany8erpGOWQsBw3jX6q4rTfWltI04aY8MHMX7YrpgJGAsU2rCDu05q5lCMnEgLBXG/qCtuvbr7NRL+sKPyu9fyr2iLJjcahmsSqHFaYEWNc5wK7IA3zt40AoAA5AU5W1j1O2piwySaXXtk6URRksfACr/WnDUXTHSfeBPXnvq89z202pdPcvhUsUUnBd10h8ZxUQuLU3TxDCni5UfBTyrt2xjHm4qSJOFIDKzhiSDv41DciSJZY291UwrA896guIJBHPAx0krkEHmDUUlxMBNC2qIxLsD9vOvblHbxVcUZoXeGVve08m+IrgXRLcu0NiD41gXqnzeHJqQ3Nz6Rq5AR6QvVraNWbGMkZ2q2kEK8MQOCQvfV3HJDIYJ5OIkkaasZG4NFbi3ZcqEDAbFR30kEoAfWxbFNZyMBq1jI7smo0lgQ6FC6kk/lVm6kLwJuIc+GKt7jUVeAt9oIprlbeS4hlg4Z4fNSDXplxHwtCcOFDz35k1DcHDRLp3z7mDk/ftWlMauIjb92GzR6oyHMcsba43G+DUkrSNNPIO1I1WsrsQbd9YHjUbNzjbUvXtXB0DhEe7QSBAiDuFcRrePX44ogqNJ5igjKNK8vKuHAmhM5+3q8qN2+812zFj5cgPhUA5mPKfca0xjAyTUno0YTitrfzNJNPJL2PcUN2QfGuzfSf5kU1DdvOzmMcivP/AMzUBc7RSCTHifUkaNArSHLnx6iko1I3dRmXiPKV06nfVgeArXpGvGNXfjqaORdSMMEHvpYoV0Io2FJcQWzXC+jmM6XAwdXnXbtDEv1jKpqaCUnTIunPhQyc7Uk4GJEiMYxyweq+clWtkm0QFRzwN9++luQzBxGYyO5hzr0nPa4XCx475qxig9+ebBH6vfTpINSOMEeIpPRA5lidGQSTsRsf+KYpue6pWuPRWknk1yuCxPkPsoWseDGsBeXb3Tnari/hBnf0bRwR9LBqTpGyuIra5xlhq2m/VI8a6Uk0lNbxNpPMZjq5ELrIMNG2PHHKh8Ooer5Vt1YqLv7X5tOX/wDtbdeH8WO5rpeM91wr/evy49Xb1B+Y7eubG4OlC5a2c8iD3fGr6PuW7b8fzcrIoZW5g0FUBVHIDl1tP2pJ2GOI5yceA8B6rcJVTUdRx3nq9p0fbjDbMz/jV9cHEktw4bhqdhgY5mtEpDSSSNLJp5ZbuHlUiHbS7D8ev+PV4E9XKt//AMdQJx2+VRkvq0g8vzaO/gUuunhXC/qeP2V0jLasrxNHF2l7z+YD9AFJkDqe40Utl0qTk75yf0LfLyHGNeVHvrPLrx1curVXjhD8rt8lpgjSIMckKMZ+Q3/ODbCZOP8AV/O9/wA7uD9dUb8PV8uvxrfqkb9Tf9HExMrgHBx4/ISyd6IWqOeTaYqZBJ9LWTURm+c0DV8fWuHt8cVYyy5q3m/vIwT8fV36ix2A3Jr0mQKtnKDw1+kPD76e5dGkVMbLSSRnKOoYHqdrZtSo5Q/HqxHay3G2ewNq0RdGAHSD2pK9DvLVIzo15Rs4HWywyo7p7wBzjrVrh9AZtI8zRSGUM4+jyNaUdSw7ga1TyBBiuJbsWXOOWOq4aElXjHEBHlUUv10DUcEHHOmAYErzGeVeVcC3kLvjY6eyfgergrPEZvqBt+riMpkYsEjRfpMe6kZ4zExG6H6Neil8TlNYXHMevBJ9eH+BrflW9cq26tq3rblQO3Ot9xUx/VHyA40iRg/WOKxFPE58FcGre0nUJBOnZkP1/Ct+vf5Hy9e1tnzruc6PDb5G4niALxpqGaguV/tEyQO4949QZOKxyq8gOSutWV/rbU1oH9uF1lfKt+XVp1DV4dZWTiFAdJkC5UGjrkUJKukEnnkVaelXEeLbIWIn6WedZrhl14mNWnO+KI4uQObBSVH20CDtzzWnLuAcMyLlV+2vKtDF+GeyZdPY++ljJyYZGjqebh6FjkZBv72KS4uFVGZjjHhVzBcOwtLUDKKcanNaZHMgiB7X6tcW6E1zLLvDbR7Kg7smoIJX1ui7mrlE99omA+6rQp9GPSfjTo26spBq2z3agPhnqZbVNAZtR37+u3B/+4jKZ8xVibTaW4Uw6vDevTLa4mleNhxeI+Q476traWQwW7qZJWXmR9UVJdeji1V10RxDnp8T59eGGahjZuEojdxIBuzDklQ4hWE6F1ACrr0ySOznMh9vINT6e4J3ChFBcRYH+JknzpXtHCq0gDy41cNfGnktekHvcodSORhx5VaHOdI0fdV7BfsIZnuGkDtydTy3q+fS7xzPlJu5qCoGaPipxgnMx99ILV42RPm1HdVjbZC20rniam0hiOS5qKacQJwd444E0qPMnmeq0uVQyeiTiVkHMitdvKsinwNWFyo9slyqD4Huo+tZSfrMtbituonqx1c65VtU3ht8gpuoY5dHLWM4oJmx+GkD8aNsjCWA8sPq0/CnsLx+Jdwf2i8pB/JvUX+jo43kJ34jYxSNcejJqbHZTNQ65rd1Y9vEWwHXE9uxTTMuWBrI5Hf19qGe/lXQsi8xcEfw6xIJlRTJoGvbtVHHcSiN3OAOp4bC3kvJU97T7oPxp3lg4Do+jnkGpE6PtmvTF84RsB5U8iLp41ux0nuqOPoqJTIiGWfVUNymyyLnHhV1e8eS3jTV6OEOOXeaSa6wX1lcjvFX3pk0j8DVwhnk2Tj+FQzSHMq5Vz5ihLctrfiP2j4V/S2P6pK/AP7PcavEV9Hs85+FQX8dy/FLiJUz2cfCvTEZvT4tLtITuT4VGxGNSgkVcGD5zhnT8at4TiSLTv4hqWG+HFSOYiMnwB2NXWFXK3TAHHd1RXcY0zBxGzDvU16L0eUh5ZBGxHfVtbmR3DMElbPujwFRJMILexXfhRNnV8TTtaPri4wjlKfRXvo23Fh9H040g91XMQfiQ6wYm8quLeGVI7KaQuW+mM8xXDtJv6uP7ORc4+BqS6sZVjeUASI65BxXtmg09+lTvXCsrvTb/RR49Wmn9InM7MduxpC1mRgvxNPJY30cAc5aMkFSaK29zb8U7ay2w86hghOY412Pj59V3/SaBRr9ljw67V43CNBKHyfDvqOWRAzxHKHwowz50EgnFRtKDqj9xlOCtdu4uT/q4puAmnV7xJyT1b159XaAI862RAfJa3rJt4s/sVogRY1znCjG9ePqaZVV18CKIMAx5MRSqg0qowB4dR0qqk88CoriVywh3ij+irfW8z17epGfqzr/AANZ5jqzQzX8K2o9W9cqm/bHyOBHGqgfUFE9HRR20O6vd6MFh+p/zQhtE0R8z4k+J9W4PPThvxq3kH0olP4VIupnkjk4ZjVe1mngMckFyo1cOQb48aljlbDyfNjxIqBUkHH4YDIdjkc6nFg8cFvbbSzyb7+AqG4ihSS6fHZOwxnnX9Hx2iJfLnWWfsAeNZurlZP1VjwKmguWNtHasVl4RxqOavLeVzKbScxqx56aXoy2cwDh8SWQc8eAro/+uNwhIrvxHzoOasJIpo30XOey2abHj1dL8eJgqa+DtzJ5VLM8Ty3krj3h2gooZsrtNsZ0UbLpK5lsUBzo0aeJ/mrg2LoAFwgTur0a6b0e5RzxA+2aIi7SY5gbVJFKyyPKe0R9Xwp7SXTJbAkxPnfB7jXoZulFjk+6O2R4UfQLiWBefD95fuqUK5kaVtTEjFGFGLqXLb+dSWsOvhvk8+WajjFxIlouBwANtqeN1yjjBHlUVvwQ0UZ1KG33rTOusZBwaz1M7RaS3vaGK5+NKiBVVeQFbyRp4jIFb3Ef2GsPcRn41ka3/ZWirwTMveNGazH0VOfLhGtMPRc6qO7CqK9n0Vj/ADKK/Iok/anr5uzH+c185Zp9jGu30hj9mEV2ukpvsjUV2r+8P+cCt7m8b4z124mlPjJITX5HF91b2UH7tBUUKoGAB+c7/Jy57nQ/jXiteVfDxrc4rD/f1Zo9/VinI73+XJsVjabuEhwKlimtbM8RCOzPVvbXdkfZrjUkgP4VxNOFMOonHfiuiLsbHj8J/gaAnTLLnQQcYpAw7cUjLTwmN7nox5uNpjIznwOe6gPQp4/jjb8aTpGGbSM5dDz5Y6rloS5Nw+ttVST6JFeQ6m0ykb0kkbTwSpydJDnFOoiD6/faTtFqMTW0RiP0dFaVXSoGAB3epzrtsn21jixIPiBW88bfDeuzHO/wiNHTZ3B+IArs2I/zTCvySH/era0gP+tW9pAP9avyKPP/AHq7K2yrjvNfP2o/ymvaXsY/Z/8AxXtOk3+yMV7S+um+BArtNcP8ZzWzXC/Cc1u9yfjMa7Ubt8XNbWw+8182ceGs1+TR/aM1tDGP8lbAD7PzQAfISzy+7Euo4qOVPdkUMOqwi4epLiQoW8KHEYLltIz4+oLHB4nC4me71RJA4kjbkw+RuM/q/wD/AF18ufXtitq8KzyrevLWfl1N1KsIY4Grvra5H7prAu48+e1flcP79DN1Ea7N1D+/W1xB9jCtp4v36V5pOyxwNHao+yuf9uuxaXTfYK9nYTGvZWCqP13ofkkK/fXtOkJPhHGFrtS3LHx4xFdi6u0/1M1+V3n+5Xamun+M1bxs37UhNfkyfjW1tF+7XZhiH+QV2QF+Ax+b2tnbtw3nO7D6KjnU1vcEtLA+NR7x3H1bh4DiQRkrUE5HaZe18aaB00jTlG+t4/I5U59Xfma05GfDrlgk92RdJq3zu0eYz9hr0dbiMz/UDb0hDEvBcKdlOMjnvSQGRtUrZTskHI36ikE0bsOYBpbbUTKTvgZx8a6NuPrFoT9tLCW9owJArh6l4hGQud8dTLnGpSKiX6ruPxowu51BtLMF7KnzPyF38B/EVyrwr8K0rXgfV2pT4u3y44qK+PrDNADYeFb4PxFe6n7oru+6t1U/5RXzcf7greOP9wV8xF+4K7KIP8tb1zNZ/NbRCuRcS8PP1esLdEmVWI1HvHd6hEbqxXng+sf8O0/iaLfSI59W/UBcSqnxptxpZedQq0igxllOW86WWMrIEY6WHca0CRdfhneuHka8ZxTQpIplUZKg709mG9ov3fD1PQtRW3jj4k2k41eAqRbf8ikGdJ+i1XV1FcvA0MpSEA7YXnUN7E2JeyT591WzxXkjtdtplzvgnvFXdjNI8ojw8bOcnBq+6QlkfjW7MLd88sVFfZY3hKSGbO+SaYcg0iBt+7NQQxkskUiPNg+6grVGwYHliukIoW0tJ0hwlP1dVdHno+EtJAuuQLzKjvqaS3OUYq23fvXQzr/e/wD9ak6OjZmS9cMjZ3X61MtqijgxnRt5ValBpt4m4sjn3ppf+KjmHOGdH/Gorq1ga6jMRVkDY+Bp3vIlik9E7Kg5wM9QkukMhGy9ojH3VKWjJeKaRdnI5U5bnOrSO3nVrxff4Qz6955L/MVtWnv6zXhW9DG3XB56j+Py0FtC7RvdSiPUvMDvpoLtjJJC5XUR7y93r3EMZ9rARxBjxocRggPicVv8pZyLjhNOEl+BptPvUjOuliNxW3U3DYNpOGx3dZZyFVRuajeSKRLWTZZiMCgVIKkZB6rGRvoXaVJ6LbTXCKd2QbU97bo0oQ4KciPGluwjSRHB27ge+lvXhja1IyY1PbC+NLcQe04mOF+sTyqHo2+n4qXkZ1GPs8NhVtoaThy5jdQdPd5VDqOSNSZ+2hbXsc3FjY9rQW1fbXSWrVn0jVv3dUUaxPK0ucafKixtrga7bGjTvV0NHDt4QFKsO1qq/t5ABDCq6auLJpTBbxrrynMirmxkdpURFkjZueD3VeG5QPcSSssueYHdQtXbUAugnvxV8hgjZ4p9IyvdUhCFJYxJsR35qNYsPdSsrIwPazVvNbEi5mlEeryxVjLAuNJZHbvbahxPZXPz2vO4eredxhnTf49fpdool1pokjJxnzrtwtF+0RVwllw2guSW7RwYyefxoWLluEFC5HOoxImsRkFdXlTT/wBoyhfspoEiURNnUvjmhGyDhj6PdTxTDUj8xTRwxjS/v6u1q+NH0eFY889NXYlkJFxNxRj6Bpimp5W96RzljWAo0+GKz30krxq0qe4x7q3r8nj+wYrQIk0eGNqe0tJOCkXz8w5/AVw1eSTVac5G1Hn1ssKadTlz5k0yh5+AxyYNfYzW3L170f4VGs9e2/XtWO+tt6tf2P5+rt8j0R4a3/h17dfEuJFjQd5pWQgqwyCPCpgP7e0B+0GjHJ8QfA0urc4G/rQwWyCS6m9xTyx4mlvfTPSGVhxItPYI8qDpkcRMjyyKVzameC3YiR9fapLy3AmjYr5bGmuJY4JIR2jGvvBakmhOoaVlQ0LxF1kqhwdudGdO0SF0/E1BJDM80qb3Emrsn9WtNgheVzp/Z86FkYZLeSQllMn0z8euxjuTi0eX2vhtyFGxtNJjPvyfRQeVQxSpokhXhnz6uFBjXxFO5xSQQQxKFGAzS1Nb6uI8oYu3ixpbKbAl4HD+2orckErFo8qtrSSXEkJDBhuAc1Fcxz/11DniONj5YpZbx0Zk91UG1FIbk+j6i2jRuPtr0CJ2SFF1TsD/AP610tDGoRFZCqj4ddndIPZpGyyb1LNbXPBE/wA4ujO9cSOSVZfpvn3/AI00wQcVhpLeVSTAe0cBSfIUZHiGs8yNs1piUIvlTmNdJkOWPia7VE28KRk96io5JF1NEcp5GhxkV8HUNQ760XScRc6sedBEACgYAHd+a58N6Ep9+dy7Gof1rVv49W/yV7/2Wod9b1isVzoit+rBrnVoP8IfIb+q3BKrJjs6uWa6NkuJrYsJwBpU7Mf5V7R7Y+OEaukWdyRHNw1TwAq4dHYxW8GkDuJzvVlGssqrdDRIqnYgGltIC3o1zEWVCc6XHhV3NcqJILVuDEh5au80kSe6nLPhXR/9ZGt45F1cOoIZpzJFLbvtpwMipGtm0SFlUH40lzHNJc24xx45Wz9oNQzx4e3fbT35I2qOdLiRek/fZy3ZJ+qR4UspXQ+Srr9Vhz6re+to+OEQxyRjng94rhzo1tafre8xpVl0vJGMbbasVe29vCq4uG1cU+5nyqW2TLCKPb7DmotPCiSWEdonJxjwr0JSRHwuGDXoTPqHC4erFRW1wxPDUAMPEUkfGUqnLEWKknt7gpxPeVhqFRz3M3GaL5sBdIB8evDqGXwIzWmNQgHcPk966UDD2vpG/wAO6ukB9e3RvWOPk55gMmNCRUEF9Lx0uotatjk3ePl88h6mPGpbSTaS2kK48q6OP1opF+Uuh4wv/Chjw6sjaj4V4ZPVnqGK5Vbj/CX+HyyJBIsbrIrjUPCjTza5Ynf3+E+A/wAaieDNu8a6QY/DwPjUVxImZYc6DnlSTlAZYwQjeGalltLhoBMdUiaAwLeNEtK0hPjVvOxOuAnT9tRylcyR50nwzTwatBOCreDCjF0gIYkONZjbVr/4qOPVwwkivy8KJo6RjJyfj6vSqzIQruHVu41NEuCXQgZ+FW0NzhZI0w2/5sbywCtIV0yRk4D1LeXNv6ODAI8Fs7+rI/cilqtJLhyy9JQ6jk8n5/INPboJCpGc+FI68nUHquk8YjXRVwBkLCd/sq2kiCmMzBZc+HqJaEkSsmoevvQmhzpO24x1XI8F1fdXCMrTR8FJFLc1z3VNIo1FELAVBcY08Rc9XHjdoJ8Y1r3/ABqK4vbz0jg54aiPTzo/Jyjxjb+FKR4V/Gvto1zrn1bcurwFIPBAPw/MN/zHHV0j6aDJHAVREJ2HnTRk5WOVlj/Z6tvkZYFb2kWCy1b2ZUcOaJjnzHryWmCJEjD+R6r6B49DW0mnnzHrTr9aNh+FdHFv7NVIPgRWTWnjx6vDVRhWRTIPo53pnlIVV5k0s7Tpwm5NnnWuF1kTxHVLEfpoRVse9AYz9lSrZR8Uw++xOFB8PjScZNDunaXwpbb0eaZ4JGQ6FzirpWhaLC6l147qThRTzsqDVojyM0dVvLEMc326rK+74Zgp/ZPVpnnSNvAmg8TB1PeD1aJ50RvAmgWuI8N7va517GRJPgaIiXQmdVIgZsO2lZNPZJ+NSxaS8kiMFQczVvISBqQaiT306n6S4rgXk6rwjhPhSxQ3AaRzgDHqcWXJ3CgDmSerUcADxoFSGU8iPXI8jQ8urvoYrNc9q3rn+YrGWAduS+PrsYxqYDYedRTSKEkIw6juIq1ikBPpMmgEd3rEDu9XJ2rpOKycaJXUtKPoUkUQwiDA9TRqGvGdOerWzAJ45rI3HqS6NHpGka/HFdGXhz7KUg48DWE1A+DKRUccUYa34nDd/wBbyrhyls41HC5wKAWZXz9Ttfwoyk6EH1hipFhfdMcxjaujbrkJNUL0WxKYQccXR2auguCtzbLID41Db2wDXM/u55AeJp2W5luIEXSzNyZ/1fUXVNJFbqv9kcEnzq8tbeZo3gudJLdrCeQoWHSE3Fgjj1jHZ1/GlgiRIlllRDgYwK120YingwUdeZNdGws39XnYCSPzFMAg4PB4iJjsg08kChYJo8sBy19d3C4IQXBaPzBqUyW3pRLFklB5f5TXahkj82xXSqfQLI320Q24Iximt8gxh8x793XcqvMDV91W0kt1czakB+dxV2ZEDzRzurcTtdnu51Nb221u8XE0/VbPU8nDXU/MkU3DjQCXA047iK5DPwq/tZGbAmeMHwFLbzW69lkVJIzt91elTEyTzZDE9w8Ke0DcKGzkbGfpNnalS7BtrjkVcc/hXSOqMYE2FOmtYRdXLOPUtvQuFJHBIWkDN9LuqTWnDmjbRIvganimANhanBT671f2q/MxSAp5Z7vXFOB3Mdvtrs1ypazzHdX8q8DzodXd8v0XdZ2jn0N8DRHET96ulYZZMiKbiBie40JIXV0bkw3o+haeFDKqPkZ1Me6jjrnWH3oZNMgxjeojHDMXtZ1fXo7PwzUszLJEIxqYSJgiolmtxFBOhaLftbeNRxXCnQ8ZYN5jupH6QtlWKdSYtJ3z3A1KtyghuICNag9x5Grjpi23bURwT/aRCop4Pm5F1DrihhGuec6YxXFnnecJMuUydLg1e29hFEFeNWOdgtZnmiYeCJ1yynkiljUfSKk/0gTxtQ8Pq0ks2OJurgd1TdH3eZbez1aUbvo9HEk2s667f9U969e1LzC3EGlv5fwoyb64mBWkdfpoD+FIbl1HoztiPv1/WNSNHpY6Ty3q5QD6QbNWMMnzc1yqv8KjeHaT3NKd61FLAwkw6f8AFKjyR/M+4D5eFdFSS7aLd1YHw7v40l09u91Bw9OlGwVNKIrGUDuHZWmN3EsQ+iA+T6l3caxouAvY8xQvMHjBNPPamin91vClM9xLchPcD8hSO6hnT3SRy+VdD9IEVDBq1cNdOeVcdJJYJT7xibGabh5Jb3nY5LdevSuobBsb9T8NdPEbU3mabiDVbWPIeMhq7h/ublh1dr1LtB8xAoXP6/U8llKbaV927OQ3xFSl5TPNM+uRyMfhT3FlMkRlHtFdcg+dN2jJI51O57z64q4H+K38a5dW9bd1dkbUCdvKgfwoGvL5YJPkrncZ508sEGl0ZcEsT30rR2sOCAR2KNnCoSG5RC4GwwP/AMVNHIClhcnXG2No37xUnpRKQrO8yMVOHzyoMjBh5dd8ndPAsn2irkRDGO3+NMtsRrliU799KZluDd6QjaoztjuHlViVgPYn38lqwCJmJJ9Uh8BU8lgECXUWh2JxoPjUNv0ZEsi6CrMxxioLfOrhrjPn1wyRScK4gbVG+M1G17JGwjOdEY2J86knCnhSW+C3n6jK41Kwwa9Fa6Jsu5NPax4ZriwZj1DDKOTVcXQJ4kwAIqGeRcyQe4c+osjIC6e6x7qIYAr4GsAY+Fa2hjL/AFtO9dkBfhTcGNY9R1NpHM1w5sgZyrLzBoldUkje9JIcsaOI07XPs86zoXV46fluAHHFC69Pl623yoaNOJI7hI18SauTjD8Yl/2q6Vh8XWQfaPW4cC6Ezn4n5W78RM1eXfW9edbbVz28DXjmseFbffmtvlykyLIh5qRtQCjAGwFatI1YxqxvRrmfVwcEHqxn5fbr2+QJY4Fa4XEi5xt41x4M6dRXfy9fpO2nYtw5NSZ+r1dJ21wxK7SxZ8KLyMEUDcmlijZjq2DaTpz8fWs5e6eFoj8aZ5DhVGSacW7bqe/bPq653EaeLGhDbzLJIV1AD1BbWaCVE+efuXqeNmDrqyp6sbdWO+rOfGeFcA48aL28sbNL2pY2+t5GpZ7i24K8HSTqyCfX6OiB9hNqVtu/1Bnb5C81d8po18Oretzzrx86+ysVtn8y29SCCVtMk5xHtzPydi2r+qTNwpBjke4+oZJ3WNPEmklicOjDIIrc0eG6vjng+pLIgyyIWAq3uCAOKgYgVdxJkPbPpbPUq3EqRk8sn1J1ldY1wDqblzqZn4amdw+iP3RtV/bSypHpuSygnHOlZDxmkOI1TfUaupp7dke3bSUG9AXqvalhleINmo6UkC/WZNIp/wCj4OLEraeK7aVz5eNXIlj4csD6Djkag9BI4lzHwWI+jvVn/WZLi3mk4TiTmD3EV0fcfRl1QN/KrO3ldY7U5JL+6X8DSPPcC4aP3F2VF/yijpIPWyhihIxqXmKxNe3MnhhtNW1wJp20TDOqXO3lV16PxGbR/eE7f/io5rXSjhBwjH72qk43v6Rq+PqXV1ee0WCUxQxHkuO+obqyiaWNPyjhLkA8q1RHK/DHVM0shhTTjWO6kPRVytxFjUI3TGr7aMlvmKQhlwfotSNMcyoSjnzFC8hnkWfWEUZ2A+FKMPxiATNrOrNXDZzcwzcDX/8A2pLi2maS+BzrLZ4njnyqS8l2CLmFPhzao5s7MgNAwTMpZsQQRncj6zeFIrHUyrgnx6v6nIY5VOoeflXphGNPvJ36vCvSuk2jVCMhEG48vOrdL6yMCXJxH2sn7atZf7m5Q5riaNeXCgcudPMULYIGKN3pJxHr01BPeSPN0jM66e12V8gK+Hr3nmw/hWDt1eNeH21knFCtq7NZ7u4Vt8tvyrsQTcEnCzY7JNJOF05JGPhUukaJImwy+Xj6kUkcqNJBcI2A29PLx04Y351Jc28KRxLuBLzceNQzAaeIurHU0ltCZ5BySjbzWLi6AzhTgEeO9GV04TrIyMuc8q9Fso+LcY337KDxNXC3E3HCELqC4GrvxQgija4nO4jSibm1jWMOpBV9RU1LcWxw7QcRD9lRSRsWlkRCMbEnNRzQtqVlFXYuhrW0ReEh5b/SpIoh2UG1G4vdckWoiG3QHu72pbvgLa6U0hRzb49YeY4BOBtmjos7plYf3eKijEORGzJqLAVfWttgS3egqT3V7dtUsUjRuftq6bSGvJpzH/2olramVSNa8x4dVzEfpRmrJ+/h6T9lXiEZM0evUwpZ4lKoYeGkgX5ps7mhDbEsO/YksfGrRomVRC+Tmp0jOGkRgD4VDaBBYiNQrPnPxxUgtnPCc5KFd8/GluhmO4Xk60k1zO9wYt4wQAFNKXRXKnK5HI1iRQ48xmsvbRH/AC03o8CRFuekc/VMdwgkQ9xoBRhRsBReGCONvrBfVeTDK0nv6XIBoJAojQdw62jmXUjcxWi3vmC92tAxWuFES25Ys3MnxqYRZ9rIXOaVLhNahtWPPqMSwxrE3vLp2NCysIY45JkYs2M6UFWwPumPSaEP9IS8BQQEVRy+NcGK3glH1w+kn41HqEVtEDl+1qJHh1xm2/JpZA9wvgR31ZzRxmVIJ9bIBnaom0+iwwniK0g7TN8KmXGqbSD2PHyoRS5jdkU/stXAvbm3WLG5jQkmmtJWtNBTTrGr+FCS9hNzOq6UkEg0qPId3VJdTXTSKVwkWMAVt6s/wX+FcjW+9ZHOu6t6Brwrbl+YRWyHD3Mgi+zvrSg2UaIl86borQ3pokwuPA/SqG8sZYxNbdhlz86O9aBHIjO/UVbcEVcRWdvGJdHY7G9RxCPRccNMx8s47qCcF7SMrhjJzx5CgiDCKMAeXX6W40rHGUXf3quYuA89tNJxUZPo55g1dFXBguJNZ0vpb4UqLwYkHcuWqW7s51QzACRZFzy8KkguZYijjGyGordm4ojXTkjuoGEP2fcVmyE+FcaNOG556TgH7KFwrPDcAY1xnmPOu3KZPioFSNZXElsshyUABXNRK1+4jBy2F0ny69xmmXURkcx3VPHLIsoeXWpFen6u1w9AXH41JKsk0Jl+cWN8Amne2kmg1+8FbOfvrErTy/GX/ij6PEE1cz39YSJAiDuUYru/QfSLvzXTEPhTx/3U7r+atjb2a56s8qzmu7et17VeNeFcsVn5ePWzxtE2pHTmDSvI73Mg91pfo1nv8a43o8fF+tp+U2/Md/U2qNZZFQytpTPefVH6A9MtI+MGA48Y548RUjzLoe4lMuj6o/Mx1JvzhFeVYz2a25VjFb70eVHvreu/5ff80muAusxjl41DPH7sqBh62WOkDvo+hW0tyPrDsr95qWOSJ4J4j2kbw8erHqiFJ4zIeS6hUE/fBcK1Ejkd60szuRz0LnFJJGco4BBp3PJFJqSOWHg4TWnazkfokfI7+pAT/dfzrNdoc+o4NfVo5rs0K8flMnlQZTqVuRHf681wqcQxrnTmopk92VAw67SAt/V7iIjT+t1bmsjcdeWOAPGmkgtp7mJebou1RzwZ4cgyMjFFPSYtQ7tVZ7qliun95d1AyajXfMUjJv8Af/OhDEhnuH92Nat4riK30StjSj5cDx9SyF9n+jjniY5au7PlUUELM2o6F0J2RWu4YIz9keJq2trRWkkkfth1K6V8aS0skD3DDV2vdQeJqPo6/t1ZpCMPHyxUFjZKA8wyJDvjfHKprFDGk1tnizEZz4bVqkGiZcxzL4NV6S5iurR9iPLP/FGaT39PaPiQ3OuPC3b9EG/nihasYbaxX3m1ds0j2jBofdXHlW/Km9FiWPXzx+hdxjf8xtT+of49W1drlXeKNeVcq39Tf5GQyE/0dCdOF24rf8VdQn3YZuz5A/8A49TA59TM1yigPoPxqRNnSWM4I5GoAecRaOp7a2nFrFbj2svfnwFXAnn9JRJdMUpGNQrou6RNbxynbxpmnspIFUZJLrtRubuzuLtHPso12QCpcgR8Zs8JTkJ1wf0iG/o7Rnl2S/61aBdQqmMYDYpIre4iEajAAPdV5Fe2/EuWkKrBozt3YqO3c4k3IB30Z5Cng6UtZhcMTxmaLWJPtq/gTV6OxHCJH/nd/CvS+j7jhsyhHGcHA86PAtrfiN70sk5Zj+FSenNCST2BF3DrgmuLd7uxCY0pvpfxxX9R6Nl+PDCfiaS64MIuIVYRJxM7nxpbuO6D9IK2ol/dbypb2BY4JuHw5Edsqw8Riorv0vN9GdmK9jH1cVbXcuRNbjbTyNXM6Oxe5bL6u6pZuMkckoAcaxg4766USS5kETvnELe/5UIoLG4MIGAODtj7aCxdGzKg7uyorU/Qraj+qp/nWj0KS1XmNhp/CpBY6uLke7z099QC7zxMd/PHdn9LWfwavKt+rfnQGDQ7qFbmvL5O5ZPeETYqy0EYK5+2jw41TO50jGat7W0IWe5bSD9UeNXFhNK00bprBPj4/wAqeznkcW0MeoBdt8VdTS3cnpEBCQvncf8AmKPHGm5hbhzDz8a6V4+whYnntpPP+NDV83xWMX7NXqTppjafXFvzFTvdWcnSNvMxdCh5H9YUFjtOCBy4jAAfYKt1hkVZI5NRY7d1EN2gdjnvrRYXrRQd0UiawPhSNL0hL2WDARoFFZO1dqWMf5hXbuocftiuxiT9iHP8q9nb3P2W5rPol3nx4NYWyuyf+1ivZ2RX9uYCtraH7bj/AOK+btR/qn/iuVmP8zf8VvPax/sxsa/Lz9kArfpCX7Ilr8vl/wBta7V7cn90fyr8ruf3l/4rtTXLf62P4V89d/79fPXJ/wBau0rv+1Kxra3j+6sJFGo8kFXt0HXRce6gHL9Lb+taf5v5V41tihy6snnWPliGGQaKdH6buzY54LtpZPga/wDTrgH9pf8AmrW8toUjntzskknvCpbq9Km6kGkBTkIvhUt6rNxJV047qmNspHGbU29SyouJJQNZ8cVfQSIJAya8Z+ltW+EUfZQ4twu/1e1/CgbO2ubjzVMD8a7Nksf/AHJh/Kves0/eNb3cA+EJ/wCa7V+P8tuK9te3L/s4SsvG0p/xJC1dm0g/2xXYiiX4RgV7xrnXP9H7/n9t8WoV8aOqj31nNbb15V2az62PVZjyAr2fGk/ZhY12bO9b/wDxzX5Fej/Rrs2N0f8AJitrJh+3IBWwt4/ixau1dov7EP8AzQvWupSxGHA7JP2is8EOfGQlv417NEX4KK22H/S+/VbY+u1GhQzRrFDArevPwrHynOuZ+X5fb+e4PL9LW/7Z/hWk71yx17b1zrlQxW2/6EyCCPL1hJA4dCcZHrxQMcSS50Dxx8gLPHa4XE1fpaA/4n8q3XesYx1Y6sLW55V2q2+VlmP0FJqO/trh5blhrlgf3WXwFRyp7rqGHyMMNo2ia4kCK3hTJdqUuoDpk7tXn63HtSVaN1Jx4ZoMnJgGHqOvPRO4zW9BkIZT3jrxQhi90dQ1EDJwM+r0ddf3VwAfgaNGitvIGI7qxLKiE9xNezkVvgaNusi8YDOnq6MmH0i0R+6l4rBNTaRnxrB5mjLNso+80J7my0W2R9PLj7OorEWnZeYiXVXEiztsVYYIP6PVvCSu16grbasNzNHz+Wuf2f51Hp5aFx91YAwB1Y7+t/R5UlKe8AeXqdFP3C5x+FSui6Xk94+PVtWScCgw3B764chc4PaKrkL8auI2OxQirUSS+0VNLbHuorbwtcrGuuYjbStQehdp7jdTjkuM5xUsN0FW5gI1aeTA8jXS0PIcRZB9tRWkLhJbk4yTjSvfUERx3nbz6zNFs0DrJUaw7S3JAiONt6ksljR7q2BMjnk691RXUR0p2ZedWsVzNx47yHWhI3VsZxV1HZyKgt4RIFIzr8qgukkeBDEXIQ75pzdXEnEXSwUYGVNSk8o8ORUbwh8lQ2TIepmtl4UlqC8TLzHlUUrqGuJhqldhuTmouCFSSV9GvT7viae5ddJkHYBOSB4nzNSvGutkQkL410f0i101y3GVmX6K10fxjot+K2W+qe6rWdjm1tmKs/dxMV0bJL+TpPlz3ctqIftKd+dW0WrTHNMFlOcbVwbWOKwhHeDqatEefEluZPj+j28nWtqNePXv/Cs+Fb5zXd8rPbyyrHJJEdINQSxqZWSIAqOeaTjWQiaU4RuIGX7a/rF4SfCOMAVeXF60gXVph0tjR8Kkl4h49tKY2k051AGvTZmla9kUPxA+4z3V0bf2cYjmj0a/11PMGjjrEyNEsUMitv72ay81uM79mMmukmdiQswQfYKvrubV2jo3PnV3bXDtLbx+3EZ5ZNdK2sA7CRceFfDbeo1ca/Sl1yH6xpoZAdBXFQnl2mz99dOk73UjmIJ347q6OF0QkaWehWPLXV3dQj2BiWMN3MavDpOmW3BBx3iv/rFtHHdLkYkXO1Tiw1f0fozg+6sn6vXPACBxEK5NdGwRe2eCRNRHgBzq6vSV4MkYQDvq6guPm11iM8+ydxXRcnDKxWkW7ke82MYFSz2Txqs0IjfWfd8/Oltkzw1XTUjyyrKDGsaaRjYeNTQE44i6c1FGx1MiBS3jjr3rRcRrIvga2MuPDimsIMVmWBT37bVw2QMh5ht64caKkY+iBtWNIK4xjG1ez1xeSOQK0SDWh7m3r+rXE0I+rnUPxrivO8jYxywP0fP5Y/jW9beNcqYihtQ8qydhXn8ht6z5GSwxSI3vQyPHUfBdVdM7PyOaRT9FQKmiszEbaZtYLnBiP86ez4jLqG8mN8+NejTDVFpC0kQUcNAAoO/L1J4Exl0IGfGoVnxxVQB8eNXDWtwiQXD63Vl3U+VMOjp14L7vHKue14g1PdO+qWYAEY2Aoz6PbFNGr9Wv6lPNbJ/dpgr9meVaSS3m3fQhtwQgOdzXF4UfF+vp7Ve0RZBn6S5rw8hWO6sHcefry5+o38Ksv2P5+twyrmLVoMw90H1mZzhVGSaSWFtUbjINR25cCWRSVXxHyu3yZrf87u/2K5V49fhXOtjW/wAv3fnzrn9U47qit9fE0Z3Ax6t1KnvJExHxq3tpVzG0QJ8c+NBc50jGT6hZyFA5mpFUhlkjIB+yrYH6BZfxq3ni2nt3yP1h3imeRgiDvNLJEwdG5EUcEHGx8q35UwQGOQclPeviPkd/0L2auwMbxnq3NcuvY71jurPd+cT28Nw1vDbLuycy/dSvcY46MY5Md5Hf1b+s80vuRjU2PCo5Ym1RyDUp9fM0ixjxY4rI3B5dfSab4kjEg/DqneB2R0wwK/Go3+uit+HXdWcazTPoZDw4yQDVsBaXEmhdOpV22q6CxaLeI6QW2bVXSOvTwIXCJ8atrWGTRFcDDY5+941fdHOxb0WX2ZPPSa9Dl/JbZBJKPrMeVMvIR3DoB4CrqwhuRCIndj7PV34rpSC4nM2nSRkYpre8Aa1t4s6Sds4zms/Qadynwq86PhbQvFkmfH0j3Cmc/li+wKd+urO5h7F1ZBT9/MfjSuvJgD+ifj6s48Y2/h17Gtq92uWK8K8q3GPlsZri3GdGcbepcYJBUA/jUMn141P4UOJIqZ5amx1dL5970j/mniDFgZWfPxqO6Eh4HCKMmrv+FbnHx6lS5mVC3Iepcpj3omH4Vp16SIW7/A1YJJOnHkiGFLbkipJ5PdQcvGknePhMcggb9cs5GdA5U9/0igubgxa+37o8hUduw/q9zGZYh/dsPeWjIRqYnSi+JrXeXrrO2+iM4VKhjv103AiaFm+vscGvQbJ+FwxmaXGdPw86M8FxPMp7M+ts7GrJh/cL/DrbhLp4jZfHeauYGUjg3LBcjuq/trS1eRrmTiQyj3Vz41LG0ct3BLhuJEMkN35FWFzFGwgg+c4i6O+pb3iBLdlHZB3c4/hUl7YcOTioEkjdtPLvzTa4YYQx1MEbUSav7olMXONIHMU90ikTumhjnbFSTR3Rgjnj0TqFyWHlSRQLpjQYUVcyo5eS4fUduW9NdmBTOe8/8Uj3EsoVBjhqdmrAGP0Tv6reYNY8Nq8+rOa32oYOK+FbVtt8q80xwiczXR1xaW8g0sQvEOnXTm69GSNGDYQkmo2lv23Rdo4gO7zoAuZCO80ulTJLIdMa+Jppri4DxONMsenZM1DcRjUy2w2pQsDXEkg9pdz+6n7ApY1OeGoHPeruGwjic3CB/anAqTiraL2D7pao242bhkZeIR31PJ0q7TcMcNc93nV/DcEyS2GQCe9e6uNNp4ZfMsvN5D4eQpYmdRI+dK559SJa3Jtzq7WO8fGma5a5mAGSzTMfwFXo4MckqM6q+M7Y2NXE8oIuOcO2DtUUFnCchA1wxGAWHhUUL21xDIihTEISd6cyW0tuAexxNtQ6pYJdlkGM+FQRdLyILWDbRGd5ccs+VNcWDRnXnVFMOX7J7q4UxKbhgV+ia/LLeYdxkhIP4VDdXYh4sIwjRlhT3VrcyWsz+/pGpW+ynjmv2dHGCOAtLGk7vEowqEDA9TfurA5fpsVKPBj18us786xmtvlWdYWnP1FGc1BdGCGw9vleH72rxqYzXr3C7B1WFVFW7NcSTAxLs2PDqCXOrsnUrKcFTTwv0h6RE66SJoATj4iltx2o12APhR9Ge4tVPNYZcL91cWLiGXGku0hJYedQXyy6eEpVkx71eNNFFIzx6yygj3fKpuAX9q+s57qnljXDTHL0X4LRMefCkKfwrXBbqsn1yct95680eDGseTk6RjJrOawNh5VzNb/9F3C/4jV8OrzrlW21bdX8vlgtzGsqg5Abx+RMMNwjy/VB/wCmbvu9pXwrflXOvGhiu1W33Vz2/MiTyFCeIaRkjB67KwDFVuGPExz0irVrSIIYJVwEGOznf15bgJxNH0aBHIgHqvrZlAFvp0nxz1PLMdKKMk0Li9d4LZ944IzhiPEmjEZGkUMdBY5OnwrU2yjvpXQhlbcEd/WzucKoyTUc0B1RyDINdnfqNveQcCJ30Qy55nz+PUTGwbB0nB5H/oC4HiQfwrs/b1jFZzmt622NcvzLt4x51eQxkFYrk4x4VvtTCKVHK8wrZxXRMv0WZoz9tcvUwGUnwz13qIyswiJIzVs3jCn8K/rMyR/E1fSW7ake3Tf4HqtIPozXKK3wrA2A2FRWln7IOup5yPdHl50BHe3ck07aCrNsw79qS2YaLi1HDkjPMeB65YWPZkUrSRSQ23DhXHGafbHwqeKzSLaUu80mcHPgKzcTxsPqpHj8anj+ljUp8CKtbhvekjBb40UtVKoTnds/9AE/WRazqG/VtuK376276HlWQaGfktvXeWTZUGTQuelQ3Df5m3zsB4nxrpOy04VSGX/z7auRwZZ4rdtAgVtOo+LeVelXCwwSaNCxxbAD499W7KShSde0OYr2nFuH+tJKTnrXo+GQwxiPiTOOePAVHb2Fp/XJDiMq3a+JNQNq1SIuiXPMMOeagjvXkg6OKktIne3gT3U7dHm3FwgypWXc1A0XakSLTju1CjJfQS/0gx9oZYScfDyqeeBJDbTRY2jPZbqKwbTowki/aFMQNE6fPQn3kPV6TcD+rQKOFv7zf+fwpJXUiZPdkU6W++pZYWAkXGnO/fSFxpYqCV8D1WdpKCbZQZX/AFiOVdLQ/W0Sjqmkc/Rwo8T3CrdJveiiyw/GjKsTRb95zn/oCI+MNDVtXPatxXhQ22Fb1iuz+P5i0U6643GCKCwXV4iDkvGyBXFWMcfTpMh94itc0A4v94h0N94rMhuJsd0kxauAH4WCpU+GKGfDrjuYp3tZ0GksozqXwNMYQS7+9I5yzUbgRKJzzfG56vmo/wBwVpjVUQcgowKwGNc+sPIhWYcpUOlx9tb3k0i+DhT+PWJbuTipGcxxYwo8z49dk7nRA8ZQk8s4NW/DZWLWzh9JzyrCNoPjjNLLMz3Ey+60n0fgOQ6sIAo8AMf9AW5HehH40vdQxR2+6uWK3768KNDu/ReiaNZUP0WGa1WttFAx5lBv/wBCWjebCtPUe6hnc1tSlq86yM+f5/0pAzE6ZFdc+BHV8K03NwkZ8O+leJw6MMgjvoRltUp5RruxpnhJ7JwykYK/JZ/ON/0TA3hJ/Kt622rnW3Kh4CsLW4ztXPA/OWERAfHZJ5Zo3EqQXNsi9vR2XHnS3990jjUNYiWQKoHhitQu47GM+6oXiSt9ndVzJfC7ngB9k0kOk0HWOxgjO4Eko/5q5f2MbyRBW0qz+74Vd6rojEv90P8A+x2qcrcMjPjUBIMsfHkc1IrTcG4lYkl49XE/CkiijZ/D+qt/zU3oogRnlPHlcZdafMpnuJN5ZG5t9n/RfwkFYrnvXwrPfjqyPtrwrUeX51NArhDIuMmtDJquBGQXU4BbxpSj2qSd7anz+FFLyeF896xEn7yaCw9IXCqP1Fz99ca4El1N9eVudazaJq8jgfdShY1Gn3duVablFlXwYZr2IK/5ia1zW6NJ9bkfwrNtCsbEYz3+tuQPj1FnOlQMkmgyEFSMjFSSsCQilsVFMoIWRdWDTWob26prIx3fnG357n5KXyZT1nzrYbisBVzWwxXPaue/6AkaAkNERJ9gpJeQdA34UJLeRZEPIrU+iMxmJ9O/fTGfXAMao9Q+cHLahiymjQ/SkIX8KPRUYNr2svKDzjx3U/R943GZU1wy97p4HzHVJNp1aaEguLQE8k4R/jVhFcw8OGKbTIM5Bk6pLTgzzFk7QiTuNejSxTewdk1FRgeRpkk91xg0E12stvH2Y2bUH8hjvqGTpCFEku4SvvcgP5+X6fu8fU/n1Cs91frUe7vNcsdXdn87L281ud/m3U4I+NJZw2/AvW95Zdwo+tnvrEspmPjpApzJxpIVYolvCDmT9YnwqeThm2ikAxBxNeD404lvLlyyEYU6VP2VbyPAjybq5ftbg1LZXeqN0lYx4jJ1qeWMVczeis0F2+vCka0PwpFtQgmjcOmrau3jXjtY5Zr04sungcPT35q2ubMwjgow9qT31/Wpom/Vjjx+PVN6OrtKRpUJzpre8HblbiPpO6HuwfKgJZobiMfSZCr/AIbdV06tnjya8eG3V0XDJ7g1yY8SOVWV13w3S/cedHy/T10P8JuvGNqzXKt+R6s/nljdQFdEO0mW3A6uDYyW81vkkLLlXH2jnW9taj/XP/FSSTuMvjsKxKj76CQRrEngtYB2+WtL62TiPaSZZRzKHnU00MgaM6GU/wCas+P6enA742/hQOMVkb1vWDXxry6vD88LSsEQcyTijHa3KSSDfArb8yzXFmtEMg7wSM/Z+n2H6po5rIrfvry7q7XXk/D8659XRlpJvFJJqYeOKsOEgUxI7tpHJeQ+U4GscbTr0d+PX3/6Bb414jFZrnW/Pqz+NdoY/NLu0ZNDQ4KnPvDqkkx7qk1HcOAH3DgePq9F3f0Y5tLfA1PIPnJMA/Aero1DV9XO/UskLCRG5EVKIZA5iOHA7jUSXJYGQEjSuahuGuFSKX3S5x1WN7N2YzGyuR/551C0tnJDazPojmLZ3+FSzuM6By8TVtMl1JKoybnAxCg7kHiauJYVgihhJ0xSjeQDmc91Nd3FzLHGXKpBA+nT8TWLeSRQ0iq0jNqKr8aumLMeI/Yy+rsDkfif03v60v7ZrFYrPdWquWBWOVb8/lujeHLw4Xk0uM7H41YejzDQGLPhsgjzr2d1A3wkHVDPHzhnVq1D3WGRUVyuGePIDqfwq3VYxI8rePdTKe0p2q7trV4bdUbUyTIWK91f1maGQfqRaf59TzHtNyQeJqGLpNzJHejbwVvKpdu0GXH31DJdW0AR1B1rLvj4epDcQnNsyFNJ5a//AD+FLKVYX7R8Xjau3q50Z0Ht2gYbfWFW/CcdgHiZPunNXzBg26rsefPeujtKMcuUJA5Dar5bhXNrAxWLI2O9S2ku72kpiz+rzFWrWyrIISSyl9OeXKreOe0FhawyCRvaBi2OQGKkgkYxhjnV4GkiltYHVBhWhl0j901LF7vEQr94qRLgq7u2rEZ25VJF0gs8SMuGVoWqW31mZbZsRzYxrTu/Md/0hcjl7VqA5mj/AArbFbGu45rflW3yrx62j1jGpOYrj8czEsOzKctipPQGs1k2ZeHjVUHAa2MhjXIUDOcdVzF3shxVs2d9Ggn4VfWjMDLFNuPLlmrT0RRNcQKZTHnmMiuPb5xnDKeaHwNXMklu0cMkWNY3U45b9fDiYLKrB0zyzVp6daeiLA/EdtYOo/q1PFtmRCBnxq3guNJljXB0nI5+oIOLwsPqzpzWn6JXTSQWoKxpyyc0ZJ7OJpDzPLNRyiFFkjGlGUYwPCtvkee36Y2+Su/268zQ6vj1ZzWO75YaWEM6+7IVzt4ULJtCnhheIE7x31Fb6lcxrgsFxnq7VcKzi4UedWM53ppEiRZH95lG7fGtV1AHfGNQOk1J6GrqZPe1Pq9bf8x3/Sm35hc+ZB/Dqx39Xwrn1ef/AEAhlD9o4GhNVDNzpJ7mRh/Ksfo9/wBhTWOQrs144reuVb715fmMggcPw20vjuNb1tXMDwz1ZBBHiKLQSJIo2Ok5ro9ycKyun4VwoLhHl8PH4eNa53CL4mlgkt5YS6l0L/SHw7qbjCWJFJHEZOySO6g8PRs/CbkzOq5HwoyzbKPtNQs9ukNm+c6t3Hhnw9TbrlltkWSRBnDVFcelxQpKNQVbfJ/E17e644xy4QX+FNoYNoOlsdx6tD3kCMO4vUotpVk4RAbHqIJHVTIdK5PM0NbhMnSMnGT6ot9Y4xTXp8utlVlJXmAdx6jwK/tUUMy+AppJmCIvNjQGqRUJwJWjITPxrD743q6z9Fc/jUTd7RqT936PGRsYhW1Y8a3rGK2rkax+Y3PRolKQzyCVyDg6eeKgt1d2sbrKqH34b1apkhYoWk2OM10SC4UGXkTUMiO0cgmwMedQw9GsYYroiCZc8z9arQWa6I50aKRfHAyGqwhjYCYvy8AaaJtETxj+rhPfDDliujbuUECNfb4j18Nj9LTTNb3XHnk9+RyS7U6qcLrUvtnarN397Rj7thQs7o+i6sNDcd3E8Ke2v0Ed5GNR0+7Iv1l62CtpbGx8KJuLq7nf6wkKYoK8jSkfSfn1SA96H+FWRP1cfiaFdJRk50XfOr0zuWKXJUZ7qmMcEYAUndc1b6NHEky74IznPqdHSfSS7TFQT75hmG3xNN8fUWSdljSS10IzHAznlU8cEmq0hi7uTHxqeWPd1Ts/Gra5DH+kOKmSDscnlR67k/8A6UfypIpSRFr1PjY1L0fBguQE0KuRGKha3kEsegAOO/FXn/aNWrf4Kfw/R8B/wv50e+vH1Nuea33/ADDamvy4yY9GjT+OageUvmCTWoHImo5llktriP3JY/4Yp3u29NmcYLSqOXkKVbkMVRgwwcbio3uE1NE2tN++g5ALDkfCh6VCkuORP/NZtreONvrAb/fWxxXn1skyCSNhhlbkaL2sAjcjTnUTt9vWRyz30OKJpyO+WdjRFvCkWeeOqT9g/wAKsv2T/E9UkpadOLjiIkmlX+NdJ2wXR7RZIx+pip4ojhmU/b5Vas9nGZSvaLL2s5rFTTKAxjQtgnFQzYK8RA2D3VwnYp2gysOYIqSOIapCynHL6VE+Jp7hlLhSNvtr7OrRPHHKn1WXNXM6oiQNCqJp/HbqtXisjNa23aX2ioC3/wAV27BU+NyD/Kt+flUot5A5ibS2Knu208GSEIN980DDFxjnddWNvKnax6Hm9Jfm7oEH2mhE7BnLM7EDbJ8KvP8AtGrQf4Cfw/R9qf1WHVsK7ierzrbn+h8eIpYm6RjgjTOlEi4n4mgZr6abH0dKqPw9TfqRZ3/qg3aID3z5nw9VPSWX0SM6hGvN2/W8vL5DRaQRnI+dlfCj7OZoop1ux1SNjGpvUTMUsgdtPYXIHx8KnhXoi49ohXJddqtVlQxyCJQynu2/R9q3mwo99b1nlQzW1Y8a2+V3/QPZIPwP5jdQx512zBXzXZPq3EsXvpGSKS6IO8Ws5GO6objGC/vAdx6kWeVYzIcKD3+pCkurXK2FVRnr2wfh1cvz+A+Ev8q2GDWTWPGs8sUcc63rGP0He2rKFaDSV/WU+vuMdYrpO0c5aK41Z8jRdzpRRknyqSWCzuJYI/ecY2+ykmgOqORcqet5ZDhEGWNWa3cUcVteZ4Qxv99NPIC24AXlk0Ft5RxdGoxnmKS2jiae5cAqg2H30qJbSNeatLW+fdI86jnh2VuYPNT4VeWj2r3jLKdCocaV/wDMUzxK6FH0OjjdTU1iqHVEmovnv8Pxq8jRCot306s+9/5irgskjrdQBsRrk5/8FcSa1vY4xzZoNhRXocSpGPd0xZZ/t5CovStJn0+008s9TegcPj93E5VMbu5jiJjbMSwg5+2oyL1ghhYCPhKdt9s1bdH9FhuMFZpWXn44qCddyVw37XfWjiKUtlB5+Hd99b9WqV1jXxY4qTpLpWxlaLV7KVHDCNfhRmj7aaNa476nvLiTtTlnLFthUkpPzkn8K/o9pSLaUqdK7dn40/REU7i0jbVke8F8M1cdHXjcSSHeNz9JPz4f9wVgDPj1Dxo46tzijkbfLw20v5NLFyOBg+NWnotym82ZNDg9miI7u3b4Sjru4UVh6OQC2edWVqqBvSCdRzyFWcXR6iSWUn2ZHvAUs8G3cynmh8Kaac4UeHfTw3kCwxmHiqv0k8M/HriUxyTzS7Rxxjc0P6Ttp7ENyd+0v3iuJaWdxJCeUhKqD99a5vZADLajyp57KzkuLeMZaVjoX7PGo5VUqHUNg8xQ9KnWMnu7/uqOS1mEi3FuVPxH/wCKMyKGk1BVDcqaUYYCPXsee2aguCnDMo5fbV3cxTmKKFysEe+DioDNnitGuvO29Pa2vpPAj2b0Ze25+PcKnlfMMcoGmAy8QjzJ8epzAoaXT2AeRNM1zNHZr3ARq1PAekJA88WpnjUKSf8AwVcEXV1MdtWp9tOd9q12ugiWHsqDlpGxVrBJ76rlvInfruMfq5+Ga6JuIpFSO3RW5c+R2oSIurgSCUr4rXRM3QrRCV5fcTuXvyPvqzvIk9hCvbfPxq5vGixCY+w+fpYH/wA1dGPHotx29P1ZO/766Q4iSPxYlKrGmok7VczXY0T3UvEaP6vlV1c2ll6WtyNjrxoPn5VKZYVuxdHXLwWwUb7eYro26SFpI0yrkfR/8zWl+0DsRRg6Plgntc5WO4ypX7RSekQWsUG+rTLrY+GOto5BlHGCKS3t9XDXPvHPOmELtK782Ix9lSNDPc2om+dSFsK1RC3RrZ4/clibDj7e+sS3EU6eJj0t+G3UUnQSIeYNPF0be8K3fOYpk14z4VFbqxdY105PfXKZos6uCZfZ/dRlsnNvq9+NRlG+zupbwhuMq6RvsKuLtSzSz7HPIVBeRheEsRSTtfnzYPJ1oY7qzvXgK5Y6uQxRxz+WhCSyrZM2G9GHbHmasFn7cDg8Rp5M0osDa8USA4hHd9lL6PbzyDAxoszitSrInlImk9XSsDj+scTX8VqO6I/qlq3BaTuyaa5ibiW9pDp1j3dRq49BdZLe4g4jaeWqrSWFSRFJqbbIHhRlt51nMvakm1bsf5VL6O/E4TaW8M9UZlB1RnUjK2CpqRIFZ21rlVGSRmrRJhpdYgCKtsRcS0DZm548s47qQ9J9K28kS4028Q4afbnc1+WW/wDuVdvdQm4Mz5W7ij4ox4eVW950ZPHGUbVJEUYZ+FcOAgSqwdNXLNcC6gjsIG+dIl1M3kAOVPAH1W4bMP1l8jU0ZgkuLKWQyI8I1NH8RWqLXt9aMr/GppejJIHimOWim1KR9oohLayQ45tcE/ypeJjXjtaeWeuG8fUJ4RhdJ2+2sHBHga4tvZwpJ9bT6hR1DIwwQe8Votr27jh7otQYD7xR05JPNmOSaZreCKJ295kTB9SPSwy9sVYDuP6WuMd2D+NbdqsZwMVvyrlmhgVvW2/ywjkkkRc59m2nNWg6Kt3k1v7R5PaBfj5VwOjUjyGGpEjC6v8AiolcaSI1BHht1pM7zQyqNOuF9JK+FeixwKLf6hGc/GuFFGscQ+gowKcWMegv7xJyerUbC31H9SgkSLGg5KowPU8ayOrkPu6uf5wt4Y/6yowGDY+8fm5JOAO+gVwVPePz66x9Sh17nq25UMdn9F8WdiEBA2GefyUdjpYu/Nh9E93q2VqAp4+dXiPDqzvgb0LjRw+0VxnPq7/IdFdoheMQa4PpMXFzjTqol9gOeah/q7i2nfRHKT73wHhTRW1qZyigsdenn4V/VLSeUjZ84UKfDNGa4XTj6IOrejFd2ot8x617WfvoJPkoGzpBxmr+z/s42DxjwB/Prkf4Zrzry6/Gt+Vb/njzwAM4Ye8Nqz3YzXSC3jZaObYZ5Dw9fl1YGNXhnq26rvHcmr7jUMg+nGrfh1i2kkPEJAOlchT518KZujrOS7jX+01BFb4eNRToCFkGcHu6iW5KMmoekpt5pZHk+A5DqBupljB5eJrVbyrLtnY93VYXcMyO8NwqNpYHYmiK0cTiSDmkS6yPurpOKLIUTcRQRgjPl6tkQNVu5ZXAHM91N0k9w6SDt+j/AENFG6T3eFxB91WxuZDJI415Pga6QS4YuVfO/dVzZcUql4UK793LA/8AO6v6GtZ2SFcyRPncDHKg0w0zoTHKPBhUDjZlmGKaDMRm0DAXdjIeVYbJmEacX+dRXk0scuiPTAkXuRj/AJqTh+/oOmngRgyvAshweTcjUljJJpkK58x4GktOll0THaOYe5L/AMHq6Sce6qIv2/n0oPehoZ36s1tvXaryrbn+Z+gPFpUplX8TTR6Z5inzhij1BPjSzQOJI25EUV0STMPeEY934mgV3BG1AxrxZ5DoiT6zUnH08XT29PLNXEKBtUGMt3GjYqDrVNRbuHlV2P8ADzVtJ9aFT+FdIx2UsVuGCsxkTVtit+klz/8AtVoCWTit46dPUPQOHxNXa1+FAvdxTDO6m30/iDW1RcZ3UR5xpPee+k6MJ09JcThtLj6H1/jio36PilkveKNM25fPnS6ij3TYHgM+NQSp6TI6sGa7l9muPBEriONRJwiLzZvCpXmW2ETRniRjcqPjVoV5iLT9opC0mnZwW+qaYq2q4t0fIPNT3VANKycccSQn6TZq7MWdWnfHh31Csl5LLa8NdMcPYXH2c6UALDEvZUcgOq6K8+E38Ksf+wtMzclGTTdIXSrLNdZxq3CR+ArpCKJtSRRgD7cUti2fR44uLMAfe8BUNxYwrGIm7WnwqZrHJkkjBXT4HwqOO2lS2wN1kGls9+amltn40FzDuy7hW/8AB1NNNnQuOXXw7ZDJKHUgCmgHvGHRue/FRWlzjUIuG+nektZbBrrhDSkscg0sO7NTSTvG0lydcuke63gPKrW7LqFgHu43NNeAHjlOHz2xU8qf2xBYeYrEqLIvPDDIriRW8SP9YJv1avRog3kuKwNh4CnlihSOV/eZRzrTcRLKO7I5UpY3LhDqVGnJXPwp5pjhVppbgYnuW4jjw8B+fsD3GuzWeQ69+dDI+H5nDeQ/OwPsfjUHDyDMOI3iSa6Ue8iZW1l1GNjt3fhUUCROsMzcS7uWPv8A6q0TsqgfdQ6QS+RMD+raU1Lp86lW4QR3EEnDkC8viK6RtruRYXebioX2Dqaub+C3nuLVhoDxDPa8cd4qVd8PGatUnRo3QFcMMd9S3IT+rSW4Qtn6XqAQ3JtR9IqgY/jX/qN632qP5UBlm82OT1LfhlGItBXG5NbHHwrh3GoYOVZTgqa7PSAk/wC7bgn7wahc3cazwPrjPBwM+e9abizhcHmY59vuIpbcScQBi3LGM0XKSYLauFxDw8+OKE3DXiadOrHdR9Cnmtoyc8NcFfuNBWPE8S3fR0QtDn+6lZB91ajBxWHLiuX/AI9TI/Jhg01lL8/ZtoI8V7jRVuRGDXocQgMafNXLN7o818ahe3Z1kjzqf+8zz1Ut1b3D21yF0FgAwYeYNFLq8kljbmojVM0qxDSi8hW+/wARWBsOqCwHv3Mg+xF3Jrbl+ZLNeScbQfZpjCr9nef0BOPCRh+PVvXiKBzt1Ecvk9vkGgmLBH5ledRxJnSihRmt6ItJbm2Q/wBmkvZoqS8mrnrcmtNtPdWqfVjl2/GuHbA4J1FmOpmPmaCzxRzActaZoDYAcgOrfJ+W3Nb/ACKXFvKba6jGA4GQw8GHeK9sYPPSD8jLPu00mxZjnbwHgPUyaDxsHQ8mHI+qZJnCIvNjyFAruD3/AKIuxy9oa36+dc8D86mwjJw5DHv39dralCWuM4Yd3qNJIcIoyfhUs8yBF4xEYHh8jaejPoL3CqT5VJw20qjanHiKiPPKL/Dq4l5pPR8svDAHNB3H1yzEBRzzQZSCDyIqS1R8zRrqZfXgaBihM6gkeFHwrLEL8durLEKBzJp1HJ0P8KCn+ykZf59TtbPq4b6WyMYqacjOhc4riXJ1SLIVzjFQQDVo95j3eVWuOXBX+FG1tJTEUTizSD6I7hVvJMMSPGC36GufMg/hW+c9Xn3VmsV3/nG2TU7DI47hyD44xReZ1jQc2Y4FcS3kSVPFTmujblv7KffA7u+tp2H+k3/FBo86TyyMdRiTZp3WIfbQihACIMULPotIxoj4kjycvhXCS0me8XaSJdgh/aNF7lIYEG5w5Y/fUl1aaba2X3Zph84fBVpGuFHpHDyw5b1wrrC3SjVywGXyq3tVXU0oZifACrWziRWD7yZ7s1avp1aLlTipcIzcfsjyzVv/APTDp4a4b0hRnbnW+1XXkmahfvaJT+HqlnYIoGSx7quIbd5JHddIOjarYWtnGFVNPEmlwDjyFXAVovSHTtFR2dO3XNFYKpeCPiTO30R3D40bHpFg8jRCaJ8Y28KvUjTCW7BQ2fe/8xV5Z6F4UCbHvzVvFo7DMW1+Y7qje6a0l1KDyKkfdXSQvc6IYmdV1bbCuiVjlaNp5NBkB3C5qRGbDuwVR9bHOrWNTqxCu/2VI0N61tCshDKoz2q9rK0zeLKB/CnNrFwzJ72/OjBKzIjEHs10hbDJ4Nxj/wA+6rq2nmjWVkysZ557qtI45AZFiAZfCrpngPvgOC+M479qt7SzmMsE+Q8BfVwvMeH6Gk80U0c7isc68K868z+ag2i8biw6RGTtUY6YSLgyHAmi+gf1hTyXdmfQ1bHERskeeKF0b70ONydEccQP4minSc00kbsyQFHMakrz2FdJW0jM4imBTU2cKa9D6RPHhty0w7sjuoJCoSK8hJKjlrWuJjJikVs1zOOvo7PL0xM0fjWojtYxnyrpBwPnArn470I0QCCRlDyFuW/KkuekLmOeRBiNshY4x+oKSysnI42dU2g+7+r4/GuiobID0mKQYUd0ffmrae5IjgeBow55A0l3qaS0VRmVELLqFWy2L+kOLhGwimrzT9SrUjlwV/h1XXmmB8ahjPNI1H4eqVuVVovpBuVXHo/D47RMo4eXxt91W0dv0fcTmNSurIROfiaj/q8UM0luRhn1jG++3wpROyNL9IoMDq6ZtukSqvJNqIkbTqSmvYd7W2i4SP3O3lV7C9pPMk8nEgaJM6vKpb66tuL6X87HEcvF4fGpYFxrYApr2wahSXBdY1VtPLIFNbRPwVuIBxW/V7/4V6Kw0RqBo0/RxyrjdJTN0hLp0DiLhVHwrhrcPJbr7kbgdn7anjeUSiSXWoH0auPRc8bQdGOeahHSAZZxkdrnjurhw3LWhz7yDenaaee5d/ey5UH7qH9ThJ8SKCr2VHcKzJZwlvHTij6JbxQ556V/QyMe+IVtXI+p4Z/NOjS+6sGWrsTe5wznNRxzDLyWuCD8Nqgiu4mhkQsMNzxmhc+kFoVZnjh0+6x86muIweLNgP4bV6XpbjlNGc7Y+FQXBJ1w6sfbTQXGrhtz0nB9R5EGWgZZfuNLIm6OAwPx6n4EKRazlyo940VkUOp5gjnWYrOFT+zmg1yjF1GAyvpOKIs4Vi1czzLfbWl1V1PcwyKATCqOQXYVzrtAEedcgB5dUcCdq1tW1zt3F+5PWi47yKI87L31Nb2iKmYmRQBjuqG3uWUyJn3TtzpL1i/HRNCjPZx1qbq2imZeRYUFRQqLyVRgCufqW94i+wWFkc55c8fpK0P6h/jWKG+aNc6GqhyHl8tt63R5fOnj6T8DQ9MnuLtEPZjkbs/hz+TIIyDtivRhC1zaA+xZGGpPI5+U0Ccww/S4fvN9vdSxW6CONeSj/oS0b9ZhRFAGudDl8KwW5VnGR8tt60a2ql5FlVsCj+mvj+g4W5aZf5V3V5dW43rwoY93802/6ebykWjgV31vXMVnuojkPzbbqLMwVRuSeQoMjBlIyCN89TW8U6NMv0R/0vdfsg/jWeRrNdxrcVkHNYxtj82gsbdymGVnYePdWPClt1Pambf9kVZ4+qf4mrgWoJmKYXFWEiKYL0Tatx2sjn9lLLbsHjfcFf0Xv+i7pf8ACNZNCthR1VtvRH5tcX+t5pmlU5I2UZoPg4YA1rvBAHKlUaQ/wqOASgyozdnvx1ekX2sTQbLHKDv9nfR4yGPiytIiHmq+rt/0jMPGNv4UO/qbVXxFZ8aH5rgHBrVf9JSXC94xj+dZt49JxjJYmh6dAs2n3cnlRS0jESE5wOoEqhYcm071v6+PzlHlUlWkCHyz3/IQXFrqkWI+1hH0xWRkevxZQWydIVe+knh91u48wf0KR4ijnnXlR7qGkcqwTWru9Xb874lw2kZxyySaEttIJEPeO78wwCM+HqaomV18VOeoyWzZUHBz6twO9Rq+6rV5vfKc/EdReZgiDmTWm2nWRsZwPChLo15bSFzirZHz/WG0r5dV3AqEejnGfGnllOEQZNL0tMdUE59rF9VO40rxnUjDII7xRsuCgumcaCN8Ka/o3A9N4mnij6tT2N+c3UG+r6y9XCulJXnkcxSwQZ0L3nmf0NIDjZjXjWx50cUc1z/QFjHJuiws4B8d66RktdrfCq2OXE7/AMwfi/N3ikIeuRAcFlK5qSzueyrtgH6r0ltb/P3T8MeQ766QsM6tBV1PiKJOwHOjda2RXl4NlEpxqPexoa2zoXc/CpLmOf0aAE8FPGj6X77Bo8/WqG0tiym2ViNJqOb+092QeDVJFP8Ak1mmSp5E1xIVMdtOGSMnkTUMLe+ZNWPKpbqwzwrbSLfO2rFabfo2VJvpGbZFqaSdHu4roZZ4U91/hVlYxHAnbVJ+yK9Gi6PnukZMdgdnFRQ3fZkXO2eQpb/WmlY9OnG9LdiL2HCxr/WxVtcxxEwiIpI4+3qMsA7WoLn6vnUM7IY2Ybg/m2/5hcDu4h/jQGa7PdRogZoZHw/NrdJtXt30A+FY8KktlkzPGupl8vX2qxXo2dRNvCZMZVc0kEAwifj59aR6XmuH9yKMZY1KXsZ1WJ9DsnbwaWSIh0bkeq3lt/dil1N8e6o5092RQ1aVjM8gGWUHZR51MnokjQQaeLID7ufKtFvI05/w4y1AWiF7gyaOE/ZI86MiAoynS6HmppIYYzcXUnuxL/E1JY30ccbgHGjx8Ksbof2M4+6tuvpKwuY9Uc/tF8jz/nVvO9408cCkKsi7/fUM8zcOKa3KuT5f+CriGxlMsjREAKhoPeTAXMA0Qwv2dA8aIldQpGPer0a5gkuLUNmKaEaseRFakikRf110/hV9cSx6Y3JERzz3qS46LmWEy/ORyLlGPjUk17OI1kUCVIMjXQtXiHBX3QPo03ZMzMMFpTqOPCgAAoHIAY689/XyrtMF+JrtXMQ/z1ogmSRsZwD+iLsf4xrs8xRNbUds1j5PmPP1El4XFDOFO/Ksjkdx61u4+jL/ACpHP0lDfhVxdg7zRhSMdfovFX0jGeH39bHwGaS3vpTaWsmwSI+8fAmujFj0x+jz6yijkvjRaFZQv68ZXruby4B9NkkKuCPcHcBXS1v3allX/wA+2liuZNLkZwFzgedcCNyrZwhYYD/Co/Sw8llwyAEbGl/OtTR+2jmZGOTU9rOFVjc8aZmOGZRyUCrsxxgzPCyjbc+VSB4jE3FO5GC21QzCJjCAHZ9O2cVPc2to1zb3CjWqtjDVezw2GJLjZZJZB7MUjQzY6QRuJ6R4t/xUsTQIbrI0rE2c1FxRpkCLqHnjr/pDi4YR6NGOf29StdQCZ0HZ1d1YRdI8AK/rVvHJ5staoo7eM+Ndq4iH+cVvdxfvV+WQ/vVtcK/7O9dmK6f9mA12bO9P+jW3R939wFbdG3H3rW3R+P2plraG1X4yk1/9kPtau1cwR/sRE/xrt9IXH+UKte0lupfjMaz6MrHxftV2IIl/yCuyqg+S/oi7H69bmuYFbVkVy3+QZIZjbseTgZxVyrdIheBJoOqENmj6d0hOsXckQCE/HFaLaPQOZ7yT59cht318N9DbcjV0GGcJqH2VazSsFUQjUfhQiZZYg2NDsNmqIzRs4d9O3dQheEwCX5hifeqC2tAr3dwezq5KPGpOjektLzDdZF76jKnsiXceNSR3N7P80Rwiqn8as2JydGn7q6VuRMVFkfZjP/nhVhfRtofKs3xqC/J/rhmWYv371qxsd+qfhZ3wD+z31Y2nRJE90NIDKPcTvzST6F43HXtY3OK1dx36+HNdoH8BvUVxDLmOWApKdDbeFXc1uuqSS3aPUUO9cK4iMUnFbS+nDDwNKL/BmQ41A++PGptDlzPKZDtjFD0mFZCOTciPtrRFrx+s5b+Nb712jpXz2rEl3Cv+euzPr/ZQmtuOfhA1crn/APjtXZjuWPlbtXsuj7p/iAn8a7NjEv7dxXOyi/eavadJaf8AtwAfxrt3943wYCu1PeN/r12omkP68hasehwfu12bSBf9MV2Y0HwUVvGn7orsgL8BXvGtz+k7jzx/Ch3mvh1ACj8jf20Nsbl55QVGrH/nOgtx0fLB+txFYU0sa65CQqA+Jr0Wa9W5e4TtDRgx/CrREOVES4NdIy2L6fRm1sPFc+H20TjaaHOPiKwh+bk0t8NVdHJ0YPSHjhy6RDOBsd6Se1y5Eo7Ok5U+FdC8FSJInXYD7T+NQ30kMktuIymY11FTvX9Lw2PZxoWGR9LsMe9TRskVkuQVRm1EnzI5VFFIzSsF7TMc5NCC21cMEntHPOpZONPGk3zsSNhXoRvEjRryUrkCmt58iNse7WqB52bGDrkyD9nWeEiR556VxXAUqkgYMrNyFRI51OqBSR37Vyrtuq/FsUZFazjk+tqya7MzzH/DjZq9lYXsn+np/jX/AKa4/bnUV2ba0T9qcn+VbzWduv6qlzXb6Vl/04VFb9J3mP8AL/xQ19JTquMYRQua/rSC5fxYt/zXsraFPhGK7O3wrma941zNb/onf83myOYX+FHxrDVyresYPL5G5kuNRWSAe6uTmv6pbXdx8ItI+80VvoUXV9DVqx9tel3h4yBNCQ+HxrgWl8q2v0Q8Opk8s01tNcScOaIM/i/l+FALsByFFdCBW5gLsaYWkMcAbnoGM1ms99bGvOuVe1mjT4uK7V5D9jZrszF/2Y2NdlLlvhbNXsej7p/2gE/jQVOjEGeRabP8K3FjD9jNXavbdf2bbP8AOt+lWA/Vt1rt9KXZ+AUfyrDX18f9bFdt7iT9q4avySI+bLq/jXs7eJPhGBW23Xz/AEq9/GQ1qJCvCx3eNI42DjP5qfONeoY7q3Nb7ivH5HArc59S0voE9mnzpJr2siR/tNivylG8k7X8K7K3DfC3avZWN6/+np/jXYs4of8AuzfyFdu7gj/Yhz/GvadJXB/YRVr2pnnP+JMa9nbQr/krsqg+C1zr3j+lVQsA55L4/LSIM6jOY/xoGZgiRqASaDIwZSMgj1CT3UksWdLcsjHy67Z9kKzR7seFZNY+jQ+QaSZxHGvMmiLSO5usf3UORXseipceMsipX/2VuP8ANIa7fScg/wC1Cq17S+vW/wBTH8K9px5v252r2VrDnxK5rs4X4DFcz+iRGXGsjIXO+Kl9Hz7NsHP8fkY3ZSwZwnw+SjiluXlfMizRHkvhXR0/1ZtB+Bro2bOFE2hvt9WyjQKYpm0vmoYpMhpjpX17viElbebUqZ2ye+uFLyfbHjQWNdKjkBWJJUQnkGbHU9skntl7j31/WJEiVtu0cVLCGDcGZl593XM0fvBDig87mQ6zgn5ODu9l/OsqaPjWQcDwrHdXgfkMMMjzoiJVQfqjH5rFBI+JZfcHUFJGo8h3/KGWdtKCkjlgktmkGYuJ9P1b+CRiw7LpnuHqZOwrIORWTsPOj6PIsmOeDVxPns2yhPvFRAN7G61IPLvHUWkYKo7zQlt21x5xV/b3JYlW1x6vq9fo3HXj/V6ptwCuGX7KiL3cOtlBPap5TuqqWqO4KcMtnbrknYFhGM4pJnIjRlB7R5ZqWRRqKKWxUVwexrTUR4ULu3VSWGnXpwcU6RwLwYSj8QnvpZLm3ReE6yao5M/hUtxJPJbQasQrGcfaangujme2bST9Ydx6tdw+hajkS2uBw5VcOyYFW0klqYAk6kEuDTx2meNjUSPoCkbOdSg5rUkrBo5tPDHIL1sqtoJGM+FNFNPKjPDqzG5GcV0fIHkbE4HbcmlV3kTSfoNirxrwekzLJp1SeFT9G2+WlEuiE/VU17D5+D2gk7y1W08iqcjVgjI866RRY1TGlkwOQ6l476dXu+dbtKAfGFqMTzKjCVsA+FW0fZMMobL/AApY5Y3g1/Ns3J6ucyFLa3XGO4ml9Fg4ev3Ne7t/lq1h6S0styOy2MFT4H1rXA3KH+NaTW1Hyrc7Cu78ykEThzGdLgdx9Qk7BdzSzWza4ztmobZieLNnRt61rKPAioJzzdN/jVpeK2eFsynw6t/UlnjVSy4xq5VBNjHEjDbdRlnbQg5nFCSCRZEPep6uj2n3ttQHlnNcT+1jmUp8c9XtpAG+qN2+6hLATpzjcYxWZ3055DvP2VZ3Fs2pZQ0L9xBqWY/QX7zUM+nTrTOKmeVAml8LjwqO1uN7eOHisufeNXSR59HZg0e/LxFSxG3kuo7cYES+6z+LeVTTXOjjS47MY7KDwFdKn/HH8KsSOfpaY6pDfSKDE+IrVjj/ADHxohQBqOTgVDLJHNGrRvEdUfOlKwTsXbSgKadTVAbkQHiyhNAHu/bV1c28vDYHikac7+R7q6Le5u2kE0mGUDSOVO8w1hImCr4Hxq1dIowxXfs99cGyTiF27WGxtRgSJraSAAGFuY67sD+7q0slc6BCskmn4Ve2F82J4IW0t/eJjY1abYBjG1SRzxmMCZuHnvWrkAfQ7qAUZMlvsPPFQxTRmOQZ1KfjV5cNHpgkQBW8SOrEiqw/WGauFHcmaUQLmUojKPOpRerme4+e/wCK4CRxXcS7RuX0kDzo3aPDJPJ87Gdgfgay8ZiP1c567S5t4zIY20uB9U1w2fhYYMGxnHVOeJxOK33CmvO1xWGMdwqUQTwi3lXSdfNPhUcEZyqLgUbtdPCaHQ2++eocRFfHLUM0dJ37qvQw0v6RlhVv6MmvSx1Y2wK9FxpQDsfqnxq6N2rCVpd9Xf510fcSfNdqMnwJqyhIyYg0reXh61qcZ5ijzFcs0dA2NYOK3+UMtzII0HeaJtJRJjmORH2dbTTtpRfLNA9xGa6Wh/WDj/z7ag/o+QqRINYHeOu4A742/hV1Ee4qwqEM/wDWYRrQA74oyTMdI+0mljQukje6JExnq4R1yzf3ca6jUjQq6cNtJD0rfSWUaat4haXLaR74A0mr22nAHC7SeOKtYLZtPGbGx3Jq00TPJbztodWOajmtmxw5O3vz8Kg6V4jO7nM6E7MhpWT3WGRRWRQ6nmrbigqgIo2AHdXEaOWXfGI1zXZ6KuHQ/XIXP31e26Q8CIoH0FtWg/Hq4i845FYVBP0xbGGyQ8T2fa7XcW8qhFl2pLltKOK7cy22r3iiapD8WNSNEpKxjO/Mnzr0y+Iku5BqLtyQeAoXVoNSrcK8suNvgKmS3YOGGUI78VEIAXudIX0dRvmjbzQ60kbWJY98E9xFRX1pHxnRSkkfeyeVYHFV/qNEc1Jc9HSRhpQOJFJyb/it7SD7JudX8N5ojmk0zABtsVbxR4aO0PFlI+t9EUzQRGdxyQd9BL5I1mA3SUaSKktbSYz2oi1bnVw2zyzXRs2fcuQPsNdHPdMFgGvtHkGrPR3ajte3nGzv4CvR7e2mUyjExddIjFJGr8J4iDFJjOCKHpOjifS0cqWC3ZmQb9qpBaRpcwuxYKX0stG8vljibh8NI0OdvM9ZVhkEYNMLbUxfmz8/hSemIW0cipwfhQCDCjYDrzWTWPzY6EVWb3iBz9Ro50EiNzBpvR0I1cyWyfWtG8HNedYxv1Hxrf7/AJCOO1IEz7k88CkcfSUHbqeWU4RBkmp+lJU3VT6HGRnT+tiujukF0+kDaU8tQ5Hr9GvZeGJzhajjuLgJgYBkbc00guIzFLBgsN+1/wCCobaPDQyxkg6SDq+2kCoZp5TiOMd9cG5tQlxxgmjJ5UyeO1Xr/riP7qtm/voitQJLZ+lAnO5IA+6ujYlit45C/Ej0sW0gePlWZJY/8kX/ADU7yMW6QeVsxj3mPdTPewvNFcdqQx7mNqNr0dHJh/nJJI9IUf8ANcHhlTb9lj3E1HeRadDRlJcn7qQwHFxC2uPPj4VbSX9t6JBbnVgnOtv+KaAvwtRB1YzRs4ypbhcMFthUEEpDPGmkkVDwEyzncnljwpWHJgDW1MbaMSzfRBOBTl24lxMdU0nif+OqSAto1fSxypE1a9ChdXjTKV9g/vQ/Rz4jwNAQ3N5GPDjUVuJZ50PNXk2oAQagOQdi1dnAHhitqyFUHxxv6wFzCsmOWa4dugjTwHViZEkH6wzWmFFjXwUYrtKG/aGa0zIsi+DDNFLd4zw/op3fnplmbSgpZYH1o3f+aQHuEtbbChyrHdWax+HyFxcTpptooTwzn3jj/mrNzz4ePu6pICdGsc6CbYC6auIDzgnIqSzt4wCQAr9+TUvR9+/EkVdaMe/xFWhlJEelhnzqzuL1X4/CXX2uddFiOIR422XAOasLxQSYZsNjfY10fcTnEG6au5TXpXRyG7S30ltPLI7hRjtLWSyRvfmm5geQrPRV60GR7RXTUDVrJLcH0m3bVxAgGfLHVJdydIyLK/8AdDGB4ZrXmSWX68jajXFEScX6+nf7+vsqq95wMdftZ40+LV2Z+J+wpNf1e0uZv9PSPxpvSbcQJjs9vOTWmRFdfBhn8ytbUp2Jwe15/ISvGcOcKD8aso7cafZkN+t59e5x8hk7AeoJJydJbT6mVII8j1w2zk8SUHT1Or6iyAEhVztRf0S60DmzJpFBl5EZHXlvdEqZqa1jGIJ04qDwPXlD7d/cFRM/vMgJqSWT3UGaE7qFOojA+WxyHEFedCtjXjiiR9/yEkFvBPeSjslUTYfbSQXMLRMhOMnxqAyuy8GTWNPf1Mtr0W2kd8p01eS3INoshBIC+8fKrOeLhjgvl9XhUd1ZzcC6i5NjII8KH9JX2rRugijAwaVSxYgcz30rTRLIyboT9E9RSaNZEPcwoJEqxoOQUYFeNcq3OK7c8S/5xW91D+/XZm1n9RSaxFa3cn+livZ9HsPOSQLX/wBpD9pevadIBf8AtwV2727b/Piu2JZf25Sa9lbQr/lzW23wrv8AkVmjj4ih+38KV0OVYZHrFpWCL4k0CNwRmi0bK6jvBqQwSrMYxkrGcmrO7ggkxDMG1/yrs9Hqn7dwKFrGsUIiw8rKdW3h6hZiAo5mg0LCRTy000ZlTjalYJnevTLrGuRRw1HJV65oj9JCKhZT7QIU+0VFJLkyDKsT30/CcPobS2O41LO2+gbDxp3lQK6PpOOu4RN2Kbb1blveUaD9lTvqLcVs4PdUscL5kjOGU1NGoy3NfiKg49xGkqrpYO2OVao2Dr4g5ptO5wcVMLpShd8hW59eTuIoM1A6cjKFb4VnvFXP7P8AOrfBz7Jf4dcoTmvb+6kvpl0rFCIUP1j137/2dnFhfjVo3jEtLBaoX1uNeO4Ve2bc4Jfw+TFbdX+oKHcaO/OuW1ctq2O3qcvUx6vKu0yr8TXau4vsbNez48v7ELGvZ2F2/wAU0/xrsdH6f+5OBWy2cXxZmrtX0SfsQf8ANdvpC6P7Ola7VzeN/r12jcN8bhq3tUb9ok12LSAf6YraOMf5BW23Vv8ALa53CL51xha6YvomZ9Bb4CmV0KcWL3T3VDq5oSlLa2SiW6cZweSDxNW8Mt0bn0hSWXTgLjwqOYRcSMth/KnN5FwZwoZE/vAeWKe3v0RGaLioF7hTxSHCW9sZVHi52FJb6tMhgC5q39A9gtzi3lVe/wA6sru1QR+jyBJMbZQ7Vdoo+jq28qs5ZpAnGVQPjT3nRspjuW95W3SSnLRmGaNtMkZ7j1w2qHHpUwjz5VZwW88wSYNxCDg4FXMVlAgd48eZ+2oZPSy0Q7PDZAdOO7PVEtumznDPz0fZXa6QjH7NvVzGbh1EE5GgCulYpP7GbVGPHNXdvKNN2JNTA8yDRg340hHDQczUItnDnnJ4hvU6SghQOYZeIF/VPhUc8XuuPu8qmvLQlbyKdmU+PlUNwgwHHLwNdIRXEaySKQ6Fh3GsKAo8B6rXVjNEhdArCRc0slzco4WReyiaeq4nvC0shIEbKxwPiKj4MaplBkgc+rVO6oPFjXCtw0FkfemPN/IVd2T59hJt1zwyyIkjocDxq3CNlo00sKAupQhIzjGTU0lk2uGSDtnHf1JpnaDSc7d/yO3W5xyda51vXLq8/lDwpI47fO3D9/H21/W7m6n8jNgfhX5LGf2t69jFHH+ygFcz+d+mTSmOBZMRIv1R/OhIsfEkH05DqNCOIcW6k9yMfxPlU8Te/FOwarnSqJ6TpCTS+6FFNOblbq4k96bUPuHgKuIoPbSbHCb99dCkRSHh6RJ+qNudW1/bRmUw5WRF5lDQuooTa8HZeOMcXyx4V7e1XzKTbVauz6Rbya8Y96nilXKOMMKCe8oXT2t8ihE8EfBX3Uxyr2MtzAv1Ul2pltw3aOWZjkt1x8GThTxPrjY+NNd9IvG9yV0qI/dUdU6pLxElk4gXHu+pfTOY+FOQVC86F5MWLjHZ+jtQe4T2i8nQ6Wriprkl5a5W1EVx+Fol+sh0n8Kxv1ve8QYePQUxVxDrTtOWi8qdUtGkmZiT7QCOuFKwZ9RY45DNLerLpxHoZMe91SMOaqSKZ7jGtXxsO71NFzGJY+eD1FLhFljPNWrYYHh1GPVGsdvuMjUBW/Sj48FhFTT+kvO82zBlA69ctsrMTk786CQosaDkqis6VJ8xWwA+A+Wm+w/jR8a26t6x+i2PRk0fBY54Mw2B8jXtZYLdf8LtGsRjtH3nbdmrj8AcbOdWe/4VpYBge4iu1aw/uUFhURr4KMfoPsgL8PkTjv5/m1z+xn1M1v3f9Dlu4c6RLxAsN0pNvtyx8sdsfntyP8M9W/Vjxrfb/oGAsuoSShOfLzrFF5WCKOZPqXRH92a6E4fNJEx9352SxAA5k0HjYOp5EfLzD/Db+FZrbqWt/wBFWywBS80oXfw9W5tJANCxh4/WllPJFLVHPJgPkhsU/CcPobS2O4/JWKOMq10oNcJ2MgX3WPh4Grpf8Mn7qtZPGIdd1+xXRrtjhRQ6uf0tvkDaOOw0epPjTyye6gycUCO/15IUfMsXvj1LWFE1NK2+e4dWm4mCNUMMGuQynGdOAOu4x5fxq1ittoLqHLJ5jv6tcTB18RUtuM8WMAn5RvgaYOereufyqrcSYdvogZNCSF1kjPIioYpGw8xwgx611aMoUw7qfEetHZMvzkeoNnv8PkODHcoZM4A8fkDdR/k1nIqA+JzW5xk1v19Hz/XJiJqNHzmQ4G1Mx7hnalnUaM5GPDrZDyYYrpCzHKKbWvwNdJ20owS3EHwz/wDNG0De2CasVvyq1u9eLWe44ccfivj6jPKwVBzJrhlG4X1//ivnY/3q6Ocbr6WvKjk4AoxG6hyw0+9UannG7L+PXdaMH2R76tZHdFBhXmfKpHRNKrIVB+tV1baMLDybxqaF0OtUBT9cmhb9JIitMuuIr/ClWJeJcSnTGnias+JdG4NxlZV7h1dHT/WYxmm4+kJ36uXVpyNXh61tIrE+lag+aLOwVRzJoRxXKM55Dl1dGsQNXHAz5VZiB9HEnAbzFF8dqujNvrnrufh/Oor+5XhqsIigXy72pgOZG1Mp5pMwNXXLLQrRJ7hmuHdIqwvyIG6/H5OQd4atx1Zrl8hwyXcA4eRRlU+NePVI/wBRSau55PaXOR2jz01I8aaDJ72O+oHDcOSCQOp6szOsa+LHFB4yHQ96nNNJPIo092dzSTmIw6/onwq2uJjojeIhjXYnLfCNjRaFiR5qR1Ty8iFwvxNWgQh8JuV33ro+904KTBW+FHJUfE01oGmMC7abf3pD8aneUGJJSNEBfUV+NWM6FjHuGjH0qNzCkKx57MTDei+gxSI2mRD9E9URsGjgCDBU/HO3W0yRcbTzXONqSaAghhnHh1zNHIqygbV6PFIXm2kfCH3vjSyLHIANDajsKt7u2uJdZKao2bKtmoBG7IpmCtg451bLHO81rNJw2V98HxFLKOcMqtQ4LcOZSJI2864UkEVvnaSUPzHkKvrX+5n2+3q/qeA+d8+Fa/SRBn6LW+4oxtdNqng1F1UDOO6re4kOUkt2Vie/FQdM4YtxtUn/AGzRdZU4TocPnaoHlA4VkNCftePqWdlIfZYMrj62O6hKoSMxH7x4VFJezxtgYEKEL99Qm27Nu8qto5gMKhtr5zDYkaie528M00USW+k7dnG1X1uwKmKbl/58OopkrnvFNogAYg75POoJRCpmwVJPjR1sF4Urh891dIfRaU648/SWrA6W0ack/CujpIUZik2+ByFXzSH2kOEjU/V8aGVG3lTrbycKQ+62KinN27aJVOnSOyfKp4pZDLqQ9ojFW0kncmD9lenMX4sk4Een6KZxV5au+u5t20B/EdxpLJJWiaIHjSjmaZbjeeFzG58er5y0O/eDyqyln9HGicYKZpi8h7LDZdgaTSgDwhNDd9Lq56RmowJTC8b60cDODVvcSXEty6zrln8PIU/B94js10cHmuH4pOomQ7fbQVc4HjvXEuHCL/GpXeVLa3RdUcZcapD51a7+6NP3Hq6Qt9gRNrA8qgkOyzQsmfOjJM4RB3mtdrwxMfqIS3yQq4HhIf49W29ZLc/kLl49mCHFNkAtdKdR/hUXE96MmPPw6iDuDT2/RscQE8eyyZx/5tR9LFvp/wAPNQWrrqhnXC45hq9F6MjiZkXU5k7qun6TiH9WUKIuag01mitHbadTIjkA7VJBDEkJbk2nvpre5Xh3VrhXHiO41YXUi6lR8N30nZ4ZKjK+HUSBkgcvGtF5GEeJu1C74p4ejpnitxHqk4DdkPUziSeSSMZBklJ/CreVbaM6owckZr0zooQ6mGJIX2H2V+QRKfO42qK5uZI/ZSDEUa7D7aH/ANMnaUjuYaauJbvSJ7mTWyD6PUSxCqOZNAqQQeRFKbG5WKHvHfU0knSUz/RVQq9onuqGVzIbnR2u1sOuzjjj9pcyjifrAVNBHhA66R5U9szCRo4Mah34qxnunR44lBjRR3jvNagpbTIrGorq9VY44hmGENq38TRiuhqib3hQVBhRsOrpNfFEb1LS6UqI4UYHfc5qJGk4Whs5xmtGBoAxjyrWtqueeMnH3VxrRmtJD73D5N8RWJX1nx0464Lm1mENxDkDUMgile/mE5XkgXCg1Lbz2olikOqGbRnH6pprYrwoyc9juNaHAdfBhnNb2sX7tM1vCsbv7xHf6hRpRIXcudI2XyoyyRHU3vANgN9lKkkKMqe7tyrC7DGMdQNxEC45ODg/fXsri6j+Etdu5uX+MlG2V+DnHa50Puqe3BDDLmPHgagZmCqgKtnuOauLuYaXun1BfBe6r2Z9OJj2MHuzV8f7KYh0Ofv6xFE6RtrDZanhuPdcbkVEl/dpPbwnsqFwW8M9Y4yLIB3MM9Rxjfy6uNcoZm8GbYVj0KD9yiLWFIVPML1FkjQO3vNjc9Wl1DjwavSJkW3jGRjvb5O5/bPUOrc+uxnxw8drVyxUhg1g4IjHDwpqBY5Fl21OVOdzSNFA1wWfGleqPpFZgmgdpMe91RyzR65Yt4znlWaurlJGPpHNe4UZRGvFYYL43p5LTpBrYOACpTV91SPxXnnl+ckfvrtKrftDPqari2jkfxI3rRbxLEvgq4pkn0lGGCCaSKJ0WNBhRxM127iIf5xW95B+/VxElwruR2dO+9W+RMzhAraYSdxSRR29z2vpNFgAePU8EThGbHvVDb6tWgbnz6hrUNpORkd/qCRo1Mi+62Nx1Fe4jFMjY9nMyirofqZq0k8YgP5dSukjRTIOwymitxYyyuPpw7g1dXV4vDmuCMR/VUfoEzejjWTnntn4foGfP1v5dXiazWfXmgVgrOuBUTdJutzJEuI4/oJ/81xooUjk8VGPU5VzX767U8Q+Liu1dwD/ADiuxMZP2ELV/V7O6l+Kaf417O0ig85Zc/gK7V/An7EGf41v0mfsgWv/AFOX/ZWu10ldfYFFdu+vX/1cV2jcSftTtX5IjftEmvyKD9yuzZwD/TFfMRD/AExRUKFBGNhQt7XUIlJO5yawSflMKqqPIUySbowwaWK1UpEmyjPXsfkl4IBlkcImfGka/aOe3ZtLOi40H9MS5HNFxW9be9XKh8oW/pC4gX6kdf1iS5uT/iTGtrKM/HetrKD9yuxbwp8IxXh8P0QXtm4ig6dq5UksYy9vKJceOKjhtGDyXbqFXvXegB3D9Lqe4xisVvzoAVj9FdJBidARcCkV2Cs5woPf1FR0fd5HdilthbXEblSTrXGB1M2M4GajuNOgtnIp2HMKTUc0wAkyQcVcWj44XCDp5dXDkmw/gFJrXA+teXh1XFtMZzNx9KRxHGqn9ncRzRHDxSSnIp3MK9kE9vJpOmERHDZMkWnknitK6HKMMg/pe3OP7P8AnQzXZ2zW/d+i+kyzKuAiDJqxnBA4dwN88hWefw6rkt9G2UD7TRJ5Cs2thdTL9bGkfjTwRWgZYpiGLS409V7AdzFcn8asZf75GiNYNcKFxq7wmZGrsQTqPrOmkdRvZ5Y40MZIDePKry9QHgFFjRiPf86niX3njIFJDcOsMsCaJY32qDVyy2n9nO36XtiPBqyKxigfGsn9FNJLaxvK3vMaaSCFI2RgcigfEZpjezuFDZQQuVyPA1fAR7RohTV2t+rnV3IZFZbmTWqju6ry6Mi8K4xhBzzULSO8ZgfWhXx6gltEsS/qjrHFjWTHLUM1juHUHmt4ncd5Xf8ATFo3drIrnzrY5rB5Vj9FvBK2hX2LCkjQllRQoJ6sf9DQ+Uv8qwRtW9HTQxz/AOtOXKRa2+3q2rf/AKXGpgMnAyef5kWdgijmSfk5vIg/jXu4oVtivj/0QtrZxq8pXWS5wAKJe1hnUf3UmD9xpJos6X5Z689wqG5nKG0nm4YXG6+HyLSKcNCwcVFL9dA3rST6degcqimGwdQcUXt21qDj5Gwhk+alnw4qa0kOo2z4U/q91KHYKXOFz3n5G5/ZrlX8urbb/oGK2JHo7qB9pp25lVJxUU7IELZ2HXcW9wDDwzgMd9VYWfPwQ0l/YapXjGmRNBGpKMfRqPcSldtth8TUcGdRXmfPrYeIqwtPpelkkeQ39ST0WPjmP32+itCC7iVHZOIjpyYVCH1NbSRe6B9KtF1bTW7EEx6vpVAtpcPbQcHiMV58+VXXRnSEnGZ4S0UmOYqHB7SgpSNIcuGKtV8szAiKTsgdw9S4h9Li1afrd9W0bzqsqrp010nCNlyHFSGAkiNtJp5JNlUZNO6IUKnGD63R7/VuRU8w/tFUH7K6MCnBMvyN1/2zW1bGt20/GgQVK/qfoMyTNoQU0kFkFgG+uaTTStcWzxI3KRDxE/Drjkh/vQG+FK6e6wyPXlRiSk8Opc92KtRpyssmlj4CsdRknYIg5muJCcrnHLHVrnYIg7zWbeRZR+qc0yRLNMVODw0yBWr3RjO+2Ki0QM9u7aeLyyfLq9EXHDEWpvjTzadRHIeJqGSVQjuuSPCp0RCvD7/EVaOO/H4GmrgyCXsud1j1D8KDx50nxGOr0iRNQliO361cG4gNtMU1oM+8tTMc7ITtUFzYTGO4dNTK26P8akR04NxCcSR+pfMg3OTH8M79czx7NjGatei7OYMnOV1HfUVt0i/o93a7KScCRa6PuAwwk2CQahtbTtxxyapZRyHlV7G7gNG+NzjavSo97a3UorfWNXcJ96K4NXENpdrFaztqO3aFXFvCNMfAHWyHkwxQQxRM2MFgnvVjAykjDNTwW43uEUH4VNajaK4QPF8RV1jbsVxD/bNn7OvOamvZJpLeyjzoWI4Z/OnN9qmZZNEX1m8qjlvFijjEoIRdyPtpbmS7Nokm6xxL3fGujvSZuMglyrsuD8jMPGNv4UMfbWcVkbitIOx8vzN54lVmXHvUrjkyg+pbTRnAjnBNZHKtNzOFb6vM0stu2uNuuSdxlUGcCo54T2HHVpyNWM4z1WLNEZbdHy6j8KeKT3GXFNC3vQSslNJMwRF7zTPbPqC887VJE4yHXFJJcnHBzGfiKaQ+ytItig8fCo7e2j41y4yF7gPE1BDdmF1n5BBuvXliFHma6PnE8bBSVfSc7GmkiJIjdWzpxQbBkkf5tBzY1ewXzZmUq/wz4V0fNcjVaI517d/dReZdLzyGTHhnqQyLq0HIp57fNvcopKvFtWjGJY2PE8875q2t0xpmkwxJwPhUc/SEgkaP5qNBhEovMwjQd5o9JWA0NGOyCPnV76tLqP5ozozZ7qeSVgsfjVwS3ty2DGdiBXR2BjMumjV1F7rx3DZXw67WaXIih54Qtq35V6dNEYIlTREre8fOnjf3XGDS20lsbqJPckjbu8xU13MBG0ihAg8PPr9HtYtMP0mLY10lzHYLoEekpHJQOCue49WmQBlPMGsW8McX7K4oLNGsg/WGa4sUKoyOPdGKTgqqJgEBRiuk4bhFkGQ4BFBUUKo5ADl1SzSzyRwB9KxxnFIBya2xv6t1pI4csmtR4dQWfUCu6uuxU1quJprs/wCMcii1hLw0Y5aFxlPs8Ot0P0lIr0S9uIzar7vDHaPxq3jKKZbZw0cynst+0KkhmtPandSj5GqlHpHDP91J21/+K4Ei2mc5VwSKUHmBv8gw8Qa+rvyrHOivfWD6umeXtfVUZpXjOpGGQR1ySye6gzSS3fvuSy/s91GabkO4d5qbiQcB4mwVJoG5fBPJQMk1HNCcxuNq4U8pD+CrnFRsZl0SDKnyrTiVYycCUp2a1zusa+JNTwxuxdl7PY2NWZ/wV6lWM4mk5H6o8aVWcy6Cfa5yGFPHDxJMjIYJsN6Dw29wHEQHEKdnPKsf0c8ksyZMruu5PfSQZy3vP8amggupIRpzle4Yo2U0yXqBNRlUbqfA1Jb69Gsc6S3LBypJyK4JhuJGH1EzSXcC3drPFtraPSDUMt0umVvLn59fSkXiyyCrG3kGYlVpMeJrpp4wIoBGI9tstVo+dXsxvV3bwy8KKGVn38TUdteQejoBtKm6H4+FcZrhra3uE0iZN8eXlXFizNIf7V21HrEs4Llfo57P3UvBjRJQ4KBU51NEB2nTYedek9I/lZXQF+otC6s7j0ebTpbK5DCv/qUxvP1caU+6vYz3CL9XiZH4+o/osQj1+9ijHcRrIh7jXY4qDwEprePX5u2qgkF/cRQ/Vzn8a9FCaoPA0rBXkC+6sj6gPsrVPCrP9bkfvoER5KnUCxyQeosFAZuZA59e3y08calnI2Aq3FwjJKqYYNzqW+WVcSLpMeN+u6sW2dH4i+a1YY+oc/j+dzKfrHfq8vVdueBmry9vV9rIG98d1Wud9j/HrS3tIydbds+AqKw6RZZQ6+xlUY+yrJbltMEQMp8zUlxPs8zNM1T9IXih2mJVAe5a4cWeGmojNN0pJJpk4pZs8ivhSNMO1rzHnuBNRqR/Zp99YvnDC3iVYo3ONR8a1RKvEjIwFqzwc4iA6pLe/gjibHsJG7xUqWBBheHMwT3Q1XUcEQUyqchRzNQW17GR2NLKa4dpdQT2491Z1ORWDLaQeaIWP41fRXU0smIwSQ2nVy51w7aJYl8qhUpqDAk5OOXhUc8YIWRcgNzo6dmxzoT30r3ko93X7q/Z6k8wUtayp731T4VDPasEuYGyhPI+VCTpERhQ+sQxe6W8T407wM6I+5iz2c+OKZoowjPu5H0j1aSAV8CNqysAT9nIoKOQ68/oSSCNvaRbtWT6nEicw3K+44o3d5cC4uMaV0rgKPzu5HcJGrs71vtmjtnPq8OUmKxQcwedNZQsxtpYtYDdxq3jmDe2OAQOXVETbGaBveYHlVm1jazSiBtRB2/GkuJI7eBofciJzq+Jpo5bKCPUME8bavQ5rGS4RWOiSIjlWPROEh5mVv5Cu1NNJFnVwiezQGBgch1arm2jd/HvrItY8/fWmNQi+A6tNzEko/WFabaJYlPcvq3s80Z4MiYR+7u6gt1FxFU5FBVACjlj1sereRzka4JsbD6PdWu4bQvLOPkHsWQaeHqVvVu7eUHhp7vZxpq2gZNp8jVnkfkprPbQkeR8eu2tyo4UwPa/WpUZgHb3R4/KkchcQ/j/AOD17mOd9ckMxG/h8nC8WnSZO3nw+Xuh4SGtjzrlWn1WubK7e2mbnndTT3V5N6TcsNOQMACtwD17beryru++u06j/NXtLqEf567MrP8AsRk17K1vJPMQVt0ZeH7BX/pt5n9kUeH0esY8ZZv+K96xTy7Rr5+yX4Rk1/6hB9lvX/qEH/8AHr23Ss3wjjC12ukL4/6lLMJrmSQf3kuR6tqtsxUlsnHfQJGDjf1r1QezJEHIpklGpSKiiZtZRdOrx9ewk/vFZKLysEVeZNcOGYF/DlnrEkBzHkiraXODHOprKEMPI9YyC7vsiLzY1CLyKPhSc0XdlFcSfJTVjajeJArWgPufT0+NJJEdSOMg1wzrkk56I1yatJIEKF0ZXDLg9cEsU8bSQzA4Vt6tL62lDGGQZx9U00j7+A+tVy92NLRSHYDkMVbNclTb3gbhqPo46826B5SQq55U1kmiOaP5yUeFSLOAtxC+iTH8aS3jYgQjOB3seqQjLhocBfA1BNLuzDfFWSQvod1IDUMX95n9uueeppJTpReZNF4kS3XHYMx7Tf5aie5TRKR2hUqjIM2GHmO+tQTW7HSi+JoydK9I+jE/Qi2xUZudWruLcyO7NcC1jj46Z4rPyFGza1V739VsIR41LxI+FNE+h1zmlSJOLLjJzyUUreIzQJUu7nCIPpGvRr6D0e4xqXfIYVcjvC5+6oeLOBJoGRpJ3r8ox8VNareVJAOek/KXGfEVt7tAV73yAZLaS5z3J3ViPowqTy4j4ra3s4/i5Nb3FrH+zETW/SQ+y3Ff+op//HFe36Unx4RqFr23GmP68xr8lH7xr8ii+0Zr2dtCnwjFbbfCufVz+V6L4nuGQit67Rx8aWOWQIzAkA+ArhQOdfMZXGr4Ui6Gmmk9yNOZpi0TwSIcOjVB6NGryPDowxwDTyG0jhxjtcTV+FSTgZKx5AqyvJ5uNbznEi6fdrjQAcGI9sEe9UVzeQobN+bLzWttweqP0S4EAHvZXOas5ZL2SUrMFzpA0576s4ZLmeVJrgK4du6mkh9nNbDVGw7sVBK3vPGCeq+tP7mbI+Bpn/uyDQNtGsauAeyOu6dv/to1VPtq3W6I0CPScnYN3Vcbd2fxq0G2kxCpo/oxTsq/Cr0Sj+ucY8TPPHdVheJsusIw6iGGQauRBCkbFCcgUP8AsZ+0ULu63SMBIl8/Gr+3u3WNJ/aIWPPxpIpX/J1YW+dtYzzHqdJS92y1MZyI4bqMHWeWoVJdS6ltJNklI7OoVxXkUp5HOas55YjiRjI+2y+Ap/6MkjMLHVwZe74Gre9KRs1s2TFFv2e+gycmGR18aPVcxF9TwatP3UP6v6NKP72I5H217MvOfCNCagvRZlkCkGNSNQHnSejeznjbWBn+dBrq3uFue+S4Qv8Ajyr2Ugk+w10mPIGp5CjaOAAGxtUzXB0QXSDt9wYVchJVa2uNAabBwvlXDV/ZsMZU91RwSOZIo0LxAnlUd5H85auG+zvqZRykjOKEhj9szHJIoh1Ug92K9hEkWeelcfKSHuKCu+s15/oJmVS5A2Ud9W9w0CLFHKrKdXaz4EVZRXcaW0bzD3H1VJjuYVaXH0goRvuqGWIBJbTQ64qRm2PogMf86z31aXUUbSLqXJX6I86nhj3Yjs/GljlBjkaHSwPccVB0XoJvFl0FfAA5zUsNvgu2MZNNAseqTghNK+NRRnmiAHr4ULKr6wwLUFDcOZCHR/Bq4V9JDFEfnODzegqDSqjAHU7RxqrPu7Ac6w4DKe41sNuv0hZZbeXGC0Z5/Gmi4QdHOW1b6jTLFEoRuY50AoAA7hXdQeVSso5SI2lqw880w8JCD1lTyIwaSKFcRoMAGtgAPAUBcxJLjlqGaVZIkKr7oxy9STgJo4jan+NYkVXXwYZrQVUofo42rXFbRqw7wPkMVt18+vyrDKGHgRmtKqqr4AUeDGqZ56RihOYxxgMB/KnjlXUjjBFAY2AxW+/yy7c4xQNGgO79B3Ge7B/Grd4D7YKsiHzpYbq2ktIP7Yt9I+VcDpCd7mEY0jGnGK4cihoyMEGo21PDLF7kkfMV7WZ5j4nb1MhRq8cb/mvP9J2533j/AJ15dWP0HhgCPA12QFHgPlLWC24Y43fJyzT6l0SxvokXwPUsJcCRhkL49TwD31XNa7hwi5xk9QhEUk7Y1No+iKWaA6o25evHaMp1PHqDUWPIDNZeOVI84D6cij6Hbu6j6bjalutMLgjUYihU4qOeL3W7vD9IWrY8RXlWe6uX6Dhs1jyHQszZ5dRJ7udLlZEjZtKysvZJ67bCahK+G+Fbdd5DalJAuCFfkBQL+iRjvGCeqRpWEZj7Sv4Gpp3fVNJKTJ5Hq6NmyBklD1J+vbGkz/eCrfXz4YzU5O4eHPwrpKFfm0m7PWgtrRrnVzwcYr8ktV+Mpr28Yik7wrZHV0XN/iaDVyw56cffRiZBtFrJx9LHOoS2xZUDfCtf0FT+VJrGGdi+Pj+kLY43DGthWPCsb/oOU8xBb4++pWH0SG/GriIAC5EX0GznNNEvuLDkZ7jVqz+8Ylz1RmaMOYzlM9x9T+qoGkuYgi58aa5W74/DGXiZdiPKkkTk6hhUFhGBsOLIT3Co5UGILj2cn7XcaI3GfCknGqRllXWznORWm2XRGTnFRycR4J4/ckTmK4k90bnhOrY4enagRyNNK/P6I+sa1TjE8zcR67upEht5LmR+Spt+NYmsmhHjxQeuH0WJpZUmDALU8UY7bDIHnS2i28kT6NMxdcAfCmtW2i06fhUa9I3nHhi+bRdvv/SMR8JK8qOd6H6Da4WW4gmb3uG+M1cNxLiZwvZy+fwq30RcIlBq2xvQsbVWkuZ+5fq0iC2t4FVQO1IWx91DiEFu/FFbBtExIwaT+kF03HJuuKRbEXKKvvj3ga4c0Podqffy2XbyoKgwqjAFLfWcYnzHokjzg48qh4lu9tDE+s6zuT1YdFceBGeuSKT3XUg0kYOdCgb0JbiSbK+6qtsK9x3/AGpCaxCgQetkHqwT+k/hItb7UAP0LkVk86OAM+Pf/wBHz+WD+Nb8q22/GvHPP5PVO4jXOMn/AKC2+QaSU4RBk0rpurDI9XegykEHkR8jHG7gPJ7g8erKkH7et5X3093iaczRiKRH0keq87KXC9wpJY/dcZHqXI/V6j51sesPbtpcuBQzzx1EnAA5mn08VwveqbU17b+1UDlUcqe6656vRkkUT++ik88VHqGCFGa5dXR06k8LXoYfH1hZEHWyagflSsQlmx/dpmu20kX7cZFewmST4Hrt4Hzrm935BnkOEUZJpXQ6kYZB/MA8bBlPeKGtguTgZ+Ut7SCVouyZGI/Co5Jd3GVbzI9eRV5c2+Aq0/7fqyR8takVZhQCnpBjfPUZZjhRUicJ4XTBw/ePU5dVtegnUkir9lEeNX0BOeHN12Fs3ze8jDxq8aQY13DY9W4+GatygwGQGrlX1cIKpTw67kf4ZrIIrOBWevo+JtlaXJqeG1YtMNtS8hVvrbW2gZJ76njg98j76MaR41w9rI3zUkoXEulwSG51b2NlkOsZ4jCoHYkuOyastP1fwqW9ScxRxAaNJ76jupb+64jE+6+MVwZJXu5x3ImWqKKeye27YdWY0D4jreaT6Pd41DNKoR3GcV0bcjvbQerFxOiN4Z3oY3FSR3StFhsKRvQZTqB5EdVu9sPZcQcU6c7Vty6kW5l4Zk5ZoFSCDyIqWNTgupFRQqApC9rT3mktM5hMXLzrIUD7Ouyuc+zDKv49SozgO/ug9/Vw9Rll+om9PoVo2Q9pHG465kPIoaWZN3jQ4++oJzzdcnr7JB+HW8CP7ZNytGCSdFkHcfUyxC/E9coHPQat8ef8asl8bhfUiggco7HUxHcOqNggl1HcasUhjsJ2L+7g7VLiw1CI4cB9xXEgPkwPNT13h0sZeHwYVHeaihb3h73xotIQoHeaKQTK7Dwqa4t/aiPn8aDSxzQA8mKdmopLJ0YSvp4nctcS5MV5CvvaRhgKleI5V4iR91IkXvcPaoZJZQG04K82zUrynUVkIG2NuuNSrO750qO+rtPR2HCnEp1H3Klax1IluAxI+ka6MZ3X0cgyf5h41Pe4IExwmfqjrkWGU29rE2lnX3nPlUcNu78Mx5bW+rVWiRy0n92gyaaPgyxMSCNYxSyvdLa5A0xoudvjXSEN0w4x3+PUqSlizfRVdVWkoWXSEK7xnNXMSx+wj918Y386uFCFTC+nfvrhWduBcDOvWeylXEF1p9IgbfTyIqVOj41YQDMrtyHlTTTjh64dx51bibiKyjT7m330GuHwDypZI21IwyDW3Kph4oevOefWEulJAO2nmKnjtU0jYnxNQ6TjVEN/sp471i7CQ6W8qOo7Yq5j7jIwXzqVrtAJX5b91TxeiSXVvI2qIx91RdJS6eOH+YJ5JTRyDstzFGG0XhLvjyNOs1ibnW2eNCck0Ib22uV8A8ZG/wAaAHIdRklbQi8zTyyy8G1/se8Gpo5kHpNr2WUfS8Kjvrh4uCsgMagU0txbwLkDDo/8qT0iKOCNsM751SP/AMUByVRV9PeMvo8eeZ8aZXzwuIeFn6vVzo8LGvG2aGYIJFbw5Cgl+tmS3uRqCWz5UGlUR2j+9G53+7r6OuPE6DSKF4s8h0xoO81xDNBkf2Sr/Orvi7BcYXwov3xsGFCKzHFnYgLnZc/GvS72biz6fsBp2j2djpB8KWKDoq44uO023aPjmpZ7wjjzHdRyUeHVwRbSysR2dPI0cdGSbjvkApoRboYu2uovj8KiVTqnLNHGvnVzZ3B9vE+o+eaAi2klbQp8KuY4SXhU4D+J64b+Ae0hbDeamlM8SyG4y7lh41ddHh2eFN48/RprayKro+dmc9lKvESdrm3UjTIe9u+oXHuJKC9SzJvhNQrjhsy8ENqocZi5yRqPeKZbKJZZI52GGPdVvNcNCNMw0jTupo+lPC37CY6t+VdKXrD9ioJPrIDSq3uQAVcWqbRSKJUHge+r/Pv+kHNSrH7k0WojwPU0szaVWoprqLh8dToDdw7uq3tp94RHxNP1moXpCxQrCVOPH4Ve20vs5+0SrbHltVu1xKqqFxgnn9lXUrxOonk1xrp9wUkVralBIgDSybLikt86lVdOabS7PHHlu1/Cjc9JJqmmOvAONIrpK3QYCyAr6nSEL6liniXU2ORpIIt0XvPfRKKYHPep2+6ljeKKdFGAYzoP3Vkgr5Gm088ULaQSekoTqjCEkmvS3fRf6tSfVUfVqaT0UXSztq1oe0nlvTQmCWCUbq0i7ffSRTQQ3GgY1JJjavT2VY10YKFsnPUzqMM3M10XL3ElavfSIJXhnbXG8a53ppriI8K8OcLzjPdmukJJUKiRuwfEVdSEdiWJd/OryyuuzOZCTq+mtaJFBHgamjG5gnOR5V0Wj4ZGj1fGukbbURBxfZtVwlpMsa27HT2fepZSuGZSGHnR25Hq7WPUKSqHQjdTXDg1aM8ic469h1e9p+2t5Y/3q/KIf3xW9zD++Kx6XCP89flkP79flUP74rsyI3wamjfdXGDXo8duL2Bfm2DaSKuLq9CpLP8AQXuqaCBQCd1HnQtrnvQA+RoQ6rW4iUYV2JBxQ/pC41J/dRbLV8JIg3BfsDurypmPJRmmt54wpOShHVLLjOgbDzr0m59rfSbs5+j5Ct+u2e030NllJqzvJVPo65ViPo1/V29JkPupHvQvwDK0ufSIV8PKpFGSHTw3qKG7tgjFcONOD8a0SBr63HJ1+cX4+NcOZS0b8xyNKtldh0Xkk65/GsXUUIHjG/qSpOmjMxZQT3VJcTkaNRMIB8aS4t5jbXScnAzn41ovr4HG40R99LEbWGZF5GF9P4GgWQxn6pPVNDtlxgZqCFyGaNMZFFlRQx5tjc088aRXqscmKQ6fxoRzWM9oB3Kmpfwo8fo6VoW2ON8j4Vc2rxzC1/sjKuDg91eiPPC1py1fT0+FLbYWa3X3JORHxFXnLhyyakrRGpZzIuMDr4lznRnGwzUkNt0bcorqQulABVuki6XVACKF50eEdiumSNjjNG6vSvGK6Qi8kFNc2NybSR/f7OoNRbUZZn96RuoTXN2I1U5jRFzio5X6RmLxciVG1aTI0p+s3Ol46nK7qynBFBm1zMvumRtWK9ois2MZxTloUaeKUrqI3qcc8oatfJcdUEZGQ8ozQq+H1olP5luAcVsfUHpESyY5Z5igqbAcqYIirqOTtzpBMhXh+6UOnFCKAaUFNHCWbW2ok864MZJGSd6k/aNbb/IE/wBJCMZ20x17bpa4z36QBXtr29l/1MVvAZP25Ca2soqwLKD92trKD92trSD/AGxX5LB/tit7O3/2xX5HGPhtW0ci/CZq9jcXcJ8pia9l0o58pYga2eznHnla/JLX/ertWMDfCetujUH+vVzw7eNWm3bV7n30vplpG6E4LQv7v2VgjIrKxoG8cb9RSVQyHmD6xyM57q7CIvwXHWqF1DNyGedcS4zpzjatvW5fK77+q2kg6djvy6txn4/LTPEzEzNqYHkPUiaJNbROGxWuE58R3iukJk3QAID+fXAB3WQ1knArHIfKSNnOvf5XGdvkZrUoBoXIPf63ovCk/pATDSe4jPvVLr5quofGrZ994x6ohvHKW8cOr3sb1LKskxtG2iEpyT59dtahQVlG/jWuZwijvPy15D9GRj9/rC2f5uSPKfH5DcdZmVdZyBg+pxPaROfe4TYzXCtl0p/H5DtEAedZ7vkzgg45+XyVx+3QztXa3/QTfr29F5eQ8KggghFsJdxr3OKjF5ont5GC8RRjB62tS2YeDqAxUnovvd/wpXe6uUOojCSYArHFkl85Gz167h9I7h3mozf2+lXTKI34Vjr6Pn1JsxVzmplWeNn2IAeo57o6Bwx9tLKp7DDUD5VBcIwWzkm4aJjdh4+oPQVBk1b5HdUPswsLkRt46qkkbkgzU8lycpqwm1aHbMn1FGTVrBZ/SPtdY5eXVLxCEbjKQT4YrCSI58m6y87iNPE1FiCUxSNgSYxVhddyS6T8DRLHAFE9F2+tB/aS7A/CkmkURudiBSoXGpuQpoUyMA6X7mxzqZYCSYj99ejQPw/ZmR2HP4VHqHEnEXf3moobGEC6OeJq91Kmt7tVW5h56eTDxqYMccsVHq4oOkZPDOM1qXkerpCOWQuEcaQe4VDb2hCyzH3vqio4ElklWWIl9ZzuO/qj4wJDnG3dXlXEVmXS650HG1Z8RRitnKRIoZyq5Iprua9mulCak5AVaTBi1rMqiVT9Env6hqcsk8ZwOq8iY5EqcQU8mNWkcvGrXpCaZvSJZh2c4AXwry6iupjjvCEj76DwsHXxqRVPZuYy321bQ57DISaaRF1v9FfE1rnu2tpCNo0AIFOJscWJ9DEd/rXO30urbn+gG0c8bV7e7a3dTjGgNmrbVeZeRSA/DFe1uZJPsC0gPfbnTVtbgZcyB/gBW3VFdKpkgZCrY+hRQ9+1NEZBLqcsMDq4lw4jXzrRZIVX++dCfwriTzvJc/3k6kfd4V0ddRZkjzjK79ZidmQHvWraQRLq4y6z9YVc8KNV7PcMUJJlPCij0RDuzjnU1vLIElgDIQxxVq7LiGzBUfrP6jn9U0Jwp1rccU/AVJBYnjyyR6uz9EVbej+7p3x499T3CL2+eo8yatuknUtMJNco/VNcRLmMp8d6V5oW4UynRxB7xHfijwokQ+S9Uj4zpUnFJdTXS4HgclfsoSsZJ5RyeVs4qZe8DUK6P1vwo58cZ/ClSTpGaaEDZY8KMfZQVAIo15VbSRHS5JTUPCrFYOzoPDz8agu4lJtxGI5gP41DMJD6KVCvJjAzQ0EEd2DXSWPAVaXKcpPYyfypsHEibpVuMFCBgjruEB+diBoTmIPNGvYJr0154BcYwsWMjT4Vr08N1Ol18DSeloW0csHFbchVx5Lmrd/GMV0qJPeyOf1au4Yu2oZuF8Kt7WFtdxIFGj6uPGhHBObdtu0BVtctPO6h9Mra9x8KYceWZTy4jZxVlMfdlUxmjFOWWPOTpqORyrdHxJiNFar20Ri0MDdjPd5dRigtrjQpxlItq1Krp+2umujnPfqWrEnvRhSRyMvE5opqNOjsKPpvnlU3R9yQZPnFcfS9abScVv8AoOzmiK4gbLZPd1RyrM1tPF7si0ztI9xO/vSP641qrY5ZFchWmVFdfAihJ0bJwFJ9pCd0YeoEuk1KDkYOKaKXOhhg4pYrcFY15Zriz26yP4mi9o8lozc+Edj9le1uDL/kA9TDdoV7CJIs/VXFcaENCxOSI3wD9lbjPVqW3iDeISkZ0DMhypPd6nEEbQyfWibTWPSbsjwMtYTP2nOaPFRXU8wRtXZgMf8A23K12kkk/alJpFliDpHuoPdW4B+I6tJRSv1dO1ZghSP9kVJLGgEsnvt49e/WL3WUlUYwPpU6wPw5DybwoIqW8Jx840mr8K4asZGJ1O5+kahNhxOfa4dR8b5zSNXxpo391xg1HBE7SIgwC1cSZXWTkWRsZFLHCNKLyFFo4o1dubKu56mjlXUjcxWPCgZ4lk0+7nuPVkq6Z58NytcO1j0LzO+Serv6kkmj1yR+4fCtUkSuw91j3VpmHwPhWGha9i+snvfdQvDA8EMSaRxBgn1pMDnWKwf+m9vzXf1v8v6Uxxo/3xWLe19IXxEgFav6Kmx5ODWq26P1Y55mArawj+2avyW2H+oa+atB/mavmbQ/5zW9pbn4T1mayX/JcKaxLxIm81z/AAof1uPesjkf0wnmtb1yr6X3VuW+6vfP3V85+FfPV8+K/KUra5j++vyiP762mj/eraRPvr3l+/r5fnu/rEtaR5NdhZY/hJXZlufslxRaOa6RjzxNzre8vf8Aer8rvf8Aere4vD/rmvnLr/fNbtcf7tbPJ9oBrstH9tupr2Etsh//AGgoCdxI/wBYLp/TER/V6sHr5Vy6s4odWKO9bGtnP31884/zV2Z5P36/KZf3q/Kpf3q/KZaz6TJXz5/dFfOg/wCQV76H/JXvR/uVzj/cr+y/cr3Yf3K92H92t0h/dreKE/ZXzEP41+TRfea/Jovxr8mi+81tbxfjX5PF+Nfk8X41+TxfjX5NF+Nfk0X41+Sx/jWfRo8fE1+Sx/ea/JY/vNfksf3mt7SP7zX5Gp/zGt7MfvV+R/Ht1+Rt+/X5I/2NXat5h9or5if8K3Scf5RW/GH+Svfk/wBuvnm/2zXz5/2zXz5/2zX5Qf8AbNflB/2zXz5/2zX5Q3+2a/KG/cNflB/2zXzzf7Zr55/9s178n7lfOSf7de/J/t185J/t1s8n7le9L/t178n+3XvS/uV78n+3XOX9yucv7lb8Yf5K5Tn/AC1ym/crZJz/AJa2in+4VvDN9wra2n/CvyWb7xW1pL+8K/I3/fr8jP8AuVvZt/uV+Rt/uV+SNn9uvyM/7lfkf/uV+R/+5/8AFfkf/uV+Rf8AuV+Rf+5W1l/7lfkX/uV+Rf8AuV+RD/crazX/AHK/I0/frJs4/wB+trSL96vyWL96vyaL7zX5PDXzEOK+Zhr5mGt7eOvyVPvrtWo/ertWzAeRreGQVvxB/lr3nH2VGYGyAPD5Det6x3VyrArfatuVZetX31vWVrY0M0QKO9E99HOa04ocq8aGmgSRR7Gaxit8UPCt/d867AoiscjWDROnavCsZzW/2Vg7GtqZT+NYwc1jeu0a226iNqJ2zWAK5VyryrlQ26vdrlXL7aOaOoZrlt1AKKwQKPLatgK3AFA6a7e1Z2okaaHZrcY8sVuua2HViturevj1d9Z50a8+rNZ9XatjWOretq0kc6w1bVtWSN81iiayK3rfnW1ZobVv63//xAAoEAACAgIBBAICAwEBAQAAAAAAAREhMUFREGFxgZGhscEg0fDh8TD/2gAIAQEAAT8hyb4kD8q6yT8DY4JBtobIltjIiBSK7B3JZ7DOZXwa1gnjGib7DaWpK+RPyOOKJlP0UVFhI2NdH+iq9mFRM/JdToTrMdiFS7RKLIrCn3ES9nc+BWerKpl3HJmyXpDrDbnsS/BNuMNCJpRoa+/YqaZJoshqMWY70YcTZyadpPYokmkmVln7Y6RNSLNcDyR8C0NA48ix5KKukG6LWRU6J5uSSaXSXpsbcwJ5cN9xz2CtsR7cDQsh8jO6yWLlCVm5HsD5BikyQ2Nss56BpJRvRBn4BJYM8DjEaIRY2chNHAkNcjktDYKVAsQstiLJIyZ0imqHgTWDFlSElHfLkkFm3R9NDEjeELIxyYRMgRgJhZPYb44sTUfkTpDdvt0VktG4cF029C0kTQwqHrXcw4G1KmxqVJxRoVI70JZqHcslRQphpZ7kD/Ay+DNGN2jwclTodZZNO8ndRxrQ3Xij8wd4LOWUdlNmFbN0PsTMQN2ku0PHorALVkw2LKHmiJkW7Cdkq6k7cmzuc6N8EbY57DVWas2PSMuLD7D6PoTg5Modx2Ggz4Ih0P7GuBEEXwjDYnzpGF2F9HgiY/AngjZEJWhhSoFNM0uBuXnj2NEkk5RJRN8CdyQHOEJXIrs9kxMZeDsxW3qnAhSx4Q6NDoPseQyZiEhMvoNxs/xDhUPsTVolHIaP+H3RLd9xOumrspMDf2Z6V7JJogSkUINoQltExgxqpxgeG86REspK1TE18MxsdO9HcHEWSpvhWWp23safZqqOzQwq5GhrsNS9keKITgdYFyLDyPCO3JyuC5v0WLCrA9sSi5ELMWeTXSKEzucCPFcnda6ajuPNfBlREdPoT3wU3KoSzon4HdD7J9OOw5PyK77FOxPwe7RGexGZGrEeQ7sKueYv2o8jYn0O/BURIqFVFvA2k0NCYyJ3E1yPJMKIE0uIN7bmPHQ90Nkh8DyyI3iNSwLRwTv5E+42dNkplQvBI2Jp58jY/Z8DCx+B/RP2bfOum6pkc2yKvpBSiZZpBHYTgb5Jt49E/BE6SEL2JYE/8J5EkxxP5JvGh2juYN7MpdyFNDzKNRmCJicC+yXJw6Il9KnA5ezdVQx1MLIsDd0aHdj7MF8dGhWxijwpODoVKNCu+TjjseDFoXc28GTCsWoZrubXJjuTKUiy+CL6NKD0LuLYrwb0OxpDj5G19kKCiJJRGjC5SImIRV1ho1HJMGpoZGcpR0ODXyHJkZZ3QllTTqiKS7bFjmzkhmhpER3HxBMJbfhDPXqb1rtOSOmiOHkpXoTeIlMcQOnmxxFYNDcpHg/BN/sy6yLXRWvBPzBM9FXnqo9GX6G7DuLg0nLLcCY7lI4wiI9s1WRO/Bn0StGdwKE4ZPYeRGBInkQkmeDSCXHCHfyRYRNKqZaeNC5IXcRnlHBI7J4IzZ55O5eBl0mmnNOPooANVw5wv7kRi0eiZNnHSUyO8dFfgdQG+em3WB1okz5N0hW4LzFCfZnoqiZiBZexOJ5ZtPou+iZxgnTGJ4dvlIbbyp/Y1wQpWKTItomxS/Yg6yawJyoorCTklNjaFmjaeRoJXsTu2J++ljsIDgfQY8pSPR8sfc3ELatb8zMeBuB5vRT/AAPEnRhl5tDwk0vAkP6VskR1JekECTRiUhUiEi3wL+pLSmntCctCJnBdgnKMJxIsi12rUuG4XNIQ6SNswydBZ7yziR4wLyNrJrIhd7MGkkqdiFJJ8ieJJz9Ol+RdeCRo8aYQeXEqbZSmOHnsXqhqzeBPuIicdyKHUSZNo1VGjkakm7QzjC4rzFEkmSUNtqKBSo2mVtDJqY4GJwQgNKrH9YwyzjkuFwOm/BEDSxc1RbdoRKbmVJFmSWMjURIh7iB2x5ypb/TaRcWhdhecEAxIBy4laJwoSuwxNUTHyYUFXLSWLoSMjSGuEXHol/API33HaxCf0Fj2OrODyalUxU54GsCnGPR4ZoMTInwlmU3kX0hd7gX2dibvgobIXkaFamIP4f0LLc6Huak0hiQ6a7MVHAhYTuNEUBypkUvIsrk9QLVFBR7kmxr9D8jIMZGqhx1I5QZL67O+zNlDxjMzaXD9jkNoS9Diry5tH9GQNtSwkkaJyqLj07HKxtrZlKtCk1EoXaSeijn6Me5B0RJyNPklnfuWyZGg5AUT817ETMJJ6Th+MiwjZuVyFMbpuiHmDbESS9uCdIwdpqbbflgZ6DYAiY226RnVapTKfmTsWJen8kTQrsxz+BH0JphmUqj9D1zZqtwWBomhiSf4aIS8Q1KTQpEikhSmuBIRRJQkuBqyae1wz9iFTTUNSmti9l/4aCSHgLDVuko2U3YoAXJngvBPFpZsxSx7FuZLlZqZTihlWdIXvyBWaJu0QKmKmtpN5LsScFm2w9aq4pE5ohd1+ahXhshXkVz0jLOP/oQEtWmlcI5NCj64Ja7lsmqu7gR2XdjGDAdpl+ByafJgbwshIZIDU9lLbJzx6Uryv5uBQ1QALo+wVPSBDc0atdnwPL4keQTySTXePz2LKRNwpmFeaHyFYH6WOwh9pJvKTQvlmVjtIVRljz5iZ7kO3ZYHSROjLhxJcLwYj5FhFL5ISpG63c3yOhRhZhZMCeBRObng7bkds2b9+wo0UhXiz2hfIhlRI5wvxcCBqF1fPO4b79xPL0EhkaBfseRKpSebw+ySazfm5GIIe2U5vZJMuT4GU2ycaaNaa4GxagP+fMQixaTXCp0FYylwIp73fwLg4BaNXDQjdzyCTMdpJkPJwMvWWUhdNos2eHXpxLtZKj2k6ThocpdzIKVYK7J5HajIOOyxMdoN0eF1TJSwv7EKpeiLDmR4VKtjbpXobU4NVUUeWBaH8jmgnOGU6d+BAZgypPjqY1yQKh5mDeA1Yo0gzWyEm9PAqbTi4dTX0JfEQzwfZXg/MO7lCHYAE03dEJCgl/1BwYG+RqyVKETXwIwwatT2dhwU45ZLKJvxqVXhS/A7jIiZZZuPsHPkkZiVHohEuJqCHCR8pzB/gnz+E8i+c20IbIQKlwkOt3JOchd0SbT5ESUlLTfGiFCi3opl2YJCdnQPxpBOpHkrlUxLiNkO6tqVt/GPRKWiFUoGc6eYFa3oS5LtzOlifj9xFDM8xgmrJtyGk+SoRTGKQSYalTKX4JvdFaZlKhZgbc5KmqSjCVivaLU6cGNLBpZaC7egwGqIkUJLXeDDxIfChFKynkM12M2QgD1kJzB8auW2IFzYs7r6EDZszWm4TzDGlQr6becoZAUFUrk8yheURhOhbCsXpRINQrHiKuxGOeYkDU2PgmhqkEiVf5GyocQlS4XaRJT0OSIhItyniY7Isp8FTnqBt3odhDTQ8lLD9ketFTckYte2dUQ+6koKzda0pZGuzR2mTJ4PuPoSFGWMLsSWpdvhKBNfA0iKlbmsdphQlCXY5Og5ZDbJpXByhv6CVC8pUfDHNNdhb3A/iVcJ9xXJdPwlEp+MlUEUjBxKiPQuMrnLhy7oblfFDxz37CtFDYyt6Uex5HrhiIDLGXdrBpyI4S1sVS+W2zL+5xvEX2KeVYKO2Ugqu7T0v0B1+sgksYRBG7IlaRwYQ6yf2ik3eJGQf+dhb8iaj3DVKTRKIh/Q9E7MkqkbOic6jE/FkChLnsrSt9lRBlJpLNU92jJd53cKZrslK7ii0lndYgNSl0fB42QsZL8LHxJFThotMKxbDwOOQ4cdtELjVjWJmFOPyQLrgSWE1kQwQqIitH4Js8aQymK/BY2KkwWhxSL5Ik4/yskTRnAkX+oZLwss3NE6JdXsQ0w2iDwzCW8kwvJG3wM5yZSex7XDYzYhscyvxHsaUr4NrlCA62xOR+Rxgklk5dz8jM+VDmOOLwhxtaaUQN+SBXfZMcJy0JGbYhpi18JOaSgQLUOFgMLSdhZCj2OQkt8SoFJdC6twJw7cubk+bCkmniRps5qCj8DbeScZOVaJXJmJDfehpM8FZYnSJeA3tsdxOUTcYE9oX5EVA2sDNFRb9C1LJ9SMsSClEhhpmHCMKDiByPFyQm2RTocqOklHSemnVoTqjiioFA3dVrgfJGBrBTI12MKgjcYLf/Bo6geIMFv/AIKCYUicIajQ3FFrGLAASmNyslteDOUJODZSwNQsX2L9DSu1YqMVT7ki7JT2ZURS5UWJSSHBrjZDQcbIctqIY/ilJ9pLCNmuGcVXWYojAsEYhjJLvHyPgJ0pkTnyXbVXdbcKew0c5+27UwMmp3v2XYayeWAw1SSbWmsNCWIESUI3yUxNhBMeSjlktPg8slTCJgbjGxePZOIF4HCY5MWd4O3f0hK0Dd0eVDVItwJtOUT9CLX4GiUijTGfbcHhkwnqHWx6u3lCIbVlRiC55MhqnkJGoowucE/5KJCt13I9Qss3YglKY9zyPUmpJukNVZl+ycmTZNrVBcD+SwojRB9exYiWCs9Q5apucChakrhqWPgZNQ+iTSa7Pcq2lgVr0KoLtjSWRDU3btPEtIbrRJ3ZqRo3mwOLIP108E/ZKRLgnmh8Jdcmk3A5Sy5Sk5gV3PRykKF8KKO5CxbETiexcuSNYhX2NIcZKRv0QzDcyNtuWoIvi0wsq084U0sP6ghoPzSbcJKKkQlLIysaK0wnCnkJ0cNzA5XZHcbc4hDUZT9kicNfY9/k+Bs6HIXmyJFZa/wJK8qviv2IpKtcYQ2gJVGBb7DEgtLOIckBJIG2fKi0TajCGSiw0qeLiTLHJ3E04MteSEYWEaAiM34K4Fju2L/waSUtkYw1eTT+RKz7OwShaI7Ev4DVHJtOoGb4LEV3HtkQ2I+mYI4XxKlLRCvpaefXpjaprcNIq2ZsVDbKjLMfJQITNhFSiPI67EuT5VlD5KY9Ew84LahiGs+AZolvWhNVVNTfDaTyQUbE78MvOVImx/gQxmmchPRr3P36CHfGni7FNcoZBvkEifSVO8aFKl+bFy0pMjP6fYsT8uCRYNxnCXySNHeA72N4HslCcdiERsmCKm4QhI30ljIl9syT5Cr8BTkCU0cO1OygbvEThHlGhN5y5UQ2MEORSLSlfIlBmIaR3C3Imhx1HlZqBZjNGyuEgTONrWlM9jG3JOdtQxAkRie3dhSRkjUQxpaUehUwyrZSpT/jkiqPReWI2xWJywt6PUbUZKEEuOyJ9NkKoVZJNwuEPOXgoVyYCFCHBzVshPZXbKPflH4Kwe7EqE96O/I6K8Jel9DSHi4z7JUPyL0MkcpqGLDvDZLosxzgXrErxpr2b/L01TXmjM7WLXCgt0RCjFYEFtuaEfFbSi32FKHVtxFgWbTIbwMn1VcPA6mHknI2oSqahoQqSSRO5KNRQfZQnyhT82UQin5GDJGq5ofkD9AvqPF3V2hcdFb+wEYpxzC5EQMRSF+G5ev2U/J0zIpoLhSSSDiK1u0S2OK0HXDCYOJhaIgypJQdTgpyN5Q0+WUTqWSC0SdJT5uy0QcV6FYNcWjCjXYlJFMU0zQoAe6SMviSD3QhsklCTq/0UE1Sp03okMzE5bBwyDj2iNCxoTpYLn5K++4vCQhHwyLF49CzxXIyHMRwNJpdJ4KcppDaWiUNeT2OCSp+CE1fO0MaTuWjLm0NTLIjNOPxMaXHYfYy+R6H3Ie4SXFjUdjKhpCeu+R1DNDXeckNJUUS3GpEalTQJg/ZfcZSevBI+JNj5fcQ51n5NlmLPhhD9reksbscDtUcHQCPXLnVJtPXBsmEkiCrThExrg7ofxv/AIJ85bAzXgg1MCqrDiIKvk//AAP1d0DOdbaGdLuZQleU8PsPpKxWYQPZNcBtAtXOUvxLObh/DiSm+41oLbYYcpO40CbFJ/Qx2jaMRA4GvQuYVS1pgwATWFJRJQf9I0CCtDlGrC5htpuRsWSeVDdfRR4dTOaS8JjYfEyGlWSlD/onlSKF3spnAhappiOxEonJFXDKM7WSirfhQKt9nBR3IIl5MwVDP4Rdcts23ImJHlhRjhoQikoilLCS0uwzBFbDRFnE57mGv2NQ7Goz2JuLQiV5jCeluX9muJjvkbiTOWsZZiKOGmjH5SquFcURFTHSctttsyUanyFgKdPm78EtDGLsfxGnjK5bllxdjFkpJBaZdgjIjoCzgcLUUlMYwuA2ilxIoTgvuk7ER8EFit3LJ8C7KkNir0FryzCEhk4G2TE8FoEWtVycCa0MvQjItVQhqfASV2NT0hTw+yZlh+mUWaRNvfcUD9ekpN15Qvp9CiksU2fJspsltmE+HjyRKupWjhFHPb9kP7TqTFNv4QmK0e2KGhQLyU0mabjAeTJ0tW4TffsIPBlGIUJQlJCm3V5NpnU8Dct7okTT8SPdQbpd32bTIv5vohwzadWI3DgzQbTVYWiDwqKMy72W57MmadLaHbS+R4qCmuQ6dbElbCNWYW+jKTRwJLUELN3oVsbH/wCCdDa+heakbJiB9z78mMGNGewsnliKCb7TUHxBVBgI4/5E0pIbmmkkfsqj4FyxPHAqouHPJTK0Ny28QJ00vQ7VJrlycwO4MakZeBE2eUE2+T/YM6wNzSm0YE7JehpHBNP9DcqFavA0YOeOR4QNuLOwnKKLsyrKCCYl9E8ncTZmhNw4RvIeBJbvSMel1L4seERCngQzZiRtKPoeZ3BpBLn2YMpSvgdIwTXJxpirPsfcU5MDf4JEbGhaU0IBPCEIuEimfcZk0pFh3xuwjvkz0VWX6nDh8z5GPDaMUC4nBwyCmzCoi7m2PDNztvgYEufAYZCkmpJxxJCi/cEJy1zOGQduGDsW3CY04SsOpWb0IHcZHzsMCYpchaSFgeAzPsoCIpyOdaOXom0oF/kcMVslJNE13NpZI50Q98D4MTTv8mHkVntoTjLmSvc73ml7sSOW8UL34Iyyaz4Q8k2WK1aJ4Q1FNaIhLMiSZJd4EodqkRv6LYoTTyRaJqCFGbG4gnswhOII+yND8WTEyJ8jeNE1QhqMjwEHaqgmViLrBrkdSyKfJQWw8JwLsFE5JTRw0z89MJznRmxEiRq24nbyMWyYyZ0fR3J7E80xijK2P0nq3idCcpFEDgWaGFJjwZbKZFUmDwZY8EfEnss2Q6ckp/omCgmBuflz+xMlNN9yHtTgls9grjuh4lw9VolyVwNTacPAnyJ3wZROBLs8OiJ2nJl9hOcnkWXZHfJhdEz4HmitlGGt0agT9uTHwLNE/OyKxfol4d+SVEm2Q9wQVv4FrgUmrcsuOEyLEmvswYKo4fJPodxRRRhF7FDyWl4vpn5HqB8ijZCVjdDp4KbGbTWBpkmiiBvME9LcRNXfjyLs+emzEvwKoH+RzeBqTixVn0zSD3kQVzoemhvATGDWJH36NmZEfgnj10tRAgj66YVLJOCMEcoijbizTGp2QmiJPyPvgy+BrJZHTk89JwLC6cWfQ1+h0JYEvgaUyslht1pcDSs36EBpOEhFbEbE0mn3ECkMWM70cnJ7LFo0FrjY5umRIbl8HZLBs/yJg0IylyRS5O2ENVTsVUjOy6PsXkiROFykTPAj4G0452TwNzs/RncoTa9l6wWTrQ1CqjZaRXElXJhQ3naJluRU0OpHmvobaE5oVJ6M5jnpwmhpXBjo8fgmB6agUJSPU2hLwpFuxr9kvuyVBDw/CyHwaOw5KehulFUqUidcu0Rhf2ZRorEpIYaJSyS7uEReLEusN8BIZpqGKEpwz5hY3Sks8NxJ47zE0ZcYJU9mIrkcUST64p2klMCKvtxwTziLzg+2hzOH5PsNk7C9vMhaYMEVRqW5MKhKWpn+BjRkYi2d5LHb8LLMk7Jdk+Gn0Iw8ac5LSmejukJxGlUTmH3IYVJVpclVcJFb4LiQaWoysL9ETOo2bOXFcPA6mjYBIWIJBxnJbcCWs1mW9DxPYgboLK4OBhlfCI3MQryxfsUXeUpQUk0eiSXhkcvCOV9kqTDxHcdiMbfIl40RNJcOB/cg6i+JJ4JKfz/wla2hZhkIVbNk0OjVMU1hu5AI/sYTH53/AMe0JEpL30l4WSZl0E47M4vQ85FXYkVmK4FSXycpE9h10ngWO8C4nGzD3rJZJNmE4G1B3+T7NVZIkvge+1jMDU4NoeAkleAfQxKzgbqNjUZ4HUCYU8knNpVO0ZQKC3u/MiMLrnHOSwZJNk0aE7SJU7jwJrgcXajHwkj0g2GLAgwGDDFr81gaOC5tDUqBnRsDccDQO5HnxRQJ0RuoSqB9aRysdxFZnCTJb13g3QdemnaZX5IQvtlDfsLyjpjDApa9yZSb7IdWQmVwx7gnE8ci2yxTs2kWpi8Twie+leZEKjSErSU0LuSJPho3O9ccoSP+XJyOWS0ic8ClZeiWFAK8JwXHsdWcUkNxTXowsbo+IrltlV8pKZeUZOdZPOxRASdo4EQowpq7nAln90O04uTZJ12c2qNm5o5RjbPbKz0Mm5iR6wvLqumGJLZtfIVGQ2LyHZgfliQq5mbv/wAJ+ULyrqi7ZEFRxjQrPPW1cl64TIJWSIx/i4Kd5tRgTSJTGYLTaW4yLl705n74EqOXduVMIlBSTNzoymW6JUmUP2kvDlJ/osKHs1NOrGnla+R3U3xjA0YhQq9iokTB9lJS2miiacDRkiQrZfyLlmCjRBflmEd49CuzN3G3nfwTKlrDCKY6c+7w2ltRoQMqJDcXb0LKY6feBuMfY1QiHulOAvPcpmpaP5EgtjWGCtzN6g7a4Jc0yZtOKaVx9mk6k9qRcs4oWaN8kmxohORcJLY6TRtEtjuU4y+7n9CJyXJJZXgabUq9poSXhlfPA1mmONSRh4TLXDNleJaZkenZfdt+BxzuAQ6+izb7mlDuF3UCDc/bbXoa1xSLNLPckf3Eyogj+xNTrCpkj0LKUTL2DTsA4NpX0xAeN+1h+wl8Ez8laPY0zdOSRx4CyomlchT4XgfMHhRtSIrm1fHNKETIJlG23wzYaTWMMw3BuYYsxkadGGItUzTHMA6exZv7auTSeLFzFVrjaWOPBlkC2TH/AGxbnPWVH9hVByindslk3aNOCsXyJcFkr4EYHwphN7VaZEJCkZhvIxKqcybsTlUWkjoQ4RTi5QhdwHSGRNeh69rmgpcov0RetX+jJmJrgXGQiJKzpc1FiRMkBpKTOCDYA+dYrZ5ww6cic58+uTFtOtf0Clczy38hsXjJjwFTmoYrBLyscUIGkTQ3nlCUQkag13RaytzAsR6gSyxJppeSkZ8dE0jpJzmBtZOZyYpmZWlT9JiE6RLCcCtyS54SyVJgd6UoFt9HAmMdhEOxvJsiS1960EFL8EIak1hkTZvmzAIkhUtOMBWSuwm1RU33kpJrLi1Ambh+CFKw8sdNvY+jGKWA0cGySdYGxCvbKIl5wSWNIkaZSbZvqWSeUbZKc5saiTfYnJWbSa3ClYa+uEBS0CXauO4jsuubi5IkywttpMg0KrcZGWcDJpQ0I5R25EXwZobqq+IcDwmDSMWUsW60OrDpK95JugDNMSU+vof2yOW0l+mLoE9iXpyfARS/KID3tDBRM/RkSack+RuWuZGIokZ1allyJsfwyUWJ0Sl0GZcxnIrzhiy8t/7khGJPJTQIS8JbZue5eisqngKrrj4Qg85eqHEv2JiurfPeb0MLXsh78h51Kps6+2NfY2qXgNgRjpvBFPwJVTxRs9pzexCJjzmqBfNAj5eRLXXqjacqRmclb4E80mN4WoB4kUHmrpIoUcyESzC8omIEzCSThW9yiVoqYsvUjRLDtIpfEwKmJC/ESMU2NGySRMdqvhE8ZuZf+hoY8UsLJ8b7Y5mWsEO+Jv0CB9yIluYA4LXtmS5YZSJzhhJcCsWCpkVvsYj46JQutPNiQ1RnuZ3Ik9+hSNUNZk8EjfAmqNicSxryf4QjQ+PBSh17kugWHA+hvF0L+jBj+xCRMFjesaEphWsMipkp2x7JEcaE1mp0RsbrEEKWVnkToiyWpZ3yKkCv0ksSpjpMIUx4Jc/30Wf2b7FfImhRiISHaL38j8ijfyQyhK8VNibuzlTtVoncIdWTqQpiPp4vXzKRdlErnHP2M6XYMzUfAgEm+VcSn+2NnrZY+doM4s6VaBqTYCdyzJPhqBI7wWIHaYctwvlmDwrb8EJQBHhVLmhwNaUJ/dsdQxTBDgiJTWBDSF2Q8KYu7Gm0XljySdXej6nCbAaSzPAvBccd+1Y4VAnSJ2Xz/wAi0tB/vA3/ALPwNKFJ2lheaErdCksmVN9g+mFAb/0nkixLZ/SonOdeyzOX/JW1p2k2CUvItC3zyUePSQ8zvuBvisQgvq0iGZn7PyIkiOw3ZSHeStmRYcDMJinQujjPTMjhoQuAhOEeRHyQvgd9PomybiMmkUHIp5tGxTVdE84orGqY0WwhqRgzYYp7Os1SYjyX0N1ijAcHCz4J3saDuBSknUEtL8G5FRjdiulo4Ohaaf8AgKGvwPuZ+hGNqiODCw268kYOL0XpyJ34HLS/oZcS8mDkJXWZZZSel6SF/sJJli8+hjfb4L9kxZaMGoR2kx6G7hZInKokMyWyNtvt/WN0mTU/yRiuLMQsVpZzmYemMZYjMohmls0JJS/4Q8j444nQsQrnf7PwwS/JiyWG2kQi5hEXtIvLpDuI/wCVkb0nA8mPojs/aX7kNXDfkj/R99gvwSlE/wCKxKmW3tt+y8X+REel/qGby2sTa2xussY4eiIFwRyUbTkkVVwTDFyJ1gmOg78R07dFnAjYxW3zmlZHnyRO+gchPlQahi7T6NSk0h0NK4RTJKMxGnVaLwOVEdJ6MoTpwKCEISIkFe0yaJvCsp8jbmGiaJqKU5OBHax1lwuWRKrIhuW0eSGPK7VxEQ0lxGFCujhHQnyEC1NQZibQypVqSR6diNGulSTxLQv9ftK/LIvsVbhZY8BbMOUEvYrTzKYzagQym9MfamhsYWBEbcDr0KYGDNoSyjuzls81MSeM7YoV9zgbom/aND/s4opRNA3cWhTNtXqBRQkoRAsqMyTaRlDNiBOBpa1XShOp6NME4ZRNKDZFRxyMr/ZH32M0L1RXSTB+xSzRgoghR6IyxRN/rQn9O0+97+ogeD/HA82J/wCsGSklwO6RC5IjhDKsG9ksSJSqaKJU59mMdybFngjgpRA4YyZgfseOuk9DMjCOk8jD+YYVMjp37GPeJuSt8FJngcHcw3cobXkXJNGmLzsdDyO8vX7JFAUoCfYjNZRBlBNBpdegl2x/shrJHb5ITqhID0M6WTpUqv6Dm0mTcckFnAIIrx6b5Ph3QlEGJU4gYVZ89Ym4l45HpOCrO1CG1JdojJctkBycFKLyXiRNYjnhdXDROo0+GZN+R5m6T1ecCdMgnmin6vBI+2+yhZZJgAFyxU+TcY2aVA3C+U1a38DmcsuyTbu7EhkQ90M9xDkx8UwrHeio3CSLtsClygzmAPOfQfiUH8BMYX8G7sFv6vtd5EoXchAYiKuxaVONalTFgX7dpW2r7QOKcrWcE9iVgeR50cPkik5EdWlklwv2KUOTEmeUx3KVPEmdKTiGhN3HIkcFwJbSb8jgmXdl6UweQWfI+RKkQvFEPGexjvA5U8lTyaYF5gb9wS2+bLKpQLclu8mXpDISfcnZnYmmz7RaNomNCxBNDEDSMhEJTXIvZtRMSeBNyPDB+HBKEE0lhEnsb7/Ak/N9ONyToT4KWEbUvAo9iNWEJicSQOtfGyZhuLZfWjmmXDHSPs+STWBjhE2TZs88x3HV9SWGuSBcKNPtklOUpJbtOfRNFQlImEfECpLPrKQkygk/o34EwwVU8FBoOHBNoLlaEq93wBoJl7KmctJMkO6IFEFblNIJxYmRWStYn1gTbGVTmq0m2x8djwyh5zgk4zazclCG7ltx/f0IECRWMoU+x8a3LshsRAo3SdVwoGnoWP8AxQyqJiZpQ49SoEbPsdhkpy1f7Y8IhTM4OCbOyw15t+RiwfR0TtxJA35/Ux32HZPfJnNE6R8lr/iGB5kkNpkaC5reJDmRO5cbQ0hMXdXVzo2xxw20NlIwJUkoaY/BDz0OESW0l5nkoE4KsUTVo2nyI2I2vXE8diBHKYJDY5y7fAuerWRPMEZy7CLA5v8AoCtAXKeUp4GIUJVlG/vHlOa5Mhhf0WnKIJW4ztMZpUeR/ZHYbThIlhCwUoLmLRNxJ3PGDS2W4NtW/KYqQlEn1iSUaRvf9DeRKMaIlOVkd5VmKhEVkaWSbbJCSMrF5l8saGJU+BIMp5mjWel84JnySqhnZg5/Ekni3zm4iZgyjRdjBpT8jBlE2ERwswjbAidInVzlfAt7wJoaT+yCNGh8qJLUSWmXsVdoMgsOR/dWmIRMs4Q1UFR0w8beyrqufOAd8kjiaTzCIkI7bhPku/a78R4bg+lhI0xY2QSGOXwPVkgLNUx6sTGIbbXLBY+BiMrJa79CPBZDiV02bdh2x5EBN5QlnZv8EVFTHOgu59hoJQmKhhrtA1Ysz+wxO7LGOwXzCXIi0DqhK8cEgImcyloMnSZrJxBBgvXAM0u6snwaw/YwvAm+zkkre3NsghMo6yPMDHErTa0nkTuBmkh5ySxbJtbRPBjATYs02uBSbcKI/U6+BH4nttMI/BWcCRspxNvKMnYjAR/hd8xcVk1DT4MkfIDFqWD3wRIpVatEkJsSl1rJVMGrtwJOCYZm0Jrgcsf4FnkWUdx7Ei/JHIhUp1ByVojljuItkbno1QKYymL+Cky65cOSw43ww/g7j6MjVDErgaohR1iDv+gsohFMY3bCJO6cwUkptXI6W1RYJJiS1WAlEJrOCU1lE0oMmLK/tHHwNuRFH5Ib8cmX4FDl0prJ5iEcmIacZI2vcRZdtRN3dCWSZPCfsWNLrqW/ZnbA4bg3eCZ81CAJkH4+dlhNaO1QTJ8/A6B4ty4CfrpHhS4a8P6Hw/kiZrHJQ3dcSiu5OHCVmfKVkMrvDYP+CNGpE3vB4DPhnGkFUyNMu8RM2ZgX0vaTtq0kJUTVxJRPs4HbFGjBccmPRQ5PbsEeVMt1TIm1/YYayltxGRAdgy8FTgx5Mm4ITj9MZxaS0nzA340NcccDQbDc832ZnQuyJF1wgr6NKS+BW30soyYcE5IkLso5FbHR2xFKEHn9B6iXhoyEhZ9Fb0NZ6BiGyx4IFuNdHUSN8EGCM0K7xRicIialPgPJojkh2KzyMieyFTf0cckQiIFoY8M0jboj0eUNTc4I7bCtG2BTc8MnAAf2RZJ5OCM8ju2YO+DVbGuTtSPuSoeI0zpE8qDocI12QIpu7FEHbWRaMUaXH6GWsOQPXIi4b8YbhZuR9G1sVeRu6NMShGv6EsMDhGXYXYdr+qBNgl245FehupOH7GvAeZS+UPBkggtOVs1smJlS1yEyzO8AJwzsJupLwkIWXkXThDTFl0U7ZDE+3cBKZFVBNkXCjKB8quWTWh3ssQw50SzyFIvwcJHDIVgI+D0LNRdg2xzFCsW4sWD53ycjVdiYmBMWIQlWfQqExyvkYTFOjflE84MmIE5QbHgqyPcNOeUMJRTWaNOVGipH2EjRKKlk9KScnDWRhL4o5WBqSejtgQb2RHD+k7MAkfakcskZZ+ipHNBOcsNqv0MAEuj8DUoVrQsQPuNRmXFNLvz0caF0dYyOkQzoWG55SUPSQ/fxvZMSMg5Myl+BWZqDiWkSFRuu5FRoXPGY+E2Lyqsag9mxhjj5K6XHAsWyMbF+Cd66JE0PsPSIKdk88CDhKGhGTXBDKrGILNU+C67TXmB23MvI9FFEapeR0Y1/RD0Mzu+BQoodwlJhHIo2NSPCKRnGDma0KqJqlQvl0y7DLzBPyZdhtvsLjQyeDuHYliR5sXOCWWsa6MfBJZJm01TK4ciNA/z4OkTiIHUQuWfQRATNT0bixeCLYJPDH+CTO1q+hBrhUMYPIgZeFFeB8EtWyAhSZTKmN6Rn0ZE3vA3FEK5Se2L5mgMux+hM6dtjgE5xSJc1LjCq7TSSQlk7IYXHhhsobiRapUH6P2xA0COr0fuwdiH89SSawLo2JQpypLOemxpwmLtRLvoWpwRY7BXpkbEpswrwMkIwO6UScNOPBhy9KQkMQWOpjpih9PJ9CVRmVJ9CvzGZTKT2ZqmD2iHb6W0z4XI3MlnYR+kKwFn0ENzbJM2x8/kumKa38DrPRvki8jc5UkWPsIRsyjwQ2XiCUxLMjfNGsmoEHpCd+R9CRA5wrRo3z2E03tKiR0DsiCUqz/4YJbxHhRcMSdYeBvjfBabK8jcpJYgdip5FUQzuzCqx13PonJtVghGPP4Hmi6zECgDbmdoswY/CFwQRyTjoskVq+eFIfKM0p5po7y0Oxssgs2Ogy/8ARWSHJea4JjqhlE7E6lpbJf0ETSRDjl6XRWoxUQP5G4KV1BBLXMEwpeEKLYw0EMktkVNCk7wZeOlOyTEUduexglLSW1XXocWKXJftEIYndtrw2VhSy6OeXGBysSLSk0BrZkG26qXkYGuOSTbU5QjGRvtFfkQsnUrtX5Ix4pYhFjg7NLis9pDjcSF7ZFpckngefJZ1CLZuXA5uykMtPBLJRnRbYlKPAzUNLVj/AODAt261by5MMvwobE7+foubN2TdNpY0NwwRkR047r8D5FY7yENUllCGisVtG5jQ+5/pAO4tmAxplYkUlG7GO+6GJplprXRqEQcJP1aX7KolrdLWKEphJLvhNsbJdlbzlVPtHkQtuKWzDW0xyEtX+xqZ5CEpoJcthOMrJk06jJMchkNDqS8IWOkBdyAhX9KGJu7DErSS1pLdfQhpUTRVlJ5Mz8DJSLdK1WkVHFjmJrlygWPHOiqVPa8FhH2DrIjnXRwecsyv0TZiyp4kgqIbKWsqaIg4LZDZ9lK1tpBJCIdNyVEyN0Ql2NJt/iBKodOfJI9OjyY232P10dejZmi5hZPY+BJUctxBBBxAlmiRZI2YE4wKRtoSWzIcYwY6p0vcOWvZIqvCXBxdCnVGSQOaGf8AvYi1PjeYONMbFP8AcDmM85x2TSZDhDds15ZZIS9YfJEG6phQSDKlwB0Oz2h5DaUup0PKXBaDxHK9wpi23wixPum5TU6kYbTarmEKfINX22Mz+hP0jhKRNMJqz45qIEOI7VYl/wCC5S74k2mm/lDDSJ+96DE0WPhiruwuG0nQazq+W0hxVrfL/sIbvO3E2f0jrIFhKsCV8nXKG5TUfRCQecVuPlDBettmVeFpQS7nqLalST4NERazlvBeTENO6ybNoH6AlUE5W1YjmaXAvswc64vMUJSZpDvIr7lUFa3EGATwcxyJub5kNNYaFXzsNM5cZ9jesTIN+Ubfb7cFEjcmnSDNCw4ix10Mj4MJL3w1BKyR6bR2G1DkqR7p0LKXzNLuye/SdWYqQkF5GrE8FqPbsxKNaLTfpDzmUfh2SUdEEUaV3oTddIhDU12ksGdtJW15FMSJYxSpHuWbGw8YM3hJJgS/En7iwncSVX/D8fB5IuekRBEToY8eRfkgpYT6mNKaVuxM3LbnKQpZZJzBRrJbMiJo09jgUwyFhSJ5iGEJQhwNu62JFL30XwJqmPyNk/5CE6kl+xUj7cihkZJh4MSQYsjQat8D08/QeVJZcK8nbC5QF+6HEiyQO43NMagZQGwu5lVRDCjEKmhnBBiuVJshOELmSceTNt95EipQKQAhUsVt8IrwfGlGhFQ9PD03Qm6rsERPzYtRk3KUv7Yq5DFkphQd01wyK0S5wnLjgdzJRqSPB6qChMITXYIe01DQ7zdxP4YxJbImJQm1z3RP2oohRGPhF4nOtEjXwOtk9oUEknoEvxG10rsTEkJJIhJISRSALZQkSoWEkI4jTDuMn2grinholv8A6wELsjAjsvkLQrgn5OS5Jkf/AKG5ZVkTYonFidickShdybk9DY3Hb3iTViaTP2RyZFoPYYvRCcLPJrJmRSvBn5EO6UKDA3wXHc2BIfs/zaW/jA6pJ8CCgeCHE7hMmvwIqMh1bky29s0uBWWhue3TTZ66RxyKDJWS6jIn2ZLM6CPckA5jyJTatuNCl2y5eCIZ9yGWKkKDVIqId0DGOwLZSieHA2ZJcVhGaFE19H1ZP10XRBMCRkU2jlmFDakMJLCQjS9oFxI1tORtUNhIRlYs5iYhOL8DVCgtNUzEUoSpLA2tIz2QjvwNr/wTi09jZ6MNoSqjBstFE00Sm3NHjpgN0pGx0Mz0mrFeX0f0Z9Cuy1bbhIb067t5hMoXYrwlhyxPODxwS1jY6Vbgnuhrqx9k7GbS7WicyIKldHqiUQZiEkSTvlzhoOqi0Jw8DkojtGyjjDstCJzrWSRNS4ELJOUuCO3TyMfF5mAhsMHAI8kfg1sbAC9x2FyxOhYUOtMw7uZOCFrR8GRFDXJbFGjt3BwhIIIGFK6PJNilWhzqGS/oU5YOWBmcCYlEoTtGin+wT3Jp6Eicik9vI076S0qPI1yOoQ678lGFJBuIsgr6QJVlwlTiRJZI3GGTpPBL9kml+QaFKnyGyWEOqJaNHKG54OBdmTPf2ZwPjuTFsbj0MnOiTUi7mujYixb47D5wPKPLkaLHemWojU6J56GA3F4LPI6bokoJwLLHsSQ7k7BUHTQ6080doEs3mMkZmVmTQhJiW5PBoNwUO+w2d7DENKS7xwUntCOEnmSpTRN8mMAK5mK2hUOCdQgyFhHfYQPIVlNK8mvehzh8ItsBMuJDJrWc3Sryfo74g0Q55TK+wcl4FWpnkJhMypRyvghpMQTbJPuGhCUUSbCsEwUpvu/+hGHJXGdejRkZZExytnkSgwWUnghjddxrcWnyCPDGJl8FLyhzJsvuJJWGsqab2OdU3YKFzJgyWN7LND7CVAlH2xY65FpoawCdI+0uBecbVt9GbJlKsqXOpXcbz+a57hc+R3NyKuofsfiellgqHMgWZS+0s7xLCVkhUv8AwpcJvQq2dnn7QTKL0cSy+a0uxvm76ssETaxb1gQJw5CMkRkdNBGo7eR+pEai19yHEbPM8Z2FYoPih9ujV8pwToarMk2bCIDZVxLbgiFEJLbiF9kLV4qdSufCWxlJmCTfLJl567Q5Y6dlQnkfQYTWsJZEPaS2WNZVY6RknjATQjkaE+B0+HbiDmHYk5nMoQfInk3gbmsCfyOv+kJwdwiRS/EyJQswQk3AqZ6KWIamZ1F2247iGK793NtGSc1i65yrwcEGvJYdG24WyF/ZDRTwTUUNmpKMmUG61ZpoTQF7ByPsIkjcvPgjEk+SrAQzQLQ25HNtJw5D+iPuFDxHYqQuReyjl8LyQh+Ju5T47Dx0CLh3ka0OngknHhi9j93Ti0+8iZqBaktw5IikRPuR2U+elNDi3OhUxFlLPwVJI/JcDGFJM08UK1yVNFqNseeGwgZmIzKkfEGtVt9xKt3KdUb9F7EsqZH0SuSMDapKc1yxQxF2S/uJX4HOXKL5afofpgmS6ddsr0X/AAIEzEWJWxLsttpgy1W2QWx1Yxa71juSGcfZqmQlQPdqLKueWUOyE6I7/RxGcPtYFOutXZMLLLgF03eQ+O3KUg9TN4mNSTgGWONDrBPGTOePk7cCwiK4CSgYkrlppycgsq5N0O4GhnuZS8tIwhZTA68yJcmDImbGfE/qA6+xPQpltuWxLj7KN8dhIJUkmqeBzt7HaSp+QKjmKRK3eJdCxpYX7aYiqUCTTaew1zk8c+SGLRs7OUKL4no8Gvz98LEulxwiUtwSoXYdHtQ/UJlI3KtMUPitq0JOfklWCJgaw7wRPIWI0lh/AwpaSONMu5Cm6eWh22n1D35KKgsyTBnA7VwJKxP4opXyZJspUwinE3Y6JqiS3wUDTO2rQmbjVE6adPotyFgpeMxBC9mu/TRgc8Cu9GuwqntwW4+xYK1bRnGCWo8Fz+7hv6IgBUMLhCSLbtSlRzfhGIWZ57u5DNpJElpNTZGhKFM1yjWcwjZq4TzNQMf3kk0qn2SIdVEYlhDX7mR6w4yKhvJRz8GQTqLvdrtZMi1spbANoYvA6DqncOl2NdbqZ80NjNcV9DokZbXlw88jdLwCfCPod9zln4TRuiTu8nBlSFeJ8COmj/U4cDBseeM0ngmoA1NjBR3yNLA0kSoR2NSOnCxbO5DurEkO1c9xKd6Edwd5eGMtZPcuwPba1CPy4ZFTZm5foJni0Klt5bOyz1MELIhSZSlKImLE20ptEyy3JRPyPvgTusSZajSq5MScBW4Hlo0K2ODHyYSEPQmcjljz4JsbySSSgS9HeOn3IhjtNbPI8DMX4Pxi/GSRVHxMyRE9DdET4Rs1QzotmdDysyOpPkffBKJsa2dw3CqRkmpdn/AU7m9EE8vLkeWok6kwtybZhRIqnDG28/Lgaspm18iHT78CJzKZeR8v46diZdkz89JvkbFjoeeiokZKjv4hDEVy0m/BKkRbBTUUuOJIIr8zsnz5G37dWadFpkmkSUwnCPROw2E42cT0as1R5JhiS5ZhwcHbkWTuSZNEwKwbX9E5yWVlGEXmqeO0jzUDqjc8E/gbjuH01RwhSvgS4sxayTY7KJsbw6dl9Rsdq6DcdMlhJMbEVApD0yP6GjyMjArkxl0+Vl0ahlmExY7siCOTY4oSfgS6dxUiOrusjcMfZDVpkfBoQ8eSO8/JZqL0EguSm2tE3KHkR++FQRJv/gtSwdSPEh1seU4pCI9JOF3PJNt6E34PODKzsSXvByuDA4onbJw0Js7HhrYfo+w2DgkXk7C7GXDFVob+BXG4exw3ZLG69DcuiZSlUUdjKCFcjWMpSj7PiIClY+a9CXYneSnOCtDX2H5VCW1JE2VXEa/aehbofK9bCNU0PI1+QrtDdzsE5fbYpibzTgU6lt8f6h09NB9nY9ONDvXtbweIGLNCJvMYzCUivLUWRiH3s/o3BFQtCx3fRt85J56TwZO5MdDpUJ+hoZ8DQzZFsjAhNln01RNsfZRKWY7E15wWXYmVkZtdvZBliaPOy5ul0ccioKVI15NuiLk5/BFD+Rvw7EwNy6+xsRMk/wBxRwmlUFjuW3ghXbMvBWTtFsutfLJkjU6opeEbGjKh8SQw3DZizKy7FODOjusweDAoyqMuPkdYErakm3UCB6Uvyk7C4QrmjDHkUNMky9SoTYqCouE1gUK2ZyoH7aMXNw/wPFiyhIgZDaEosfEjKlebaES5Y1XlN59D3WyYLyiGs6Gy0+B4JDa01tEqGVOlKMwsC0kGpUcSC5ETltcvhdxXVld+qQhSTgpKINNrA5tXS5NBLKqZWR4vgiIYJSbh0llkVMVAN3RPBObR/iQh/mh5pHTvvgT7n4AFyIWH4VB4YKSPnRDqWfDyPdzqZknmeRcrG8EEn7ZMglYkuEgZFt6u2d4l7E+KpNMI+jIS66pb8O3gcskkmxkvokWxMcz0TCG6JR8w38ic5G9rp+R5CeejKT0CVSS8EvpTMD5WiKPoyM/8BGHCFxoygXOtERDM4waFkXcf5I5JLmZGm3RBKFHSVfWJpSUYKZSvIl7IWxKu49F5iDBLlNicqcbRaKQ1uxbN04F3COWkaQPsYW5GoiH9CETjsRdhqmuI7/widJUbexXyHo2LlFckK5eB+EaLUDZGeaaX/ZwJO0I5KGqaYz9PQ5X5FODUpy4kobkdyxDflSORqEXEITj6IHcjggs7GNpSVp5tS+SU9QrqqWJ5FlSOFjHArNuJnIpQ1gmlull24ENJT6A5MylpTeitX7IaanKGT0jKITSV2J0Ic3cuVMNxrkkHWVNztSg4kVap8iD0LsAoOOJt5HUM1Q3/ACZb7zvUFn2EavtG2oMhw5RCjNF004NERN5w2jnEgHIZbeHA5KyGgofYtj9opLmt5vJe5RVCS3C+R0ukBoQ5EEXXF+xPln17d0BZfISpReJL77M0ZBM0n8klkmmNL32HeCKEsInHuN9MUTCJsmySKHR+YJp9UibdaG66N9xpSJhCB58F9lnZb4HaiTyJNWYsvjI40QhUC/I6Q6tiNm8QYhH4F3LpJGUR4E5yLpuBtPuMtZwNxLRMEj4yv7Q3LwQpKW7+htRlJcDsnCUxVEfmDJEOE4JlgmNUvvOiLEzxInQlr9me4uFg46cmqL+TJUkM4EhILR3f8MpPSycsk4kfsDjFnbcop/dvRP8AA3JbpXkRbo1qmGIZXaNKOi4aEGpDD3Dt4f0LRJpH/amRnPDAjTZ/4Z+1B5zEqngSQjiAHyehbyfeBSivXdgw5HOQG0EnlKZICOBTTw9wJDdI1q8k1PJywbbTM7k/gUHb2h+ire4ZJr7rQfLZWIOfwcmCKFoec0N8rM28LP8A6By0TynN/nkZf1CPHPb/APMXJPlAb2pv7Bq+6/QQp0kq+X9EtDXLf9H+dj2RqPbZ/lnZ1n9ApWdQTjE/g2G30Vy4mQ+nuokwjPSe4nY2fsKw/wAjeLO5lGMDfcZkn7L7DZ7L6apnZ/Q0eRLPRKWNQrE5ND5Q6M90Tf8AfRrpmi/Q3i+j30T9DZOwmoG08omjsNrkZRE54FlOsqKESakOGyNIls03ktcJiJGJ8ClpZE0yaYhTCFR3dq0bkWENifT1AuRLLYouzJEAhDT2hzNSsp/E0LE/UvyGmXwjTom1j/osprsJz5HzKrPEFCX6HiGBcrvHyyLbX4CheOs7JUZyt+BAmohYRLgSW8oVlBJBar7JAlfFaPUjMa71/wA0fkfg8Jf4ZZEjtML6QpIa39dMEwVglk/74wLhF2ZJ7P2dwS3TY8cmyXz5JE9J5GyUOsDcCcEzgTJjpb7dB4STCoTtidqyHJgUJ6J/JcmWNx0oTyOdCzJjySMY6O4j/plRCCjogRI8CVOTKwUFASRJLwL/AEdHccEXoUOngYpo0fR9jaDJoTvQ9DDQ7smFY0kpV/hIurcOxklDvvYuZbn0RSsFxocuFDVtgq4JobaaNQu0HLLXCZuEJpeekXIvkmkEYPHRahabhSQc3Rj9IKOmtpH5H7cTn/oTNktp+TKZaMi05Nf+Ihf64eRrjEKMeDHwPpaD8lCqPAopQVcCUD0J/HQ3XcUpEEtYLfgjBnpNHg9jZM4J5KiiddHJPwLvkxgTczPRb0Sv6O6PI+4n5JvMEDaJ+DQ30n0PuE6weDejwNqJb7T0f2OibIscIFSTA68mUz0Reh3RRweFSRj9C8jF8CIKTBNCc+IMV0IyY2RBxjA10zJcYMIdHJvJRmxuA0y0L1oYMpycUjNk5mZJmDDU3khMzT+kRBFjnkerBCkREfJMF64IPalsIuBT3kSKWMDyKGfkS2LxArMC7HihDDKFqhsz8wmib+SZsngmVkVZJHDPJ/ZBv8F6GcZkTwzj4Fz/AKh8C6JkzhE7ZKmxu5F3KIg7dMYGJngKiZJzroxjY3yTJJKn2J9xY0ckJhtI4fPTuTL6I5EhEeejHHknycmhuBKvIik0Rojg9dGnAk/YsQzGhY6JIS0tllGCG2lz0QQJKME1YySg27Iq3A6UQP8AAmvPRKijkal8mFIhoO6NEjwZExuMIYmoQnTLzMqGi2QmVN9xWmzR+iETt3oTb8dPOejLyLI+xjwK1eGL8EXfolJE1RJ0wTf6J4LJjZMi79DXCvpWx9z1A9ivNGK6LFWhRgbjomPQlDQ20mqEyBDwm2OTcR+04aG+BuSZN5J6ED5JnBLGJ3PRIn/wdwlZhFseTro7iBpS2OPsldk5PATl3Rnolx0hNDclhuzIhKLhSNXZswiikhWxWVpH7IG8E/QsdyODueCO77soQ9EQ/BJNeStQUx7XBM2XQzJkgb0ho9jfLJIhUPKJEFMFJKITeVEYtRDJuFOfgUHUZoaNplTbRYwJQmacPA5MmrgSkdIS5yIhZcCWKFWrY5eMngWjMEcCCKjPBKoB0uXBppCy4WDypWCawTZQ+DA++ujfc/IeVjL+KZeD3gmiYVdJUCdSNHIDWZCX6Xg1J5WhiZVK3RMlPaIY4JuiMLNGymfgqBDspTynsnPnbvN/76HAcUbTIlvCGbThEE8j5E0LGvpXDIHDCYkcElJcKbWVzeULy4YKZpb0ljIh194NwRTPX3JCdk6HNEs6QlLkmQkx4jYSSSljwl3JeohpIm3CbEJToUNBtgyjxQ5Q5yjgmjjpyY6SNyPo+y6JbKEdUjAjueSPwRKLNejY+CjfIsqRwiT7DpGD6jcqfgfYn4J5FV8jfTlZPowYs7vIrTLH+GQLdvg3XApdwiKmLclg7mju20uUKpFHwNaUQgk3BRBvueRdxOrF0nNkYNCx3EinaHnZN1cJ+BV/pkBCWwElgbghEEtSmKT8DFHnCtvzJH99JnVNnxIWHaXiDpTkUE6ZIz+VuoEwKSpMMoGBP5u20JlKXeiQigpOh00uD5vYhF7I5JadLIeg41ZucrKgUMrssxFWQ2J1wT4mpZSrTQ+/RJklPCcP8j33IASl/ZBUXZQtkltokORInbiPKY5dE0SMlMqCNDdEz24ILKnU6tWqG9qUZCdN1yijc3IJMsWpHLaT5LKGpTpmyJrmZfcnwN4IkDDVeiPQfRSsT5IwPZpDTi5b7DujsYlgj41MJz0vtC2gEa4bv2R81vFqT27nkD4Ru19pLuSu5DlfZYBYvozqWIqSQ1oOyW+7LiJctPOMeIPyRZ4IMbN0ikjLXbotGBqX4HaFnpPBEkOyaNDZsxgwx9Eno7SR6EmEfFkxE0zKhMmHnyaF9j/Ia++j9HYUxUlZ8+xLap4KwuVtEJKrbTIcufwKhN5uDLUo+w7SftJcncVIUxWWek7kUfZkXgWO5jsJUP8A86evJG3YtPadmiM7n4ZKixBIDHlvttFohZmT3LLEmr3g8/D7EkqNGy0e1JegAiY1IlUQ8CRQCMqlxzs0KorJMfjyJG5ImoeVqLKcR0gJ9iyyHNLJC0MygxJIm8LwkKk4uANMbcV7VOhdp0LGrK7bHsYKVCel/wCCDxJMKDqU9Z41CJevokqq10WpMbozCcyvGCl3IpxSOSstqb0x+VojIdzE9NaMDxZPAoMCYrGyeMBhkrKS0Rr0yl9Vpo8jxDcCmVqiTfILuXiSImyeC7BONLu4eX9lymzSe2vKxCmVvZFvEeYgiTFdLq7JOm5h3yT4RXCximlV5bfyxnk8lNW+6RPcLlfyIqGQklDwPPqBPBbZn64HAVa6hbM2i/CIrs8YOXdLI76djfTHvqo2N3ijMERwNmqH3PQu43iSZxscJmp0OGCCWR+wuNDHWDhNdH1KMDE1gneRlkfck8noTqyYlqIPsSN4gSEqsfBIe79BtzISaXDAljCCTEcvoKBrU8GYiLBJE+Q3ea6IThV0RF2ZgIjpCYkV5ydY8E3aYE1w/wDoxI5a6F+VBOiXIcwokcr8wt8wtBzVKqyabZdxFdlqw6w+zoWuxglgTfkT5PyTvJwQuBnvVZUFAonxlcW3rfcWERO0NlHU7XYb1XtBSMfAuytzyliMFW3uWxB7gnwFrg1NksOpsSy3khxb8f2IxJkklJPJLSSRYRCQmyBmJ2kj4cLCWOjxSnomUr0T3IQtTQ/kZq3Dq/IbaoXJNLgejOEM9dWng943BkT+jME99G3RkWXcsaSVsUMgVtDAxGVoyUWbFyJ4HATnoUeDY3NDWxuXgyOENdPOjC5Zo8C7iFDvAkQyHATgsS5KQZwyeuENNdHshQQRXA8svpxjTS0RWLIko0/Am3+xHA1P4aIZd2zkYUM1dXonmkuCOGvYlSY1RGtrRgkNZYydVK7dF3+Diq6x3E4R4JsXcQiCY3KUJF2RnD0N3giSebgYc5QlLwUJNWRMZMOuiyLuZFO+kt9NLoXI+hgb2JAyDYQqXJNOVckUZVe6HJgb2yTwM4sPEDgPk5XNuRbYqNhwoE8GEsVqecCoJ2OEhYs9OU5Y2Ac+pfscekE7hS5TKBF8JIvy03KYjZY9Ly4JXZyYjnkeXN/rga7ieWTfHSfyc9OOi3AzQxHgyo7WflkckP8A7KIlHBORu+I6XwIyzRFHMmXgYnYjo8vphMWKInJG0JcFt3wiZGDInBOK+CKZoTUSWTa+bwSKmlK+BmnEhLImjSwTC/TQ20nZEYOVox25ISdN0pOIaJan6PJjsKujFi2KuiR03QvsmgvpC5G0P4LdxGTS8jrQ3wNiJnGxDOE8KqF4IzkpuPkW1KwqlGGJaRNyZH10bQ06xJaCsS3DlMaisPgeOCRn0GhTs4xIj+QlT0vLK00RKRg+rj/r/JY0Qy1jlDpS8ZSD2jGGx2osIG4b7Fra6bZs+5HRLzRTXz8CQwdq8pv0Rq5UsTpWkyKsM1tv9fYvKbUGtR4UoktdmoeB5PiSM/8ACEIFX0J5S1lYJeGLGptDediNiqiPNDm0m0aXDPf57D/moGEx4v5I02QtprQkFhdXCakkd+xMnYRk+it1iCNXlmrPgSJ1RuzmOk5kisKSx1XSBIT+BrsTNkciwcCS1QlJBGdi4ZWUqFgNb2LkxJLv2E5z2EXM+RBLgRsKjK34XsLE5aSXslZNOSBRbNihw5N4gRYSZuy5p+xSpEMoyaistEIpu0o8GrI9diasvQgrIE5MVs9OjZLEk8EklRGhLtwYw5USNkwYGgPZGX/mfaC4ftDIkNNIwx4eJH6CSQhsxgLaHAbQ9HP6GiiaYtBalOU0c4phvzHA7QT36GXJfYB6osrFy1wRIOocZ80K3blQy2EvkXKbcoU4pkj0U0ZVyekJlTI3lVK+CKoubmdF9pUMCIEN+ENPHxGO2q2xqTBRBMZrSxkcsk6q8JBQiKvQQ4xE/EovA08Pp+jBKlBD7UqrkHREfopb/wAO+CQWlvqJMH96Su4i89iwnLOZZ0nn0JIIu6UhDXdfoVpMlScIT0GG57izWcJaHFrvaTn2J8KyJI1zSEk0RoNNqUoZ4LlBD7iGtVBs4Fml08yT5XImP5Qr5shglJJaXB4G5fYXgyMZHYxYYnon66a/B+BK+5WiOaO4RFmGaIgz6OxGiOFZHROiyI0PBTZEeSPgRAlQqHTtBbl5Czgl4MKMIXIkXaX0M4gswlS2m+BOXLFWGFJERVBFkNO9j7vBIR0FTkRrcOUCJEqEYm8Gb2dhPKgSFpkTjKMkWXTFgTdY+pOFFfYrd4lvfONiZBsJGiG5CX1Y1L+CcLLNiUgFLCrA8+xTOkXcqEnCvcNbCCcucCUJv4FBVzahJW1HsRYzTb7TjXcmWWFhI4U86sVmUJrJzpU1kY0O7OJtH8fEDym0DgLiS6tNlIsx4PIrElb0fGtB+GbQJRbBr28sjw3wNS/FAd6/CHIOusBeWfohA9AIXDw5dkW6LJLnjRisE4Ui5NP0yjIGZsG0lCU80hiUTDcoVEi2mPaeORYklWSK7ygkzfeEJ5yxlcdSRA5bwQP79NDnDpDyOdKd8jaI0Y0RORoE0pIS4RcyCQ3JIuCORiY79HlGROJHBnohZ0i9exYnAxbY89JwJ9NYEsSVwRvRrpmKoQ/ruOusEFa6ZzRRliiKwKMDk4moGYXYci7CXAnwPDcsWPoS4J4MUTSEB3HafZURGcjRKSa7lRNrLqU3kShyphrPApUexMDyKaglzdQqIZAiWyZxRo/2yKImKg7iQkRCEi1CSjSfAsqIiTmWSxoecbgYSr5yOgbJMFTEKaGpF/okw5Npk5FG4dzEyEVNom1LV5yyVIyW8nMpgSFzfA0aRsVP3KBXO/ZT+xcjznVrPPcJ0aUS+V0vkiNPfMtKBaYHQH6CKicMYoyDz3E1olK4EPVx6+4Hcy3JQgRhJCK4+4fIzb7mFwYzrRwFjGu7O+xWIbihsZInKwNVRsIZjiRfI8FMDrAq+KFQ5PY37H8iPIg+UiVEckrubE+njpfsQ+5B+IOxPAyI7DWxd+n+kmSOiwIf0QRyatmuwspY7kVwI4GmKM9hDcpck2cDWnhJmvIq9sbbp5QShM+9E0x+yQ8E4VV4KQZiDtXIr+0ZJZzHl0z4EmQcsiF3RfBHYS7mxIT4yKj4UykmycnE+Tc+jvJMIl6Ek/YjKltiKlTeRWSDwLgmMDbHHuMXYj6ExjrySJzJ3RksNEY/QtBPA68FO5O/gybQ+w1zgSo9DiDLJKhyqg3RMvwOzzkdxs14OZMI10sPwf6hvybPwJaQoYN2h3PcnUSNR2nPXCNqR2RwLNmejUkQVL6cdC7F7ihR00IZNBvRrA3yK86H/pMMfwak0HzXBMOLz3mZZ98Cg3SXszlhlQ1SIG7Q6FbReFD7qG0M0K42KnXRJENCwTUHnIhMhbIb6MYpUhWHjb8DFrZona7ryhkTfclgNcypa9/omntUNqd6EtjUb2TY5YFKnkdWUNFO0TcGJZntSTHclGr2RWMUxkhweCXYL0vCGN/oobDPsLYzMfYIxsmspOTB5wIePmtJZLuqJNSvAmloy1XIuQ3C1cppX4BvbJNLeCcGn3G4Hk/BGIEopG+3RfQ8yPk2SrHHJs7mOIp5NWbozMDb6V66MWjEbzQ8Gq++kq2iK7nkwkUCT8dENGO5giun0LMaF3VCUzCGTdFbVjcqiR4MRyLVD0LOcmx5hWKnMjwfgYkIf6geDFBRfCbe0KeZjxobSKlCwEtZgozZOw4iSEVFzszZ8i72Oux4NDdjZ+Oxjp2Exgxkbfro9irypvSCK4XeVJVHwQWyTuYcX4wRxbkbShX5O46Mai1gReOST8C3KPBGjQUbUXg1hY+opmQVK5+iZlxQatCZ5Ebj5xyj6EXCg4SpEJ7qZJTiAhLogt3DgL4kSQaOGt9HjJEgZGu6gVdNKqrKe3omGIa2Rj4BX/zDM5H14Vm0mQozivV/aJB66ZY0NcY4EuEQLuQjfBJOJGxu6OWKxruP6MuBtxAn0d8jXsiUbF0waETRMu2R0eTCj6H0Y0JxkXLL2jn+Ghf5CzJbOYZ2Kx0XND2+xbPQ3moZMsY3BwgsuEUtE7zUfoaOQsEIpqK7Mc5xizZ8GOTBLgrEKZOluDHj2sD3IVYsS5IXB4oXwQ62Jyxd8j7Wf7yS/AT5P0TVGibwK8jy5R5D0Uohq85jT6Q7ScJ+0vwVlOEnKa7Bj6eX5bYMs/2GSVK9wMcY7nTmJgULxob4P9UAD08is15sIt8QvmoQ2uTaRlwWFLStgV277HtNzdEDVL8GkUT3j7FQ+/4zJ4gd6/GBNqIxX2PA6xOg8aF7Gpmoq7crjhl+uBqk6C1eyY7P8DIG10doZXZluphMmiiNneDtQk2hlH4GLVaWEHB9v7HM6nTqGo/rpu7N16hHsn6kLZTt1+hNYSQkQPDlbrBCYK4Q9oiV0aurEN8HEyOjYkk9+isXOx3TPwK/CNn0Sj4WQMZRGjIxCIgzI/gRvp2NZNWeDul1TMJVYv8AMh8G4ViUKfjo+IIY8TECdD6ROL6mSZTEMag/LHJsqR6jIxmm0HwWVQz9lLFecKEPFN4E5tNK70QsqhLuIuOm8HhJEE0WffYXyehGFguTyUFeBY9hykZIgqI8KVgdnDfZk/RH45ERU00mIWK3THAS3ITaRNpQsDM0QAC2TgGNnd+cHBCjTC4eTksxh01pl0/7vAjYYIj0IQBcSKYbP2JdZMCjA3/qNdmJMGzPF6Jj1G7MdUqd+z9EzNuTOdCaNHJnon4F3OG6CZxPsYODKsPkkSvKTtwJBMvnmSC38IVAvI9mKHSongz02tme5+exNMiQxKcmpIQWOevY7DU6IEuR2+TwYdJvo8CbSO+RbIkcaoh/IzGTPbpPAtEVJPBonjofk2P2XA3qfI3oZLVqCc8ImcETg9GvQ5b5AszwbZXJly3A01YeBCyVMeScpW2JEtPBLZESbl0sTJBwtUpJR0756fgWIyJUcVjR9CSZMK0JjidkuKyT6PXTeCT31+yPgofkUHkyrFHglxA60a7jrodkvWEU0chtJNiUkexvy4TRjymEWpeSOKPoOjHXxz0bzFEY5JKDPmNmMUPR5LFMkFwJVbMCRjdMw6PCEsjueyoyNQlHRiV8GBiRoagdKOnBs2o4vpPCsT5MM3A6dzgtEszSukq+kjY52zSBjUk5Wyx5UkjUpH0JJsnE5jBUUXwiClNlHkkovVXYncI+yFgJMK0oSdrZxt0WKPJhyjzPk8vpPY7n56zaH1X107kvYmeTM/giO/JjBdDF2wKo4G48EQiptMYy9ocGSnMNOUOHhiCyd3Kd4RMmE8pOUf8AJm6DZi3l3RjcyRD4I7n+sgS6ZdGqJE/BUdElkL5MKy18lc0PsKK2YwPEvo/samjwd2JRkzobvgajFn2MQxKERBgbwkPJHwT3ojpB5G02OKI326+EYz09ddtmKgjB3JxRPRRcE2TZMxxyMPt0vUCH9nMpF8/8GxpXCIxPJ7YwUyf+sk6EciT9o2Iavcq2yd4CtArlBWhGNR0vjpsjpsXgwhUT2JMGSLR2wMyYMs0j8CPOPgymkiN2GrunaJ012JiJWnjbJuCDyaL0CgKE7hOG3SjBuZlprvl9GE1CsssFH9CU4QrWohh2ZF74totzoPBgCqqvib+CFuNpmqZvgkhwL8WNcRMpLRuM4YXXYhuuETxkfYSQWhQiOCZ2ZWTFuikeBP7NnjoiccHjpof2eV0foSrJJkiBSbsec13FwO2Ywdx+Twg9jSQ/kSrP0RQ/AzRRDmfJei99JQ5F46+DgWMCRM6M+dHkffph+BDs8EWPAjsNV0gXwZLH4LMpbiL2NvH2IVJu/siSTSW3AayUfDiSVLPw12Fai+E0I1AcsyI1YmyLqSfB3J30VrouBOZJrsbQjXRs0XFi7E6E4FAkhGoqle+w0uWgQzR/BHUOFXymifB/Qrnr4ldFf0kkLvHARENKBAXcXO9BYSwJfgeKpIvBKpI9Rku0twNzWzFt8uEjlIgWWy4lsca+EYfD4NsjS1wJXZFyslKWSUvQoZzsQBkghJEixg0prkZOUJuELXrTIp0PUQsVPv046aZgbwTnYyOeqREPJ4RrgWqotqcD8Gjkmj/WQSE7/A2yecHYcmCfRPs2a5Jk/J2NHeDT0KS546YMGhCdiz04M9hDv0JwN1CNi+h5H8CR2I0uTE7+4/6NxuF7Hm2vYm5VJ8IIBBqbHy0TPCGXTQjlLSWkNuij8GWTQjInBnrK1DJF26Mgc+xM8fR9iYxPkYvJ+GfTLsbjfTRZLBEwrxyP0BocOS/79C38Wm4SmRmcKJXBj4UeYXfbGCEEkzHu0dzocHaA3NpHOidgVKeElrEPUiAO2bGqMFJXClxLhOkIYgnNpp9zkmkNSruFPFfkdu3T2NXP+4hUU3REKcJicqyUxf8ALq+zRvpUQm8PISLwOmRjSJD8Lo2q5J7dJJSMiGJ8aLeCPsSnovsRnA/AkZGqvpwR0bJNmJjBFeiXJWUYsmq6MmWTEya7jkXnp4E+TmKHI+5Y9EWbJ56PLweDJ8GQ0a6YfoZxkvhBUrEEGzCKA2g/sIHhJoDpDZnyOa272PIrKbjrAqJbEKl4IkSgUe+vsYnM9FYbjZtBJK0yoJPJIy4GmhdoVtP6JbGeM6mCY8EoZ2VXhL9ivZ+flTTpcLIclJMDL6T1CILwKvd0FHErAob7QLV3cRmZLIr0IkSm28U055NFxI351yME3aCXAuO0jE7RY2nPnxAnrNaE9qtj40MQmVnycmE4ERC3IMm0q9EmFBlB+Zy7s4CuYd5SYpSE3HEmag8I1QNQ6wZHTgJf0NxTr9IrdMz++nJI4OCtfAi2jwj1B+CDQlBF9un0duRus5N2ZVEitqOiCDydx/Jg8MQdmRkfJxHRdjycWIlcEy5HIsitzlfwf6SutTI+2B/HRJ5E7l+A5m61I3itvJd4BVwXCHMpUUIjKMLnkwalvdcESKvE7PC6UJ8ODPSmIyPyWsiMNER0yjx0m2NrkUCbFk5GvT6UWRMZIyCS5UblM+0R0S60cxcvgQt5iYuUNRDxy8CY9lxwm3limiuCG5UzQm7g7fbGzIrg+pG4WCZ2TPQdNGWN9uFug/zuQ5gB9mtMVykTa9Cf2f5njBLffp5yZMFfR7InsLI3wRoVaFPB5orUm+w9E8j7DxybMK46L66bgeuSBqMngeKGzHR8m+itWUfZrjpRliZHc+fRn+xJzY3UHjBNVwY60Z6PzhJfISWSLMkpUST0tErkCEId4MCKa4G3gwqMyK9RrYg7MtjtYrI8Conk0QRokTWxBCIgZktV0m76/HTye/gT4IBtbL2sQhITs2U1rtKv0TyHM9yLVDKY19i8lp2PvQmXHAqcoUKGKJlEvwaPz3J6TImstMAbNo4ZZvv084J5MFl+yaS5HdLCF8HkXh9Mi+RUT8jfJNH0YJjookhXiB10XKMjXTUjyLuPA+3RnwNejwY0KjOifI2/ZNR0fyNLWxaJzZLsm/4O3vpzJMdEPto+iKSOlHBSZfI15JpBcmoOxDbMb5b3ySlfPJCh4G1okd46JseSB5/6Z8HfQmJox0jC7CJE1oZOYJslXBa9iEwWYfgZ7ojbhbxqTEm61gkUFcsp0PHbZL0STOz6E4XYb/OBMiRMdVr+4k8SOlVllVRsvwh5iLMMSaUruXyNckE1jouTwaKRfnoqvRKOJR4QqJiSbxDGpLrhn0aF36Rdjp+zyQWyR2K3Y38sm+DjYu3s8UWYyd1vpqhE6RuWZ8jqDyh+DsL3RJK6REEkRk1xJl9jIyDfEjZCNoh9xNymrYIjY8c6NIR7HDjCVnAq7jaJbwhgK/sY5FPgUxixE9IrrRq9Cc9D9kdix1doWddyXLoRGp7Apr2OmBqyTWrmFI8Q3hKT/jXQ8WfAWex5V/iD+mTNOWt4wJdt+xYHZh+BoiXCIUYqminjJjMJdxGc28d3Aovlz6n/ALQ1tBUI58ujFBtxeGo5RDST08E9CNEuFKx6kCo1ZazwIParmOEvkTSRGZF/Zyzq4WsXwKneA4cFt2S8xZbZaYx78juQP2GNdHBxCPycjfMC70exQiZgeDuMsYp0PFifKP8ASR7XTweRpRPYg9R1rwe+kcI4GZVGjJHpGBfroy+CIOD0ZFAke+pR5FWaMduqvIxpweB4E4MPkatpJS9jyibViN4YTyXKCSOKETJHK1REcoCp3FDaVtMjC56cQvQrJR4s8ZHHStk9hFyZJ/6Kxfgc1NnBKIdpGpK5qX+z/UO4eDvCv9wODG0PE7JduV28qG/9FG64cIWJf2RmsMntGVw6LQWVqPobKlh7T7YYsmCOa4Qm6W2fhcIpNd0Q+bb2iHsIsbG13Kv8jpnkyoVD8oxbXw16DyZJ2wwviNdxwhvcLamnHnPscXDpiZDc8ESiaBYkt6uciRcOJcjy+xRMsYp2+YS1mh0MXNv+ixZ0FjI9jqaZ2CNTg8BLYSIpgcoQFYpRcwV6GN4afmUnAIU4tKQWYt/0YbZFl2aTU+HofHjPPJmDnaj4GQvkZJKRKM9zIvozsXY/IuzpoWY4RQQ+BDrkTHkT5FsrR9j7mrIPZjcmd9Ikijwf6TRm2JGrHqrFiiddHHgQnUseh6uyRMi+SHPR5PwTg3A108GSIlX/AEGx8hKVnCVeXAnZsimxyVMqoRoWM8CSyw/RBze1a5FnQu0CLg8kSWL/AC6RcEejBkFMiO8itPMZuzmb1oRifFRM1XOJNCVDZJ75JkgxJ+yK1+CeMveTp+IJ4RZLcP0fZNPrcFse4El6M1Pug8xNdRS+GDLsedZHFlg1NMrX+tdYhpjlEtSJKvsb73HgdP30dYQ2VIiS6U1H2Ie8rAU4iKJcp5yW5bbLdgrn2Q0mPKOIcEYa7MyN4lQ/Azi34vBCk4zlxk+BoWMmceiL4SLYyJnDrhoY0O1Mm/6Mjxggm+mFsrUkXGBU0tmrEMwV0Tn/AMGikaJJusjRhLyeHK30ma6R1kWCLqBYY2sbJn9ETM8E2JuuhvpstmBKkZGvY+5+RLkfwh3THolEUQdC4jq9DdURdJtzakTqq/BFZqtuCdJpw/A6GvYaqm320PkH+DZ24cCj2fAqxBjybvBJIrJIkXwPldErkwy9tC2XBBBEk1EXnlElUBLfMGVELCTOSABj27Mu/BE1qjVBiRE1IHIeJX7HJCE2SiYz5G1F8DRqy50uRQQqFHoMh0iUUwSLQ0TOS+43ehNE1WDczYiZwL2JJjJNMnUmhu9GcDf2a6T6ExO+OqklyNfGBwfHQyoJvxoh1RswSN454G30X2Nsbwhvt8lCaGHi+DbKPPorrxyPq1wJEexz0ZHwXwbxA66PA4sX5GQl0aILDVn5QgiaTTX2NMynKiQUQ3FFcJNpSixsQ414JV3PRv8AZpLHwRZ68EjC5Vk0h3C+SJIgT7SL5Gx1knkbqyY3TE326DyGeHX5FE5KzFdhlcDrghBLkXwNVsVroX+M0xP4G5JeyYNo+BT76JvpPYgpejfDHg8mFKoaU5Ff+yTZpQYfbkk7DKzdE7wSPDU6QaUpwisU0krD7EQ2ysfkfLdHvoojkwW9ECSXHY8kpux/g0SfZH0SzR5PolE+z89GLPRd0Y/gKbg+juZQ8ZIpDUIzo/I8jXR4K5VKnwKNDuCacwVZguewSsWb+CSlJENUz2bRaJL2F56SNivI+xlCdiIzJ8idDeP2LsNjwOnbHSniIaujfIpf/A1lJsOpIllNFgjcsTSHFEkWifAzQzOl4yz7+htXmLr2Y9BiWdcnZLZTKE1O9k8ifRDdWdR8jrizv+SuB+beShKRvCS5EA0dWwOSz4FWvgbPyIylHHJNEkHAt0KFn6HTF7A5cSDVyYjQ3zIsfwjT2GK/+DfnEhQ3OsOKnEPYkRfIqRFIa2caJHFbVSNKdjzxyNymVAzcaLeb54FJNeDERfX5Fk2Lwaf6FLHeGWOmKQ5NFJD/AEn5fAKoFMkT0+R5u20LeIQe3theVZclHg5WJG76JJ9jcIYnjCLD89JIgxJ4RoxLnpbI4G32PfRUWZ2JGF0NNGjB5I4wPuiBpf4Ms00XhGsCHhFdIr+Rx2/chMKdrE2s5eBLSzLB7YQtGkciLk2L46fBDivonEHroloTI2Y8iVm4ocInuQeyQNEpg4H7+hkjobs4fDMJ8LJJi+RGp0jah/r2QUDczxNMgBOtOBw82RLLn39wIG9ZLRSb7UYipxcEq5byWuM5iy8kfRRC/hndUuyLoRSensvQiPlvaZs+EiVFZ/ao8tJ+cyIjNynHm45WixxZP0mSVMopx2FpPbiWOYTJ124prUx+Rt0Lh0Iv5DdMf4FMe2BmSSYRlCCbI1J24Q4Rj6Iwm4U6EY7QSQZsrwjDujdDxwS6hNOJ/wDBMgnZ7SP6KJxYuTxYx5JcgVtLEiEzXyKXlbrwL5bSqw1J+FIpTZU627vUfItHENnxHSJe5n+n6E9SkqSMIVwmLmUl918krFmTRH6IE6VAnRP8U/Z7jsOwlwh76LaMQfXByTB46Nika7kH+og7dZxR9Hvq/jpDI3Xcn30yY6TSJXjpgwbNyPhH66LaNrs8haJvsaHUrZfBhTuccl3LTfCMu8YQ2s0pY5dD66ehXr4HIvddjzQzwN8K+wxmra7CWhpqb+BttK7iqznkQJulHqXcdiRk9JtJ5ZqaH1lEVLKE0jwLQvE9jCssZR38ktI0xXLMChH2AteEs0Wb9ms20GTPsxsuB8uI+IHEJIJQSFBpG0wpUh4lG6ZIjcEJHa7kBltsHpNIWiNHPk3kaG/7kVOs5OLGHvEIId2aTDaErm6HOY1XD8iROGPtT3MCYSpLgQtkQjg0lbtlgk4lBMtTIbxclKEb+pIWwCkIkHGYZG6TWIP5XRtcTmEs82IwPMFacpDwWlO1EOUcCAiOs6oPnFc/hglA1S7koXi1CpPs940IUWI8Zp4F9kYJ/ZU+R8qKXxfMrrxkhy9aRsx2Ia6SXCwoPiPA3gh08E/Qo7JHBEyKJvoqHG9nizRJPo/BqjJ8DJFeCIyTiOnsv0eel+DeOnkRhZgy0skDJ6I2L5G5XAs9uj+T8yyoOLWhq1plQkoPBCdpbgeD0Q0eaT+SZvL4hCV58CbUKCt2+qQ6VzZM4pHgmyCRvgy5Y3LHjElqkeYMcDcLpnGD76QRJ4HEEktOfySRhM26Y0N/HT75JDRiZRIpTQ3MsFVTk7zCRNJWR6ZSE2sDWXl876Gk9ibTj9BFcJJUksJCfclLJuhTReucLDbhwGNOzeyYPomSpWi4zgPo/wBBjpifoLCWkbF3IRECl7wPOX0O6joTcK2ZdA3Mofob+C3oYyE4JE/XRo9kpuJ6eieif/vXGzfPRJHkjxXSbGZ6SZfRkD7ifA0EfJFFeyvR5s0RSEyTxX6iEtCmoWx0e8SUiWWyKRD5G6WvbYsKPu0Wg+Dyo8C+ycck+jIYk/8AhFd+BqEomrlsyWGPBliBuh8mdYwcyTXQzsT7wYWS+aMYE5Q4d6PL0SbxQ7TwN/Y/NDfHRFbExOxjWRUjCFvY5LXaCYIU2pQ7Wh8hN6RjP/p4Y/Y33gTJminkVO4qjHkRTPs5GxvHCJ28AITna+BrS1eBttY7T0ZpG7pTmpssObVNWriiuCzUqhw0Sb1xdcyvR9huB3bLTFmJ8GgapTsdLbITiWmzsKEJt4QnGui9If5J/hPAoMCR6LPY3xg9h9uknyPMiIE89LwNRujZIqgNMMcDJbcEkbJtcBPiMJdjaB/AVVCbomvThC6E+UcrPRJrEHcTzVn+sblQcW/Yn7HK0NhyTgYKD6ZJyPCUSvBPYk/XSfY3ngbVk+EMWMWNCzLLJ1c4Gfn8msHkpQYCUvsWiDX0JfsCVghAnDaMOYPYWw2fS+SRQD2EmxzH1XQ07SYPuSJRF5kfklVHxEiOi3CrCb5TFdyO+ozk7C/3B+yAQLhx2G4OAobi/QkL3WPIwtPUE1UtYQy3gd4YVMp4xagNhIhC+UzheCDpMPSxL8atLZT2sW34Ul4Xt8kfFKtk5scuBJe4m2pIU6Cpsm42xVLJSejfsk9QNpDq/YjKgyJIcnsRE1ApDcD8ZfoVR+h0lf29k80GKlObX2vwPLpkbGtQwnEKSDE0Uak4u1uRgimswWJRwsARSiexIpVKnhDfs8PNG5fLkcdfOdNPki8DitvL8m4PPSvRk9Eduv6FBJAzsz0eM5Jl9+kLqS4PInkyEMUrIzicfiZCwhxDrJJxeSJnjdM3Be4UjyDV+bgtIe0CiMn2KdHMEl/8IHjookpeDPjpeEpjQ9JptpCLbN+Ba7lTQtMkRTpf2RyTi0SIzRId5jjA6GVMaVbX+0OyduRAx2JyEn5+hzPDSW2ku7IkUnhbV/PBmTJJI7mj1nwjXOkTXxpfkhWAailqVKRqcqcYXyqGKyK8a7rCT0zeLDEph57+CyEAVpqESk0/AcKik2y36QiRojUnISFQmcpWX6F2YK0aua2+RnGziCVVNCU5zjnhO9d7sJHQLmBu/RdFCmzbjQTEJdk1riJx5ZDuDuClJqGkUXQkTygiG1WcEMb24eeINFPHsOHqSfYnctvFoZpkeTMJya1KHgn/APhslP8AJI8BNKljllYiVsRjzJU6cFGdoheBWt0OFzAxzS68UFwl+hlyefbY/NsWTdqOY6bvZDcriR6alyFQGxFvhQyaFghVFV4b/wAwNyUlIw0TA/dSelk9jvUJWrEcCi+eh+RHhzzk8i041Jz2svNGvguHYvPsld5iK9Fhd5Ad/wBg9/yXZfgbKwlpymRdakTXKeiucg/gPGm0usH4iWZuozu+buhtwTPEu49iEFJLKDhfA6WcLRPcQt6IjoMmD0T0zUdJil0jpwJwiQx9j6Ix0eEMiCDYrIJ6SVkifcDUyMNtrJIzFtjBCWApZQpHPKXOxTMDEmemR2eDSFzgk7vXSVAqeBj/AEkbE+45mvsUgij+6F4NBpRtrlvyhuK9Iy7TMMHqoYrTgj1ZiR8THbwQcYJTbW/7XyNR5GDKTTfafodQ3bX2qT3T+iOpm95RHn/cjgzWKdizXyMyKo7ypuHDEKu3pfA9lCQieDtjQ+TGwxcCszt2nw+8EK9AzSTXK2JUnGi4xDA4ZPTT1xBDWPfjxWZGzp/No0olO9DRgvJk0xci0lyizhDF6n69DcvU0nhko+gIeVnjxwVcprT9fBEzjs5ClVF7GwCBXnwgqp6uXvROhWVEpd5JVatQmTnheWJiaWJmxNcM4UGkmvE49DeU+z7Imxv5WO2ERIm2dspsaJx+z12/wL27QuXkRPA5FOw+zQ2k/SRYmJt8M2eSNmEIZPYb70bcHwN88jQ2bEv2M12PoTc9PgTzYrJZhfuB8LA9D89GdhuuxnXR/IhGe40QZ9UdhqqHinYsclMGUdDIngnuMSkgzQ7XoJ1bNphOciNG8q0F4U9dECyK4NgPuMyxSjAxrYWT3EeTGSirkmMizjoicWV8En0JcQXVGOUnD7DmlkCUqHPyOIaPXh91jXQQckkob7dGYGtMLLC1CkOA75ZYt04SaZ7DKsFz928dh8RLaubw+MFISUavSI0oKlKoIHTtbG3yDPQfKZJ3l/Y0smPwENv5I42MXJUIy4HcTbT7IeyLdDXkVST3FDXSSSuLETzk/wCBkfaiehNvSJbrdEiI7lOCRXwbhC7ShwOWGKwrORPcnkleRf8AgTq8ZJ0N2pHy7CfvoTBgWJia1xs4gaEklMlMki+j+SIMkWo10wPBHHyXs4ro8jweRd30a6Z6Sx46V7ZUDZvTP7RlrW3dlpjkdEph8mXW9iLHjEsVutY9TncsqLQkejGCTGEYMizGGS5aJnpn/guShxhjcFnkZ9idkvizhwTNz8ldpJnJFf0brQ9mFmTdiya4Eo+TBL8jEtJwiZJQouyhIxNIHIloVDUMnDgmumiTahOcCpYHBbI9G4LFKPyl6G+xPFsTpE9i9yzN0JYLu+eBaJJlAbJZwLiM9bREfkwJ0iaG7riyDRDRj7EiUjQrX9Coow1rYncyMFMkCdOUjwlhmeOJGtJdtmiELeZIZKM5fIbMAiz4Ut0T6bfsWMxqxVUqNLCXIh6SaniYjSRai48BHT7GUpyep0bia6fok0LuPRORngmTBoeTVYIM9NGj6PsjuNro/JXTvT+MZlOosSXcgyRClx8EnlvFGNyex7xU0i2SUErGBfL6LpkcCGh/5kiU+O5Wyi7nkl8+ukQGyfkp40WqSZQ8okXbBHwPGReOVWIm7HoisieGpIhj5idNO1ITnkXRv4J5GW9hLgjeoncl4NWpJ7B8IgWSErEDETKg9oJ3UPwPwM9ZKGFJNoS1pbNvBIPtWAs3sQn0srTDXyjCKi3PAhNDtZuyQRLuYGiHfgSsTkaO8mw4ysHwKHI8ZMuPDKGuYJhfLDyNCEI0Xkk09NGRCkiVP9DNeRnC2NhrOigutEqXiO6uTNadfzQ5Ils8kpHmUxUtQuCbiDd7S4ZDs2soVoma1P5PRId0/nPstFM2mmMG8mKQJhF5GlLiRZaUf+xsW5oTfkQax+UwxlaOqJLgFixOsVZRzaPwXNjf0ETs5hLQiCk8j6LI7P6GORiZMY6POOl1g856PEI7EHkno3gez7KMwkLoUH6GkwRKmxsknEpipHShvgmEk6TvPA6Eq+QquKnz0tYIXvovhE2fZ5Ult2WaWTJHg8myb2uxlLXgb4H5MRt8mdcU12/o2yGPmD/jifRoZxbTk0vOBCRehHTTGqNans/Q2NKfawTbwjomel4GLsXZM+0Fe4ZfTn9GoprzAubEZQQ0vLFYY2iL8nNAY5ekNx+hReAksx2rkjw9om4A8vBComKsVEL0yh7VTXCSKQUs1rbyb8oiMWOhgrTVjLpaV0YnR1UcvKc4lk8O35YQUTxRbNb5LsTTuT4kRDbj8OR/eDjyVylyX2QOCLZ2rfZo/b8wvwKg2Pp8MN2FdsehEWdygRHr5CpKWFh8FZTniSkUzGNLCEVv8BmzQ+YwTTWoq7jwiZa1FHJN+/yI22xHA35Q2QFFWMm1ZPkD+5Df+WX3Q1OYjSJu3COM4keR7ZC5Tx+zTca7Tb8jx3ZY0LTVPwythSPcjlEN5Bssm7CnaqWk2ZUEdC5Ojx5GWOdVRRPtR8CgvGoeRbhjjgWEk8cehdySJ2Nz+AqEhKRSoRWjuMYTEZeV4PQ3IJUYJhiNN5fd6S7skUDxL/AujH2EiCSJHmhD7fRg8V079ETOifwJHMj7ESQZNsbMDUMQlTS4gg6cSp/JYUWxFRrfyXTELArll6GbZyvbJLZ6wMENGXT10nvBM7I+hUJNow5rwNOTY3ehvasZs/A6RSTa9Kn5GMskW7DfoQxdGtnPeqCMalpZz3sEiuTPhELERWObLlz2JvVjs4ldhokjXWIabqhKiLqYEmmXgFoVBIdO1hjVaSchNGTEcRaVqFGdfZQ2vSNiZdJlT40FMPks2Ro9WDyTwZuxpg1M+BWHNGWsXUqTFk2mQSS4T+IAdoRr+CscEssTSmSfkFORDfgPQs4pmExZE1xBvj3XkhD8T028wivTIGNkoQXyWBqUglqQeDgUEsx+aQWZZA94moGiw53xPiLOHoNp0XnsskuYytJrQmliMabWycpd9jxqIGPIKHgKpOHCdCiqEKeFwOfFsUMYp7bpUhOROztHeMRNvEp4NjZ0Ydxi0USZKuBcUO2ZQS/HV9E/VEyMCPNffP5DGOXPR2RgXTBNGXweP4+i1qf4JR17CiT2MfkRsS4M15Gzke0sXbhDU7LwWLLMkMrCZ0SlbSaS4JpChank0d/wQ+Cogjjos5Nln+Y2x/rG0PuifRN8IrgxdkSZNBc0PRbeKEosbkpVHYTsZbdY+yacCzckO5a4Fyz1f4Uo9DxImUjvYMxzKIj4k0EghCElxBMEnl2DUPPJF/0LkWcfJgee4i/9MOFCJ2SvBMkwLKUllukSKSPicDwG4Hob7k2IDAVGEkSofLrsmxQ0ZS7kjgg7b6XzNrkXyKUvLX8Quh6JnyJYxJJW3pCray7KOzODRKJgvEY5AMYSkpNrk+xTI+1mzKsgxuuj8nkZ9norkxkcdddNxPXZscuvs022SMY8dNn7EbkYGWo77I2p0StLUa0IhJr4LrgswWPTnJNqIubR9MfIlVfYnAo7F50TfgVZMUsCPOBvybO82d1mWTwh/A8dtConbvsMm7FxWjQbiMiRNOa2owvJTB9l1uOqK4IbQjLJLBv4TJv98yK33PwJ9JXolsbqukP6Km6a5bT7CchKBgwho1wan0MC7XRk+Url8kQ4euieBjaUTBPAhiktRJciTLSxKaEgk0J0n/6vkVpSRZESYKSJ5SdjH+SxKJuPojgdqIdOdJshSrQ3pHLEJIS4ShTW0wxGczL4f/RJxeRmqhSG/ogWXJyeF9jUu4oJKE1+SKqNMa7wk85ITf8Akhl+c0iFZOW4PeKHNZPPSa7DJJoViwkd+SeBIZyTa5GSJmR/5E2+i2bILPIr6aM9NmyciVGiIxhPaFHzN8ChijiLk/oairZtvkcmUv4GvuSyngejFB9DyQP6OIHR3ZuB10beETNYFSs1wY6QuHYyXoUhNnHYhp4EPX1BEqU8wjXiEAVGFSXSRnr7ibdBqkuHOG7NkNl6djHGSc8r+kLGoSFmFEj9IhHtj9PfYRWpTJA4uhIgSSBAXeCSJQmiYeral7YiRwKFeNDZWTme07YYu2CCOcQEAbkjQo77LMPB9xNDpia+Wl8RBEaYTYJQpEoiqSi1IlHLieU5GM8rflOktD8yPPcd2s1hIONHSdfN9hZ9a2SiVcK40HzOqeEh5RjQ377EaXZynNJC5SQfDlZsk23z9MYF82YnWg3CE3tSU+r+hc0T4ymFUnpsmhmKjDU5p9EMtYKmiH42KwcqkaP92ObmcST+BBTDJMOZfsXTwezirhqI96Ij/wCOkgv9Eq7TS3j2PqxHGa0RtZY21DUsTc0jfKgjPGU5ZKHof8u+51hJKY8jOWUrXSzadmMd4J0Im+mCZyN6Jvt0S0eXRPsXRHBZxAlno6IW+r+SeEdyZ6PsXEEaMZI7GfA/DfQGo/QYUSblizlNarsZKtJ2Ci3Kw8GhElqhS+x2gYifgkfBW0PF0PU0InwNyLBPLHQ0w8wr8x2ySDo9tJuFwdxbMxG8JuLYqimVCnEvIY/1mDzhuPsWZkGRGFJHklLSSOUa3lfYt03cchLVfkR2g/srgkUTJP5LdzN5HTUOI8iRzyIEVg1F7QQUpIky1NIZBxg73C4rI5SPYQ6xhXnJAumCclW3wREaNdcfw+e5t8Ms274JdiYAViUsYLSKCwk91RElZbZV5QjN0PwHctCf+sjSQ7KD+lJ6Xv10ZvcSYpY8HdCrMcO6eRt8wTS2GXklTTq/3RAJ5JWDfCZFpPAsdSoC1D4wQidO7mfCzM2wLc3esi+sTSaA5q+GYGrPFEWmvHHsbmzDIgq+CRExShtcFy3ARnJxyfIh6wxSJ0m+5H08cGvCzaHcyLXCP9vYi27c/B3M8bN87P0ZqIcxlxoev/mYnLlL9kqSrDLZBJVFUJIYdxXH8Hdi0TfvPQ9kjME1o8Ejo89HLjp6KzHRLgXSeOi56O+kGhX66Rd9Ndd0I+hJZ/SbJWv2EluRdjC27x2Gq01ViSTbbXxfBHLOq7C4PJ7MZwTyRw5PgTyTy4PZKIGx/InwJvZXgrldN2xF6dSmNShqUS+BpSvsi84gy/8AyEhBCoyE49sneUODhvs7Cv1Mn0QNf+lm33FOCVVYcYHqVeMOcjwSUJJJdkS0J+PBGS1+76H1JWnCSKFqiUO6JdxjVhcSyTuhOTmHg+SffiSNlK0I3uHPlNYz5eL/AGD1OkSg9IZuHUqyMg8rBjNCSLCWEi2MjqtOvjYuY2NdMt2QZ2Nrkd4yb9iaicZ+CPTwCS4KX+y2pu5U5JIvUtbmTK9vod8CqwRNtLgSfshQh4FDhr1I0lTxA0uxQJtmqk6IzvRMSTyMIbJNiJ+DDehdxWZKWaGMH2RsktHRt4J46ogS5NV08iXPTwcGSeOmcvoyHwSOOl9PsWhLjolu7X8f9G1tRJFOPsGklaYqESSGkNSmRok6mewyYOwNGekimP2Wx9vokdlRQ67d+i7GdkSpRD2J+vI3rpDeS3dpuHDAuEUaWMYlIvmSbSexpPomB3g2YV8i8yRGUNQyUmw09E4xpwietlKXIl+C8kQL4Jq8diBKH0eexwIz+iNYyqkdri8X3MVbjX/vcqH0dDzga9FHTgVpY7VsnR3EicE+iYiB4D8jsTgl6J7DZNUS8ifwNV89JjB3DajobK3gTG6O11eeCeD8DwJDqo/hHFlJHEfwjuIX2eM9H3GV0XTyEJPQ2N/4UcBruWStMVCbOKbRRJQshuVgaCVTTISroj4FnpPcah1kn46eck1Z5oXj4E2tjzkdmKwT7PAi21ZFLZM7Enc8DY80NDeKMSSSex/RKwsdEN9iGiYG+H0+kd4tkEcsWZRkhUPuPGaNYF3YnF7E+SU+Dwa7k3npIxuLY359kkxsm0Pz/CSaF5hLob8kk9G6onbGn8CbPZPSG2R0ShkG8jKSN8dfVEE9PZvozPXD6CFI6weBiV7cd2P6jHNpoI3UnOEXWbtXBTOZOhw4nvrWeknZ/wCEuI0Z4bNZL4EiZLMKqJ9nddIvozS7VdEk+CbG/wAejyye3SvInZBvkacmjHTXfoSweH8C/AnPTAxBIlx0U52SJifxyzwxZ6eiaH66c8jDd2fRokkkkf2a4JvApag0SS/ROTsRCNDThUeSZwMmOq6eIEpPI8CUGoFklN4G7OK6wuSeB/g0eOi6JWYOQsjHWyUadfzAlRQ3EkloQnSdRM2RjClF2M02KiVpDtG9h9IrkSvBb7kw1Um810iNix+SVoa2LYlNCTSfRdujEoyeCXEGXRt8Ih7oUWds4R5JjDngnMngyJWdfe8MTwUkYFqekiz36XNsxZ5JNGBSx+CmoG2S3npexakmyexKnsiek8k+ySDsPv0eSeH0m+j7CelDOTNJm/HTv1q4MZJkgdK+njpEHkwRIqw+rnS6Jcj6LrxPTk8DjfVdjuYybjgz4ET6HRLaQ9IdkONkrG0tdikLbdD4K5TSIjuCmETn5Djp4oQtDOJ8E8QzYkn/AEcGIix9jAu1kPJRPFls0jI3XRw+xN6YsNNh6yJDM5lE7ZUVSex/cCaSlzyTAxMJtvjvAlJBanY/ogQtzTPpk3WOka2KcJdM+Dsuk/5H6Mb6dvk9z36WoZWytEk9PcGxNEi9ib6T3MjfTDA2IknuZ+BPpORWoJJJrovA+k9PQuOkjEp6ImJsmcjUGhDZMxHTwR/CeDsQmJN4QlYh20X2HaO4kd/vpUnIjLaQnaZKbRF5Y23saUYmhpJTaIxA8bDwjAmPQlGDdlvZDSNnZwUQehHCPwS/RhUxlnksXkwMTBeY2kX0p7FAwrjlSOtJFsTVctkiiyeyZjixnsRLUQTWdLUuGckTLEQmN0KEYg8GWF9EcsfkbE9ySoFLd9E9iSTzRoxnBPoeOnnpPx1T0b4JGPoN2WiSSSZnueF08sWCSewv4aIgZ+TPTKI5N0Kl00R0jknoqM9EQeCTLJORU10U0LPI4oTJqYHTXT2vn2ELgZKoqIqCiISnUO0JFSdWJ0xjErDImuZEUMlAmeiXPIvI6Hg8EvH66/n8E67CpjF2cmuiSYhGjkCpxMDsy4heXbRfAlw2BhS9sdO0VqUrZwyZLjI5fLkT5G7aAK/nEkhuzeySa6ITXScDFjpRbwUyX6sP/R/6hdyen2N0IbhDKMn5F0SSxuKHbWBExCZgkngTJon0ZoyD3cT8d0JzCENbyXExRocJJ6kCFOUYmRUieBZTMdJ46eSOOklvYlC6LRHSBZ8HJkYlWOlNjtjG6v8AhFLUkwSyRYE4G/AmJppV9FaNNvpjGSx+RTEmxNumRlkygKPga0rWCX0nWzj76G+WTypGia2V6LWBQ8m/I/8AQZslRMScSNVTEjBsPRMmWTyNpiHJjwMkmBtr5PQEtlGTuRw1p9iY8D/xG1A2T4obE+Cf4Jro+iVzBI8RtysR46LDJqoIpS3EbGnncSGmUFLVyRGhWhKziYr7f0IxTRo5gpPzBItKtmEjO59l6DAypyD/AECxmiYuUZ+URE6GUFbT716wS+Id2QwpWtz4vH+yKgKMYzAleCkKTa2+5Qwki1DhKaXPcxgJpdv1JmC7wwZDeUyfy1xlHtmf4QIYlRnNHb+KOBIggjMDx08Lo126aroniTs6TB9CUEjRrgTKiGulLPeRLRSvwhNUPgiiKNCSxJCDbQeUKnXRU/7EPg9jDyJx4Jl+Tw66R8kPCkY0Z7GuxPCJtzgyTHJvgdbGxP4JbGxsjotc1Vn/AOSFAJ+60uHgwOsFjz0yeP4M4gknvBJJvcBCUfDUC99HQPZwbUDn2/mE1Hs3TL+R+idVHgtET9oQ5xpZ6XI/S0YGkQMBkVP3C39DgCMhtKPMb7i0k5HykQm++vQoatwNtNuX+ESbCSrUH95ExtoZp7fz9EELHxBWPLX2It+EKmm/sr0eDMypfn4GlK3Lm3y0I7mlDkx2WN6NaMQ5G6YMlwdREiPZMbnLKTE/m114akbprakqkWBSC1FCmk/RF8Est5BSpbHnLzyqV2ehdGOdiYjJ4PsvrEmBuMCGd+jI8EDyMx0mWUSLkTK6Jkk8BSMPkoH9MNXH7ISajwfgyjhaE8TTLF+zNkTsnPY8BsLA+xXgf31Tj4EnqROJkb4Ms8i7Y7jZ4He4JgItwTjvfyNNpK2FZEkHDFNkkrkhbIqYHwNqSyIq1cjWnhtJvHYZ4QhN5bbd2ObGNb9lQdkMWY4KXiaV/EiCbSoeckh3iHZbxT+RShVfawNIVIg3ht30hUSSATXfZZg1OKXlwRLD/aHY+HGfSZjvzC5NIYBslmiT+n4Gmtc593/gh65UMQovCGmtWT1TCpAOGqaiF+wqfgJLT8DIM9RjmINeYYbUnLYm0eZtFTqh5IJISu9sRbDTseBQwolHNuPgvuF6yGGY43kjlvwVu3jPuT5JblrV5NCJJFCJF6G29kvRuihjsMgTYwk9excq9xIqezQHlOyS3Bok13UofLfCJJkUyJJu+miCwxojZEeDf8Fkd9fXSZHC2NVkvhjcj6JJ9k9VZBh7FTWck1uZyYgbGfAzYwh521tqnkiKZh3pzK5FvRaUaPQjCyZbKH/o6JN4Es6KRPAoxJuBsSm4iEORpFsqTFwxkV4G5fPYmO3YkUzWfi39Dt4b2jFoOFJp5nuo+BppO+Bj5JhHpLKi/wBoQjDZTsowjHKpFlZcP4F1wl2pw9Cez3O+JyaPUmAq4oX6ERgRh29wH5bae6hgfmh/jg8iD5VZNpx4MYuOdEVMbL1CVlaz2f0dpKQChoDiYhnwYgtyVaLxmCF00b8l/wCsSliwp+7Vdhvi9JfMmg8lpURk83HeiBMap5hUlEyT7E5EeoeJqf8ANEkTWjyi3GBAUTiEkIFJpY0r2KCLxJSvlnz0f7h1En3HVEHmBnM4V/iMRHPcM/b2v2LIi7/vCzou6v2bIvZEs6X/AGQhcInl/R+U4/Y5k7Z+BP8ArJ+IHnk62+2KYQdv6hEXlykySCBo30iuOD7N2JPV4MdJof8AEbGG7dYMpGJl5PHSa2uh32PJ+DwLAumqFPm5r4MLQ5sSUqCN1CaKpr7ky3BuCbJ5O7GnA++Dx7Gkso3dbZ6EyC2bO5fAzdQzu7DwpH5Z7yPkGeWWRjviNkKO6NqCSof2HYflhy6UIf4HIOTIjhVpdyZ1I3iKy/8AhKDByEU8Ph1+iEKTNyBB5O1CSgpiF2IcqXfNNJ+v2QNnMWoSpZOBtjRm3ya/BBdtOSUTS4pr5E/Xx9TFpP5UwTq3jfgX4fswSwWk8NSJQMm6XWmdiZBG1Fu/ll4twijcN8GdUpfDUjnfSCKZkj2r8CY3nEKyx2RGSIQNEm0oa5LPwWnVgk/WesjHmxdcAUSWkjQAdPhJZu47D5YcKzpVI26fJeBcqWmopML/AHwibH/D0W16v6Ruri0j8Hxeaz7D2J4P0iwfyVfgTtHZ9xI9Af8ACodS7I3FJP8AldZGSRd5j2Y4GGjwl+hBdKFCLtoTuDyKOwmskkqcIUxCwTAnjopFkT4JomuB10eenlRBsnpBS7Ddkj+pPRUMPpOPJPfqsiOTD6/obgQmMY6TxgVk8dD+6N9CDJdzYqi3GyaEps/uCPPb2QmkvD6HHSTPgmxtxRCFQOmqzE7CZs9UPm5NKkETQm+x9iUEpLWijFI3Uk9E5h05VD2QxL8Y0jDIfxY3+RX1PICFYXsU4o8ipyyI4QMiWlIGPjB4IvZDWq5VrwZVGQPHlCE4SFsxqYbslDGthPQop588bFm8SXQsV2M3OHFNQ5UFykSKHfCjBCdNJrhiRFmrn8C2y4lkw/lCiSq1MoSvg42L+L4g6o5lEk+X9DcjiH4hGRxLaJ9jWoZ/uCVH+EKCYdoffoMVFx/YiwDvAR4KaYZzX+oUocs5PdyIs8MSPwhuuryf+wOW/mGbltLPIv8A0ngYxuDyZN9VQn1VUEWRfSsZ6eRqUQO8WezeDx1SMFHRNkn0LpMDkSLHknsN9ME9VD+h12PMmrIkmCeBRo8CyLtkxk7gBP0IRwqPwIcJhmxNTvgcyKk9OCSSsW5bF1UIk0TIqMij9G9X+hYm/wBfa0EGJktDU8vAyKpWlUFEtsj5DbVLPSQxmhGFGpl27RUVKpJwksI02xq8i2XFQX5AShMpyhs0DiWJvuM3mwx2cmvLSg8rdv0j/DZ6OA3j/gFuftB9hX7VuAqNPQSfJNfBgn735C27SYnRffjD/gi7iuV+x5T+5D5D6f8AVGBRWhwqE/Ll92Tiez4F8/wETwTzkwNySvXTAxNDwT66T09V0XfImLt0wJ6/QmY8DydhMk9yZJkwT/l0wSeDJHRkjY47LSUFZUi47vZKyhVPUokon10iSXwJEQOB9GaMkECxQlJgTkiblsQvBFuZgW7eVj9IvwOM58iZAjnKrwW/JvpHcfY/Jn4PwOrL7CKXJ36QeGNPSJeqIjYSpQvD0WvLQBm7y5G+glJn/N+hqk0e2q/Yi1fM7XpJ8yenuvbDXhRx+jJPuHXwoQvtuYtv2z8RdFOaNpnscl/LZL0+jZ9hONwSdzeCUs+hOaWBdBLAwxYb4FEXRYcMF+wyRE9PHSVv+CzVdFEE/wAGSdh/ogiZ7EnYN1wTwaDWDLbnaLMDCXhYENQRjqWWhHkcPIzaxp3yK0pa54moYwFQSfBFKa5Od9HgaRCSWSJVvKZ4JJ5Gz1klI7/g9FM5gWumxPoXOSL6tlS4lkFCVND2Gy5FvHsZqcG2SoeqGxdzkqgT+BvyuiEFwnGQyQeTd8jFJgv/AMYNv4Tf6KPqSk+5E0eOX8RAXu8/Y9ULuP5ZQeL0hUuWSfk9jNCY4IbyYFfY8yMcCw6Mb0a6J+ihKKjonoJwh1HDNE/Iu6xts7jARPx0kl4RJJxJUTMiSTccCJmwrbhO3RlE10TAnJ4H0n0OLbHK1wJ1kkQyRuBsUvsUX0StWyFjYV52YGMnVkKBctZYpD0dw8GVmWlXAwlhalUjfLiBlNp9CxAoFGRWX47ZoOjVtXD2oX/ThOEkIeJwMy6J474ihMspPYh7ypRi1ACGpTkmfI6E93lZuB5uJsuBuuCbE/8AImqfR2yMXInL5EXCcn9JCO2IWxCpMsxJKlA5KXHQtZg+OrF4kwxxJMjgAzSShUsC5aRJ80Nd7HTM5ZPjpJJJM4OBqST0PzA+CTyJxkfQrnNlWY7/AIJ7WOGpLctkswjHcnyJxkbNiFnYyR6R0dCNatv9LlnZDar9PsYVk7JeSiCH0w2yU0vkeDwhxZKtk0IWo3DTlE6UjLaEh65bpf6Bt8Bcv/1FOmqhHB/Roy9EZCQmW5pRFrRDFGJs4rtgQ2M6Wo1vjiex2gVvjTi20PM5GNU5a4NfCG0lI6cyjW1TiiaySTmi02NMjIxcCYjClME4Uin0m2Ll+BjkkslNDMwZvW0Rx9+b5IXwrTRKBS+NdShL2RTyQp2+IEQxQefkbtrsW+ES9Fg0w7PvZBKyIDL5lFLPmyOk0o0VT5FfAVjtBIUUedFMhjTdfkUvmljrQoi4auBP0QemP0LfyJQqo+RqEsYnkoEuUuxPobipWkiWxhCIwvwQ9zA1LOtF0sprT0RPxLUNu4T5G6q7r5bYrrRySAlLa0XkRgmxeOhGek9haokWLBMJJN7ipjQ0+ITohmPOUFDODJZM3tkDfHRPTPBiD7G/rZgfRg+hsYm6JYykaj6mKsEz/RK4HHwmzhIl6lpCLWVBjMoVK5eiek4J7k/I+NqEWnhpyhmO71U/tCPyPi1la72ZwhprAnJjIlP9ENpncOJZVJnSwlq/s/BUSakOJfY5wSA0JVbk1pyeXArSrlfeAnPR4/F56Djx2hMZZUCqvwE+DYsi48BKlEVTUiT8CXyOBPN7/wDI+D9JYF9NujBOcKeyMGjbmqfkFofMoY2cCGKtHETwTPEhBElf7BCS1JTU1Io0PJjlTghS+xOR6iycppLJnj8wMK7HtF01M8rkMbS9SneQRX7R0ynGciMT013Uj+CCKl0ktG0yZJSo1Of6Ia5mw6a5XcnopGWmceGiJ1xKUEhIB+c6peRCorylqTvvdEeV2GSy5OhUOf8Ao5Qx0z5NtkfnbY1idCpJK0kQHKtxY7Wa6nLKQywB3eYn9BZ8WSgk7CEIQu/wt+hB2iyQ9oSrpJ0zJ4m/QsvwTkZPgs7v9iGu5FUPQn3sn+yc3BEoWUdIcW2nLH4ETnvuYwP9F1R4CJF1oEGMIjj4SQ+Jbgz/AOCVa9qUmLshSEpllWEL9QiarAl3DprjEkwkpWER9h/fRLcGBG3Qho819yJTUlIswMsK0ghrmy7dWB55NtQuxPTkng7GH0z+yKrQ7tjZ82KjhIYBNd+W1jcuWx8CFLWxxglNKcoJWhjnHzzYadGU9s6Qw0Y10UDOF8hj9Sl5lf0J/JyLq9P0JJE/8C2ZK4B408SOvJdRqcZ78EPkEiTEVzI03ZlYKlmS3mSeVkiMuu+vkTmla7ioJLxZbNR6J0m18yQsuFDgj5U6IONTNrXv+x6Uo99NSjFzgSehOc4OEnCLvGCc/wDBlSAhpUngMuQjmkUKHkbJvkdS7TI3YmLyMpB2im0TST2tTdDsnNl3016GZgyzlt5buxKlysUnl6SkVZScVJvuyUVvZTtNfBBvNZgqiPAlb41USdaOUQ4qdwx+SY/S3tGn1AmMwq68NNZFDTTiqfwF2PbowacN5gZ2MF4lCPLszESEMZfkJfZv9Hw/OVPfwSTGanwsR4GNcWpfwKlbY1aXJRbO5+wvY9P2TDOB00zq8591I7VDnmm3LXgXzBVQ8q6gzvBbUpnmMkwKNNkcpjlHSbicNeA9mzPAT5cEMiKQ0lhDIS5SW9D2qT8jdR9qQ9tr5HOwihnYbl5Hdi56PgSEKGKG66SuBvuSgZOizRMDMbko0/PknJfkt7dCixQJJKUSbOS1L0Rg9CEmIIVYrPUHHZCNzG3NF+BVk0XawmLc0k+YZBRin8D8DZNOBUh1+jNn0X7lqUHt3FR6PekmIvgmsf2yFWZ07IehseNT4K2Uv6ZwOegyG/RDbTnOvYpRqW4EThH7BJhVsNpdDjE1hUIn246G/wDQmup6JD0/a/YreUvUxq6EeTODTvw/6QvnBWcMRITEJN3hK/oKFpm8KC/Zilb3ZVPAkA6Q3ryt5OEWGW4U5YWpHamlIdeYiSTIqoH3Jb/4L4qdRoL2OUW4V6HxKkD4IvY54hKRKKTWnBkaFeUT8n+CAMIqepUwJtPQqyJQw3t9lktB6PiXYMx1+LJzkcpuCEVUSXN2M/xXAlkJwjtL5Rkb4EvSgRutolP2QCRBRREcQYiCSWElgemDlFTeWNIoEvJ/Yn8dN5L0texfVumPY8SQl6aSxkJZhoNKhGmmkhE9Mbp+lrpJr8Di+qJllj5HkkTIl8jfRw0TpYPJ9vosE9JnPVs2T0nkyoIg+iSqRZcSKKYyfglx+hujRkTMzwNVz1TMmFHR8LoydCYuK+k7KlGX5Q6dXCbyMdzaJOGtitslLS7juiZQbnI4Svp4wbg3A+45QtQqJqvIdZLPs0OTS5pDitCkw5nAhDhYJQoiCczq3Z/+D9Uexgta7DR6x9LSFZuP0xpZtosZIcWtkElSqfUYFIuxoSaPoVCVEbf6/JTcZ1MTDfz9Eg37rsNky5lR2FzDNQKSJ1bGrhioN6EjlFTgdXFrO0yaHdnChtw8Lj0QUYRRUS04JN2xA0tbo5Pl9xKcDZZx3Pr+RF1f4uB3qTsexG+VbQeTFDs8soJ8G+rJJyWoRNdybP8AUTyZx0fobnyYEtWivaXH+7i7DfHVMZJWKrabRPxJocD4Jy3+0Z6KRtCIk7BDcIR2H9CXNSWXSSFhd8DJFCiVFyPtjnpqi/8AUTIpWuksXCPK1WmNsdA6uNJwmuSRvHUi9lwiXgY89HScieEkCiNfG/5EMkksEU+X6HrJwcttF1TbrnsNkfXVD/o105PBK6aok8kk0v8AUc8GbfoYtnBF5hlOKfgiEREK0iWc30IRJyyEQmcMi+Bx0Z9l6MvuPSE3qTFhrHNl2mnGfkQClK2LTMrf0X0ak77aH0x53yprv3EKomWhtGnHfDLDsTphshWqVoKcjnIskpNSnuoZH2NvkR35MiZJiMW8UQKW6TDmyIXUvdpGkrn+4wv9GSuOOUr9EYNL4f8AInZbCd+zX97X6MNA8xL7bPoLX8UL8K9+SMlVuLfLE9Yp2wNmX7MZiFvpfRjdDcCHqxK9doj0nf2alEme5q+k/AoLcwkQc0gRra5JRYJptJj/AEikK4RFKWGaiG8uHRYfGf1ESto/h5+TmoMkwJ9rLHCSEtYlmlQKGoQk0PhYO77zbU5230YvFK7wRwJfxIl+iYltrJjBWUS3qF0JJZIlpF0LNp0mRyOhS7ZQUJGzJtO8o/EDki6vGxC7E5IkEOtrlFBRjBWIYuNNJENuYjGYPhneDxVewz0kVvaNVw3/AOi4ZTsbEKywJxfgRz5cJ+BNF8Rp6D/A40aNlFzsJ2LIAob6PA544+Vb/ZZk5XotMyPh5J1TMU7ZRP0ODDz08EH4MLo2PB6BGsN7SPCtf2iXgNnIBNZUMJE2hqjLRAmontuDRP0XwT5ez6EtRJ/qKaOEPWLMocHREVt+TCNAolZtpQ4an8SPodSzxn4FGvuD8hMtTn8FJZHlVXwkIHHf7yJM+MI/BIkvPMvwh/Z+T9iqOA3M/LPgQh9DqP0To/pQm5b+Rdx+SRCXPSY/4SukLY8UMnsTAxqOp2fC5Yw49B/bTIzLO7ROK1eE6+mQWTGf6+hpWByI7dn9CsGRoaRUexo5MLALh55aiGOz3J7Pokfl3KjiHBOwbAMflmyapXXaG/8AbFLCVBybJz9F97zuMQRO1xktPg54pf8A1kdJVF1wyYrdDISJyhqfyN5O+Uln4TJLHJiDDzKGTpay0U/YpJ3g/sUZ4qSTb39E/nkulL6LAfxjSn/uR7MjzLU5wQEk4cjKa10MicosvfXDar8idaxDyyyNLcfLlv5LAzPgZXyS11EKbj2hLpEaIXSW8sggm92tCOIGCJnHTPkeZezMB+KcYI4FE6p03jY2eCHg0pBSEcPHcvxMc1puP0eR+BbndmWjcfswREDppkBEhWg9EYebahY5HMnI6q/B9h2/10norMkG0vkfgMvoU9lm18DWDUniBolLjY6Ev6CabTm26XIpKcpkZ6P4IxJZtPR84JPJfYfgi4dEZeiJJiwe94MB7Kc5l+bFUGA4ebuSDtmDA+Bknv0UkwI/A5efgVdIvPT4gbMdzweT8jJH9bfCJU4ajI/JjEdpMz+xLNoZX6EIC49XLj+iZzdCcZit/wBDVR1mDgkMAVZrS8GsivaU3hcjcfenIuwrUIpKCZkuP7CQk23SP4NScqjN4dsE4quYmWSQdgRY5qQ1gePA8iGWfoxsZdt7lvrBQnXSkmmX6VBy47kw0+CWCNLfQ2oJFeBrA0B2XKMQKmJPBsaz3Kj2iPcWDq3CnBOmy3neREJSaObY7HwNrqv2cb+iTgo7LStbGi9qQb2kIzg300RlNZqmnPQquUB3SJoz04pgmjZ5EyzkLukeFCOyhRMdIUtQk0hofNVT4U7UrbfBNCQRRAr0LarVoHzXRkZJnGUN3UmviwJCDbMtpYiCY4F0IJGjCxLgaIg4Epsy7Eh0LPYbB0/qCPUDy5Rkit2InRQsMlN3SXfYqNj4okdfAu4nA2fQ3x0wJ4PJkbokb2TCH9Dsnp9GKWSvIkvR2SJ46R3F0TMJifYnjpMYGvY0Z1RNLN3JmYMDgNrs328Di02zYHdiXjTyw+Wkkp2QSDTHEuPbghEeOoBCyl5JjFDTmxp9JjwexCsmiIPXT5jf30Nk2JwKxY6NjdtGWUF3YmeROlAzZHcJzoUQs4RIgg4Mf2LdjH8GxTsiTyRkoQvI8dExdG/ngcDeK6op0ZuRvghI3OunkouV9DQmUp2QlO6ge57xJZaJEaUunlHgR7Psf4H3JPwCu3YzTp4oUuooZgpqxoVDtUfZSM3g3kmO5lcCxLF3KKPHVQpPRFn4/gyPRjHRagyTeZO4TjJv+BiIJEb6SSySY6J46KuiMdh+nCW27IZl01sOp7x+B05bEx/BgVklkMb7jkbPHRSjKDhd+jZM9LPPSRjZM9ExuepCQmLwRCNi+hORUzA0YIcRqItv1wJyZN7FU7XA3lokRUGl0ronyN++lSNCpMRKNGyTXSeRn0k+unkzYqdofbo79mRCFsQ2xCsb+RuCWT6MHkKWYRJK5JNDF56a6zBJNky6RgVeRxA3BOBvIikSXSDDs4UZnBOEhMZodlS+yhaaJKo5iEl38mOmhIz0kfQ2LJjpgbQyTaI9k8ElklaGIatLFIyISaaY+lDMGBYwZJE3YhQ9EnYtFsZ4wiBstH2Gt4WQk7uRnPH7HmKoVCpSsTRPaCSPRW8dM4G+GY2NJ5P0N4FWzY7x0fwQ89PJhDEN/RkbrsZ6T2G/Qp9C79JE/X8G+R+BtiMJHXl+RJEuSYz0dISkQAr1P5+hPuQIXR9ds9ITQwiopTFNqJE9gWBCdkjfoYxvgyRHmfKZMGz3r13EtkL24H2/RZW75VP8DRj0a/8AkjVBo9K1IV1NnYY0JvMUUE5ku1K+UiXn3CgUGAia6K+mK2SO2KeoJ8KZ46KRKZdwSx8lGWIO3Fob/A5qCleh3yJDG8ukfiBs+MNpKxMhKZraklSiK/LSppiiBIovA4SFCwR8fweTwQPlX0TaEa+zVzRkTICfhehw68Mc7HRvfSeBPo/sbAwG3rmFoyP1dePJJlzaNIm6RsjsTB6ErxEg+KfyJCQ+8DdmYgg6SeeYejzkd4IcWi30mOkhayilwng89LnNCH0Z8DIJ1NtP8fgnSEolxkaahI0Y0ZWBIdHhpqkMewvK+/AlYbToJcIcPlY7mSZ+Ca7GeeMKQrI7f/CDkiXuS/hB4RyMKjieRElEtsTBorrA7b/aPZmWhoVxWWqSG4hOJ177DdSXCk5FkbIkqpEtvBdQEI7UD/8AtBv30feiPta0nBCjRakGtJR5SLZW7zZk4cmRLW8A4jEj3fuVHIfyeET3ht2MLxI+ERNS7jT/APSWuCR0lGIohFENiVsXDrpnA1Y2ZCv3ekvouXO1CSGIqhrcvEkRM0T4DmtoHWYCSvg8DPJKrNelNXYczo3o+r/AuIDNuNnkVlw4m4bQsqmliYOxZvIlWbTmS8EiGua7PgeBsQI8YGJwcs0MSifJkaQp3kkJOmeRvSaSYnHNbRZU5Kc9M9kfY/8AQMxjpmGENdwuzSO01tGdlOz9KpFU3ldGnD8iUkBrRMtxyPAoDU+V7JXiRT4sKGBGiiMj0SYrJwkNJMmmS7U/ZSFJ/Kx8DJ/5s0IrdxP5FGOUWxIfBIWkJTIpKWvNlmGSxf8AzJmS1ChqCFV5PYvBNhxRXbck2MtlYfdjjlamZJxHJP4LPf0iJqHwQVimYjI3Ml0eHYzSzpo8hiQLWRqe18FwPsQqUi7ansT2FSEkzlpwilQk3MFqirlkNuvKWkh1YIbi5Ek6xydsG/2J8FhpnhZX2I7eoeTgkmFynS7J/wAHI+slVcM1yl3EtkJVV2sltOQnYehrLIQZG/6JE751GOM+hJhOS5JwUpA08u238ILINyJgB+DMRmsKiGxV3XArJqTBR82xtLdF9lT1TIsJimpVPoiq1/5LGciEm5hOgzF09xFDrCKb+QuwElMK2ti/YTFGeyIVq3Y5gkRlCVKTasvrvzSxM9hFiJstbJ5/YxkLJvAjDbahyIbSZmJ22yNyNMaSsDXi2PffH4QxqyUbp/8ASSZq2+wI8DciFwhvHgiYYhA9rHpsFF6FXhvmdDOmVJhuL7FYFkoR1gbY/sQJTnKEOwtnfaOywC9rw3FkdRcyrSWSFuDLhSbfLHfSc5bhLY3z9HK7TS4RL4OV+0gksdZs+22yzHRDRrcEO55xIla9blknwnBSKHT5UdMFGWSLwSa7icPyH8KwszuJscNn7O5a2aYgupyuBkx3/g/AxK/ODKpU4UpPWRotPgzD8k8imYUNPaFRqzIUlM1exVUXfn2J8U4yM+CCjL9pSdImQ9zHDr0MwObkU5cCVUpo0Yl5GyEPTiSmPvFllV8j7nPSElJrFD+xy1w0uewtIDKpW9UeE/7EktCuyVBzfAeiH8pMXnuPbzLk7tpiKu3r+ikadz3E3La3gUkRDzb7OcFtiBlLcKfZkTnSWYSQyVhSxKaIq1SpSPbwMkbUNYCopF9RBHaeVCz7GMUeby7wEv2KfnuqhU9ZKyFNYZkUeVcF2URTwkxVxGbKz/omu5WRME0CqTmEsI0MXh/dUR1taaKeUKOLLfO2Ci0IC1HGqREE2yVrFf0HxQIaH41kRfG6ME5CBK+U0MRLPeGjfsYV7AQO3xxpkD660mjY+R2k0kChRGnqAqtiWqWDL4GOdROpFiPKBzygv7dL9rloYVPX9YiRXQJwJliVVwKKjDBfoR8CtMa+yN0vH9RZBGUKQ5NI7SSbucxRIglLyTXdFgw8jtxIbKNhsbz7Dsd8DVqV42uA10VsNjivA3JxFkp6aFSPNjD/AAkpliGMkpqJHkaGKiNCJYd4Hp01Ii7Iimi+XyI4tWjCb5NmC4zHys1A/cKkqSIuHo6X40Np2YPAoHg0d+jcKiZeSa6v+8b0yxQg84JT3vQqTbE29DK30xHRwIVkz/MEVhu0cJ4G2tshQua9YE1aRG2lzRBOuN6HFohZLBquKG1hE882yn+xQeE+B8Ns9LJORBvAF64khWFNyt2orgzahpLSEpqHVpJRPnyM8s+hXk96qoilolP1lKUScsBILzJPEff+42v8SQFNJSRyik6YtIh2jaR5HMJ0NQPvY04OHMGSXtLa3HYXoePsjI5IkfcvZYl5ZDZp7cG7Oc03tD9MdlU4f7IpynT1ZWTTZTyv+OiWJzS9msNCbCon/jFNkRDnWT7kOOs89Jg8CSBvbJtdKCDCBuCRs60NddVrJ5MDNdEYHeunhjKnubMJU58tBgTQ2hkdUm8HnpMMnoUM4PoMa7kiJwNnnAhn2eTHjpnp3Y1RBgtI67oQFWuSKaotiZoicciml0yRybJseLZLcUPEiIVRlXylvuGJmpp3nmBt04HbkxRPt7ObV2iUDvsv2I34aY2U/wB0I+XeD8jVbugZvYa3yG38ECcmn6Eio/2zgS409Q/BEj+Z37EnLH+mWJOPjFk6BLcqBx/QItFmjWUNEVDMPI7QTEvIqROzVfZPI3Rn/vRRg2Jw6KpJrUUvkTHJLXDE7BkSfz0p/YpwDW5yTPXwIwXsyM9HnjIVaRJLsStoSPXRBN9aDz0f100Ox7F26ScdJ/gmKJEzuIl8ifck0ZN0Mgs8kyrJH0J4J7jl4RMJWci8CRI+F/DuMTaprekPTOc8mSCbOrE5C4JXPkknjB5IIPBTo7FdF/ZpJQJKO57AX4CI/wBxf7CKIq7Wc9n+ECi6cfQm8tvpTG//AAiHeB3gVcFeGbrpl6F26d+j6S8k9MO3RwukP10nH7OHRCejyZJI65hCgLFno0MjL4IX9WMMkOp2VrYc8QJFamJT4N9JJJJ6YGLq+5In3MDfHTHWTZMOExVknkng/JJ+CaJ6JR0kb7HoxB5HrpI9dEx1kVnnryMTYs1H7NobauV8C9rYHMgm5La4Neie0dGaMaGLp6I6aPInz/B0Z6TiK6fQukmiOEdG5dD79IG4EM+HSSSTMDF1FQ/yT3ZJDfhDjYy4vcMwRrHKhbzjpYCXBbhSSQjKJtJpwIlTWFy0qKuA9CbT4GosiCLwn9i8DvGFOKekRNocqbJ8NOzlagWazSYkZkWbRnZcebQ+pU6yVC7swbXhM/QQrr5yZNm+ifo/AyffVEknyK4PBLTwKxfBJMInpPDJHd0+BPryTwWuk9xED+v5aKMdMMT6dkujJbNmSwdcHcRwUNkjRRjkrLI++kdc9ZqjfRE+hSYx0feyTHRQPvJGOmXg+Bd0T6JWOkuO3STwSXOY6x8Hno5XguprRJXSYrBQtkjw8GuRNpN0hTZJOfOAU3wltkxyqSOE1au2TmIjQtysp1Qx6cFnhP8AgqBpg7xQhXgahj9/3IMSR90/9o5Nmy0NCJM5wSn/ABhSWU7FVvndoyLh0hVSeZRdlSFepA7bE+TPTOEMwSOien7G+mCOj6SLueDgyiMCI7fxVxXRYL1ZPs8D+engwiex9dJjpyeeieYPyeC556S8Nfgp1OOSBdJ5RIjD2MmtjxH8KyehP2LpjBPIuhPJXSKPA3X8G4G0UNwQmPr4J6dxpngg10mDIsDoazJcnbXoycDdFUpPDGwgvZCpPCkG4Nlyzyiak6I2Ooj5kWtDIS1KJtit7Mw+D7EXahQ5EtIu4/Y05PszImDAgpq0JQkLPcwVkXfyOySikh9GfgZkkeTgkm+sE4JMZ6MVK+n4PXTZ56Zkz/GTIkmumDO4H5J6TODOOuumTC6XoyItCa+EJAad43k+hjSZrYopqpbdT0ceusic+DHXPnoyaPHSTB4J4+yasmNHgVMZP8J79O4zdD8Hkkmf4KBaGR+aCsy8QAaSgk4aVzjI3ddDyE7Jckmxwya6IkaiR46SbJRPBo/ZfBjpfTJ66Y6SIdGOiEsyYPsQkYxj+NDfcknpHXfTAr6Mx3PrrZjt0n3+JHIUqyHNHOORdsrda0PqBsZzQxdHRTPfTOBGsHk30T6JZnJJkTl6Xce3wZPJ5GksEk+ilXSyZ6z77GUK+kolDcdMPpjJPA3xomr6Td9GMiTDVDY6E9dkwzJ5EzkkmSZGLpXVD/gjgSI7D6RXXgx1cCgmjI/Q26q856fjq/4MbjdF1tvybyLoKVHCYxDDKaMt0lt666f0Siek1Q2+mOkwT3Jfkfbous1+OmcYMME/JgeXA3Hg7ifRZH8ldW/BkkXwGzySjYmPBPct/D6MyT0kQ30JY6zAuns31pDdUNkBQQ8H0RfTF4JgfT0USFg+CM6GSXA18kWTyO+s9JJk9EmD4FZyTBrLEyQ2HMp2ro4F02XNdXXSRQUTTfcGjU1iMDVkNVIlm7nY+mh9PPRl9PR9GSYwZGST7Nl8G76euu7HZDFATJJkrqzA+nAvYnkyJk5JiSWOhkT0p9J6TLgnuMk8E8dJ46PvovcdJ6PsTfSbvTG5Im6AJjSpwNcp9ENwbYJHrQyu7DSYbROYMnvosmMGcDaTRrs4Ff8Ac5dI6sgbJKUTYplr1tSS1VdxENCoeREcGMYJRPSXlwJUr/MtKtNupEQ+i0dhG4Z++kj0Sb6QmOf2hJK0dxYMKrgQhXzoVOxM1jo+vnp4fXY8mOjF6x/BQeA+38mzJPyNw6O43UkwWSMcJyfSRPBImcz0bQ2Pt0keSdCeSSfBLkfkbKZGx9dEofEx4HPkiteYDSHRkZslU4LEz4KIDI+5KSokJBcn9H1CHSpWUQ0ncYPfxQYOxvma2eB0UbkX0NGX2Kvfkaz7myawLpseB3uob57C+6Wjfu7G+uCvTJ2u+CNF6jEVidMeyyRs24L6GNYEnFh90MW+LTTcfoZdex5p/wBECiCnIs+jaGx9y6oeEtFpfKLPaGmc+Csi9cknkmrBGt8oeBL+JE+TZ001KYifQ+wrwRGhA7Q3TEFzK/sSvcw2ph0ZdPwZGeOnkh008fgtWXKFHM0jYpavgJWoxLHR9GI8Y6aofT0YPRtofSeaJTFwI/JgxkvSJjz0XhYEyY8k3RPyTyVJhWL37D/Albq8nS3Aq8MrmLmbL4O+V+ei6ssInnHssgTd2diJgkwWR8jf5CD40tTar7EgVa3ir7v6HInJmmifgluuJkk9DJmsFMlysWjOZx5EZW7SMk78EiTlZQ7DZA2roQr6pukoWzolzjhIThAnNh2Ti0z3RPYYtWlhS7YhyZ19TkLYYY2GRvhngVHXJ8pRP0RBgsFyeVwTuRTzXg554kNJP2In8oHMd0+DA6G0rcKLngTTv/Gh9Eq6Hkcs4CcJcSbeH1MKn3ktMXZMw3TX9Dv1dfcJwPRSrF/B8moUaoK3+5HQNKtPzHaxGgwgjgcBV+bnykTaBsPcRZN26JJ100zThomy2kqXIqKodYXkn4b3xrLn0ZJ4GGi0vsWFqlLrcwVTmD2SkbI5HSNoJK2yJgSoTiT86G+qvItSLzcbqG7FDWkStJYY0FomRSm0LD/R+etdPPTc0D7GQp0EzITsa/kx5GB5XtCf4TYnHTuN5J/hwZZ2109DUA0lESIwVPtSfYxss0OudyxZsi0diDPwIvS5JpRfBGSTgwNFc0H2JgUpTlPafgbsZh4oTHMdGUi8pFmuDIUnS4aMiP8AxMmfOWgloCFWSEEGEPwRfbqbbKS7kTcpJKbKpbe+xmr8I5RwSWWWEt+B9HdMZcCILy+wVmhJ5A7bRUiZoa2wvwSRxJNImOwmouVyVch8B5uojgvjolg1jp4FkwNTuFMNYaPzO8If5wQULQmMO9JiYH/TPl9zPOBsIbqRqOfacRgpEQGiXKfhigCTc3UCSixpe1XeRlZFnymLPeJPpStHED756ZzalNDgl42Mrk6+V2y0XRs+Jk4VkvT7GDvISTCb7jYxblsPHtLhDieNKGojL2JumBPYuw2MSqQlKaHVReYpCiHeE/kaMQZGp2hbNCiIqLesFefyJHzxDIOWleYRJoa845askQlJKcd/RjPSTF/BHGoDzNWiI0kr3FiHGkr3RMUVPEJNGKFmst0529RtvtIuRNCTlrUqBPUNpXLavRiL9iaKtv2hMaFI6UfeGiqvyhK8NWKSlXGT8NCB1FUOY6fnp9i69gF9DlbcpLAQQhH9CwhaFSqFFkt76Md7oQ7HlUuWtC+6rDNdMjcIZYdhNMRASOYlk0JDuYjmGVKICT/FAa2kJKH4FOEZbEHcztYtPyFBsoiDmmeEiwTC2TJ5OTH+AbIR34ZfJAYsqHkCV3T7MkkFPNWz0R7AaXdMkw7MiRSspgW2fOTKnlLsQdFaSEI4+ShKMPKCFsMozFyNeaBUJtsau1LCuuIyhpTJHbDnCGody18jdxeE9kRlmF4XMfgXiBJYUuBWalvuVMRYqhU0fJHXFWdy2W8kbvV6RklZ8oyOZk+4rsyCBVmITPLzgV0Jwbp4pHwC+ZJfI9klCk0pQku4pQv5XiF3f6eJ3gc439XRncjBmnjZcHi1lD/ozsSXI04XjOvyIs3u1EpvsU02cqjxwmtCHVWp5b3LfJeQlj4bC6sMJ+FZGrVpUbTbLigajOQxPTsOk6Mc82bJmRp2PyP6KidWx3oiiBYokQeY81tOYER8b0qKEXnfafQ7M9yFjDu2/RyK1+Am+emu5FCfREjckdU6oTJ/+H6F89FlqDlFL9GJAm0+ewzilUPA3MojkznpscgTZqJLNDG6sIHTvyx0sneB4Uhy+yG4E6nMwlc/7RBgtmS3EAkdeiY/AneDTyk8L4FReplL0hgwhtMLMeCt31gZ8uCX2PIYUvYalu0zXUQAQ4PI3o3kSWsNEHEkjTWhiipJQn2peGaIliTp8T/ZjMnCkdbLp2rcexExlgviUK4Q9AeMC0rzqeENdhVzi42/LyxSjZ7C07hfiiiEKSg+CiNNrKQXgWiZn0if6HKDZrLI0WjTvLdj5qHqHsS/lS9Jo/BPRG05GPg8MVj7UNBw8FlLvT9MQi9EuTuJjkJXA7csyzJvobJowT779IGTYnokT5JG5ZI2fRUUTtscrFSjMno56T189JiBwhrVFKe4zOMnIyFF2QHiq/8Ag6Wf9DGeOsyJHgmcHkmf+jFTvonVCsR5GQfbp4/hRRMmNKD7Ipg2n5GaaTpttIalkZNqDtkg7oR1DNqfUkbpqYzaxsk3cdNokqQrowH/AOKb40RBsps88wEnAVXaJqMQJzSDcm3kZtYSE7oEJK8UVX6IVRSppIXeGu+BC5CqPoTJu5P8mJqM0wui3x3g8Mdn2loyzBM5sf0O2YoUmG0X+4G2pMtwBtQxKwCESkiUJjfczgX+knGVDf8A4SK1kXcZEuLRYXfryH+DxDWiRkbyJx/0Qxfuiqu24l/7sMTNHkP6JGzxHETuRmZsRqML2eum7JFl9MCZJ2YNdReM/nrAQJP4Jf7Y5nzlzDMEwekC+SHPRk9qgmqFOkY0ZwqMiqLTbCEyiBmJJ7SRIz1aa+BfZCFViffqnqekXRJWMKilviiZVh4gk7mT4PgN8E9YdS5MdVZg6TcvciKWTCueCWK8KZEbVtWLr5F90hZegUmTdrSQ1DUWpWGdx+KnKKWC8FBJEMfwLalIgp+x5B9uSIu+3xf4HNHhX/AmvfpL7PysX+xO18P+o04KTX0Mvyy+wpe6FJq+H8k2juv+yghaBXyj7V+iVjqUkD7FO3RKBtjbr5kSUQvBLWWjRacD6eBEcoiJcwcX8i67ZNNSNAq5FFCZnoz1Ytqq9rD/ALFLCnCRQ15TpsnacmA2ks0MjOkNQ5VE3rLHbY2zFtNTXVxub4YISPWZIRM9hdmiVznY0HylQc/0QBV5yEet4CXfgnIegHDjyOlYszbSSueCJgjDhsTD0nmz/fJNkswvLPCQqskuJFKCG/or1GOj0tkPCNvLJqtbTrhCeCANIwfEO4jUV2PgflENZdoi1ZOrKnA5BN5pFpwOdKIcNQSKkzKNfaHBE20l76L7ryJB/MkL8CCf1OKPDjQpuYqJUxOxBsLVXnwiKYah8CeWSxHbjxvu4jn0k63ChCSCnWMedoj6GyUE8p8CEK6E0clisTD4G/IzOAskoq8GfKIhScL7SIrjXOFC8IeR8b/Q88thB4IXI32PA68F6JJ6ZL8C22pu+UhobbwK0HU/QibFlwUsdM9E/wDIbfJskNy/yjNfk+a+CvB99Rq69fmWJ+D/AK7H27m78kpSNh7nE5zv7IaUff8AvMY3yB5/oHYTRR8EElN/kfM/k7j2NsEk0V0TfRoaXvq3kXSttsehtLZJYtiBtSp5aDeYqjIP1NaXIi+xHrg18g8C9ivtOM+BCSLOyJeV4J4aSNcvsH+b8jggWJBJK3CHtwgtvfOUiOh7RhbefAoaNoEpraILqJIolYaZ4EFB5QLpUIT2sTrTTwRj8b20QfcwUpP9nYjp6HlSkOHxaJrqqwxh6eTJtUpgsNG9CV4UqueEElZS8blWM203SOWAX/EiJSZAMOf6ZZloS2Whp7QlaIwGr/Rh1x8v/EVr61RpFD8yCwscStNJ5/oSgdQOS2TJwfS1UQ3h9HDcfgTzQUron/ZEJMMzKhXxkbtKtfhQ1vZ7knb6S+R1tmyXDviwZikS3JeX2E0zakiimNzBgl0/2KO7A4p8xfcIrmuHR/o4F28zm6mzEoXkTmMdxL/smT2uHU98X9ApVSeNzDIm0xtaFslK8l4JjrVqWLWz0NlCW0+RNujFdYKRJr3uEGROwLuqFDYO7hOsjoo0NlhomFLJhSPUF7JgwXsntXSD66QI9kqrsVmuwpR4IIeOw0a6VwSNHsTh0yU5ldO+GVwdtDWbroulj1/D0eOk8naJG+TwOYrAoRM4GEmOg24LMDOQBO85trTQ8+SnvxIxKtKcpy/MkBwMrEYTXhyIdlSvhw4CWbJRJGnV2IMw1nIs63V7RyjDJPboCoBBtPmURZRkGGmQEJW7RUMdljd0kb6RyPCChj07Alg/QoQ4yRcS8Ji1iRLSRA3J+QP3JhFLXKZVQJFSWEQehSw/3HgY6gOXIzU1Tg1xYgC0JEJehulMPCKpFukLiUNiLxAPo33EKVl7wNQWZACaHBQhYRCQmR7TDgXpnwfHg0oHk0JxMoG3I7bICfY3K5Q4KcQIVjlgiwP8CZYLeSPgzkpj5GpMCqkSXZQMRpOOYFTG+JR5Jf8ABWKlZLiJDI/spoeEhqXwMGR6BkyDmxcDMkBZQkSwQTsiElJKC4s/Q/BIv4a6ebEeSRppan2yJbJTeSDRoaQq+Xc99Z/86SF3NFfx8C6eD3ZN/wAJ6foQn6JG1gfdDehdH5oThIJfdIIWPnUqtEahJsJPj7ZsSti4iMmFrLN5yLTXBsiLR2+67C3hMK+iL0Suh+WKEzKnFTySSvZJHJAs8dE3A3rp+D9dVlCY/IyYtk7O30GVYWiRB4JH3HZJgs0aEN0PuV1ROBKMmcEUTmeswIRwNZ6UNWzky10pmh2+n46pdjGfXWzv8IVuWGo4tLMZGURi+5A108EwP56YMkj656bohRm/4N9HnsTf9dF0tE9Iu+muihJLyiUxwhLWEwkPk5JXPR8G+4xJuxr7Euix1o1E/B/uTLupkpPHYX0N6VH3aLZMYHtNLRe0UA93BjixCEx/kkCmy36G7JxXRiZQxDU1PqtGV3N4QinZoBj4os85vr4DQw6E9jnglrS7bLLKYhYkgnqukcn5OxMljNjxrp4Nk6RmyIJnBh9ZFSGxMwTOyr2LvXTx/CBIRnP8EpEpqUr8Q7OsMElYniPI0qU1NUaGPo/446PIi+uOk/ws+uizkZjpYnVm+qRLpYQXBBeO40WAkks9EtfPkkHKdk/9Eum4JreO9jy2WmPPRPtaSpHDJGALD0sIrtePkgRe8UVQk1gRhvveE1U/I43UajBarqF5h/8ACSsREuadCOxOezgfLripJUJ/A/auvEzREdhqhqilJSGOfgzl8ITnPGvYSYxU5wm93/o9Rqj2lAsdpNsgmGgruX/ENLb67rAQr3k2k1DHknq/456aH3Nfwo8E8/ygnA2TvfRdxDZmbGyT0npjz0XSDHSD6H9CLZlrYhrVaBlbdGcdGSMX8IE57CPx19yJPpnpBs/BwOiBosbKWzBkf0MR0Hg2IwufikECYOIKpXt8Cy+HINou/ZPk2jPmCT8gYMBsb6StTxgpxP0Tw0GuZLQqaJ40mhsLYLjBBEyiotQ/5F7wGpyRPkRInO0xrXgqNwp8i6T/AOsd0ROjiKUrbjI+lyajiCH7TZpQ9yil5eEY2z8nZcC+5N0CS5wQqO7LpL0hzo5M8bxuEdBRt6OYIdXNyKp9wppuVI4YZThVBvGO8umEWZwKh9H26TEQIrr56Nkw+mqX8/gkk0Y3199J7EHkkXT0eWJ5Ff8ACKFthONPgl2JyNw5VLuJxBvP8JNDvrPRi5FnpkweRdJ6l/CfgiR1s2PkeBYGRRRlADEz1o+3gQxNC2cmxeWcWJWOvtlOILgR1nusI7nIBHBEYmcF3TqurtuLD40sYN3locEsEMzOIkJOtFs5CCQCVRsJJH7MgnhJPgaUswz6SMmichELycKBQ4pKC7mCjYWzHduZjJQxUn0M0p9DCQhMdgFwTL7DDco0T1mqE+DYnz0b/wDjn+HknRJeWaPHScySLuLJFkUTI6F0njpI5dPweBEg0pbA3LyUYAvJkpTwfY/4z0sLpgkb4JE0a5HPPTfSt/y0PPSRnskTaMQSMMrYlWFRTDySdJs7h0wNwbQ3ZtDz1bgnBJYuicYG9HYRyYRPJLm+hdhYxZPpkyN9JJJkZKJJyeQxI8kCV0RjZN9JM9G0hvpMmVjpJPSeqKijHkYXSDHkjuTOxZ/hO6JZizcn2MuiMZgI1ZTQMkfQ80eRki7EFRlSYUsm+V2E3Ip2Xx0Rsky+inp9Gx/Y0eOuMIt3BMlrToRMa6tz0ZvrEZJGT2G3o8luk6FXRCfSek5MQZ9HgT9ImWTgkmBufBIuwnn56P7Gy8IY3ZxAxCfcwUnkvnwRocvDtiJTGzCCY7Ei1bZJK3OhNJ5YlNEyuomc9NLknuNzvDchCiG4qRgeDsXGzMIfPGhPEk8EknkjVDOTJLZFmyJ10S4RNy5/Y8LRBEUcOwuRlYJ2TZe7m7cDnHJFNja0sswkSAyn5gUnGvs7PgxPNfa6L/SkCEBGhE5hwQ7sTViUJIh0wtktdWJ2Eklxc+xonjo2exkoTk8jI+xKRt1GWOTLQ29UTYYcr/mCSn1lX/HRlwTdMKOR8DOSSLMkCDrprCQl+iW2hucE97ETOD8nvok9k1gnZMZM4G3glbaSMeLmyimWialLejFYZEKxkzjpNkwf5JJocIIpg+8R/YcOmmFsRJCO8j6N8e+igiLfMUT+YGtNzSzDsWciY2IknbV3R4asXKhff0QOrEq/mt8JD7c5JmHHRtcm6E22SIWiNdCNKTck3DGPAxNAvf8A4LAz0IeqPsjH4ID5qO0q6VwQdiIrS/BoTkA/lqx3PgNnmBOxL0f5roQIaMEnbyD6ivgv0bGLJOx4qBPiaGXuSE8kqD0HhpfJEj4x12hv2Pvz2lXlYZUPQrSU0iRGr27bTI500ce0jpd6ttqcouwcrOniBRr98giiAMXCcFkq4GPQ+5cEkqWXBJjCXHYY7Qk/N/0SGQvPTb8BMmsKU1tD8jdVCO4hUnNhNE/+lmsS5TMyCZ2IOMNROP8AhsWYSmLTJVvUoi499wxtlbNulyc/QmG3cpUSn26fQ8RjP5Mt7FfgPI8qhyiS88DCipAAuYsk02evAqOFyxUBRqSaFidjs2SRCnEtI1tkihjSoWhsFobKnicEVprTRPIhPDMTANXeixQay/ok8T9hJOUozU+zsP5FBKMYehf7g0m3NIdTo2EcoRm1uE2jNjbSj/8AfQgvROD4DGPuRNUwmSP/AEtVXLalbMnFmQkLh+3HBEvlPSWqaERYmQb2hVIW/wBB+ZVJi5JMGvlMZ9rRW2m6I/Ar0Koagx0RSEJR3dHi4ALUshqWhKcqhosWgBJWb7cE9FaWoix4D0QivBT99ffLIVTaRPaGfZP7J9Dhn40P+larB8CXG8pxZbDeiB8KaefsagSnqU2yXNDaHdks0zhZI9TUlP3OjG+E6/6ToE4nuLRSE6w1hoQ+m5kdxCx3tywyHtoc5Sc+hNOsKlLfeBF6OeGh01ZNsNMwr/TIuG2N3iyNoyREDJwhGaGdmRQ2Q7s2xeC2uhNdUnLeorJQppnSGpVLl0jUUM9KkilB52xqT0yEBoDsTyTnlwwQbxilpmybTEf2jTHjBOYh8AsQBJSMRoQl2kLw1NJi6Yh4W6BQVl5E2FhROaY6QJM5Te5ISs5BI+dBpFwC4SRJe99jO0JPhGPuJE+hiTeDnuQEdH57eTdVzf8AAXWAoXdaPoYhZKv19fk/OxULwTDFS9HjuHP+3+T/AK28NRbZFyEXBkR6A71pluWxtxA30IiXk8UYHgiVKtkt4kj0piIkZuxpeqdz28hH/wBLAswmCZRXG7nLLFGSse//AHfrBP8AUBYm8SAbcuRQBIXnPE+zRY4eBcs/HAgQJfawyktNj4M1Z4HuaRKi2rY1Yn8gPidYnIXD2UstCeUdqIm/JjZAm3hFYpQ0kk7WEmnC9CNJ9MLYu4idT+RaxaBUkBnKYovHAqTrjaRf730KpJW+ey7iJNdNL+VfZNTotLRHx3uY4MNqVTqkHG5H0OxDYxWmODdchsMtlJKb4kb0mdIhbXJNz5UUCnTqGiTv+wtPF2FZhURImXZrob8ifaXOGZAqTWVY0Mic2hJ9zJ2KnaDXxTou6iGZHsU/RNSrvHmDMJWYB0vETNHf1ka2WKczzyIk0RLaR+EjKfKWbaYpoX57IVOJUUNCQeE5ZOEzN92Lz4FgmXiUegngz4f9SMewmlCoOII+16aGzDXJQQ4SKwRcfawjFAyG3hYmPoVgi64E8wPFcQ0lpweAbPWmPTVZBcRAre7MKf4R6DYDRT4sk34F2GIUElAlhJEN6YmnTlgNKbneI0uLieLPJXhrxFUv8BxJzzwSaV3YErJ7A9MkJ5wKHDIOnXSlXcWpChUrSVQprWULJ4xlIJMpAXgm8vLEmpEuGdDworRJGdIt6FSYT4hLT6ZRZeTQpujwl/ATLSxbliGdp0wBVckvRa5M3tiz8KEm+/A7U0Paa/NoR8zwnDCqJ7sBbT+woVEsQ4T8xkSaxQf0xJHSMG8LO8ro/poaJhRJaYsZ7jeO/gd+rI2Nm1oUqFiEJwgkKbSwBVVCJw+72G2mUHHwOhqlo3oJ6E5xPhcGBB4nsY5+GY2TmaSn7EOLr7ILLed/cTB/LpWb1IFomsX6GBQxycTS/G7yhgukifaxLgb5ovPgb8Djx5Gd/lR2Mio8Ssjuz9tNFdZ16LDTI+X5DzbIkyhfdxySXl1t9uyG7PnIzD3UjNXTPPCMF1c0/gZme2/syUvJ+CBs22MrK2l5Mj8b9gyDbJxzRmDmX6bIagQwE9OYwvkSCOoUQjsoF9MbgZGTySNjIXRaKJSiYv5HbmROMdHb99JvHRKDYFKmGLIENnsv2L6EybDT4GKGw0mRLQclUZ5bGGCk0TiiNLsTLE2RkPZijYQ2bsotaV2yMehSSFJS46LpJs5jIxV+TEhmyjhhAhDw4votua/shKf20xKavOTHkioYXXYK0pl/jRe21IbC+f4sWZfafsd7/EyT4HfYTGXto1mezw39H0A39DzI7rBF8EjNp4EMk5C+5sJcoM0xlQURVQ89O2MUMSJVo3BsTHawJKISjZSmODctaw9jHkTrWfAkckdUuWMnDaU1KJH26SQUTluhtOgm2skngOWSbH0nggThDfT+Bqcp2QcqEk8kkxgiz1oVKXD6SKEJwkobjdCrCJXRkCgTY/XWLopByaTsJxga8uPVdG5vHpOSH/u7eGJc1rEcf+H4EskPAvwYVDbqMjhZZJaheRNTBVn0SKDCeia6+WTYniST8CESSKE1wIowoPYk27AOFcQef4p10XT2JXNKrarBPAnyPu6J6JsUMlhvlkhuRSiRJmDSPJhFvKjpOOj7IVNVzbdILqrJpVKyROtspN2FsIy7ei0iIfl+uYcOuk9B29VNLMlJbd3jxPBPwPrNb6O4/A+MUk8FkWuhbZ56N8j56wPueOk5PV8Ja/ZswOh+YPBR/V9cmH3OAkMx0RIbJBzBgLArUZCtilw4iUnHRC5WRnd51T90JUEu3Lblsks0jCJvpWChYRm+RNCJoSGyqMCwLjonbcDpCl4Jo7Lq1R5WD+wr6pvY1CrRQicCE6Tb/kcoOuBZW1nPVdb6ST0yT8GOldYvpgn+M1RHBmNdXXSL4GJqR+hvDWhJbfCRZGAh37WjNYAd3YrA2RnMqlPyMJaHhR+Y9e5d9BPEE07Tc2JPDGyFDzDeEti/CKKlZkKSEkoSWujlkYKkNLuIWyCm20xw+Mu20YXJlkUBKTv5hCrcdPDJTlZMkiklVSjR1nxJUyy3oWthYEcpEuEE/hYwuG3ZRfkMlPjrhSaRs8gQpsj2HIsINgjUMdhl8J2xUVlYI1i0tvCRH7O4nwyx2kHhJTihbapt7tpCV0MP9Z4IYQHKiHK7DSzHUjCTyxrsQuG0HIoDpcT3GEFXMMILGb2m4lpmJeEOou0JDG1Sm1A44xA5TJwV4uk/K/I2zDnTfDpIrIvuPGSlCjN1cOWBw0V0hoWmAGg8tyPTjTEhj+fiTGwLIVrXg7eISoWCSzQsXUByfMJdtIjx8yq7gaDWya2VyckN8cwHVzhCdCqt6MXVknE6ZFpK+gEufryIFh7LKdbF/CRDXFilOVWGIpWz/Bdcj8C6Kl0no3PTBI+uiBk9Y6xNMdVSbwZfjuAdMwO3tC4gZKUWkh9IRC8hzJCZiF8gfoOpACVTYwRwkif3LghPQ4EEtqfwGckyIvC/sQnnwT2UBHI9TFfHkeR6GbYTlh0VTogvZIjE8Mexm7W1geTJrmaSVwSPdEzJv0iZZeMdIWymR6E0SCGoaZBeggrrI579hXYip3eb2KuvUSziWP8AK97/AF+SUyX+qMiLptgJfBWB8zllqR9ET0Sm4Q1LdSR+MRndeHqWEOVL7imTlNLBVNiadFPfDsFDSiVJHnSGjRK0kVKcIKXbGy0tFifOalHKTfwSJ9V1NNCVcZPbYqDN4HbCAci2c9vY5GyGlFp5G33Y7EVJheGhl5idwJQjlPZBzd2+dCQAbSn2iEqSEQuyIuv+Fnei/QqNNpl/iiQRqhuUwUbhWX24Cep2lLQtc6kkh7bRSL6nxAlYcxd9D74RjQ6FQ53ZscrGzaYPIsmmqZdHDNv/AKI4jiV8GKhHX/pDIxzvmfBJkpkRBPHj5eevk9dGx2IbEwNKJTOZj+GN9Z6rrA8fyZnqk5jrkWOmM46qWGaR+A1swD6k+hr38F4S0h9IlCcJ8D7h8m+kUStNqHyNpQJcIV5oKGm0xjHuS9hC0xlPYbExqBXcExUbXtDjsxMYYVpYpr32eeTTNqLyNRiQeJ/APsyFkzpTFDTVQJWl2SVITaZRD/fAblScOxMXaNgmQ0oBb9hjQldqhkZGWZ/BIS/ZITNttzN3bKtFwlbejlRn/rDx+4XfkYOhS0MsCLlGJIHw0mtpja9dk+g9Mb7JyUVJiO8iocy7b5Jkj0KazmUoTFkY/wDmDroJzvmCySHi2DlmalPydiDwF7LJRkw5cM2pxESeBWPwMiYmCxnWBewdiGC8PIUNKIZJ3mOe8jORlY9CP0h0tVkhy30VaUXkdiI9yfMUsK5b9hGmJOUZblFXrhygu+w6Ty8L7fycMkEJwmih6HboSSNkk9xHsnpHV9JJMHY3Yuvsf/xJx04MEonih+RslI4jh0IKI55R46T3ESymSVHc0TjohCfHRfw10jkmP4SP+UwYE+kH10WxuCz7Ds0DyT8iTZurM9Mdcib30b+f4TwT0wrgjZyfnq+iw0ZajGlrJYp04DGHQ3WUKv4aJ6vRhc9dj2ImMdF1kmhdN8EBsrQxMu/jo5FkZBjfRHRprMxAIFGu2eGWBLn9IOzq0kCfDRPhNf70JRyO/wDUbX7Qc3ir/Q7K7wflCWQSy/rnBKbktfmSLaXRJufgTggaJTXTRP8AFEzoRowZNiH56IiyJM4sb+BYGuK6d2PqybF3EuOk9J6fnpj+aGG5/jBaJRDkTfwG86gf7sMNC9xMp/MExmvY7T4EmMajZ3HWR4ipr44ql5eBkX4Unw99lI4afsnpHfEGiGQ+CHx0h8/wX10REde8j6R08lCeTzkcT2H9Fc9JXYReekidYFtjVmytSi88hfsWQt3YM3eDpE+V7/0W/kcUYEncvjkkEW+ZH+yX3Q5mYUi8wUq+xey5hH6MmDHXt0gqDwbNmhZ6TXSa6ZyfoVmjXV+hkmRCNdWzRIoJ2ejcj8DcImSRPoiSEivHWSJrDDft0SKCYFoRWBF7IokPgJtIFbc5RoIgZiYLJDZQf8ialH2HS8CRmJtdw3FEvmYCQJyVV3Eb5CRkP3gsxBefkKRtP6JyfDNv+PkWxn+dxT5/97iyV7/2Jz8p/s23Px/YXjQcU/aGMIZL95dEv+MwocorkC7NwHefzihMvvDIcUhaJyQPIjCmYDwDqvukFql2f+hqW6f+dCSl7P8AUM5T4f6PxkYXWhB1aDk/ZmnlT+xOUx9pDevyH+N/RqzjR/l+DjH+eBFsGjwD/wAH+B7x4/pGjd4D/gB/6cej5R2r2L/2jeJt/wAPs5hPBcuTj+KR/n/2UO/8/s7Etp/Y0fiL/Z/5L+xRfQf7HyH/AFsSJk3UYPkdMzkcYDK++gTLLqU/oc0eft/ojGu9U/oa80Tw/oS1P2r/AENb/S/od04/7o5QJt0kf7wUt0eP9Q1N0/3wTJNP++CUW8/D8GLn/ui50P8A3gUN73/A4iu8oKGPkQiV5k8JLbuZEkpUgmJuryy3F7Eb/Qz/AHMkZ6zEiilvXkI/LgTPXAf/AFBhgGL9hxq+2wggSrwyWyUjzkg6Y7UJrgfIiobVwLQrsUUEcRnkeCghtRRwlRBNO4VdxqybYstJaFdbKh6KVQo+ymy6/BtGcCTgjQw4BFVk6SGXYkehqtwQWpk9QUyy3mdEoCqSIO7LLuKOxRSmE9jjVpaRBmHisbxJNaUDVymxAT4iTzVzJVBu7bFdtcNNiQnQzBCykOz4lLc0x7PgoFZ28aGsGVtiSTO2GhMxRt4hE3C2WXU0oxgSSD6FgVkWihIfBCx+BTWo2NVOBp2JET8ijULOiTauCiMt2QJlPIjIt6sxZZon/mErt9pGmgzbLJ3hRkQ2hJK5ppV3Ibas0N6KeBkhJYqhpassQNQDslkwFGUkKMguiZZExyvwLsk06xgVIJub5IqW/qDRl9yFVtqENTOdBlkk038Emm18izK34IzYhzMkcVDRwKXZdiGOuBoeiVVI1NEJkpQ0oejZBKU/A0LacGDiBlLyaQ3sLPYbFh7EKTYvTI2pGJG9KR75TBPEhXgXAwnJwFLZQbj6YQdPkUlKDgejEsapzGC6EghJKewuIkKZK7tIm0uFo//aAAwDAQACAAMAAAAQDUsaIcPUwYA4QoIE88osZYMVRwsgAs4IkoUQI4N9coqjA0WOOWyP9I8wgM4KoE04Mv6J4Q4BEsg8kUwgA4Is0EYoccQgEAQEIocQAoISwsk8AcYg8iuoOJZ6sskECa4gAgI8QMY8UgMgwEwQ4WwscAAsAAIkqk86Mo0AEk80mU8ssQBWEQM2/o0031tyQM6gw1wRVsCWs++8o820u+E0A628HsGKC8602Ci4E4xM04O0c000wsse5U8+rH1pNRYE2ssY66coukokAkwcUq8CyEsIAgww36kAgMkcaWmi8xAcmUYYwcEazeiI0KCkUCeeUOsaQKR45sohoBwpMtaIk0xyYdVAcQ4hry7/ANyMGCHOiZBFBDCHLqZAKKKJOJHLEPCBGLLGEGJPDDACOILlIIFAPGGFBLJt4AKIBHDFADJPHbTODXDKIBBDFJOIHGOLHuFFKNPJLOBtGIvNkvhrjGmlroIA7AIOPJDDGAgOBWSGvfIELuEJloFgHoOvjulohJYeeCmzAQ40ChSys+2JNgCX3MMEBJKFDLOmIJu3TBHu+ptqKcZ9BRd/aYGSmlnkOkjIEPEIGnNpLo2qwKCKWgMDBODIGJHHEYWDb4gznjugpOACMDntMDCKQhGl6OPHfa055Ne7Bt500kHLK6LGEHiPEJSENTFWhKPKAMbLo9cLUhSXSCo259ey5UUsNIcV0z4TlRcO8dRdCuK1HVhLLMPFIio7c5/zO2xfADzFGKFFOAPfokOPLNtNTI8lrJkipr+OHIKHrjIMrXIOJBFBBXELNgPoAAPVUIFnHjACvXL5HQFCOsF0DkRCYTkq/KOflxHTxaqJsgPBICFKh7t2L17BJGxa9qhCDl1la2ROAM27HFAEHHtugnG/GDVbliALSyJiBP8AwiQAyBgSgp5IIBKiB7LjIp6QCOPM6SOVQzxRwdsCsdNzeMAYSp+ACH0gSjAdRyjyyDEVYm3ThhZzAaCCOIXQIyGBJg4VzLwLQuAgPIaAEE4eieZgBQZA6So4ACyhgQI6zAQxzjbYAixziIS4QYIvRFGhBgzIxrhahxCcwwxhQigCjyBixiI4yCAyqpJQSq5utoa5CukY3nWn8mai4qpArwiYB6qwTDATxwgSCTSjxhFZ7jzCwRzhRDu7inSUcrLKaOLxgKobJzAi6CAzj6Y+wWryRgyThCDigwhRgDKgjiYZiTD07BrZ9DjCxSDTxQyoCRAjihAgpADjQijWiiLBBixDDwxyyjQx0QZI5QrYzh0RT8SwwChwwBA0RTDK6TmxCQx4uCIBrBACz7bhzJI4SCCiSzyTCBfRwxgBTDUjBGkH0j+2UGPpzrpN8Q6s0tk50d8qZxxShJrCpRiBIQTzxQzGB14yJSBwAQlxQErX7TLbPRziQ6gzSYywDCQAjQTIARCxzJ6TTzhhgxiiHyS0BAAxBwIBggjiCDRjgSqjwSAqSpCzSYQYAWjTBjxagwSwQyghjACyQhQxSQhwhTJDwRZwAhiBAaaCA/CHOgTGNAAxSRxASSywAjjQADwjBgRQDgyDgSRyAgC6Ag2ZnThQJQzyBBCzY6tzSRZzqRC55KjzhCSwSCjwiTBhQQwLJiAgBhgjDxB4iyEYkxCy9pwwzjSXE7Ejex4deagwN7GQARyRSAyTCChADAhQYxiiCQiAh4AYDxDDAwjC3wThhwCQjfC7Y5KmJTBCgwFjwQhywDRBgRBACySiCryCSSyCShhSCyO4AwRLihRAiSyhASgt+GEnRhAxRwCyhRiCQiRCjQQxBjCiQwwjJrBprhhBTin62yIgGxxAjQQgCwT7rMdBlt5ysOdnjhgxQhDySTizgzAxTjS7xqyhTT5yCQraGRwqtwCTDyhQiTQise/cMfSyqRWjBDjyAgQxCCCABxwQjzj6IDQjxiAwASrBDAxAQADDSYgRjSwBwYQjxRTzjSmoBRwCzyjFTxDiiiDghDhJS7LzgBC4BhYkgDxDQZD4ZU4I3WAQorz7QqqbxWFQDjDwSwAylk3AAQzASjwKDThCDh4DAhjeTLaArDJTTLKG7ZCS5KxwTLTRzDaSSDCgj2hhgRgzABCzSTDDCCABDyIAxzQIT4ByBzaQSiaXXZbif6oQxrTp9xKLx4KIQJ0xyFhCARQiiijTSYI5QCTqwizvAI7xDzrhAxEB821LmePwsI9pnybwUPVwOLSwQBhxSBABDADiwCCzgzgrxAgNrgRALTCiBwzZhzDBJADRCZMCQibzSwpijjYIwIBRiqp5zQyiJiywxih7gxThgDLDRCgggzJjRCLZQLg5vLJJQ7DKyYsj3rVIV02wKDixCDTKCyCwwwgKzDh8g4QDhiBwjaZoKFgySzb/AL99AAu0K6iauDck8Yw4kcIAOMEMgUMUEoEY+AME8WEUosQYYY4QI4MIkGNJoEF7OlOYU654xGKQm1FinEAGpdM2IcMkEYMs+Q04oE+cAwkw44MAAbgBbd8Td93EcmqLd+tyuoklu9EFbqS8FAg8EskoQ4EAo0wAhKAq4g8ogQoMsUeA4w+6E6A1KTQwEi80QAOywuGqfGAYNAoIoQIU08oawtog+Eu6Q80kkkkkE5HJ9aB1vQ+P2oTgAa1EAt0WjlsnKtU984cwA4q084syU0cIyTm5EEsIAwQco4rzYfYEeuLDyBnYgA7aA4JuLkM0GpAY8MssMYgK4Ec6Q1k84o0JcsYwsM8cQUUs8wuimY0JUsRkEopNtBQEswkg44qYA0UIYYQUks42ckIw+kKgcwoEk0AIkwa6K4aiA4EdgFAkY8cgoQUwo0U4AMAUIAMg4OGIMEw6gMS805jMwoY4cgg80UYWWAYo8Q8Qcs8IocUQ4YU04o4wgYwss8kc0igI8EUEAeE4+7yqMoUA4wYE4IcE8086o8UMQIUQYiOKiwe20sEc6awE48YwAcowMIcEUPNgKLLaI0osWYsGkA6+gEGSAuU4+Y6caI0ia0cyA3rHPAyggsc4Ick8U4YwNkULEKMHkU8kq0UGIFqASwWCOZ5DAqEKSAGisycgotRX1aiYQ0c8kWgeaCPsVIwqyArW4IcWY+oSSGwmKEEamcAB0CkU2w0QEEcEMQg08gsCkw080mrMxU6tskAsVoDFsoMkwEmA5wAkM84kEs8moarUYwAgx9UBQBUEeQ1VL/LFx6N3/wA6NR3KkpJngPFEKFFGGYNfCiMHnEEimGN4Bg0kDiHoxX2vP/8AL+dGjltexciFRUwFPhhAn/izQgy6b2yhfbY45x7RRqDawxzBCBDoKKfMDb75o4rDZZ5FRUk8b3UTCgDBuWzrRzpLpzYldb+JbbK5DjCzn8f4gmtIyFPP3FbX34h2wzPDBFvymPYayRAuB2NbxBSDKzrhxoYTTCxQACSgyqVt2pI+g/kDR/cJrgHJRpzhxMS7yBqqB6xjL4aYSB3XBkwxCzFDRxyTSBTSCDiyzz5rRSQzBD4ABBwQCzAiBQTzYwzDqxJw57zDQzwx9fTAqgQHiGzoQjQ9ZCdAgl2PgRfEGBbFtHH5CxTXQsBBjG3Whzxa/gYQQTTupTP9YIsxizlJb4gxgdUToGE5qOODrIYii/BZPawg8N2WG0P6QyTDFJSggRAVfa1A3VjTBwhBDQgSGkjYRgAz1TQwQzgijRCSZRBSjxziRwzhKDAg5AzQyRxDrrSwAhSABSTACzT6S3DDUjarP4yTixixCThACxyADwRQwSgzbzBBiaaxDBR3GxBgTySjygBhDCiN5xc/jfJlmygiByjzDjRRChzTQxRTAAwQhiwiluGDiBXyFyxjBhSzhASSACQDIByRSQwxRRySxSQATgAQxwyBjBSgyRTDwxZkI8AjDCChjSijyAgCiBCyAziRiDjgyiCzAgRQggrsgNQjhBmQwzSxhjhMCS4AtFeyihyxTjhCDzBQRCjwwA/qDy5HJ7zKGNByEqdYxbhyJTaGTGLBFpy9DSxRpDUiw7UZ/wCwNDahd4gYsOScCKQCM1YDCALUB9LTjoyMOikjLUsU/wAMnOf0FHNqE4DMjpjmPa+IudGlMnvO2WW0FELfH8eMBPH0DlNIFON2ME78ANBH1CLCDHGmrgBBtAOPHBEGCMCIiBG7BeG2hzp3ZkmN01fPiTxGgC7Th9oTKbSEUCAPOGFOiLKPEOEGJANKBNMIEAKEdt5yv3OxuGPA0uRCEKnHoOkOKGDDMCtmMAEECIPAuqPBAFHPOMHBKBCPHABPJB8POsbyboQSrzmCaPAHEJKEMNBDKCKOABDPKCOKZLBBLDEJANEMYYGDCCIvqc7J8l/VyxVML3VfAFKOLPIEFOMMIIDPJNECAIEASiHKKIJABPPMLIHLCNFFIPIEAPOFOMMIIAIMOHBLGODHnNCiJPHKjnKAPOOFojNHuJrylsKnOlAsPo7zLqu8OMSuH2JvF9zPVkVDgsx1npJymccnVguf8DslGuEzlrlucCsSTWVqd0EuYTy1N29fpCEW7Xhj73bV0M2c2OHfrqxtzN8BSXj0XCKHHMGVcZ5gQJkDMKJD52nJDFJUBHAPCPrHDwMCNIhB2kGGNkGHBOJnDJBGyHMGDEMJLALCJJIGBDEktI5OCZo2tTAgRgannjyEYS2qH8JeFJJMpqzoEyIPUFJMAJFFDJBPOAOAHNFC8JUHsEDJulFBtD9MJoFpOK4fleaZprGAFOPqMZLH4B6+cYhvkMKOAGCKPNKEJAUpHJNqrZi3fLINaJAPHGCNXPGJmCJPBAOsHuiEouLA6xz4GF5cssnlCknvJiA7w4xoaKY9AnDOV6aCWIF1bEFGhgVg7iRw97oDWP/EACIRAAMAAQUBAQEAAwAAAAAAAAABERAgITAxQEFQUWBhcf/aAAgBAwEBPxBanzTM8cITWuFaXifnJ6KXC/WXWpeBcFzfW2xS8D0QhCE/K6ZXHvzX+aLp30PG+XicKx8whNd4b+V35Vhfm9+NZ29F5EiYm0Hvpgu+al3Lo31TO3rmhcs1b4hMTkfDdilx2XFxRlelcLy8PXc0u81XKGXEEiE0QhMTRMRYhNCytD0Jn3LzCaJwMXAxa6XH+ta0TS+Vi13FxfmGUpRY7PmGXFxcJvFiKXbFPguRCeil0QWFSTRD5qhPA9PwXXC+KZnFsbYpRZsE8p6KNnRClWVo6cLzS4Zc0+aFwTmmUSdCGQhNPTkhPHCYnNOPp4aXTRDFnfF9vXhebp3JpmieC+HpwM+aYT1XxttwPlnL0Uvo68D0Uonh4pT6VlLvnc+G9PpCHwShCeZcd5mJpn4nzN/w731XVPwe3gX5nbC0PguxdhYpSi/H7anwzUta/AXfhsKVFKX+aZ+CvFBEdY2LlMvwbgv0miEITPRBi1Upf3F6FxLPw+cjFxUvmXX7nTkhNF4LxXK83TkgyE2ITYYsLC6Fl4Qz4I69fTjXmnr6e/7h6UXy9fJcUvE/zszCY+5uFizTSlGUpdjtC69n7Cjx8y8Q6OiaHiE0QhCafng7884Jl+Jcsz25W4UpR9YfQ+i7Yu2Po+D7ii0Xx9hcj6IQhNSz3xTTPBM9vO8rTML1rC86/ERP2mL9mZXQvw7il8cx0wuK8FL4p4JoR0F5IT1rj6cc8jYsLD1NiYyidE7hdYv8PuLuVYJ3PXimHyPov0Tz8GsLFmIf6EMhCUmIQSmJiYhNyE20dSa5TrwThYuRuYYmNzN1dS654KfSlXRdhs3yztC6GUuwuhiYt0LPR0wxdHTC61dHQXK+KEdpCEJiLMzCZglNaU8OEwtO/of4t421NzK0JjczUI+4feL8KPSnim+Pp9wndPfWh57H1q+6Wdn0hN8NEJhk3ITe4hCCGjo/4K4ghogxKY6R0309te+duacF9nb03NynTr2LshPKxYYuj4b4g1fYu9UxP04In5Dc0p8N30rC8jc46ii+iYx9Cw+8Nv4N7H0Qn1hm+zLsLJPcXEsXNzS6rsJ3YVLvhkdPkEM+QRCEEoNEJiZa2IQ+LRFmCE0rhhMzXCaWLFNtK4G5mITulucC68a7xRspRO4sFhd4Z9Lh0Ny9YY38N2yHToeF0LY3GxtnyCuvp44NUm41SEJiaZierp6KdBdCZdhsXQ9sNjvw3F16OvJS6t4fBZg0ISg0MWiE9PX/AAPeRYTKVY+izddI6E7hd4qKdMq6w3BsXRRMT7OgxNFRdi6c07aOhCwyZ/4TcmwlibiTN7cTcjkH1B0j2EsJCQkMShCRwm4yTDVJcQhCQhCCWxCa8xCEITgZYfdN1tzN1s3+8/bxMYsTe4osf0Tyql3HaPeTDf8ADeDY3EV/RfRXs3uPmCp9wj+BdC7GP+nwT3z280zOFLD1/BEITVNEz2xGRkZOel1Rm5ubkCuicC5rjthEIREREREEEYwSSSTjJJOMEkk6NeNcf/wQRkhBJBBBBBBJCwUY/8QAKhEBAAICAgICAgAHAAMAAAAAAQARITEQQSBRMGFAcVCBkaGxwfDR4fH/2gAIAQIBAT8QOXk/Av8AEuXLly5cuXLl87PGvIQ/gt/ETd4kPAioZ/Drv48Vzfw115DOHgQPAeCHGJtleoajrg1EzwQIble5RVyiVKrEOFT6mJRcomO411xZLNQhUxUIa6gSiY6iEa6mLzAKlFeTVyq5Pgpl+efC5n4qlSnimPwalfDsPK8mvO8VLJZLJ1xiVKmOMR4qJUomKlEQ4xUxXAhMS+CfUKgHcx1xiXZFt47uX6j9TWGOdQqYrhnSLL+fr84+S5n5Ovyw+MSoiJmVKrcBcEpJargtUqVEcGIm5TVyq52+XXhiUVjm1XxWL8axzUDimVXFMSV7nUC5XqV6mKicMxOp1wEz9TCYZlfFgPUI0wekpbG0xshZRbAiEDnJHx3zWJSFVKKjXUxomCNQaljL4zLY3KZng/cx7mJiXLOLly0u/MLxxTwC6l+TqPy4mJiYmJj1L+pcuWy3yqVi+K52v1ELZwFJcImJTLeuBcAtDiI7YZosrYDFVZVW2Ah/OBQvcoIldnUreYul9xKa+F35qiVzXcQJfgNqKMQaXNCpSVhu4OhYlNQEbn+8z3AqxmR9SusyBi5RoqpbqWszBudI7g1B6S0tLYqOIsuXLXuXVOg4C0+LwnLvztEcrKUhjplKr6jMGVAIucQRMyH86WlqqXqvgRSptKgXLteCguVQMOglSnqEeKauVBKKTTFFHfkRw/gU3XD4FpYrSc1wVMAkQrEt3EumCpsguCtzI2wavuAWWIDiGWSoKRFhMmI8CFVrLlEGa6gE3iIQzKDM2uCVMM2+piuTc2R+Ilpism2UAHFRlg1mUhZCmu41eJW8zSvqLcNxlO4Kp1wFrmgl64lhTH1MSiZFJFt4WwIo8Xi61BGYt5ZcCqJieiuRKgtIXXFVb4buDk8/qXwC6hLjLhGgPFSuCUwL1wBQZXNdSwuJblBcDIiQ9VCPACssYAizgHLqDpBbU0dJkqV2Sktif75GDFk9UbFINqGBHw3+J5hRfcQU/pGIBcBmO8R0RIXlcS1ZQPqIKIAxGqh4Q6gywNUj6MGm4Uuu42oy+D1FJUwVLikpeLlsvgXSblo2RbuW3ctJ0eq/vMFOp6EfWCGIMAOoYPqWritud/huHmUVLfgx414fUqVEr4HjPD4KafgJ4kSoc1KzUrgieoxVFQODcqATEx1GEqPFcnLxcfwSuceRqpWczFxeouILxrjEvxuWlstlsvwPG5ceX8QqHiV3LJcuX8b8J8T+AMypXDDyrXKrwsURFTzbLgsnnFSuaQkElktV1FG4YI7IC4IsJFp5kealSvj2Pjpp+40LWOVDEDfGuOzcQgupsRTb3KaxEBB6g6arhVEWwRTlCs/pHAI7sh9Rw5Nj6lbEIBJCG4R8SPB4PxdOH4bYMWj04LeBtZBkWlpmqmfHBGIUnLXNWXK4r4L/AANDnUfkaqa8K5CJmpUCMKiEqmYuXLICWR/Drw0fIdcNVFJepZAR5WcDUt4Wzf5r4d+NR8DlKwy5UGCcgrRKiKmWluomaOAuVFvXUr8G/kfhyPl2Oo2/UAoQDUsQSiGKZS1wGnojkV1Ln0f3iftTaWDsL3GpSBy0/CPhOHnfHPk+QjBLbmS74FyIq7lprkXSKsF04BWs1UEYP4Dsj5PxaBBWOpkjV/qAUYAKrggCNPzjzTD4DXyjayBmmfbBowgzKUdyhLL9S0u49RgpiKbgoD1+NfjXh9R8b+RJglruKMssN6Y/ZwZdRQBlgZaXBQqM/pYKu+/xdfEbifgmWph5V4Kd/iHFSvF5NwZeVcVKgZlYgQldxOKpjwB3KlZqIdTFZhVS8Tr8U83x2cVKzweI0xSuLMyyqi8L4XLl/HXz35Pic/M8GKN8UxlUzVUz1UzRYrkWog4XKYgWnFSuAvXCJvinUU8ZU/PMPB8N3D4niNB1UoH0SgHqVqhhgqyAxRq3Cluap/eRMN4lFW7gWogWsJD1LVcG9wJRgqOhWU1cKj6EwCOn7/EfMv4TxfEazMo8i5HKnHFcWwcGHMtoOKic1KleNeb4aOar4KlVwErqJU3wEwImZUaRw4AqARhKzKJiMxUxGXwUY0w+4pFODXNfA+HTm3zGpZiKXCWS8xri+oYVBJtLi3yGvC5vi/jL+R8Fg5cfMFUQan14VKZUTQcNSyAWwLxCwfz/ALmK6xMUkRYIaBw1SJSn6lsiDC37fym3igDFwhAmJcQN5idv6/xxXw78NDipn4qw/wBSyq4IhvSGh2QKH1ALFjFuMcwAT+SC0LCBLcEDF2PUy6O7iSubhjAWC24gC9wmhwdSuQlq4gB7jAJUUfuKie4oVf1LbuKu4p3LXcLLcRW8XL+C/ExH47aqC0gWmUOdwWkYF4IitHl6koYfE8LVT4Ey8ViVKxcqPb5nzb+NFRL9QvedQurdQBGmPoQ4SuzmH6YFAwdxsA2OIqh1mIDjtn9xNmuDxO4Msl1OrglSyWfM+LtMHydP0/4mICZlO5aWKTriigg41LdzuuKrbL4A2b8L4vkal+B8Z4Pi7cvxIrPIl/jPyvj1xuPxhcDMrNRPUYfn1468Tcd8V8eExccsXFfgBfgF+Bn4D4zcGY3+DlEPgSoTaJTGkCoO5SoEqGoYjVVCOPnuXLhMVP3H4Or5N14MCowPcS9QK3AJiIOJgKjrhZcc5iLwqKWVKmJjh/Brg5x8m6xAuAah6iTFzu4tksi2Ql54CVGfzmPcxLJZ6ly2Wy2XL8Ti4/DcuXM+eOM3HXhcvEuC3KZTKmJZLJf1Llst8a5r568jcCgD3zWLl814YyfXlZ6ly3xfg3wCqIm3CBTrnupZelT1iy1X1HoYaBKRQTSRSpgK0S11Kgn1KV/smZnW4CtE1t9xAXcwy4bhqz1/qKadS7S3qAe4RFRLWx3NquEEVMrwr9eX0Sq4J1wmYDAvUMMqpWIW5rE1e0XCTLbCL/JBCjNxq/6Jeu8bFc4msmTqv6SrFdf4lmGPcRYbIBRf1cppKhmWqwRSJ7ggB03LWvc1KSup7o+/FsfUEIagDcEXXcuoUftMQepm13CoHXOiM14bR3BoiW1DKFXUoxEll3ES6lzu4LMzTxcSrIBpn2xWzymBBrUZbqIQgIqblSpUqEEqOGERNzSHBCMGo1HqQFaILU+ZySqlQ5Iubgy1zwqUe5j3wxLJctl+JVhEN+xipdykCI2o1Vy/BhlBRK9RFTKIhtFzFEIRMNdyyBV6/wBShUojoYqJpg+lghDHxF09QiLZ6IURalrDGhRC3TJOz3EIeFzpwY8hqK+FSvi1ih6mXWIof7QQoghW5a7JfUNJirliKyIrYit4XbuYquKu+MFf9iOaiu0EtSVNcooIitgprmocXycHD7/NvwUA8qzN/wCj5qavyONSM68guV5BfwYiVxjR2S1X1wCeyKgRLVxVtE2hL1/v/MSyNPFBo7f8TZ9cBZZYSR9Trwrr2mASYB6S6K64qy+4G8VgfXnozPiUFsSmekDMD3KCGKRrqBMXChhu4wn7mK4JX84Fbq4AF1mCANkWQrXMzfZKBAzp/USnuMDJCoOYl9hcTaRqDsLm4r9pex9FTJuIQ5xEWPcwINOIQg/X++ADP1AoG4h9RdJkikiUr2iEXKC7PJZnwKrMXNzUBgMpJ+5RMTExLCKeoeJV8QKrIqkCr8VFnyKu/kfDZ8A1qW/NQX1KiJfChpl7T1E0JVNMAu5gJs1H8d8Eyi3j8Ygj3KYvuVZOoGxBvJYdE/1EBmKOo3p/KGWRWX8vpjLPxltV/AnllY/gj6xYXw5U8XHyRUS3imhlcMqETMSvwkFxFTHIeGR9RQDAVoiKplquo4iSpuNwe4IKGCCDsiORxUNNQmGpwlVa4Z6YqlYqXBfpEWO8RQ/twkFgrsEaIaYEGkDqKyHMMsgVT68Dcu0W+aavgMXKauUhcplolQFtQKjDcAWJTKtxGhcWgeoK3rcKmuEti/2lat44rFwab6gP+KWUKhJVWRK1iaJ1/iDJ0ygOpbQ7sircS33wgoOLjolIXDcWz6rHKK2BFDFbQabJ75qNRQD4G5iotc7JUt/KXpMmyI6hTEvFEPuL6lsGGG3wWhsIJF9QQx4K24UKdRQF5vh3TEwJXll/Rz2Eex4vUfBs8LaripR7mOGJZ65LS0tzSkILSbAiX9MSAvcXQO4u0AXMdv1/iVELG+pRT98AyOpRKZuCE5qKx6QCscp+kaXWOEDVqEhMViBUeo1Ju4m0KyQ0CiNhdRuFYlhwal8elzPXrqWBxFgSl48jnD8I7H7IWzUDVMVWQYAdRFEKqKSuAqrqLt4YqufuCVkV24uW8W64Vd/Bct+EQ/hKKgNhwsC98UrRHQCEwlRe51Calj0SzCWKntQnTK5O2pQAbqAU0/I2/Dci6qBQYLuAuxlbXwY2qqgK/wBI9e4aHqKnqI20iF9xA2xW6juyKKqAKH8kZP4ZTV8134om4lREBGZdcIqJrjQl8BYBO5jcolaJ6EGDisXEwMRMsUQ4pq5TZywAMcCg7IibidhxkTd1LFSu+BdHFdc77U4QF3BD1m44qEYMWEx6mA+4FKxmLWY4uhg7zmAMjadRBDKJcqm9l5a6YtLB1eoxPcCgblM15GpcNVM7jaFOoj6lMdTUlGLogRJqPTimXof/AFLthB6hxTTHBmJScIhWlwFgDZEEaZsmeHF2v+0d4Mf3nrn9oFpdP9poe2yUL9wLaJcR9/6g7cVVTKe+oE5YlEwEH6iyHcbey5etg7P/AGeGvUEWM9CCWEswy1VWIjtjq4pErcWVe5iENj9/3hh9pRLNRPC0t4Wy2WlxT4CCnXFwBtiKjkBTw0PvztB1ylq68bQqKBDgJUO3gC4Pzcz6E3d0TMVZn9Algd3MqXFufojyfUKvMys/7M0jY5gAPXCSOdEyRMr/AEjUv6IXC6jV4mQcEKYaNTu5ArcDH3B/1/5mFH3MqSsXLpvd8IJTo/xBQDfuYFbgLj2ymLFV/O4MmLmBAev8RFjVENFshPU3+hgBVdRL3F/4/FEVkRWRSt8LibcWy27ixTyKa4t4TIZtGGox3Hi4txhLWPqKKij6S2qikp8FJS8XBRsl6aN+A8VzUqV898+yAMn/AH9ZYwx+v/c/4on/AMQmCq/1/wCZ/wAf/n5Ny+N3CqW8H3S/uffzH1T6pb1L+p+s/WaXUr0TfUp6iXUyNR9CfRLepatcQYPTBep9E+mHrlPU+vgCdT6ISUitXUpFfUX0S3qHog/Ue4jhdS51Leol1Pon0cCp6SW9QL1CbsI4n//EACYQAQACAgICAgIDAQEBAAAAAAEAESExQVFhcYGRobHB0fDh8RD/2gAIAQEAAT8QVE0OGtepQpeRO9waKw9VG6O7xUwcFl5ZSi4DRXzEOCzeJRqGUK5xAOziAQ5xCDHbWYBbRRutsbBDbRHlExbGyUiHoSg4H+EcM3DaKC2vbqZTk/EbVVWODBKg0ZWzSmPLqLaNW5B4jgkOCyUoyvK8dQQvDNjkEsnBkE0xwJkx1uXeDAtxE0UVgJLLkUm/UzJbXhiWBkEcwy7SOQzNDQohiG6Wwq3qISr0ARLA3gHiJqiumGAgpxsUYZLGBWvMGKqxhMpcDxmOAFu7zGtSKrsQa6VftqLLD/QgAi8tYmacNGh/sRoTIuMaIK0+mK5MWYKlixQayRLUjxFamSQLcYlumCsFcR5RQBV8RBbtg31E62K8sQqnCcxsbKMgHEKmBXvmWOzyyzYbshrEzomPJqWBUTYzFyHDuUKwG3FxhsuLOWLNl6lAoWmcbnBV4cf7/ajSlM4uubl1k0/iZLyXZcaiUxCxlQfdS1CXm/iXutXlvqLkzSZgY5TkFuZLbrmXzKcFq5hkU1ZzMlchyyzRczd4ge8/bqVHXWLe4B6nA6ggWowM/KQ1KhZhozM03eYrVLWcMzr7EEfZO5eNowGSLOgpLc4xxXV6xLcg7VD9RT1WcyyobeK1LGBt/EbNpuNUsDfPEUCXatZisUU/CS8Fk21LoAyIcSkaYoEl2gPHcuFFMtQABYSphwZkhRxVvEoUNaO4iAFGv91MQAmCcIlY3QyeIjJmY35oIGwEIrrTf1Eba+Ixp3b1uEaItlVbruWRjA91UMFg61co4sNtSkoUui9waIvO614iKKAHX+4l7aFD6ThPlxN7gMQGuqS50yi+KBVMRsC+Bcq7BfRwEOEMNbiRBg/iJUU+YLfQ2VN0B27RVAlmXEUpyaa8f4mYI4uu5QYZ3xxUuroYMTFBL9SiLZir6mw1v7ltgNij/f4mCBC9RaChvSoMFzbTuWsLVL/kUoEF4UgWKV4iK7LNuIgVkFh8RBMjwkrgHHe4oEsvHjiANFsUKj3KpFl8uIFWaWniW5sUZRAvTXcwi11EpXCvxECbZaIn4NsA+IblKgYyzGBqhZUKvB6na+UwquAu3UrYVXXUEUzbTcIg15smDUtYjYV0uG5Y0j0vgjNkvqVgXy/iIpgtOSORmnkgK0VxHWyOCKYDY5CIWjCa6mDBp+pii+InZ0V1LFXlXIRaLb64igYTnMBgwt5hNAcObfEcZFSYuKxKabFjfG7dRNhRnn/f4iTYPTiAQFNUYlNsnaiCtT4isVoFa1GoQtOYr3k2xpnms+Zlys45IloLDB/v9qJYLPRGsFfCYGSxlXvUpMJHkOY1OuG1x7jrCh13BZzd9aIOxbyymjYuJk8aVVsobNVQdQcFrwCVoBvBuZRwkHVOagNYDWKJuXzKIgyHmAkyw1XEaoB4cn9Q3Wa54gmMwq6/9NTNQD8JQmHyRlWr1MS0JNWN1EsGPnUS42NzJR5Zajwt756iEVecVCRMbcblgijtEFZJnEFTVlPDHzKKrCvpjqxCnFcShZCzBUoE0bC9RDS/HMBUWnEUzRYa9xNyCMoRbbHqK4pXGLfxC685niNCoFzHTdUqs1ALIbO4YLsbMeJeWdszAs+c6hbLOOo86zeSWeL1b/Ergu+f7jalReC9RhE4qqzC9dHbx4hOLbL0R1Y8D8zb+PfMMkugalCmyvJF3taUDx1EjkWCwjkW6cENP8uCFYgDS+oZAhOWolro0rxK0CNtTghyOZYW/EC4uPGPxARjvjuEq9G+ZVGRhT0zYIpyYuKmh0VKtq8teCVzk61qWrEtLal02ssc4ImhwMLEtcCtvMMgxSWncOGlDfUqoYvFrqVKYFUPES2IcY7mVCrcJ2R8ReoDX9XGq3rXmCpRbz4nZhjWjXjuU0AK3Qf7xA6sR0HE4KCNu5S6EGKYco63RqGKNNscRPS1T6QYnhiYC3DjUcLpUwnUtQDhlYAFFOxuKK1LpdRLpo7JjXkWsqSpVYZe6UVhDDULxe944mgZ+X1AC8XfJFEHVLsIx2zp4joMsZgKM9nEqkEKVk1KNK0zHC7KXDHJZzqpdoaYxqOC15VAmkPc4ilkDJyvUVKKa+kF7ooUHUEFpObIS62W2OlKlHUSrwF1W5glAaeLlK2mmWOhZVUrHblurg6ksWhxMUTQ/qcKNMRWGbOI6VFh48uowHxiCZVd+IpNmmpRMtBymIlFCuMXAIIgA6tY9RAtMU6ajWjlGMR88RUMl75Qag3V6Iqvz9Q1KEGIR2idUytjScJYKND/AJCEIkGArT3FmsYZqNFxkUN4IZ6HTiChXBwRRwFmK1HNabIsFKs1DNCFXq5QqaevEcB9agwsLcwOaTWLm9geUeZbeSt+YCYXoHH+/iN7BigSOlC0KIhBQaLwxi4piFkso3+47pp4HUtVtMYIXlGidGz8iAyojCSHD1UREpXiWOQ4eYCRcriAYGqoXm4DAavT1ORw0qFwT/KYW1YdJHcW6+osZK7Q8RbAgZ11LGNBdZZa615DqZCEx+INjK2M1M0Fb8J2xjeNsXICfiNKYG8Z4lmRKPqXWBd5yzdRrQwKTYc8wE07GL4lYtWl2MsS8Yy9xOyk8TAG89+IFjRYlXYdqqLYukFHQWv1KyrKYrgyhFGbzc5BrJ6gUb5vXUctlwgNaayyq6XWpsLFbJeu1z4lXgtcVqOTf5RAEVeU4jwFnTuFE3WWriFrQrdxzgYEmqy9+ILNLCtzQIKmuoEKvcKMadq6lVnR0QlYb5vm5dIna+ZYRA+GowpSW49S3paI/wBceF0KOYKww5pqwiEfc8RcEXwb1EVgqVb1K8G9LVQkDGgMzscg7RxyL3pqAChdBLCHBHg1comwrrb/AL6ljbLpLAJ8z74jjidktWW8+o5WINpzEgdsnDrY/Eb8ZucsgaeM+IjtB4VxEQFO+qhRbh9SzD7xzMqryfENgK2b68RWDS2cbi1ekrqcC4PcwC4zmpYDag/MaGqxlHEbZD0uFvhOsu8wACO0ogUowO5vc1yEcZpxriPZtvplmVFTnU3VuDmtQJwuHU4LeDTAdU6r+5SilttWS25Utxn8TBQAt0ag9+THUaFt8nJ1K7Buyg17mimhH17/ANxLHPXm/wARnJA5EEbnhYRC8l88ROhVQal2Co4Qm3JJZyvzU0Ku43xB4+JdrZc3m5Rq6M1hiiPOlP5hLpT5xEqCBvEVDZ4QBckdKPeBNwIsUZxByPZc4ukt+fM0GvTmICj8ES8M/OplQ2YyswbrSUQqdK1HClCjRmBWmekxKSsQRW9mIY9rpmiB/UL1g4MjjD2XcMgLPEEXCrk7hY+uIIC2rcsMIeDMFKppiAb3Rr7jYFGVZOIYqmkfuIybpqUBWUbTce0BQ99QHCdRUgu9CdwaaMW9wVLtqzTNCiqKu+LxBZsmddRxW31cLQ62fEHEIHV8ytCs3bfUaKkBu9TEq2yVEXRsXUAlsPvNQCwA9+I7v9KmJ5XL1LLChVqckHeLJsUEhsUDwgKq8LjxH+2Yji0TK6FKwNAhVuNRPmiLer3Uw6Xl/cMLqjSi5HksMqXSq1FC2naOodgdVHlYeHcVa1cPEdejxjX2fqKBjALhvb/dy0aG8aisF44JZr9IrUOu4Fqx/EuFHkp35mfq/tBUaszcNCiYDDRHnHw5lCaHELHw2nxc1QgckpaRZXGJfJRFAMq9EWAxc0+b8gC+Zipu64dQGjgSrWCvwREyDNgGW/EK/UXpiGE9SqZy4/qX/Sd7BoGvF5xM8BRQdeYsB6qalKBUEBysaLcR8Zn2DEPFNxWV9EKvXIjVYcZ3NDACtRjaLdfErFM3o5qCAUatBgIKMWlQHLQ/MK4YE0cNFe6ms6su+E7Jm7FMDiM5dGxeJg0OKc8RpZasZf1AoLK6DLRa14gxdQcL5Ax2ZTqNwQ5PXMxXhDBByNDYX2y5KgvBIvJCkyHM2Lguf1EVLR4jSWi8cQsBRrOPqEqFBzfxKZodhNog9b2ftFpCq5IAKugNcS6mBPG4UNI19S1osSo3AlFfEsNUXeoG6TXHqCeFaQi8BzW7Rb2Gtamsxd3kjbVvAIFNMLoSNUheDRqpaj7BIYpkLORKisuFaU0lmIoLAF/UVhs2wllB2kVQTIXg3HIalNbbltlHmK4XWq7AA+4lZiAXRY+F3z1EAhhoLpZsZLgKG+DhA7TxLJznAItKba4/MHKBpKBnyxBVsIN8TAGxb8yu6HmtVOw8K4itbIIxx1LlHV2gzRkFaucBWeDUyC+K41ERWuUVO3KMLx/yK1KXuBwqrmjAxoJdBAK2amLbCujmO2g5VdkAYQxVPcVxBfxMo3P2DgWyqbmVpdHMzKpCmc1pklbHve4AXHQqPoYMSrGU7IAmwc3Vxa7LplfqWjpKz8PiUCtJwHSRKEJpriWp1Wg3xFHRdazcIBRdsh02Q1VQdSx4xCuFodfmW0LhUIcsXcuV5WR4gpGwYLwZmgYQ1nOPEpSy6gGxg9RabOUrbll54qN708F1HEdLaPM6kxbVOLMo1pI7xAeOmHI1ZPBcUjVMRBp5VSzNeJqDmc5uCZYq0hV6KfEA+ACgKgNY/UN2Lq4uJErKDga6hl4nmP6pynS8gM5FG3A684Q2x2APLuvsgY4wzdxaNpo8tkN9VcJUugBXArTH5ebV4yDjhDS9QCs8nD5vddIPxiWgcLpoeLg18XoKRliMtdYSVmAOtR6mXGFZaym1NAgFavBWainECspzHSmQ2mo+MSB/ouC7apYTaD/LhSMaE2pTYPJ6h8BBoHAcroOVIwpx7lQpTKsPNOSaAdJQQ2cYjXj28MKNIk1kAFQAADwSvVENRktxTNOaY0Ir4YDpOyN8SicEP81CQqhArplTiI3iWDWMWVdy0vo2i8xsazDHjgs2NonNCLEiK1FItAV841LrL1KeTlQurFOIbN3K3jhGxOEgMpn7NLfMMCssr6BoMViPszqAGr3T8Eu/qUtZc4MQFAmSrgb9gujLT1CVhArciOqRvi8wp0TU9Zt4yhSwuWoufk8gvwFuCUrUio4gB0ywXcIeQY06r2nii9mIB4LmVgV2tQ7Y4+Qx+Vujo0muI+sl0MysBSza0VHeeBCuOGwUGuZYHfoqNtymHgOC41uo4gWyUjR6gmnmhA24FuXqYYgZ4dpVUbN+kTdL/Mm0YO3eengWCU6PzNffyRIPk18Rb4DGOYLpe+K7lTEsaSsuV9tWpCoGAaiBBRyr6htw1hramLNcgYqWdG1ZDVWkEQq+bhCuo+WVl/5EPGM3A4szwkoeUoZQw8EoouoU0CuKqWGAqryBe7soZwMKph2vZbQqQ25Rdca7NRyZI3vqEGEtIPKCFW0McxUjg1qTukjhpNR8LXPkgLOMPHmWk0UXICaLgMWnRAwVcoCqsnWEpvFS0ZREVWtSDV9mc+K6WmSxTZM4mX4RUCkFtMLS01UchhHtOYohLd3fqXdO9wCIutOwXFevFrTDQFsO1NykoROFu54H7zDii8ZoGTILrdHUbzEMvSut6B4OIbGLAaVTR8JiLKBsWNzixWYUjcGyL4uGVsJRr3XzRnHZZ5gkGHg4hWgesfqb2NOpmsvykLNtU1dRKCt8yoNFnv8AkoMiuGqqAqzGA5ipDIx2YijDnSqlaDvUpto6INiCQbFNiM0adXe2ChCXm46zTUBUErq69TFukoQra7zLyUb5j2FLzKVumMV6hngbe2MRRQYqLbmX9jaBfVw6PcFkhUyx5gfPVAmkg5RniIVlVw+AQ0FUEl3U1tY3qZ8DicXIGwdZzCyMvnZLbCFeL69PsslwNK19/wC/iWBxeteJ2si/gTaLXWLYq4Fz1Bw6Z6JiDOO2hhDimIZDpOIspgDfNOIy+rZUVgol7a0Y1JYxDPjsW9VKCpT6j/sxptBMWoHnW5dVNP1aFRdSp0VuFChL6NWb/F5is0AYUalO7WLhXSGx4gj1QGUWDGl4lJl4rGOWTk4y5l3LcVLRRw0joe4inJsZAu6ldA3HZIDuu83p4SA+g2j0RCoFIkQe3QmyhtXMTOFV8io2jD2WmPkKQUKYI/g1+QT6Wji0in/v0zEORvfSCV4bPqWljVO4OgQsrALcoOVbYXuQTuB7wJkjMQ7iKm4CvrRiZQRsKgd0trNLGCVJ2qBp9krmiL0oKxB4fUM9W5iwddwG6LYrMgNRxCVdUlSVDkSPirTwBrpuUNhxk6mMAhWXSj+JRw+aTJWQa08wE1OYyCkBwVagm5QY0bNKT0FiDTa79oa5zarbzBkeHuBKINGBBAnNKhXK1dGXqGl1iS6F5xiwqMXVY0gwhBdkpxdR9zA8GwFWVEIXBWqggMfIi8QEQLIhjwtBT5Z19ZjAJobMkbOSzaLJXXBiDvEaqfo09V2Oktk7UeDk8K25Zz+lBWF+WrfMwgYQKLWKpIdNha0QJkyUhrqCxAFTFMB9SghhfnbeDRo4j5fyAcBunINg5JdulVGIiwwBlSXxzwA2qDb5HqBB1s6FsvqxRrYTfn7W5I5cLCMEYsp+bA1HwiSyujzbxTZrOI5Sum+G01EAO1Ulu+h6FEZzRg7T1FYa0GOphRBTUQEi39XQIqGbJRuMGcpSC2awYCYU3JFEEasPUcTw9FrQRK21l5YZDaprdKwDgVq47QpM9aEbmys94IIGkLsqMH/ImHsQgOLbLFN0PMRZivBbQFRc0uTEOtlAiLgqEdVq7wU+rCoYLxZx5iWR8zYGjhRTpZfAKksCdpyGVLqDRnpAIDnEOdQUaGgiXiATA1lPAS0AEeMrGG2788RRHzxAVT6QlgFmk1ClMl2CUTpohuq8/LHVptOrxFQQG1I0BBsI6JYQrlBKrW4DmMKLfRqpsaF2SxXCJRUpYVi0DlABsnRdxmk4eT/v1FW02d6vUFwBtsNjh81FR5WcxuOt18S6XNcWS+SUDqW3C3iEsjxGrbYPeRaonBUE0VnBQYHOtf1LVoa5eMQFBxVNxUM1V7SLWssYqWY7B/qIJsBbkf8AfMKEgVwjxiXWi6emkxAWydM3UKFGB7pIWNh8oVUtOo5bfZFiGWnn/fibVTtHiWhYrYL91cQiS6bsibG8YamTcNd/qV2Ed0Z/KGqUBKzdWbVxqb5Dbk0U+goj2YO5dQ/KpUMFAifbb9sLgVp/uXZcHcjNPD1ETFMNgAF5wQZMvWw14lG+4b/YBZ0Wo2swgJgF51q5rfxKQLRhG8f6iXvnLXcAF+JktICV9tqtx6GBkY6M1aI2S9DibUGhmz6igMWBWvQRLcrNuOZZ3dNl/V+IqQrA4lUKc8HFS3LSNUxYUwZb0wVbBWKire0e7ucAoalCYM1qcOtILA63RohNfBbGRNZ41LeJfQlTHYANp4D9RvCXWIInhIUnSzIrHlGdtfWpT36JV6o8wAmGOXcJ2LaxBpKQPETW7TfFTJKANvuXu7rrTGsCwai0wGupWmAmnmKBe6u4qOqrGNMqEuvyytlnHEsEAzgqKpbtDn9QilIZzAIyrVTACrG/REBb4eeJe6o8piVa6gpYbzUbKhYb8RUyVjArgFgUcLAYXFOYpolOypwrQbLILgVadREjbjOyWWAUcRt5FH7g4YyKBeblmXnR6ICNDUyAA7LzUbaCb5JTWM9QZyicXZ+2EI6l6MYIBlW2xSHQMiriZy4uqmbVi6A4joFt6EiE0di4AZYq3EpQNuHXUGEsNFggKKfASuY6CtFY7iYhgK41iomrZm7CG3yfMSuDKoDQbx1qIlGbOWYgFYfiBqF3+4IVRir7lNyWcxUqF6D4iXIkcx0fhqEJVQUBLBqzlNR+QxUMr81ePErjMVVDOcrrOYiOp0C1ULsxSwrNXcBEQHrUYRMImnUDsj0K41igXDDlwBg4JagYTeeCJ1INOJQbu89MMCkvJKqAKLvll6IWE+MNktVp8CVGhQMcS7NlOM6iVVmPT1LZAgXIXSC9eSuSYhlhkf3Kg5FajllBMfMbHcDBj3HlUBTUbYFvAg8F3tB8QL0oTfFRG4eq0Rk1OSmFDVrhyii0lg2lcZv4m8FQxXMwxcgW+v8AfqIBobzcoC3ygebm5Y/nHk6lbSSHmGHD1nuE0BMpo6+G4u5dXABCzXBuY7QtyH+/1QLE8JzK7geXqHe4JdJBcFpyv4iwCXe3VzYsWffcAA4bBKWSnXqL/HZVgIsLjA4lxGnV0R7SlYGHBYgPJFitX3aZ5E0ItYbRap5elUxLPKPoCYsIX07xqvUGv36g2NcjuKxajBrT4A/EBdZYiMfZvZXMqH9VEfhJaQBVabdU3gxUEyKRYvD5SK4LZ8RvQocvU5ADoHmIIbHcEOXo8RHYTurA+aqYOkeklT1jEcVY7gYXkcEGMau4aFlxRSL6YQuEAbIxXxpmMNxcNY+SUma0b4s3GZ1AvH0DYAuC8wgIQMahu8Eobw8pRdvKWEQH1aFJXrFRUV3ozHFYasIK6CxhWgva9EROKxkCNmd2aSK2Dgvsguab9pL0gut1uMtsYZwA1gExvF53W5cr9AjRAGHEJAwsOeY4zCQAvg4RkzaDBq82ahWqzq0iPxIgKKu6gX6Hs+dQWAnIcRSiOhA4BwqW4idRVoGQhALApWMdwChpcHxABDTlGFNy5uy5UqujPRn9xogzKZYhc4g+dkNr2x1EC7trbrPiImgH9QHy81E3rxqN6CMcphWT01W4hoXsCaqIEWjBpzGOhoI0OmW1NB4Ay3j7MES9HVuxdVAWqtpFZgjVtVURi5paPiw1pNiOse11rxg6QeoD0XhAlvRhC+LUgf6K2mCXfk2XdYxFvfY6+ZfZXtiYlQdaIzny1RGgiKEOHGim7ieae4UFC0pjYocqty5KA9VQuwKWjQSjarcdqwjtHUOHPB5O6avmW+Fd9qTe2YpTwx385XU2fz6YI9xUbVhiTxd51KjzZ9mZ3bOGzETzj4W0XsCYMtxClPlBjqboaPvEypEXzUPEKsguuWjiaAXmaWAAaocA8qwRoA7rTJPFxgFuyoy500ZrgS6y3lHcmBQXgW3SlHqM92FEpNbUwS16gAqgRXICnqoiwo9q1dt4h1KbUpkW4BHJwhyYKUyrtqs2OkSHt1I9gbByL2ROR0wFbwcs8RJjMOCC2q3d9lRn2Hx4ATK8r6gmOzg4CtHq6adVmtbTqeZjJYNZFNwv/VRcQClKsdxtCXP4j6B4S5xR5Wo4sKC8X4QYiD8AdDvBdh6lCpIkFkvUcatz1DUms6yTnUNCSr4ZxUwLTWuiNaOTru1op2Vwwo3ILViy4Ab+OpdKl9ojXKhbWQK2yt0mgppW8zhzcBkXupQqXFGvuGhSGFNAPOcrWUZ+p7eNe8o+hLGUVwVK/T34QfYwAIdJWm1uHgcmVM2VDCxGhGOeZ5RYhVjs0hpsWFTFYu6tvARFj2Y8SUoANys1UOFfpiseZmmseLsjPCMfMPrTOSLlRqbbI15B04mK6vi5Rg0Bs5gjHXpa4dU4jTkfd1GdUatxufBWNO3axA5zxMaoJj0h6imzMA1Ht85FH5oQbm43yrEVASqhlqeiXWIAoCYSkER3iKMYyKjJ67oS3KZEMAyORg0xifqXUsqlChaarmVy2oEoiGxpvE5e4raPRSUYHC3iI7iMhrwJxLoZBAbGKpYOhewxZG3iXQoq8K2sYmi2C4EdEUrNw9gn4hoFtxcC2sL1joolVuGouXAXi3Gl9m/iz4krCAaw7JsG3jqpZXqBawwxbXK5xSkuWVJFKF2wzG1kbUARi6EA1cDNlPVLs1eR4lSG0HK+NRqVZIm4pUZCm9bRA+vxLLxBUEa7XAvZEmEDhr3F2vglqsyyIdldfEdiwF3pgjwM0fiNuh0+j7JSLl7jauFVa/qZOPHepkayusSki9HioQIC3aQAFhJRqoiTppMwRaA1+vqEPL+DcQqEsv16iz0chWo12cCpVoDglUCja2GYtqjz5ANPrqUY+hWIMPTDWIVoI2sdWbacse0BAViK9rX4mQgwp3nAUGc+ZaRwnK216y6MTrzQKRsr4KDmoXknYFDMQDRVXxAs1YHRzHAH1HabAC7bt09axMYoVQ6c9hVNtMESaAJqx282Oy7NQJ/1VtahOEUbzHoYWrePDX/yWl6OsIVhGBHRENyzjm7WU0VYsmM+s82qNIGRsSY7yeY12WQVTWNSwCncHtZPTMTe4rUpCQGDB8zA34uNlwB+IClESFYLrPeIj9xzCsFW+beJZYWlgQbo4UKzQqkRpi0kpiN0Yv4jLtKRrPIJY1UwvDoIBXZESVwAZajni6J61EVFQLPXCwGPcBLkMJLUAQuswH+yFqWh4K4xBbQSKZCtcNnUQzqYsikwOzSR4xkQ1algunALhmUpUIJ+QAnm5X//AGKFAhiIDUDKNFxW5hfHiA70JVxWsKKTxCpu6mm2D4HMEPoRbrLcG8S2zZHvfFPEdXbiyEVvAvEKjmH1KWdOMhkebVd9sT4tlEVtcq8rlm5VcXc1hfiNH21dwpEMU8xb8wXWUxppgVxMyMkbIxVfKwwsBr+JnBRVJyBcAnbGyCa5AFDGZZxWBVK0+qgIIEZc5vlV+YCrWiU5yvBbQYLiHHniK9CijNmNRtzjkUfmiF3o05jVpTZcrQzCwYHQoFcgLeN1Wo2W9yLubyoXdcRw3d9mDlVa2BVvH1FCXwxKPMNw5/hydVKLWP620sGctbl8XwDyHNlmuyND5piI7bY4V4f4jO2NLS1bW1VVVjDXcbpJBWTjqONO0n31fBFg/wAXgI3yAnqJXwxquAPyYyxKeP6pVlpXbErgMlvHk3MbPjhFPBeqYuwUlDJJy5iUu71HYhVkdYo09CVFXBXEK6vAFvnGYM0m8KI9jUTOhy1AsZAxxRLtNz74EFiatrUuZbqIwIbornmCsbe9Ia+RybJbxOASCPyuQqreMx3YWV5ZS2TYgICJ5A6pFcIsC3j0gmNlZLJVC4Lm94hgWCsJYyCVjljTaOy30ywFZsDxGmpsyVsiMKZyrRqOWi18UwNLuN3x4jTfRKG4Fzjl6ljthDsRI/iomjqrwHc0kEWJSNPvUuNt6vconLk3zChg6IdR6aR4lza12eJqNLnKZOr78RALnpDpU7G+CZlGsbqCAtA3fubA214cHqUZKFsIc3UWqgFFQuhLrHcHZ0NBFfbgQ/2oLjHV/PiZfjKr+QKhbxKFBUuhy/5qNgoXvv8A38RBVHN5ZrobFH7lj0OXbGJorZcoy+VS6PZvuO0B3JmUuIrUV1EsVCqCxgqOKsUbmADyAgig1VIDcWYyivj/AH8SgADnDsgXyGGWTVh0QdeB4uZFNzQ1FLYVzcBu/gbgHEgLCtwKhnHEQVpikQdwFXYXYSorAK5moDLNkRkQXMZYcUUdTMpT4RGFCyZRWFCxLAMM4/31AAoZ6ghWjznVwQBFHNkwaLgMgb4mBVb4gFoeeI3gwVxK5oXeMSyogQrWYtVFqmHqXanGyGQpTTB8GMzzVbKhqxKicArd4DHxLKSit3LUSxbgLBN+dS1cY6lBwt1ctSAyEqK9MpMKLQ77nuqhFZEyc8SlWUZbi4NlXome6VS1FcmBWpdyRb3KppsxWRgo8raXKPFOahFWqyguDo1ThamF00NkthKSrpKqZhjJtwnJC/pP8UAAPBNjarVfUAieK+IJkK2s3oLXCXzcKtVKtQAFoXjMVbLQGqjdQV3mUSiMUNrteVaMGIgQbKdwoxDWGAOOvL4gx03OCMhXZADgeRaXI0utmaaC5cuLiJGYV0x+CGXEtLgDQttjR/2BMu65DPqKQpwWajdfpFuIAVFqh4i2pI03qvE1AryRxUckJdu4bVRSFAabOI37hCzPbU7CuwixhSjTC7BV6W6lRamsYlBGG2uorNr29sx7Y+0Qo4aYsJgpzbco2LRSdwIVVXjvzCpvFnTMQWHVJeY0rONQD5YYcSscrygiqGkGza9eoJRcWKtJLxFtW8e5Rc2EKlwASyPUw6CW0LL5JrkxCSFosK45OAmzmZKY/NQyVRqGaUTBhxcQqfrmAExzjrERGVCy55Q8eIiaHIlztGfRKF+apI0UfweWXdBga5mpTBlBBUV/RmatYbDMrggoYmHSKcG5nAjoTOfPUcKxE4dQGWs5YiAEZrBUsYdGKgCTkKE8x1G9eOJdyGaslDQ51CAy7iAKdMNtLODqCI2I5lNOnbDhptTLCjQGbaZrHIaQIipaBSsDVa1d+JSuAOIwmgcrNgL4SwrFqEGit/U1bUYacTJoK28RcgumcVK0mPUwYADXnmY+Gj7Gzp8mZaToV8q1FwUfEqtrCupsBR1LsmGdRpVA8OoWqC1d9VCoXbNjcL0ZhgiylXnAajFq1aTUK6sAwdVLMpTnUctlKfUQcC0KZWqyGCBR1YZLhkNt1j4nM8YgcMi+SIlOPPUKBEL/ADMi64FE0EaHUDsbruWCr5qqjYUVqOdnN86lA/wSgMWJWCCrCAu4lA6VeGpYzd0bioADTLEgPg1X+/iAJoqsWwTQgp4dS2ek4uO4APLkq/CRQHwEfh/upkwKligXIBVXVnrqChQVAs+/U1UOMtMUzcNul1ojkp2ReyBhpzw9MRxpY1kuuWpf5tGWXqU8MS9MH4gva4c0QrEyAxwB1BOFeXETioNUwGHCJ84lUKlCiioBvQHeYoullarcMka0cQU1eSNgu0rbW4N4PK3BAVRa9MP3FiKldQdOdqU6GSwwr1Cwyqyw4ozijiBoMrd3Ml5NMFPZbTuX+yvCaAy+Y0DVjIfiagx0xjA3p3AwLPMtplwWCahghMXmoXZNv0qFhV4MykVYwssNrD9xpKTLmo0aFcFREl4FQNgdOJjDWi/cq3DsVxLYOvLEbXdfmErtbzHABvUFAi26MRCm38ohkupZQXiWgtIdzPJFWbCpls8Qs3dVslVlgNwYBj0cTJwA1Azi3gk30w4u46A3/SYKsKnI5dso2gvCATAP9ub5pFhWAYWyi9xqa1RXMFE8OTjEJnmJCzcG/q4JvDgvFQLVc/uIVvjKFLXdOKlUC4QaMEruCgbZczK2iceIpiqCty8s2upbdkPcqqWBXcu27rtEjYxCLQq6z7goEu/oqUs4vh5/38RQhTWDUclBdEMjoYagFZ/HmHamjqFUq9dQpdvfXUy8hx2RwGolqQ1dMspds08QCvRX3NXalKw7itKh7bitoexx6lbhk6gK6txplFu+sDDOcPPuY2ELcRB/pzHmisVVcSrhlcXWoBISz+JYGjeqmN6MAbv9z8YEhf4e5ku6RkeAmFRIW1+I3GaVT6eqgCDJ1qA0FtxRjjzB5XwKqVLgLDxGZ1iX8altWLkKIdSUNhC/mosADG6Ir204Qlx7aiEXem+6mAQtpuFVStXdS7pbXMTu6vlxHZfOMxV2orlNQa6FOtwsNJ7QaamCteYTZCKYXOzjEsDg411FAD7eKmCruBbs0HEsW6CrqoaXgbmRRs5mOwQ58+oYMG0IG7UNCwUtjGGJbVXbhqFotBmNggGFMq1D7QUXI5RDRQyr31EwTJziYLVv1CBL29EHEGq3+p1U/wAEMAGGcbgEY1gHmZGGDnqK7ABMwgphriWqCtd6YAU5toqNXoruceULWLrSckpMWCFUcj6jQpTjZKlhpe2pcP1UXQq0FgbcQDKYDlx+QhhhC5IaDK0geYjfeziv948HCrB1EvsXeJa6eAwVGhA2Vuo9m6Bitf7+Ij4wU14s51qK0EgVWFQ4q0Xlo4lOQjbRmIjEsKtEWl84JlhxbQfLF4bDiFm6FJavoPxMWPZ60nsaAYhpZjGI2YovMI6QTuwf7hIpnAI+W6eMNC9mcJhliVxu5nI5RourLnnWpgOcbRjg0s+Aj+94fvGMuHMowDGxqC0O3MGIH0MBqXCgpafcFNUiZg8UN1Agc7jdZJGnuoa8kFYokDjINkpEiQ+LO08BKJhaFXACfUcgyisc6GkbPjwg4gCC3tLc183EWHUFuqmmuIyIgBpWUNWauNouFRoByvBX6g96t/8ANwtDPDG50AHbR/5K5cZmjwZmtlVUQ/0jgonR5eCHmz20b81UAaKwpUcFhV0bouKb0YxKRMJ3zHxbXTxMqhT5/wB/qlWCC6l01jAx3B4fSw90c8QLrBg4IQ1rdL8obAKUtdQVwDd46SpyZtTHCY70OZw3/wAiW9pSlgRsgIjNllqKtHgfx/yN7A0rctTGwBst8fpCxWGxSAwyBguUT4vHEtiDoYU5IHNbmAzgOYnlg7Je3wOq8BbKk6r4MAn/AMmdEmCxhfQOMs22ozQC0ElKjmgv0RYBSMKEVVX9EQGsjY7jQGTfpXcV0EnMWAVTtm13RoXiG23mq5gLwDljbMjL2vdQCUyNF9wIgKz8wUKRzwZ+Y5GnPrcLqWpweZmrU2FamhyMU3CRLHtLQV2XYEt8BTZcQDShvmo9EEdDUAH8DqYsKiUB/f1BFUu6WAovbFEAWrOiFFvldRdZqPKV7AfgCfEU0YYg1FdKJntqyxxAQ8S6FrQXzMmsKOwVc2idaxmn23KQu48zhUo2Yu6YD5yKaK99QyC+cPHZ46lPW6Y37cqlgUCBOaXxzDYdCw7p2nNXVSm+RrmCna3gl4ej02QfRAKobdw0hQI83DamBs2eenctpG1Gs4K5zRBBixZEWI8k4fvKpoMX4LlxVhLwlXEqTrK5z1q8WCEBUnhspdPCcIypkpvDmyVUsdtnlZ55ppmeIp+os2CAau5p0Wtioewavmo9VcpmNq0pKtdRZ1QLuU1WWyhloII2sQHvXzHXbavfHk/mGnCLCgYgFstZwBX5+oHYEC8TZ18qc50eCVyUBqYAr+iORADMoqX5GPUkKKVLLdDc6qPQCWdgvDzZwl4X8mvOqJjNSmq/nO5Zz01wbzAOApojpmLMqWiU0ENWZOc8kQQsmlAJS+Q2QYRz2Q2bW92xLZ4iEhApHRW+IMpntX2Tau2N8QuYa+dY8F3LQlozwAGNs71B1oAW4KfisRYaWEYlVKMhbJr2UimkrJwGKyrEQ6ghsEBl4sM0MMFwfRFKYKDGrjfDRwAIqb1uoIxaWYq1kDQphaLAUSqrFlf8St9VqeRC5TaDBGpVwvgbXYgyn8Nmd9C0MBqIgBwMFQi4BCKO8kQFLcyDed7lHH5eZiOzq6PLZGGC3j1qduChg1zCTJnFacQNmFoNPQh5CX9F/wDIwEJq28eJgdUUhNxKpVkGmf6irZ03K+YjJe8mIgelSTW8BkFooo1GulNViVAqOtxoohZuohYDYxHNj0uMQLsLnNyrbqzk2OtPqOLaYF9UPsY90/K0ewZyo1rENZCPQETKoMa9nJBUmciyxsPCIrgved+pSzBjnwCzJ4vEKq6Igu7b5DNVk9QtLWhke9aqN5wQA0aW2XVwThBzG97llD9hJjWIzcEIwUFvkYrKHLicLADRLIKtRzh5PFy1DPZHAjN0sxLG5BewslTyo7avB1CfDcAhB+U47WVX1LA3K2DqMVNi85o55M+Yg6w2lWhppaFuMzEqlidJ/vxCEnx6jexZyF1BMiUkFtRdOHE9FinZpFDkDVSlZytu6JvP0lipTZJJOFUpRnAtxZhm4lY7zYT4jnee6gGVTnBdBiYSboiVsOSxfNTdBP8ADoNmjriISN1hb+UpfMM9eJChQYCj4movyzSfgfrCSlS4UPHgFfMuBi+xTNhtk5xuPJpXB4Lg4QI9dGjRXhZQBVeVuHmY7F2jX3hV3wy0banV7izIPWIcuyHJAMLorHuPK3NUxXxk3wkmL+xqBMMMTELjD23iAINdtK8MQLpCxoRWQArIC5Km40SwewENDgosxUa9YtIwhsGzGyCbqySBdgzrv6h8RgZD1zhlge5Zme6r7ECHyMwzFFmBtgE2pZuU1tAs4zGBlNhW0voWTI/grDjLaebXUNSsMd/M7qGN4NK3m1SrlW4BAVVDVt8yxf7op24YyVhk8BUAiovhQsMiity1LS2gTkjQ2GDghsfCRVo9kQyO1wqUrx+oRe4vkgX0pmX0vJxAoPRvqBEszcH3QWC+Iw00rWZ7V22aJ3BSyMoZFkSPkdfE8gTfcR0BZ9cJUeU9hEfITqjEJE1VcxAaQKuT0VMR5B7S6DlYKx50FPVxCgrSt69QW7LM91UoB3Qb+cTTHB62sPUprWEDpo14gOGrwSgeAlkXRxniI3kBPugX8xiIWUmnIAatjgXEW1LHL3N91usxsEo8nqAFY02YgmCHRLRgExfcAkRADheV+PqCsicTL46jIiFdBk6vqLoQKrs1lxEsFaUc8RQpCsG5TtqcA1xN4otMkqxUj9AjAWWd/lC4Sqbf4IK0Tk8j/uMqtz2Q1s9wB1ecwukK27eKinLK96irKMDet1BoAy6/M0opLeniArBAE5UYQ15ifYwFMlqC8XDPHQtgbZlayzCVYVUAVZCqs3NBpnwRIotWMcxyeBnGy/SyokZDJm4PTiXWuehXXZg9MZjbkF3jhUBZebL1KUlVaqcGgOXBcNuJ2DkADLgsTxnBRvUNMKvOCJ5yaB4WS8Q8taqUQKO+ERkV4HucPCtpzkqrjWphzZoC17MLBjbmpcgiRI12KIW8UcTXSogd11rWXeQIXsNNJGXAiF1i+JfrbX1YqcBKBOwCNHVeISqKWruIieIIrnFB43gYPGclcaMqFnonDpYIAflzAFurS3kN7oR7TZOkWFLV85VmQYoJii1Qc6f3HlRNuUqlgO+CMKTdVRWEvlXjMrxtGVto7LaDUwp0G2Q4CFKZywbXtJ2Dh0GE1LvRXC0oHA/dK+sEDAxOAKuMg/eWgRihR9x827K9L8HZZtnWyZqtf1LNz3sbzdjMuxHZMGA5L4cYmZIMI0RqSUXb3F6EWveSD/MAn2GK4CBoa2ZjtfLF69d/wblEDsPsyNJsZbpW4H1aQbt0S97LgIhVJveRgivY8D8GZkKkq3gxmWBsxmfBP3BzQdCfUUIBcrv5omvLeODoue4zciaZ81Gx3yZ1gJrdSOcl8EAuTg9+rqAVd81/hY39CXRL+mGelTSwA4IxZ6x4mON1eMSqLbMNwFjYsYgaK6Ec5MHUrL0HqArg4xRFKsoExcRRDY1cuTTj3EpwOB8TFwso8Qjd9YdxrdVUozRkLomUYdXHbR1EXkU8cTCdctQ5TXMUAipzBWQbu4dmjnDUVIobwWxQygWzWPMxKEMVvcWDRuLSnLQyxRG3xi4OBjFV5jaGBnMG5eXzuAFEBrcQk3tm4DMvf5wfpSBrg0TRfiC5WnHb1UANwk3G+GHV7MdeurifAVQipuVsPPr+Iss0KMCu4uCZDtzHBAWgNETUA5stbUEro/74hBkKJZBwZpziOaqXwTzK0p7lCcJzTUDd/wDsQLFIbcPM0rGheWFrCqh19KkIBRo8QZBu/wAsrBpV0CpiqCjhY7LagzDEbJGgbFVR5rEpwKXrCgosaS2scQdbdvizIiDwuoWsl7zNdW+QRCXgxtCnxPcLxAsQYxtUWPU1vhlUOa7q9RqRk+NKxo7DDQ+DWg4ndULAdSzfZKhFsZhHSQ2U5LfMwVA6NCAwO7MLy9aGyogbt+5fBLE+1bZOPMMPoERpLxxVVxETBVaaOAbIF+ISgwA0BVVA8ieJaG9HMDZdXFwpmDQOIeY6Hh9xOLPWHZ8DAIY//BAssxhhV/yE1iNDX5i1CBim/Bcx3bvAWviKye6Nv8/UMG8dV19pma2G/NgfqJfWi+l3F4TONLHkSWFFWHG+LX9wgamLGPwj+ImixQyXjTUHrhTa/hCWqZw6/bNrvC0+5daXln4SWCmuyP2spFMAAEV4EgFBHD+0WXBQf4SN3hOt+iPySOxgTjFrBepibwb3uGVOECl0YziConHWYmmhv3CgKo0VLLWY6I6LbUuJVPYRC8BZhlC2qzNxC0KYWZMK054g2gLcSly0hww7A+dQWMfrMsfQxbbLRKc6lpY5SgK0QgIImj2QUtWuHqBZeK0UzKVRhBOqv3gC8W4CC8kkwLKfJqDVDI7epXQcykMTSt88EtxkCClB5eCJkdbxuNnNmyNQOG84h8ZDYF1d4W/EriOvqiIPoYAyosdcQnuqrK6HmDCso0WfSVFzVbungixmusYjY5w4QUVKrEbM5ax1BwtVMsOoqs27mLVIuCmwXbOv0zOWgq/SHnELrOUA5srvGPqWnnK8NxKxhW1v4YkE4gWmn+/ENIiJQNnUurbcjavFwI0jV8tcRCryAUhLK1T0T8SnClqWoGqhlUj+prVr/GPobuvuZxtZUaKGTepitnouKoAJbg3LRIA7Oo4UUO2Wtu3a9TOJs4biqe/ncurgZotCr4qKAvFCs/E5AUcF8EYJLCn8SVF0kcY2DVWPPExIi7AfDHg6WDxXeB2x6EO3X5hym4CxqlXrBzLIkmNeVeR8kuAwOfBOYwGtfiS6GGrvn0eqAlosYw5xWc11LYWuANe20FdKLB8VPxEkK3Pt4tkiaBOhZ6KxBU71aeKBF+WZ/wAjN8RLP8hCqg3aV+blGWG7y4YF+jU+iWqq2ssxiITEugNRJZTgqNxZZWMym3XHcoAW1dkwclpxW46EEDplMFU6ZoS5cRelurGpQbXS3UrJtdYhda3iszctPZFdbywYpea8V1MDsBzDXWOIAworBEU9o6Rc+ULWLcAvcA8M8znp5Ux8QyXnhUjoh8ENEXLhmLaurmdAIQQafUSYcL1SDVO/mbgUPhYHE1ABzsNSt5vq45ckVlF2ZzHEcmRlGRYb6qBtLdtRS7LO9TgqW0HnJ1L5UNGaYxpBfmD3umNCW9JEhwyADToltg748O63KEqDLgAlU5GO61OUCh+Gn4iBQRCrCid1KasopDdhydbjUq+LGQUNfKsQ0vBxu6wJW/Ncy5iNFvTzKoTh0JvWGvELFBOvQGE9bzqKrGl9jH3Aats628QoDywdtyEUMI2o7iAG3ggxXAsLLHq51ozVpVF+8TI/bj1xzEmkdGuPES7zhqOwgdXzEWFPx1MGHEI0VnJGgJtPUJSFDmtVIKC5wq8bx6iBBbsF/wDIbjQU1Ab155gQgudDDoMwEGxfXFxJAaDA5gJu1FuzOZbd81bZ3xGjs5H5g7ANI2/m5n9YGCshvnUClgnbMEDB8XC7TPVwobVTiIUav/yCpnPVwiWLq4FKPRFoYF6qWvA53Gwxa8CAEqYzDTkM7KfEWUA7u9RUIB1rqwDUFLiAgOCgxBEeIxgeyUvyVmP5jeBmg0fVSu3VqqoGKJVnjinNuWteI4JLbP6o+ZP/AMeTNY5qgrMLp1GpQX4YhW9kSDQOAxXmOVajOEs1IDbWWKFQJXPcd8V3Ko9NnuchrPuaF7vUwcM1rqKm6SjVW8GIgFn9RaUFl97mGLDHUNjn8TAKgGLqN8hW8yv+UyyWM+oaVyyBsLGc4CZJocGOxHF4WtQeiNGBo1ilH1UaA7rjiNmKatzN7puzFQ4JbcdUHEogqRLEcMuAAnMAmC/xMiKF4jGmVNIR+bAUDB/WH1C4iTZbqHwW/cKCDBjxKCCK31LXXY6pmvgqW13QLXnUC7HldvVtVBPkJwRVLqnEFi/QiMKeGuopcOGg9ZX+IK36h+NuviWVENaVpxHVXzyi1OS2cXHoHcc4jYm4LSVD6btMSYyKrpsmccLdH5PPj1GuXJGFzw8tuiMu5coovSotdTApD08B3EmMHUse9rhbGWtPmUV4BkVWjdhbuU4rU0jLRXQViG9t6qMbNFYfcJutVCCZnKvguNsCDNjJqP2QOkKjpo11cIE7t9lIib2wqlF/DuGm82SqDe74Gz6H6lEwDC4XSjjiVYsUKpM1eUt7mS7bgPobHat3VBHME1Oqs/cdqBjRuAqmEKZI2AZGLZ13MsOZXq5x7uAahYu955gDqgMLMTmv/ZcRRY2WLt+WY+6zfadLfVRs5tgNxsBd1m+IUFmACtURNM4PBG3AQOADqMoValbqFQC5gGllwWgDr39SsG3kvGIYqGKcPUBynYO87I7awOW7iEa04Dmv7gBZh017f7qMQBysZo/iKPEVXjcCwFoB3f8AV+IhUMNFvUdDvDVSwJWfMrgaWrFR0fb0iKK6lIkVFuKgk3R5HiOF8Ktb/iJWwZXT1Mo7LEUlCuHghWothxuC8RjJ+m2eZXVmQKKro1e8U6ucgE2pNO2zFRtC9CxqT8eYL7LzUdyF1TnUWCrbbpwTFnMKjEjRas4trXiWGyY1AiYOmHUSjzaLBxKj+VJgPTb1LlNW6Irpmlt6Oo7VCwqYLB0Sg24Ooi4HpYhueLDs6VlL53oZr4jpGhK4kp/2ZY7IZfBMILvh4CKmpw1XeDTUCiONI5Ky1WI6JlaAyq9B+o+q7J1R28Ur4jzlJtWQJsTMb3hwYhKFzLo0z+JTCEmIciZeBHAQGEFMrW+upfb7dGIr2Fg1L+iIE7ugyiB0KFqwWOMueqYjOBMC7zKha22FMQysCellmbuN6GdcRXdH4JfRyc3YA75qOgJLgIzUPRqGpZkzNCOoDKsAKaOYDs9Qv2pgjV3iLcPQEHEtFYqPwgYdwV88KxAw6r3KF4LfbERem42ATdOmJWLLa5yiolVmJSHS0sDfD/DqJ+peqdckt4tQsqpWjL4lpjqwQsirQKOMxm1z7EMNH43BT0jZGFbvvqOJhmCVTpbMJ5ldZmOAKh4UuXAN+BBQHQYhgkCbaaxTVNamXgZpTfWTAQFa9qHkZQM2RXobFRbMZSeC/wBIwbQ+Lj1HQFSAO7cviZ8YruLeXP8AE03zXDE14Q/EJncolm8JpEsTVRfTXbtFcsVgHBLLELBznBlweCpim+2/DL2XiI8UU1aXAdAJfXnWkNrVVvMVVWVY6Vjr4gbJ6sKfJj4gVFBm0biIWLbrnSDcoaUXrBMrN9wv7AOiFo7PERp1eBTC6MaMEWVG+0XQGysdQM6HEspl0cVwR6NGaJtwGRzlUBGZQKAYA8BqA7oZePqVWtMC9spU0O2bFrpylhZVstRsSZHmIE2Usxr+BLGQ0Wg/UqLVirHXiIlVnObm0tK1miAwCXK1FCNQxmr/APIL5lFdh7hgPsBeu/uPTALprBPqhOj/AH1CrKsq8qWZrgG81K9NXi3UVQSlGOYgvIVoIe8BOCX4I0vWoq3UobZYl1RyMUOGxiUtpyuo4OULvu/9+I+Mhz3FdLnYcS2KVF6tU/eIoFvBnTF8HYlj2oyJHpaXhgrRQ2do2FApReDl9EsSW+xLQ+SUAuw8GfRUrWvCaAErEAAityAL8p+ZYRqGGtEYLy6Slb7HOpQbU/nqOlohxcrdJJpfGeLLHMBLTVopRyb58QdmvlmA+S/xDaErCZu0Lc+pa69lCD40Ou4u7Ebt3ekZVBhgUKaEfDVj5h60mmrNDQttqbgrhaF3plfRH6zjlvh3QMVbKMwFee7bxgY81HJTAZGCo7tOYqk+FXqJC80/cKde3WRXRuXhivw+ObLjCxQaFzjbGJaXpVHHqWAdXkOpQ3KdLhuDTzxC62odpljV2/EK+SA0WnANB4IgGtO2ynWNQ93r3IreazD4mFsZGqPScvO1QIvi37Zg+sD1KWyE4wEfuDMVsW6+IUtOSlsHOCvUrWoQWjB8zmr4QsQclysQCw9M7y8QzEbJJQ6gk7GEncBuV4zTqhRgmc/qvpD8Rba4260Dgtt7YriVe/4z7XGdrYKs9vL8wfdN6BVuqOocNYCsVim8VUNSVXYe+PiotZynNYOLrVwFrDDoAeSF0LI0TKykr9MAQcPQaBxUMZ3oWWWpYClIlrC8RXQPQxKCu+TbNBQx1BOFFUVzFTrRoMwKA43TKGCkscgA5wB1Ahq/PUQ4E6CLR4imtwTm6shUWAlnMehjGNzZY12srTyvTGQBUdV/Qm/GMVc0zzVzILx+N2sQtZdM1xLyJbeh1Kc8hxiWqxxw+JRTdFXBsNUXmErXTEApZdZKggpM1QMTAlV0S6Fx0XCNOXR4v/EroKVjVQ4YcGSm43SKMhgY4mRzIMoLMgyxXiCpVsJxjB8RLzMdBmvEUAtbVwepwNF7/wCy67gtCVXr3HQq8utn9oC3T7aigrm8HUGOEfMWmKB7Y4RLKYo36mIO3TEzYjeG4iUoHrUsbSgV1sPcLgZXyag1bgOYBu9HQ/iOWPR4kGU9Sn8gAmU8KKcNwoDyFGmml3l4oNZRgqxRvmEviCqVhoWq/ED24SnyU4Uc1TjzBYM9E5Szs9L1KQbGuyznI0uOI5+Sauwonmr34grvetuLFKge7S2ixRlMFEBvrEKNmmNVPDwuZMxUcAsLRa1rEpGq1VqC+8j3HACqVreImFGIKLMe7GTyDkekjcBcdQCDKwuB4JXZvETa5TUvC6YjncVs5uibRTAs0PNRwRVSyDApA4MRbuQskYOM3RxK0xHoQgLSzLEt8EABYY6u8zH0JdmxHSGPEPzNxq/BpjklDfCMZQIZO2O5RWqihz8MEM65cJSsrVg0Fwrkv3LBXJuLQZk6fCVNewvrtiICtP1MhesZYOAOaglJrGbYaAK5zxKhDFU4hWXblLdTF4lWxDC+peVMlYltDCcah88ItxcnAB4gBBvBOhf5gTS2sDzGUw50SwgGiixWFShkqC8rvOYdJWNdt0xl560cy/AZdFxsLALxiU8qo2czIA758S4I0DqZKM1eLmDBbx3AKt+dyhYS/wAS5MguE7PbUCzhKAlAKI1T1DF0w4QZ4fGI3G1HcaEgfGYmjd9FbnHKKhto6IMFHRBbRM36SsjHJgwEG+I2Ysea0Sjai/klRMfFblKXC2hnvUEb2OeYFDUEBqocGLYBueEr+YMtgamSh4W/GY7OCxeXL/MqsUeSTJWYeKlCgb9QXSaTMopOcYLhVS5GKNSyoy8/74hoOX9QC7BTUaocmI2WlXw/7/EqItqEhYvCycajAQVFYvN/76lYNtrwPUCu7MawfiFsBgbVX8SrBUas1ErCwZLR6ipJQddOIbFxt+/3csKz8uX+zBe2VsakAJRYc1M6bzxUpNUl16gNLAbThJYYPCW5cXnOo5DG99ExWQu0IrhdY0IDcUOpdrlAquJ5HLVTHl3rXiO/GNfLDWRzeOqlntZxYtv4uGOwDrjCi+FNQm2htmsQiM2ljkYmgQrshgxgcxX1BXBQ1n1DOrBJjOFjYYYQqKsfTI/MPtz1+xErPxLTwafATDZ3qGa8XLCFHVmfDL7dQpRRBRDd0agnbIa3K9VqH27Ti4ilYDXVa8vL4lG1BhyUUdI8zXpY8KAOKIDBFVssyoFUPimO5L+kgW8FxT65UIPEaT6gQSILA2B0k24J/MBbRYw1qVGB7xNK6HJUSQC121qFQI47lCVeVM1gX1K6ad67h3G9iJxQeCUDQnxLHR5zBGl08HiO1lRn3C7UNV9QbZXTkWYhjMVUGh76nNi61UxdDTowajB7CfT0UzyBhagULd1TcqIumXl6xzxBzFduYb+kfDfwjeFGiFEOCqiuGJqum68QKLMNUJrEBsEv0zkKjiLbx3qAULrqWhhE0mXH1fEYscn4ABX3B4i+FjkRoBNv9CEtE4M41yZmIMcp84J4Z58S5e3Y5Ib1a1Uv+l3HgLZjlIaaLXRNb3+ohYt9y2KeeY68VQVHk2tEZEW69QoswH8G5ZXDDglOHjr3E5GarHENt1AvmI/WtNDRelA+EoBgsMoPWoxmzFsLI14slbWS1+6gMjr3kE4J5hBwWhQic0aAhLFPimIM1RdSisFLmGQOr4I3eeIGpFV1GBCw6CWGmAIPiOtA6VHBo0bC+5TTbnF8TZYYvgZDRVNFYuv3GUUt0U/1Li9sVYe+IIkb6HHggGjn6q6gtIKW3a7gMDE3WCX1Rsxx1iFgraQBz+oMEKtlNcwaG4DwH8RdAg9RGDJfbGhkW0DEsUp6lCEYykLTIBoeJSWDso1LFYTmoDop4JeVB4ZgNoKvYiU7PXMqMppgGZAUbQSlUusrzKpFSMXzGgoo6/5MhCm13FVRumIjmrcViZUvgQlW2P8AUcBAYu5agQpjUTouJwnHMQKtY63Muh44im7RwRpaA3xKub+KihWzXEz0U/TmFbvL3UAsnVEaVCm6u6CIAPm1xB5C6PqIrYv9QBVUZKMeow20taipaMGi46Wy7u4K4rqqiYOL6hmrTxUvVJcqZOHB0RLaqVfBietXLtd2ZjA1VflKKujwxUrQtfUSbQOrgrbGnGNQFYXWKrcKzriYCoKWdVlanOKiBC74uB5dmZ5porWs7JQuVTniczZtEtmjghKFypm2G63W5U9q6uRSgk+Q6MvV4vhltg3YcEth2QtvqrlBekoHrctIuyi5bjVcqqo4KyvgLlG06vBvXPhlCgNuMQDGQDtV+aiMN2g5t/pU9PKFru+KjnMTgrjaNj5b/MGpnoZUKbtMdSsHzFkG8SgdyhXAeSaNr6xDiygeXwE38ViLwYrqUyVeeEfF/uJQXw8kzBlvLA2znj1Ckljm+S4D08a6lP7uieGt1LFuHRjsLKfEdPDg0ft+JcOC9DYvRjRiaKd3u1g05xeotBQV5d+HIsRxBhNVil4KA4jICjA2KKht8kLKt0OS1eIpMWZvRkQWoOKWGysY54lRhaaO5YAyq6QBx59EQTSC72Y1UOmFuDyK6gpxsMHhJk+gfEtKFPJLrLI21HRntPMG+XWjUTeVxiiPhUZx2yCC0FcOFdRpMilYXQjvIWMMcYqKAqMRi2PaljDZf9JVslsIoLxk7YFYS6uRerIVFucoyDQyvlM+GAWxk8+fUWmUpT0ExuC6xxAFWFariC2SOIgWmQso3DXZJv4gK1duVqKFgKvY2QwtQXvmN0AeVuo5KaXVyrN1lj+kuWGVuVuyaQDkc0ztG2uamBjOgTUQaKzut1MZQdLhmAbTdy1t1ngYgo3fUsd7zVSbPLiPbRIhWvJq6e5oGYlZQ8qujENe6bzF4B9Sq2jWTcdQB/CUFBrUMfqJuQ6f91Aquj4h5BfcW7Gl54qVU0DN9zJrLItAHmNklMTqtq0aHPEVFUl5e17VyvcoU0FxKhQo6ZhiY8OpZZ2UgmxsmoWToLYQHLGT5cQfl2uxHVMq2wOCNYaHEpy7tzcWU45hYY30PUWumlLkDLQoE5VV96KCUKOtB14ve3o1KKqguwvFDEonYOhFjQX9RNe3eUUJRHYAHxs7xi4sgfNoc176v9Tjqp/y3qPIVFdad2jFEwiEUrEVcNv+j4mUQ3CN0AHKO6gM6M4PEuwMKIKwdNRwFoPhwQVpVB5viPGJ/JEdDmWGHINZ6Gs04KGpa3mzJbQwOF+YpiqGhid1d+tRnai7iPZMcXUHyFwprhgvL4jP2jgGDxUbogIdtsChd9SsliQA+QHHsiwWF6kkMjdLvxFobV0gX4b+JRIBIxZj5v8AEM52hBSfJEqyBVvCRWjEWxExLDDd/RGQ0xyiI9BqHtm2PwIoe+JfpK6o7gUMB1iaxwmLT0WfRGzYR7OJTixdFY2l8RsxyEQNaqFVOxKw8aX9hHxk1i8UrovBcOOW7BN0sBrthF3rLXQmgLQ2tsvcAnQt1UHwXcaLpcnF614pvMoQkFskSapgUrbGoDVl4v1FS3fHmYmaTa5a69pfuU1sGkKOwLxxAyEnQ8iPImSP1AbS3K5TZ4YLiGiNdWIHRhgXbOALCO2nqtVAosNwyaIblG1N6ckpULbwxTt0mPOP5i4hkyFIi/iKMbU7Rgdorbt/xl3dQVy9+vME2VXdX2QbVBlaxjJ/tS4gCwEXsDmATNmS2f3KcV4Bgt+qmkbstuO+SYEBowkHbYQwv4xGtkOLcS7aFDtqBWQPBUqkVU04/UTFss75hsqLbqtQwA0cDLAqmeQ/2JanbvHBKisU1HSKO5nhDC3H95ilYm3gKR9wcKvwz5iEl4SiLd4CjxiXwWC6bSCdPERr3GM0XVm3dmIS50DzzLqhbSpiSnSo7qW1Rm02Ne0Voe1YNFqrgPOIZgISS7pw47MvLM0qqJgFm7sIOa+N4QNM/gUgFlFT7CcXYyauN8O5heXOSxOEjDSREBBPA1d2vEpglqkbLpGx8ksNY5AlrUN0FxPZrPi3DHlrLgNxWkJUJZrWuXUbmKdVTzVdV5hXGU3frN/UFKXzmpRRvNekBdRYMql+oGdTvYNQePNeZS0SBBrXGQ/mXxYMvmg0VnFsuuI9ULA+jRxR3KEFFeYUrV+YWlFVmV5HgS2GvgV2eYkMldRKNHIudRg6RLgJ+v0ik0RUXFXjIYA9JpgpHW/UBZjGQwq4xa4tjsoWrgjd4Q+pdWiZFQ/Il8BBjNg0Gpctum+ZX212I8lvAYj3EeUJTjDQoXiKmxmWK7BdsgmqgLxUqHw4kyk0AmzbVTiqYqaRvV8QFUd4gcMusRpYROgW6yceYWLJ70Jamgpd6ZXUC25lo4TiJ9gooFFC2GrRiYzyRSjpTqc+BSgC+XlXNR8SBVUcTwvqFFmW99S7TJfniaXZvN4hiKreYwIKlrVXXc2FGpZDGfENXxeWmOV/Zmf+uTSP5fiUcNa/qnqAWWoC0EUndXGZIULNYj4AAiErTWo8XW9nMG1EjK2FLB8RTBPcZUtdcQFD4OI7nd/XCTnUS8eIOkpHncHXvmBILUAP/Evr81XjMIAKKre2KIo0U8xcG77IKPFBLiWZCuOJ6I6mJK/ISUicMK8gACFr/izRxKJu8NRusApLGmAGA4IGb25mKoJWalUXd107gQNvSalVgDjGiFEEGwhUbG7Ma63R/wACWWb0vH+/+S1wHgaigs20XRXM+Zw4b8Q2m2+c4581M3gzHCB6mRRh1DioKWoHfGyzxEVXODq/HUDVcmhgosb4iW4L4GtzIpbG8ylsKjuxoHF6ub6quAOYgBsXpblLKS8uoBReHQbmCsK3ZrxBsRHUUxrsGocHNWExh4R4plh1wAAgQbsZIJcM7wIcnmApAwQAQ4ywbuo+YxqQqmNCc8h5jGuH2BcpikunOJpgG1jOmBeuJdBTDgjNgUYoCXq0uUvLLPFSh9rLpXKaCZrSqh1nMcHB8dAaIrY52sa1zJWsd4Cy4ParUCVvvJjqC6i/hld0ah3Bfvb0P3Uq7wVA1UjaZKeLK8QKrQDjmUdBV/qYFLdqlc8HzKQgvx7jt6DFznGIUo9sGJnOXCsXSsQoA4dlTXeK5xHsYY3M2S3urPxdFQlNT+MTmCHAvNxbHXc4vlb+KXFoA+1YYdSyhYvJW4aKaaxEPHyJikQm3u3FykuIlF4R4gQEKYWgDiI1GjNHlq9Sq6DUH0Q8cvcqv5Mv3MSmsM6txZ5xTLXwONlb1RwBNKVMNZspWae5UE8iTP0uUWJstdwCEu7suDvXFibSvvUGzJj6gittc0fiO04OZXnq9EoWajZq1rBcuL5cRRszwQqtvGI52UDitHq8TCDJ8YqUZLrbByoJ2WAA0N45jSwVwepg4KNyxfTUHAKcPUbgrx3BRoHq4IWsPjiKKnDicq6Hctvh+EsWYI2gWOolN0LgeZss1eW/xBiKZUjlM0AsJ2wVyg80oeoxAAAVgX+ZminmCqI50eIx74A8y2hN39QAlLKtU58n8QUaEKZCyqPKrC0bbRABAHUNWoPBDBnGOXU5mBcVMWVQ6IaqgFzjUw2DTUaMVfGNzDEqrrxEBPCUmgIG/UMoFmNmWPDuBWBA0h3eccYiISWuVf2w3iugLRcwrsFhC0cVBVIRgbLoSUgUDwDizqVONz5Jv3K8UWNA94lLBbBbqo2toc2dRXBQNDLAnyVmNMS5wXyEYBlRkUy5BW2OpcaBG11jUTItKaQ1FWnRxxOQ3VYHiZLVGM4hQqfmA5zfVRBbOM3BRvSyjZZ/tSglwehK8AKD1KeNpr8VW6y48w4GiYbH7gwYI2v8QoVq3eaqKwL46gYGPzGMAwE4eW61iKu2ByFaR4YawKAKAcASlGrJeM7mlpGKgGS5fKdsOujMqk/lOFbxXqJnCp8RdiGs8Exi16gnZaKvxLuUNw6ijDXDHgQKZiCZGvqaadJE7LNWyrYTDnUqpik1F3RT27hkmmsjBSzL29SgL2pgCKgl4mhkHVdys0pjgdQQNmPyhBVfbC8EBMr0NpK5HiAInaJUcW7x8MqmnSiCNWxy6lhFZxromBf9iXxSJycRBtKc1KE+flK9Qo9sbaFxL0SKxWR1MmPEqyCuFyriIyKHdsBrk8dzAYA0GiKlD44g281KIK1WLYiuRWJR8stj/qkWic3BWvwQAN+lex2V91xFUAizmXj9MFXQzvqWKo+JoeYlnWYJh0ndTxQ81upw2R5YZKekSGiyy4ni9zRMOFDyca3LBShdD3AbVmFlASsb5p4qORBlcUbgWQOS/wASss2hm+pStAsXAfEvC2YrfmE/MItxuTK4AY56i5z78giq8cJZUqLcHaLYXLPmFNEGrjravddQuLswHEus5NLFpspajl2Jipstp1AnKgXTBiWZZohTgMKleCZBC7qiNmkF5hhFxNG3QTANA1cZsXVh3AoyLgHEIAoQi4yCfuKrUKld6SARytQfAlTsUFE91Lmw9JffzzFXQcw5Hgf1FRKUgVhjhQhW9PcxJUol/HUQhgOdFhzPUd3AGl1biyXug3WJQIplmDKgXjJMUVjwuWpQXq+ImAz8LnRLd13KowB1URWOXPiFO3Wb4gLHbeGrnMsp6jYUN2YLuYFXDhzKsq8GYdVArGcQUMl9xt4FGLgBRdGMTPbmaRdyUslXtmDj8uyNgqXVFvExCBQckG2jjzEX07bl6VgxYQABG3B3BXpZ1cFFIVeyBWy6XmD7iovLPYrVeGXjjazxKcBtS+JYbB5rEcCOC6h5eiX5HrwWGJjEZKgIilSURHwxoLwF1HpSk0cEGt34guGRwNg+aj2IhTlAKDQkwBN5XxQwnxAAVAvEooAAFiFhui/UpK8FRXMTlzqUdJeLYsc4NWLnJKfcHYwRQAqi6ZwcwOoCGE3TqA0Uhh3TjHK4OYKIZ9NENBS88SoxdJQ1RftR1uOFHSR6ar9QAbylSgqaOwrzDhDh7ZB3O0JAAEmtKUcU3tEeWgiwkCjGR6hVTXmbE/I+oORYKbwUsMhIKkCyQTF8xVOFNSvSCSodXUqRKo4uCERs44lHGALHVmLPJHNpCwJzaG/xFNh8IWihBRk4dR2wVtxSKG7YqacHGIsa2JkdepY+A4UYteMxeg9QaDbzUo1Lis6huM2bQ0C95McQbAKiBKYNCOh5NRe6N1BOEBPqZ8TuGznHPgG7OPcp3O1sEb16PTAhoQWMr0fwhOisLbbQGSnBNN+u5AGLq8huBYBVxA5rVW6qFgsR6EDTVvFly2GZsa3KCZNURN3XXOGOVZGh2whkY9Qv9M/UwqvSFRkYdC/EcqxbaIG3NsUOHioKi6gOVZJrT3EP27uU+xpXhuZMogzxKhLrAZ8QyFQbkDCXpGtlxR1ppyFfxFLSXOEFL413ECoDoYFuAL3LPyxkjl+UHqC+6GAmfAfelDXiNoKX5YlAS3wahopQNWQzRgdOdzHZm2McXRiloZVjDtI1dKEeBc/MBE1YM6wjO+GX19PmNevkXZ5ZcMCqNvp/cRYEcK7PUQktgmlDjEuFs9AC+OpaLtym8+IuJkhzzb1OsjfVwHnjddShtYrTOCoGfc50ThjcWtlVhXLLui+8EAB0bfNxZUUaxC4C47qIdCMlfUsVseiWWzrucgONRefIHAB5/wBqKtBVLos2SVQrHUAMumqUg2O4h3pfZA8Gx6SoGLk2qCzXBcRV2WuiJKPY4LQb1TKq4vhyY8ceIELkwhwBgJo3G5Ba93dl8lmOyKgUXHExxyVaBai6baLqUSgeXLMFppw5lJOqY46XYw5uCsrXBvgZY0nsooLzM1jtlIeajU1e48/wiqkOWwihDtWlJQbZAlFQ4az9S0oWEQTDKXB0y60BNMBOBYRmB1IIBs4RdCmMSzhu8qql5Vv5lBpKuvE5QwmgmFGaydtQaHNkwCPoPERIA1glxp44ZYAO6fEpgk9wwMTz1BPPBFXblgOKuc0/THj9M0fOiWeGDFcUKyo44lYJ5vEjS6ofKsUUkCkmcYg6ZHjbHYGVaRouqqAdR/kfgIm5Hi5XP4H3KE5F2Fg2zAg25BKzcG2lFCeJzq8Hgew+IOpbrSrrCkY2IZy2py58CyjTVEKaM8E5lKfDSGQ4ObG2XNb3SFCopAq6uo+6qThp7I1biPFAN0NXafMHqQvh8iVE5zlJ8aqHsJFmpkF6IFhquI6f0mR0xqtxqAiKCoNgQNijKOzMCQlNUgzwBLuFhtbbDD5IhpSutMoFKgBtgylCZ58VBwor1YtKt7xc47MeO9bXtjmRXRbGXIeghNC3ldsJpEsZRy4AoaL7AayqUhMccOTFrxFhIGyuPQwDXMZgy6mltDWdaRmFhMKTHquv6i/6I2XaOX38RGzmFhJTgBrzDLFQVYAfUtLfZ55SC+tS/mwz2xS4oxQ1iCgiVDGgoX3cCVXh/wB/sRdiNB9HmF/TJTYVHg4Q5mdhIlA7pmvMdPUijOVjttuEBOVMOHL4Ny72HT8EeNiKXJEPFLgFC6iSQG0xoVZTmoc7DKEUayBlWt7jgKxkDXjEE1hwR7GKVtlgoSL4PEN21h5mSje3xL5K+JSwB481AoxVb1nLLgBpg1fx1Lm4lnq8831KfUNWHu+IT2rKLIzZuxYwfpiATIxzX/Zkxbq8PdTZQZgxVdSnMu5kruUF29MYZYbADFc3Bq9BombBfmnUUR5fqMmopvxUNmiDaRqte0RcVWVRSArIZGSVMn1/yORbgLwwvZhmqhUuS8dvmNQrztVs+Y+Y+Ca+qqZu27x5mT4cWmQ0ptfNeZgUF6iAQbStm0Qiq4zgAAcJdJ3KGFYwfED0w8whTfxEcNrYY7AKG9sMcbkC0dP5Mpv0igAi28YAM1CNhkYoB9Q9AFwVMHNp0OZQUVapeWwyGepZ7FrsEGGqS9QRNmEYX1VjPgSoYztEwu9kK8raxfLwXSiwJd1kuKuGhksQXcA/ENclnaWtmAaW6ILpVyDvj9sx+7MWlbJu8pcpeY7gQhFwJK+0CxpPpzCFOYTyMtvNNR6B1cUUduTFFU3AWviIMAJqoBwG6Qx4ZXR8czasKs4xWI7UPNNCOhUNGLuOBcUkQfgaqUlLxK5FkXmnmD/AGmbzDlm7gJmhPxdUV4lJPEKHVpWuC4pujZqiFoWouQMS6RNahWtHawcAWWaur3Koiso6iFTPLXctg42uaGWGvEpqujEV2DzXEM0rNnv4ioDsNQWmhwQWLrGcsEpwKIYPBWoUqW1rGIwYGwMcVAA2CzUuxRhzUCZHjNcRwbK80SyzaS4bBTL1uUoaBkOYJBfuIgq4CxviCIBs+pc1fwgxhScVC3IUaqNDPqiN2GizWgeRiyatMFR8DdBubiJwuAqXBPJ17WZF+o8L9wyOazXEamLMeoCCgMVRC6xoNpUCrZRNJKaIq92zWNDkWWg3ntY0w03inVRLHRth8nwz2s5riFD7VkiW8KGq1DEZvlqcFAvbDSB2GM1BZsdwqb2YxuYAtQqZkE3mfxFqHIveA1ruAmHeafwiGVFCvx/vETaznNs/X+zAALVDDeqLsP6Q6hAou6eYcJqZYUmbL8QhgsuVfklMWPQ4hWKaXioubZxogkuZOGZqu+WOCVtwW2qy2AArMStBnbiItbi+MXC0FJfHUHSniUhanfmPJM60S5sxVtbg46Mn0sspE4Yx/SNHkwnmrnK69f0F14gfncgUNovAnKhcc1sp8tQWuG/xK2lnrFyxpHe/zBsO291Npby48zGsi5qUDNXoTcRFaz1i4rd4MsKDVcsXPDzCNquskvTkaGOaxisUbmRwVzDdsvSQKcMcYizsKcEGULqglmRjwwLE5zKUUCjg5lHMsDjiYC2cVhgRpoM2GJbADu7jZW1ZeAWVcBdXnFovsGi013FGPXBAKMdfGJkoKZOvMyikyKm/EFgW5u5VuzlVXCggpwpgUAO3uDBlpLx1BN8rWOI1kMJVRvAIG75nhJ25m9eO6xUapR0lAYvu50dXVfULfAmIhzdpAyXesXE64NBKObtXJeptmy3mZFFri4JyPTLB4ga9LjgcNcM2vHr1Ni4PxGMtZwyptafdQJy7blIBPN8Qlo5bSNWvahh1FC2PFyhbjgCZWRtPqLF+FQpaEKTdRRFLrafKTMRca/olvDGfEbW2rAZ1Dj5fEKzU8fLEZAiltQvVEDpp1V6g20E3UWA4MHmArVFZzAtchRLoVp+dTKgt3UqlrO89TW6MaZwQXQHMMBV9uorKBzUxNUovcaTSnA6HMuIqc3hUFVpaDQ7N5gtVjVLs4K4hVq2Y4Wat6nIqFr449JySK21XzCksF01jUMswpWHyS8FrI6izlR4NQzKg4SCKu29agNVY6V1EoaAcLLsyrdoRyOV6MREBTs1DaAOlzmI75jcGNHmDqwWv8S65FBiXilcszgUMYzGHL0UipUT1MaIvF8RNFclVWoaW6nFMDWga8wplAcwFm57jrsXitSwrKDGJgbTwI1EpSl5LgSFDjPicJB7fqKgqrxBUABmIR4PWv9iNqx/5AVW2F3cNQgEnC5eoxBiRvkfC0KcABqCDCr5hkqM1mBRVZ7lrMoPqXnLYAO3Ve4fd9tDzTAPR9xzr3lx5sq418xVRo8VUHiP0jRkCsxQHK5QKFAY8w1CjC0x4ZDZwgXsRx4iCtDmdz9kIKrGPAfSMRMt2w0g27BXxAvV7VZkacnriX4gMWlIDloh54Odw2dFQ4xs4mKrWlVDARTTHYHkETQQAyy0auzQ6qDaPAEXbhfVxd1Tm8mpVG1s0VC0yNYLxBZut0ZlktRj4nQAvnxEJlTmW8UR9QEtAvFwVsfMFpRiIEvBi+pRenMxINNYxFPDe4qW9y2qVfUbtYGuosQSjRE5GGGOZZ9qiHJlksVmehmJZiDd6lhu7avUv0XeTDGGKPRLsXD6QEXI6NQVWZrUu0LYMVFcBT3WpgCA+IGSPSonlVdcQGqKt2nEKNOF8cQtTAWXmJiodECqoFdko1ZAKWAZwnnorValwqqwQl2KnGNQ0U4PFVRs1TBBnw8wJeFWmBFcDnJ1CdVDspvRkvUQAQFWyW+JdEuYmzJ3BdepRb3ABS00VLENdzMMooG08ag3VmVVQXFX3LUAK8TZr0E4mRdNGgNQVQoFamlYy4qNgqgqv7hs0VWHMKMlziW42V6Dy9SjXmOktGElykxU0XKuHiZKniqhdnGLeoAbVxTG2D4vxAHVHiYy00U244i1Bmdl9Gz4hWFPD+prfysS08oVKZHYlDqmZXpTMEntWglappLY/JiCMhL63KLgeC4SSKyAbVdEwwzfYbTAntqG1vbiyImkRPiWVZNKMNnFn8QLSEPWcFVwwv4XIWCFRdNtGJXqAFFBE46eIpq5mLhZwfaV+WRU28HJWq2DLAsXC47IcwGi8ndRaF52jx8035z1GsHmnAKAaZBIvyOguBDRfBLE/KpJoyaxxhuMZfVRauM5Roy06lud56RVug8USmzELKleTM4pGG1ovUOk9irA2GBeR4DNNT3CppKDoKH1xA00YpoL6WVB5zDnGVFAwOAHpbEMSR8Bb7KfkiAKqrEsLFgLpg5ZwibOMvww87mTC0zekeIBgleK+C6XwoisMf+QoXdINVN8Y1zqbrbT8VGV+cTMVVv4lGx0MdYqrbow8wAKveSUWMczko+PiNC860wFdVqam8mbrcNHbUAOOxC6LM3DsS84DiC/Ni3yysl42sizmriC2gv4i3gpziCslFZmWjhb4lkrLwbihQAr6jiMdqfiboSLRkM4KgA1/2WNFU5gNlXkOY6dNalYAcw5UVgzsaYgycmKaJezI4XKmzHDzEqoLD8JgNKrAFxtaFtBuHLBrEVKkwQUXw4qJKeeFxFWucFzzszW9S1jjWklDRnlhyMHM4pxzYw4Jx3mv+4uIuJbComyomNqqM+kTgPEOBSSk3jqC0KDBSbhQKdngdp+o8BeguGlKW3gwEzOFNs/UXsLywwDR63AqxSuTccMBwXHSdFbxctjK/BBUqmgpLgC+3SAmLxlY2djtx8xshAGriLNMvMNpl6NNZgHXg5aNxwbMYtYhQLf1NL2wEDF1eUJSvMXyfEBLCr41LiUu5REq6D+yFTou10GE8y5Nbd4LPR+MYctipvSK5X4gjWghHiAGA+81F37xq0heW4e5juiehbBbAaq5V+LU3K3fJsHWo+r3AsAe3eUxiBaq93NynSksAiNtYyigMHGb9JFgpi5SA6epjiBNGA5X3zK3z1+QX0FMrrymawPISh5MLrtCLufl/M+EOA1KcCV4S1hG8WoI1diwbpgtkrZ5icY7Gt6oPaiiUu8AwGcil1gqChBXcDLjumO0qKXuFqoHWazAgBrM0e6PoRGOiXJKQrTK0qU7/KtS4DQAA0HM7VffxxpbAtbzBimkmxANJzjKubiewHSyoQYCayNOZdr2HoCsMDy4Agxf9aWcniopsh/zDgVariGoraMfLyzGuQy75szeZ2HChBXbfUUUsC8+0EXdxCYo5JS4szUpds0Lp8+jNXUZ5poC7clmVxisXLwZLznuXkrXli8CCucTiw9u5SwNYupkuNGuoCgDky1uPAHXLBtFORmFWwwMsoJo3M6yYvMMfPPiptFU6loBunqLRa5/UrRKIckyq7rmFxE3WWAmX5mR6YdxScjGopnXiiIV5Ewsi4AaiIs3XBOoLZV5YgmlpxcC+a8PEFCrackA0alAZWtJAmUtWuqiRqhTNmCUCB+rm9GRCn/f7E1krnjiVo2VzAyMUWPUbBdUrcdhQAM3xHQa8XFLBDmDWGBfM8B0RlWUrzAtwpRmKuS7cUSgsEOLYtODGwjsGF5NTIAVgCczZepVruo6yxVViCr4IKG0ADSu65IEAMCjFQS+wp/MV3BL9lRCKCgOMTFlDQF19wkCqaNu6rErYUbWdEqSot61AuUDr0QwrzWWogqQV84IaEAHUHI2HmLkQTGIFtt3iCZAEMLzKtTdrGcMBtvvQ3z8b+IdI18kxvz/AAlYspbAVaDLa/cTMfJU1UavIHFsrsBNYBVwtEMYwjlUI2SjobE1miP+lRiFyqMmSjd5uVwJB0HEyq4bNVKKe8RUjHQE6wj0QMNUk0YpXhrOIfpYZgCA2YrmoSkwLsQCg0trFm2kZkOUCgHUBwqJKSbUQJdIohCGFQG4+xz7llembVuAD7/MIgJAKcCpGEuu5tht24CMvpEv8yv5Sh+Ht/USezOnQzRCo/ZhNM3gBU6u7gEFzWA9AiG0JX4MqRFNQMrn1IrUk0380YMmGRta9YR6idon0I8Q6kZ+VLCg4P4SICy3Ak+YoA+Wu+hRITbP9CEgRNK6eICk0TRycZhxWXH6cBBnFf5blxpHoYMxjFGVBIVkD8rVA9JUVzm2by06iFjjqWYuHq4wreq4jdR3ltZZB+AizaXjFTJo+0Ka7O2BdB8ynDlyjMVaeSWQpDsyxN57I0Ghy5hUALjiLUow0VDRMC5iqWl8eLjpZluA6aox4jneA4UjS85yLhlRQvvqUWQBQEG2Vq9rKw0AaS4cErZZNYMuoRoprxHI0fFcSoeT5jSWCvmBc2VtGWDbVURXIKMt8QoVF4qvMwAPdEBQzRu5VLfYzAAu+kDA0WtS7i8c8QovOL2wTZk3fMpmMaOYnBqgIBSuW63qDFD8agcXvggKwsXCP4NwGdAUVAZG+pSFHriEKUuARl8L2wBSPwSmWWBQXd07qFYogFKWUINlisVOr/1SpvdKtNZxcsEEAAw6uITIKxdjGvCtF0c/8Jcb6RBvn6jCFVkvWsRyVnxCgDfTPCDyEtSy39S7KcFdxRBrbd+I/ajcuEV1Aili6C5QkReKlmgDrEKROkhaXB0ti5HT1e8tA5SGr8KV8SzKNUaFKIqsvY1KZw1SbH7Tle9QZqHUyk5zWYKrdqqw4LlQWAmylFwvOXbDAx8bXJAoXawu4LFUmiYBwEpoYyexYGZisP8AthAJHS7+nDiHYCqp80QEW14PyyIMDZpBR4iVBzYs+5/McSVm1e1+iDfAyfsblmKGMd9RZrhApA6olLPWtRKyjd5mCp1hcRBoAMXBsYrGrhU8uV7hkBvzfEaFOb4uFNVxydS+lmuYtHJwRAMHy8y1rAjoSjxBKrB2bZY7NcQrp3eo0yaruJTWHPiBXk5lZZZe4oGgVqUNp4FmMwzF23AOpTpfmDovW7gLENO+4pSn3C7V0sIwo0B4hUqimiZUTdaJZR91W5RDi6edRd7AQbfaFFawPqKgQtGDqNVFtvUyWrretx4BB9YicksuWaxH1KYC08NwvQXeHGohQDfeplFm9VxLGbbweIBBp4hQ0JYQMBcYheXlphgKwuagLuuAmnWEzfEYoyPMVAJe9NwDDhdoQqs4FudwTi02lQjkdReAEOu4GFtVViFpxp0mog4x4rUAU00bzqU0VRVsGrNZ1Lau83EbNOal4CteDUBdaFlijyGSVASmuuIqy8G50X+/qJYQcrObVjsgFoodhdL+ncKhfiBV+ZlWLR7PepeLttMg/uJMOpwHBfcLXANqJn6jWQNAoGf6nfEGD48RoCoV5IssHv8Aws0OCAYR6BMha6MHUB82aYgTNPULoFLvBKl3zqJbNVVBcNLb0SstoH3csvZrFBbQZWuCVzKIu8TjBWB7+EMSmGUg4pLCW+/6q/gWdtYDPgz8xtpHgl9Cv6jgk2a5gKKpli9IZvHIp9h+Ij4K1H0EVe4awt8ERWVZ63EWsYXbLACqh3AdMDvcQqweo0q0ya6iS0+4YL2/ERQO+oFOGC1rDwkNHPEyrTjBUBMgrrmCuLwW+ZbChb1O6o6YOjzuUBV4YrzatZqZLGdHljfPaquVGrdBY5liszEhZuWu7rrGYKK+3iFS7thtXIX9S3Fs9dwDQ+oXV+V8w4MjhC4Kt0G8RWVQcrWpcBopx+pYjA53UMLCs8cQapa2ZNwplMNXKHb3cGmjWKdReKGOJmlmkvfTeJkGnMbAFBkioujGoFuylnBqVth3wdTRiuKi1HRnECgo9cw64COhhWVWnUBTN+GI5jhSe5lqwzuWKDaseI6ZYwa4ilnKsHRLlUBWJUQXZlhVaUDgjwruuphzdNdEEqtfXEwBJWmu5QytdfEtVS5MGpVqZdt9Ro7orFSvpy3KtpTbZBFpphRSIYqtMA1q8pTmvOWVZSb1KpSr8so/Q2xowavdMuucb6YjkCyREWsLW5oHLjJuCgKrQVKKmFV4lLwADgybFlqGsQblTKBV/wAgsguR4PEUdu90x9NRgK4boN/EUO09aXmGC2gqszr/AHiXUMop913GQqLrI35rXEsWhqs0QAdOlRNFx46jXlqs1h9Sj3bc1LLfepnjk2cTgx6WXS1o8thFyFfccVRrVNZv3AqOwH9VXCS43m0xlyOqUyWt8dSzz+CKtcPUWGTjSRpXHsmgmuSKWVsrVwo01cPB1wMo7WQUDQ6uHGC8ccRawoHiLGALtVvFXd/ErZ1RHsTGGNRuqOKi30enURS6x5jQ0YIvYriipQKl6PP+/iapoDqBQp+NRAN2+twRWM8xULL8RO1Q8xRCL6lcK07qpopuFuAasio3eTgiOVeHiF0JpiFt2vEXGzhWCMY20VEG35HUoWNp3Ki3h5cVEEwvZ4lACfyRtlaKM9amZtSqMajoLMXb8S6FU3xxLcJrwxCKJnFxbo11bFTjEXGQ8GIFu7XGYBAfiorWFZzBoX6xANoWeGK+TDTcpd5brEHZRr8yqd3bLGgZ1mNcRLVbMqABrucilHgxAJXf6h4vVTgEXeRhmsh5q5cBK+OpqCPSU0K94g00sWHVw1kvU1WW64IkyP8AcWkKs11CjT0DiBQeXipYV4rZAHQ1uooMgFGv9/qlbCkepalMpplbWG2llIVno2S3J/KpTUSWqSgFMF3UQ3dh3cEEVb5T9RQ8uyOkES+Y1QXRu5isBs+pcHpcqoDiL86fOI2FTRbc5IU5jClNQjpzCoH+zBKjFCFVn/ZgBCpqMfe4CtqqBY9GevMWQNsV27hIloaNsRs1uezV7jGcVwwQLNDmYFwN/cFgtADio6jKqf8Af7UaUoDjEpZoeHcMCi6YEhFC3a74lFQ5YKq/+RuC5jlG+GrlceTnMYGhwe4N0923NH8OoADhD8xFHI8zFu8YruVLBwSjVOzUbphSrc+IotwdRLSAO4eNHcC2PqBYqlQBaPTxFMOzwS6imyhit5PJHwM5oWa7vGpixQC6liFqCMY2dfipjgB3f9QbBKe61KF1e/xMwFvzLcUBa+pc2ZAOUOxlutYiDvEKCk61B5UrJRBtl2G4A2vxCRqU6j4o7ll5q+oqsON1HKkwuiXNVfbxBvo6RWQZdwXOgZfUVCXkmG6vYW3EU2uCtTGKCnKZFTxRAXt0RWkUYMQAw6N7Z2cko0aPqVqh8i4PU0tJn8QB8eMVZKBddBURIc+O4lr+SoNqKPWIkV55gWqdO41BFBupWSUN16hVGbNZgUozHgVjjqGzAfxLbKZg4Ce3iB3deHEBbBf7iVgM4q9wIK3Y5JgHVMHUwCmfEy2sZm8h+4KwLDNEw23aa8RQoWr9E0DNMYljLWMEA6lDFwByH83FRvPx1KLTLREvAwVcKYVhziAaV9sVsLYprqUFV5+41NUHmUygvTGpcn/gEVtTPHUqg7vic5D0xQBtsy5fiGgF3WqeiF1ocg4+YICwmAddRpmctcDmNTVdBdUdy2YKMt/8gFqgab9sQWbxTIH6iAAUURafJxKIYl6OYA3nyzxxKVtj3Adj8QsBVfMtVq+DRLmLTxiIDugb1AVbYwsbLkJYcPGSKaUId0wfLj5htr8usniKz87ZFqzNlvI4+IrbXOHcMCAfzOA0uYoI1T9xKiNN9YmHbQqKY34blQfAL1CvCNjMX4Qq+LmrAA1VDONCVsswwNCy6sCZRQ8QrZkTGNQwLKgIFgRmJWLWBVWmy/E2yUvIh+GXeMmgSpwlJrkZaq0MqiuaOtnLJ/uYDI6O4b8MLUacnTj4lW5b5V3FDNXvE1lWRgOz6jM0OktbF1uii9sGTKPEtzKB4Avl6hgl3keKgCKEaBlgWh1ncFKLDlmPQL119KwRSFUF1CKdgs4M3CwG7mDVQGTksmBTSiDmnMtLbZZ9DcNglXAbXqjhzMjJKC1weJTYlK7WH2s1yAFOG9rOx2hPAdyyiJI1D2p0QHxvIYPgLSy8XHVdFlSGQKqnZ2eLnDx+33ayNZOIcsJ7l9gd31BvGx9QaUXqmmaS8U8ygnviXWrC3MqYUjQ1iqz4gbwX4IVdh1iWLSv4JZaoc/8AIOgaVqzqLmzNcELx2v3KOPTGtmP3LVgagXkZNSy4LDJ6hYBaTg3PTPDUAtT5ZgFNOeIslNlepYG7zxeoLk4cAR4Hx3GGOd4qUrAV5gK3VOpWQmWE5jZxwrHiCHGvlMBMC8pF6vDaRs0izgzFlbPbiC5M9YnAwtVUcKKf1CtYRrW4VSx+SFCnHUd0rTBLPakeBSIUKRAGVcxStdKB49xXR+qFijCtLS5ZWBUBPmYadiz9EBQPCMe0dwCUXwboj0+A4wzOxtACgfcOFK07uEUya31BeCyzcDACXwygoHRfMwyaKgcrzgxhlUDeWoCKLMZ1BXE+qlZEJa5BX8RPpAe1UBBlVwPBKg19cQta04L/ABUMsr54hIUXkl5l4Jdk1gNn6lg0ZxmPGEyyjHw4unEA4U1q0Eqwkau2jwF3iAa5lWDBLIrNw3X+/iY6raYHk6l6GjRDuzDECoqBoAsDxuuJbSWHBxbgUMrCgDYaH3Bv7bz+FM+CBncI7GTqiiy0jHb4mYySNRJdWYTuUOETYp8D3Uw5yIDtXIwfL1KQhpZ2gRhKrJ3EckeK5ga2eqmOo0U8EeuWMR5+w+GZ1guHOOI2xZeNwVxni6xnF0wVoBzKGy9amye8qggs7ZGGujXkF+7UhSVV8xOBw7OHM2K1oib1Y8OcVQaojrjlhiNJSUt/EpLkZvIjSrdVDaDFHkY1UkSk+wQqyuJzY4qoAwAKDHxMMIHmIFGaMO4DWuLgdI1CrRgxHCAqZtDD+OI8QLOQwTVZb5YrtTjIN5xjtiGFvwG3RijQ6Di9xrjU1mnG8ui4B44VsDIbKHuohuGxyLHxYF+IPovqhSnyXeohU8za3y39cQN1g48TNeWitQwGcdG4FYy4xF2mAHPicmjiLeQcZNsbhlePMug55QxpFrKZmdsH+qCALKD6mQwukte1rjUtppOOYYd3/wAiBG68XxFA5aohQsBfP6iijQ91qDhd6zcBMUYKhsPG84mFSpCmuJeRRmxVXVviYs8cTMRw/MqLhusEXir8ziU9FzMrprECqLvBKGkcUErwDULJofG4vDb1colD2NS80LXo1FeBunBFVUiPqciU6ATLTWaxFty1wjoFlY1vqN6BdVFK2oT2jH3CV2qaVxuMsCT3eCUCmy0aIrsnOh+HzEsKhUH4+Y2BnV3s6JmU7EfkiKWyq8LFahBqzWpaIFF+J0D6qodKfbNxaNmDQu5gYwrQR4AvwgAWhJybjgCvhgyLm4EbQ+YoLXsXghkqAxRGD60bRJVGMn3BqJist1Djd1UufYWoHBQNtFeYtjsjsbLCHWsS6HS3HyFFgL7YYnwytBvCoK6t3KYKR442NM0/UdxDa6fjGdk6SyB1ykypFcI5QMyzQCXmiUe0OZTRBGDF1aR3LkvLXIK1LOaIykU0GhOAIfMuZMNHXQ6LMaxdZl7h3sKA/S0xiMkS7Y+28V3hIZoyXdJRfJhd7NwtVZHNHnHipQX152AEwf8AqBmDwKdtgQMfECghwoNwbBdtahrfclpT0tBjwnC1KCwrPJwmMMO8KJwFmWQowVEaGCMVeviUgnarjC1xcb+Eq5TN01g8zZvWfTzTXJzcqNi6ktEFaMyrCKdZY+jfkAtGOOIx3PYxRzLULMy8cp8AlnapJob0IbJj0RJD5FjTDXQ5+IHvRUQahzmpQBdRoaKH1FJvLdYjSuRiAwBMiXhJYq4o4KoDN1jVw43lGnyivzLr7MqVQpBS7utlypZGnQe81lLoX0t/LzDDtAfRbFeKlyRZWbe90Pio6phyY83eemIW0+4qFQ9PqDwnbqegh08RIcoablY0OMRWzo5lgL+hlgUNJoCaC5aUQLVcvM5LaDR3FRz9dwkVSDKiVXfECgwLyROTZ9RChTRhlAUc8MKXAa3cFX1clShV84qZqVcrdRBugq9QauIobXWh/wB4hequ9HEDaW1hllqOAECyOFkagsEvri9VqOYZylgBFbuGLdOOOIJyMvUOQU7eoEtV8CQZrbguCaM5ZpaNhvqWBVqvB1MEHHwS9Bg0y7oqnMuttL0zIAhXf7iJTq8WTcF06qJAqBuNgLVJ4CZ0vNVdS3irAmszBQNFpjnviBgtenHB/uI1Bpxy+ootwby+Xt9QW1sRSsuVx+I7ZbOeK4hoMK9aj5w3iogDV8Y38wA2zmncb39CQ3Vl45mzQ5am3gxZBSZNUzLZrVMBcpiDAVG+oRlL8mMx5LxINUrYxcaegkO0w+PwlyfO7gFMjYYRFOo6hfc3FfKoMEuIdETPhCzUAE8JVAyhUZOpQiaW4IAmijZpia3F2C29ol33GyQPaKi0XiAIXhQqA7uKbPGalGMswqVPOpgf+D+YafR8RCdA+BVlI7LMJUMoVmgVX5xVq01di+wvmuajSwzXuyCHaGrzBM42hcqAfQQZHcz20X9ROM8u4VXG9H4jNVLiHARp8kHF1RAOgME3cWtBxfcGkToH8WVxB1AB8ERc2XzjiVQa1WEtm/mmWPA0+k2tydYmMWaXFZJq9B01/PLGy3BzFlQpWKlHBY3UsAaoc+ZkFjnuHClF6d2sLCCHxNpFHlOCi+CtTFwA0g7LOquIrZrdTQoZ68TwBBaL16c9mqpjOmKciGq40ttYjeRU1jcUsJ6lKVAJqoNMXjiWEOshMAKfTMwF2zEyp29wVg0b9wMGDUsAWrq4G90XglhMs5riKYUvafiNFUgvDAOBU8xctCNQpCFdvMRMW8QZfDMClMWXTFFWnfqZOeMQ/sUFN1EBtgMHcvq9l6GNisHXUaMlBgLgGB3iosZYrEvAwTBXNd1KKVMSkQEfBz4gVro/EuNj1A2q1fMJdFwZKjcVb3dSgaNfUG2v5TBDVF+I2cF/GoZc2d2zBao5rcrjY5hoocrjQKtHULFg0cxIbfCIN2FZPBPBGgbtRIVXyZuWC1TDVLF2wAeLcupGigG/ARBSoVluFI62ptfmJeAjDX9SlLhogQ8AF+bgBwHWamSYLxaY/oSqyYb0SqODnMNrDWbHEtBRXXiBQBc4b0wHArq5iBTDsIFeWlzKuEu+ZQPDqY0Lw/r9+JwcG0VBpv1FWxl1TGmDk5dSxxg4XiVNg3XG4GADzZMCjVO+5ZhMfuYBWzSwaH4IOVpjuW3mhrmaCiz8xDdgm2OoE8Cuty6VCzvuFhwHBFXPmgltraV6mBW/N6mCMC5YLwdniNClxWcQM4fKVMNLxUSWWjVRxCVuC250JYayNNwWacUdICrdXXmCItfqDWQB2kLhdbyPMyugF5f6ihlVthUfi7jKHEOYUcPKBVg+vqLXMCrc4jk+DGAiTpnZWpapIGDlV1BxhnOYRNmpfC6nNWg+jBFRzMhQZMZHV4cMfxlk+YXBBtLTS+ExHkTQ0HlWnw9xRyobU0EX0Tgo0OweQ233CLwS9JEHJ16gnRI4ud4b8u4ilaxhBw0F6JYLnPFeNTJhxo8TQWp3QQEph22xDiisWRVhNWu+4DCw3DAchCg2ppTmWCNBhL3HRoK/CNajN97mpsugjQBd1nERsrRjzCsWqHiXQoOc2amzY363G+JNGIlVprmtQoQHODcVoUz+JVKHbErIdnG4c8AGeZbdBdOHqXaPsgbOKuiI6C6gTA7+5gXC+ojNlGItoAfJMF0QwDlu8ESjmzMsGmtwygOcDcoVWPNy1TVq6D2stFLkFaFqPqWISGQ/CEnPgqqhqgIdMw0l1kXzwQwEFjPHupr4VJkfO4jp4VhiIIBaRpbHTM1wQwWG6wVBx4BzzEYUnOIZcUemIQ4L5hBUOtP8QgyZ1iayLQ4mxZRxCrL0cVBU0cHXEZTeF3KgBafiBw1kxFT7dRRAhirSM2NDVQGy2xNFt1aD9z0Ecjx/Uxlq9NE2BusZi5kmlroZsyw0+IfYBFAQrVKWub4mQA5HBBMDN0Hc1tB0kU2GeqibLQ+oCOwafEaoaeqiPmgAGUDb4laABPBYaryPMVqGzOkKY/5qCsCtYoiMqWV9xQYVGiMwqzdJqWJfAQvRYhWCtCGkdJ6lEmujnqInA8U4/X+xDtnw2m/0qPGJxAng3FQGhKglnFP4m16vu0flYH3uJa8L9Rh/uhPB5VXWoe2Up1NKVrF43Fc3rFHKoBWmqdwS1xXmV5WW8WVKPbghQ3ZQDHFy6B5nIwb6aYQ1sXa/gSu/UzKChkmqcZVrzDo1deDC0ocqvCQ2gaIsBHg0CYLmWcZepKRhB4gO5SUYpgwagyUp5i7GAHi8or/FvNMKnbOfGEHERvZOx+4XTPFy+ADbCB+ZkFDnnqXRMmw8Eaqql86mQtT4qKjKeoHUPGTc0OEaqvEDjUMG9QA22U6i3SmcX/MzemseIOmqS9kBoGgwGmCqUVfErIoK1Z+pnJeDg4g64OL4gwyr36ipbNl1CcCvBKRLsAhh06XuBfPmBQgHCiA3wPipgyaM75l1C1HzBQvAu0mFi3+JiWiHyBquMVMLEtTAMFwtxmKlS3vQSleAxmIuA1rxBSl2c1L9nzMJhuxiDm74PUf0CsPjBUzl3ACVVZgrLQ4IgBY/iEosO3xTsmq3Dp6KGv8AVLSwhULa8MvVAat9+IzMmj9/EvsOC12o8wuFWuqmDcd+L8RqobBdQQLsnDUG7J1lhRptXYmci3yEwLLd4vmaLSwtKgsbSFEaTxMAWxtqDyJwEgstNKfETFGq1wSmgSxq6iEVWy2Wt4inMDuaFGL/AOTS7QBDCJZ+IdY3XdS9qSGP+gOq/qURlSuVD+blfLgx+Lcs1gGqzdxr9ZjleHxqJAH3JCj5AqVXASibjRSZ2MECyinLiljZwiI1NiwoLWAUHbgmQks1TiCscPUWgbHUuYIgN6v94nHlrDT2byFUcMDcesEvi7txcr3MDvJyWj5UEe4c0V7IFj+xli8011Mi2ccEJmX1OIHypmLk0O5trQbFmc9y/wCH3cgWyVh01W2bKKh8947XgJZJJZ3INAct/MrFMLEMGyUOALw3DlKiKBauFFZcFnw9oRnbBOpBrNgYIzA+VIEfCiGFiXzcsQsalUznhLD0FN9uYkVEFgIl7BWu4rhKgYR3Y6bs6iOCzvkzbJVDdHmpqFXXASuvEFET3ThWwALOaRQFrPIsQoGE7gLNAxBeLdL3crTtBQHaKB4C6l5Q3rBHXQvxMdzOrDg1Cb6wwUJNy6s/KuV7YCHUTUtMuUzjRNQAx0ZZgXL4vc3+0LBx94q84OwlegZphFHoEzT0N9RMnw7gyorr6joO2uOYXQVgWYxEqrpO4m6tMfcWrVblNWQ8QSYXDZBuqveWc1fA1G6arseo1LTL6mSOnFkb+zSRCDj5gpbFxAZYWutQyIHnE5YKiMzHWIDQcm3nxEd/xxDszK5u9o1uikMtzA4yOLiBGqvXLcKtrTu+IDISoLDRaYDiYBwo4I3JseIc1HgRDbusYIlyPErBVq6IMBAXefxLqmNnmCNKx1qaUAVkMLPwOYnddcuCOjldM9zGo/bWRaID2PHEBxDKp+0EWC6R49Q1s4Ey3Lhts1pJREaFqR3cNFW88hrtgZJcuA+ILuQLjXqDeaawH8y2cV2GpYkCua/uZVZooxRczRg4a1AvtQ5JSgoNVjggKNrQcQyqTzmUIh4E0Eq8IzIs/P8AEaFmOaODB5a+YZ+uUrAspvY1KPSy+qUg2m8GdGGLsLXNEyZiG+dAHjBC8flUhfQZfolIGbIVBKwGirY7xL+5NmrM/AmfBDdBwhLJWqUl98TC3vJwk7L+GJQ7YxQ8hkEJaRSY3hXhmriWOTl1SNgo7Z7jsn3a7RRAyRaxaGdozplaxHOXSFP8Hul+i6QNJ4IhhbENujbTfiGTS+HqPIE9I2QVjnBmqxClrrhgIaM0DqDj/K3dOjZELuOl9BCN3C6boOSziWROThy3CsHXdOYg4DeIKQhYG7znMqaqWkYO9HCPiWhHs1k8ReEJDOwzwDXioZ2BHbYrQMMLWS44Mzknbe1IRohi8VQbCkKZTizqLTSgIcIreQnBflRa0dAUbMMOn8TAA13A53kid/D1e6VX08MD96NUWbFKq+UZapbSTwRTiJWA+HRDfFgvBGuEou3cELq+ggLacFWxQXYFYLnQN1jEuAGm5gxV1nGo2cDg9S1L54riCwLU3cYCxEui5hUDZeYaDttiVNb1e5fkns3EtYvN0NQnYSwvcRedddR2pdV1M7Gc8xcULVdalNGr8yjOCo7y3xEUUKG8cwXlA1EyTCFbphqu50Lqo6quZ0YDGZhdY6hKVx2iiree5au/io6L/EANFnzCxkQ4xqFjx5qChdJjklAXZg8xoOQaxUpDXuBbgK73BR5HPcsvN914g0jJBORfUC3fbG5XQWHONQlmF1ywSk05z1AatoOL4lCriPEpsNcjmEKowTTp9QaW1tuFw0m/Euu5wR5huRpHKoSXhcP8S01dPiXwIcf1EGo1KX+IOEUHrP3Uugi7ZwOyXamGA6lk+4eG2LBdOcShSVjeMEKFAhghwG3bqCISw8NzJyU3i95WwXX7+ZaxwaPUwNlxjUtaB9dRdZseI0Lu/wAS4IwxgBbFZtXQTBIbT4lIAGoGTBmDhY+HmuQFLTOerhqQWTaij0ZXUGlUc3zNHtacCk58RKKFriqVnzuy4RRGFKq7qL2cNRzz3X8gAT46l2Ej88TkEoUU5IEolE0EMqDnjiVeQKUvCAQGsRVBMiy7fxKOxBpbSk1/ElxKs1VCh0Vx5j/otp3lQPxFGip2VLIci67lnMC3HiKRw6qYgo6JLxiABNoPmKEa5cVKCNCpfBib68Ko1/5AlFcrqYRq3qLQojyEMaDyR6KU88SlZdgiiP6N+YLCHuoKw0TSOXTcxaF7MQ+LOczkt3XePiXOT5eJYXBvvfiC6GDx/vUS1z/UXhjxzNIoe2ESxpRjqYvmoJ1ZXA1q46VT1UFLLPgqYl4HV7/5EtZxx+IgqUUosZcm8M34ibq1dhEG0PUG6QctainDSVzEB05XAMlcfUBVdrCXYrSXerU2Z+iKJmrrcc4DVYtgtKlFXqWi0LZfEV4u85DiLCKg0wGqoXN5iCYoGHiVwxZjMcNjuC8BXPuXuOXL3AxbKYqDZoP3LtxWDvcHvZu25o0HU2DWNdEF3WK6lBLYxuabwYqqiQqktnMFqivUrWFoRLVGJQZNrqBUUHkbmSchK+pbNDvgl1Ra8DqCBbAxUVpxRMHfOMSoGeSRyI567hwxjdykVgailCzXN+KV1szEV6x3KMkANr/LiMmSnUFyCAUQNPUvapQHmWyzrQ/3BpSKgUq5nLUytq8xU1T0VqPFV6VEUHPRqHHF2nqFdkY04IQS3PrUGauPDHsMaSHk81LMpM24llLrXUEaxfvcbYTQSZcIyQUPJczAX2C/u41ihWK0+pbWg5xKFvyS8VhdYYp1bRpYgrNA1UJbIFo4IxaxeQNHShmhus1LWGujUb4O9jC2rHTBI0xFPF+CIkvHBRuBwGTkhYKKNkSrdLz4ngQa4lLpC766iE3yvolA4Ol8RCwgMLF9EFVPB3uFGbHgJUZFrGIp4HjhEHYb1Woxm/UsgDDtjRao88QGQYCg4gKtwnWo2lWb7moWG8Z1Lhr4Uyh1S+v1LJgSttQy0WG7gOjNVdYhyM0dVUYAwq6/uZAUU8xShWVTNSF1LRwKZKgseTm4ptZwa3FZoYqqmxYrvwsAOTXEugOr33BRwUdwXQZGvH+/iZNVhKBFbLQfiVoD7hdhdDK11OAvqYzQPLC6aLzXEAKL5MpSIYQJ1M4jQ4ba1ULdjb1/E2KtvUFUC/NYlBQU2ldRtsLy3uG+gepeDrxWoJjV50RNO9DLU758TBAaqr7g5t1VY6hXCjgZQ0G/4hBoJzuW9D6RWay85mAy0XtlChab73LW5wGWNE78QpYBjjMZLlX+Jh0FHEITD7GoQ0MdOJQq+HD0i6qDnEVYotkJTwGGJcFxpYBBQS+8wbrNrsYYpAEFrB6dRhWBi2zzXqPCbNqfPMpRDJWqrVxAK5V7/wCRE22W0xr1KgyYyaepiyGNqnMAtgvBUroDVXELMgGiIcUt/ibAohiyFbqrXHEUjAe0gC3bDFMFat7xLsO6oZ1EreZYtmg+II2Yq+tylWfuoCtFZzmcg30O7izOmHQtrn6iiRNFpcJSInZdOSALQ3shVUrbmOp+TQQLxwfFIUL9AACeCW977SC1tFtFbiYCF0HcsAqvIRaXXhJVKaGojJb64mXM3TJWc1V3qWC5D6AfuC1yzzBb4CtV1jQClVEtWvm/ETBvXAg8wtOuDzbZwbmFw63igW2vd/WAupF7QDl9fxARXNaMBMJLVQoH4li6NMeJqZtUa18EfrazbEuwJkjooWXdDY1ydQUql19SxaRERfAC2Rpw+EVB4Vc81D2Kq0LMMAW7dXDWBQmPEoza+hUq0p5xqcwf4jkt/IhbeGuZRP58xlhVVmZOHxcWqFAucYlyr3i01GFzrmKgLcHMWqXO/USsCDrUarZC9SyylAzbERQNdkCFavqZpy1eS4grNYaY8piijxBZbY8FQMYPEGbrjniGQI7TA2Y97l9gVBYuC++JaoT8suafBhQZldDzMFb5vUJW3XmDoaacVKEp4MXKGC7eiIZLvjGJTsxbTWtSqcN9DqNLts4qBblxMYivJYM4hGyymaalqn5DiYoXZeQivIromgWApzVy4wA2ELVhTQ+os6BxzDC5fUxUFqEZxmagXTnEVlkO+JlteOtf7/kdXKHPUZQT0JAN75rXEwtNejqVtTBiqiTqpREV4IjTRwNH9wxnpEhoJac2mlHxi8LZ1r3caKXStv54IKuUrYGL5mLYbml7fiUuQ2p9Dhi7E8XzNrVKwUagosqNeYFNVTmA4zBM27hfBa0aiI1T4mcBa4gNoIwKRa9e4XrB5q4E2FvF8xSGj5iqyWt+Ygx9JtSBGwapW8VGgCZfs3d8VD0R1CNsMVUM0fLVYA3CjsJYuBQbJlVBHJ/afUrqkBxRuLnJ4F4la1flijN4XLgopWscZXG1SA2HHxN4JY8eIxuGMKKw2VXXENzgFFVN5noaD42fqBYLW5uAHGvifK+G5hgI+Mv5BGR4ZnoB6CviFzpAfgqlVzqzDNLhE02rVDSVlCOoyC00vlYwxYkZpC3WNsEHgPOogbiaCW+FIYGg5KcbS6t1UXLCcQpEHI3NNJiV1vmmX2qeggqKGjWGzwiV8sWFFRhFv4tX5lJjRk0xejxGqBlv3qYbwXCJdlVZepa1bGEb0wVj/YgFKncqxeVYJg4DBjM8xvZW/wDfxMpWaqglIMHpZosK4hsttDRjUDPBKC5lRVcCOAPGq3LymecZgJd/NSlvjm13EEoqt9xG753UXiMp1qGEA73wyiNWfEOUL8xwK691KDAb88S2DOeiKtYWalkyfEbgqZeuOpngwtFcwCLDUAhSeA1DV2Urjcrs/bEyEXAo7eITaLzAWcHAcSgaYxRXMDniqJy6q8S3BbvFzW/zeobvIvFJikmNFQo5dVFeA3WIJmy2cQAgQazX4maq8drG1QpxZAvk3GagXG3iYpbV4YFDQ7uFARLOcRVlCxqpQJQzzK9lcyghr1KpUDeRxCEFjLqnB/mohs5XNnl/iLAbljZ9f1EDwS3r+JmCRX8X1Hi+OwPNw4Zgwq68TFIKy+DGtMAtcK8zOOWLeiUt2reOJTxAcObZTFNrz4gFCvDcQoR6xqcylOQmxq5lGKH6IwaNKpZZQELpDEATVHlG1HihxLGiueiXsOXS7mEaeFeYb+/Dg/35iBmRWuE4WQcHUVSgEFIgMcqEFWhUCwvbsMU0Zm2vqDq1q1hej6gH5CYMG7IObXX1tJH1K+Kw5agiPpSVLSgbyTQvDTO2cSqEyy+xNAyuLeJf9mxYW3CxediMQbkQo0PWvNuG8+LBdC1KnM7ah5PiWNMbdFRSqo04IWc0GWXNDQxXqB04wdolirtHV7S6C66HZ7I3Y5a2UeDI+TiVcGT5o5u3RhHuNNWHLBLx3hGLYLbZmGNq4ZbvT5bB6mDtgw9QUjQQzQaauR8KnxGWOtiErn76AJDHcG0UXQyGjosFYxB0Zus0wWAlYtUBtVFBxmVHCM4AnYOHZCAGB9rgCmTyWdkWBdVkrcyVAeSoCsAWfEWqBrGZWTB4iVsYZKnK9d1r1EXE/qKKHTwQUxbycS8AcDimJausLx1GhZ5b1MuxMV7iFVVXfEdcxcyqy/cHKDgcFXBfaJ1AKF24I9AnbW46ir4IjSC0o1UuHFeYlolsstTFYLgCrFvURLbYmAxc50YMep9nlZhQiXr+Jfdb0AwoYXxaQtZseCVKuh5ajaLPdSlM0CUZj0TLuo8BHxL0VnOJtFfKQ4oPEcApzzN0N3ZhiLYUA1/yYFQpKADl0QAlhvVxyrHfBMNobwqWtIe6JtQawdzgRqssyWBgllAVrSSjbm/UTZVQyUw5mGfzWpSUUhxniXFGhrFw0yVyweRk7hSqDfo6jVyleZuaGRUcB/f8S4W5lq69RMgooRgax8Si0CwaWAyP7UcVKJF8S223qN9InY1qtRpRQ9XAaAWqyVqYGFP5+IFs0dvEVpYmy9TMcJyZqFl3XiUNtiMYR2NlqyHUMhbcZ8Sg6rO7lKCEqDg3xVQBugHOdQjC7HglcLtcVHkVVQTpMj54YcdwIRonQcF4hhDOWCsYh044nMZa9x3i/N6hrgITDV4fX4mGsRKCwjaVjw1NiuBCAUOBRxOxVO8TkG01ErRar3imraeH4jT/ADmfw8PAoxDG3vVqtKMOUXzFIrRbBB4R3LuL5Ds1D2mW1FtoFZc6gigOUCJhdmFZxCMBTeICLsvmEWUHp0OL7B4l1jmADimZy7mGwUeJfY5cgRQpjr55VEcXQ4Jbldyr+pmnweSNoTAoTxW9+iBSQjYAo4oGGNJfevxw+4O5KevZcD3S1plLHJMs7g9PKByOWgC3mBQrxuCrMMdbmX0DEoFq6olm2awSg3S5nAKXG9RQFVMe4XkDCACyrRaciQsmNF02QoUVWXxU2zeTAcx1jWcE1RT0XGxi/NajtePFstotPglVrZ41AtbGw3G7BY+GoOKIlvPEIVToDuFSlEclsLBw0EyjgfcM4w+ZU8uLlU4uq7zHBk1zLwZDo6lAU2ceZY1u8ZMQ01E8HEDdM05om508nUyKKVLqt2wXAqWmOK3PIWfiWAy4bqCecNAS1rs6xA1bguFBwr7iEsa2Jol2Kc1tY0vEDuB1oojlM7cG4rbQ9rFQunQwRg3TVVF6Q0rcRNr5ziBusvrmVcA8mpYbyNNuoJa+HuWaK+VeJWLcPUCqhgwhKZSVnFt+B/MxsEDIFRYolw08eISUGgUqpZknSxa+4PBBvxghqrCl+/tL4J6X6a1/5AcKrJs7vxCjim+Nk5o2rQbnhG+wgLzpuKs1rzWJeFFK7zLt2Ao6QUEunIRhyjxUFVbmK3kK4iQwP4qIJJTV8wsDVIlt6cRS6KfZE2BW8R4ia0Rw2cOcwb0aNRxatY73LF0DWP8Af6o1LaOQOoCVCtcwKcB4Q0uqfuDgVrRKy08EVBdHKxzGAcIRmmDprcLpZdOCGwl1fBiZNpdugqogHGOdy5oNFtywA78/7/ESck4ahtqfO5ld3rDKeBB0pmCyD4Zgvu8YWkx8RtIqqrKWtpo91KF2ouAisMtPxFa8hoxGs1LvDLszVaItZwt9RFKwPKX2VnqJoKFe5gqygpXEbpz6I7BnWU4jb59LuPGlNOIZYcKbgopzmrhQNLx1KpdXxKhSVWjFeYAQCqOXUVVTF4iDUvRlWcYNpOAxWLdzIIHTcvyHjuNmbC6u8SwCVwVCy3lezNy6u/Co7BAVCQE+IawY5zOSc8wbDa7f9qArs6ZZ3dGv/JdTevP4mKGbqVKHPrUvxnqGG0FNBKUSOsRAs64I7KXM0FNaA1KtxdX9xAVoaiBdFhgfGBgVqpbcy2wX2m0Jz1NDBwyxbUvb/vUaoQtW3EUPShYgBTpxRG660YltaFxjEVEyVmooWHXBqC1WAbubolgsFYgC2yrqq1BmD4h2kXurHG1JVi50B/uEX2i8TpuIM1yuHD+IOQEZaLqiUpi4be01VVW9eY1fFhU4/iZFCz53jEEbtKXBAtA0uKIogAoOeZlKKrnEHhJqMVyQzks7zBuLOMPUEwKM4HiWOUHkQcI3XFEvhy9xSBWs1FSC2B9QpPiKYHB6ibCkiqApoNnEMhaunqNzgPg1MmVKw1FwOWOtwaiw8oGubfhNLtbhepRgvuW2HDBKFBMaO5YcqTggBBXgVL078422aKMGLZUF8Ya3/v4hm8CkcF0hp9yjbVJJ2BQ8pUPFWztyEXMay/HPfbRBhW++Rw/pzqxNxMQ5GcVCp8KqKWqKckKEDTyovNPWbgYxNYbs1MJajfiFOwp5muGtQxMVprk/34i5MgucymcKdw2HdEFXnNaOIvdNQljkBuo4Ko9vEEXboZKuArCm8ZgtmrnOI3hRmGQldwp9XwymacDGIAo2XkTqD+OXtgKtrWiBQT4F/j/bmnb9QtKAVYXNVWDI8SwM2Ky3NODuNGUqqplfbi9GKmZfGgnKzL4mKwC/mbKGjRe4K0a8jUMleC4BrKMasC/iPlWOpgFS44dS4V6DiADAGMcxxkJpiUmaQ1ib5aHGb+pYDct5bg3yDuoDukax5lAAcM13BChC74NwvI44RZtgOA/iJQo8xJYx75gUotdYf1EVwVzGlGVvKuIpRZecWQAoXEB7eZhfl0M4BVtjOINVfUqNq+1hRQLdTJqiitagstcGCpsI0DuAJpHY09n+YlAqqbS7xtIlb7Tb79VEVbkHv9P/ACctDQ1LggbJl+Jgupt1zR4IHQAAWT1NHKYcvx9RWUBg08QfA4xBvGDOCtS3QLwajnWMcGpQi8epdAKC+GFgF2HDxBNECs4nozzceA5wXKLBZBmlqXbUvOWDoBfRN6UGtwYSAGlil6cjEBWSuqJdq59bg4033LdA+SbRTVlcQG3OUeCgwMZApS6wZlHu7/0vRXg3UHdYpXpdJkc2wEZFBS8ZFnBluYBxU5WmATgNo20amCVlBmimT0JX4ASoF2SvOcMjkjWJOe1ioKg2MT/SnIDbWLVWhpaqXIUvVmrog5FGaomxv4dNDCLoAoCAEwT9rLsQKrFcQ5VUdLiwNd0BzzMxSgp+fErqjpLqaBot/wB9RVZQ8RNjIL3LoR7QYpAc2TQNDYVETgJxe4r2Ci2tQGHTxDTZRR4lZEZ96g0VSPBWoqW7uu9ynAAdRaoy7xqJTnlxcRFRqVOdsvcFuqXuUXQ03Tco4pTlAtrUbK3fgYCm844mDHHGpYjkbzEcEimIaAU4W1A1QW+5RLOeIizR7rcEXom5Y22HIgkC1s3UytUt75/38TAC+bZhnpgrUG1jWiBDAx+4G+CQPI7rDWYWKsd4nAVdNzIq62b1BtY5qYZVVgKnKkGwFIYGbnXg4ioRVd9Qvgq9Y0Q5trGWUpWXUNgMVkhQ5DwVKS2q6XqBVgy6GFAHJ0lZ4N9VLJaE/UbzdI7xqUVh1UVAd0ZlHYU+YogIKxuYC8vdzYBA29kcqBVfUrLeFSoKBTTVSxW7ztllrA5eoBqVJx2J+aiEArU+isRjDbZo/wB4gFFK1Cv+EHWcB+ohQCXQ2HcBEptd7mLTEF3F+fHzG5gbMo9RY0V7hiwS3uZnGw4hYYuElDC26qFnCt+oDNB6IFDox9QVDq8Uzjv10S2ildLDBIX1NmPFqWlKi51YRVYo3qU5OcZzFpwobZoxk3bHS1fJC1Pn4lC6JnTO44x1AwjFZO5sb9zMq373E7PVjkaBm1U13DQWhZIDgMAaK6WKqRt8QGo7VNQaArRj2QfNczOy0K3g1zpWZ6GZ3QBhCsXEaBBoRq0Bf3OJe6/qx8MosWh+ZbI+RI9V8YgaAYeqgWcofdUvlcvihK93kELNeIEuNDslqCPIiYNuGeoaxS13O2sx5YrgMpSUC+V0c3LCaCgcf1F2kGBlqrqjcACoavkCYRm5wBouovFuvmaNSG/JVljjGMQ81IMSUJyfHFyzOQO61LtZo8xMu6vUvZi8B3BLJR5cS1NXm8biMERsB1GNFA3rmCps+MxaoHB0TC5x3jcoFR1xoiHwGupeUTdRcLxjzTyRdAL6hcCEuvUbMFDR5lNqtYcRRYoOCItqa1TMbFWl9RbgNXRiKYBrKoDO8YKjm8niWZHtY1SOOAilCrKMLFlWo45grKLVi4uA0F/cx5O3iCIFuNHEcW0U7JnAE7bqB0TuNLkqsVDYlOyaKoNXUvRY8/xBE2/cHJxnxAMFB6gmIhjLK5Wy3RxB12eJZFnxcQu7ayEA5N1s4lNFxHF5uMMU6NvRAUC67XiVhCgrUE2LDB4lLA4bxODVaK3Be8DUottxtZYXRxUQKEVWCAy2FGKojn1BlIGwWfj45hg3Zax9Z4leAGzONa/UvmxHAr9sBy7ZbK45YCwatD59TOcC7sHqCbLOQr2uVZY/LuXA1isZhwZPllmmq08QVgqijEpAuTnuCYyV6ih2N16lDVDpgVq77IHdPTzLzrHUAufipYsS1IRgp8OJQVRfMdlxOVZnNNDWoSN/JE2eOOiXOVW8MoKLMwdBfVuJYcDoimro4JsrTqcqxzfE3yW3s4gUoOMBmVbO3FRdqctOJYzdZL1E6sgRN7BAS+rZZimlalp4bHDAQYqyVAgMrd2fcQlzvp1Ba6a5oj3VOyErSpyuueoBHXVqOileDoqxuI9odoLPoFvIW+TWWVqvbB9aowBXQsto1BYBUeCCAY5qCLcxRKXlNDnMWqWt2IHULkZECaeLp3AuY4QushSqQwXGqn9tcP4cS5Zi+EbUHOkK5ohT6lLKVCNALNt7igLVYKll4zzdTGJf6wxEV+Yu93VFxtd0kAGLa5lOy+a5liloOupfFNg/74gGgUxTEqqpGniOeKwujNEoBVejUKLFzmsajaatpom5kaO4lr29TXCscBLaZEoTSuLiAUha3ZHKF2+oi2hfXE71kozqKFitd6IUcVrrUXIQB3nRKzVw7jaxlyiDQKcYJaDCautQAUxnDNNAK7yQMbuK26DGAIDYXdGJagVn7lWGqRg6mDeL+4rty46jpsaK1G8oQHmVBFXai/UoOH/bisse2BWWq8ZY4CkclYiuHxLMfPW5T/ifqXLAI9altYLGleArrcxr6JFbsarCcTeGfN6g3gmNEEHDea1MklcrSUVt+BZga22uqOT/ALFNq+kPG9/UIELMGmOBCwf0fHiCEOyufF5jLpM28BMmCtHQajQqFyRHJvD4iq2AP+4gMVl8yxCk8M5iUOqmniuorWzwhUVZLCH/AJCDItMWbllYQxiXe0OP8SwbRW0uckQo1cUYUaKIU7FrSMs3qthiXkqryTDkeF5m/wD2XN/QZgjC75p1GhRT1BTjfvFQNchr3LAA45nqJBc1vto/CMdtFyiwql4VkyRCtx8lQNh7LiJ6sWTwBawMMZl/LaYi1qoEsa2yz/Rahqg3wINIag6+sQQgGh0ABM1Vi0iQKZKXFwgUWKwFbOUGiZM1L6wSBqdKyRDhrMzRsXKr5lq8RcQAEE8Wq2G7zqEgTzWKfGaB2ZqYFSaHa2q6oiKEjTrmX8hlNQ9Es3xFf1wuiBx70XgldWAbBzYpc0W5jSLyFCGmJvNtKHN223RuoqGfgxuhIrISnw/lLkVOrps3uiENVCtKrMXTi9rlAWbcHiPQquIW4peKjCrl6I6V4S0SGQJXwg5sy3iJeVq9LBswJw9TvZff+/xDOUWm2C0j7qWCrN9mowWz+JbajlREBB25azCkKwOiNYGVZt1KktuA8R5DN34hVyrL7lgpBHi/3Adhw8RdaOI7NlEWVWHmOESDeYFlqTqYbpGamhTrSQvG5eo2BA9R5qhWupYs3qDy60kAOTJlF0ZqggYW6L4NRZcK4vmDbaK/UodhXEyvBXmflS6ACiqDcopWzdRgtmdVHeHgpZhgMeOJlFx71Fz13c5w21UZWtOeSAVYF3k5l20ns6lIW06SK1LY5ffE6OEQFFVUtV0HqGNgPLEFFXNeLfxChvgyRjEuCnMBK3QUz2qeJRQyemu2PyrtRPqaoqkLqDVjWsQYShZWoUmkFAcXhxBdCC6mBaI9JLDQeogMYca4mNuQNQcl0djNG8vDqF0Ch7gLa05SOq9OrljC03iaEAL1uOgK+JdbvxClxTCmh1bFOle7lUMX3LBVPHUxAUe7xUaUsgLNFerqWBpVZzUEMJ5C7iNFVXY4ildrrHNQL6WnKE9WlGROpXFFnc5uy22KpjpQ1Ms/SifRBNx5C2cFLTQEi1m7WJ7XlnMW7P8Abi8A4XTA4V7r/eoOFUtZCUtW13GoBGzMsNNGs0b/AKjQDaOjKCmsFFy1Elbqca4wEobE9dTgFfUABwMs7wTMBAM6z1lxK4TP26R2C6RyJLyDMTlDMhefDFysYsvpLXtwYgLacXiXnv4/UsNjDUcEsv1Gk0UVVBEGxxlEGygG8QeCVvErftetTMior7g7Aj3bqCmhW7iy4clzJbT0IpGgowwcihtzzKljjZU7B4qZBZL1mUpqmOpRhgea5liATNVeS+GC1eBgTcvJzZkuNptXNMQhEtuo1q8ncEl0N5JoFI3khreF73EuhcYJsLq+uoQQfJUFbFoE0gLXdbgMDF8EsXx5qUC3f8CCDp+TAMXdvUODgvJKUXBre5Y5S4caFEXNiMHUo8h5DcGqi1jSbRg0Rysq+b1KC9DxB4WPCA0CijrX/YhWLOiWVdNHUaXTmO2aI6LrxRuEgoMcwJeoANb80cxsoNto8PMbJ4dFV3E8ltN1cSpYRoyQg1cn7SKHoZOGKjJR+jOqiCRZeKhoNGskcFQHUTfSJipbIg6qU5F41FGCzN0Ylnt5rUOl/wBSlwOc/wASkNFVjMzUZ9kEnCjpltor4ZTbRe2FBsPF7j7D4mGESCdiVvcs2VVaqaK+BcLXJXFOotUCs88y6xl7WRUUYNYhO0B7GIbRehYCwaN2yuiOOKTY9rApzlXqVKSKwYgXbtVVHmES8ETVV4axHIYPnmV5qxY8HqGnKE7efMQhkcB/yUCw5YFMeoZbhYNiDk1TL2lWYzmWL/GIsN4s4mFRvh1MhQB3iDaaRvFGSHI4gKCjpldgMbEtvDNJTC6du1TlnkxRzDDtALct4xLDa5uh6iK+CAMFeHiKci82IpTRl6lhxYvvxKuq47dQhxOKp1MOLq/xCqFfioDGDy4gFVGuI3GwVrEFDpumNBtxmWgXeGCqiUxfOpXJE8RqgaG7b4hsXfFzElGkSuLY0cnlu5ShCqyQpLZdcOp0lG23iKYUrHBueCklSza1b3MD1mdT4IjhTFxV0VisXLCID4CBpodwU4wg8ambCpd/xb1KZcXogo2KOtTBVFUoHluoNyIG0mlNX+IgoHXnEWg06qLSjU2yB6ghtXBdVGwqrOi5dNq+biKrdDykSsiq98R2NYR1RgOo1XBA7uOZvdrxMy4sV2yYyJVPx15g7AcBzXdy/dJQ4vzEmiMpP5lguDDfEBag42c9JS81Q9vUDkRsDk/34lYqtwEKax1KUQISqdYfEyKu38R0BzbxDRtS85iNMsN2v0Ilti6ccSjChZWD8fqWjJ5ZsUdY4iNjVuBg5UCUuwYr9uIEze+VxMIUBwQAlwHcxIXjcLbbyqpdjLS2nMwcN5wRcC83jiJUIrsZJgXjuIMCBrg+QFrTiCzA6bW6AqB4YiiVmYJecYzMgv2Q08jJeJm+XrRKaYVs5mNWjP8AiFRdU9XFN1RhTX3Lgdh4jkS3i+pk8lWslU4/k3BtBWcTIFp8R4RizTDL0FDnWJYF1XDE2WqGEjTDTCItg09QLT7LPCt4huFrFOJqrs8eZk2CgwVBKb31madqNY7ldngS7hkWITdY8RARFrVh/v8AMxbU8zEovzzKQpFfiNqcG6dx8n4rBHIEMZaghqqMLoiDoxrxF7pfdXMW1YLjMclNY6lWPCzOMhHarx4lKW18EM9Y5HUc3Lg3cCgB5gDFjioDaW+Ihbt81LVoLq4AMCjWoF4bSlmAqhwT0FXPcAaFnb/YjY8nVS1usuZWHLcV7EQ25fljgUOlgVt+KmSK07hVk9Z1NC8qC1G66ZkDR4lUpA1tdR41vzLWEQUs8ZY4KUXhi9KcFRC8PH8SxunuWFnfmFmYpb8QqzINtS7VTZqWd4z9wCob7mHhQn8R0BTcLpEog2xXO/vzF6kSIB+Eu4ThYoTq5yAKYqo2giMD37uDQVeblOK+YlCVcceULz2TBVRF5HVYixI8oqr+OZRcXV5ItcYdEAUGscyzGM6YXbhDjP8AvES2M+FlUrNcJrJbAKIGOJVeODeo3SwKcThBb92ShQto4TVeYFEB6L+EosJRCxPDnRbcNJ1ZUDFV9BDRbLLP+VQfe0IxxbdKN8x0Yxf4muxd7rcvWWnFw3ZQ9twWOLBcXV/X0S4JLHq11rXTu0AZsSMfqN2l1FrQuOJ+0vFXV8cSkqRHhiI5oazNHpE9ksgWZWuvoSzFo2SsOOSXQUb4FDkzRL0NRiNsrSYeDlqXY2Fq7Eq7xw7jOKuWAaOV4IDZRGVSkYSJYtPdSpcnEmH6thfE59sUYAYGrF0mHDADJNgbRqDT1qrje7UCk1NQl1jJRiXFoH9S4poL4vGYuWK+lwko2XrQh3G2lnwR8BDQMSwImcqbxLtuXVze7YQybo4df7+oQXo0Te7U51U5otmLS3jrUMj8XCFBPvcL5ZsY5MFaq56BfBFpcLzZuZCpc6D1xKAVo5YGc9nmNlbUeCXTdDDzFDGvRzGRLOKYGyqFYGF8A+L5g0G52VuWCIBTnzLvO/HUNLbu1iXlK9RwKCgYshhaWeZSmnkrfuFo053UNlq1MCrCYoI5ViNMxoBVi75uC6uoMPPm4sBXoTUbW0ujmZmkr1/v8QHAN9GoCPBvFkrAKO0gF1nGyBVahUuL7SAipRZAL5VnNQbUXBByc02dw5abrDUc4LeW55jXAR2ugVzvqXaUT3AM2+oqoAhlxE0B49QvyBWMSxoj5qgZKg1YDdV49alg6sK6moQCmTxUExSZ/v7irJmWu5w7OHfUKmhH/WUUKehLpxmwM8y6smeDc6M3/tRyIX3HOAYbOIXWQrsljfjY8zJxT5jhhxFICAPFQLg0axFsKvwFx2fLHe3LFWd6YiKpPtASpLYOtkPyuluNbRFpG+cruWeumqhF48h8wG6Kjwgr4Y0YEBBXRRObZEJv+dt4MXOAcXGKEKt2EvyfuW5Dom4QyUs6aXMDdQdDMgo9Zju8B1ZuDjdY1dpvF/gZYJCJ2xnFj0iZqASgMFEGTrC+cxBZcwihsrauqb4gCOajiyhwBzEHZdZI+1LzQuVdWvLtE5mQQ1SHFAfyQkhjnQgcgoHNIvziiw9qIBvOKzBHEAKDG7soUpWAvCc7WNVaL8yn3C/MUulltSLYxGKDkywLnjR4CIA6ePhsAWe52MMQ3AxxfF+M3yVNLqqyy8J1rUdZkRAoQbNW2csfzbVI2AsF8Qp9SpG4HpNAFmIJfbydshpFAbEbIozaCBDpTmx1HWNvZGoA2xmvqIcGg4I0BcHFuZjJjjUswVVYKliGkeDqIpMZOC6r3LIfl3MUCx2GpnY+cFRL4OixquiVeSVm214AjWVDxhlOS+jUMqABqzcwMi/EOts7OIhqnw4mzgbGJlRBw+YMhpa1cQoa2vxBRk+nUKWrXPmFuuHU1pJ5qBomnFdy/V50TGVQ1sjSzQxEUWvdFRKwuXzGzLQOv+QNmzBzOy9FCxveA5Ea2zi5dEFvxEqw0fcOwC8UTK2VHcsDktUETdk+TUWs50W9fESTty5jbwYe2BmJit6lGwL2kYqLLxqVvAMQzd/EA2pFbXUGVVvki4rG8lQWboxmF1ul1xByr4eJYpar6lKn6ZQq6p1Ub8uMmo6cyDm8R3dAZbwtxMldB6H9QWSyoMU7RHR0pu4zM1tXX/IlR4Ipb2rqVxpXg/CXVdksz5XAWNOaMRGcHFjuMS1sd2zBVd+OI7KF/v3ALD/yFzDmsy1UiBwdTlw7xULgJvuI6FziDS0rysDL8S2eV0kSBFXKaDIA4YXDppdgLsSzYJ4l3lFZUBAyB9yzza+CBnQ7wX7hEZ8SJYv3ySoITYZYOrF+kIgDYPmjdlGLprUC7RoDkfCccJk6DQWTjXhALUvkWoL8HZWYheD0DuPZ33K+uoRS+GuIVG9Y6oJqNlXWrxCNPomaE3dBRvion2acQMBeBHLnONzgK5QF5t+v9/EIcS9fS1BKXn4iTXDah/Ga11DWBQq4ADK+AilW2V8bhXJmYv1j4EVEmrArEamEyCl9JVF9FXsDxFKS1o3Qq15jSqMcj1OSl9dyqsBrBXEbDy0Jaip8q5lBl3XRCJAVTb2aYRyGMAB+CEgC6cEogsp1TVQy3ZemLDAvBiOC2BqquJUUFGM1BxnJ0SzArHW5hRwYL1GlCDzv/MCCUM71C6JOaJhkQjSs8YqKooK8pBQZrKwUL6S8QOWbhLzRRVQQUc1QJFHhVZlxvF6o4h0SmblqA0hQTZkp9SnAAGRAqm1V7lE6P4lNWlvEs45dF6iZzVGPcULAL4XmGVYCIUDXZe4YrW8moruAo1Alrbaq430l05dSwWFCoVBivERQMcEVQtblxRt4TUfYB4gjRAXmKqlVqqiKp/EI5HkioLaOagG7BrM2OPBLWqR6Eqc6OA5gclUamYBswvUVxsatmAKruiWbCVWrqMEGLxmHIMI3fOtx4prGWKsMWbiCaWaITMGPKm5hDTARuju4MA2StlGWQhkMKhsOxgN3OQ6U4q+IKaLqFYbWY8DKPmLS/K4AFUjijUbTBR1EcMQJhZ0qUDVhqzczayd5jKFhjMbCWfqEb0Ta8xW0CnIYhtbr516mGvqtRLdigTMFm3ZkY5daVZQGOQl2jEy8mssvJzy21OCzmKIIBAnHJHjKAvAFiUumNFQEljrSDLUADiOh1bFBzVg4iSRdvLvA5Z2wthD5k6SzyTaljpfEojI9BGaNg7ou4UAW8v6jtUd8nELgc4x3E8+hgwfwG4a1TOqJZLBqspuJG1Dt0ykwKEoDiIpYTmmXo2fEyLA3kYozjOc8Q3Z8B/qZpZlrqVC0fEVdt0WQWhTL7iwKKzwTEKfljmUCfj13Cz+iUmXJLBdCrHqDiDHXUesqW6i3klcxbs58mo3xwMt/iAtNGfuA0yuGtzCK0HFzBYHvzHhyHiOQ3QfcTGgAJQaHEKq7VcBDsVmrmC7w9RR2TVmpSt0Oloq2Gd5lUwo0VeoNqpHzxGoXqNY5GOkoZavBiHNYrgI6xsHMQjq3AMeqBJgoFUHQiOGLy9ypZE8dxjOr65lkU/pLEHnVRporHcLMZFFJarPluWXeL6OJdqIMSqUi2ubJe6wY5ZTaCWO7laz68Slcq9QaypjJUsNL5RspTbxUrnvgitqmqNyzkNutyg2BdbiXQSwHqIwUusRwVezAsxGMe5ZQpPcQYTgodSi2J11HIGr87lCrZrvUwFFO2ZyAB+n8zSkWWrcyjsD4r5iLWVEFfMAXApgqqWVrGWDj4glaIteUcSScP/Jq6+bN9ZjVhC8YStBnwkuiE83KUK12S0CqHhEOFa7rUXlYNZINSnshQBRJYZDGUaMp9amSyrdEE5LwVGVebZL1L0bW8WOolNgfcGZpbpmkh8TFgnAn8wFZD7inO9VzHOj316jzAqurLea3Uvwy6JeogrPCOMR6dSuNpOdxo01fRUsaDb5ySy1d3WMzS1mG4La6q7hu7MHRc1KvsQdib61MGbRyYGdQ3kuqim1HXMtSqseOO4K9BwCohaJ2VmWrbN1AiMa1UNF0ifEVug8N7qCXDXxuIF3Zo/74imAvkP8AblqF2etyy+hmq1NtCeOpYEIwbUMUQvRei83BFGb4lbKocP1CwFtcZgvIPbio6EY0uoNIBdGeqjQs+AxuFujOZ8zJwgBrodSpZZksgXRjO2IICzdQCgUCNB9BeoBeKHFEUVNlbZTwB1Fs2UrxzHks4VqUrw3kgavAnjUsGFpeTcLMhbO9RqMK1mJKSrGL4lmTcFkD74mXF5dQPLdr9Rq0J4ggnBeVl05C0cbmS/shdTDauNtVUBps9mJyWWjRiX5qmWS7vGKdQFlzXEvgs9EyzR7dzORrzOFFqutzBRj3lYGMUKUWRDZnXxHFh7Cy8q1W5lFLOPENDTGqjTI27o1KgV9XEQ9ONz4rt3OrKH1Mm8cTJ5mCUL7hbtoDuyb8VFoAZzxT5gViiqMDo3KgS2XR9+plgesdvPUoHKg5vDChjKDfj1AZQzYbrqUFbHrUOKpPcyDKYwaihq15v/VOgx043jUMl4rxuK6F3slO8iuKY3QXrXcFLaBxWJkXj1NirP8AONSi1Q6vmNRejBjcwTeXqU1v4A5tYXppLMbxK4DkJbEst1rqCPnqBdAcvg6j7x9yg8gyhsssxycShsnseSOGYJTYlVbwdvTqMu1qcHdwUdJYl0Sxs6BlPRGOMnLRtFsXh26Jq91jK9b4AhfEqeRb00WyGfNwZcDXMNtOq/UBylURfhIqgPSze0E6SiqDxF5btleosS2sLqALWX1XLClhmsPUWSBorXplSyFl6gfOmJ4swsRjXgTK9ol64bjNvItHTUaadS9S83iNFgLfJyfmI4cW6NrQGksssqAo2NadXLIA+0poRvkgVg1hRYfKwECKI0mpa4DctYOHKqlgzvUbJsGi42ngvrUbYDbEjRaFM6LtrEqS0oM1lbgcRCmMfUSmRnB6WnyQUqU08YiWzhTe4OxA5pKODcwNZVU4wNllmZZUVnDW35o8rOkry4r9X2geoeLCHRoPCdmuI5BHcl+TES8nCk/bNg0dRVihKzCmrKc438QoNDyjaNHVzYRrPUbHWM0TbaO2AnfGNTB3bUpUGy7iy0H7iXhXiVisFHqFvJegqWwcPd6JagDAxdh3K0Ez3zKElq8RdVozvcyA58LqCOHpZmNLqXkC1OghvRrNOoNAQ6DRCxjJVZhlQq9zoFLyVKwOLgXka3bqAAKebgUFq7wahZaLqAqC5zfEcu7bMHhvu40Fsr1EtGioylteLiYACRSU3mFiu7X1ALxdwWReWeDiHSI1AAQgpGwc0/8AI1EFrQpqC2zNS8ZjfoJbjuJAKdEC4Q4HRcHULoZy1o8dSjlWjwQAXTnqLl0zVPE2AXwwAtQQyE52weqg8DrhxAVwqV4GvbmKPLl4i0L21G0Aex1Lq63LWJkhVe411ZvvUEAaPVTNmiIcBopFG6eYhObJlkPnPVPLfEBeoulrEYwKpxSzKX7gmlbxvbhoQgDmawDY9fhTmMnnkcSgdoBFYa5muvMTBIxWm3pjOuu46QtlSshlQ8kMB5Xb3Cv32cN8ivJdj4gcmW9NiIqaxAVGenYgRtQvDZeAzRFHlPN9eD9aI41nidMlDDSKUM1bLfrQw7BxsX0KC1q3iEYLTwu4zooW+i1htmnDPClBIaKLv4DFRl3DeTgwChjC2rcwGCV7l8hO3dwAEsZeQB/vEyIrF7Gqj+RnZFri8GO8VL230aagNUVQWYuFwSnK5RaDxomKaaCYAbwAFRFAC1S7/qW+g28y+QPhqGW1tCtyPhTMKw6zmLwlS601Cdwk+YlBVHNa/wB/U5LbYrxDw6tog6SGWIjoUqreTxKD5YSkouxjRVnlKnbC62O6QKuAMykblIe/3bW7K6qBzA2TpmzlTBe4vFDWrP8Aal/MphrJQcnoMGZYbLu+rE1LSmDpiqEA0F2bi7HQZUbnI2rEEdkGqJkeEc/UBYlnXg/4i1VDdKihaoXVIVhoxmuJvCtRW2rOrl4ArBFagjHOhhuoNNW0MK3ErlitTcrrzCnNdzdGMObilglpmOmCzmciheKlkW7OqhmrK8CUbVLD6mNuX4lW4pgAI0444ixoBugYgp00RtcrF1mXiktrdahe6/3iBKLacBuKjWdZXiGllAzl1MLjh4hcLvpRC2xQefBAtbScZgIaG3kmOcd3EIFWGCNGUV+phPyZiZJ1rqbXmxxiN4BfeZV4Es40R2OAPzAFwh+kWij/AMgFB4t1UX8xpQl46PK7olcHuBh4P6gRIOQR8PqNx0nCVreGMq4thRtxCC8GkG+i3VwpMHsuGEpt0OJlyunGIFI/LLKNGjcCiODsJVDTowLbiDVFTpmr3cyNq3RncDN6jhODOfGpdqitJ/cotGL2QEQZyjUzrqOFL8kc359dVsrWKqHqEiEoqlo8JGvvTdnUece4AlLUrQim82ZvqENg8cMMG8qT8kZ4qouLIMDBh6gW1LKCAXFmGpvrAJ7wD1dRQnFBtOsg+GMyl93eT8y3uCKEprq9xkBLW038RmApNAD4HHiZU8Cx2fyZlo5BEyLjIGCJcAeniJdMFZLu5nIjYkqnk37IEf0ba5dw3qV/Nb911ZVfuBm7GLqaoapKgnKM8upOhRarJuM+1bkGkdnzSXLMiBWUFdDJmx3ARBUs0sikcCrNedRB00rAEuAYx0RMhDHAGvxGT5U6ZTX94lyWEyKTt+PEej/9Wohw8lPEZYofMUUNFD3ypZrMd4rp8V2jQXemEGIgDsoafuNZDdbZigAN8KBB8kPL4phcASuSU4pgrQWtaImROqxUAiKVx0W9BQKzWMMOufFD4VvrESq9XYD0KC/RF8IL2xTgGWbFjH9Vw2yquBpzDDazHVu2QNNIE5GG95Qa7bHJR/KOITEYIHoAealFMpy4NV/vMNp+Ss+IVzXJkqIDgx6mUNK6dR5ABpicC0MtRpQL0QaTR+WaCp/cURRwbLiRla9Ra7LNxREXpUvAo+pZVTFdSyBpW1xAe67VuOD4YthXDN4VxASzKUN0fPMAVdeMQOdr4zNVcD3vxBlGnxLAttezUuhsd4NQUbHyJ1hXvEqgT6isprtncqhsBRUSihvGJTnDeKiHN84qKI2wxM9w4iG8NW6m3GPzBgiHyRSsX6YbTBjXmJk66IrOm3zLSsH9RGwNseIC7EemEUEUDaC0fcSxGS7ccCdRRtpxWvMo14WKzmUVR4t6rqJsL/hj4lMAsFY8rhR0ryxPf+8Rmyvl+IBYutVqNgKWYzqVxdFcF1HAa+OZddBW7uWyB0SXCLgqoB1qs1BtLxWkjWhL8XEGQfXcBcHBjzEU3RslkpXxUoFR2F1L0N3zLaRBNNbigGtJtVb4l3VWfOpbW1dEi208+OIHKghZiIG0sOHiBRGi3BUvBgHNShKUuDMcGt3q8+4ABMGDlKNrHF4j2KUdVr4gtceoAjFObJhoThgi3aZOH/f7EyVY5ZVVyx6QbwiSsYy3jqBTa4FomYZlvu5HizUEUTtUakXpA6ZtNJmziImNybhHd0mCuCK7jo6yxfq5qFTL00cAqWgaK6CgOJVgweGGRZSZtiHH8x9xg4DJ4FurL2vEsK1NrX6hkXYYjQLruLRdgDFFXMVhmFA2GcUEUF7cNRa2DcXeNYOMJc3Z9mKsxGwGjtmLJQ1m/wCILqiFLr8QC6mP8StogyzqzkcW8+CAbKb4xQE2ZoLeIXP8CvIfy8SndIMcRozdbY1DEHNaRlsL1wEaxdYyVLeHOwibOFSwBfeoAKgOExdS6Moa1KDB3jUaM2V9VPt0XGzdSxc/iWmFrVoDi71jH1NAariU3yerIuWCOCs4rEDxP1CWo1pZQLLU4ZjApd4IDCmtahC8BOip4CBg78zLS3j4+JsTNubxEqs2pobgzrHiGAZxrMpbcV1mBkoHlq4Qxa3o4nLRTIzdbR1AV3WXJNtXTiVTonjqNcXXEbpx1qZNHxMksz5mZUXAnCuZhIhhnLRIhvs7iIAeMM/8jvOnSq+JqHnQ69Yl6wwrDh65mRuE1jG7lqwCmBheGjeBrUpsRtrTEth+m5w6bLx9Q2rEOsNxNVmuSv1EKZ3hOo5KDoIGQXwaiAX9iWYNOLq5VvKq3qBZRcsu78SlBSvkiVqqrMsyWz/a3LNAiymMKFZuos2SzNuoIGD47g2ywmM5ZcWjlcoISlXuahT06g0qy+TUBMlXzzAuWONalLqx0okpLvgjnKmWElhRQPuA45U0BSDJqpwo8BxB93X1Mu7dEpNI047/AOQmLoDGJkFMcRNF1u7gqth4usSoJjOMRWrOwar15iBdnVG48aRE2U2LBHCcVGrMrk1cZYWYOVtDYRrY41A23+UIUzJi/wCI2U2mllVRtrPoiSuP4RW1QtZwZ6xHc2u1m3/fuNS8Hzr4iHV1OBqIBFl81FBDs3cNQidERtuBVbLdoKMhnxClywqq4FYrbbyS9LObLIm8hdYDiYrFeyPa4RAKpRw0ZpKxBCCdl9VNJSVinEIdnBRcF8Ys9x2KDG4L2yzZQwF4tBXBcpcKN78Tpv8AUJQw8cSl+4tEWllBQ76IG69XGENWwVMCsE0GzHJHHLsx+5lIzgIgpz8xxouXxhOjiVri1oJg4+glppD1xKQ5vlrExmrTm4rtvBUQ0Xna7hYxgqci36gt1pqGCuQ8VUs5p4eJhq3y1NjA64jW6b2rPLk8sLFuIjX4MMNWOtbmzjTiyUtazx1Mi1iLnI3UyQbxQwmtj0+IFEpYYzuFmldXGtCwRN2vrULGmbZ5zLsDSiG/UHdTAKUOuICJR0RpXR/EI3TF7oP2s3wGgWkYth3bopDgjywK8BqIlOddZlDwdVuIOS3udjd4rEy1gOqlt0EeS4gWQnROcCcZVNBH3mBVHosami662RDlOOJuqU3A7KDTcGw/sq5dYqk11CsVswDqNKy51buIGzlOSCWqWXFq4cXmIeSd8QzowDwS6aLDlCgvVaWBqi6GVcSy2rSxgXX3ENtYMZwQNovzh9TFzV94iGwusVGtLmiNUlAlItHYjXHhFQZCnUs0s8qVBpDboxEygt01F2XfXUtOjATJbqmf+SgAudRBYfXUK1oVDwPUWVTViijR90CqQjhLU9BChUGNBbGBBeNSv2Gat2bESkdJKUpJxdallRQDsYYGtTSvByug5Wbp3jJdsXCLAJhwwBAR6GgWwMKtYIWZ0WnvKF5WcZwQqbhLsF9Z0DnZLHWRyYQjgBbTYVl8+QYVVsWudIiYYshguTDPIRerbcwWzjTQiFNaearCMCJIAJOKso3MolYlXDyAt1KMEAtsRh5ylkQBaW3yw4uaNdUcvWiWCdtm8OT9Ldb8CqqIYGRWPrF3WI1UKoxmW7nS6n4YavHcqM8yHMFCzhkvuc15RbCL3XkX4hn8OSj4W6NvWzUSR5NB0Pmz4RcgivMRPLnpgItZR+XzEQAArabjNBG7SjLQXohmCimalzo6G2ptE4ILq9yyRurIwnVW8dB4gsH3goo5FN+Qhq+SdFGh0tmlCB/oDIC74EHZeoK+r8urCsqxlzWOI1Ta/XEwKNmNMHy5alHJ+JyAGuCNKfwNS2s31VQFG7DRRDSYradmfbqNBAE9wN25eMwRtUKziIaGb3cWgxfQRE5NMMwC/CuJdurzzBOaeDkmGdWbKmmxA3qAJ44xuXfD2wuF9g7nBVHqEq8vAkxukqorH8uIAByeB1B17e0iIsoCxxfJ/cOt5wyr+4IqjNq45xxKz3yLD56+IS5abc68M3kVqmZTWExs+YFp31KM1hoIMynkOIOVgVyahfZeONQMsC/lEWavnxGYZy9ztwXzLFVVxRTLsyo5rPzMoSilYLuJoBSshEarY1tqWONmCxoaMXOuJU6i1QlmLQ561ABmQa9YzgDW/TuKxEBoxLgJDLgA3Rpm7lGSQAXBi7ecVBX8pUxquU25G8QCBtbALf2DyZxklD6y0fp8pKJKlsKF1gW0DpCooKFOqhdEqg3eoxgLnktnAWZz6hgjNVoy0fQMzJUkDlhvFlZCKeg6xbXUrruo8qBi3Y0DsKh1N5qiT/hvcyQxvOd0tOsS27lCoECKMXFbSSbWaCNCfMN7A0g1dHh6YFFyDqWRco5fMtJTjWXUcSK6UAqD+IrVZj03s7i2aQKWjBbs72fEdT5bcnGW1oL3gjeLqYNuJ7yCqPkjI3yYOCeHDZbGVf4PQoVrC8+YVbEbYBBlVvxBfeArvgLZHIAIxMa+i1kfi+40c1TEDw7JTFH8Eb6jT5a0RDAu4r3zHsVCW2TXIUXxcRsaED5ksZ0WsBDlQAMX2WzWojTwyJaYGyjKqgsIFNBNFVXPRp1LbYfgAFGLoKB3xDT5BxUYYwVnFBu4qfoLqzY2FtbApwkz9O9u3CVVyNWRpSD1hb+AFN+VcRV4MmgpPmUk1JxKjNNaPdFy6A0WehUDbkO5bVBjcs3hjkY3Ni2AqEdi3D2VwGG2jglOEqcbYYtWyt2vomco/wAm7Fd58uJmRrrkFryvIE4wQmdIDfmbT5pMXyleNw9Lfh9f3xCg5VBgtuHD7nLschza8BVx1iKtyDXt3QWXwvEcSpWxgsqkxaepZ2Hu9Yd0uZRzgEdaQeG2ZP5RXUbdtIGkErQ8wXhLoyxXrPicpb3G72urxBK7Xq5rFJUu6E9VzMAm85qLVi+AlWC0+iAHF963M30kO1nxuZBwVeYm0eJQMRYu8EGxR1i4s0UeAm6Ab8TI9SwopmF5vGMajoWV5iRlS+iOVCY03AVrnEKUzh/EsF2+GrX8paLAyHXbKg5x+o6IJA6FZv29zUOBk6vm5YQSNKvy3K6UKZ3niWUNQ5ar0Qo0UMoag9B1jUqtHA1ca6vWI0tWI2U8GEYXcgTPoW81KWKHvwRVbyuvSFAVPioDVZV1FQ6n0j5oa5zOQpe1A5IoucE2oWgF2GDEZUxw9F2TIwrrEsMOag02E708Q0ytmNV5q86nFtnCyzEAzLZjoX1FltMYkvgWw8Ni55VqqoykWtMAEOLr/XStneUoVJVAdsGmKz6iuPIzTiqMgzHM8EgKF9R8nMOBQclzv2HZjbBCk0kbthm5UAW0040EYi5tRGANCl+bjHFCWtQIxlsbSthNMNVKpwrwjsjbgP6LXEVR1l2uaXiwGitBC3uoIXRJoA1bJyRsh+shzcCKDoa4ijdqL5GUs5cDWtqneg2b0wDLbYTFSQUMtRICm3Lmhunwg4q0+rlzKJRtUirKqNdcx+foIe1VTxZ7mApjoweVlq81CQKY5/rcClWss6iJZk2oDZAEFm+oIFwQSMg4pP3Frs3Zl5KT4COrWVztEeVBpeIi1PQcQv3QWgoPhl5wNsrNJHiHYICOx5RlwoLoCUH0clIQYHooYizBq6/uU3QfXU0LdGRqFGdFIHByrzwkHKqrnEMsqMiRVwq6z4jqqBqgnKw55xMMzV3epiLDy5/38QTKe18fEu1KdMNYgUJX01EaaLCWNBocQSU125iiNPTEZhp80TjQlu5bZrHGZXxl1PkvURTSdsVPArwRXAsrVuoA0lpxXMthTEHV5KSihdphTUzWVw/EcZd9z7Y73LXJrsYBlXhNMkOp/MyzobFg0WlZQNRBly7PEFRwvVRm1oOM4mou3j3KJnKne5wYKvqUy0G8wXRfcth0AYsjH8v+RodA2QKAV3iP7avUAuCwMzAyDGcbmulpmiM0ZK2cRNmq3bErBGuEk04pSv0Zh0BmfjyzIBlyvpi5iFsD+9ZgV5e2U43XiMvKw7OvcMjB0Gjr3EplZcFRDeSuLl0oL5Mx6bKyBqUFCdGohIgTo1KYoThuICcBxbUyUngWagUrlZzLAZCupQgq9KMS/a/GZTnhWJzGbch1FJIrAsOUbEdhUKqOU/Ra1YabyYiOKYqGsGMImJg2DwagXvP8QKPALALRsRS91jUxRodf2tlqyvxUJZTyFGHfe4zSEsBorq+ac5bxEVS2UiWI93ipd9mQF5qn4QtD/CTAIKjA3dwbDReH+JZrCYDTGFFNlEasW6GIk2t3R+X+3M4+cX/VCgEoxoH1FiY7LczGUVw1cKJgoiDPJ0RGmT1Bi1Qou0CC1LbrX/kqMx7YtlF9xXV5vREUIVei6iDst7g1ku61WCCRLKcXv5iCwQ6o4hhhUd1f+/5A3xXKaqFBbCwQKpBXlxG1xR/v97ibC1sP9TKqb9mo3SkS+NzCId+X/fqbFt0UrhhiBeO6JjjD8TYOHmObFvVThZOSpkFecDCwssya/UtIC/X+/iJ3TXUzyqvWZentwQswYcds2tZu4WpksiOG74ivJDULVWUFd4+E2ODOqne13cVSqqWLXv4iFt45xDWBhQG1XFSuexpOxMMbi/uIRozkll274xqUc8jPiUVthxiUJbxxc+YWYiYVXpzEONY7lHIT3/EslI6wlDbHRxA503RWZaImX1BoTJpgCelXUrtoKlG1NxtwLfiZMolZI41TnvURDSAcQV6aOTcUxgaiRArfiXX3jG5hV4yZlulFetRV4o6i1bXD3TfEODRsC+B/fXUYAFdjIYKWDQkcs1/yIMpjV0aomz9uAl/xGBaCyf8AYlmWllZfVH+3KQytaHcTC4K1LFACVlSAIoenmFhGutwKWVdcksqFa28xsN0ZyRDQhdEsYaY6IWF1rITKgAdzIstOek0AOuIgFzA53KNj0M6BfWpuq44Jd2lrmGCsvNw6KjLUKtKOTcTRC3atxRkBajcokpgpojejfwlGjprVSmgV11LxC8V1LKNA76gEJqoOm1YPxMHTdLWKu3L2EcljZx5maqVd2zECtVKtwA7YF0vjiJR8CIV2o6UqOeSzg7icWoVQAdqeqj3MxbZV24zRBLG7ailEQOM6iKcoX3HsVre4DpUnbBkR5rEJGwGbqFnNwLyVy2FNE7g+Bq+pRtLZQXuuZgAvHv3LYw3oJcD332gD2dGxFgN52vMFPCBaBNB8YgPYocC5XQ2hsrZiZQXqW6K8txRQDG8TOCVyEyR+Cp2TbQBhiwu288T5hVkZDSHn+JRKBV3UMo7sDlTs8S8JeMTKfzgCLObLPmUquIbmtH8F3A8NVBFqugOfUd4gvXTcLeR02QuY8oJq1VbGIRkJI3ujKeCW2sCKUooS0dQ7TWIsigoujVZnXdzyFe/DxHY0gd5dnxdNSm7XmyOhbLG1b62xcVkFqGQN843LaWPzFvT0RNcA0BLGxfqAX53ALBWeHXxMmQD6qGTh9jLaYL/Uou7q+JVWw0Mbig4Kj0C/U2NYDYYjrQh5JtKl9dRw59IZc8OooLwe4jSGKWG1rWqIMWAdahhjWKiDrHojk9O8ZGn6jzOCE76epWW4u8N8wPaxSvLxC04FB0/8i0sPImPi5hil+oXiWiC603fsjsNjV8QuQvwdQL4s6CFMo/UGrxYaxE223m+JiSs/qBurNZlJyY4J3wPhErkBNtf+SjYhIs5X1iOi75VxFUyQ6oqXBmFVZ/RHA0mcDURY5xwbiBgFvVy4F4WWoYm1pkcymZV+4EG64GAtiRtE4lwLdt8QV5QttNTNUM6xuGkpsE6QT0e4oTaCKwNvMT7Y6v8ANrXFj9zSuMdBg7hdYuqvGZQBvy5mi7eIloAu9dSjUhXD9SnoVVTzb4D3HavNS3IEcdEK3gvjFxIAC1sc1FzZQ5MF5K3HYWYGWxKQO1+2tnXUCFNMdVLTJCqgrCVMZS8zBqbYApt8HcpuxDQGsQ7Cpgb1KkkJjCFxMBVdBG2yL4C38ENUZpCKBzQUawEBvaqANR6iI1o7pK+CopO17EETkKMhkqXldDK6+X/cQtnW1gAtWcnmZFFoPmo/at1OeBPkkWdoRZTAUIKiKCC1BuT6iVnPhQz6YhrVsLxQ82arRhu5tcF8BlS1tszXmDwXweMLzTj4lhagXZrXdD8XRglAW8V5OF4UGArEDdoAWmioosRrFM3FA8dl67TVau1cRDpBlW8PgUIq6r65XeX8HJGaUAZObNtnBlgK8GcxLWdZ8BnL9hqIi8oYVMVMlzUOSoE8zPvim/wWnI5IZQGXIWdiyjjdRQKQBoPsTbq3UIjg5JU2lG4N1r2BCwcBHYtnYxODmo5HJXlhOWOGoECaNpOaBDlcooXLxEQAFMderyECigK0HEMeFctbiujlzQS7sCq1BChMxQUpnrUqqbNNQCjT3cyYjcbAsV6xCxf4rU5bK82wsOTxFdAAHNRAoZBiiWsJjuGDP04lLDjyalNhjhjJULri2QE2YRLrGZx8Yq6jSRUf86lRBRjJUqgJ6OpYOLnOmKNwOBNK4TxLxmh1dRwqc83iYqu+FMFGiw0Wyy6wb7gLIeIhd7RBuhcHULVkzi5olgxnJCgifNUEaI7HTU1GxzmGXK1w3NiinKZCjfqNtyp1nUyNtZ24hCWVunhGmonY/CGdJ8GYJnsLqBzpo0WYUsodiCQp+2WXCnLwOWX8QbSws/EOmMauhgzTb9cwgaHQpUwNtA43ERDMyK0G7RSMXzx4qBh3ZXjBqbbeRqWscwAl6pP5GYKxP4ZztQ+7qVSHx35Xj5bMfrBqPuVlzZ0/EOV0HxU2kghrDhmDxSdmFwNasTuXwcmGo4GXDmQI26+SIwAOfQmrDl2DzMifiLugaTgKbTQ2ArquSMYHLQQfSjaCxXoIxlikKiB/9RPAdxZAI5IrpdnFBL1FNFMFX8nwRrZmZhML6r5KnMcYCU4itnJQdOjUWhirKU77IGcJ5htp1QyMkPzvxc08eUWolTbdo25zKl0qgV0N0Zft8zIFKcBE+aMmmiOzVQDuz+bgXtKTNhV8EDBQNZjnBYNpn8xw4QQi9o+V+pa65g8hJnOlNZ8EwN1HKfKgQt0juAio1iMFyqV8ZqHV1OMjJktm7p4iGF5bBQFKLWlvE1FDmzk3UVNQmUyBQ28pqNWy1kX5LILVr6vEGgfkqVUqGCzF7Nid8M4plJiS/HdAF0HyREcgvC4CpGnF0al0RFDITTAo2GSy4bxNOzWtAXz1iDg6Zc3im3d6I/CxeZr85EHB6cZVBLJVzFAR0q/RKUuTsifJAQL20L6mPzYBBwBqFmDDXd5rGXLQXzFYbYane1emNKChdYLrjMCneRtNLlMAQmNSGf8AoDywS6LoOOYgaze/UDVBrwzkHBoCBHO7+Zg00lZpi7mB4xmUFWwOYFxh7IjKqo2oFVoUg0qDDHiVmwx3NC7ODzBv1Adm45K5ZYquMdIm8S7cnxNbS+4UKuOF5hkKniZuuacFTNjdmr4hVRbfZueGr47iUFt78RGkHpltUKsvIkdFCxbyU+KjnDhBd34SHyQqXFWfVQ/VzMw5ZggfaGg4IiqNTquorWqM1STgrT3FMFGM41BDeGporB+6gLmwK1AFB7AjhektWxMBuJZQt8LqOAMdp/MVZAbz+k7C6vxFbNh0XqUXeilvUALFVjxKS8CbD9RpR32uoHpILblKdljHmJFvmQks103/ADGMDemq6Y5Y/cUNDAy0BsKRvXJHd5QtFd9AfRC8uBiHD51XPpKCIrupTC2ycB1UUEkruDOYa8+GC8IvctyJLL8GYOse52g2PCRyZxTsqZUmvEsCsELJm2xsFdo3oHMJViFluNlhNUFbuKrBADRQsK5zXMyMLaWX4T+YjOm3vlYt+CApaXXWpQKD92gVYoQN5xGNOMBDxZOL0BFzihOqpmMbiM8ZQXyyvJwtGwsIDWoa75QRTpL6bolsxDuQKQ3bnm+NSu5RsfI875oqNUz8tSmA6tXE73OhqMN+qJvzDxfDQGXVVUfS29aCg+AlRo8IpkQWx64jeDecRHKFVecvwy9kN7VD8hofB2QFg1YUFH0x0iM2qUGU0OW7IolSr2UK0ThdVjEDI2xlxjqcI9dEwbEOJtZCqL0y8avlFoXmiOd1mSH2l/8AkaMA5z4MQBpG8EyuInlKDooBduIhJpg6MEt3q67mw8sVOrjutRCg3Qa+Igqy4slsEPmtRA4N8YlVma83xK4N80biLVB4LliihOB3BvkMx0nirZQ0tcvcsADOOOYK2hTtCowfEs/oJ47M+wa4CBqld2y7KcHuDtfzMxadbgUWqDcrjfio2Kx9dQYtUnMSilo6P5/3EwGVeKuK1pFcR54blqqOuiF2XYBq6qN65PHEoGrK44lNAgJxqFYs1ouUur/uCLzd7uoo26zyR1avnEwon8QKl1Wr4iirRDFHM1xeN2alnpy3L2BAFF55vibMUPzB9JyeYwxeEOEBIR0hqPbExpoOf93LrFLY67gmC8AzOrjhDStLZYD2MLscYxHNjN5havDVjqGoy5h5FOILNMnTBUFC+qlsKY4eYIZGXqXsr+MSs0VXC5QAON5hRXK8cIVWw3oMQNFFd1xAYrDozLlMAbmBj0i0tS8316lCoiwoAbWXZyR1fkxxy3LW4ZGGyZPCU6gJMyry/INS8CX6yqW4HwEMbUXbN1v4XEtusXgC7Kr6MStdR2/Q1LAUMyNgAwHgi62lOdRTWja3fH6lawmNPEogDTKlTgtrw69x3ha3yZuDousWi0b523KaOF1TqA4B6W5gPKy9IRcBFKCtLp3LXsWl5iho9VqM3EiDwdEb029aiKEvGAiDkDxW5eslAr/f7iLVoIFi8nEVlrE5I2eFXYRslujiUjarZctqzjInHFLVtuf6gb7uvMraKXBuLZ2NfEKIYc9wQGD1LcqVgUgLsVTFRa01wYliAXS66gJM3gtDQOaMuW4eAQPepZvLHo+YUe3BolwMGgGbfX8Q5M/K4DCQVaW426l1w3wxxFG8ECC0McO4QrsDFgWwT5s6IWB6TUwmDDrmXZleYGhAOY5XLog2UHwQsOMdQWxThVVCxjF+bnprhc5oUXuoLGk3rmFAV6EvFeXOIZXRrTMJemo6ubZS5aM8OotlKGcWag341hlL/UHABLeI2+caYhm/iLWQDNpNXzMi0MaCX0F+4PGbrGdThUWPEQpAVph7ZmmKewJoUOuJZVp5tlYy8ZhZSsMsBVz4SlZvdaxLoDfES+4mrLMOGEkbYxFC9OgwGGbN67XABqrWq04zCrBYPncErksvgqCNKfJEtoP1cqVm/KNhiq0cx2oocUf7xERQadkMClGwGyJCNP4uC2oAYxOQKGu5gKKVhleVG84PiaoIBijUrZd7Y1AAVb5xqNbwF/ZAOMO9XogbYvyRKH8wblcMUgjBDrmaFKyJi0chmtRBlQcUwk6HCEalaDgoxdAKXTfPqV6to1RKaXgRsQrLb6qxho7HlYSmzHrcboLLOHUNg15o2vojkXgwEUzyFq8XeqINZaPDmBVgYN9RSgLG/uNzTQ1UyDyMN7nVAYoSKU5d8xG6dFK8RpQwlLHyOQq6lOl13lWcUt1yhMEcq2i0ouaty1qotdhGgBwHZYv4hapdBeYmM1XQcSymZQv9OiApZFN8zXLfncQmpqgFUuADNsDtcg1kRMInMOToM2KzVXsLspMNg8URTS7ziyCHnuCruhq+IUZN3jzL6D2j8C0rKIzS5HIVKqgyGv8Af4ljIUM9F1bD9UTcQ+w6FtVwBLFmusSBExm+ILxSChQFPNLGWBQtjzDrSV9ea5QNPjhmUkZVfQX5RBUNWoYQAxY1qPftYS3oKRSryRa01Elv3erwIrSUZyR5gsSrD+W/mPyoxUM3VUnE1Fr4RVrFFD1Ld03iW2Ax1AbAD+JZkj5qNMWd1dVFZRh4C8ckbHbvELnPq/4m9GjmUMCwu7TluI2DrUashX3LwwPqB51xGGj44irjH9S5ll8MDJUvjMpWcvRERjGcEWlofEpk88X/ABBoyCvct0EB55jVBqv1Cs6s3UBxATnxKoF11OjdZxEANemXdMNcBLBVIA40IWohYfglNQAM2XSRZhuZxxh3For6D6EF7TbkPmVIWoFWnxMDRTjxGsKocVAQMiHggw0F14JU0ek5jaqsu45pRCBQ02uGK2gjwBi5kSoT8zkqvBiA0i5rN8fMp8NbuAHJq+4BLC8Ww5OHq5yoUvIRauzy41DYhyWEit7VOWPzADhu+9RSORwtq4iHDulHSBZSNM0Eb5Ifl7Csay/qOhnAg2NafDTAvcppwwrwahAwcH+iXh4WtFHrPsEdt3nqei6ya3jB8wIAlRYEu1q3mautPzQ7wDWQKvATNxFW2lwSmNvFMK9uVUW3DB1ZLKAVTsbHU0BxMSjRVDaezFnF1KniiDNAmFd0dD3WmrpBLaVm3utSygs3DGtBha7xRKQNUc1qlctUe5T5DgFjV+ij5xLZCGgQW0ELqrlqIUELB4HF16IRKsJ4AH4qVjNAsWp/Mqko10R/uTcuxb1M9Gmi5V6GUO1eomg+aurcLWVUfEB9UdTIRrd7rWI4QaL6baCWi4dsRdSq28QkFYE6wpOAMKFzgH3QHmQQswA0bVYl1FJbW61ZhgKrLZuZn6NxVLdWxCsQooTiotItU3xqDBzk1gZG0xbjMGkfFTTG6ZVVrUBVd6rnJXUep0ZaDXFWeLQltvsoCPZYPRLT+yMDt4o28IASnCHHgH3NGxBhYs0ZepkL4O3soiUv6i6sXaNoKthDRbCClKNKmHG5iKLRqFaWPnmJkpLahAFGnRQ5mc2kaA2OzyeKztUqqEjMgAaE3FUgxFZizi71MK7+ZdVQSii4smAKBa6lmQa1LGX4RByDxHE2t2nBMANrziBtbs9YnNUz+om7bDgGLdXTiIHaPMFu1AbiAsO0NSzjWjzMY18yoAMddRHNLrGIjeLDglXRaHqWHKqvqUtqmABgNgRs4uvX4hh851Et2PqZDttqNHJfFTKrJ6CGRWRxepelWDXuWiLme3XH1+JkALpurd/EBUNijDeMkQjNWJQv4gGoVyN79RAirno4ZY0XFgZ74illlvZuCRY+11L/AJlQWAi5ajoVD8xCKBf9R0il9WYI2sXwhwSl8wcEDkqAC/Q1+4sG3gsQCWRwRF4pxAjaM6CZ7RjogGpcvpEda/3/AJArd9O4QCKlmQZTYNj3UAyjuhSLS1XB5gfvGvhxVQvi+eaHtT/EJax8+NSqEiUpRKyEzWRni9qv29Ga0Ucwg0DxCKMBMHQDmH2oUeWrhO1dpW6YtLZXw68TDaSrRQEyS9+XbuAizSsXHDOQbhdCVS38jMa5fAVW2bqy67lGieSTEc3ls7iPoMXKoBY6LbWJgJjTIWMAGdreGM4mElGCOTk4VtrMYUh4Y0ZK57KoS6S6aAWrCZeGJPgMyQuLySlhceT2wQE1+UQcqbyJSt1LtG5O9X8QlRt6/wB/iO6o0QbGIKgUEVkj+YJu1Xi4tPA+eJpkhe0c3S0OMQbyqybUVsqkHZqXtKJsiqs3vCq3Fk0FyJ8INGMxpQaIIrErMKifoW4XiwpijLxEXJ/SDV1jbLogjNB0kVOMZFne9WB5rQdksXxidB9ym9U4pIAwAiQoQCCgrz3ChxrBcB26tPFiLxuy0AqsnBqFJvcT3X4Ff3iEdxJjKtchh7tl64rQVG8lzd7vO8wI3i/yuqBNA6hWTTMFm/FhjBFrI2Jg0+EXXmUuwa7F5W9M5auCXcYZDbLQOGxHEGpJyA3Ra55MFB1o10qq/NynAgyiwUGq/iKPyu6G21i25+YWHBQ4+l3TxcDzV+TUpen1DLLiqrqUvBjqo3ZeebjoqniWbpZ5i17eMagqY3Ft2uuoZT1i53DeKAm7F/gg1WCvWoFmi4ZtdlVeIiVS9RAY3KbzqpYNGzuY3VtccSnwdMseP+x7LdGrg4eBepeuavnmU8j08zJhXtUAop+LlGtPqNGhM5YJpbKxlx4gVRY92ag5LrP1Bdbut3MAZR6hOs4Q2Dcwzuj8qmOImelwQx7WyfK4YVnB/BEM8unTkCAkRYCb9vDElWE5CAehqpi6ADsVl2pL7QSXkrwR6A8mostFlx5iGgobAJQRwPOGDiwA+JTQrnJKAKLvQbhoVodwAoVRzmCyE8XuXS6VfOamRaj2FXFM2OrxrMRMA7pmfiHJTIpMDDlWGLzj4QkQW5Mr7Dd0P3L7PRZ2nk+6osK4QKm24XQN5gyz55cnl3BftnivfD8muIeqbjDu+cBZXc4FBlKACGsheNREPOA6Cg+icDI+Y7RWG4CkaU4B+iX0RMwiWNB+4yyUcV/c2RiHyZ+XL0Z1KhuNObEwkUZtkhzwND4JyhiP/hW3RUR2eb4Z6zxdRMQZFewJMFQok6AAPiL25A1j0RZWcBWHkmIqCkPABgIFlC7oMvUqmZPgF4CWaa+Iyq1U1u4LihrmWi0Pnr4nRW+ZelhtjzFKsVUOYuJ4Y5iM93E2oL2lqcjsnqXouhz5uK16EFmam1rmJm4BHxBYL2oQnzzFHAbPDYTwSsxAAAgAfRDLlxeb5zBAd4qqfjcSwt2wA0VpyGuY3IMpG1G3mWhjnGJZm/GSDm5rxF3aVuMARxxcb3m14gKxQped11KOVSlt8SkAzHAOerwS9hrXULsgruWiWZPUNudcdRoUIDxWiNC1WsS7bAFOTcwkrnI8wtk35qDQ4wwurxVvxArVvjqZHD2TDkZ3XECxRvVTJeBb6nGms4mqqYKI57c8xqihXctLGurhYyteWbID5jvIYMFaitAEOGFKFe7Is1/EsXQOOoUKaGsY1EKLHrxFwa9XOFV7JRnlea0QM5yDFRNbDLDB3zGzatcVqFCiyh5AgVKHIBrMSDATGDcqcAFbnlixkfXo1KrhQGUXnWodp8QFjpVlrK/HUoxVlSnDXlxfxAjT8JY3qsYNQCgOouKW0fiUAD9s6PqYbtWmkpDdjtWmZtUo4TqVlenAQdVnYlTQoDeMyzdKLBa6ZJY431xFF+RJfqJnSyL45zxUFsQs+5wiubfMWiHGNeDr/kpC1XXMI+otNrWusRBtvVY47itd3qzULEYtw4uoShtVULgwcjiUtm7pjAimWBSvCYhQCIa15oi0XXHBZmqrIXXiNhA1weonJETEwrl4mVkFNLMbF0uKsNQAWnogptXwO4qGzgEqLorlrEypsOIK0WpDxW4wot0gqcqqF7Vcq5Ta7i5CemU5w/UJgoJ41KZWPcVHCXrbLbBy/qUAO+e4ND8Go3vLG7zDJya1iAEExKVPrEW2ZFZanKDfMscs6rucgzc7D8zA7dRbALTGJcW6Z5gtDR5qXAUsMUYjgzbnFVKWvkBMa47V1L8lD3HNyTHmNE28dzCZMXV7ZyoLeYqvrF8RoqA8OZkvduzmCsA6sgYCgHDBaHfH/IIJsfMDo06lsAxWKJVnGGyJBpOBhN1WCUAA+a1Ktxv1cunPGs6lW0OBzcqYBlC2FN7HiK3o/mZtxzNK2DXeorougw8Tw+UCW3s3E+HymDFuzMjl+iWTyb9QBYt3tIItGrOY5OamWLrHEC3FYNrKNLbLdczBa5fEcMKlVjglCULOldTa0Lldv/ExL29M3/2IKHdAZ8W9XEtoLaqa/uBDPFsT3Xf9QiPQKsf+kYKsgyx+oAwNvdbimqQXcSLl5NSwdKmHMUGAYzjcsC1d2IXfxL8nnH+/xGxTldEasrjdRRvApoeIBGWDN1j6lgbLjMTnIOYpsnWJm7o+kFqRq8xqqMOKnKktuU5o3r1DhzrWW8qMQqxStOnnXmKZVenMVKGL1Bsst6vUypQrmaEUA6gAMOS+ILYFWeoU1kTXcKI0b5hsaDE1q/SdQ00QKc09ED0LWoVZSTmUPdZI8pji5bYh1jco1lzmGBaeh5lOAFOYUKAxAXQhANhvdpKs02ee4tYux45joafMQIo8io2qxAhYJ3UG6B6XEKUK+OJcKacxTkHYTQXDceYnYecagAZK7dTM3S6rFSlVY9sWiZeWGOFPaihq2713BDkO/Mwo2FeorpUvHiZMY+I5ssv1DLVm+HUN1y3mYgCq0LoiQbBIIBHfiWYcr4iBvSnPMpxlqCtpT86JRoyfULvUdmiDbaNGi8TZdNcEA7zBYov1HA7U9RFFbDgjWApK3AIfglBeDjzHik1QVAwAzIaCwgYVljBKWjbK+F1uOMkHDUQMpdTOKqF5wBympTFJUUXbdGpSrdXXEbr0jj+VRUccdyyLetY3KoG71fEADejggVt/E6RrlubBRnB1AsKrWOKit7dQy4YvMU+DaOAfx+IVbaKLXZ17iuRhZizEAUKpOWLWBeFfKAqITZuj+43C4gMLfPiGXGX9Rab/ABepmZa35gW7oc5YITKlYhhYth7zhZdy3d5B1+oAowP8Sl4XqtQcNgcxJBccVAwG/NuoKDkDfiO4um/4g0ljnhqc0vPJMG0GNEMN5fZqKVHo1Ft7BOHidmwOnuKtwDQDHQg5q/6mGsLk1gRdoZdJFZFOcN8QGwR80EwXVcrzLLFtcO2IBrVyrAfSYBB8YlNnjmDSi79/7EvorOwzMgMoLxA9fRL2zjjzKAALOIRVU1piEm6t5jg3sxRFQKhw+JZd1fkiRYYLV7l11XGK4lKo21qWHKukgm1o3xqUGGysYmA0diLS2XcSclDJUATa1oiU4XmVFSBqyIcUivqAUXRL5fZPwTNYc6gFluZ30wwxZvdbmReQ4tjgbrvuHG6zxGjg8BFY6y1B4Gmhg1Zb7xMpol4IqZIYzTLOxOqZcZcPEC4WdMWmm/3Ehgc0f1Czc4AzncTUVZy8sYmVW8QVB40TbRzti1VtOqqLLQX3AN5+9fUxwBz2y5nAckAo2eElQNYeCBTBgnotcvcGDiuk1FBoFfUZBRFooPiIhqZ5Lz3U5FAcSgISvUHAmExhVW5I5sAdXKWyxPUyRS06lVeBxzMLDq88Ry/HuB0KzmMaYr1AcYrt5gb874mIFprjL+UUYApZr+LhUsSrbaPiYI3ZvPiobmC2S+IIuMA/RzLBjzwf+yxwWHEeUs8XCRlRxUy4rsRpRB6NTPAnsqV0gJgCPQp1ysVUpurQfmKNW8XKkDg1iUij7ZUVd+oAKYNQHIONheoC+XWZYtZUMsFN2+LikK17u/8AfxDotm84Y2FT3bOMlwQG6Nu4fq5JG1WAO2DWUBU0BhPUu3YdAEuQtm8NDYOQbKlhRFrd/qGw3/EzYKWcF/OYvON97mzq9ahNLoVvqWImvAS16AwsK5zfUsLMCskKGzpI7baPqYQVxlSJEGzzC5tJXcttYYcSs4UqKM7swGI2FBXzqYOg+I2lRN1X7iDT4vUVe2e2LAU5Ctwu0b7IYHNFZL3MzIL4MXCrh+24qywOAvcyAaaFmt9PqIc5/qDeR6jldj6l2WFYx5lgVV8iyzlvxGLwfMBRrMwVat94lNi89S6bHtg0/Y1Lvi8Kl1eM1u4tVgKQ1V+C5kvaYrMuipjuW0aZNRoHziOCn4gw2utwwcXHZaq8Tbih2hFDJQ8sGygeIUs6TJALg8soMCvEOKXHFTkXvVS4Ghdw4unrEDNjUNb5KuVjI1xApQ4uKawnDCnjPiAbA6xExVq1BeQ+CV0xW+oyWqa5zDjInjmFNK/BGrQd7YCGy99wSqIcNxUoRNJTascllNmPnUbDRBzQYeVwUMFDQ0OJVfNajX06ibg1shEAWBR73MoQLKgGxl926rQUPNeP9/qmE5azZMQrBrcAvCu6yxrZRKV1OrTutRXgPRdTaJrAiWhW3ccw0eGoC7pYYzuCBH8y6BVLjG2OwlBTjUoO2/WCKEA+xuISanDCUMfPE72eGysxo08UhLWL8FjwJX2oWHRv5TqFdPY+C/nfzKAaxHO28XXBGWniS6H+HEYAqvGSoTUyYhOtg+XHcuK26wdnhHCcJUbvG2K0Kx1qVVAI8TOw+ZTk+BxCrBQWtRujddaqpkF7dG4JlMmaqVewO8YIAC6rwjdAB2ohpy9S7wNroCWZs4OXP9SqtKIVoYrlMztLgUbLjiBZcr3fEwUR8VG1OitdwcUtJLdYDF1C8MVVUTAKaHFy2KqnScwLyA/cSJrPcoq3HmpdLPE/5KsXmt1iVKAGcsXDQf1AGCHsi0Dn1xEjm6HgiHi/cOGD5I6cm1wKyBxcuqA29wpgK9SqKadTCr0dS7owQFAquqhvh8nMwz8KiTpZVqcV6snIzQURDNJ4uBZoY4gwi/LK24xxEVSVj6gKBvPEe2HD7iVRdlcQ4EE/iNAwTmOmnAEoZUK1csatfcVc0B1OpfqNgFeOphxn4lA8vmC6+eCGMW/WJVU4PXEvkeJSwA/EVKCeOZZa9cTOBnxM4rF4JRCzO0lmODadykLgDepQgvDogBaKLxi2bqRKzZBc5BjwPyR5iZWin1THlLLK0nIGp7OCqvENQoheAdQBGWGiMEuC7FdspR9UFES8UPPiILKZOOIGbxxZEaUKXa6+IhAcMFQoNs3RR8HVxpoF4zVQRokF00N8VqU2g/HEzYAFtpuYzL8Ihkq5bjSraPcyKyhfapoqZOUHmY4LerJYOy+uIRiFVpGNb7nGBFmJRwadtcy1CVLUonRZu6suAL9ybwGNJQLVyotMZxCzqtYWKCi0hWLMShTEFU4nC1ddV3EQZDfuWMAc5lqGqbYKvJ5Bq5nAr4grNjwriUqwYqyBpwS25usyzu+OOfcMcm3LLWVClrc0AG0uc/IalkwmzN4qNeaDitxIWy0VEXAM8sW1fARHBTiLKZCnGaSHoeOoLts8MEoNPDFVDasmiei/4lKrRfqLTpbMYlOEOKuAQFcazuUYvb9RWaDCHs2vEujCYhZyym86zxM647xBcDbGJZTYeGZqzXiZxQjwSgMHgYPmvuUapeYlMFx+vcKwbeamsqrN3bpfucmziJW7+alKrVp6g2pgFZXLqC0XVMLuBesupRTkbai0h7uLxiuVh4V0sBWTNRBXFl5jbbReOZZKETnEoLXLwLBy6uiFbUPRHdHfDqYtmPcUHPo5mhQJdSxrLzTqK6i/ELJgOqja8r4i55BDVGjgmDCrcDKOgDrlgVqrsgq2gwVkKOQqJAJXNMSLQPcEcMrZVyAqI2iOKgICtFk9ESYpL4TpPMxlyOAcZgEKVrGDjUcVQGiM1oIOM4NhCxTjnxAMWPMoRQF13ELpfX8Q4NBfXEJZM5w3uLgVWNTPazjGhMCULe4imRzEobxTGYoUFvQIqcC9EpRSZyM2yJ5dRoTgxjzESm1f46mw1Ol/RLSbA5CbzjG41dMFp0VVxSqPVxq4VReFnRFYJGmsKt0fUtXAWzAsSuAMuKhUqH1FAgwcrp0V7j2jKVlmBmjGY4sBm3FS22gKdkCNuK0VqHsKrlvUV1VeCUtAcX4hVwDndyqlgeLr9TJRWWpnOHV7iTVgnPUErn/kAWNDPmqLKEW9EK68t1qFDhvVsLRVDGlgVSUjjqYgYziVMXz3DSgqZOzepUqpzE0b+HcGsg+42OdY8QY4W/UGu3NdQqWL8EfZKIbMr2FaItyFnGqlsulceI2aTRtlDjmZZXj8xGAwriW0H6jJpcqpC9g4+tQTYCA0BNJ3EASoYxLwya2wFQrNVCznAHdyrnF+JsUbFmNvxLuazgoNxisY7SUsWfknBaK0yxFQZYYMVW6wdy9twXPmWULB4hVt1ruYjVdXwygLQaqJZfrFwumt3uUG2XiaYKxpiINW61L5UbXFS4OhEHIBXAZiLauv6gxVccEClo8wQJdC+OpTEfcIXSGa9QC2BxRVwKBu+cEHOMxcHBWhjRPsgOGTUsqqvojy+29THVc8S1a81QS7ais1DTFHgipP0e0fzKJ2A3w0S/oFqD/KWesCDdHBc541UY6uNPmGwt3VTKQigj8ELMUdy3Yre74g7Q0uSG8iuUUyIPNR8iaqk1KggKsUwEUt4XgjounCtfMFuC+CRoGl9Qhhnwa9y3gNtSpi1pzbJMApWaMwSyzmuJY5Oesy7sbuDVZw0JgjqNeLYwcg7SDah5b4itFvhlqK57qFmxDVvMolAHnv/fxLG0HGItqS/Sd2vBPu9r9QoUK51NVxBpaPlVmjgub9Xmux2Q7V9TIGEeJc6vwI3Qqrt1KLCl6DUw4HC2G9kwcE4mG7+obVq+czNAXU3Te+mA4t4uUz+YoNqLmoVZybr+5YSEpaDpTYPEQ8h51GnVw7qJvg/UbtiSImEE6lhQlVYwbfQfqAXYqfzkeEyeI2OTqXOalMG447yvklrn6GZjGzbqlf2ggSHbxbwgWcMq21z1qXTbfaHtjoEvQIbKIaUxxc7C0QLXNOhRHWJzQh8LLHcvVhDUY3vijVMdHDsj9PAkft0e4JvILJB03+l4w0tSmC0ez9xpKgsGDQBl0AbMS/xy7oNFKPhXmBaeDdNSrC0ZNidQoFRa3GqUaXuDhNYrSblx+CxQtoKv8AqbdPJFc2rjqWcP2xbo0BhqPZ9NzjW+2aYxjBUottrqbYFOmGDDB8wpeXzcsU3XrNQ3pVxEeyua4mDVP7haSscEoa1xDa1rnMMaFg4Hx4jXWeqgcEWcxEXP2wROXmLfIhrxKsWxXqWlce5jwBKIqDGPMHyZ4qIBTfjqXOjhcaI1jjqJGrMd8SsF/ylZ17IlzIvB8QF8sJweqlOF4pCh5igBoKYR1/vEdgL0C+D+JZlx4Nf+TOYsheX+CNB5MMtWi+5SrVFGjqLQ5qqEF5prqtR4Ep6Y6ApEClsNzIF47JQFotph4IupY5QGmLxxV11L05MM9syjyUcymjYrf9TGAgO7z9TDklDMtWK7KxgI1uUtu7lNG6oxK0NjVS78HPVymqybSYN31xKRLMMY2xqVXgv9R82uDRxLDi/Wog3dnMssLvolm9LWkF13+iCLCqi2jjCxc5XOZYGwB2H+xEq6Pfj/yYTBXIHMyKC2s+Y2ODnTxHAch44lrql4qsQ4vEMHH9svKZ/ggQWreGoUFmeZcobPUu5BSKrKX+v9iFwVnNhcQNOCeGKjFPTuVt01vqHw7ujD+YCG0Ormx6JXsIHtWs0tX4EtwLMRbXlrMIhxSawRavRKOMlh1LKB9LXGW0QyOcVfLZnP8A5OzWx4ZWDBnCx0SkdFs857jQKZXM/iwtW+Ylz98oOOAUDzXEe9aygx66PoQl3vDcWcVSDikbIE7mg6FJLgAwLONtZsbeAwRVcWdiG1oKlMc+9ptex2B6R7heGNV2HoFuOwiQkGyDOxfjFTKVMBprGLLfV1HumR5GpdYv+IBC0eqi7XejUTHQtrAF3jwZzCdPMo0cbsYOiqPKSpoIFFlvVX4MH/sUcZvzNGrvjmAN/tLNhiCqd+OoJoLir6g3ixOQ247iBTPkWC3TV+IHWPcsDA/NQG9UYlJri5Q1h5biocXWZS5Va6TcFC1p1RKXm7vnmUQbD0MUDhfFMrpis0alnGarkioRprRMhnGNsQYoncVVVhe5QoLccspb4aKqpcBz4jYy3G8FoI61vi+ILTDDBb3Wota1SzuK4VuzN7fUzLHBZfiV80LTFQcgfCbeeOrg0gTaVMgLqwBeFsLKRjcLIHC+4UoBRjJEYbStJM2oiPxGmVa9OpVMi+abIHNN8MalogC46jmm88Z4jIVaMsxmGsZlGi85O52ALxRqChvsCYVsh4ZRExHInENlZ8xayV7viARlTmtxaOC9wBZE0uaytYKaz9RSZYNOvUsHChoVnSllhksmxl7L3KXrXEyOnjqZlKYqpVwC8WzDod3qUxG4JbijzMAPDa1Ll1hDWFdntpl+jBGDDHDWoBqz1bdxlk6Y9uPM/Bhj79jN3dPhTkDEyuQSCa00iJSJY4ZcAD1CTQT2rZuxQxkkUmip06bPiPbrsoBQtKaotu2sR16ceCFXIwu81iVuzQYclFD74iVbm4HCXlorneosWC2Htdjw8+yDGpTxD9r+DgzHO9rm0NVFu65jE/wlVN56/nNZFlVsjKTIQvHZXEqxRXANsrZ8VFShTFUHNO2cVMEO+EtbGdhjNwjELVJtKAuqy8xl74l0YdS02mRVdlWJdBwYZWreKjC6SYNgYN8nfJFPLX6W8mfKoQ4SLs0sDYVyqO3uygcNszrt4xG+5GWKjRGlh1iEpkGqAxvnZ55uIGPUcWy2AEMBxKq1CH0AAjJaae4VbGOGUVtEiTNuneZVo9OoORbWyD2QfjzIX8sCeD/8bH+xLkcLXQv5lxddSCh5HEN2ApgKD/kaVs+I6MQdD5ucIh43D0HiUFjPriXwaP1AByVzAEPoRQCfQcRqcLwtmTL8zzmollY1iFXQ+5VFl9Z3MjUDk9OJgSzFbY1aIfFQS8AUaNTBm6rdTNqzWqhlGmu5ZNARdqcxbtMBxH2pxRqXDYPuUxS4ccwZagXykc3ePMG2qsvnEKsWt6qbYB9Msd3TxCclSyUbqqCrGKiBKAsPNwmykJ5lbYcJ9pjHFJde2W8ci/Kol0RULAq7zxGnYXtYtlK8VzDsHkNR5Gj5i4UD1nUK4wtaGotOktzfMUAN8IQtXXQVXSGnwxV2tYohdE2cYiZ0JxUpHi1LiuAt4o4nLBoBAR+SKxdmbIlGtDF5uK9rTtuFBWhyuXS298alxJZA5sxUOQK4XHcfMQq2MWSegGjymGG3Qf0SwDM2nEGJCDAFt4q6zldcVKUoEHNGsLHeJmEHI5XAY24Jpw4SgN2yFlW63Mw2rnUUMtu7lYz6MZA1h/DGYrlWOKNwW6aFLzVw5KhuhZRlWXYQCC8MI6w268YkCyyi0auGH9XKnOCr6V2PQBeOoXmEAthfFTWeQDi4h4nJOyw0CNcRyjBiEGWLK1gPCJJ960KbOQcg86g9AFm5TIFEocZgFEwirzzUx7lKQgo9eVi6qpGwoRBwpwrAfwhIAt7FWx3utXy3dR/ghYnGtMW2o5iV6KGkLjDSRXgDaVUbXgHiXSHLhdqtjCYqMFDvcV/h5XhcUWuRmnGa/ECoo12KS4NWvmfw2vOUT4iBJ5pQAFpoH6S66RdfyiOVwRu+gsX8shfYQE2HGz9iCPgWY+ZdaY5f38m95xjPDVwtR5m8+o2qmgzK+kBp/lgh+pWW+dKD0JlLf85D4qljAc3fdK5s6PCdXOC46sBz1HDOLerinGsczY/UDF1UQOQVRRqCfF8QBZpcJh24Oa4lXRYrEQbxLq8N19SsvBxACRPHiIWv8Tq6t/Ey4a+50DHEL32dRQdpUo8lcF3UcmhvzOHCeXcpoAwZAiyy8iWwOeKiqUrnrUSi2eMdRC213xUeLpf1FULDnM4Ba33qZrqnLMmBXN/8jTagcK5iIn6Rda8vMoaa8Q4eDgmVaHiCAFM3YYgGy3u7/wB+IVDiX/bleGgeqg8wvdt69wQXMtafXEHhRuKtFZwsUtsr1qACgBpTUqoq/JuILVvDVQgMCYriUmeB6CLS7Mfqa9/p66ZrDbcQaGtAK7ZfhEG0m/a9CxdKnbCyl0HFbhsUcGy6cZhiqQjnGTXTpqH8Ie2sU84/MXI1i1mXxIoyPlEiG22KyuovUQvbZzLWsL7Jhhz3aHCC2qlL9Lpbiw21Jm/B4V1KbfXIN4VTmOyqb3FkGBOTLi14NwUoxOl4WQBVIh5iVs4xU36AfEvNUN1poQzPJRczucAGegghksN5Kic8jWHavOLPKm738GhD8MyKoV+oJgUPqfgrD4Yw1D+6lgCxpyNzXgCk50BAXWpUFPwwH7lmMOsaiWVR4o3Mtq0b41ZKCPtiG9LXMXG7dNhWJR1MBoZlyw1nXEF6BZi9qlC0rSFbzM4kmqH1Bs3ZfMt5ylPQi4DnmdxQRvTH3UXiMit+shA6MS/lUsvEufQiH2xDYxTceBWYZqcn75hi+wUppMvEXZmV/NBF9XTXyoQT6iuPXj/DQNsuGn6SkvJKfrwlPqe0AHfiK6H5HH3QQiSP/KawriqtFY8twHwoiP5Iyr+BPxAZR4tv2TCKa/gSM/QhDs471LZCfFwrEoyShIHeOgKa4ilKvgzNloD6htb71UI2wsoHDeHqLMg1uKBw8cyzDi85hStltYgpcvQQp39RtdpHiGS1R91Ck2tQFl18cxHFGOg3KGFAINDgOoOh4uFCjfvcBxacKJdNV4jkyVj6jPDzUpbM/EPNo8UGol0Vj3LGrcRS1Zvglvo7uCmFpvNTQW66gu66ziVZoZ4JXJ/Eu0xj9zVq8zlQP4TSN82xuTEuKR7QaRKWooosBziNs1Utjy4ihWwTxHmmxFxVpPCyVdIBoXOSX08R+aC2JiyakhqrlOPzLbsQBaPMzDZXUWi7XFERrIp0YmoWWcyygX5dSlKAeohCQ5rVTJhqjbC/OPFlbD2eKqbwg+XtAD0PqcAyXfSVvzVQqqwZauVbPJvqwgFnrsXKeeVg2PSzwOmDfgszGVdYve2fBYlZil0QvBjd4qZN+1NDQbBTkvRcCVdrETpdmM1TRW5Wa9Rqq7RmI+PalQaevvNal4KzIG6JWbA8HJmbuoJFYYTRVXKEV+tJLLVXVqBwYhJ0fFgKEDBwfeYPFIe4duwXYeaqCF9MBojswjVtJFPZIhqtal5YQUGCmkjA1iAO2zrEAq3sBE6R48R/eY/NaF/MEow1BsrNImDgjcotBZ3ZpyzBB+wOY0DVsr8pFS2rim1NC+BOrKWw6umvmD6w7VfIRaNZQ+3gojRCrTLJkZtfIFsfE9neo+lsQuVktM649oI7v5A3uGkE9sRPpBlvoYv0BiUymyJH7q5joOgV+CWybg2iTWEOFGNUmustg6lhZs+bipoLxa6gi623iNBFZSrSublArL4gj/mZlC46hTl1qtysNGeIFtYOqNQi8m8xtcG5Z/nzL+g5Y2bvqFLKso/PD1AunbzfEU6CeTOojXjgOIJukCgr+pgbyO3RC0z8iFOXDqpWVIrNxz5e4a/5uNV36gDizi2KCnAHW4UKc4zHKUTguXar3UypvwGUEaF4Y3iy25SmX63GwLL+op2UqWC4AcDF55Y3MUNvHEtzkll075iKu79TE8OgJRq1zxeCFa38x6GTTB8WziEyKob6mbwSaHMxgoBCLjmo8WQ5mWQnFjqLA+bFzwLqZZLXRDnbD6l/8GWWit7g4q+IAcCgDXwYa/U3T43eoWPQFk4f89Q6iNOT1fUBy6ngsuN9ZmN3XjxGsBV/iObbxWmUAavplOiVdZJS9I32agtiz41ALDeTKEC4Ua4BRxZm2bis3kVS8LAfdRarxwspAAIS+BW48lddeRG62odtuo5ccYK1VEOL+oMTtaqXygaVoAUBi4AB4yhqDwBUopqryCmoCxhvc+l0Z222uroiypcB/MZlKUrS+cxMRqsYxMzbauWWDZHLAEuxYbS/CzLOc5r9oUlFWMr9SoCsbW/lEHEfT57bD6mIFYYBaOTxbmpWDeynjIPzLCrdx7uVJYF1gflZtAcH14pQEj+RC/XEBGLq69gCXCyBZvOUVjJX3+eIFRkatp9HEpV6sKRBgatVXM3kKutTTkL3qpyM43ANBrqNiYM7viVLaKTMVkod2SzQA0wxpJjDglDFDXe5gEdLKdwXusW4mAUluuqmSzUQinOh6jroXRG+ynRKXquGoWaunuonfPUHJVOk9CTNC3TiNTxj6iaCjR9Quth1KX18EMmt8kXGd/qYwg/3BzqnfcBDFPjiaXZ0GB8DywIc78S6MnwxstAZbbLWgixQ74CXa04hgN8b5RtMF44mBkrqOHVedR0Gy8ECgGvqNcF671A83i5gWoMRS4D3GrFVxNlAfcoC87riL0CnRnDVLSqOHxOsMNANfEU5Ww0RcCi/cMMlvJLxi/rcMQ78wSqtbzioFVny1KaWBzPs20bmTSVW6g2F23ANucxxyTiYSIN7epi4M9nE0sziC06cYjIF40EWxZeeIyq0vBK3X0AYfqM+tu4B5FYXY4dahErTFAV2hIR8IvjxL5scmJFdL0GKoG+sEMpTXZz/AL+ohSt+CLOV+Ji3B5PMxta4Y4mc1kaXiNqYsob+64lAI10jQC4zKjfq7SJTO1utExSp2SNjlWmra4hNSC8KPlIImxB9ZJQarG98KSWvmT7UGphzuvciv6uAgMZbn+eoyo/PvORsVEdtT15vwQgGOftgL+YdRcA59E4FDQNFfEutrsLzANW8wBNIOqqHI3rRzFyDitMuuhGsamEthqIAsDxUG1wDcGOQ1geZaVq3LMDdGOGWFZr1EkBVcVcDFX5xr1KQUPcs6dXgJRla1ZLAqL93KLqr9zNDFrm5aAqXwGoRq1cXFLpEZDGe+I0Lpv7iKO6zmFhcJVYiXVF+uIt8GjaxyLv1zAlp6zN1eWtEOCy71OL4rjEQUVq3B8I3mNEGqM+IBoAC/uXVP4l04WVlAo58TIpovMMitwbRPxUSUbva4AtM+TBLGsiaUFeWOlg9m5qW2/EGeHTLuAeWF3uybwOa5qDSlvgHiGKg9tkTeabiDF373G7wCKlpyGDqACOzggrmjvuK5uvxFBAdBUEAGmb4m+/RLAzwE4jsVhGW3fSoW1klKAFBd3wEC9+9JoMQaFwFghUFUd8US8ErUtAXcRnPhCkOXkmAb8ECaV56hWrdeOJdVlhyRuXg4riKYssXWSnuXZV361CsrRYDkrNRVaFeC2CU5PuJoCtrmmFHQ6lky7gAYrmPQEphbXT0+YRf2hFvEBQRuQHOMEHrdimzh6grEiLEylGecQCl1rVscj7ibB4TlyG8/wAQvF2i4qKsLT+ppPGEHGdtroJpQDuerDucs4P5RSabXBAvr+qXFY4JPq4DKmdv9MGq3dP8APxGwfxl+1gABdcfgllaebY25u93LY2hrMFwBdM2y3Ty1K3ajjA7qG6a7igoi+F1ECqNsVLytrHBmDFaXqUF8jRXENYvN5zr/YlQ3n5xNBd9UalOSm9ykMEdtagmNWe45WjW7NSk56AbiKUOt1LhR5lx4CraIoL59xXL1wyoArruOYJrUAUgd1KrhXYGZLacmYy+eJzDjgiDCj4lqWmvW41Gz2qK2GGjXUtq81upY2NVxOVp9R04x3uFdmdEAQXJtgdqcviIlFM1R0O+a9S846yLEAaFTibZb9sMHD61FRd2aPE5hGMVLxqXWxvjid5MIj0zVa5jqO9J6hYKzC14uyrI+BquNxaq3xUaU3isErbb4mlsr3FSYF4xr4l2OwDHSjV1T4rUXaA5/kePMfY7LgIZrjDAZFLdF19S+H4iBytdWxReVcMIyxG6hbkXfxUtblBp7eLsPmLVIuEE1hrrcVUSVmos0KfE+Q7YsHhIwAeXQotbK3CPTaKjkB2lccTE0hsuAMBKZY/AwKM2FXZioZdCx8INHXjEvyDPglVbXEqKIJYaFcZ3qAUVSjDUxAFdvUt3XnkOGuv4jKp0oKYvbm961EaaXrqXMkAeJgspSHkK3mCQC15Qhd5fSpbQj2VMMmsb6hJrtAaQKjXxHN1YBiAV0H96mEIlptT3FgWc8C/xKxNEoyfEK0Pa6Hf8SuCrmcNJiZbNeNwGOZ4x8zjtr+JiJhf1K0KGuVifE9Eh5HcoqqydwBnFRnPpXXiCx2puoWLQ+airRt8TvuvcaWjWKyRIVhuVMChUNCrPOIi6Nee4qdg1X+1LOQXx/wAjqnDwa8RLsZUTGkAcYiyxv6l8jBoiIaeKJaYMVqXkPOJx61C+DoK4DtxKFDWnqKc8I8gRtDF1Fps+UG801SwbcOKJSmVQyVLvDXDGmaHze5WlewMEqrh5Km6lW5q63KIsyGiW/GKZXgOTojB9uAPGnDm3EVA28RF0deZc8ukhGAcbiA1WyCoOCxg6ibGbvrUHki+2UOLYrOi0wHuZNWBt8ljUdDOxQe3EJBgS6ioPq0XrEMUXDzZR4LsQ8YsZo2e0cHqNgUzfLMk/z/kMqjgaV2UNJx8MMcOkUynfeRX6vSwg2D3BSxQmz1u3suAhkoabj4oEG6j7NLiUAIoyrYcZ4lVTarYYe5b6yjkwpyiZgDC3QEEFlDFejRLqhReNsqIgwQBQ4vIR+5zVCAU0MGGAS0RocoKqXj1DcUtaasl4lFDbAjk4eYZ3pRYC2FpHhxPOE+3EbTGJVQb1txO2s14jkV01UIoxfbiHJgW3DUKVZXOjiEbALNg6ROb4hxPANoWrxejPDFxYkTFB07uERWNLsRp5r6jk0FdYxBEbrD6iJbwwkoBi6h4rLnjDmqzTaLuazW+orAtHxL4elosCracXKgeJuFEDpabfEuOoK2eK8HXREjmP+Uq7qlVrEtV/yrBBgvrOIGKTwrXTtWIgMiCJFQVjZQDrzRERsANhjKI+oh7iqgVeBfVylohGiWUYt87uWtNMEao4LYrV4GVc7kt8UVTNB1CFAnKhEqPZ6i43i0i6MHg7LPUAOTRjcyOLLetE4KK4mJbDiiaYsLyV1FpgOuKq/wDP4mMgseLrzxAWBBFVQcSjDdlqShYzfLAVAi0z8kxouziKULPNw7HM25FN1mORwXi9y6ATGHG4llfaOjaAOEXKr93ENZv8RVW6ybjazWSKreceohyXeEICGQeQ5lLAErg5gjVU1M7P0eT9muq4hq2+Z0W9dIEVYK4xctziHAtfgv6lpbwbMCIsTHwwn0Vb0Nr2KxHtiG7AwWXFGDXxgibr5qSoK5tib3mTCVecuuoS1NEN6P2jLqXCoZdjgnHNRFV6AIsCBWLIUK2euYLYa91AyagKhgbSmoZQvXiDmgm0wAOaLVfUVbbDTW5abGVKgwF3MB3ApPDWR8NM1R1d31EqT0vOJ5IvITR5N0eA9nHiMKl+QNPP1HkuuFcTFWP3RHCK+QoXJOOxO31RW/AlCo4HBt6R/dQBFS1CflII3METdWSh6dPDMcO8NW2LtE3zcW5pirNDej6Zxyn2tQHInLkrkipSW5pkgBiua9xzulPbnXLWYx42rfA/7h4Q1Gwb/QhpKszOjMQUR9c4pDiBYRCMaaoMgKCgjVmFDn1ELXFnqBmxSeg3w81GaqFdcNIMHkj0FLxUsdWbTJZFZzctYEyTfeMTtGQfwjtoJ0b3M3kJYAtXbUC4ZvtybXlBHHUzFEmEyjD9OXMRnuJjrzEaAI3lP4PxBkyI5UFdYy07sm8wAUA9hQ815GMA2YNBafTF53o0EJ7V5jrkIWaRuI4CQ2g0HnRAnIRRUCOFKnM7brRAbqrynEs3V1FIrQRVssamU8BGsaB6I5AiEeFZouH+y4EBQXOB1i4buGi7txv04NyqQER8IFkAW0eY2x/m8Yk616mcpRfUQrV+CUneIYO0nlEKmR8Lkb1uZdqVxCyAbXDVsLeS2CuzAMQpGbQrMCAgUSUSUg05+CAwcDNOXtz8xmlrGQKOZRuCxsPjqLGKoUuSzD/UbHkdg1Z1/cXld0Va9Cvqat/hBayOolOVvA5nCP3cvr7VPqSK7IV2QSjG64G/xGY0WwQOvnT1MUvP2gLfXLNCG+olMd/UrYL8upnJvt6SoZbGtt3OJFXNq8fBqAwDIhpDP1/UM0axRqvH+xE6w3BhepcaKtNHEq+hDUcAK8wsmGWP+LA0YTnxEbKM9dxOjTBopWlE2aDG6IKp91xKZHDzrQMr4CA/oVCdhAeaqUasrXqZOC8TKfdyugA7WDJIFpaBMcYlfA+Qwj9CMs4or0u2FFqc3GWolsGyJd2cRCaRRlk76uELj4+k34nJwmjKxjeL1OLK0wzWxc/FsFprlwF7SpmrzxLb14Q22QOO1gxg3luZ1FjlFMC9IjkqYVlAvkB9FQc21eRiM0ZzeSomSquCssjVLy+0ty4Hcpprd5fUCBhZ0gHXE+KcRWQqaARAPZ5cwLY9AhwdDCdRZx6VpvwMFN9E0eFYSDbnS80BoOCHKI1DsW04FbfUtsqBTvYJxH33Ww4BpHjYV1KhGj4lXhv4YPogPIBQOOEArQY5lPRVCDOpZQs0ZeJu00gNqG7nGJL0x41d2VS3oxL5cABBdig0v1L8yI2A6GAZDBq11Q6lOmQjd4e5UNimIaKoKXfUp/mOiZFYVhcRv4oOaWnG9XMw3dX/ANPR2NQxpGyd1U4yP5lZrpVJcVlUt5SfVi5ZIPm5QlA7fKYu3TglfcqW45y9GfiD47n8Oqp0qH5kmpjdwGcmofoZAH4Kl0RQ2FLmBoperh4NzaEil4BfN11DF5AyVUWFd1XBq5rEVQoJyEw8weUgAPkoyBM1w+IEC+o0YUaOogSbmriFJzxDg5XX7gAPQNS8rLKwHE2cuouYzcCk+pUeMamigofliBYpabENvr6lZKDYNQeAr6lWegB6eIRZQdCxqW3XQQPQajwWuU/uUcq76jYqAd3BxZXNxVlFji8ykSGWzFR7M+yD4LzFxRmZFASuIlYJgKoXrxMfLDjFxSiF7eYPm8dRLAHSQCsutSrJ445iyZzXMyoUFdxyqqLu4pkJXPmFDSW6Kl0PjH7ZscXLFhpDQxbVj47lqDVgW6nDCYLWnhE3Zkm9NhfBZUHRiOWw1eOYAI/lxMs2Dx4jskanRcYDmAxQUz20HLpoFzXr5g2tuLu6gSHAyuSAk+8Ct+Kg85gF4WEoGj2xEuhqvGo6gfbAIIX11LFuvR1KM2GtdxXhfMOIUiWwkrCsyszwMolHuDrPGZYS65XG7gFTQXg5XR5Yo9eoTuy4eFss1QRm0Qu+0YrgTvVT+EQC3B81AHGNjMEQgGi8LalNSqKKLduOaqXi37cZEOVOOZkoBFepQPQHLuYTA/HtU0LONwprouWzObqrhLQ62hUm0JLVXLT0R9NkOSteXaCH3E9T1HVChdt5FqiHb+d0qUFA6y6xiNnF3gC6viDEqzJwALzVc4TBdSi2wjUxdFdY82ZfnekPYBIBRZ+Qozrsa4GUizmYASW7X4QVxCYlF94ni6KezqMlevpzTqxz1eVSFnsuMZuRe5WKWtgKwutXi6iCR/rJClMlUa4lL6qFCLY1p9Gsw1jciBfRf4l+bUqxqpj/AIbQVe8GRzVREtbnpHixo83jAPKZTlYGSgNhAlP9ueJoU2kcXWoBhbMsvQmfIweSYmZmrwAmDqASiqEHYhrDnqLGZSm6Gn4j0P2Oi0VXioYDShB6BiFNeu+Ggtlq3FPMSjSPERUj6ipQct41G1poKgz38j6FIOOeIjDLKpeV2+WIVl7GVhjVCerMQKzzND2gFsMkoiDgeThNRSvFQbTTeY5eS3BnVaCnHuJ4sPK7gcqqCiozZU4hZqmVtGt3AGa/lFbsrogGw1zAFKV56jhgbQw2At5iFWPQ9QabbDruVs6eSo0wNPJuXi6b5xGzQo+4DFIfMWi6/wCQxQvOWid1dYJYL51TCmh3fPEbXSk0QpMPV1CrNWGMyqBaF4uAwaKoY47ksFwAG16IRqvERpQ5E5GDAtHiEaLQeY6GV7i0q6O1lgqoVslqyDrc4FqoWiFW8TWHYccREDNceYW3k16gHU8EwnY/iACyu8T3a8VxUpgrHjfzHrGs41CRpTEGtOjqYF2XUAv9TDxkhxjlicYEq+M+SKLaFPayUQ0YWqXNVqPqIbY/jvxNrS8zMVDgvU0GMcFRWqOEpQEFPqNAoVWIqvCqyr+qjOwfmYQN7FwajAYLXz+hJdCFqFMvR5im0BjgBeFlmrLIawxHouo4PEbbUNtBivl/cHV0DRLNlhpjDm+JZtfdqdAlrroqXtsiVVg8tWdEViwSogltMLYR+zYUJhW2zfsmXTuYAcHpPcD4Kw4FRoMX0upZq/0tr7+ji29YqWNLUNaDKjFn43A7muTQnD4rF4ZSUyYO3S6FOU8wurArUiFbB0yq0ACgrE890cQsoPgEuid5P6l/m4DzK4agYo9Z/wB/iIYkBj7oq1yuWGsVxgCVSKG3D9w1K/CHSvFwwK1p/wCKghb/AFL6Fj4mX2P2IWYFBb8SkV+fBrIqyJaz6z/sTleO63C0Qp9kdjiNxcQSqq9QayarFRNVZVbSJpj04iiwATdLkOeUTV1Di5eVCh5goJrxE97YtgLBY7LJasY8E7iZrSgdYL+mo7ugHabh3QVN8TZR1M8hqW+LOZw6/cLt88RTqt8+6CB2Qtqrdoq3b69RtOC70xbxX1DKHlWg+WGV0Il40k8+K5Jk2nGJpDes6geuMNQsr7F4mGMZTL8A4ByrgnArC0OEirOQNQA6BS4GgFnRW+MBl8EQJhyOxxGu8+OIoLCtVKUOmAtmHJyQOqXglBrUqVKV/KcXTWKxEC7LpqYPH1SgO3WoFLYtQau1fUqFfIbAT+JVC+tajQWFl9TMUNJvaQa3JCCqnAL+iIAtO240yJ5UhbB+xVw9D8pGmCNRRWjjLDoSSaaGBxbo9xsrG7gN82LjVKU9kAs75YbG+6hgNMavUA2lhiYwlA7vmUCy+ohMZvRFpyx4dRpjGTHibilXk0l4FUteYTebgQYKkd4DFbFukWw/GYvBVzrcu4lFIbCuXGY3uYVsln5wowDx1KuGulGolvNOMSlrI9DjUQ3WM9zHO2iYNCni3Up4OmYA4G2ha0T6GIXGlagBUVnhvBEKI9VbDcHr1L861VpubCUHEwZA6wL7jmSC6laWIGxvlBUQqxsKMjAdsAAzLSr+U8JlE6TmVGzGB6VULwFZQVYAF9BRMhopQVXnweMRUpYfszn9A1WvrhMz8deHAOfO58sDeplKAN0xDarlM/LElH2CsA16VX4WPTQQvSoN6GED7YRwVrAz2CvxHUE5QJ9AjY0EJnpX6lKBG69+Jh2zu2ewBDe/Un4FuCqc4A/glsu/J8QWs0ZyTk4mEi5xV3qbNlHjFy1M3mMzj1iHgX8ktUHPUftHKXbaaVotwXGgJw2b8DLUu2peCqPPEp0UBgqKOXRrGoZhSWxfM1kRQL8v68RPIxrGLA9JmO0EaVsUcVncMInXcNOXrEG65BNRbla1muYUNXhMOcj8QUSX0zZjC/A11FLoBeQNeJxsovqAa0pxfEY02pEZV4IAyBW5rX8wbsJG93ZgN20QkpKTRA+yXrEyuWurjo3nqOMtk2Gya8hFlAjLbbfiVFNGLfziuEO8TLHRNAu0dAtlCtXeVCKm4DPEL5LpgM5Wu4DDvcqaAHcI1bxQ2cmI+iqm26kKC5NEYbPpdcQK9qh2pB0OLID8DdypePKWQ6bgTgoewI+/6CpYwmJfYYZauygeMwy+dYKiq7xnxLO753KarFcQiW8tYxX2htXsvlp9X3HAK6ioPB3XiJVBNsNDKzGdgMRnIcoRmieeYGFPrKaPpidHSOAfrXzELX6WBMATSdzDtcrCx9v4EtxZpN3RH9ShRYU3LtxdfUuCy9/6xf5iCcGjGoY3J4uBYpq6yagJwzzNAwS7wIKXZVj1B801zMmNc0RjQWmtyhnJwSkHp76jqGiAgVSac6jKh0afmEMHlafiNzsFPXi41ZREXqXYUNhnY9Tg3ELWtrIY8LdywOGeFirpQHdyhsBu9xcnHiKEBmKx+oN0oumBp1z5iBSjiPY7vSAWgaQsI5MS6P8AtxKAu/8ApkRSxKcg1mhEwUsJ34aih2H8HlpGc2KegP3MKG41HwrEdPZYq9A6jmgcfxJKgATIF7AInc5W9rLgTR7V+xlavGbrfqK2A8CnwTMX+3+0shsvTxLxxTXiWUxRWhiGzZ1XEotpbxudVdnFxyXb10j4bPGot5TFalDeT0sfJS+NRAIglZVi3pXjUQMt8VNrtVltAZ8AXL+C0EHxr71DFaUTMQTsa+oMosz5f0A+IrXFRDtOuuX7SQWSCas8quoUw1c0d/Jwz1HQU8TZNN3h6M+IJBnW0uflpHxUHMwOIT6H4YndElo2WZCsemVSuE0jhTwo7PywXb0noO6eX9Y3syt4xeFmVQrz2lCukd4IqbU+iAHWWMJg8bmegyXSvDyjTGzkb/cBukyxx4jPOfwkwqQVWR7da0Rte8d7Lei91cJwxL4BOI2ZGrj+kRBwtrPLJZo9EHs1q0fl0md+AvRai5vglErODpk5zaUHYVwgPdK61WcMRI3WGaAc9zh6cnmrQ4L4CBHOL4nBW6IiwSLkTZzD929t3oAUaddStNifIUnFiQKzaMGguacfHMOgGd6HxhJY76KOWnjGyafxDL4IucrY6qoZKOMsRWSr8QNtF1D0qaMZT5qJfwDgrFtS1CEUCFuxIjZCAW1qtFUHZfcX+aXQW1zmUWtY67iZDGgjGWr38Qe0WHfteRcqEmGvaxZ931zGi6FDr/yF04XrqCksTosG1KIL9iVLBSpX1LkhGjtQ54uLMqAVtLoZxBZdOMUTQI0VqGpwrqPIVnUbRcdeYYKoUULBMNXbxE2qzOVOoYN61HMoEfGoYI2DwqeDVthsbAbwXcvUo+WZaEkZRv8Al+IpQTo7cQQeT2jWRNNFLkJqzl7iNwNASvmAYBWNysrRXBAJky6JUVbWrwRvdmOK1UrAgeL4g4rznEtWnhL1AQ0pqYGLAUTZb8aYnUZRmcZbDS5DqHlZaEeQQ+4UE8Nu/dBODZLQ40RtbDY/hLuVq9yuCk9bjaasjplrlqAK1OhxCyuGt4ggyMGmK3jd8sIKRvuuJkaBOuoBchSTFI00+4ArI+kvawTthnIX5rUFSweGDWqMdynfsbmB1X7mLbVZxAUzfrUxbdp1FwdvOos5QL1L7pzq2PJopfAEObWPIq3ig3XHqNwqnAcjifBEqJtMsffFd1iAEeKgKV4VV6jWlAtpSisqx4dzp6Lp4+B19zA4nKp8kXXG6iBBqc4XqG0Kyy973sUuPXUtgMXFbpBsu3+FODnvoC+HiPkvYziqtfIZzLZWg1yNaeR4qPkpSrBgTuzD3cEaQcdu+6y5G8xUL8MDJVFlV4lHER6ShfRoMZgcZ+YHYfwTwzaxQHDX4liNnFWgeXfllTALYxEhByzrb23xnGoFNC7qpYXL48Ra+j5lK1zI26qMKNOXOIFamMOmV3gK01K9uo9urshwN1PlfsYX9BDInbPPaRfzKJUFK/seYAZXxjcppyYahGRUltKvqsJmX5VDitFZpo8ywYWqGNwKPcB9J7pfmCpUKv2t17FFWccS9tBfVRQtYl2lMc61EVYlWlgGLLT9xV0Dq2IgdmVC66Diba9NDYNmbP5liiYYA4DR/uoqUBJdbZrp6hAEYTBYA8BiLQhpqpUOokHJ4wstV1LNzwHeB1BppAgNl+XGuZQaA1mN2eO5eaVj7QgX4n3Boj0eeWEyLNVPaR6WWC190TJ4O7/5E99EQzYl4iKtVfEpQTWg7hUpo7luSkuVAh+I0FC+llnS4iCPxgBld5viHGzDWYDDO61UhgRKUX8Ewxea38e5Y200XqFWwlLt4lwBYt+nE7Az2agLQaDAQIchirl7ShNVA5YvYTUTWSj4mhsfgJjKseTxFz4Go1Vket/7ERuzfKm543nfEABV9cTHEUg2oUzxKBQX0S5xbzc2Wa8OpggKuyouaXlEo0HnghhV2H4hQXlt08S8GWxiiFn2FSDtpVa1MwrTv8wS8IDGIIFxeWAOl9spZaBmFLe5duiuVi2UDWqY6BS6lxS14YoxYswRtcnzGi6VWJTvTOoCOONRb+DvcaHW82jMt1+4iYjT6oa/hLrbE8gufRomU6IUrTDg7qP6W5ZEqLt/it+gl0AwiO6OZlsrt5gmLUazqJeyu11GAIbzUMf8mAFaGLiltLHNRp3XUQrE+oI7Yy1ADZfPmZ7BxWZqkvHmFAu1WtVBxXhiY6F9xUrR4iHBruZQfUoDj4iFNkaGtURcWgdzKk4SiIYMRUwpjLUKUqtZHiOWDjjEqysAeJQShxbFei/UVli92TyUHFVcJJkVyRA+5Rq90VmcrG2AxoJVGQcJUrKrxy5iqym9RNBrumDC8DkmOzjVRqp4iLMF90YhZujuKAdDcyofEADhalCFI9RIClLz1LAfxLTOehqMbKzipkJto6l3YFVwRut1jcWteZ5nJxpiLrzcdLHOBIC6B61OhR+4GBZOoGwM33EXCychG14lZdWoVaJop18sdCvAzXmZF0HRweWM1GmAN+YIocm3P/CGsE6uIec3KLwPFyh8NF8RC4stUQ0ZHPiIrYjigl2RxhbHsYaviUCxa48wKbGM4iWuFAwPEEtAN5Y6lTe0/qFLM4MnUumuMiQ0HuJdXqMBlXmNwLawVqJVtKaipky8TobThay4lNEDzH/g5nSEF4pXVw4XzAThHrMTA0MYBhi6W/e4WpY64iDao3ZWHrcLWb7jpc4ckS265yHE6wARt1bAxVCFPBLbKD5uWxF6OqNwqhQECIojriYo0oIAyywvfNOSpjFtHXcutc8dRC4aB2RC7S6mq3fqVK4POImq4rUyTqGdmc4PkijPGiHUe3iKS2nhO5cd46mSnPVxbba/cFPD6jErV1+IEEaqpgWluJ4zaoFv4GC+wALALZqt6cMMK1l1rUyg3T+Ir8OzmLQwIvqMtaIbiwDATkWdS7o9koHC62x8teoiAIl8S7zhRVEQzrVRmlDRMeRC1L48Sih1DBle6ZRe1DxASGDO5QDh7IYcXhmVtt+YrcfJAUMyngHUwA7XnmWhd13cwDTxmKlU3bqChBvqyLOGqPqUGcvV1MFUnuZIArW5QAt8QQ0uJd6ecEG1CAZisQtqrYYbsOnUACk3Etkp4jjQrHwX/E1cFcC7QhNdtGMOFyHc2G0R4PWoyO1o8XtldC+Jyu1rFTKNUnaSzAp8S00rzNueWFMqccsMwmPVwWBrGaJT01mzU8jrNsQcgXu40Dnp4llwuPMstl3tnbq+e4OsOcAVDLWuQltu3yzARMdjMFrY4zLyAjWr4ljkVEtseJmAD0cSxkp5SHFo1VjBlmrZ8zC6AlCg+2ArJiZaD1KBfRLGH3c0au/E4LL8kt7bFcTYcMwYKzjEUZWh2Qrg55eI9ANV7ixYxmGTkjYVW+vEoq9tjLOS/qOl6qmKno4WVTCLeYI03Q81ontb4IUW5rzFzT+Yd1t4mGTfFEdrj53MDASzLFeo1KNdoNjZ3e4Sx3uFCzVmIhTmthPdxvmeVdQLQUqVKwd7FNFvtqUHD1TxU2zRjUyi0eo/yFicU/tFVhY2Ppx3EXfD3MYab1U1j68ReQJXEQG0PUdryeZbWeDjiYGV9QESn+phw5L1W5tAN8SqOwyxpX45mWjxsngZgB/iaHHWJtRaP4maNdGpjS4TBbMGGMlckHk2w4CWvBuNLKBeXuK21NygEQABtXQTj7cbdJiMDN44/Usbu3zcRTGIZAaoziL4NbjTYfEGm5qiWVoldqzmD0YFUIeWEmXpVVE3aVeBIqmzyVH0BnuDESsl7ZnMHnGpTZuXVnKAhNz3thcFPLomISwlrBqm1ffiCMr5RMqVhdYlKeOA4iqNPAagYxnT3Fsr6FVAF7buVWBQ/KK4q16qVx5apxMpCv4mQA+fEMYXfMtilXawotcqrvBXEUM/+IoGeZRooOs7hCltjBY/SAZXRCBWVgt3OmWt2w3jHkdSrdpK9ZlA7w4lC1nGiK30wBxMlq/fUoUu5ZrA0S8poOpYYPoMQxVVvYRAOAajKyrjjB78Skc9bFjTtoXxc0Oqn1DYvmCaqqMNxWVQHMdF6UPGV5u3qF8n1KJmlrca2YMQVZnOopqm6wHEHWXwYbEPlo+Yc+ubN4OBExL8ygVPb6SYDVByxUYuuamMUj5lFrm+SEhhH6je6t1MNG3cQx2zfEXVopxUQV1ApE+Rj8oGE/ZHA7HmPU1LrlE8QFBV4f3QjSJea8xvAvCrGJKC536pGTAxwib0D8yzbhdyweBeZhpv0ShWI8RJkH1xFjZ2Z855ZhkCfC6rprHrzE2KcNG6g2mokppLBJjVF+IAcFPDG6soa31Bo2KGyWwqLH2PQw+8NG9Tini61ZKoy5zC2mi/zKDOSspLKvdog41ydcFTADJWIaXqyXkswGsVjzFv8qYWuye1GIg6V88VKAi+yOjRpzpA/wC8woVo12oTpdPGZw5s3fEKCQzwpPhl5gV03T4594gBPGKlSGMeMy0FMtXCks1BoIeSUbKX2lapaqCZaCuK3G9J6LmWZZUAVUNYpIHWye0TiemCz5QWQIKi4plAPWgNYiY41S3GHaIHV9StnPuVTWvK8TIvHqWU6dTgFPmW6aTblHHJCmhjDLazox4gXTmq1NPbEyak5+FK6d+IO4XLYbpsHI0kegAicwimD57jQWPArdTNRA6riNNWKzMA59BqBSDYqMNPytWU4StVxCSnXEw3npJh1cFRDB5yQsJHh38wTfMGmxgrI+dzjSz3BZErrBGsnaYXUCzF+iOMJkNJDRVNXdy7oW14uDbgRR2kE9U5jYoGzEcFJ7iLIBbKjxtSISgvG+orWLzydRmD0L1EQE0ZFkfaz0QtzoCs6GeWUoL2YjZBDe8aje5XKE5VaVXlneXHqCMuBRTsYC49sfkU0BaB3jEy+zN0VLRlKfmbMMJPZgGAjgoLsfxKIVUqrQPBT7jSvGMge0ykSSY8H0DNdRm9VvaAtfr9SjVOhQGDmxadjbUbUCF4ItApy6zMje+KihlGgUeVdPe4o08t1k6l1e8K8d4ZUsGHEDyS98FXAPLqJvnXOSl65mWFbfFUS5UasgAVADNsrSdiXVu5iirKgLyvfEex5jwDRj1HPKbHAfhV5PUc0M/iPVXvwwy3o1Cs5WQc9nmLp/NpOty+IkJMWiWRuqARDCeYatTxK3OTejRf+aiVgfmkAbxupwSmjXxMdUtCAcht+IUtLHCSnBT4lWrCsqkQGM88TaFXWJmra4hl0ODE9Qx21oLlZlNCwekAXqmN2SnFYZmzozQfXZEqAgZR+zJ5lUkXQJ1dJusX0QwumAiqtM8zFs6ckoheecq5vDRCwAdC5jw+pkWTmwD63LL7kUzY/mAfQUb0AYOoVZgMtWohMLb+jdC3hS1jeoIZFjrPEsoEeThhDdi8S9gctrLKbB1ApWzuKWFXrcSglNGyZuaMcwEC7pdauHeUe3DIr0ZhsYBawfmPYxROAIguWYQr/f8AIqYtPZg09e4Ot2eJgutngzBRujygcV+OZZ2dpERpw7zFxTX8Ggt7w1qZghFnYmRHkeIWxTf6jUcpVttp+Iy9SFqmCaKVjioni+gqqxhhQt5nADYKS86GPEsXknBxLEgovDq2oWsL9MSYg6d02TR21X9xD2YvFLaMDOvxKf8A1N0C09n4hYgNWB+JMkd21rgJfiNq0DgTcBnPHzgSvv4mJXEJEhNBpXFRLsoRsl0/p7hCNFsx8sAwZXnRdw6OVQl8RJOV5mKON8RlXxsLsV2KHSFTeh9chlQcJalp6hzWXWDi+Vw+HqLjsUJ4cVGoABQNRBS5vvGeJnxHgt3NEyrGJixQDW206OCLTMKu2Y2hx5rEbUWjjGo9nDDwRzoagx0OV2mrxzCtYiINADBa+IhVONGiRgWtNVqJTYSuCjac6YnGCOkLHSY4zNZCV7VsBfHiHYoROi79n1KV9CRYCM2H8DCdl+C6kL/A4qLpGVmSaUCnqBjSgpSyuF6LjfuQCLQVs43zAQMhu+hCjerjo6IKECgZaPzAe3grYB+IwPIWUvANUMrvfjfEtisEbRjhEReqOZQ8Pdw6YqKdlHMxfG/+h2KxkAGuMA1s8mqguNziKElJqWODKpN5xbMOzWpYQtQWDY0RNMkb1VDY0gqmG6I1vmkZ5uDJer5leGAsMCOLslvpCYBSwpviqlx3DWzDIHWiV5Alto+mP1BhMtV6pX2XnHHqVQsL9vKUZrfctV4X3jTWHOIfjmmC0ru1WnEOZapKrxjHxDgG2UEGk6THi46kD4FNHRyDiUw+Ey8AhsGDBVAzSW+iZHPNrjjRR1a8xGip0D512md8VOi7hQVKTgdWjEQUz7bvlPtIM4tP4ifatC1vg4A1OJ05AasvDhhl9HFGHZRlC9sViwDSo2Mt7r5jer1CtV/mCo/IiVtV2fqPOq6xGwcLrUXxbHIV5bBrvTGpqyNgagtpbyS39KpB2ivthwVhP0FleAg1HV2WXlLotX5jvtrnIFfVQmvvGI3U1uACjq6iWpyC6HL3QJMrLV2NGDLbgJ5rRdhhAb1gzqKm9AmgbyOSKIFlHNTanB61DLDb+IlFjR+JpWHFmIAy/Q3BbQp4IpZa6x1KaXcJKWEVu1A3KjwtrHHUzjWEtXkwv5GA+HMxliM3sv4lM9LmHJh1CwcVnliq1biG1KAeeYmsD+oLFI/JKv3n7lcSo10gF4LGXcyebHLH4FPiaaGbGoaZkspCk+YoCcUgYVZH2XGkG2sfV1qYDLUMGt5Aa+ZT+YwcQFDZqr06qX3GhtLtt2pt7PE1r8+K5AFoIVBrJKu0eQLKcxmLdMEWHSBfwmGIatTQNFfC4w0wZdByAqoFkRpXB71FXILSBgLi3XzEz71BCr7OSI6TMv2sayXSOSVrm65lpEEoCKzkl8YlxmukjZbdpQO8NfGP1eOe6iF1lb16wplDy2XkmwaCmWYOG8gbtN75LCa2xyTRYXw1K7Z1iVF6FO5VxB6vvJaRMN+JeCXaA7V34PEL716v8kW64IGhdNDsywLrJyXLGebjLy3fiLtGi5Zm2gB0DUQuS5glDXREmpxqClDnFV8RgECjAWd0YGLyyurggdxfHruEWAgm9VAsKoXqIBqC3ZZkyZrUzMNRoqs5oCWFjR+YY2HbWAAfu2Zc1+4PWuoolUBWJgi7YABrTsu42huG56DkpcU6xEhiPOLI0qsVqDAGrvsG0+pTiKGFq8au8MqM2h29gpBoLxfEsltV4gEN4cq2a3nzABQP9Q2fXCc/Q+FiF2FphOSZyqWogWJbr0zDh5ECrRxxEK8VkvxUF6tabgTWPBK2VtjqHZj3UsFKPousXXERQhAmZOaE29zynZb8lLf3KrYA2BoWz4ZWEIBimj1DsrKWcdStexBdWjXhuBHCt8fAZTtX3QfqMtELWjSJdt+4UJmLFYAP3BOlItHIHQcUWR+tiIoZDyso5uUoWBVsEdpnwJKS1WtsA1yT6gEweGqhTYinhIl4x/MSynGMQWC/CF+i3KylIAVNrkSw+I5rzJGrNYY5lzyLwcRIo/h1B4ckajTTyQTVD0YI1gtCUHq9e4VZFckB/IlwAASAeO2GltyFfLP5mKIxNFW8xqlDKscUVLQeUOJltrBZi69dR+dpouMijjDGILQ9CCdqRa1gjCkPXEGmK+tQFKFF5zDXInRKvljjUzREpgYyzWJb3D5F9moVKXeCXbwTWCwj+Y6FZvpjuQBxA47g6izuaw/mLKaHsTD7xcQWsMX7iuNX4dQShryM0VV31BYefMRwvBEjdHFTKauJJQLALusYh5K6jbFaRSutQxJmqBXA6DHFwAyBGMGxpO/6jCYFTpVd0FZxx5lbHiYpknVG0EMgaZbUDwuCnuOFvLyCxst3XhhHODMHbev6gbBEENFwHW6JkZdjcS5sztddRjI3QRAcA4eJQbEdtRKvQ/UD+pOanAwnEDQpS/MJZyJAvamV8tyysJ9cpN/+ViAWrXbbqyXK7jwH5nVtKl0K/iVOJtWgYMXUWmhQwYCnRzzEvTKX2FKtWh9zAzniple1arM1dDjPiGEn6lVmg6s0HUeMCeJWf2irFF2kzTxcZHl3zMjQ6K1Hg5zs1K9bPJNo3l4ltmw80agNNjacURzKMthlv54TKXRnj/CWBdZbGz8t5dA0eL1AaqIBb2RyJDThQdPTSq3kt3D3dlYM05YxxUo6D41KoKDHcuk/ZLmKFaol2+ScHjniFALHSxOS6xjicxTxUrSVXll3koHslN+DcwFW7xU0rPplp18yo2aJ5R3ZC0N2URo4Vray+V4iqxZvqOTw1LRot4lYfpmOMXxu4OSyDs5PETShSwqt2dRoOiPFIew1KoRaaOoOiVEdi73yvxKAxoCjFQDWcfqEbyYjOOZnuurIGdcQ5Lx+pgPrOasNRGwCsXQTFot/UrVFGNTTirhRt541BSg/UUZHDVxVbquF8RTJDodQWbvXqNDo5I6QLrqH1ydQ80eMS1WmKlarCu9TYKvMoy037jjJWuJlXz4i1nF1zxKss5xjcfOrrxKFQBdkYFa3LQlG7XOZNKKDvj4j1pZROV3/ALqMvSfgjTyfUcsBfdRV9q+5TpVcpoiaFFctQDgbxUvNDqhYS3qwHxKMlv8AOUGZyo33L68B5SmlB+SOK2mzcz1Z1iBovOiHGis0o/MsbSuQ1+ZS9AU3xDIebFT4Fj2hGz89TAxFdBfrKfqZXBf1Z/mAUTVfumX6lPbP8uWKCY8z9RFPK/HU50GjU18czHE2A/Qluc+UvyREduz/ALR4sPYn7II40pwBWpwNDVGMMFFF5xtLXfiIMACX1BaCxtYLKQgraGDYRtt8CKXeWeSZ3HuOiGNFIDdOaPqLLQrEtyUqUlL5ti8G3xTarlxb4iT3z1ZUl+pb1bYi1bWW1Y3wXXfEVsdVYlHT04lhPydsL8p4I2Bga1B8FG8zLo43cs0nHnccbciy9qUmuiY2q/cEAATW3KG9a7ZaVMhilZVuGIkUTSoJavOKqUJQV28y1hNbIoOMm6jeFQeAiqV+uohX7SJY8HBcVGwijFX+pV4Y6vRDMNeoXdYY4NxB08pLW6z8QBWvPiODL3OcVrmbeDVOpqxzChw5fOoK1SJmPO40cTWst3xEu0DHMS7VPqUrdt6jZWAaKlGGh6nGt3i4K5cbCVsvELNVRUrcwaq8cSlQAFYmLsWh3RLZmtXFObPglrVS7+oARoecxry55IhbANavcTZlrrUwFqNqy8ZCeISm8k4mS73fEzqzW6nVUepaIAHBAMii99xG9NYqWsvCuyO1Rh0IT/vES8BkF+jMipMnhHUMl0o/iUXVSjd36dVUUXZfmoJDKh1Mcq8dxAq66mfFnQwKzTcatCxZZVv8zZpZEGCy+fUUVHOIkh4mBVizmXBzmrflCVSizsvuKeWQt35GUpV4U38QjVcAAfRFfGXa3BRTWMMdphDjmAtWp5QAXrwgFdwvGIUWWTYxyBvkqC4LHmdoZ58TAAgNTmgHgJSctMvlxF3Vl7XFSw2BjllG8ygARtnPxLzgAvqPsZYZxlxVLNjXll6rLKLXbdkO8r61ChSlgKKAo3UEHIPURt5vqYWttYlm0TGFmHhUxlusQw7TxCyesTi051Gmwx1iIWH5uBbWB7QiH/RibZ9BDxVObXqr5rM0gbugp8FXzxKEC1c0C/mpfkfG4tYCeVV+pReD51L1Tmo2K3nGYoGXZuPLTFWLHgagF1fiKg2NdwaV5rGIvb4hW7Lawk2ILTBDDC34iLSHGZdLz6i5VWZiiqruCFFhjqUcFRBuvPERkB2RUyL/AFHjQO4l4b4mTI37agbHjmPNV8Ny1Bs9MRpxxiF3m31MAe8tygbv1bE98cTZoeZsxaI0FzHBvwRF5G8FQzWWAXbKBSqvFQquTEwNBAAVm81HSigXcC3N3q6mnWeDqCfHARNqrNPiIzhro5gqKD+I+XApcv8AwRNJ1LahwxFoamSCsAWr09QRmXYJpFXRT1UpL99RGMN8eIaCP1KRRSCtfOdQFL3+I54R2S8N0f3EJq6MyzAlB1AwG8axKscKPibB5lLi/VRKON5pqpWsmeyJFhZzncvTK8HUsvxoxHJF6ETjF9e5QYdYxpbaMZg29PROOvayhNpq6GCKPkIUFVMIEKxmKsM3qLgsF8RVZMdRLWOeply6gRKojTAimLsVb3/UaN1Z0yzau/EcFEuIj2cq6QeunbEhIrhlvY1ErcAIOgqhpOEFzfhlIUjPkCypxZyysbs66JdDw99ih9S60nnRZcuKjik1pFH2RHy4vKemHXcdn0SIVy2je3WIgw7ckpgdd9tOQqL9IpHwAGuzUa20qNecQAT07RSejBruZJgCacAF7Opn7DKg2iYxqMB2lutu5FXjR4uGTCDRrGZI4GF0S24uCklFXh1U2fgdQUXrj1G/WESw5fUbu2muCPdWBoSKoyeC40u6PUS1RbcWnJvMzWHq5sAFYxNq1Ag5F1URuzypcGAb9RsI1fRBooSvMWLQt6GGTFBrxBuUq7YLq6PUvgBfiBfF8VqXa8WaCCu7CtTN7PmK1pVZi4Fo55hw97lkbC1pmRWHHUVT1LAZ7e5d6vWCKhvHPieN3zADw1jzAaaq/csChm6up7D7mLJv1dwzvOYYMVXLBKNHDA8J5IvAK0ynG3xX6gyhl8ywGzi5jaQKDpf3GKoDIjdSyfYI1TtjQiVcW3itsc1jtUujVsyrNY31EoC9QopcniA4W/BNDWq0Qstr5YK2hysr/iNNYSii4NcgfUUvhoqYMlnKy+RrguCbEoeYFHEEU1QgcBqDtmucxUMtGrmTo67lVBKJcsCYhh2VrqN2fYYgDeVbq5VM1LxxKVml5jkVr3FQHTWLIgbx2uFVj4airqzwxyNs83xAGDCy9GjCy+1PMBoAtJti3tKzt9wyXiUAZitbIFzriU9Mg1kt3VYzxHR3hF4Q8JAbFoDqURUjytTPL0S54KC6AtweIkSzR5rCs3BZtJypWrReTDLwchHDiHPG5My68v4Slk15Ep/chcioh4SmOwvB2Vq1lHAtEWlC0ejH/BAHhX3UFe4lZWhRzYZWIQMNJaRMiqGJWWAebX24ljEU4VToOA5aqFxQwNowz0SwDd4xxORbMBOSUviOLFoltsgaam1oNS6Wj5Jgmx1kmC7M+Jp3ivUEy0XzmO83lzEtLxwxBcUXuDY2+3Epa1+Zdlmb4JSqwxWsFY7lsc9kyXh1HenipnJzzC9jMTCnqF5MVvqCX+Uc4euolBdp4mEyV1cS+ADqYLLxKq6A5S4NnfEAaA8mo4o1bqWnT+J2qks1i3qFJYb4gWbu841DdyzXqCVRQDqJWAMGiPQPXGJmwOeptVY8YuNrh9StKhnrEotSvMTGaekpTa7zEyXTqdYrGKNRhzeH6V/P5iKqwekyCFNNYI11tFMmZB15DC8kbvDne6g09P7lXzUsXg8eIHP7ahNOzrEDVqyqGiviK0eHMKGCnAwHZTeKIZZWrqu4FBpTsGKMWBcUfJWLNRrbBXcwNN96g3gtObmTSlaIPDh9VUsXYvGYioUF4mwXR8wMrSjkZocetTA2PXc0pF8VxL1mjxmaMl13L303jUtgHH1FAcv1HDA+ZqxHtm1KJyjDLnHFRawrVVUyLsO6uoEIUvqWALz11KIso7lXpMo6oTNHwQpEtnAI5KUjqAsZAYwWV8RNVWRDADZ2OfEXDfQiYHVeuuJhXQOYJiBgeCC5IU1gj0tvjqV4B4i3pSmEstd1XcEPQYirYbVxBVDKE4dkoQywns2flli1TfcWsWj9yoDXC9dlmP8AkWqAArDgAwEfwYs4iMCK5VrS8Y3FZQCg6A4AMRVebOoCAFldzAKUNlcwd7y5g80cFS9AfE5Wp4eIj2vggWWBDt3GlB8RFaqK6t+5YGs1im58ibLK+CWz/E3oF8EGqM313FYub/cKmS/qDd3gpil4rDVQyA5V3DG7e8wcKuzxKzeHhZlWqCW3HGmBbWvxNKu0+o0B/EtDZ9ajVbzw3CwmCuLmQ6rVbjhd89ah9x1Di2+iLTkfHEHkEEthA8+oCqMPMEttzziKQYFdQcHhKbuhL0QC9ZvDxCrNiRShAXjErlhDHENWAfxNt5RmCib3C+DjzuMwaOHOW/j8TOWfLUq9ZypVQq+XaLhfOlNdQqUBeeF8RwF0eBnSa6lKA1zMAq6YRnKqcYzuAmVc6pjdDmual0dvCVZSAGqNyzRdLvEE08cMV6V6l4M3jU0MCctaJQsVByFN6IcKvULVw8czFaDHUGww80ygVxyEtV4x2biGuM6ImkRO6iptP6lPVencbduMEMpXzCgUY4snhWuomDRZSqUPaywFofEppKo55iKWCepVWVWMSjNWZxmpWcWkHamuIs7L7hLeABEDYNnEaCI+FBfKEEUXg21cLKgyIB9ncK1h7xKDp9xLWSGsQTClqWYxrVy5i75oguXPZFsWLMMVy68Tq9ViioywwYtYhwUVrEpopu7uWrCA8+I/LfE5u/iGldy1S1C6nXYxexzTiXVs4mj9FmSeWfUvTRWqg0FrW8Rojl6l0YMG6YvknKy6dq9Q4QarhhWfMvGxz1OGr6CDbTV8wcq9VGrPNbeJTnGOMxmqfmIo+hCra9dxKeHVuIL6LdEFU54zKy26RacFvWpW2gx9SsajVFn1FFuK/cspjhSHmOXF8EA8GPqOrQUw0VQOq5l93fiaog+pbWDnEL2UzkqpYJioJfgO4g41oJVC8vJDF0HpNGKuXbjnuBlmcOHcwGLrjE41p57CASvBOV3z8TIVFTb5JAIGLkAlYBVMXn/XBzj7jd5S4C2K+ob3VX1KttSuJQSvjMotX8SxXmIoLnll1NZvmO8grsji7WlxBwFk4eI2+Pgg5IPFQQSgHkijYsJdZLuuDUHLb5HmCNVjVwSnC8Yg2FHuqhjTX1LKNj8TAiBmBo/RE9iuZYFpo4IOaFe+ZwLXMwbM05tlnnNyBxGhyTxiZrJz9xE6uZAbu9QMJR4tq4FniuZgiB6NEuisXoqLKjXLxCs3h6lCGuwLqOC6b0BLmHe8QaJZQVQdRyNLfk3AwsFGB4mTQo2ISgQPlctg2q3zG6pMeGIbUWfD8ESaW66irJd1khoFz+JdC1ONytGxTWZhY+FnnT3jUUw0Y0VLvL+9SsLT1G1zjrUbSn4dTCcpkMue39QRwbzxFFOPqNCJXzF4geYLOfRMBFa6qGHz2zBLy+oqtYGsVL9Y4vUaBeF6mXvzFvjHXqKWYQ76lnFSwtLa33B4KA0Epd8OjcQtUh6nxhcW6jQV81EzTXuWGUKm0ODzKtS48EUMbXMzY8etRDteMRBp36lNA3LV5ljRlxUvV2UY1MFZVrMvbVpqmZlG2MwUa671LrB8JZXng6iK8nd8zCrsOSo+vAQ5DhltcPkJTGK9TCpPIg2EoCOtI5F9SYv1/UZxUaez/MaGjKCijAVAywHNFWlrjH1VRN5sviYEUOkoW6ruJvLWIU3eH9Qqij6IoLwdQycEX/SF4w9wQrB34hq09VBS2jwTNwcbSGSlCos64xM2nfbN9HsiFFDW0sPBUvyLnUBbYrB3HFx0LYUAwfEQo7xsjC+GKi22rX1OhLZankM3KFAz3FhXKHldeY4bVquJq3K9zSKJbYKcfcAuUrjiXOztiJdZfNQWsqJk4vzmXheSpgx9koCYXYHiiAF8/UWjLV6xFyjrzFwbrmNVx6E2tRXLBYGr7qF2vZKZpLSArrzMrgO5QmUPUUpF3nBFpzT7i2nEQLcZ63GrlGGi0reZlKoGLahhHEdU0euZXpXjqCVKHZBBSrOSNeaMQKlt9warWIlCr4L3KzlR5lvFD9y1xv8AccbSqgZItwyiOWtylANL3KrA72MKNijxuWQUHNEDhr07lVWR1GWsiC7oXteiZKbRwxVEq7yS18IqrXzUbyl57m238sVsBxi4NcnxFZDGc3NgV5qGGij2wsN14qDsYK+5S501uU8CpeekTTjGCZFUBE1lcEBKIBCyHIndkUMs/wATg2/U9HEG9krUKWtvDUHDhOVIOePEYivgqO6HfISuEo4F5Aa+YyBxzcZ4QgUNDJYe4NbAAPH9QGMacjXXURmsPqX6olXdpF5JlwVx4lBe4a28Szgzyw2ul8x7AFdTgq6u42cRl0ZpHBGhTV8F6gmNL/UFSvVMs/xW5igmTi41NHAI8GvU8BUyLCqxbBtzk8SysLxcG1ot6YnDa8nUVFhiKgDaaSAZeXiIQd+SZFMniZIpTfEbCqriZYMJLq+XmONm4ERGNZAHmpQLL9sHDRbxBoGDrqV4AV5K3CyprqphWX8Sh/2IIaXTzM1vjOo4KLK4nlX1MRV37lhvREYobvMtxgLlhxoxmXNqPqXfkvJcQA1vxMEqx6gHOMTDNCVk7mMZPcKOGQqNOVu3UKLX3RChf5Jtz9sTQc5449TAR8jMJd49xwcB8RvbgiuvhqGM9BG15L4ladLQFtAy+LjH00FgaBwiU+omXn+IeUz61BsNho5oLfxDh4pDVQ7yZG9RtDCMwwW+ZWSNe4VTeHqAUUeNQ0MNfqD2F6WIqnboi6LbSqF9DfxMIgwPYv7jdabgBGtbbm6Er0wum11qoRbbxzKa3ba7gq+NwKYk5otH1/Er9ez5LDxyOsx4Uc/US2xrcI8B5MRtZGVgW4vUwBoquphdYxyzHNvmGsYSwgA/aZ8+VnNfkLPicV9E1fka4lVgNGrlIaehLVzSc1xGwOHPMNFA13UqhfJzzMuWrzf+9QrOOIy2gNOqaNjRyPKvMfskl5rQ22x/4jovLenH+4igpSeV1PL4vmAFAfFxAcYTi45bthnHQcLuW9D13EovC3iuYr5vm2Fm1dRPK7+4NqMPUvLlM1couq3zLQOC3DBr14gInF8R4t1EFyfMwKtnrUya6T4PvUROGvEvV5TqVTz8mo2PAcRaCjy1MqwquCWrh/SKC8HiUuz5GOYFvBRqFWasNXuXQou9TpW/Mcuyi8LxGbAVV2HMoFBfMvVYOqiM2uupVhhg7yX6ZYlmLxDQSdvU5s4iCxzEDG+XqBw6PPcXNPwxqIWdVzGU8eIbigOmBScnFwSW2eI2KyviXcPvBFx9iLWUXxxF42Vx6mk+3uAbbfUNKyXyTIBaOS4Zy2+GXCombLu1ihWqiiYQmhBC/KVHgIkgtYvNNagLdHRK1HlVVDCg9IiQryOqYASzJ+rm8qmSDLYT+D1GuIg3LZVxd91RLvI5GGKni2VQZPGJbByceYAFsBW7RGeOc+eKbCFWUXYsirZExGhBJjFble9lQhQG7YpHSHbJ9j+jBmgCMKAxtTdUx/c6NaNcBaoHEYCRNrOdWWs8QIVS8xWZjBd+HxKPArv9EMK2v27LVvsfUqT4/VoUNjTduYJY3WioW1KriKxtrzHtXuZcQ4cBiF0vpKIDFMlQIwV6KvoZIyIFbsFnYJqOxTA2gXj/AHMBmkDfMZ2ccJFyuPUTu6d3MrE4MzIgy7viWdUG8k5jWF4Gr/UpMNCsP5ID4gI26QG9esX5ll4DOKiVi6zEcI4ZAZjkeMbgus28XBovT1LcaKcWwV23uo669kxb+I5glcGLsidAWRxmWQlS2Z8hGwdyKfun+ZXn7mxnHAy6/uUaX5SAG6ADEBLAK1KG1o8dTBgu3huoxXCnLFurBpxbqCG/he4LwU9QLLpXayyhrDERoMHAyw4ceYhtS+pQ5Q0MqhCDT5vqKt01TOJeFY8DKKWGDZaHmC6PQYrrVhqNrsRmUKl1ovmBws+EytTzHCgfSFqC14JgNU8EQCgvOJQSC9yugGVeiOQ2i3TQNFdwSc3KtaR5YvglJSOOlRa1Ze5c3cUVBWWsKuKZUU8AP94mVFP1KgtvOagZZVFwLM8kbAj6dTQD77TNNdilIa1w7ji+C4BD7DilCiwo1mVLtvdwyrlBaXAAyr0QCGsnAdj4bPcXLVIyxatYXwFvwRhmZgnsMnyQRQz0/YpBrxAnvAQbcIGV/HVqmPvphBWtWYfyRM8Ch4oT7gdC39U2B53MIR+icU5MSjFJaIsB2NdMGgVQayL+mPlmrrZTfxMuvL9KF2TnZARtb+nAnyQu0+1S9QFmsJ4GF4g/rAX1GhORRlHxRFPTxLpWGyE8KhgGo+LilLa5yfqXt1CUsUrXcZvDImimXPiNU9ApqeRy6gmds4YCnD1BFEs8Z/AYgmDuzKoZpWrrRuMYr7gYWUirLvbuH0y232UWtMUApFgwctnX8REQ08EDdYt9oavmtLc84tnwdxyzCzRCv1EIQXzAzhMWJYEI+Ws2vylVfcKks6OKlbQSPtX1gmx7IswI2US2ML+9QQ0nG2CX8P4mxGIAIn4AM86IcyJhVE8zp4IJexOQBWa2EpCnVog6sc4WogYFp5iuh8XDfXwMAZX4zKrkEbImK00lp9gGhBqbO81qLSAJEB8AmINjHL5yylTPzKFPGwpxRo8agYo58I2H+VNFAB4Jm8A3qGGbo8xL1WeKgWClrmcU3UxWIT5ohs5Q1yiYIAyUsmv+w0QNo8Q758ZV4yO42K8YWV/xSXq/1Fd8cRBa6xjEys11NUW/UvLgHjmWlFTgrUw3fwROeuKhXNnRcsrWPEsNnLFWSlvkipkYcQ6w+4XdAolul57UR1m6Y+WITNUfy/ErguhnMstBj3zB3PrZqHxKRrVr2bPmVE0JwUOT8Qwul5SruxPmGTQmIGFDkTpllodA0SgXzLI+agtgDgymY6StVh4paVj4l2TTL5I+OfZXmDpaw8xMGq5WBBBKZzzDYXG0FCjqJElkbKD+2Dyr3mgNq8BE8WYbulHhrep1xGAUy+Gk9SmXqNuQ21CASqFgDJAjDtTVKi9UsfG+IPzUXVbuUBu4sZzVYmFFjmOtlvAwYeYYg8sDNEO1li2C4Btxc+IF31BWuusRQH5PUo0GO+b8AGjGMSyAXnW3OsepkqRcHVxgNeZdlO+qj4w3cIZVpx3CTixYoNSKrJLHwAatNhYRGoasVS5RwVhz4ICgo/RKE8RqCzVdef36I4RqJVtkWLCxaHqMApa1B9I+Jj07FYYru+KgTasbAXy24HEC5neO9J8DCIBSziA2UAUCVTpL1L2Ku3e5SObGuoeW4saBajlmhTBAfxsXH+hzmHoi43RT/vESMdmwqZkq+NeYYcue9sNpD0EQyuLDXWUxcckXmUaVlugWrbgqts9jbA63kpqIiwgheWo1Zr4mJXY7cTLZ89uEdk1oTKeyZZo5U6eqNcagw2haWiFhPi5fFUoYdBUx+dyF5/TZK0WGGOAMRMAHhS/L3Hit7X/gmnPqGjnQqtcrV7spFL8Qo9/qF98dS6mGNI5n4hsobjeq4lFe2aKHV7qf4sH+y1qXn8AjwSmIOaodbppH2PE2lMFg67qUqxxhXccF4xBrH3M+ya6KJKLBrx8xq/XYkFgKgXZNcRm6F3BVnOGfyq8YlD0LKKAl9WJcCxrfE6iXYgDXi4jm1WOml4JC9FOM+ZecFuSLlM+4BgzjJAhYuhT2iIdoDHGFrcKMsJVn27mvsovPVeoBBvHL6jSGz3Uz3mUozUCkKdKlcYMpM4GhuI/A/LMJGhKd9koo+fVy117vdGjy6hrQtRK4NH14ZeKQGt2BdswG+sjoDNbJcZBpFyg0eWiOkE2sUUdiVGTQWxtNdYrzUvqK2hueB1TyVMQn2Gut3YeUjivMducdtdSvzsW4QF6wxEcI2/GX63eWtSx2RnRUZxx59S2Fu2h0N1DZCQD7/geS2w8cxCZ2oIKXkDprce4tkWORUWNVEJFdSJomFB5q5fo8tDlBDbbyxJJqSRgGHNHefZApAe5QDGLMZinT2Wlgc0EziPc8UKmRQuViSShvSZt84USpT4hx5rrUzx3BBzXCNnC83UqHUT5hT7IBkqFiMnDVGoVWVLqgDzd13DiDeXHQ+RKgHqiyGDWbB3gJlGNi9vZztNW7qXV0xABpQzA3Z5mG9+TXkQHoqKHLnyRSiV1VS92yajTtJHgq3gVnkp0ualUHOWmkyNYVLQG7QtQWWDNPPuXd0QXeBayd+IDdF1yX5CcK44hpAIOK4DA8DMGWIheV+JgtFjBMJ0xpNimyXVC0M6MZi20ujXwnScJKKBoc8Bp/yMCDUQThTT5My2gi4DYdFcRQZJy62wHLNmnURlFt804GOOpiVrdCtUh+U4jt36IkroxMyo3eeLZhOYk1rNtGC9RvJV+ZZmjcXS0UVzCwzcLDpRniLk+DH2DTRFWkFwPQdotS79xZTjXUQjJSAooI83uZF6zu9xLSmNsFdLvpmnBDzRT+IFz8qGEvsBPDGtQTsIGJa2XJL2b34hSpsfUB2vxePQ84XFe0Z6xJNq/4nFtvUwUtwzcE5cmJQmDxcHHGM73K8mX8S2xAvqAFulNdR5HWpd4bcZxKcF4OCGgWa6gXnULUN1LtpDWOZYWGMRbcVRuuYNqCX3eo3iqzmGTQdYhgrFvZuONHynLPtcF0JYaqZUzqvcuSu3MbCvBDX4MF+EAwjYAs4giFQwssPMGh06lBjNeZZpShjEXgOJUJADc0QCc21W2SNDhGSxAfUAFYNyno/uDcS1MgMnSsHKuQuNU0Hgd67mSIdoFCuXEqMB7NLN6P5mtRc4iDq9Y6inPeulrfLUFHXKvDEcO07aihl+VRK9GrrzDK5A0uWV8wKXc9UKqtz3qLnewtcAbcI/EIXS6HKFdI4R1BhK0dQw/RhLLSpMpSar2pzFQ4IVgsDXaIXaZTYtGLUNRm2n1T6lKTpnlGYIq8fzXQRXgpQz4Leyd0eCqYPPTGCXDXRlO1tPbOHM40bil3ziiVQGIh4QU9VxLAdJBXx7Dq4faZqxrnPd6jIYXVf71KM+PmIFY1dHcMfNaqgGXdCNUVSSw7VeCeWiOeItjSSr5JYVrUR1IW3uUF+4GdRyu2WBryGfuU0BwIm/DN6JWHRRX/AJNrnben0R+JQiVW19uZWMPUsM64xL8UOTE2Ba3FehPfEErZo3GtH15iuGqSypRslcVUVSBTAAfkgo2VVYzqPg+4mFmbx5g0EQc2pEMMh3LLlfklphrxDLN+pkkaNUQHRvqoloNl4DiJ5BW2dlr1McjGvMHyJjOpo7fuCEtLoBmV399xclWvglmFM/iFjhTvGpnjPwS8Y2wu27XqFI7H6mAr9RFDvbiAvrTqKOxz7iJ121e4JVXPczt7+IbDTOYkHguq5w1mxs/E90A8PRz8DcXAXe6m85zo6g01eP1DBRi8HUsGj0nEGjLNSmjI8eJd03H9QS3eOEotImNdxWflFDNH3LhUDsj9agovWqgioqZS8WY1UsGGnqAzRXaFXu3oI2LgHMab1rEaTN3EstrDmFKLb8Tr2TPzHEKLRir6rmGuPyvY49BOSCTNHUU5wbcneJRsHxqOMKy3F5uqJaUnwmpftxwaZ2u+CygJlnDXwFHi6fsj4Y9diuGcqfmGiQTFhECLSzGgKrVuaMRZ5dRCtgY5iHooNUQyjWq5hllgwFgt1ouZFYkzKStZ7qZG8xxYQb9sS4q0z2ZJx55lSVghqYAPH8QZoU9Afo4/8gPVgbV0qLrzCYZXEfZEpHgJfBK6orSwAPbBN/BSfDMVqOfMuV+WYHRwDcVuU8rLOGwc8RIbr9y/jtaEaNcgJCQBR6ITelsCVsp1shuV1QRQAcV+piu/uINfrmfMjezBuoxwZOYWQssA/wAQxzdxn4xoiUSlRgAR7TmVFK2ryDxSXDLjaSi8tGjt1LtbIMhwnCfiUDVEtQLRyRaonwSoFZXlBi3UWbG764icUE1ACaRtCtQrcV7iYA445l0kAai0VHqtSri3yYBjQZF3KNEgAS6OeHiyCOMOrgD65uZFidEaOVuvqWAUPmXi1rtriF1SWuMbmIM+aiKbfECaaKzi2frXxAbyIeo1dC1fcATSmrTtUcXZBBaSKAXR4JcA4etSiWI0J2wrnqFaOJQXZzi4i3Vcwp04Li1Z+KJmrP5gGwHmyA2QRteIrfVViNjCSlVl583AzMNaqWobCoLor4JVKY4zxMUBCaESrwL/ABFXNHdvDoRr6jlUMlv9agyB9sBTrijFQwVdvlmC6S91MIFWsxze8bjfJRXEzWsvvUL4cZoXwF5zvEaCxov0dQomS38yl2SdL+oABC266il3W8URGFVW6mCt3emOeaxlYHBkrNkzaDR1B6V3LA6xALuqOKiENZOuIRvNAxt0e/xL09W1Atro8xO6t7cAbtrULpYTYweoMtL+rmNWfUrniAJo13L3lGpTF/wquqgARv566lUtNpNHJeot3k/ErXUMhshTRzs/iT4viWwK9Jx4iYsgKTdCoNTryq4vBQr1jKDm2q95meedn6pLPRiX3gSKiMa/IgjqGu7H7gqmm2qv3jMJZpH+QZmD0CwiDTc2b0LOsegR9wcYOKNg9QDKbh5+4nDZiWfqDjtZUFN1D/yLMppLKwX7lhtt8ENbR6OYe3CyLbfJ1rMAlqSwoUPAxF1Wb3US601FzVk8MsN8nLEPJnREJvBzxB5LfbDSIWGStRLiK0AoU9USuBuuSIp2+OoplT4hqj5YhS51yxNVn+5umYrQov6/Ut9ECg1ll6o571dRT11FRNLwkUqTZeibYYy3az9eGG+WY1kv0wfU1caInWnUscaXxEvOfUoF1q+MHB26IORUJDsfPZ5GmA0p28ZUtYogXFrWwydFrOFVABBGbP08V4gJts6gOp8mHmi3dyaUsBT4qWDAYABFJog+8VqHAF1RAk5iCkt4qzUUkOi/sswHO36Br2mcxasAZadg2h2zDcUGMTnXq2Yx0lwsHAZm+bwfDGJt88VNA8z06eAB+SCoxEKBeumn5jQAQz9RRbG5qiLcPzmVEbHKnQwaiPRpoSuTWOTVytKcHjzhYyMgKq0ctFZmst1cR4jAAHAcvicceNYq9dt4uFby9j9glNcTIv0YEeGEs8kwPLqX1Zwd9BHY2JkfDBc1gzGr2rM4nCN+Jb8teFhFvPmFXPbYwtgVxHqQxoNULt/EuSjzZBjtzoMSsAWAcWLq3qGBxt7odHbG2vKw3+YPEqZDeaow+Bh2gGIABwbJQQrlrT7lNGBRtdWbPmXYaLzUzZTnXBMygcwqssd1EUwW0TsDzUKF3XRcraZXi+YNZfo4ioV3x4hT4YpiMLSnNqOtNibXGGuQusvSW6OIFrMCwDVYJVG1f3NM21KRMVCrA3y8o7Iq7CZF05GLWKKSirvZr0QuWrDS+sLpH/zgCWMOZS/ZR1X6cUvymJK8gQGqS0K/ILKBpzb6AQeIW2xl3M1u4+1g18sB+8oLcQwD8cRy3OLgRYzUcI3hRXBvxMGqtd0RFMZeOo0M61iICsnxKZN6wbJofluWOeKOITavAZwDT2RwXnzjcAKA9QzEX5LD7/EqAFLnngy9yhd5KTjbiNRdWqFq9FHe+IpbyhKKeHW44b01qbXQ7nMzTOsC6bGrJXqKJEWBStMMUJOlFUxRd6zCcJVsLc+LfollYytzyi75HsphHuKNqMaDGTuA/XF4wy8jHGfcJHIewhYnhJldKeZpJKtWKKeKy+6j691qJTK8Vm5eGYmS2EGVjo1AAG2/gY8kBMAQUqrR7lw0NMYuilfH9ftAXFdqUzL9XOTWuSUvvcHOBvuoq3vqADcEa9id7L8wvIixlDMJ6X3FMl9YOwcOJWeFxdN8wZx8EzR4GFEQhezcH314lfOxoDsBgtfkjoko0XKlyvsTCPiWLwgIaVa16dwqIvo7MuGmThajSuHjMe+QIaguKDqLlWDIWqGA8Z1A3o8PEsLzREhAqmHiVcKwUul8qlc/yaErQcP0im31AaRrjcLzS6hxTm9HFK2uPuLZ2pkLGisF2xygdqq2w9JN1xWi0NWq8DWo1Y6d0WWOR8cQ/wBnmXTi+AYq3dNGxlTvgY8d0FrwgNdjOQqfMZQPlJgbtdJErM2owBUf2gDiwSLAXh1ZCPoAhaWVB1VRbhmmr2oIfKS6DkfliRwBKwaKUu/qLvoVXaIGMX9x2KgRyyFBT8Exc+H0MAsRMPiLTI6MwF7puuuJSKZaqT0dYg9F0cmWk8OaByAODqLRQiI2OIeVZwH5ozUHjR5iaIrqtToo+I6XWsRFy+9QKO4dwL3X1UoFp7qFuqBi7gGKad1HLizqIu259GuvqNsBqma8srZHAzAyQEWmDzA0VbxASmWjcrgxAAgr3AG9z9EvNIXhcXKhS6zTLUqDzqDgtVhTgkLWxfKQSymUoqGHzuKejdy2rbe/M0FKxgmaa3q5a/1klBYJODVS3C4PMLy1DbXBHF0PmLQUXOMy9Xdw4be4mHAOmVAhLcBBavDqWUBY3AlPWo5L4iPTqojA9xoHTELFjJbtOo4GcoXIoABx5jeiFGrFc95T6gwuKdLD9PtHHIiihZHkPDUEhwmPnDLfqXY68plDUsvS3gcDBslqqyDBtooCD5qvmHPGF2L1kv5hUNIxxioAx8XqoilqAUUy4MEqHDctX4g5vxcLkKPITn2S6sY8BqF4s/O5e2CyZ50LrxMykZjmp25ggAFjFvQ5gHqCTIzBqCa41yzALOA2rc1/MxL4JP0jhIgoCg1AaAOP6hypCNCcOMRgXAOvoEpox6mk7p9hu3rriBOmkXhiSvBiVOgIGaAYAmKomij9Qh8gR3yjwjL3oEtpgznfncXO7w5lF0oRN1OmtgHwsCZ72lld3efcQjtQfoBiVNTN58Xr1Gs2LFpr1eKlGAFFA9QOF/8AJYUI14+pVkmwjcl6PBjMZ3VyR6DLcBM3wFV8Rl+Um344PiXFal+dxa44LzGjRvESsj8o9L8FlCugX1LG+EAFvq5/Epfw3D8Rc4TDlHtMcwYBaa4ShchfSoyQs6As5LfNXtmy14D4RIMbzKz8CocXsFg8hj6I7M/fewzXPXMNIw2lvFmYSMg8AUEtQADGq4hoBqiKm624mlgwdyw817iRq78dSwFc9YmEP7hV2UENlM9BBbAw3mYNjwm7rXPEN121UCvmLYsD+oWpt1R4glOKcQ6QQue+j1K+3WYjRhqswKpav1FWZWnHSbu2nxKTGEJtgB+4ZFVXjmWkL9NTHhj3nDwYlHnxUOdXCwcLCWrRvvM62ruHFjwXqNYEWc+I38eSpXAgQoaNnU5Dmo0qkrxEFOq1MBS/0hHPjUAU5eLna76inLPMoF5DzLAAJcFVg6Fi0qUlx5b+iZ0Y4dBL7ZzCiLOFRPZCOcOEMcmDKuo6fQefjLRi+o9M0Khql9H1Ay6sUnOZSYyKlFpeBvdIXFAVhTncSZLq5arkvF8ROBClc6NLqFC3ULLS+FMaYW14rUwoFwNcFcE5LfAZhTXi5vQUGiLVMndy3RjPJBDA2NyxNmG5eLW/MV7sNQXqp56iW00HcN504n6aIoZNZY2BcEag1KaQhrb7hoGnu2B4cSy6HeKdTAw37YI3YU8xtgfVEQ4jzX1UUKJac9QwKPXmKFOa+CBtTfLC3NxxjZFzTnYRabvi2Urk1BWlKgwbamxvJ1LAKOcOpQvJvEcDQjYU84LmgSY2ECkod4qDS8e5a1ZfEoYosY0ND0MHTF8kYycP8RBo36JToeGNWSOipa0LwZTUFwAxqKXHzLAo8aljZplkoD0wquKlYug9pvr+o95eCNzRdFcS7Ui7+EMtY+pkwY/iOyZ89wjGRtVWF/cLN1nI6lh2UHT0hVDrAEcK/Mpba8Z1LNmnzuZdl6lg4qIQyW8yrMVXFSnRA4s1LcrcwTl36gcW1fEHfg0QcmNsqy2fM9fgmVKL8zUR2qBd0UdXC7zsOJrsmkJfaXPR7EEptvoSqxp/UuDoDTURNtdEsLap2RRRW/zEErdcXC9hbAzkrP3FuwBMuMeIWgSqdciOElLAWafoDARG715ZVWBULC9Tl4ckQsFfhKBxs54hQrPzxEpNEvdy1WoHVVGtvqNlIkzZIRL0WHHEYFiB3gqLRksuO7dcLZX1+BugeI5LlESyR5OsnguWKOw4tox/sRslUBYjsckoolAvudtZrqD7xdpK2jhGxPE9J9S1Ch3mGygqUCiXVY4hyOY6zdZ6lUXWRttd3QsvFHGloLfxDDtGAZaKxpGvMpgFZs800e0nPJqAggrHIxp1LRV28tVLp+4sXVHEF6PVSllnwMQKWX+o5xd9WRDPSYLibx+JSIlvVEwFGfUCjCPgamEV82TA3YeJk4DfUwq6+4UpT8zK2xrNwyWY8dy+aeIqUzjjqWMK1AbJz0EyFkEjGuJeC19Qc6B5vibvNNxucb3UxEPllgO+7Yi0u5teMazLUMF8anFdq+pQdsNRC7pt4CCUml1cREyBwQCs1E7wPBGwK0DrqAV64xUpeyr0x6ErmXXSeoXloCazm+KnYdfcBQhrNUqOqHiGCf3LscCX8TLQRZqc4l18NMBYpR4zcGDFFZriOXC/JFWLIPOuZi/DAQxRMpTfqDbx1KJSuDFEd4PuaZLDTDlQtY8Sww4f3MhhLdBFoGV4g4dPb3NAM+ElK5BLioZaYf8AhWphvjVcQou23EFQtNZxALtV61DWVu+e4rbZ4Yd6xuOS8eI9jAi6Hzi4ui77lXxZ5lst0CxVOdZ9yhwdlzGJ4YAP9+Jij8iZoKrV9sDgUnBFBi7rSXyGuYq0fB6iFdYwFYnqs1bE5KK66mGRKpirETi9yztqgsc0jUUtvHNQAIU1OTTnpR3BdUQ2IAfIz8+IJWRzMO6T6BW0ZzEFnsrXp1Kphk+SNH+alJbclmtRrdauP4we0HfmNzRA9kWdtoylY8wsw8UGJRb09zwPcEFzJEqrXu/qXKBN97Gi4X6XFg0gGnpMTY3jRBttM8Vr9o+pJtYGPwzCc1FOd7vHqWa0GHYfZDVExDRQfOoYxQqzA+g+51zr4jQGNYKhlX3ATbfsIt8rkwEteCq29y700HiDVU29EExlxzcBu+VwRUGrdzi8hWZypNYlasW+IpSwDm2UuX4K1GzU2bPuInOAlgvlu5y0YtnfuXV3eWC23XvUp6R8svG7xwTYHjjqYoFcxRDxxGmxl9RbM0dHU5Uv1MDHPHUswtVxW4ZLf9RFsc48wD4l5Czx4jbIXcGjzeCCCysqpNTnCmKQi6EPJB7bTxBObvxKdsXzM03d8VBtSwvktfiGHahY/wAvXiMm9ntjUW813gnpDw5inR2VqVh2cZ4iCgiBujxbNqr5OYjl/EveCCGafEU5Q8JNLe+pYLwJQHkYqBWOk8uzuFK2vniopQ2XGJQKpiXvPvmUUqw5O5d3Rjhg63oxM5F2+ImTB7RaphIjSr6l2rTfUyO7M3UfbwQgoHUaLFfBqDTpMOMsLo4K5lmhEBtj+orjSfwsPgJwpyLrxB3NsgVDsARWljpcau4uKsYvPeTLTl8sbOj6llGEm+I1zg31Ey2NruKPHuYaQvu4H6S5SfDXfuKwKrycWlHHqKtNGwTXxLGF8HFQ5fPKQLqKTjAhrNWY9rVWqwqx4Tj1EYajVILVeAl20FlA0JrFYKjjBSTJtDjwe4gpKZBWwpF9ah1EptpWPxEida54ybc76I5Zp7Ha9H5Yt0Ki0Cv0TOhDlKTBALqVvyT+0X3aMo2PbxAOTTnzHQk2LMlW3Wo6fIhULXWaqOuIjSLGk1fqcrUTmlXkQfiPoiEVq9MoLvBGcAGMcEsLd0NRoVQoziN4ZvmK8t8Zil1ePcQ8rqUXj3uOYPcyzpiji8d1UosouaLyMW6Mi8RVrHuoj4/5GwW1U3Wv1KG35Julxnd7lejsqOsFnqX5jxX5m+L8TirGL3MbLqZd3xWYqZHOhimQrrVRppSg1CzF54xG70vWIJVXj6qURXwIBtvOwupdLYfBxC1BSnUWQAtKxBVLqji4ItgMYqF3kxxUCg24uiCjSAHLBot73BHF2uswcaa9QDS6fMQIALwt/wBSwO7dnmdPyaNeIGQs5LHKX+pWaL1tiuvqNPiLfAIKbAqAdesXUsDgIWb0SrC8xNYfxOwLM33PRQdzFLfz1OSV/cCzm/NSj+hEtuSuGNd58MaBnjVQFZdupkKrj6lAD9mpgc0eyOdFv7lbWsbDiFig9rlBevUAqcuIl4a5JvhnR1EKC1vUGbTb4mlHLBUiB6JRYnj8TIplRFVgB9QYsGdSVZzb57gBVc8NjxdV6IbuJZUAgF0d8yt7CN3wLYfMYvSnAGULgtA9Mx4uRwGRyJupZ2axiVjKJzcOq2WHeIB8MLo0Rjt6APKwXQJGlQHxNrBHqsZxZjHiD6IFDZClHaxzflccfqccsjbFn8QLSr4jgxVnW5lmC61Q+/6hLrFYAC+aCFzinUzTJF8PE2G8Mn3bMjeacq7XL9zLC/bOHDusYirXXvqMqqLfEVEpdV4R5Semo67O3zCKB0nU4FtutzB8ai9HVy8m18Q2F1RiDnHLH8Pj6mQYsTSLaxfU8AH8ywBquqiuhGoKFU3L8oy0u/qYMtnJmKmWzzMt493zDrdS761yQcly8dEo1gDm4peaPUeutDG6aPpmrg+GNTBrxLDQXXEodMPNamrDZxDOUbujEM8BRhOYJaPxO2lRWGrrRcypdHmYWKT1uXpQFcEyXnHTH2Y9Qu6Gzq4bUaNLGkoDyygowD9wCAPxLtNNnMCzIQKYsXH51zFKiA1tT+YCigJhev8AYjDaDNyr+oUGihj/ALE+PhNrtMcxbNGsThznwS+uuoUVdHUeKvwTLkM9SwtMcRNCjBRvFfqL8L0QypsEyBEWhfGYHReCOrYmmpb5PUSHJ4PETDz5IZ7PFwQKcX3OAqi2bHOPEULGszKYQ8RWu29Sym3RqIgwVWSA0Wqwyy6X7jw53iCqz+ZQhgKTthrUEFoemBYUZLI5XSFXCQ6wp9BtXiEkpb86jnA7ccQrYWhwdTOKjuJYun1qJlvWqm4BceSb00bYm1mf1BrSv8S+7Mblq7xeIlLa36mtipzAwWhqIrZLztW9mY7pJ4qW2qJSqRLIdDEvYnqWxYfcQGD4OIrQox1EtAfTMVaw55iKDHJL6ZB2xy/1PNmt3HZsDzKusdrOwzzXcJRSnzAN65CGGrTTBnkmh1KOFHxqUrVeLdypXPjVR1arE7nAdyzTjqXeE+NQeXxiNpyJ6tepxbwZzKXY5GKcrr8TOwMGq1EFTNWVLF2433GjZdPc2uvJxKdCuG5SXhqt1MfB5xGzi3umVdmD3HEzz6nsorFEbKtae5p0ci8RwWwnUo3a2YrQNk6vxUCr5U6mVYvMxhw74mVUPfULnJA45lKUY5qClFviFVdW+5nRn1ABsAK6H9xeQVW/+SmM6ajDrMsYZIl16ipMcdwxxRGUDHg4lZqnxFkaeoFFjK/UAcwtoz5ZWjC6jTTxgh6vB1gL8xuKpMjoxGlvidqnruBlsSmkydQOL1LoNlHRHanPVTI5rPDNO76YhddcRaAwJ4uW103ergpcCuyUaqjsQFrG8Ec1/COc7+YneOLg4OjqOxZ97nQEqQbpdYYirwJrEUkA9VDOE47g5xlNVEHD+Jlw0LouWBK0beJ4KvVR7E3yagWNLfVQQyGueoN4cbtiV4ZbVA1ECUu8oxEaVpvE2ZqC5L1qpe6JehYhU1TtIuLNe4q6xqUGQX9R73fcr4PXE0OBTUaFKFlA4ETCqLckHnJPi4alvZmYDm4oMCvWpZvF+o4aB7viE+DtDMRvyy5djxDJofhKy6Hiot1joRUOM7JlsZmiKhaAsphi7cVgYir2XjFXLbsU/iX4uMYi0qX3C/ODtXp9SwCiqgsw6xNIMORzNaeFJBc1rUDs9qoBlXxKiLbcEiYjxyvctWW8uI4NX8ECnCUyxsvHUVNHzLLCj9JkUhqKnRY2m9a+ajscOHQXKuG5FRNmP1KbXtMQrop6qEUgAZWEH2/gjHQNpVBvN5z6lNfgRRgTHnJNirXu4LdWHxmZk5GCsG3Bv8RukMCgJpOzURGAKh5F/mZAL3evEG/Q2HQYpLBVBkY0HAUHHhULiqyUjgLXRLqPG+pjEigtTkH7joC6A4UzOLsrqWvwRgbWU0jn0PBZxfeoQcxDSlBp2PMqhAbdZK+NRvQUR/cYOO6m688QdOBYAEuGcYPEECkwt09sBk02LvqKE+ENe/xL7srLMs81uoFKqua4iCiXSo37UX8Q2xR4jRGhfIS7DV+qh3VhR1Dwn2SwWBcc3NazqBlYtcTJqy8WS6A7vPiCsKkiwwBUaAOb8RTC1Jz6xHZVU4Y9hL8GWGj3tMGKLPiKjJfxKkQNFoPpbgm1svqASqx5gjY0bxB3SUVywzdHUKsW6wwNOg4viaQCXLbNA4BnLHM+85I5VgDdTCmshiHIEl6xdI5chL0EA8u8YlduHiYylsd7mKUWdRFgcE1eGY3e1DuCHDwxAUFlXBRLZJ5mpppOow+uQVC+XqW3SARA8axiLsaeElWgw6uWFAiHDjMLA8VG2qKricBpILqbD8RvDFdE4inRFQqZijVqTFPzDSEdViscZKYbKBfEMFAvqZANXWaJaK4rzBqk0F0dRxB9zB2mMSQBzeiHiaCvGA+KlFCROEjMgJxUWsBXYbjZ/ONxB9wgsI95rbCQHjZuHoyXuptslRaNchXggXvpgsbBrWnvcrV0YgeQV1eZaYLecRNtB/1ym3B5l5EO/wC5DqVVZQocir/MzClrjBGj3+UQeAbZYMg5YjrmFa+Z4/aJs1vyj4xj1OLMQArQXmYf+YgjFlMuebUpySOy2L1mVwGw2rMlYqqq8RUd1VVFurReahFJwXxVv4g6hCqCsSqweTxLNo4CqJY5IbyvPgjDmnoWALqDg6rbqvG5cFlVkQ2/cYM7oA2HlNR3T3zrXLkH4htUQOyypwFVZC+Mt6o6CqL8w8gXVQrXtKie1B0p+cuXSenkAaAPJm4kEQbFDIJ5hnGAROq4nziL1cVsugrXnENUgKeyG8EHqYaGoE5hKjxD3OPCjwuRfZUonqTm6fkmxqoaMSj2lWB7GQ9yzQE9hMifEbWWjYa8ynkKqFLu1aFiMsYpMcJrhrUUNbreTWJQauwhuPUq8YiTcHQ7tCtjL3CJWsUvYmImhQmlQagEXiGOcatvtiClrhZsF3p6mQk7cfYQxT5ThLqJkVJvJZY6RiogxrGyMlbSW0gHsd+YW4+DHbXpuEFteo5HC4YA5KadEc2xu+IduVvLdPyQ6RTNhcKcgfqCAeXDWnyS2BgvLNYIYxGd0kFE2Nc+JRdN1wzAr5Y33ZobUiYp2a7hmZOgLw0fmWoiktGEdV2RwyHGcRYMWeoOtkpArgLeYggPwhZkpMVUueCsc3hKBZY1WSGG4z26/uZiwWrloCx8xLgFJqtxSbHwWrDOXPqFc4tyniceUKehSucdTIlST1YDFPZcyLeA7bQOEBwRUU1Kk2H+GUzd1xK3h8MxhLbTgOsG/hKi1TZTtHpa+IUELJL5XBFs8Xc0WjVIWa7h8HVRsORdZ2cQ/VkxeUuxd8cQjxAe4+Xh1WoxrQt+YxBQlfSq2gn/AJAUW4FK6lctfcZsWBAkb75a3CwrkYoCj3zNBW+pZO61LgtimVckAW6IB9Mehc28ZNVB0xL6iDB5V0LeCXXndSndrDTCr13AofAVsu6MajY4qlzYR99NStpgcCw1HByJtpwWqq9xoIL8Euj5qMz+y3Zs3SXkjboh6hVpl6NXLRy+rUsBjIHEyb655jtSgicgYJoHKJkw2C+DFQjSqM8Fqpc0IRN2ne+dJWrrUu8EbQAsWmtSxVnICxOo/jCNpVgCX2j4VQhQFDml1FyCLYKFU4cXGHnZF+BzQQ//ADejPx/EDvInD9QjhIPecdDAZBxdzRVtczPE8Lg+41fN7gbXB4gYtVmP2cyxSFeAc8n/ACI9kAmW0s9TOYNMqtfW2uLiKCD0ozAqmyVXCni4NTSTA1jBa/qM6rAdhixwPqGkLsNsRGlBWoYqny7LuomCCQAZyzvzEnbtmOgcSyfGvVVlwfdNQyHksgFF/iKizFedzhXVsOYMgGknjBovtzA9OaAREeGfMN0lblCjVlIvEUoBeLjxHnEW42E8vLwnRwwiQVroLl4oJXjw0hoOxAddymihm30l5q7qVLyYNQthAlVcwbVZ3x4Zq4CV30th5AF+YNrg6GWmel6YiFWzi6znR1ZsgvBjOGXa3ruIKt5bGz9sZHbTR2Ohtj3ThVpaFvhmGi2zhd6DvZz1ACEZK1Rv8RlZswhMpwPHiL8JE1VhfAMB8wgzubb+FBjyxzSCrEyuYv4izOanSDynLrEaTbfLFoejKNmmwlLflorEbNzf4UrZeRrDcvSYCWDUOjJ9Skm6l0xWc1f1cREY7XH8B9RUC2YHj3XfpEHDdeogqDziU7MLKqYU3T9XGscddErYor1FIhumou4uqONYjcQAYt4Hh40QJtxdjGD1R48QdRhTgAcg/Vxu0L5CthPGbjwWgaoYTAgw59db4FvNXXxMAoR95VkzfnmJwgSFweg15qVB7pVPuivRKLxnzCXUnhQFv4jtsatZhrALlBn8uNxzWcmEK7xRb56iM+seiHF2Y8QC4Mo5Cf0Ypi2vg5PSwKtrF1Uv9PZyuA5XBA7gDBQkXrXwxYGPnLCtVHNB0DMGQCCNmjNqYwRIVwehEC5MccwkOwKQpsnqpTLRagDSxPBolErg4gHbaxUa912UtRa4vqWiX0FWCsbV8wUrsuEUpd7YKU7dDDnPBARpz+oBUUvYOaliFEwDcSeSh0EFOTuHD0DxW0DFtx6+LVTk3x9VqIC+oAVF/rM5oeQHtsfUJHQWnZX5l3ErBmiUVnVvUDw5xU1AlKKpdzBzgnRaUpdJDBKGHxSuCdSuIR3FWpXR4uO4ISGHkorm/iWKlZ4hisKmgqr4PBKB2PtAGM/P4l4YMS5XVpzXvxHsXmWBXpDhfHMDaVTfDQezLDwtpywt2VdQor9PHJeHjuINhccBjTUoZIMzdrXi5vG5zAN+8opTpadgcK/uX2lpWDfCVRorcpsLYwBH1evcI0A88Zio0ha+5Q3p4NRo5/EKU/mHqg6ZV7BFq4ZVlRSU9mh1MsFJAjYWeCeHbMHwS2GTWpQkxyNPuBEdn++J12Bwfmasj/DMSBg/3TGkcCn+aFrFUbH5nRsrf6ZUuChwVj/cR5YUk7Ybwfj1FfjfgXHk9yqLqwjo4Lf3LANXEGHkSVEuJ8YAGaK+txPG4U+JqIuq5a2vbT8zAiEVVAdAainlb9AuNPUFsq3xpICOaC+YAtpS+IerSFcDbupYegGMbqIj3CsQ2CnVkV0lY1N1I6fAbwIWS5TZhPQRxnfiBFUzi2raHuO2eEt6NPNTl1iW4TezXCsjdYm/logASFlab3MgdEOumgBwbgG6i3mZpDj1CdoYgOgWj+IIADN3+JX3B0dYgx0ViJAy1guXYuB8G7JuZH+tleUVipRxr/0cs69yphfJAUKY/DP5mFKR2VRyxov3f8rECAdPMQnV4bKU4H9TZSh7HF8R35FSo+Ri5QrySuOysJRgdUngv+0l5yU8Ni7VmeMQdNxVlM+x6fMog6GY7j0lnNxzN2cc+TsgjnPo52nGcfEMvYrcXVWgc6I2HkB9SwKPyQvFlF5I6dV3ASxSrAbhlzHdAGKCqxifEI8swCY+pgTHY2Ro3atyn0bRQ0lry7jmxrXxj8BCRnmqIk6dEDimbzRzOZOzuvi+1ygb2Vu+gVAlmsfgnJ61M7jJ29jAeIxopxikEWbikUkJBTtr6hTDQnbqM6xAPFao2DVeJx81AFk8KL8Eq0UgNBUQdYiL5xAPs47gB0NZSGWLOGtTCCAzS4fiCq4C6zuYFF43C25zibA3fqLkfeJrxgJF4wuor1ZcrKVJK1TBa5ew4lKBbrYxLtLrDmcBY7cyt5tdsoKSvPyC9PkllmN0xByR4gU3lsjbN04llo3lHwUnwygBLDoe22FKIVwQ5WW66VrbGlPUaqiGUUq1ds12eBDwaJc+FrtKrrG2FfIWNdkVGGo8JHlBmNDA+IjOvmDRh4hRNnmocsx2KnCKr6G3wC+MQkd2GeLLqUnoF3oSmV6Vv5YOWQ4d/MtRjo1D84lQFc6ofcPH3+WJcigwONi9kil/5RW78y430QopjFV257MPi8Cqbxv8imY6m/h1ZC2yLxShMbLdZPuB6uuFo/GoWDHU9QHC51AGigeWqDIbadR7CdRd/EFBeTjpQupdKNLzK8YAtDf7hHgKDjHEtWDOAOI+Sik4J6LmUSeSYCNSgdI4ZUvxqjqw1Edw6TiWGwW9S2EdWo3TlOtwQgK2h1+5THaJyOpplavqVp5GpdFbrklOK9sWhmALq5glYcysIrpiLpfeIhTKiFTKvUGDW/qAxgu+odAvdsQhRGuJoJj41LTFdEtFhAcGG1liYaWyzdHOCaLhiWQu65lhTdcEepcqVF0GmAobWVV/jQT4ZWVfQs1CxviVfJudiC6INFKh11HxT16l2m7zzx6jEszVUmo92OggFrJCC7wnEzvBjFcwSaEunSna8c5vmAxCo86+pgGa0AfREzRxxBy175bDHOpX2eoNhxX1BMHvKLh1/wBQKoVQ6uXFAM6YYOUWTK+kMl1s53GFiW1USNDXjcbLahXUoAL7qJMFisWygRh/MDYa0zpLHEppM9kQSkU4uIIEBqUQ0RMGioJgsvgl5Tg4I8GE74iCNK0QRWaLxmFYp9LiQK3WJWsiWYm1CHF1uAQVQ5qIJQtzDwVFPEVgaaGH5gg1Z48xw1nxAuv4Q7zUwax3KLLWqjRgMsEAZajaMtWscVxDT63/AL4hWFHywRpWcpSnj+4C7sHmcIrMqsEfErVB2FTorKFKCeMTORZUvYBYqAnkmT/uo1LuuKiwFjWxl4gOrwQGXnyxHJLKC5o9aDcGw8KN52PqNsKOMEW/B44lTCOPuWHjpbauzVZxUMBxjEeyvqXNoVgJVlpfVuoV4tA6WbItKK1fwhtw1KHN8Wdlj/ZiEciavIB/UBSzwYlGH5TU2yMrEu68S2uTUCtQJnr1CYxCQNF5Fo8TBwHwSnPylJXo9oOKIVgQdBVB90RyikqytSrX6jOx4pgV2PBNIddTsAlXEbavuCNZvvxLrVyjdaviJK2zruKjbzqhjjreKYvJAXKFvkR8SqYW5pJSrAS+Isi1ZgiKhcFa281EwjHBYrk7yDjxLxW8K4iopTAQ4fWpbRh0+I2tD6m2a1p5lyqugJlwAaSAaC/co5KYwdRHcdAwWpMzCUtey6JmzroqbvAZSFKJKanFCZ5ii7+S5Vo2/wCJRKKc1uCI1zqckGqqq9RVyWtEVhYUYqWsW8wOlhfuagyEhIV6TExWW/fUtJG8Z9Q7oo5XUrATkp1FoK+IwWmN1KbNHUrBQt5uKKX+oLdrRW43ggDVeBp9xbCNbqZoynnqA1da57jjwMgalgOKjNLY5h0QvxEXSb1DIAYZRdJuoyYlgOFhNooU3UrGqJVTq66qZ7g0NVcDlWrh5mXJiHtGi6AxnMAyMnHmcBaEKQjxL146igrl57jvN/cBWhGK2Mxp/wCMtXHutRqZrc7xXuBVYB8Rd2iQxzvxLGj6gHgvcdFtM+5o2sASqQ5qClFV3HPb6ljRHmABbBPFgo/3MbZW7xwMqy3vwShs7QOtzevBSaN++KccwCX1+YH/AFDAA5saW8s3ziZGIFLtgZ9/Up0MJIUoh/2cbmFfA0UfETmhd1EOCI2hovADynxEQM+SQTbhsY1RpwUA68SwChzq+JkgNVaxTuyIMUOeAt3KReL8aoGW700LE0PJj56IFUi8nFH6iePUeAtl1emzWoL1KqiuILjj0Ru8RfjUdd5kYV+6qWDfR2ijfgCske9ye3TUTojQ4zUNFm+Y8wwMpeUa+al5dqwo68KtjiChNhqYb/UGRvWScRcpj0N1A/JljoP5nUknj4Da+CWbLJCBZgC8uJoE1bWHMcSZ+hZteggJyMZZsF9jRLYIfZJZZzUKp5U3CHR/EwVKBsb8Y7c1CULcrWudsO6mYt+cLbGrAxmK+UPssRd5hIS4FG4tZbDi6jLyEuqWzyRtIlIRqB2xfVG7wDCbzBlIU3HwlkoHB2S6dYAVUeDR8TTgmyhAb7IHPUXVNK2AL+GOJRSaOJgEhAacsvRfGYZpzsPd6lpq1YFFNOOzxFepz9lzit7sWB1eCO4AWBKsDveLjvdqgBBdFvH9RxOdJ2tS8iFLpKgawl35ZvZQziJBNqdJ+hT4imW+00h7ZkzbLsGXVV3qXtcsoIPCbjgpY5zruULdi/5uginiaYolPhHI+GXPGmlca/Ne4oNrggOE01WGUENlVdg/4l0EGQrBY/FsPlU/tQTizjuacbghWa9S9LSmiDjYHUKo3p1HyhbY9wNEAxKPBFKsQ+P6jRKs/wCQVevqK4/iW7bfEyjFEwcelTAzsl2JioqK44i2uMRG3HqX4TE1FNdTXHvM03iWRVt9aj4srwS62sQb1XuGnHuaXfqiAsvFyl0J5nAOIawnxBUuK/UrO8zPtlMSyVQKDdUY+Llqb2h27X/YgWYB0AVerdS+MMrn5PzBxBYO1zO+cP1GUKRcpu3VsC1kzzBrJnOoV/7n8oKCe5YqdNbgC7yBIvkl5bF8kfJLK29AyvgiHSRedkVerTgjSzxNF6l7Qdea0q2xXLGJcbd296lMAp9THARFVZ4S+OYJbeNHUYMJEidBw1KyEu6ZFLnZaHF6Ko7gSLAVFuaw6hGUyzDjwIV5jxL8pAq0Rx/yCadHEQAV7a0dTZJqGACrrEukfhTqzxhjaDCmqrH4jluPNt5G9cihdHBBW1cU4deC16g6MMDB5anxUNK1+UBkQqXuY++JKdXuKVryiOL2gSNSqucYDgJb7zzBJd/hEdGI09PUZBJUzNnWAAqmi8+aiy8qAGLZNJR95uh7eX8xmLSlYzbpt+5lfaeAXk7bvu5XYiyAYDedwUdOvYQavLr4gLVHgUUm/iUNhyPKf5jPbghwWq6SswqHfyLazkBUWEUN3Ro9y4ip3BbDfzLRiwfT+m4zLmIN4DVrzWLl3TGZLNjpey/LGHn1ylNPI8e5ms5+18U2eInK2GFUYK9Rwa0C3oYQ4F6HdYQelNjVHfSo5iAZVgj5uHkRMVHdmhWOWMa4NpRng59x9q4xHqa3s1GLsAiryoc+eoHoKDl/ZILwHwjvaal7tAlKm6wcW3bUUynaLuToSJAHAhzcwi0TEe3IvnxETI7q/KEFaVo3Y18Wxm9JbtqkFaMRSzF8FOpcgduL4N5quiWdvmfJ3lRlrurOKmsZh6RctaahbxCXCrOI9tRV1CmdNUaYdReJXeIhyX6ju4abpxqFHGvUXN4vzMvF31FXiDVXmcShVlJuI2sOJvZfiO/1GnNVFrRN9eLJhXDK5F5+4Wf0Szkyc+IpbKxwzBSCwMWksHR9QvlxguJwQ+WJQYc+I0HglNlW3+Zbrg8zKEioRw5dwMR6I9EWiQO0PE2kGGR8DwEVurqJTjGddQeRgPaU5tfUdch8RvhVvMZo2B1OF8koBoYOJUtcZPkgb5XJfIeusS2rA4eJU1dUZIliVXUK2tKDpE4lZ7Rwn0RuNKHW3ld5ldCrJ11QQp5IqBBukapNvQYjyiWFf7doboffqBwErjEFFu+sRhzY7LSk1UQZV/NitzvlfxJPK+cEogrQga8OJluhvdmGVUXOfO7CbofmQpVxiZvD6iKfqXfIZ/ibpB/LyKvxCwAZovwX+ZQg35exFsA0wCB+E8GQCD4Ch8S5Lrd2fDCbclolIpzXmUzS2ABdg6ZTZGhh+5gP0o0fSoX9aUrn8fEf8pmXAwtHxUXSt4uZ829YnB6oejH7g1ND1BEupnHLnBpOo6CpLs8mLMahdSGuimoO0oAKSngHBweJwuILtWVZr8dys03HhcPP6inhSawKSnAtgZd5qjGiOgUSdFmEhXSLF17XazBzT3MAuChe+Zwl8wnxmVmKIG7oMH4l3wthGvMRUXa+bNS1czl5tUq3uoPfKUT5eVg2NGDqGpJ4IzWrddy1lC0Kclb+ZkV/Z9hcRgN01H5eGUGE/TPdlBzGBTn/AKkTm/4gZ4PcW/Xr/wCZ/wBxK7G3zWCVEWZSsYTm+IJgsOp4MychRDGwQYWzdVq5k38INdeIehK8lwbrr9zCq1LzuiX1j4iusD1FcdRBv6eJtmvmDYRqIVYz7iFNB46g2YZVlNnxAqt14Jw2NYgHfeyDsHP7mduZlnG9VC9fxqVRluu5VnBiVQqrnMbVxVRAl7fuGDWA08S8isPnctCmL4qOgteYWdhziIC+mrgFXQ+43LF8kyq1FSk+PMAVah7ldUX2PEYWX8ksUm+oHOh1DgrHFcTShPiogRt1guCZqvM5ExcLjtuDQEu+8RFhLHVEXAgW6uKqb5lqyrKLzrjETtX1AVfHqUXnd2xQBD2dS8UJcG6cy88/1BjdDOMQAQN7xEEUu4F1VnuDWq+YUEM9XE3lA5zLxw/EHBoKlHRLrN61N/8AkDYQKKCoNzIYzE2ccDFvjWhjYA7yENGrHDBW8VR8SmWG+CHSsvMKqZ2ijY0rcGTYviCFzfpETGTjiNdiGVLbfJKcaPmNZWpDIVjE5bLrdwTShv6mQ7Lq4asc6jGkw5NSyqMHuaxuDwvHErXaodC4J0VzUVVh4YpdYYtlYS2Dt3Ax1/MVHEW6Rqb7NLpaP98R6JNMyjGh8dRszmoA2cTC2Kqd9Q8VQ7XrFTsax3L2UL7mRqjEGc0xNAwcZitpsOuYreMVG71qLQgn+JfUWjN+yAywfMNivpxM4deHqbbK+GUbYK7iyAw89TJqz7iFVGtxqsAPhga8dkPAsyz5fUTgNF7ZZ3UEu8LxB70l5a29RmjUuWl0mZsSzGu5m2rqFeU9MtFt31LPKgziDnDjFTpX3KEXy1WoGhu84IVLPqI2Ju8Yl0Lc2X1VxkWepnTk4is5Clq8AX6iqio8VhY+ElZQ12LX1CxXHXv1Fnn1NT6JWGqz/IxgC9qSpeEIHyKBZJxw9WCVBrBVC+GljDQiOUHUbccHNQ7ODmFjDiCmddYirRt58yg1iVgsiMF57llR9ozNYpzRM4cfqW6BUa4X0Rwgo/EVY1jRBWGykCtOOpgFVvdRQ2KGMeyLlanLLKpTtUpTp4iYsD1BNWPohSqK/qPFF6qouRWdDcrDhqseYum2U7XvuBLFhmDQK5lmzjkNzJUx0VqU3lL5qCWxYWOa8RLMAri4mKwPUxU01imPo9SsWD9RKKeNwe+8XKutOIVxmYJefBKbqkljp9RXj8zjOvEOM8xPW4lMfiWZRoN1MKwrnrCiB08w0UB5MX4leMd/ixGqA7av1EwhrkP4gBqKzn/UffHSGoDhZnEuv/DLa28SudGBl9RMQveqf+iFh2mwswpY1LserEcBQc2Qe7NdEqcqq0kdwgrqFm/1CwsJ6jdnMzWjWWXdn3iW8Weo2Yuz1FhGr4lFkPiWDRjEq10B1EaUkDuIQsCiW6H0TJtU7mwxc5KFTQ5q+ZleT1mLWaI4IsiPgMLRQeBzLQ5Dx4/qaaFXjplguAOokQULxUaMFeYCgKt4qWBoVzAAlW8RxQWZFduHcesF7x/i02QmbMfEaioiKNW1n5gtcXgkstdjJlfiMqEPOT6lNYsWa+5bydlP3JaUFxwfyzwyn9ITaEar0JAaV/GgrX/JpmByzi8kq0oroviVa1n+IYwo7AlDYFMaX6zCmFfMwXTnUOBV9sWhj1G2zYdVqWdtu4NaRj2cS1uq8zBYx5lW350R7L8E3zhYEiyRa5ai0sVZiKUrj8QyWFQ222HDMujeahXaXyHUaNAqllMKpd32TXRV4d3NHGO2PDNVzMYAoMZIN21QcXAwNL1Fwu65o4jfZmsl7jpeDxUd00SywLfMvFa6I84wggUytqlzxBSjEEa3cQgn4lB0mMVNDXmIvTxN1+C5h5iG6fjqNXGnvW4dZ0sOoAAWrqD5Be6hQqd+YRAwRSy6OI1vF6OY29AwPMN/UQ3Hy66mGvG6h7lFWcxPdXioVK7pQMxpDOAePuXFScHX5i6Aap6/MVaFdKZYEAaD/EXli2DB+Eg0QLxYP1LFPYT+IuLFeDLIwGn9FxJFZ01fuDZX6OMDtA8sIfwHmRQCmxQqLwBwU1GGXrgMRUVTwKvzF5gOv7p5bGyEOXw/9o22VeWn7jov6ML8yiUnAOP5jWVFb/8AUtjcva/mAU3mTefe3/vUuuPJzwfRBSQl3Lihr5gC5iU1MHJzTH6lBO4UoGHYGr4/vLZuq6CviTG68m4xxDk/roJWt7tv1c8B0OR1iVhDDlfqUqf3/gamD07v62BhWfLcmbNeWA/EbDzUBIOyHzAqr+X+qCq85/pzeuzJnNfEANbfWT9kRBFUtpQELe+DF+ZTu2aNn5gyB3n/ALT5hzR+4YFnkHj7YCg37cKgp/bY/Ms6Roun8/xKxXt5Fh+Zgv3HGEksDgB9P7SyAIqVZ6xKCBOxy0mS+sMrNB03IgcBrRNbR4YvlcJqXWSGn7lADeGTodRnG/iUDfMcv6igWdBpuLtA1bj3PSFWvmWSYcMRNcoo53S7Aho5SMpvNVKkXAybSsUQj/OsAiwrU+CBm8ZvNi+P7p4mQxV5vEM0ce7uVgwFZ78Qmgsw10HqpwIeTPcBMEybYhNDg0JvRxR4obPwn8wY08Ytr93GtH4rT+ZmErqt7uuYPCdBCZcCWRMXt/yTHMDaqZU7vZb+YPwO21/UDEi9f0oijA1WdZg2hd3Zx5mREXYcS9njiCqRIcnfUE4y6l6op4lezpwnH3waiCqp7lDWwyFAU6lRCDJnMN9o3S5hTXxqsXUzy1gGKlhdH4hXjlh+EHspG2LLsdueELTVlTj+pZqHZXL1K2M3AGILfGDvWZgkJ2n7lFvwzMPUOZkZ0Mdf7iYxWGnEN2ZSWfJMmW1qx8PUqwqMVy9LxM28qgZtxK2WOn/9i87xLH40S7dYK+IiTFbjB5h3t3TPwcS20BgoxqoqjV0NmrgdoDsHxzM9kdmk4gMPCi9S7rDCpwV/UeqCCKweZaQBxYJDh0YkB+I48qliZ4gtc46a4uX8MhF79xuSNq49yy2lUnB5hRVZagKldhrjHMUlQrLwihVxVJ+Zbhuq4uT26xDIKmbYYAZhi0LQ3bW5lrxjbciOS1jg+Je22yNYjeIoriPMVMq/REUJKIIpi6dmZdmTn37Mc0tEB1iYMUaNUDiWaMKG93/sQGwaXD5j7YthGH41wD8Q5VCmjlLCBwZN+olWXIFjogwzGSBXVBiU60Px7mUYRc1ErgRMCuGZBZscFdQBLUudGFguqFr6lA2ym+j+I0WA4f8ACGo4bAqXK+TJeniKpga5fAHUrC3l59xIApwsxcF+AuTbMXTB0ReWpsGKcpM2wFKWbW9/8hsQdB1HqazYMfEG9HHauoCIUixoeZn5JZT9QC8MPES2iQqqF1Nn9hOCNjSU6MfUqJlmjfzCGsaN/EFjQUmQiRFNrohGRIkZbQdHkwYFECYlABqOnTKE11RMZBsqLSD4iQG7CZb1E7sfkQSFp7jm3WswCpzA5iMmmnU//9k=)"
      ],
      "metadata": {
        "id": "DX06L9TMWt3a"
      }
    },
    {
      "cell_type": "markdown",
      "source": [
        "# **PRACTICAL QUESTIONS FUNCTIONS**\n"
      ],
      "metadata": {
        "id": "w31chBfyZJF1"
      }
    },
    {
      "cell_type": "markdown",
      "source": [
        "# **Q1. Write a Python function that takes a list of numbers as input and returns the sum of all even numbers in the list.**\n",
        "\n",
        "**Ans:**"
      ],
      "metadata": {
        "id": "ZXY-3UfzWzBC"
      }
    },
    {
      "cell_type": "code",
      "source": [
        "def sum_of_evens(numbers):\n",
        "    # Initialize a variable to store the sum of even numbers\n",
        "    total = 0\n",
        "\n",
        "    # Iterate through each number in the list\n",
        "    for number in numbers:\n",
        "        # Check if the number is even\n",
        "        if number % 2 == 0:\n",
        "            # Add the even number to the total\n",
        "            total += number\n",
        "\n",
        "    # Return the total sum of even numbers\n",
        "    return total\n",
        "\n",
        "# Example usage:\n",
        "numbers = [1, 2, 3, 4, 5, 6]\n",
        "print(sum_of_evens(numbers))  # Output will be 12 (2 + 4 + 6)"
      ],
      "metadata": {
        "colab": {
          "base_uri": "https://localhost:8080/"
        },
        "id": "S17Y6fUeY_yi",
        "outputId": "3cee4c0e-81e8-4ef0-c618-88ca5f84bb39"
      },
      "execution_count": 68,
      "outputs": [
        {
          "output_type": "stream",
          "name": "stdout",
          "text": [
            "12\n"
          ]
        }
      ]
    },
    {
      "cell_type": "markdown",
      "source": [
        "# **Q2. Create a Python function that accepts a string and returns the reverse of that string.**\n",
        "\n",
        "**Ans:**"
      ],
      "metadata": {
        "id": "b-ko8p9vZBPS"
      }
    },
    {
      "cell_type": "code",
      "source": [
        "def reverse_string(s):\n",
        "    # Use slicing to reverse the string\n",
        "    return s[::-1]\n",
        "\n",
        "# Example usage:\n",
        "input_string = \"Hello, World!\"\n",
        "print(reverse_string(input_string))  # Output will be \"!dlroW ,olleH\""
      ],
      "metadata": {
        "colab": {
          "base_uri": "https://localhost:8080/"
        },
        "id": "wBII43rhZUdK",
        "outputId": "699baa0c-d486-45c4-ca43-a6994818f263"
      },
      "execution_count": 69,
      "outputs": [
        {
          "output_type": "stream",
          "name": "stdout",
          "text": [
            "!dlroW ,olleH\n"
          ]
        }
      ]
    },
    {
      "cell_type": "markdown",
      "source": [
        "# **Q3. Implement a Python function that takes a list of integers and returns a new list containing the squares of each number.**\n",
        "\n",
        "**Ans:**"
      ],
      "metadata": {
        "id": "CGgtW0OJZyQq"
      }
    },
    {
      "cell_type": "code",
      "source": [
        "def square_numbers(numbers):\n",
        "    # Use a list comprehension to create a new list with the squares of each number\n",
        "    return [number ** 2 for number in numbers]\n",
        "\n",
        "# Example usage:\n",
        "input_list = [1, 2, 3, 4, 5]\n",
        "print(square_numbers(input_list))  # Output will be [1, 4, 9, 16, 25]"
      ],
      "metadata": {
        "colab": {
          "base_uri": "https://localhost:8080/"
        },
        "id": "SKTVkdm5aAwy",
        "outputId": "446c15b6-0e74-4b26-f6a1-57bcfe7b05d1"
      },
      "execution_count": 70,
      "outputs": [
        {
          "output_type": "stream",
          "name": "stdout",
          "text": [
            "[1, 4, 9, 16, 25]\n"
          ]
        }
      ]
    },
    {
      "cell_type": "markdown",
      "source": [
        "# **Q4. Write a Python function that checks if a given number is prime or not from 1 to 200.**\n",
        "\n",
        "**Ans.**"
      ],
      "metadata": {
        "id": "5EGBa1AgaJkT"
      }
    },
    {
      "cell_type": "code",
      "source": [
        "def is_prime(n):\n",
        "    # Check if the number is less than 2, which are not prime numbers\n",
        "    if n <= 1:\n",
        "        return False\n",
        "    # Check if the number is 2 or 3, which are prime\n",
        "    if n <= 3:\n",
        "        return True\n",
        "    # Eliminate numbers divisible by 2 or 3\n",
        "    if n % 2 == 0 or n % 3 == 0:\n",
        "        return False\n",
        "    # Check for factors from 5 to the square root of n\n",
        "    i = 5\n",
        "    while i * i <= n:\n",
        "        if n % i == 0 or n % (i + 2) == 0:\n",
        "            return False\n",
        "        i += 6\n",
        "    return True\n",
        "\n",
        "# Example usage:\n",
        "number = 29\n",
        "print(f\"Is {number} prime? {is_prime(number)}\")  # Output will be True"
      ],
      "metadata": {
        "colab": {
          "base_uri": "https://localhost:8080/"
        },
        "id": "7j2I6dCmaRcb",
        "outputId": "27f0e065-9f5f-45bc-ed07-02d47d12f6bb"
      },
      "execution_count": 71,
      "outputs": [
        {
          "output_type": "stream",
          "name": "stdout",
          "text": [
            "Is 29 prime? True\n"
          ]
        }
      ]
    },
    {
      "cell_type": "markdown",
      "source": [
        "# **Q5. Create an iterator class in Python that generates the Fibonacci sequence up to a specified number of terms.**\n",
        "\n",
        "**Ans:**"
      ],
      "metadata": {
        "id": "9OWJFUFjacHt"
      }
    },
    {
      "cell_type": "code",
      "source": [
        "class FibonacciIterator:\n",
        "    def __init__(self, terms):\n",
        "        self.terms = terms\n",
        "        self.a, self.b = 0, 1\n",
        "        self.count = 0\n",
        "\n",
        "    def __iter__(self):\n",
        "        return self\n",
        "\n",
        "    def __next__(self):\n",
        "        if self.count >= self.terms:\n",
        "            raise StopIteration\n",
        "        self.count += 1\n",
        "        self.a, self.b = self.b, self.a + self.b\n",
        "        return self.a\n",
        "\n",
        "# Example usage:\n",
        "fibonacci_sequence = FibonacciIterator(10)\n",
        "for number in fibonacci_sequence:\n",
        "    print(number)"
      ],
      "metadata": {
        "colab": {
          "base_uri": "https://localhost:8080/"
        },
        "id": "chl7AA35ak8C",
        "outputId": "79c05f9c-01b0-4c5b-bf26-0e1ab1d5f30e"
      },
      "execution_count": 72,
      "outputs": [
        {
          "output_type": "stream",
          "name": "stdout",
          "text": [
            "1\n",
            "1\n",
            "2\n",
            "3\n",
            "5\n",
            "8\n",
            "13\n",
            "21\n",
            "34\n",
            "55\n"
          ]
        }
      ]
    },
    {
      "cell_type": "markdown",
      "source": [
        "# **Q6. Write a generator function in Python that yields the powers of 2 up to a given exponent.**\n",
        "\n",
        "**Ans:**"
      ],
      "metadata": {
        "id": "wXK0HOuRa5j8"
      }
    },
    {
      "cell_type": "code",
      "source": [
        "def powers_of_2(max_exponent):\n",
        "    # Start with exponent 0\n",
        "    exponent = 0\n",
        "    while exponent <= max_exponent:\n",
        "        # Yield 2 raised to the current exponent\n",
        "        yield 2 ** exponent\n",
        "        # Move to the next exponent\n",
        "        exponent += 1\n",
        "\n",
        "# Example usage:\n",
        "for power in powers_of_2(5):\n",
        "    print(power)"
      ],
      "metadata": {
        "colab": {
          "base_uri": "https://localhost:8080/"
        },
        "id": "Xgz8CFaVbAvE",
        "outputId": "3b4fad7d-08c9-46f8-d81e-c42ad0fa41e8"
      },
      "execution_count": 73,
      "outputs": [
        {
          "output_type": "stream",
          "name": "stdout",
          "text": [
            "1\n",
            "2\n",
            "4\n",
            "8\n",
            "16\n",
            "32\n"
          ]
        }
      ]
    },
    {
      "cell_type": "markdown",
      "source": [
        "# **Q7. Implement a generator function that reads a file line by line and yields each line as a string.**\n",
        "\n",
        "**Ans:**"
      ],
      "metadata": {
        "id": "Xot9h2GcbHgS"
      }
    },
    {
      "cell_type": "code",
      "source": [
        "def read_file_line_by_line(file_path):\n",
        "    \"\"\"Generator function to read a file line by line.\"\"\"\n",
        "    try:\n",
        "        with open(file_path, 'r') as file:\n",
        "            for line in file:\n",
        "                yield line.rstrip('\\n')  # Yield each line without the newline character\n",
        "    except FileNotFoundError:\n",
        "        print(f\"The file at {file_path} does not exist.\")\n",
        "    except IOError as e:\n",
        "        print(f\"An error occurred while reading the file: {e}\")\n",
        "\n",
        "# Example usage:\n",
        "file_path = 'example.txt'  # Replace with your file path\n",
        "for line in read_file_line_by_line(file_path):\n",
        "    print(line)\n",
        ""
      ],
      "metadata": {
        "colab": {
          "base_uri": "https://localhost:8080/"
        },
        "id": "N4P9GKtebZub",
        "outputId": "9a41fdf9-6972-42f8-f436-2c77aae923d0"
      },
      "execution_count": 74,
      "outputs": [
        {
          "output_type": "stream",
          "name": "stdout",
          "text": [
            "The file at example.txt does not exist.\n"
          ]
        }
      ]
    },
    {
      "cell_type": "markdown",
      "source": [
        "# **Q8. Use a lambda function in Python to sort a list of tuples based on the second element of each tuple.**\n",
        "\n",
        "**Ans:**"
      ],
      "metadata": {
        "id": "-lxsqJmWblYD"
      }
    },
    {
      "cell_type": "code",
      "source": [
        "# List of tuples\n",
        "tuples_list = [(1, 5), (2, 1), (3, 9), (4, 3)]\n",
        "\n",
        "# Sort the list of tuples based on the second element of each tuple\n",
        "sorted_list = sorted(tuples_list, key=lambda x: x[1])\n",
        "\n",
        "# Print the sorted list\n",
        "print(sorted_list)"
      ],
      "metadata": {
        "colab": {
          "base_uri": "https://localhost:8080/"
        },
        "id": "_tHNTwtDbswb",
        "outputId": "6802c3d1-4c7c-41e6-f2b2-d48850761664"
      },
      "execution_count": 75,
      "outputs": [
        {
          "output_type": "stream",
          "name": "stdout",
          "text": [
            "[(2, 1), (4, 3), (1, 5), (3, 9)]\n"
          ]
        }
      ]
    },
    {
      "cell_type": "markdown",
      "source": [
        "# **Q9. Write a Python program that uses map() to convert a list of temperatures from Celsius to Fahrenheit.**\n",
        "\n",
        "**Ans:**"
      ],
      "metadata": {
        "id": "mhDmuiPHb6QD"
      }
    },
    {
      "cell_type": "code",
      "source": [
        "# List of temperatures in Celsius\n",
        "celsius_temperatures = [0, 10, 20, 30, 40]\n",
        "\n",
        "# Function to convert Celsius to Fahrenheit\n",
        "def celsius_to_fahrenheit(celsius):\n",
        "    return (celsius * 9/5) + 32\n",
        "\n",
        "# Use map() to apply the conversion function to each temperature in the list\n",
        "fahrenheit_temperatures = list(map(celsius_to_fahrenheit, celsius_temperatures))\n",
        "\n",
        "# Print the result\n",
        "print(fahrenheit_temperatures)"
      ],
      "metadata": {
        "colab": {
          "base_uri": "https://localhost:8080/"
        },
        "id": "pIU8ENiGcGo6",
        "outputId": "9a45c7bf-33d9-4c27-85a1-842665977cdb"
      },
      "execution_count": 76,
      "outputs": [
        {
          "output_type": "stream",
          "name": "stdout",
          "text": [
            "[32.0, 50.0, 68.0, 86.0, 104.0]\n"
          ]
        }
      ]
    },
    {
      "cell_type": "markdown",
      "source": [
        "# **Q10. Create a Python program that uses filter() to remove all the vowels from a given string.**\n",
        "\n",
        "**Ans:**\n"
      ],
      "metadata": {
        "id": "8dxayaYtcNnK"
      }
    },
    {
      "cell_type": "code",
      "source": [
        "def is_not_vowel(char):\n",
        "    # Define the set of vowels\n",
        "    vowels = 'aeiouAEIOU'\n",
        "    # Return True if the character is not a vowel\n",
        "    return char not in vowels\n",
        "\n",
        "def remove_vowels(input_string):\n",
        "    # Use filter() to apply is_not_vowel to each character in the string\n",
        "    filtered_chars = filter(is_not_vowel, input_string)\n",
        "    # Join the filtered characters back into a string\n",
        "    return ''.join(filtered_chars)\n",
        "\n",
        "# Example usage\n",
        "input_string = \"Hello, World!\"\n",
        "result = remove_vowels(input_string)\n",
        "print(result)"
      ],
      "metadata": {
        "colab": {
          "base_uri": "https://localhost:8080/"
        },
        "id": "aNrImJcccWHT",
        "outputId": "5983be6d-40c2-4a0a-cb59-38e9b84e402c"
      },
      "execution_count": 77,
      "outputs": [
        {
          "output_type": "stream",
          "name": "stdout",
          "text": [
            "Hll, Wrld!\n"
          ]
        }
      ]
    },
    {
      "cell_type": "markdown",
      "source": [
        "# **Q11. Imagine an accounting routine used in a book shop. It works on a list with sublists, which look like this.**\n",
        "\n"
      ],
      "metadata": {
        "id": "Q_zMwYOYdMmQ"
      }
    },
    {
      "cell_type": "markdown",
      "source": [
        "![Functions practical q.11.jpg](data:image/jpeg;base64,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)"
      ],
      "metadata": {
        "id": "LjCzR41idwI-"
      }
    },
    {
      "cell_type": "markdown",
      "source": [
        "**Ans:** To solve this problem, you need to create a Python program that processes a list of orders and computes the total cost for each order. You will use lambda and map() to perform the required operations.\n",
        "\n",
        "Here's a step-by-step breakdown and the corresponding Python program:\n",
        "\n",
        "**Define the Input Data:**\n",
        "\n",
        "1- Order numbers\n",
        "\n",
        "2- Book titles & Authors\n",
        "\n",
        "3- Quantities\n",
        "\n",
        "4- Prices per item\n",
        "\n",
        "**Process the Data:**\n",
        "\n",
        "\n",
        "\n",
        "*   Compute the total cost for each order by multiplying the price per item by the quantity. Apply a conditional adjustment: if the computed cost is less than €100.00, increase it by €10.00.\n",
        "\n",
        "**Use lambda and map() to Transform the Data:** Define a lambda function to compute the adjusted total cost. Use map() to apply this lambda function to each order.\n",
        "\n",
        "Here’s the complete Python program to achieve this:\n",
        "\n",
        "\n",
        "\n",
        "\n",
        "\n",
        "\n",
        "\n",
        "\n",
        "\n"
      ],
      "metadata": {
        "id": "wbacgr_ud-l0"
      }
    },
    {
      "cell_type": "code",
      "source": [
        "# Define the input data\n",
        "orders = [\n",
        "    (\"34587\", 4, 40.95),\n",
        "    (\"98762\", 5, 56.80),\n",
        "    (\"77226\", 3, 32.95),\n",
        "    (\"88112\", 3, 24.99)\n",
        "]\n",
        "\n",
        "# Define the lambda function to calculate adjusted total cost\n",
        "adjusted_cost = lambda order: (\n",
        "    order[0],  # Order number\n",
        "    max(order[1] * order[2], 100) + (10 if order[1] * order[2] < 100 else 0)  # Adjusted cost\n",
        ")\n",
        "\n",
        "# Use map() to apply the lambda function to each order\n",
        "result = list(map(adjusted_cost, orders))\n",
        "\n",
        "# Print the result\n",
        "print(result)"
      ],
      "metadata": {
        "colab": {
          "base_uri": "https://localhost:8080/"
        },
        "id": "Lf6tsOUferRE",
        "outputId": "b7d84748-a974-4378-fae0-e7154c524980"
      },
      "execution_count": 78,
      "outputs": [
        {
          "output_type": "stream",
          "name": "stdout",
          "text": [
            "[('34587', 163.8), ('98762', 284.0), ('77226', 110), ('88112', 110)]\n"
          ]
        }
      ]
    }
  ]
}