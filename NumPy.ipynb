{
  "nbformat": 4,
  "nbformat_minor": 0,
  "metadata": {
    "colab": {
      "provenance": [],
      "authorship_tag": "ABX9TyNawF+I/urMbxRd7ExuaR/r"
    },
    "kernelspec": {
      "name": "python3",
      "display_name": "Python 3"
    },
    "language_info": {
      "name": "python"
    }
  },
  "cells": [
    {
      "cell_type": "markdown",
      "source": [
        "# **Assignment - Numpy**\n",
        "\n",
        "# **Theoretical Questions:**\n",
        "\n",
        "# **Q1. Explain the purpose and advantages of NumPy in scientific computing and data analysis. How does it enhance Python's capabilities for numerical operations?**\n",
        "\n",
        "**Ans:** NumPy, short for Numerical Python, is a powerful library in Python that provides extensive support for numerical operations and scientific computing. Its primary purpose is to facilitate the handling and manipulation of large, multi-dimensional arrays and matrices, alongside a collection of mathematical functions to operate on these arrays efficiently.\n",
        "\n",
        "### **Purpose of NumPy :**\n",
        "\n",
        "  1. **Array Representation:** NumPy introduces the ndarray object, which is a fast, flexible container for large datasets in Python. This allows users to work with data in multi-dimensional arrays more intuitively.\n",
        "  2. **Performance:** NumPy is optimized for performance, leveraging contiguous memory allocation and efficient looping mechanisms. Operations on NumPy arrays can be significantly faster than those on standard Python lists, especially for large datasets.\n",
        "  3. **Mathematical Functions:** It provides a rich set of mathematical functions to perform operations such as linear algebra, statistical analysis, Fourier transforms, and more, making it a core tool for scientific computing.\n",
        "\n",
        "  4. **Interoperability:** NumPy serves as a foundation for many other libraries in the scientific computing ecosystem, such as SciPy, Pandas, and Matplotlib, enhancing Python's capabilities for data analysis and visualization.\n",
        "\n",
        "### **Advantages of NumPy :**\n",
        "\n",
        "1. **Efficient Array Operations:**\n",
        "\n",
        "  *  NumPy provides the ndarray object, which is a highly optimized array structure that supports fast element-wise operations.\n",
        "\n",
        "  * Unlike Python lists, NumPy arrays are contiguous in memory, allowing for efficient storage and processing.\n",
        "\n",
        "  * Vectorized operations (such as addition, multiplication, etc.) can be performed directly on arrays, removing the need for explicit loops and making code both faster and more concise.\n",
        "\n",
        "2. **Speed and Performance:**\n",
        "\n",
        "  * NumPy is implemented in C, making array operations significantly faster than using pure Python, especially for large datasets.\n",
        "\n",
        "  * Operations in NumPy are optimized and often take advantage of parallelism, enabling faster computations than standard Python code.\n",
        "\n",
        "  * Broadcasting, a feature of NumPy, allows for the efficient execution of operations on arrays of different shapes and sizes, further enhancing performance without needing complex code.\n",
        "\n",
        "3. **Mathematical and Statistical Functions:**\n",
        "\n",
        "  * NumPy includes a vast range of mathematical and statistical functions, like trigonometric, logarithmic, exponential, linear algebraic, and statistical functions.\n",
        "\n",
        "  * This makes it a complete toolkit for numerical data analysis, as users don’t need to implement these calculations manually.\n",
        "\n",
        "4. **Support for Multi-Dimensional Arrays:**\n",
        "\n",
        "  * NumPy arrays (ndarrays) can have multiple dimensions, making it possible to represent and operate on matrices, tensors, and other high-dimensional data structures used in advanced scientific computing.\n",
        "\n",
        "  * Functions like reshaping, slicing, and indexing allow for flexible manipulation of array data, making it easy to work with complex data formats.\n",
        "\n",
        "5. **Interoperability with Other Libraries:**\n",
        "\n",
        "  * NumPy is designed to integrate seamlessly with other Python libraries used in data analysis, machine learning, and scientific computing.\n",
        "\n",
        "  * Libraries like pandas, SciPy, and TensorFlow are built on top of or compatible with NumPy arrays, allowing for smooth transitions between different types of analyses and operations.\n",
        "\n",
        "6. **Memory Efficiency:**\n",
        "\n",
        "  * NumPy arrays are more memory-efficient than Python lists, as they store elements of the same data type in contiguous memory blocks.\n",
        "\n",
        "  * This is particularly useful when dealing with large datasets, as it reduces the memory overhead and speeds up processing.\n",
        "\n",
        "7. **Data Type Flexibility:**\n",
        "\n",
        "  * NumPy arrays support a wide range of data types (integers, floats, complex numbers, etc.), as well as custom data types, which can be useful for scientific applications with strict data requirements.\n",
        "\n",
        "  * You can also perform type casting and specify data types at array creation, which enhances control over data representation and processing.\n",
        "\n",
        "### **Enhancements to Python's Numerical Capabilities :**\n",
        "\n",
        "* **Vectorization:** Eliminates the need for explicit loops in many operations, leading to faster execution and clearer, more concise code.\n",
        "\n",
        "* **Broadcasting:** Automatically expands arrays of different shapes for element-wise operations, making complex mathematical operations simpler.\n",
        "\n",
        "* **Integration:** Provides a common data structure that most scientific and data libraries support, making it easier to integrate and scale projects.\n",
        "\n",
        "Overall, NumPy enhances Python’s ability to handle and process numerical data efficiently, allowing scientists, analysts, and developers to conduct complex computations and data analysis with ease. This efficiency is essential for fields that rely on heavy computation, such as physics, finance, data science, and machine learning."
      ],
      "metadata": {
        "id": "zBBpTdXMva3q"
      }
    },
    {
      "cell_type": "markdown",
      "source": [
        "# **Q2. Compare and contrast np.mean() and np.average() functions in NumPy. When would you use one over the other?**\n",
        "\n",
        "**Ans:** **The np.mean()** and **np.average()** functions in NumPy are both used to calculate the average of elements in an array, but they have some key differences in functionality and flexibility.\n",
        "\n",
        "### **np.mean()**\n",
        "\n",
        "* **Purpose:** Computes the arithmetic mean (average) of the elements along a specified axis.\n",
        "* **Syntax:** np.mean(a, axis=None, dtype=None, out=None, keepdims=False)\n",
        "* **Default Behavior:** By default, it calculates the mean of all elements in the input array.\n",
        "* **Parameters:**\n",
        "  \n",
        "  ▪ **a:** Input array.\n",
        "\n",
        "  ▪ **axis:** Axis or axes along which to compute the mean. Default is None, meaning the mean is computed over the entire array.\n",
        "  \n",
        "  ▪ **dtype:** Data type to use for the calculation.\n",
        "\n",
        "  ▪ **out:** A location into which the result is stored (optional).\n",
        "\n",
        "  ▪ **keepdims:** If True, the reduced axes are left in the result as dimensions with size one.\n",
        "\n",
        "### **np.average()**\n",
        "\n",
        "* **Purpose:** Computes the weighted average of the elements in an array.\n",
        "* **Syntax:** np.average(a, axis=None, weights=None, returned=False)\n",
        "* **Default Behavior:** Computes the mean of all elements if no weights are provided, similar to np.mean().\n",
        "* **Parameters:**\n",
        "\n",
        "  ▪ **a:** Input array.\n",
        "  \n",
        "  ▪ **axis:** Axis or axes along which to compute the average.\n",
        "  \n",
        "  ▪ **weights:** An array of weights, same shape as a. If provided, the average is weighted accordingly.\n",
        "  \n",
        "  ▪ **returned:** If True, returns a tuple of the average and the sum of the weights.\n",
        "\n",
        "\n",
        "## **Key Differences :**\n",
        "\n",
        "### **Weighted Average**\n",
        "  * **np.mean():** Not supported\n",
        "  * **np.average():** Supported with a weights parameter\n",
        "\n",
        "### **Default Behavior**\n",
        "  * **np.mean():** Calculates simple mean\n",
        "  * **np.average():** Calculates weighted mean if weights provided; otherwise, simple mean\n",
        "\n",
        "### **Output**\n",
        "  * **np.mean():** Returns a float (or array if axis is specified)\n",
        "  * **np.average():** Returns a float (or array if axis is specified); returns a tuple if weights and axis are provided\n",
        "\n",
        "### **Performance**\n",
        "  * **np.mean():** Slightly faster for simple mean\n",
        "  * **np.average():** Slightly slower when using weights\n",
        "\n",
        "## **3. When to Use np.mean() vs. np.average()**\n",
        "\n",
        "  * Use **np.mean()** when you just need the simple arithmetic mean of an array, as it is straightforward and slightly faster.\n",
        "\n",
        "  * Use **np.average()** when you need a weighted average. Weighted averages are useful in situations where some elements in the dataset carry more importance or weight than others, such as:\n",
        "\n",
        "    * **Grading:** When calculating a final grade based on assignments with different weights.\n",
        "\n",
        "    * **Financial Calculations:** When averaging stock prices or portfolio returns based on holdings’ proportions.\n",
        "    \n",
        "    * **Scientific Measurements:** When averaging measurements that have different degrees of reliability.\n",
        "\n",
        "\n",
        "\n",
        "\n"
      ],
      "metadata": {
        "id": "NGQ5PcXoBQih"
      }
    },
    {
      "cell_type": "code",
      "source": [
        "import numpy as np\n",
        "\n",
        "data = np.array([1, 2, 3, 4, 5])\n",
        "\n",
        "# Using np.mean()\n",
        "mean_value = np.mean(data)\n",
        "print(\"Mean:\", mean_value)  # Output: Mean: 3.0\n",
        "\n",
        "# Using np.average() without weights\n",
        "average_value = np.average(data)\n",
        "print(\"Average:\", average_value)  # Output: Average: 3.0\n",
        "\n",
        "# Using np.average() with weights\n",
        "weights = np.array([1, 1, 1, 2, 2])  # Giving more weight to the last two elements\n",
        "weighted_average = np.average(data, weights=weights)\n",
        "print(\"Weighted Average:\", weighted_average)  # Output: Weighted Average: 3.6"
      ],
      "metadata": {
        "colab": {
          "base_uri": "https://localhost:8080/"
        },
        "id": "b9nk3rlWPdgf",
        "outputId": "bf4a807e-2184-4a6f-9023-09ec89a5cb0a"
      },
      "execution_count": null,
      "outputs": [
        {
          "output_type": "stream",
          "name": "stdout",
          "text": [
            "Mean: 3.0\n",
            "Average: 3.0\n",
            "Weighted Average: 3.4285714285714284\n"
          ]
        }
      ]
    },
    {
      "cell_type": "markdown",
      "source": [
        "# **Q3. Describe the methods for reversing a NumPy array along different axes. Provide examples for 1D and 2D arrays.**\n",
        "\n",
        "**Ans:** In NumPy, reversing an array along different axes can be achieved with slicing or specific functions. Here’s a look at both approaches for 1D and 2D arrays:\n",
        "\n",
        "### **1. Reversing a 1D Array**\n",
        "\n",
        "To reverse a 1D array, you can use slicing. The syntax array[::-1] reverses the array.\n",
        "\n",
        "**Example:**\n",
        "\n"
      ],
      "metadata": {
        "id": "eSBwXpoUPuHJ"
      }
    },
    {
      "cell_type": "code",
      "source": [
        "import numpy as np\n",
        "\n",
        "# 1D array\n",
        "arr_1d = np.array([1, 2, 3, 4, 5])\n",
        "\n",
        "# Reverse the array\n",
        "reversed_1d = arr_1d[::-1]\n",
        "\n",
        "print(\"Original 1D array:\", arr_1d)\n",
        "print(\"Reversed 1D array:\", reversed_1d)\n"
      ],
      "metadata": {
        "colab": {
          "base_uri": "https://localhost:8080/"
        },
        "id": "QnHBaMdG4F2P",
        "outputId": "08f06a17-9858-4349-b07f-80ba25956f33"
      },
      "execution_count": 1,
      "outputs": [
        {
          "output_type": "stream",
          "name": "stdout",
          "text": [
            "Original 1D array: [1 2 3 4 5]\n",
            "Reversed 1D array: [5 4 3 2 1]\n"
          ]
        }
      ]
    },
    {
      "cell_type": "markdown",
      "source": [
        "### **2. Reversing a 2D Array**\n",
        "\n",
        "In a 2D array, you can reverse along different axes:\n",
        "\n",
        "* **Reverse along the first axis (rows):** This flips the rows.\n",
        "* **Reverse along the second axis (columns):** This flips the columns.\n",
        "* **Reverse along both axes:** This reverses both rows and columns.\n",
        "\n",
        "**Example:**\n"
      ],
      "metadata": {
        "id": "zavifSQO4d9H"
      }
    },
    {
      "cell_type": "code",
      "source": [
        "# 2D array\n",
        "arr_2d = np.array([[1, 2, 3],\n",
        "                   [4, 5, 6],\n",
        "                   [7, 8, 9]])\n",
        "\n",
        "# Reverse along the first axis (rows)\n",
        "reversed_rows = arr_2d[::-1, :]\n",
        "\n",
        "# Reverse along the second axis (columns)\n",
        "reversed_columns = arr_2d[:, ::-1]\n",
        "\n",
        "# Reverse along both axes (rows and columns)\n",
        "reversed_both = arr_2d[::-1, ::-1]\n",
        "\n",
        "print(\"Original 2D array:\\n\", arr_2d)\n",
        "print(\"Reversed along rows:\\n\", reversed_rows)\n",
        "print(\"Reversed along columns:\\n\", reversed_columns)\n",
        "print(\"Reversed along both axes:\\n\", reversed_both)\n"
      ],
      "metadata": {
        "colab": {
          "base_uri": "https://localhost:8080/"
        },
        "id": "4ZXphXw_45BO",
        "outputId": "c8bbb909-1ece-4f8d-cf5e-374a42c569ac"
      },
      "execution_count": 2,
      "outputs": [
        {
          "output_type": "stream",
          "name": "stdout",
          "text": [
            "Original 2D array:\n",
            " [[1 2 3]\n",
            " [4 5 6]\n",
            " [7 8 9]]\n",
            "Reversed along rows:\n",
            " [[7 8 9]\n",
            " [4 5 6]\n",
            " [1 2 3]]\n",
            "Reversed along columns:\n",
            " [[3 2 1]\n",
            " [6 5 4]\n",
            " [9 8 7]]\n",
            "Reversed along both axes:\n",
            " [[9 8 7]\n",
            " [6 5 4]\n",
            " [3 2 1]]\n"
          ]
        }
      ]
    },
    {
      "cell_type": "markdown",
      "source": [
        "### **Explanation**\n",
        "\n",
        "* `arr[::-1]` reverses the elements along a given axis.\n",
        "* `arr[::-1, :]` reverses rows in a 2D array.\n",
        "* `arr[:, ::-1]` reverses columns in a 2D array.\n",
        "* `arr[::-1, ::-1]` reverses both rows and columns, essentially rotating the 2D array 180 degrees.\n",
        "\n"
      ],
      "metadata": {
        "id": "iXYy5HwN4-nv"
      }
    },
    {
      "cell_type": "markdown",
      "source": [
        "# **Q4. How can you determine the data type of elements in a NumPy array? Discuss the importance of data types in memory management and performance.**\n",
        "\n",
        "**Ans:** In NumPy, you can determine the data type of elements in an array using the .dtype attribute. This attribute returns the data type of the array's elements, which can be useful for understanding how the data is stored and manipulated.\n",
        "\n",
        "### **Determining the Data Type**\n",
        "\n",
        "Here’s how you can check the data type of a NumPy array:\n",
        "\n"
      ],
      "metadata": {
        "id": "vOY9Kbds5hH3"
      }
    },
    {
      "cell_type": "code",
      "source": [
        "import numpy as np\n",
        "\n",
        "# Creating an array with integer data type\n",
        "arr = np.array([1, 2, 3])\n",
        "\n",
        "# Checking the data type\n",
        "print(\"Data type of array elements:\", arr.dtype)\n"
      ],
      "metadata": {
        "colab": {
          "base_uri": "https://localhost:8080/"
        },
        "id": "pngc19NR7D8v",
        "outputId": "65d8e568-dd5e-4f47-b52a-32fa68adb3e4"
      },
      "execution_count": 3,
      "outputs": [
        {
          "output_type": "stream",
          "name": "stdout",
          "text": [
            "Data type of array elements: int64\n"
          ]
        }
      ]
    },
    {
      "cell_type": "markdown",
      "source": [
        "### **Importance of Data Types in Memory Management and Performance**\n",
        "\n",
        "1. ### **Memory Management:**\n",
        "\n",
        "   ◾ **Efficient Storage:** Different data types consume different amounts of memory. For example, an int32 takes 4 bytes, while an int64 takes 8 bytes. Using the appropriate data type can significantly reduce memory usage, especially for large datasets.\n",
        "  \n",
        "  ◾ **Data Type Casting:** You can explicitly specify the data type when creating an array (e.g., np.array([1, 2, 3], dtype=np.float32)) to optimize memory usage. This can be crucial in environments with limited resources.\n",
        "\n",
        "2. ### **Performance:**\n",
        "\n",
        "  ◾ **Speed of Operations:** Operations on arrays of smaller data types (e.g., float32 vs. float64) can be faster because they require less memory bandwidth and processing power. This can lead to better performance in computations.\n",
        "\n",
        "  ◾ **Vectorized Operations:** NumPy’s performance benefits from using contiguous memory blocks for uniform data types. This allows for optimized, vectorized operations, which are much faster than looping through individual elements in pure Python.\n",
        "\n",
        "3. ### **Data Integrity:**\n",
        "\n",
        "  ◾ **Type Consistency:** Ensuring that all elements in an array are of the same type prevents errors that might arise from mixing data types (e.g., integer and string) and provides clearer semantics for numerical operations.\n",
        "  \n",
        "  ◾ **Control Over Numerical Precision:** The choice of data type allows control over precision and range. For example, using float16 can save memory but may introduce rounding errors that would not occur with float64.\n",
        "\n",
        "\n",
        "### **Example of Data Type Impact on Memory**\n"
      ],
      "metadata": {
        "id": "W4CD-jme7GlP"
      }
    },
    {
      "cell_type": "code",
      "source": [
        "# Creating arrays with different data types\n",
        "arr_int32 = np.array([1, 2, 3], dtype=np.int32)\n",
        "arr_float64 = np.array([1.0, 2.0, 3.0], dtype=np.float64)\n",
        "\n",
        "print(\"Memory used by int32 array:\", arr_int32.nbytes, \"bytes\")\n",
        "print(\"Memory used by float64 array:\", arr_float64.nbytes, \"bytes\")\n"
      ],
      "metadata": {
        "colab": {
          "base_uri": "https://localhost:8080/"
        },
        "id": "zMrgQSuE9haA",
        "outputId": "79498305-e422-4d5d-d0c3-3c10748fbd3c"
      },
      "execution_count": 4,
      "outputs": [
        {
          "output_type": "stream",
          "name": "stdout",
          "text": [
            "Memory used by int32 array: 12 bytes\n",
            "Memory used by float64 array: 24 bytes\n"
          ]
        }
      ]
    },
    {
      "cell_type": "markdown",
      "source": [
        "This illustrates how selecting the right data type can impact both memory usage and processing efficiency.\n",
        "\n",
        "\n",
        "\n",
        "\n",
        "\n",
        "\n"
      ],
      "metadata": {
        "id": "F7ziMN0L9lCP"
      }
    },
    {
      "cell_type": "markdown",
      "source": [
        "# **Q5. Define ndarrays in NumPy and explain their key features. How do they differ from standard Python lists?**\n",
        "\n",
        "**Ans:**  In NumPy, ndarrays (n-dimensional arrays) are the core data structure used for storing and manipulating numerical data. They are highly efficient and optimized for performance in scientific computing and data analysis. Here’s a detailed explanation of ndarrays and their key features, along with a comparison to standard Python lists.\n",
        "\n",
        "### **Key Features of ndarrays**\n",
        "\n",
        "**1. Homogeneity:**\n",
        "* All elements in an `ndarray` are of the same data type, such as `int32`, `float64`, or `bool`. This homogeneity enables efficient storage and fast computation.\n",
        "\n",
        "**2. N-dimensional:**\n",
        "* `ndarray` can have any number of dimensions (1D, 2D, 3D, etc.), making it suitable for representing various data structures like vectors, matrices, and tensors.\n",
        "\n",
        "**3. Shape and Size:**\n",
        "* The `.shape` attribute provides the dimensions of the array (e.g., `(3, 3)` for a 3x3 array), while `.size` gives the total number of elements in the array.\n",
        "\n",
        "**4. Efficient Memory Usage:**\n",
        "* `ndarray` is implemented as a contiguous block of memory, which allows NumPy to perform memory-intensive operations more efficiently than standard Python lists. This contiguous layout enables better caching and faster access during computations.\n",
        "\n",
        "**5. Vectorized Operations:**\n",
        "* NumPy arrays support vectorized operations, meaning you can apply operations across entire arrays without explicit loops. This feature enables high-performance computations since operations are optimized and parallelized under the hood.\n",
        "\n",
        "**6. Broadcasting:**\n",
        "* NumPy allows arrays of different shapes to be combined in arithmetic operations using broadcasting. This enables, for example, adding a 1D array to a 2D array without needing to reshape it.\n",
        "\n",
        "**7. Comprehensive Mathematical Functions:**\n",
        "* NumPy provides a broad range of functions, including trigonometric, statistical, and linear algebra functions, that operate directly on `ndarray` objects, making it ideal for numerical and scientific computing.\n",
        "\n",
        "\n",
        "### **Differences Between ndarray and Standard Python Lists**\n",
        "\n",
        "\n",
        "| Feature                      | NumPy Ndarrays                        | Python Lists                   |\n",
        "|------------------------------|---------------------------------------|--------------------------------|\n",
        "| **Data Type**                | Homogeneous (single data type)\t               | Heterogeneous (mixed data types)\n",
        "    |\n",
        "| **Memory Efficiency**            | Fixed-size, contiguous memory block\t           | Dynamic, less memory-efficient\n",
        "|\n",
        "| **Performance**              | Faster, optimized for vectorized ops\t        | Slower for large-scale operations\n",
        "  |\n",
        "| **Dimensionality**               | N-dimensional (1D, 2D, 3D, etc.)\t         | Primarily 1D (lists of lists for 2D)\n",
        "         |\n",
        "| **Vectorized Ops**           | Supported, allows element-wise ops\t               | Not natively supported\n",
        "      |\n",
        "| **Broadcasting**       | Supported\t       | Not supported\n",
        "     |\n",
        "| **Mathematical Functions**         | Extensive NumPy library\t  | Limited to basic operations\n",
        "    |\n",
        "\n",
        "\n",
        "### **Example Comparison**\n"
      ],
      "metadata": {
        "id": "xjp-DaAd9qnY"
      }
    },
    {
      "cell_type": "code",
      "source": [
        "import numpy as np\n",
        "\n",
        "# NumPy ndarray\n",
        "arr = np.array([1, 2, 3, 4, 5])\n",
        "\n",
        "# Standard Python list\n",
        "lst = [1, 2, 3, 4, 5]\n",
        "\n",
        "# Element-wise multiplication (NumPy)\n",
        "print(\"NumPy ndarray multiplied by 2:\", arr * 2)\n",
        "\n",
        "# Element-wise multiplication (Python list)\n",
        "print(\"Python list multiplied by 2:\", [x * 2 for x in lst])\n"
      ],
      "metadata": {
        "colab": {
          "base_uri": "https://localhost:8080/"
        },
        "id": "bpvMANvHME3f",
        "outputId": "5e19218c-d180-420d-8174-7fd3ed9d6cc8"
      },
      "execution_count": 5,
      "outputs": [
        {
          "output_type": "stream",
          "name": "stdout",
          "text": [
            "NumPy ndarray multiplied by 2: [ 2  4  6  8 10]\n",
            "Python list multiplied by 2: [2, 4, 6, 8, 10]\n"
          ]
        }
      ]
    },
    {
      "cell_type": "markdown",
      "source": [
        "In this example, **arr * 2**  performs element-wise multiplication on the entire NumPy array directly, whereas with a Python list, we have to loop through each element to achieve the same result. This illustrates how **ndarray** provides more efficient and concise operations than standard Python lists.\n",
        "\n",
        "\n",
        "\n",
        "\n",
        "\n",
        "\n"
      ],
      "metadata": {
        "id": "04JMi5DDMNJW"
      }
    },
    {
      "cell_type": "markdown",
      "source": [
        "# **Q6. Analyze the performance benefits of NumPy arrays over Python lists for large-scale numerical operations.**\n",
        "\n",
        "**Ans:** The performance benefits of NumPy arrays over Python lists for large-scale numerical operations are significant and stem from several key factors. Here’s a detailed analysis of why NumPy arrays are generally preferred for numerical computations in Python:\n",
        "\n",
        "### **1. Memory Efficiency and Contiguity**\n",
        "\n",
        "* **Fixed Data Type:** NumPy arrays store elements of a single, fixed data type, allowing them to use a contiguous block of memory. This contiguity enables efficient memory access patterns, reducing memory overhead and improving CPU cache utilization.\n",
        "\n",
        "* **Compact Storage:** Unlike Python lists, which store each element as an individual Python object with its own overhead, NumPy arrays use a simpler, lower-overhead representation. This compact storage further minimizes memory usage, especially with large datasets.\n",
        "\n",
        "### **2. Vectorized Operations**\n",
        "\n",
        "* NumPy supports vectorized operations, meaning that mathematical operations can be applied to entire arrays at once without explicit loops. In contrast, Python lists require looping through each element, which adds significant overhead in the Python interpreter.\n",
        "\n",
        "* Vectorized operations leverage underlying C and Fortran code, which is highly optimized for performance, bypassing the slower, interpreted Python layer. This allows NumPy to perform large-scale computations many times faster than pure Python."
      ],
      "metadata": {
        "id": "BhJtk8wIMeSu"
      }
    },
    {
      "cell_type": "code",
      "source": [
        "import numpy as np\n",
        "\n",
        "# Large NumPy array and Python list\n",
        "array = np.arange(1_000_000)\n",
        "list_data = list(range(1_000_000))\n",
        "\n",
        "# Vectorized multiplication with NumPy\n",
        "array_result = array * 2\n",
        "\n",
        "# Equivalent multiplication with Python list (requires a loop)\n",
        "list_result = [x * 2 for x in list_data]\n"
      ],
      "metadata": {
        "id": "eVtJJP2wY_mO"
      },
      "execution_count": 6,
      "outputs": []
    },
    {
      "cell_type": "markdown",
      "source": [
        "In this example, **array * 2** is optimized and executed in one step internally, whereas the Python list requires a loop, making the NumPy approach faster.\n",
        "\n",
        "### **3. Broadcasting Capabilities**\n",
        "\n",
        "* Broadcasting in NumPy allows operations on arrays of different shapes and sizes without explicitly reshaping them, saving computational time and simplifying code. For example, adding a scalar to a multi-dimensional array happens in one efficient operation, whereas in Python, manual looping would be required.\n",
        "\n",
        "* This ability to “broadcast” operations across dimensions reduces the need for complex code, and the underlying C implementation optimizes the memory usage and speed of these operations.\n",
        "\n",
        "\n",
        "\n"
      ],
      "metadata": {
        "id": "5u8fhpv6ZBre"
      }
    },
    {
      "cell_type": "code",
      "source": [
        "# Broadcasting a scalar to a large 2D array\n",
        "large_array = np.ones((1000, 1000))\n",
        "result = large_array + 5\n"
      ],
      "metadata": {
        "id": "fMdPx03VZexe"
      },
      "execution_count": 7,
      "outputs": []
    },
    {
      "cell_type": "markdown",
      "source": [
        "Here, 5 is added to every element of `large_array` without explicitly creating a new array of the same shape, achieving the operation in a single, efficient step.\n",
        "\n",
        "### **4. Numerical Libraries and Optimized Algorithms**\n",
        "\n",
        "* NumPy integrates with highly optimized numerical libraries, such as BLAS (Basic Linear Algebra Subprograms) and LAPACK (Linear Algebra Package), which are specifically designed for high-performance mathematical operations.\n",
        "\n",
        "* This integration enables NumPy to efficiently handle complex operations, such as matrix multiplication, solving linear equations, and performing singular value decomposition (SVD), which would be impractical with Python lists due to speed and memory constraints.\n",
        "\n",
        "### **5. Parallel Processing and Multi-threading**\n",
        "\n",
        "* Many NumPy operations, particularly linear algebra operations, are parallelized and can take advantage of multi-core CPUs. This parallelization can lead to significant speed-ups on large datasets, where operations are spread across multiple CPU cores.\n",
        "\n",
        "* Python lists don’t natively support parallelized or multi-threaded operations, meaning they rely entirely on single-threaded processing, which is much slower for large-scale data processing.\n",
        "\n",
        "### **6. Benchmark Comparison Example**\n",
        "\n",
        "Let's compare the performance of a simple operation—adding two large arrays/lists element-wise—using NumPy arrays vs. Python lists:\n",
        "\n",
        "\n"
      ],
      "metadata": {
        "id": "M1ypioCEZgRl"
      }
    },
    {
      "cell_type": "code",
      "source": [
        "import numpy as np\n",
        "import time\n",
        "\n",
        "# Creating large NumPy array and Python list\n",
        "size = 10_000_000\n",
        "array1 = np.arange(size)\n",
        "array2 = np.arange(size)\n",
        "list1 = list(range(size))\n",
        "list2 = list(range(size))\n",
        "\n",
        "# Timing NumPy array addition\n",
        "start = time.time()\n",
        "result_array = array1 + array2\n",
        "end = time.time()\n",
        "print(\"NumPy array addition time:\", end - start)\n",
        "\n",
        "# Timing Python list addition\n",
        "start = time.time()\n",
        "result_list = [x + y for x, y in zip(list1, list2)]\n",
        "end = time.time()\n",
        "print(\"Python list addition time:\", end - start)\n"
      ],
      "metadata": {
        "colab": {
          "base_uri": "https://localhost:8080/"
        },
        "id": "B3gRZrftaXSt",
        "outputId": "8bee77da-9846-4fbd-aff1-077b64a0e2d6"
      },
      "execution_count": 8,
      "outputs": [
        {
          "output_type": "stream",
          "name": "stdout",
          "text": [
            "NumPy array addition time: 0.12495255470275879\n",
            "Python list addition time: 1.825040340423584\n"
          ]
        }
      ]
    },
    {
      "cell_type": "markdown",
      "source": [
        "In this example, NumPy completes the operation in a fraction of the time compared to Python lists. This difference becomes even more pronounced as the data size increases.\n",
        "\n"
      ],
      "metadata": {
        "id": "PdM4IfK_alFe"
      }
    },
    {
      "cell_type": "markdown",
      "source": [
        "# **Q7. Compare vstack() and hstack() functions in NumPy. Provide examples demonstrating their usage and output.**\n",
        "\n",
        "**Ans:** In NumPy, the vstack() and hstack() functions are used to stack arrays vertically and horizontally, respectively. These functions are particularly useful when you want to combine multiple arrays along specific axes.\n",
        "\n",
        "### **1. vstack()**\n",
        "  * **Purpose:** Stacks arrays in sequence vertically (row-wise). It is equivalent to concatenating along the first axis (axis=0).\n",
        "\n",
        "  * **Input Requirement:** The input arrays must have the same shape along all but the first axis.\n",
        "\n",
        "\n",
        "**Example of vstack():**\n",
        "\n",
        "\n"
      ],
      "metadata": {
        "id": "DpISM1F0aos2"
      }
    },
    {
      "cell_type": "code",
      "source": [
        "import numpy as np\n",
        "\n",
        "# Define two 1D arrays\n",
        "arr1 = np.array([1, 2, 3])\n",
        "arr2 = np.array([4, 5, 6])\n",
        "\n",
        "# Vertically stack the arrays\n",
        "vstack_result = np.vstack((arr1, arr2))\n",
        "print(\"vstack result:\\n\", vstack_result)\n"
      ],
      "metadata": {
        "colab": {
          "base_uri": "https://localhost:8080/"
        },
        "id": "GkUt52k3csEX",
        "outputId": "51ddb2c5-05a3-491d-de50-ebb7ad5e5faf"
      },
      "execution_count": 9,
      "outputs": [
        {
          "output_type": "stream",
          "name": "stdout",
          "text": [
            "vstack result:\n",
            " [[1 2 3]\n",
            " [4 5 6]]\n"
          ]
        }
      ]
    },
    {
      "cell_type": "markdown",
      "source": [
        "In this case, vstack() combines the arrays as rows in a new 2D array.\n",
        "\n",
        "**Example with 2D Arrays:**\n"
      ],
      "metadata": {
        "id": "oUUmABvOc4G-"
      }
    },
    {
      "cell_type": "code",
      "source": [
        "# Define two 2D arrays\n",
        "arr1 = np.array([[1, 2, 3], [4, 5, 6]])\n",
        "arr2 = np.array([[7, 8, 9], [10, 11, 12]])\n",
        "\n",
        "# Vertically stack the 2D arrays\n",
        "vstack_result = np.vstack((arr1, arr2))\n",
        "print(\"vstack result:\\n\", vstack_result)\n"
      ],
      "metadata": {
        "colab": {
          "base_uri": "https://localhost:8080/"
        },
        "id": "BY3lAs_hdIa5",
        "outputId": "6dc6ac53-0ebf-48e5-ea3f-8e1bd8afc9b5"
      },
      "execution_count": 10,
      "outputs": [
        {
          "output_type": "stream",
          "name": "stdout",
          "text": [
            "vstack result:\n",
            " [[ 1  2  3]\n",
            " [ 4  5  6]\n",
            " [ 7  8  9]\n",
            " [10 11 12]]\n"
          ]
        }
      ]
    },
    {
      "cell_type": "markdown",
      "source": [
        "Here, vstack() appends arr2 as additional rows to arr1, resulting in a 4x3 array.\n",
        "\n",
        "### **2. hstack()**\n",
        "\n",
        "  * **Purpose:** Stacks arrays in sequence horizontally (column-wise). It is equivalent to concatenating along the second axis (axis=1).\n",
        "\n",
        "  * **Input Requirement:** The input arrays must have the same shape along all but the second axis.\n",
        "\n",
        "**Example of hstack():**\n",
        "\n",
        "\n"
      ],
      "metadata": {
        "id": "ZEZu9SdjdRl_"
      }
    },
    {
      "cell_type": "code",
      "source": [
        "# Define two 1D arrays\n",
        "arr1 = np.array([1, 2, 3])\n",
        "arr2 = np.array([4, 5, 6])\n",
        "\n",
        "# Horizontally stack the arrays\n",
        "hstack_result = np.hstack((arr1, arr2))\n",
        "print(\"hstack result:\", hstack_result)\n"
      ],
      "metadata": {
        "colab": {
          "base_uri": "https://localhost:8080/"
        },
        "id": "NXu9kA_LdvF2",
        "outputId": "b258da8e-dbff-4e78-af04-fc43245e5738"
      },
      "execution_count": 11,
      "outputs": [
        {
          "output_type": "stream",
          "name": "stdout",
          "text": [
            "hstack result: [1 2 3 4 5 6]\n"
          ]
        }
      ]
    },
    {
      "cell_type": "markdown",
      "source": [
        "In this example, `hstack()` concatenates the arrays as a single 1D array by appending elements of `arr2` to `arr1`.\n",
        "\n",
        "**Example with 2D Arrays:**\n",
        "\n",
        "\n"
      ],
      "metadata": {
        "id": "O1MIL4EPdxpO"
      }
    },
    {
      "cell_type": "code",
      "source": [
        "# Define two 2D arrays\n",
        "arr1 = np.array([[1, 2, 3], [4, 5, 6]])\n",
        "arr2 = np.array([[7, 8, 9], [10, 11, 12]])\n",
        "\n",
        "# Horizontally stack the 2D arrays\n",
        "hstack_result = np.hstack((arr1, arr2))\n",
        "print(\"hstack result:\\n\", hstack_result)\n",
        "\n"
      ],
      "metadata": {
        "colab": {
          "base_uri": "https://localhost:8080/"
        },
        "id": "9OtTtQaseGNH",
        "outputId": "ae81c335-3157-4e97-a703-f590781d2708"
      },
      "execution_count": 12,
      "outputs": [
        {
          "output_type": "stream",
          "name": "stdout",
          "text": [
            "hstack result:\n",
            " [[ 1  2  3  7  8  9]\n",
            " [ 4  5  6 10 11 12]]\n"
          ]
        }
      ]
    },
    {
      "cell_type": "markdown",
      "source": [
        "Here, hstack() appends arr2 as additional columns to arr1, resulting in a 2x6 array.\n",
        "\n",
        "### **Key Differences Between vstack() and hstack()**\n",
        "\n",
        "▶ **Axis of Stacking:**\n",
        "\n",
        "  * **vstack()** stacks vertically along rows (axis 0).\n",
        "  * **hstack()** stacks horizontally along columns (axis 1).\n",
        "\n",
        "▶ **Dimensional Requirements:**\n",
        "\n",
        "  * For vstack(), the arrays must have the same number of columns.\n",
        "  * For hstack(), the arrays must have the same number of rows.\n",
        "\n",
        "▶ **Shape of Result:**\n",
        "\n",
        "  * vstack() increases the row count.\n",
        "  * hstack() increases the column count."
      ],
      "metadata": {
        "id": "kqgVuJeqeKNn"
      }
    },
    {
      "cell_type": "markdown",
      "source": [
        "# **Q8. Explain the differences between fliplr() and flipud() methods in NumPy, including their effects on various array dimensions.**\n",
        "\n",
        "**Ans:**  In NumPy, the **fliplr()** and **flipud()** functions are used to flip (reverse) the elements of arrays along specific axes. Here's a detailed explanation of the differences between these two methods, along with their effects on various array dimensions.\n",
        "\n",
        "* **fliplr():** Flips an array left to right (horizontally).\n",
        "* **flipud():** Flips an array upside down (vertically).\n",
        "\n",
        "### **Key Differences :**\n",
        "\n",
        "| Function   | Direction of Flip\t        | Affected Axis\t        | Usage Example        |\n",
        "|------------|---------------------|-----------------------------|-----------------------------|\n",
        "| `fliplr()` | Left to Right\t | Columns\t            | Used for 2D arrays\n",
        " |\n",
        "| `flipud()` | Up to Down\t      | Rows               | Used for 2D arrays |\n",
        "\n",
        "### **1. fliplr(): Flip Left to Right**\n",
        "\n",
        "* **Purpose:** Flips an array from left to right (horizontally). It is specifically used for 2D arrays.\n",
        "* **Effect:** For a 2D array, fliplr() reverses the order of columns.\n",
        "\n",
        "**Example of vstack() with 2D Array:**\n"
      ],
      "metadata": {
        "id": "Myoyf3EDe4ju"
      }
    },
    {
      "cell_type": "code",
      "source": [
        "import numpy as np\n",
        "\n",
        "# Define a 2D array\n",
        "arr = np.array([[1, 2, 3],\n",
        "                 [4, 5, 6],\n",
        "                 [7, 8, 9]])\n",
        "\n",
        "# Flip the array left to right\n",
        "fliplr_result = np.fliplr(arr)\n",
        "print(\"Original array:\\n\", arr)\n",
        "print(\"After fliplr:\\n\", fliplr_result)\n"
      ],
      "metadata": {
        "colab": {
          "base_uri": "https://localhost:8080/"
        },
        "id": "wbxCGE-a2qL-",
        "outputId": "057c864e-691a-47f6-f3c7-6ccff1b3667d"
      },
      "execution_count": 13,
      "outputs": [
        {
          "output_type": "stream",
          "name": "stdout",
          "text": [
            "Original array:\n",
            " [[1 2 3]\n",
            " [4 5 6]\n",
            " [7 8 9]]\n",
            "After fliplr:\n",
            " [[3 2 1]\n",
            " [6 5 4]\n",
            " [9 8 7]]\n"
          ]
        }
      ]
    },
    {
      "cell_type": "markdown",
      "source": [
        "### **2. flipud(): Flip Up to Down**\n",
        "\n",
        "* **Purpose:** Flips an array from up to down (vertically). It is also primarily used for 2D arrays.\n",
        "* **Effect:** For a 2D array, flipud() reverses the order of rows.\n",
        "\n",
        "**Example of flipud() with 2D Array:**\n",
        "\n",
        "\n",
        "\n",
        "\n"
      ],
      "metadata": {
        "id": "Z3XAG_-B2wUu"
      }
    },
    {
      "cell_type": "code",
      "source": [
        "# Flip the array upside down\n",
        "flipud_result = np.flipud(arr)\n",
        "print(\"Original array:\\n\", arr)\n",
        "print(\"After flipud:\\n\", flipud_result)\n"
      ],
      "metadata": {
        "colab": {
          "base_uri": "https://localhost:8080/"
        },
        "id": "8Y4A45GS3NV-",
        "outputId": "b2e7d44a-3a12-4f0d-8927-a17252fa573d"
      },
      "execution_count": 14,
      "outputs": [
        {
          "output_type": "stream",
          "name": "stdout",
          "text": [
            "Original array:\n",
            " [[1 2 3]\n",
            " [4 5 6]\n",
            " [7 8 9]]\n",
            "After flipud:\n",
            " [[7 8 9]\n",
            " [4 5 6]\n",
            " [1 2 3]]\n"
          ]
        }
      ]
    },
    {
      "cell_type": "markdown",
      "source": [
        "### **Effects on Various Array Dimensions**\n",
        "\n",
        "**A. 1D Arrays:**\n",
        "\n",
        "* Both fliplr() and flipud() have the same effect on 1D arrays, which is to reverse the order of elements.\n",
        "\n",
        "**Example :**\n",
        "\n"
      ],
      "metadata": {
        "id": "xnuMr-_A31wX"
      }
    },
    {
      "cell_type": "code",
      "source": [
        "arr_1d = np.array([1, 2, 3, 4, 5])\n",
        "fliplr_1d = np.fliplr(arr_1d.reshape(1, -1))  # Must reshape for fliplr\n",
        "flipud_1d = np.flipud(arr_1d.reshape(1, -1))  # Must reshape for flipud\n",
        "print(\"1D array after fliplr:\", fliplr_1d)\n",
        "print(\"1D array after flipud:\", flipud_1d)\n"
      ],
      "metadata": {
        "colab": {
          "base_uri": "https://localhost:8080/"
        },
        "id": "OsSwIp3540p2",
        "outputId": "16e5cbf1-806b-4143-9b92-9f8ff96cc023"
      },
      "execution_count": 15,
      "outputs": [
        {
          "output_type": "stream",
          "name": "stdout",
          "text": [
            "1D array after fliplr: [[5 4 3 2 1]]\n",
            "1D array after flipud: [[1 2 3 4 5]]\n"
          ]
        }
      ]
    },
    {
      "cell_type": "markdown",
      "source": [
        "**B. 2D Arrays:**\n",
        "\n",
        "* **fliplr():** Reverses columns.\n",
        "\n",
        "* **flipud():** Reverses rows.\n",
        "\n",
        "\n",
        "**C. 3D Arrays:**\n",
        "\n",
        "For 3D arrays, **fliplr()** operates along the last axis (columns), while **flipud()** operates along the first axis (slices of the 3D array).\n",
        "\n",
        "**Example :**\n",
        "\n",
        "\n",
        "\n"
      ],
      "metadata": {
        "id": "5kyZT2ed4362"
      }
    },
    {
      "cell_type": "code",
      "source": [
        "arr_3d = np.array([[[1, 2], [3, 4]],\n",
        "                   [[5, 6], [7, 8]]])\n",
        "\n",
        "fliplr_3d = np.fliplr(arr_3d)\n",
        "flipud_3d = np.flipud(arr_3d)\n",
        "\n",
        "print(\"Original 3D array:\\n\", arr_3d)\n",
        "print(\"After fliplr on 3D array:\\n\", fliplr_3d)\n",
        "print(\"After flipud on 3D array:\\n\", flipud_3d)\n"
      ],
      "metadata": {
        "colab": {
          "base_uri": "https://localhost:8080/"
        },
        "id": "fnCR4EmM5XC-",
        "outputId": "89a59cd6-e08a-4f5e-9392-6177342c31de"
      },
      "execution_count": 16,
      "outputs": [
        {
          "output_type": "stream",
          "name": "stdout",
          "text": [
            "Original 3D array:\n",
            " [[[1 2]\n",
            "  [3 4]]\n",
            "\n",
            " [[5 6]\n",
            "  [7 8]]]\n",
            "After fliplr on 3D array:\n",
            " [[[3 4]\n",
            "  [1 2]]\n",
            "\n",
            " [[7 8]\n",
            "  [5 6]]]\n",
            "After flipud on 3D array:\n",
            " [[[5 6]\n",
            "  [7 8]]\n",
            "\n",
            " [[1 2]\n",
            "  [3 4]]]\n"
          ]
        }
      ]
    },
    {
      "cell_type": "markdown",
      "source": [
        "# **Q9. Discuss the functionality of the array_split() method in NumPy. How does it handle uneven splits?**\n",
        "\n",
        "**Ans:** he array_split() function in NumPy is a versatile method used to split an array into multiple sub-arrays. It is particularly useful when you want to divide data for analysis or processing without requiring equal-sized splits.\n",
        "\n",
        "### **Functionality of array_split()**\n"
      ],
      "metadata": {
        "id": "Gv6Si6qX5iTO"
      }
    },
    {
      "cell_type": "code",
      "source": [
        "numpy.array_split(array, indices_or_sections, axis=0)\n"
      ],
      "metadata": {
        "id": "r2HXlmxd6Wtj"
      },
      "execution_count": null,
      "outputs": []
    },
    {
      "cell_type": "markdown",
      "source": [
        "▶  **Parameters:**\n",
        "\n",
        "* **array:** The input array to be split.\n",
        "* **indices_or_sections:** This can be either an integer or a sequence of indices. If it’s an integer, it specifies the number of equal sections to split the array into. If it’s a sequence, it specifies the exact indices at which to split.\n",
        "* **axis:** The axis along which to split the array. The default is 0, meaning that the split occurs along the first dimension.\n",
        "\n",
        "▶ **Returns:** A list of sub-arrays created from the split.\n",
        "\n",
        "### **Example of array_split()**\n",
        "\n",
        "**Equal Splits**\n",
        "\n",
        "When the number of sections is evenly divisible by the length of the array, `array_split()` creates equal-sized sub-arrays.\n",
        "\n",
        "\n",
        "\n"
      ],
      "metadata": {
        "id": "fdeO2rxz62rt"
      }
    },
    {
      "cell_type": "code",
      "source": [
        "import numpy as np\n",
        "\n",
        "# Create a 1D array\n",
        "array_1d = np.array([1, 2, 3, 4, 5, 6])\n",
        "\n",
        "# Split into 3 equal parts\n",
        "split_equal = np.array_split(array_1d, 3)\n",
        "print(\"Equal splits:\", split_equal)\n",
        ""
      ],
      "metadata": {
        "colab": {
          "base_uri": "https://localhost:8080/"
        },
        "id": "l171R-4L8pZe",
        "outputId": "52526719-2888-4bed-928f-1379507dbb75"
      },
      "execution_count": 21,
      "outputs": [
        {
          "output_type": "stream",
          "name": "stdout",
          "text": [
            "Equal splits: [array([1, 2]), array([3, 4]), array([5, 6])]\n"
          ]
        }
      ]
    },
    {
      "cell_type": "markdown",
      "source": [
        "**Uneven Splits**\n",
        "\n",
        "If the array cannot be split evenly, `array_split()` will distribute the elements as evenly as possible. This means some sub-arrays may contain one more element than others.\n",
        "\n"
      ],
      "metadata": {
        "id": "rMuOH0uD8rA9"
      }
    },
    {
      "cell_type": "code",
      "source": [
        "# Split into 4 parts\n",
        "split_uneven = np.array_split(array_1d, 4)\n",
        "print(\"Uneven splits:\", split_uneven)"
      ],
      "metadata": {
        "colab": {
          "base_uri": "https://localhost:8080/"
        },
        "id": "W2RMLjzt8zj2",
        "outputId": "4151ac53-7303-4c21-8a46-378c129c2769"
      },
      "execution_count": 22,
      "outputs": [
        {
          "output_type": "stream",
          "name": "stdout",
          "text": [
            "Uneven splits: [array([1, 2]), array([3, 4]), array([5]), array([6])]\n"
          ]
        }
      ]
    },
    {
      "cell_type": "markdown",
      "source": [
        "In this example, because the array has 6 elements and is being split into 4 parts, the resulting sub-arrays are distributed such that two sub-arrays contain 2 elements, and the other two contain 1 element each.\n",
        "\n",
        "### **Handling of Uneven Splits**\n",
        "\n",
        "When the array cannot be split evenly (i.e., the array length is not divisible by the number of sections), array_split() distributes the remainder to the initial sections, making some sub-arrays slightly larger than others.\n",
        "\n",
        "For example, if you have an array of 10 elements and you want to split it into 3 sections, the split will result in sub-arrays with lengths [4, 3, 3] rather than requiring an even division (which would be impossible here). The first few sub-arrays are given an extra element to handle the remainder.\n",
        "\n",
        "### **Examples**\n",
        "\n",
        "**Example 1:** Basic Usage with Integer **`indices_or_sections`**\n",
        "\n",
        "\n"
      ],
      "metadata": {
        "id": "cAnpPNRa82oF"
      }
    },
    {
      "cell_type": "code",
      "source": [
        "import numpy as np\n",
        "\n",
        "arr = np.array([1, 2, 3, 4, 5, 6, 7, 8, 9, 10])\n",
        "\n",
        "# Split into 3 sections\n",
        "split_result = np.array_split(arr, 3)\n",
        "print(\"Result of array_split with 3 sections:\", split_result)\n"
      ],
      "metadata": {
        "colab": {
          "base_uri": "https://localhost:8080/"
        },
        "id": "d6ahoQAT9aQP",
        "outputId": "58583a8b-2f00-4995-e1df-7b6111e4ea56"
      },
      "execution_count": 23,
      "outputs": [
        {
          "output_type": "stream",
          "name": "stdout",
          "text": [
            "Result of array_split with 3 sections: [array([1, 2, 3, 4]), array([5, 6, 7]), array([ 8,  9, 10])]\n"
          ]
        }
      ]
    },
    {
      "cell_type": "markdown",
      "source": [
        "Here, array_split() divides the array into 3 sections with lengths [4, 3, 3], assigning an extra element to the first section to account for the uneven split.\n",
        "\n",
        "\n",
        "**Example 2:** Specifying `indices_or_sections` as a List of Indices\n",
        "\n",
        "You can also provide a list of indices to array_split() to specify custom split points.\n",
        "\n",
        "\n"
      ],
      "metadata": {
        "id": "R7BliAYm9dud"
      }
    },
    {
      "cell_type": "code",
      "source": [
        "arr = np.array([1, 2, 3, 4, 5, 6, 7, 8, 9, 10])\n",
        "\n",
        "# Split at specified indices\n",
        "split_result = np.array_split(arr, [3, 5, 8])\n",
        "print(\"Result of array_split with specified indices:\", split_result)\n"
      ],
      "metadata": {
        "colab": {
          "base_uri": "https://localhost:8080/"
        },
        "id": "KnV9mIUu9lc1",
        "outputId": "b1daf71f-a561-4388-c0e4-e19870185b80"
      },
      "execution_count": 24,
      "outputs": [
        {
          "output_type": "stream",
          "name": "stdout",
          "text": [
            "Result of array_split with specified indices: [array([1, 2, 3]), array([4, 5]), array([6, 7, 8]), array([ 9, 10])]\n"
          ]
        }
      ]
    },
    {
      "cell_type": "markdown",
      "source": [
        "**In this case:**\n",
        "\n",
        "* The array is split at indices [3, 5, 8], so the result contains four sub-arrays.\n",
        "* The sections are [1, 2, 3], [4, 5], [6, 7, 8], and [9, 10].\n",
        "\n",
        "**Example 3:** Splitting Along a Specified Axis\n",
        "\n",
        "For multi-dimensional arrays, you can use the axis parameter to specify the axis along which the array is split.\n",
        "\n"
      ],
      "metadata": {
        "id": "9I2SF5nj9zEN"
      }
    },
    {
      "cell_type": "code",
      "source": [
        "arr_2d = np.array([[1, 2, 3, 4],\n",
        "                   [5, 6, 7, 8],\n",
        "                   [9, 10, 11, 12]])\n",
        "\n",
        "# Split along columns (axis=1) into 3 parts\n",
        "split_result = np.array_split(arr_2d, 3, axis=1)\n",
        "print(\"Result of array_split along columns:\", split_result)\n"
      ],
      "metadata": {
        "colab": {
          "base_uri": "https://localhost:8080/"
        },
        "id": "bh5HWAV--AfF",
        "outputId": "d93da165-622a-4b46-81d2-aa3dbb572711"
      },
      "execution_count": 25,
      "outputs": [
        {
          "output_type": "stream",
          "name": "stdout",
          "text": [
            "Result of array_split along columns: [array([[ 1,  2],\n",
            "       [ 5,  6],\n",
            "       [ 9, 10]]), array([[ 3],\n",
            "       [ 7],\n",
            "       [11]]), array([[ 4],\n",
            "       [ 8],\n",
            "       [12]])]\n"
          ]
        }
      ]
    },
    {
      "cell_type": "markdown",
      "source": [
        "**Here:**\n",
        "\n",
        "* The array is split along the columns (axis=1) into 3 parts.\n",
        "* The first section has 2 columns, and the remaining sections have 1 column each, demonstrating how array_split() handles uneven splits along different axes."
      ],
      "metadata": {
        "id": "gv0FRz4o-KFu"
      }
    },
    {
      "cell_type": "markdown",
      "source": [
        "# **Q10. Explain the concepts of vectorization and broadcasting in NumPy. How do they contribute to efficient array operations?**\n",
        "\n",
        "**Ans:** In NumPy, vectorization and broadcasting are two powerful concepts that significantly enhance the efficiency of array operations. They allow for high-performance numerical computations without the need for explicit loops, making code more concise and easier to read.\n",
        "\n",
        "### **1. Vectorization**\n",
        "**Definition:** Vectorization refers to the process of replacing explicit loops in code with array operations that operate on entire arrays (or large chunks of them) at once. This takes advantage of NumPy's underlying implementation in C and Fortran, which is optimized for performance.\n",
        "\n",
        "### **Benefits of Vectorization:**\n",
        "* **Performance:** Vectorized operations are executed at a lower level, leading to faster execution compared to loops written in Python.\n",
        "\n",
        "* **Code Clarity:** Code becomes cleaner and more readable. Instead of writing loops, you can express operations succinctly.\n",
        "\n",
        "**Example of Vectorization:**\n",
        "\n",
        "Suppose you want to multiply each element in an array by 2. Here’s how you can do it with and without vectorization:\n",
        "\n"
      ],
      "metadata": {
        "id": "rqbROoNu-RK2"
      }
    },
    {
      "cell_type": "code",
      "source": [
        "import numpy as np\n",
        "\n",
        "# Define a large array\n",
        "arr = np.array([1, 2, 3, 4, 5])\n",
        "\n",
        "# Using vectorized operation\n",
        "result_vectorized = arr * 2\n",
        "\n",
        "# Using a loop (non-vectorized)\n",
        "result_loop = [x * 2 for x in arr]\n",
        "\n",
        "print(\"Vectorized result:\", result_vectorized)\n",
        "print(\"Loop result:\", result_loop)\n"
      ],
      "metadata": {
        "colab": {
          "base_uri": "https://localhost:8080/"
        },
        "id": "lNQ5Usd_oMUM",
        "outputId": "b93f9b3b-bca4-465e-d3a7-a5605c7b6ce8"
      },
      "execution_count": 7,
      "outputs": [
        {
          "output_type": "stream",
          "name": "stdout",
          "text": [
            "Vectorized result: [ 2  4  6  8 10]\n",
            "Loop result: [2, 4, 6, 8, 10]\n"
          ]
        }
      ]
    },
    {
      "cell_type": "markdown",
      "source": [
        "The vectorized approach **(arr * 2)** is not only faster but also more concise. For large arrays, this speed difference becomes significant.\n",
        "\n",
        "### **2. Broadcasting**\n",
        "\n",
        "**Definition:** Broadcasting is a technique that allows NumPy to perform operations on arrays of different shapes. When performing arithmetic operations on arrays, NumPy automatically expands the smaller array across the larger array so that they have compatible shapes.\n",
        "\n",
        "**Rules for Broadcasting:**\n",
        "\n",
        "1. **If the arrays have a different number of dimensions**, the shape of the smaller-dimensional array is padded with ones on the left side until both shapes are the same.\n",
        "2. **If the sizes of the dimensions are different**, broadcasting occurs when one of the dimensions is 1. The array with size 1 in that dimension is expanded to match the size of the other array.\n",
        "\n",
        "### **Benefits of Broadcasting:**\n",
        "\n",
        "* **Efficiency:** Reduces memory usage and computational overhead since it avoids the creation of large temporary arrays.\n",
        "* **Simplicity:** Enables operations between arrays of different shapes without needing to manually replicate data.\n",
        "\n",
        "**Example of Broadcasting:**\n",
        "\n",
        "Consider adding a 1D array to each row of a 2D array:\n",
        "\n"
      ],
      "metadata": {
        "id": "U0ulktXCoi2U"
      }
    },
    {
      "cell_type": "code",
      "source": [
        "# Define a 2D array and a 1D array\n",
        "arr_2d = np.array([[1, 2, 3], [4, 5, 6], [7, 8, 9]])\n",
        "arr_1d = np.array([10, 20, 30])\n",
        "\n",
        "# Broadcasting the 1D array to match the 2D array for element-wise addition\n",
        "result = arr_2d + arr_1d\n",
        "print(\"Broadcasting result:\\n\", result)\n"
      ],
      "metadata": {
        "colab": {
          "base_uri": "https://localhost:8080/"
        },
        "id": "xvku5wLUqb1V",
        "outputId": "c9c4767d-5088-441d-ef3c-ce70006fda00"
      },
      "execution_count": 8,
      "outputs": [
        {
          "output_type": "stream",
          "name": "stdout",
          "text": [
            "Broadcasting result:\n",
            " [[11 22 33]\n",
            " [14 25 36]\n",
            " [17 28 39]]\n"
          ]
        }
      ]
    },
    {
      "cell_type": "markdown",
      "source": [
        "Here:\n",
        "\n",
        "The 1D array `[10, 20, 30]` is broadcasted to match the shape of the 2D array `arr_2d`.\n",
        "Each row of `arr_2d` receives an element-wise addition with `[10, 20, 30]`, which would require loops if done manually.\n",
        "\n",
        "### **Contribution to Efficient Array Operations**\n",
        "\n",
        "### **1. Reduced Loop Overheads**\n",
        "* Both vectorization and broadcasting eliminate the need for explicit Python loops, reducing the computational overhead.\n",
        "\n",
        "* Operations are performed in compiled code (C or Fortran), leveraging low-level optimizations for speed.\n",
        "\n",
        "### **2. Memory Optimization**\n",
        "\n",
        "* Broadcasting minimizes memory usage by avoiding unnecessary data duplication. Instead of creating large, repeated arrays, broadcasting performs operations as if the smaller array were expanded.\n",
        "\n",
        "* This memory efficiency is crucial for handling large datasets or high-dimensional data, allowing complex operations to be performed without significant memory overhead.\n",
        "\n",
        "**3. Enhanced Readability and Code Simplicity**\n",
        "\n",
        "* Vectorized and broadcasted operations make code cleaner and easier to read, as they often condense complex operations into single expressions.\n",
        "\n",
        "* This simplicity allows for more maintainable code and reduces the chance of errors that can arise from manual looping."
      ],
      "metadata": {
        "id": "Kqu7seoqqlgk"
      }
    },
    {
      "cell_type": "markdown",
      "source": [
        "# **Practical Questions :-**\n",
        "\n",
        "# **Q1. Create a 3x3 NumPy array with random integers between 1 and 100. Then, interchange its rows and columns.**\n",
        "\n",
        "**Ans:**\n",
        "\n",
        "Here is the 3x3 NumPy array with random integers between 1 and 100:\n",
        "\n",
        "\n"
      ],
      "metadata": {
        "id": "siBsbKSmrk_V"
      }
    },
    {
      "source": [
        "import numpy as np\n",
        "\n",
        "# Define the array correctly\n",
        "original_array = np.array([[9, 45, 26],\n",
        "                          [32, 55, 37],\n",
        "                          [45, 8, 20]])\n",
        "\n",
        "print(\"Original Array:\\n\", original_array)"
      ],
      "cell_type": "code",
      "metadata": {
        "colab": {
          "base_uri": "https://localhost:8080/"
        },
        "id": "5CpFUMoq7R8d",
        "outputId": "6fc32e19-d7aa-40c0-eabf-93b918d2eff2"
      },
      "execution_count": 15,
      "outputs": [
        {
          "output_type": "stream",
          "name": "stdout",
          "text": [
            "Original Array:\n",
            " [[ 9 45 26]\n",
            " [32 55 37]\n",
            " [45  8 20]]\n"
          ]
        }
      ]
    },
    {
      "cell_type": "markdown",
      "source": [
        "**After interchanging its rows and columns (transposing):**\n",
        "\n"
      ],
      "metadata": {
        "id": "4rKWfYfI75cz"
      }
    },
    {
      "source": [
        "# Define the array correctly\n",
        "original_array = np.array([[9, 45, 26],\n",
        "                          [32, 55, 37],\n",
        "                          [45, 8, 20]])\n",
        "\n",
        "# Calculate the transpose and print\n",
        "transposed_array = original_array.T  # Calculate the transpose using .T attribute\n",
        "print(\"Transposed Array (Interchanged Rows and Columns):\\n\", transposed_array)"
      ],
      "cell_type": "code",
      "metadata": {
        "colab": {
          "base_uri": "https://localhost:8080/"
        },
        "id": "PCJVf0VZ7ueK",
        "outputId": "84de7ecc-f888-4598-e503-38ef8df2b71f"
      },
      "execution_count": 17,
      "outputs": [
        {
          "output_type": "stream",
          "name": "stdout",
          "text": [
            "Transposed Array (Interchanged Rows and Columns):\n",
            " [[ 9 32 45]\n",
            " [45 55  8]\n",
            " [26 37 20]]\n"
          ]
        }
      ]
    },
    {
      "cell_type": "markdown",
      "source": [
        "# **Q2. Generate a 1D NumPy array with 10 elements. Reshape it into a 2x5 array, then into a 5x2 array.**\n",
        "\n",
        "**Ans:**\n"
      ],
      "metadata": {
        "id": "TAP0Bbn79fCp"
      }
    },
    {
      "cell_type": "markdown",
      "source": [
        "**Original 1D Array (10 elements):**\n",
        "\n"
      ],
      "metadata": {
        "id": "ymIorRxHDlER"
      }
    },
    {
      "cell_type": "code",
      "source": [
        "# Generate a 1D NumPy array with 10 elements\n",
        "array_1d = np.arange(10)\n",
        "array_1d\n",
        "\n"
      ],
      "metadata": {
        "colab": {
          "base_uri": "https://localhost:8080/"
        },
        "id": "vrhn3VOm-Kpe",
        "outputId": "41fb62d0-9121-458b-caa3-eb833bcfdeb6"
      },
      "execution_count": 26,
      "outputs": [
        {
          "output_type": "execute_result",
          "data": {
            "text/plain": [
              "array([0, 1, 2, 3, 4, 5, 6, 7, 8, 9])"
            ]
          },
          "metadata": {},
          "execution_count": 26
        }
      ]
    },
    {
      "cell_type": "markdown",
      "source": [
        "**Reshaped to 2x5 Array:**\n",
        "\n"
      ],
      "metadata": {
        "id": "3BPj7WG8DpZJ"
      }
    },
    {
      "cell_type": "code",
      "source": [
        "# Reshape the array into 2x5\n",
        "array_2x5 = array_1d.reshape(2, 5)\n",
        "array_2x5\n"
      ],
      "metadata": {
        "colab": {
          "base_uri": "https://localhost:8080/"
        },
        "id": "V_ta0wrqD2wd",
        "outputId": "0a7d1baf-889d-486a-d3b7-66d8f3e75d2b"
      },
      "execution_count": 29,
      "outputs": [
        {
          "output_type": "execute_result",
          "data": {
            "text/plain": [
              "array([[0, 1, 2, 3, 4],\n",
              "       [5, 6, 7, 8, 9]])"
            ]
          },
          "metadata": {},
          "execution_count": 29
        }
      ]
    },
    {
      "cell_type": "markdown",
      "source": [
        "**Reshaped to 5x2 Array:**\n",
        "\n"
      ],
      "metadata": {
        "id": "lBkATw1hECHc"
      }
    },
    {
      "cell_type": "code",
      "source": [
        "# Reshape the array into 5x2\n",
        "array_5x2 = array_1d.reshape(5, 2)\n",
        "array_5x2"
      ],
      "metadata": {
        "colab": {
          "base_uri": "https://localhost:8080/"
        },
        "id": "Fg_8JgNoEJKb",
        "outputId": "3717e161-c6b2-4147-a2ec-4476d393edf9"
      },
      "execution_count": 30,
      "outputs": [
        {
          "output_type": "execute_result",
          "data": {
            "text/plain": [
              "array([[0, 1],\n",
              "       [2, 3],\n",
              "       [4, 5],\n",
              "       [6, 7],\n",
              "       [8, 9]])"
            ]
          },
          "metadata": {},
          "execution_count": 30
        }
      ]
    },
    {
      "cell_type": "markdown",
      "source": [
        "# **Q3. Create a 4x4 NumPy array with random float values. Add a border of zeros around it, resulting in a 6x6 array.**\n",
        "\n",
        "**Ans:** **4x4 Array:**"
      ],
      "metadata": {
        "id": "mwOMyc-8EXiH"
      }
    },
    {
      "cell_type": "code",
      "source": [
        "import numpy as np\n",
        "\n",
        "random_array = np.round(np.random.rand(4, 4), 2)\n",
        "random_array"
      ],
      "metadata": {
        "colab": {
          "base_uri": "https://localhost:8080/"
        },
        "id": "HOAXjl4oI6Zi",
        "outputId": "8bc10b2a-f30f-4fec-ebca-c2813374cd4b"
      },
      "execution_count": 33,
      "outputs": [
        {
          "output_type": "execute_result",
          "data": {
            "text/plain": [
              "array([[0.16, 0.28, 0.31, 0.34],\n",
              "       [0.13, 0.95, 0.44, 0.06],\n",
              "       [0.73, 0.73, 0.21, 0.99],\n",
              "       [0.34, 0.37, 0.07, 0.43]])"
            ]
          },
          "metadata": {},
          "execution_count": 33
        }
      ]
    },
    {
      "cell_type": "markdown",
      "source": [
        "**6x6 Array with Border of Zeros:**"
      ],
      "metadata": {
        "id": "b_wxi8nGKvqh"
      }
    },
    {
      "cell_type": "code",
      "source": [
        "bordered_array = np.pad(random_array, pad_width=1, mode='constant', constant_values=0)\n",
        "bordered_array"
      ],
      "metadata": {
        "colab": {
          "base_uri": "https://localhost:8080/"
        },
        "id": "1R4dlzPOK21l",
        "outputId": "262109dc-0281-4ec6-ba47-865d7bece3f3"
      },
      "execution_count": 34,
      "outputs": [
        {
          "output_type": "execute_result",
          "data": {
            "text/plain": [
              "array([[0.  , 0.  , 0.  , 0.  , 0.  , 0.  ],\n",
              "       [0.  , 0.16, 0.28, 0.31, 0.34, 0.  ],\n",
              "       [0.  , 0.13, 0.95, 0.44, 0.06, 0.  ],\n",
              "       [0.  , 0.73, 0.73, 0.21, 0.99, 0.  ],\n",
              "       [0.  , 0.34, 0.37, 0.07, 0.43, 0.  ],\n",
              "       [0.  , 0.  , 0.  , 0.  , 0.  , 0.  ]])"
            ]
          },
          "metadata": {},
          "execution_count": 34
        }
      ]
    },
    {
      "cell_type": "markdown",
      "source": [
        "# **Q4. Using NumPy, create an array of integers from 10 to 60 with a step of 5.**\n",
        "\n",
        "**Ans:**"
      ],
      "metadata": {
        "id": "yURXjIeMLMC4"
      }
    },
    {
      "cell_type": "code",
      "source": [
        "import numpy as np\n",
        "\n",
        "# Create an array of integers from 10 to 60 with a step of 5\n",
        "arr = np.arange(10, 65, 5)\n",
        "\n",
        "# Print the result\n",
        "print(arr)"
      ],
      "metadata": {
        "colab": {
          "base_uri": "https://localhost:8080/"
        },
        "id": "MENFZI9SMUce",
        "outputId": "e45876d2-725c-4287-c935-7d0bd9f29864"
      },
      "execution_count": 35,
      "outputs": [
        {
          "output_type": "stream",
          "name": "stdout",
          "text": [
            "[10 15 20 25 30 35 40 45 50 55 60]\n"
          ]
        }
      ]
    },
    {
      "cell_type": "markdown",
      "source": [
        "# **Q5. Create a NumPy array of strings ['python', 'numpy', 'pandas']. Apply different case transformations (uppercase, lowercase, title case, etc.) to each element.**\n",
        "\n",
        "**Ans:**\n"
      ],
      "metadata": {
        "id": "kXgynYQ9MYcW"
      }
    },
    {
      "cell_type": "code",
      "source": [
        "import numpy as np\n",
        "\n",
        "# Create a NumPy array of strings\n",
        "arr = np.array(['python', 'numpy', 'pandas'])\n",
        "\n",
        "# Apply different case transformations\n",
        "upper_case = np.char.upper(arr)           # Uppercase\n",
        "lower_case = np.char.lower(arr)           # Lowercase\n",
        "title_case = np.char.title(arr)           # Title Case\n",
        "capitalize_case = np.char.capitalize(arr) # Capitalize\n",
        "\n",
        "# Print the results\n",
        "print(\"Uppercase:\", upper_case)\n",
        "print(\"Lowercase:\", lower_case)\n",
        "print(\"Title Case:\", title_case)\n",
        "print(\"Capitalize:\", capitalize_case)"
      ],
      "metadata": {
        "colab": {
          "base_uri": "https://localhost:8080/"
        },
        "id": "NJorJ2HJNLDc",
        "outputId": "6957f042-e882-4e0b-d8da-7a50fe9522fe"
      },
      "execution_count": 36,
      "outputs": [
        {
          "output_type": "stream",
          "name": "stdout",
          "text": [
            "Uppercase: ['PYTHON' 'NUMPY' 'PANDAS']\n",
            "Lowercase: ['python' 'numpy' 'pandas']\n",
            "Title Case: ['Python' 'Numpy' 'Pandas']\n",
            "Capitalize: ['Python' 'Numpy' 'Pandas']\n"
          ]
        }
      ]
    },
    {
      "cell_type": "markdown",
      "source": [
        "# **Q6. Generate a NumPy array of words. Insert a space between each character of every word in the array.**\n",
        "\n",
        "**Ans:**\n"
      ],
      "metadata": {
        "id": "l_6r38VfNZ3P"
      }
    },
    {
      "cell_type": "code",
      "source": [
        "import numpy as np\n",
        "\n",
        "# Create a NumPy array of words\n",
        "words = np.array(['computer', 'science', 'engineering'])\n",
        "\n",
        "# Insert a space between each character of every word\n",
        "spaced_words = np.char.join(' ', words)\n",
        "\n",
        "# Print the result\n",
        "print(spaced_words)"
      ],
      "metadata": {
        "colab": {
          "base_uri": "https://localhost:8080/"
        },
        "id": "comaiLKiOLea",
        "outputId": "0b68f7e6-bc68-4af2-90ae-f3a3c9808ceb"
      },
      "execution_count": 38,
      "outputs": [
        {
          "output_type": "stream",
          "name": "stdout",
          "text": [
            "['c o m p u t e r' 's c i e n c e' 'e n g i n e e r i n g']\n"
          ]
        }
      ]
    },
    {
      "cell_type": "markdown",
      "source": [
        "# **Q7. Create two 2D NumPy arrays and perform element-wise addition, subtraction, multiplication, and division.**\n",
        "\n",
        "**Ans:**"
      ],
      "metadata": {
        "id": "Z3a-rTv_OddG"
      }
    },
    {
      "cell_type": "code",
      "source": [
        "import numpy as np\n",
        "\n",
        "# Create two 2D NumPy arrays\n",
        "array1 = np.array([[1, 2, 3], [4, 5, 6]])\n",
        "array2 = np.array([[7, 8, 9], [10, 11, 12]])\n",
        "\n",
        "# Perform element-wise addition\n",
        "addition = array1 + array2\n",
        "\n",
        "# Perform element-wise subtraction\n",
        "subtraction = array1 - array2\n",
        "\n",
        "# Perform element-wise multiplication\n",
        "multiplication = array1 * array2\n",
        "\n",
        "# Perform element-wise division\n",
        "division = array1 / array2\n",
        "\n",
        "# Print the results\n",
        "print(\"Addition:\\n\", addition)\n",
        "print(\"Subtraction:\\n\", subtraction)\n",
        "print(\"Multiplication:\\n\", multiplication)\n",
        "print(\"Division:\\n\", division)"
      ],
      "metadata": {
        "colab": {
          "base_uri": "https://localhost:8080/"
        },
        "id": "Y8gCYLp1O8YN",
        "outputId": "4c9111f1-973c-4555-b72e-b0bc7ae96e16"
      },
      "execution_count": 39,
      "outputs": [
        {
          "output_type": "stream",
          "name": "stdout",
          "text": [
            "Addition:\n",
            " [[ 8 10 12]\n",
            " [14 16 18]]\n",
            "Subtraction:\n",
            " [[-6 -6 -6]\n",
            " [-6 -6 -6]]\n",
            "Multiplication:\n",
            " [[ 7 16 27]\n",
            " [40 55 72]]\n",
            "Division:\n",
            " [[0.14285714 0.25       0.33333333]\n",
            " [0.4        0.45454545 0.5       ]]\n"
          ]
        }
      ]
    },
    {
      "cell_type": "markdown",
      "source": [
        "# **Q8. Use NumPy to create a 5x5 identity matrix, then extract its diagonal elements.**\n",
        "\n",
        "**Ans:**"
      ],
      "metadata": {
        "id": "M8ucy0vHPVU_"
      }
    },
    {
      "cell_type": "code",
      "source": [
        "import numpy as np\n",
        "\n",
        "# Create a 5x5 identity matrix\n",
        "identity_matrix = np.eye(5)\n",
        "\n",
        "# Extract the diagonal elements\n",
        "diagonal_elements = np.diagonal(identity_matrix)\n",
        "\n",
        "# Print the results\n",
        "print(\"Identity Matrix:\\n\", identity_matrix)\n",
        "print(\"Diagonal Elements:\", diagonal_elements)"
      ],
      "metadata": {
        "colab": {
          "base_uri": "https://localhost:8080/"
        },
        "id": "2RSmN6g4P-sA",
        "outputId": "d0fe424c-3dbf-4127-92a4-253f7dcd8e99"
      },
      "execution_count": 40,
      "outputs": [
        {
          "output_type": "stream",
          "name": "stdout",
          "text": [
            "Identity Matrix:\n",
            " [[1. 0. 0. 0. 0.]\n",
            " [0. 1. 0. 0. 0.]\n",
            " [0. 0. 1. 0. 0.]\n",
            " [0. 0. 0. 1. 0.]\n",
            " [0. 0. 0. 0. 1.]]\n",
            "Diagonal Elements: [1. 1. 1. 1. 1.]\n"
          ]
        }
      ]
    },
    {
      "cell_type": "markdown",
      "source": [
        "# **Q9. Generate a NumPy array of 100 random integers between 0 and 1000. Find and display all prime numbers in this array.**\n",
        "\n",
        "**Ans:**\n"
      ],
      "metadata": {
        "id": "JeO7iW6yQBT5"
      }
    },
    {
      "cell_type": "code",
      "source": [
        "import numpy as np\n",
        "\n",
        "# Function to check if a number is prime\n",
        "def is_prime(n):\n",
        "    if n <= 1:\n",
        "        return False\n",
        "    for i in range(2, int(n**0.5) + 1):\n",
        "        if n % i == 0:\n",
        "            return False\n",
        "    return True\n",
        "\n",
        "# Generate a NumPy array of 100 random integers between 0 and 1000\n",
        "random_integers = np.random.randint(0, 1000, size=100)\n",
        "\n",
        "# Find and display all prime numbers in the array\n",
        "prime_numbers = [num for num in random_integers if is_prime(num)]\n",
        "\n",
        "# Print the results\n",
        "print(\"Random Integers:\", random_integers)\n",
        "print(\"Prime Numbers:\", prime_numbers)"
      ],
      "metadata": {
        "colab": {
          "base_uri": "https://localhost:8080/"
        },
        "id": "k1DUCtiWQkb1",
        "outputId": "0d00b397-d039-41dc-a1ea-6587436d1716"
      },
      "execution_count": 41,
      "outputs": [
        {
          "output_type": "stream",
          "name": "stdout",
          "text": [
            "Random Integers: [ 37 179  38 189 369 732 366 813 833 683 598 640 782 182  22 885 535 993\n",
            " 613 192 266 614 588 964 294 829 346 634 766 421 839 198 463 249 392 618\n",
            " 182 198 354 666 693 554 583  34  98  14 951 727 490 821 837  31 400 693\n",
            " 244 312 659 641 142 207 594 194 974 178  18 908  15 605 800 903 188 176\n",
            " 790 270  51 164 708 113 183 662 280 891 590 394 839 500 973 779 140 999\n",
            " 796 783 748 927 202 505 369 316 835 562]\n",
            "Prime Numbers: [37, 179, 683, 613, 829, 421, 839, 463, 727, 821, 31, 659, 641, 113, 839]\n"
          ]
        }
      ]
    },
    {
      "cell_type": "markdown",
      "source": [
        "# **Q10. Create a NumPy array representing daily temperatures for a month. Calculate and display the weekly averages.**\n",
        "\n",
        "**Ans:**"
      ],
      "metadata": {
        "id": "VlU4-p_YQqxV"
      }
    },
    {
      "cell_type": "code",
      "source": [
        "import numpy as np\n",
        "\n",
        "# Create a NumPy array representing daily temperatures for a month (30 days)\n",
        "np.random.seed(0)  # For reproducibility\n",
        "daily_temperatures = np.random.uniform(32, 90, 30)  # Fahrenheit\n",
        "\n",
        "# Reshape array to 5 weeks, with the last week having fewer days if needed\n",
        "# The total number of elements in the reshaped array must match the original array\n",
        "num_weeks = 5  # Change this to the desired number of weeks\n",
        "weekly_temperatures = daily_temperatures.reshape(num_weeks, -1) #-1 is inferred from the length of the array and remaining dimension which is 5\n",
        "# Calculate weekly averages\n",
        "weekly_averages = np.mean(weekly_temperatures, axis=1)\n",
        "\n",
        "# Display daily temperatures and weekly averages\n",
        "print(\"Daily Temperatures:\")\n",
        "print(daily_temperatures)\n",
        "\n",
        "print(\"\\nWeekly Temperatures:\")\n",
        "print(weekly_temperatures)\n",
        "\n",
        "print(\"\\nWeekly Averages:\")\n",
        "for i, avg in enumerate(weekly_averages):\n",
        "    print(f\"Week {i + 1}: {avg:.2f}°F\")"
      ],
      "metadata": {
        "colab": {
          "base_uri": "https://localhost:8080/"
        },
        "id": "IfzBXsZ5RfDw",
        "outputId": "42a3b92c-3bdd-44f1-ea3d-7514b1bece8a"
      },
      "execution_count": 42,
      "outputs": [
        {
          "output_type": "stream",
          "name": "stdout",
          "text": [
            "Daily Temperatures:\n",
            "[63.83118323 73.48098325 66.96027581 63.60322461 56.57197836 69.46185856\n",
            " 57.38005825 83.72283405 87.89244011 54.23960809 77.92005221 62.67590535\n",
            " 64.94658454 85.68460502 36.12009138 37.05349938 33.17266705 80.29195104\n",
            " 77.13309156 82.4607046  88.75986385 78.35119672 58.76580301 77.27069222\n",
            " 38.8599167  69.11541924 40.31449067 86.79079719 62.26720266 56.05039252]\n",
            "\n",
            "Weekly Temperatures:\n",
            "[[63.83118323 73.48098325 66.96027581 63.60322461 56.57197836 69.46185856]\n",
            " [57.38005825 83.72283405 87.89244011 54.23960809 77.92005221 62.67590535]\n",
            " [64.94658454 85.68460502 36.12009138 37.05349938 33.17266705 80.29195104]\n",
            " [77.13309156 82.4607046  88.75986385 78.35119672 58.76580301 77.27069222]\n",
            " [38.8599167  69.11541924 40.31449067 86.79079719 62.26720266 56.05039252]]\n",
            "\n",
            "Weekly Averages:\n",
            "Week 1: 65.65°F\n",
            "Week 2: 70.64°F\n",
            "Week 3: 56.21°F\n",
            "Week 4: 77.12°F\n",
            "Week 5: 58.90°F\n"
          ]
        }
      ]
    }
  ]
}